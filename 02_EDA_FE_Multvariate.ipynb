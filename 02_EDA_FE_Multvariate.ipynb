{
 "cells": [
  {
   "cell_type": "markdown",
   "metadata": {},
   "source": [
    "# Project setup"
   ]
  },
  {
   "cell_type": "code",
   "execution_count": 1,
   "metadata": {},
   "outputs": [],
   "source": [
    "from IPython.core.interactiveshell import InteractiveShell\n",
    "InteractiveShell.ast_node_interactivity = \"all\""
   ]
  },
  {
   "cell_type": "code",
   "execution_count": 2,
   "metadata": {},
   "outputs": [
    {
     "data": {
      "text/plain": [
       "<module 'src.modules.data_cleaning' from '/Users/ds/data_science/demand_prediction_data/src/modules/data_cleaning.py'>"
      ]
     },
     "execution_count": 2,
     "metadata": {},
     "output_type": "execute_result"
    }
   ],
   "source": [
    "from importlib import reload\n",
    "import src.modules.data_cleaning as dc\n",
    "\n",
    "# Reload the data_cleaning module to ensure that any changes made to it are reflected in this notebook\n",
    "reload(dc)"
   ]
  },
  {
   "cell_type": "code",
   "execution_count": 3,
   "metadata": {},
   "outputs": [],
   "source": [
    "import os\n",
    "\n",
    "global DATA_FOLDER, SRC_FOLDER, MODULES_FOLDER, TESTS_FOLDER, OUTPUT_FOLDER, FIGURES_FOLDER\n",
    "\n",
    "# Define folder paths as global variables\n",
    "DATA_FOLDER = \"data/\"\n",
    "SRC_FOLDER = \"src/\"\n",
    "MODULES_FOLDER = \"src/modules/\"\n",
    "TESTS_FOLDER = \"src/tests/\"\n",
    "OUTPUT_FOLDER = \"output/\"\n",
    "FIGURES_FOLDER = \"output/figures/\"\n",
    "\n",
    "# folders = [\n",
    "#     DATA_FOLDER,\n",
    "#     SRC_FOLDER,\n",
    "#     MODULES_FOLDER,\n",
    "#     TESTS_FOLDER,\n",
    "#     OUTPUT_FOLDER,\n",
    "#     FIGURES_FOLDER,\n",
    "# ]\n",
    "\n",
    "# for folder in folders:\n",
    "#     if not os.path.exists(folder):\n",
    "#         os.makedirs(folder)\n",
    "#         print(f\"Created folder: {folder}\")\n",
    "#     else:\n",
    "#         print(f\"Folder already exists: {folder}\")\n"
   ]
  },
  {
   "cell_type": "code",
   "execution_count": 4,
   "metadata": {},
   "outputs": [],
   "source": [
    "global DATA_PATH, DATA_ORIGINAL_PATH, DATA_GENERATED_PATH, IMAGE_GENERATED_PATH\n",
    "\n",
    "DATA_PATH = DATA_FOLDER\n",
    "DATA_ORIGINAL_PATH = DATA_FOLDER\n",
    "DATA_GENERATED_PATH = OUTPUT_FOLDER\n",
    "IMAGE_GENERATED_PATH = FIGURES_FOLDER\n",
    "\n",
    "\n",
    "global COLORS\n",
    "\n",
    "COLORS = ['#636EFA', '#EF553B', '#00CC96', '#AB63FA', '#FFA15A', '#19D3F3', '#FF6692', '#B6E880', '#FF97FF', '#FECB52']"
   ]
  },
  {
   "cell_type": "code",
   "execution_count": 5,
   "metadata": {},
   "outputs": [],
   "source": [
    "global LSTM1_OUT_PATH\n",
    "LSTM1_OUT_PATH = DATA_GENERATED_PATH + 'LSTM_1/'"
   ]
  },
  {
   "cell_type": "markdown",
   "metadata": {},
   "source": [
    "# EDA"
   ]
  },
  {
   "cell_type": "markdown",
   "metadata": {},
   "source": [
    "## Accessing the Database"
   ]
  },
  {
   "cell_type": "code",
   "execution_count": 6,
   "metadata": {},
   "outputs": [],
   "source": [
    "# read the parquet file\n",
    "import pandas as pd\n",
    "df = pd.read_parquet(DATA_GENERATED_PATH + 'ETL_finished.parquet')"
   ]
  },
  {
   "cell_type": "code",
   "execution_count": 7,
   "metadata": {},
   "outputs": [
    {
     "data": {
      "text/plain": [
       "Timestamp('2019-06-01 00:00:00')"
      ]
     },
     "execution_count": 7,
     "metadata": {},
     "output_type": "execute_result"
    },
    {
     "data": {
      "text/plain": [
       "Timestamp('2022-01-14 00:00:00')"
      ]
     },
     "execution_count": 7,
     "metadata": {},
     "output_type": "execute_result"
    }
   ],
   "source": [
    "# min max in the df.index\n",
    "df.index.min()\n",
    "df.index.max()"
   ]
  },
  {
   "cell_type": "code",
   "execution_count": 8,
   "metadata": {},
   "outputs": [],
   "source": [
    "\n",
    "\n",
    "# # Check pairing for all combinations\n",
    "# dc.check_all_column_pairings(df)\n",
    "\n"
   ]
  },
  {
   "attachments": {},
   "cell_type": "markdown",
   "metadata": {},
   "source": [
    "Output:\n",
    "\n",
    "* brand_id and brand_name are paired 1-to-1\n",
    "* group0_id and group0 are paired 1-to-1\n",
    "* group1_id and group1 are paired 1-to-1\n",
    "* group2_id and group2 are paired 1-to-1"
   ]
  },
  {
   "cell_type": "code",
   "execution_count": 9,
   "metadata": {},
   "outputs": [
    {
     "name": "stdout",
     "output_type": "stream",
     "text": [
      "+---------------------+------------+---------------+-------------+------------+-----------------+-----------------------+-------------+---------------------+--------------+-----------+----------+-----------------+---------------------+----------------------------------------+------------------+------------+------------------+-------------+-----------+-------------+-----------------+-------------+-------------------------+-------------+-------------+-------------+-------------+-------------+\n",
      "| date                |   order_id | payment       | item_code   |   quantity |   gift_quantity |   unit_price_vat_excl |   unit_cogs |   unit_rrp_vat_excl | department   | channel   | owner    | site            | CreatedAt           | item_name                              | style            |   brand_id | brand_name       |   group0_id | group0    |   group1_id | group1          |   group2_id | group2                  | category    | gender      | age         | color       | size        |\n",
      "|                     |     string | object        | object      |      int64 |           int64 |               float64 |     float64 |             float64 | object       | object    | object   | object          | datetime64[ns]      | object                                 | object           |     string | object           |      string | object    |      string | object          |      string | object                  | object      | object      | object      | object      | object      |\n",
      "|                     |     NaN: 0 | NaN: 0        | NaN: 0      |     NaN: 0 |          NaN: 0 |                NaN: 0 |      NaN: 0 |              NaN: 0 | NaN: 0       | NaN: 0    | NaN: 0   | NaN: 0          | NaN: 0              | NaN: 0                                 | NaN: 0           |     NaN: 0 | NaN: 0           |      NaN: 0 | NaN: 0    |      NaN: 0 | NaN: 0          |      NaN: 0 | NaN: 0                  | NaN: 0      | NaN: 0      | NaN: 0      | NaN: 0      | NaN: 0      |\n",
      "|---------------------+------------+---------------+-------------+------------+-----------------+-----------------------+-------------+---------------------+--------------+-----------+----------+-----------------+---------------------+----------------------------------------+------------------+------------+------------------+-------------+-----------+-------------+-----------------+-------------+-------------------------+-------------+-------------+-------------+-------------+-------------|\n",
      "| 2019-06-01 00:00:00 | 1900079924 | CARD_CSOB     | ZB00023833  |          1 |               0 |              22.3267  |  15.5039    |            32.0008  | E-COMMER     | Sport.cC  | Sport.cO | top4sport.cz    | 2019-06-01 09:37:00 | MK1 Short 7in                          | 1312292-001      |        106 | Under Armour     |         200 | Apparel   |         240 | Pants           |         242 | Shorts                  | fitness     | men         | adults      | Black       | M           |\n",
      "| 2019-06-01 00:00:00 | 1900079006 | COD           | ZB00000154  |          1 |               0 |              10.3787  |   8.06938   |            15.9845  | E-COMMER     | RUN.czC   | RUN.czO  | top4running.cz  | 2019-06-01 06:26:00 | W NK RUN TOP SS                        | 890353-100       |         84 | Nike             |         200 | Apparel   |         230 | T-Shirts        |           0 | unspecified             | running     | women       | adults      | White       | XS          |\n",
      "| 2019-06-01 00:00:00 | 1900079006 | COD           | ZB00007330  |          1 |               0 |              14.9593  |  10.7171    |            25.3058  | E-COMMER     | RUN.czC   | RUN.czO  | top4running.cz  | 2019-06-01 06:26:00 | W NK DRY MILER TOP SS                  | 932499-823       |         84 | Nike             |         200 | Apparel   |         230 | T-Shirts        |           0 | unspecified             | running     | women       | adults      | Pink        | XS          |\n",
      "| 2019-06-01 00:00:00 | 1900079006 | COD           | ZB00018948  |          1 |               0 |              25.5942  |  13.007     |            25.5942  | E-COMMER     | RUN.czC   | RUN.czO  | top4running.cz  | 2019-06-01 06:26:00 | W NK MILER TANK SURF                   | aq5179-686       |         84 | Nike             |         200 | Apparel   |         230 | T-Shirts        |         235 | Tank                    | running     | women       | adults      | Pink        | XS          |\n",
      "| 2019-06-01 00:00:00 | 1900079006 | COD           | ZB00022416  |          1 |               0 |              28.7977  |  14.6349    |            28.7977  | E-COMMER     | RUN.czC   | RUN.czO  | top4running.cz  | 2019-06-01 06:26:00 | W NK AIR SHORT                         | aq5634-100       |         84 | Nike             |         200 | Apparel   |         240 | Pants           |         242 | Shorts                  | running     | women       | adults      | White       | XS          |\n",
      "| 2019-06-01 00:00:00 | 1900079006 | COD           | S113        |          1 |               0 |               0.92907 |   0         |             0.92907 | E-COMMER     | RUN.czC   | RUN.czO  | top4running.cz  | 2019-06-01 06:26:00 | Platba                                 | unspecified      |         -1 | no_manufacturer  |         999 | Other     |           0 | unspecified     |           0 | unspecified             | unspecified | unspecified | unspecified | unspecified | unspecified |\n",
      "| 2019-06-01 00:00:00 | 1900079010 | COD           | ZB00016698  |          1 |               0 |             132.295   |  72.662     |           188.962   | E-COMMER     | FTB.czC   | FTB.czO  | 11teamsports.cz | 2019-06-01 06:26:00 | X 181 FG                               | bb9347           |         85 | adidas           |         100 | Footwear  |         110 | Football shoes  |           0 | unspecified             | football    | men         | adults      | Red         | 42,7        |\n",
      "| 2019-06-01 00:00:00 | 1900079010 | COD           | ZB00026001  |          1 |               0 |             132.295   |  83.0682    |           188.962   | E-COMMER     | FTB.czC   | FTB.czO  | 11teamsports.cz | 2019-06-01 06:26:00 | X 181 SG                               | bb9359           |         85 | adidas           |         100 | Footwear  |         110 | Football shoes  |           0 | unspecified             | football    | men         | adults      | Red         | 43,3        |\n",
      "| 2019-06-01 00:00:00 | 1900079010 | COD           | S113        |          1 |               0 |               0.92907 |   0         |             0.92907 | E-COMMER     | FTB.czC   | FTB.czO  | 11teamsports.cz | 2019-06-01 06:26:00 | Platba                                 | unspecified      |         -1 | no_manufacturer  |         999 | Other     |           0 | unspecified     |           0 | unspecified             | unspecified | unspecified | unspecified | unspecified | unspecified |\n",
      "| 2019-06-01 00:00:00 | 1900079011 | CARD_CSOB     | ZB00009549  |          1 |               0 |              17.9384  |  16.4775    |            25.5942  | E-COMMER     | FTB.czC   | FTB.czO  | 11teamsports.cz | 2019-06-01 09:31:00 | HG SS                                  | 1257468-001      |        106 | Under Armour     |         200 | Apparel   |         230 | T-Shirts        |         236 | Compression shirts      | fitness     | men         | adults      | Black       | M           |\n",
      "| 2019-06-01 00:00:00 | 1900079011 | CARD_CSOB     | ZB00026129  |          1 |               0 |               6.37442 |   3.94884   |            10.5388  | E-COMMER     | FTB.czC   | FTB.czO  | 11teamsports.cz | 2019-06-01 09:31:00 | PER CREW T 3PP                         | aa2330           |         85 | adidas           |         200 | Apparel   |         290 | Socks           |           0 | unspecified             | fitness     | unisex      | adults      | Black       | 39-42       |\n",
      "| 2019-06-01 00:00:00 | 1900079011 | CARD_CSOB     | ZB00000044  |          1 |               0 |              48.0171  |  28.0554    |            80.05    | E-COMMER     | FTB.czC   | FTB.czO  | 11teamsports.cz | 2019-06-01 09:31:00 | TEAM Match Ball                        | cz2235           |         85 | adidas           |         300 | Equipment |         320 | Balls           |           0 | unspecified             | football    | men         | adults      | White       | 5           |\n",
      "| 2019-06-01 00:00:00 | 1900079011 | CARD_CSOB     | S114        |         -1 |               0 |               3.2031  |   0         |             3.2031  | E-COMMER     | FTB.czC   | FTB.czO  | 11teamsports.cz | 2019-06-01 09:31:00 | Sleva                                  | unspecified      |         -1 | no_manufacturer  |         999 | Other     |           0 | unspecified     |           0 | unspecified             | unspecified | unspecified | unspecified | unspecified | unspecified |\n",
      "| 2019-06-01 00:00:00 | 1900079027 | GOPAY_CARD    | ZB00026129  |          1 |               0 |               6.55432 |   3.97054   |            10.0866  | E-COMMER     | RUN.deC   | RUN.deO  | top4running.de  | 2019-06-01 06:31:00 | PER CREW T 3PP                         | aa2330           |         85 | adidas           |         200 | Apparel   |         290 | Socks           |           0 | unspecified             | fitness     | unisex      | adults      | Black       | 39-42       |\n",
      "| 2019-06-01 00:00:00 | 1900079030 | COD           | ZB00025621  |          1 |               0 |              37.8628  |  14.4395    |            44.5256  | E-COMMER     | FTB.czC   | FTB.czO  | 11teamsports.cz | 2019-06-01 06:32:00 | M NK Team Club Hoody                   | 658498-463       |         84 | Nike             |         200 | Apparel   |         220 | Sweatshirts     |         221 | With hood               | lifestyle   | men         | adults      | unspecified | L           |\n",
      "| 2019-06-01 00:00:00 | 1900079030 | COD           | ZB00026033  |          1 |               0 |              26.8116  |  14.0167    |            44.5256  | E-COMMER     | FTB.czC   | FTB.czO  | 11teamsports.cz | 2019-06-01 06:32:00 | Nike Team Club Crew                    | 658681-463       |         84 | Nike             |         200 | Apparel   |         220 | Sweatshirts     |           0 | unspecified             | football    | men         | adults      | Blue        | L           |\n",
      "| 2019-06-01 00:00:00 | 1900079030 | COD           | ZB00000094  |          1 |               0 |              11.2756  |   5.48101   |            14.3826  | E-COMMER     | FTB.czC   | FTB.czO  | 11teamsports.cz | 2019-06-01 06:32:00 | PARK II KNIT SHORT NB                  | 725887-463       |         84 | Nike             |         200 | Apparel   |         240 | Pants           |         242 | Shorts                  | football    | men         | adults      | Blue        | L           |\n",
      "| 2019-06-01 00:00:00 | 1900079030 | COD           | ZB00026511  |          1 |               0 |              16.5291  |   8.37752   |            23.9926  | E-COMMER     | FTB.czC   | FTB.czO  | 11teamsports.cz | 2019-06-01 06:32:00 | CORE18 PES PNT                         | cv3585           |         85 | adidas           |         200 | Apparel   |         240 | Pants           |           0 | unspecified             | football    | men         | adults      | Blue        | L           |\n",
      "| 2019-06-01 00:00:00 | 1900078998 | CARD_CSOB     | S101        |          1 |               0 |               1.56977 |   0         |             1.56977 | E-COMMER     | FTB.czC   | FTB.czO  | 11teamsports.cz | 2019-06-01 06:26:00 | Dopravné                               | unspecified      |         -1 | no_manufacturer  |         999 | Other     |           0 | unspecified     |           0 | unspecified             | unspecified | unspecified | unspecified | unspecified | unspecified |\n",
      "| 2019-06-01 00:00:00 | 1900078998 | CARD_CSOB     | ZB00025631  |          1 |               0 |              21.8143  |  11.781     |            35.2039  | E-COMMER     | FTB.czC   | FTB.czO  | 11teamsports.cz | 2019-06-01 06:26:00 | CORE18 RN JKT                          | ce9048           |         85 | adidas           |         200 | Apparel   |         215 | Jackets         |           0 | unspecified             | football    | men         | adults      | Black       | M           |\n",
      "| 2019-06-01 00:00:00 | 1900078996 | COD           | ZB00026793  |          1 |               0 |              45.1998  |  28.0252    |            58.3684  | E-COMMER     | FTB.skC   | FTB.skO  | 11teamsports.sk | 2019-06-01 09:34:00 | M NSW NIKE AIR HOODIE PO FLC           | ar1817-010       |         84 | Nike             |         200 | Apparel   |         220 | Sweatshirts     |         221 | With hood               | football    | men         | adults      | Black       | M           |\n",
      "| 2019-06-01 00:00:00 | 1900078992 | COD           | ZB00026483  |          1 |               0 |               7.74962 |   6.05271   |            11.0535  | E-COMMER     | FTB.huC   | FTB.huO  | 11teamsports.hu | 2019-06-01 06:25:00 | NK GK MATCH JR-FA18                    | gs0368-095       |         84 | Nike             |         300 | Equipment |         280 | Gloves          |         327 | Football gloves         | football    | unisex      | kids        | Silver      | 8           |\n",
      "| 2019-06-01 00:00:00 | 1900080152 | CARD_CSOB     | ZB00013828  |          1 |               0 |              25.3058  |  11.2612    |             0       | E-COMMER     | RUN.czC   | RUN.czO  | top4running.cz  | 2019-06-01 09:32:00 | W NP TOP SS ALL OVER MESH Zlatá tretra | 889540-617-zt    |         84 | Nike             |         200 | Apparel   |         230 | T-Shirts        |           0 | unspecified             | running     | women       | adults      | Pink        | S           |\n",
      "| 2019-06-01 00:00:00 | 1900080152 | CARD_CSOB     | S101        |          1 |               0 |               2.21008 |   0         |             2.21008 | E-COMMER     | RUN.czC   | RUN.czO  | top4running.cz  | 2019-06-01 09:32:00 | Dopravné                               | unspecified      |         -1 | no_manufacturer  |         999 | Other     |           0 | unspecified     |           0 | unspecified             | unspecified | unspecified | unspecified | unspecified | unspecified |\n",
      "| 2019-06-01 00:00:00 | 1900079354 | COD           | ZB00005571  |          2 |               0 |              53.1755  |   8.1345    |            57.7843  | E-COMMER     | RUN.roC   | RUN.roO  | top4running.ro  | 2019-06-01 08:51:00 | NIKE ZOOM RIVAL S 9                    | 907564-017       |         84 | Nike             |         100 | Footwear  |         120 | Running shoes   |         123 | Spikes                  | running     | unisex      | adults      | Black       | 42          |\n",
      "| 2019-06-01 00:00:00 | 1900078889 | PAYPAL        | ZB00023011  |          1 |               0 |              85.096   |  46.1446    |            92.5009  | E-COMMER     | RUN.deC   | RUN.deO  | top4running.de  | 2019-06-01 08:48:00 | NIKE ZOOM ROTATIONAL 6                 | 685131-600       |         84 | Nike             |         100 | Footwear  |         120 | Running shoes   |         123 | Spikes                  | running     | unisex      | adults      | Dark red    | 39          |\n",
      "| 2019-06-01 00:00:00 | 1900078912 | CARD_CSOB     | ZB00026115  |          1 |               0 |              15.3756  |   7.22403   |            20.7891  | E-COMMER     | FTB.czC   | FTB.czO  | 11teamsports.cz | 2019-06-01 06:35:00 | B NP SHORT                             | 858226-011       |         84 | Nike             |         200 | Apparel   |         240 | Pants           |         244 | Compression pants       | fitness     | unisex      | kids        | Black       | L           |\n",
      "| 2019-06-01 00:00:00 | 1900078912 | CARD_CSOB     | S101        |          1 |               0 |               2.21008 |   0         |             2.21008 | E-COMMER     | FTB.czC   | FTB.czO  | 11teamsports.cz | 2019-06-01 06:35:00 | Dopravné                               | unspecified      |         -1 | no_manufacturer  |         999 | Other     |           0 | unspecified     |           0 | unspecified             | unspecified | unspecified | unspecified | unspecified | unspecified |\n",
      "| 2019-06-01 00:00:00 | 1900078912 | CARD_CSOB     | S114        |         -1 |               0 |               3.2031  |   0         |             3.2031  | E-COMMER     | FTB.czC   | FTB.czO  | 11teamsports.cz | 2019-06-01 06:35:00 | Sleva                                  | unspecified      |         -1 | no_manufacturer  |         999 | Other     |           0 | unspecified     |           0 | unspecified             | unspecified | unspecified | unspecified | unspecified | unspecified |\n",
      "| 2019-06-01 00:00:00 | 1900078939 | CARD_CSOB     | ZB00025744  |          1 |               0 |              76.8787  |  46.0527    |            96.0663  | E-COMMER     | FTB.czC   | FTB.czO  | 11teamsports.cz | 2019-06-01 09:31:00 | VAPOR 12 PRO FG                        | ah7382-077       |         84 | Nike             |         100 | Footwear  |         110 | Football shoes  |           0 | unspecified             | football    | men         | adults      | Black       | 44          |\n",
      "| 2019-06-01 00:00:00 | 1900079030 | COD           | S113        |          1 |               0 |               0.92907 |   0         |             0.92907 | E-COMMER     | FTB.czC   | FTB.czO  | 11teamsports.cz | 2019-06-01 06:32:00 | Platba                                 | unspecified      |         -1 | no_manufacturer  |         999 | Other     |           0 | unspecified     |           0 | unspecified             | unspecified | unspecified | unspecified | unspecified | unspecified |\n",
      "| 2019-06-01 00:00:00 | 1900078940 | CARD_CSOB     | ZB00025745  |          1 |               0 |              45.6469  |  24.0399    |            60.8302  | E-COMMER     | FTB.czC   | FTB.czO  | 11teamsports.cz | 2019-06-01 09:31:00 | VAPOR 12 ACADEMY SG                    | ah7376-070       |         84 | Nike             |         100 | Footwear  |         110 | Football shoes  |           0 | unspecified             | football    | men         | adults      | Silver      | 45          |\n",
      "| 2019-06-01 00:00:00 | 1900078940 | CARD_CSOB     | S114        |         -1 |               0 |               3.2031  |   0         |             3.2031  | E-COMMER     | FTB.czC   | FTB.czO  | 11teamsports.cz | 2019-06-01 09:31:00 | Sleva                                  | unspecified      |         -1 | no_manufacturer  |         999 | Other     |           0 | unspecified     |           0 | unspecified             | unspecified | unspecified | unspecified | unspecified | unspecified |\n",
      "| 2019-06-01 00:00:00 | 1900078963 | COD           | ZB00025954  |          1 |               0 |              40.643   |  26.7198    |            65.5681  | E-COMMER     | FTB.huC   | FTB.huO  | 11teamsports.hu | 2019-06-01 06:25:00 | M NK DRY SQD17 TRK SUIT K              | 832325-702       |         84 | Nike             |         200 | Apparel   |         250 | Tracksuits      |           0 | unspecified             | football    | men         | adults      | Green       | M           |\n",
      "| 2019-06-01 00:00:00 | 1900078989 | COD           | ZB00025779  |          1 |               0 |              20.7891  |   9.73256   |            20.7891  | E-COMMER     | STR.czC   | STR.czO  | tint-store.cz   | 2019-06-01 06:25:00 | Adidas Originals bucket hat hut        | dv0863           |        232 | adidas Originals |         200 | Apparel   |         210 | Caps            |           0 | unspecified             | lifestyle   | unisex      | adults      | Black       | OSFM        |\n",
      "| 2019-06-01 00:00:00 | 1900078989 | COD           | S101        |          1 |               0 |               1.56977 |   0         |             1.56977 | E-COMMER     | STR.czC   | STR.czO  | tint-store.cz   | 2019-06-01 06:25:00 | Dopravné                               | unspecified      |         -1 | no_manufacturer  |         999 | Other     |           0 | unspecified     |           0 | unspecified             | unspecified | unspecified | unspecified | unspecified | unspecified |\n",
      "| 2019-06-01 00:00:00 | 1900078989 | COD           | S113        |          1 |               0 |               0.92907 |   0         |             0.92907 | E-COMMER     | STR.czC   | STR.czO  | tint-store.cz   | 2019-06-01 06:25:00 | Platba                                 | unspecified      |         -1 | no_manufacturer  |         999 | Other     |           0 | unspecified     |           0 | unspecified             | unspecified | unspecified | unspecified | unspecified | unspecified |\n",
      "| 2019-06-01 00:00:00 | 1900078990 | COD           | ZB00025779  |          1 |               0 |              20.7891  |   9.73256   |            20.7891  | E-COMMER     | STR.czC   | STR.czO  | tint-store.cz   | 2019-06-01 08:01:00 | Adidas Originals bucket hat hut        | dv0863           |        232 | adidas Originals |         200 | Apparel   |         210 | Caps            |           0 | unspecified             | lifestyle   | unisex      | adults      | Black       | OSFM        |\n",
      "| 2019-06-01 00:00:00 | 1900078990 | COD           | S101        |          1 |               0 |               1.56977 |   0         |             1.56977 | E-COMMER     | STR.czC   | STR.czO  | tint-store.cz   | 2019-06-01 08:01:00 | Dopravné                               | unspecified      |         -1 | no_manufacturer  |         999 | Other     |           0 | unspecified     |           0 | unspecified             | unspecified | unspecified | unspecified | unspecified | unspecified |\n",
      "| 2019-06-01 00:00:00 | 1900078990 | COD           | S113        |          1 |               0 |               0.92907 |   0         |             0.92907 | E-COMMER     | STR.czC   | STR.czO  | tint-store.cz   | 2019-06-01 08:01:00 | Platba                                 | unspecified      |         -1 | no_manufacturer  |         999 | Other     |           0 | unspecified     |           0 | unspecified             | unspecified | unspecified | unspecified | unspecified | unspecified |\n",
      "| 2019-06-01 00:00:00 | 1900078940 | CARD_CSOB     | S101        |          1 |               0 |               1.56977 |   0         |             1.56977 | E-COMMER     | FTB.czC   | FTB.czO  | 11teamsports.cz | 2019-06-01 09:31:00 | Dopravné                               | unspecified      |         -1 | no_manufacturer  |         999 | Other     |           0 | unspecified     |           0 | unspecified             | unspecified | unspecified | unspecified | unspecified | unspecified |\n",
      "| 2019-06-01 00:00:00 | 1900080152 | CARD_CSOB     | ZB00000151  |          1 |               0 |              25.3058  |   9.0531    |             0       | E-COMMER     | RUN.czC   | RUN.czO  | top4running.cz  | 2019-06-01 09:32:00 | W NP TOP SS ALL OVER MESH Zlatá tretra | 889540-010-zt    |         84 | Nike             |         200 | Apparel   |         230 | T-Shirts        |           0 | unspecified             | running     | women       | adults      | Black       | S           |\n",
      "| 2019-06-01 00:00:00 | 1900079037 | CARD_CSOB     | ZB00025619  |          1 |               0 |              24.7934  |  11.0574    |            38.119   | E-COMMER     | FTB.czC   | VO_B_FTO | 11teamsports.cz | 2019-06-01 06:31:00 | ACADEMY14 SDLN WVN JKT - TEAMSPORT     | 588473-739       |         84 | Nike             |         200 | Apparel   |         215 | Jackets         |           0 | unspecified             | football    | unisex      | adults      | Yellow      | M           |\n",
      "| 2019-06-01 00:00:00 | 1900079037 | CARD_CSOB     | S101        |          1 |               0 |               1.56977 |   0         |             1.56977 | E-COMMER     | FTB.czC   | VO_B_FTO | 11teamsports.cz | 2019-06-01 06:31:00 | Dopravné                               | unspecified      |         -1 | no_manufacturer  |         999 | Other     |           0 | unspecified     |           0 | unspecified             | unspecified | unspecified | unspecified | unspecified | unspecified |\n",
      "| 2019-06-01 00:00:00 | 1900079122 | COD           | ZB00026709  |          1 |               0 |              38.4631  |  24.8899    |            63.8106  | E-COMMER     | FIT.roC   | FIT.roO  | top4fitness.ro  | 2019-06-01 06:34:00 | W NSW AV15 JKT KNT                     | 837458-100       |         84 | Nike             |         200 | Apparel   |         215 | Jackets         |           0 | unspecified             | football    | women       | adults      | Silver      | S           |\n",
      "| 2019-06-01 00:00:00 | 1900079924 | CARD_CSOB     | ZB00000394  |          1 |               0 |              23.0314  |  17.0407    |            25.5942  | E-COMMER     | Sport.cC  | Sport.cO | top4sport.cz    | 2019-06-01 09:37:00 | UA SPEED STRIDE SHORTSLEEVE-BLU        | 1326564-437      |        106 | Under Armour     |         200 | Apparel   |         230 | T-Shirts        |           0 | unspecified             | running     | men         | adults      | Blue        | S/M         |\n",
      "| 2019-06-01 00:00:00 | 1900079924 | CARD_CSOB     | S101        |          1 |               0 |               1.56977 |   0         |             1.56977 | E-COMMER     | Sport.cC  | Sport.cO | top4sport.cz    | 2019-06-01 09:37:00 | Dopravné                               | unspecified      |         -1 | no_manufacturer  |         999 | Other     |           0 | unspecified     |           0 | unspecified             | unspecified | unspecified | unspecified | unspecified | unspecified |\n",
      "| 2019-06-01 00:00:00 | 1900079924 | CARD_CSOB     | S114        |         -1 |               0 |               3.2031  |   0         |             3.2031  | E-COMMER     | Sport.cC  | Sport.cO | top4sport.cz    | 2019-06-01 09:37:00 | Sleva                                  | unspecified      |         -1 | no_manufacturer  |         999 | Other     |           0 | unspecified     |           0 | unspecified             | unspecified | unspecified | unspecified | unspecified | unspecified |\n",
      "| 2019-06-01 00:00:00 | 1900079845 | COD           | S114        |         -1 |               0 |               3.2031  |   0         |             3.2031  | E-COMMER     | STR.czC   | STR.czO  | tint-store.cz   | 2019-06-01 09:32:00 | Sleva                                  | unspecified      |         -1 | no_manufacturer  |         999 | Other     |           0 | unspecified     |           0 | unspecified             | unspecified | unspecified | unspecified | unspecified | unspecified |\n",
      "| 2019-06-01 00:00:00 | 1900079845 | COD           | S113        |          1 |               0 |               0.92907 |   0         |             0.92907 | E-COMMER     | STR.czC   | STR.czO  | tint-store.cz   | 2019-06-01 09:32:00 | Platba                                 | unspecified      |         -1 | no_manufacturer  |         999 | Other     |           0 | unspecified     |           0 | unspecified             | unspecified | unspecified | unspecified | unspecified | unspecified |\n",
      "| 2019-06-01 00:00:00 | 1900079845 | COD           | S101        |          1 |               0 |               2.85078 |   0         |             2.85078 | E-COMMER     | STR.czC   | STR.czO  | tint-store.cz   | 2019-06-01 09:32:00 | Dopravné                               | unspecified      |         -1 | no_manufacturer  |         999 | Other     |           0 | unspecified     |           0 | unspecified             | unspecified | unspecified | unspecified | unspecified | unspecified |\n",
      "| 2019-06-01 00:00:00 | 1900079845 | COD           | ZB00025984  |          1 |               0 |              57.6271  |  28.3442    |            57.6271  | E-COMMER     | STR.czC   | STR.czO  | tint-store.cz   | 2019-06-01 09:32:00 | DEERUPT RUNNER J                       | f34295           |        232 | adidas Originals |         100 | Footwear  |         199 | Other Footwear  |           0 | unspecified             | lifestyle   | unisex      | kids        | White       | 39,3        |\n",
      "| 2019-06-01 00:00:00 | 1900080490 | CARD_CSOB     | ZB00015845  |          1 |               0 |             114.165   |  87.5407    |           190.275   | E-COMMER     | FTB.czC   | FTB.czO  | 11teamsports.cz | 2019-06-01 11:57:00 | NEMEZIZ 191 FG                         | f34408           |         85 | adidas           |         100 | Footwear  |         110 | Football shoes  |           0 | unspecified             | football    | men         | adults      | Red         | 46          |\n",
      "| 2019-06-01 00:00:00 | 1900080490 | CARD_CSOB     | ZB00015803  |          1 |               0 |             114.165   |  87.5415    |           190.275   | E-COMMER     | FTB.czC   | FTB.czO  | 11teamsports.cz | 2019-06-01 11:57:00 | NEMEZIZ 191 SG                         | f99855           |         85 | adidas           |         100 | Footwear  |         110 | Football shoes  |           0 | unspecified             | football    | men         | adults      | Red         | 46          |\n",
      "| 2019-06-01 00:00:00 | 1900079295 | PAYPAL        | ZB00012026  |          1 |               0 |               8.24543 |  11.3791    |            22.6886  | E-COMMER     | FIT.deC   | FIT.deO  | top4fitness.de  | 2019-06-01 17:01:00 | NK ELMNTL BKPK                         | ba5381-346       |         84 | Nike             |         300 | Equipment |         310 | Backpacks       |           0 | unspecified             | football    | unisex      | adults      | Green       | ks          |\n",
      "| 2019-06-01 00:00:00 | 1900079825 | GOPAY_CARD    | S101        |          1 |               0 |               5.00329 |   0         |             4.96327 | E-COMMER     | RUN.comC  | RUN.comO | top4running.com | 2019-06-01 08:01:00 | Dopravné                               | unspecified      |         -1 | no_manufacturer  |         999 | Other     |           0 | unspecified     |           0 | unspecified             | unspecified | unspecified | unspecified | unspecified | unspecified |\n",
      "| 2019-06-01 00:00:00 | 1900079825 | GOPAY_CARD    | ZB00009040  |          1 |               0 |              53.4552  |   0.0387597 |            75.6698  | E-COMMER     | RUN.comC  | RUN.comO | top4running.com | 2019-06-01 08:01:00 | SAUCONY JAZZ ORIGINAL VINTAGE          | s60368-40        |        103 | Saucony          |         100 | Footwear  |         199 | Other Footwear  |           0 | unspecified             | lifestyle   | women       | adults      | Yellow      | 38          |\n",
      "| 2019-06-01 00:00:00 | 1900080509 | COD           | ZB00022564  |          2 |               0 |              24.6333  |  17.0543    |            35.2039  | E-COMMER     | RUN.czC   | RUN.czO  | top4running.cz  | 2019-06-01 09:32:00 | Cotton Stretch 6 3 Pack                | 1277279-004      |        106 | Under Armour     |         200 | Apparel   |         260 | Underwear       |           0 | unspecified             | fitness     | men         | adults      | Black       | M           |\n",
      "| 2019-06-01 00:00:00 | 1900080509 | COD           | S101        |          1 |               0 |               1.56977 |   0         |             1.56977 | E-COMMER     | RUN.czC   | RUN.czO  | top4running.cz  | 2019-06-01 09:32:00 | Dopravné                               | unspecified      |         -1 | no_manufacturer  |         999 | Other     |           0 | unspecified     |           0 | unspecified             | unspecified | unspecified | unspecified | unspecified | unspecified |\n",
      "| 2019-06-01 00:00:00 | 1900079952 | COD           | ZB00009785  |          1 |               0 |              63.2326  |   1.00078   |           105.388   | E-COMMER     | RUN.czC   | RUN.czO  | top4running.cz  | 2019-06-01 11:02:00 | NIKE AIR ZOOM PEGASUS 35               | 942851-001       |         84 | Nike             |         100 | Footwear  |         120 | Running shoes   |           0 | unspecified             | running     | men         | adults      | Black       | 40,5        |\n",
      "| 2019-06-01 00:00:00 | 1900080509 | COD           | S113        |          1 |               0 |               0.92907 |   0         |             0.92907 | E-COMMER     | RUN.czC   | RUN.czO  | top4running.cz  | 2019-06-01 09:32:00 | Platba                                 | unspecified      |         -1 | no_manufacturer  |         999 | Other     |           0 | unspecified     |           0 | unspecified             | unspecified | unspecified | unspecified | unspecified | unspecified |\n",
      "| 2019-06-01 00:00:00 | 1900079122 | COD           | ZB00026708  |          1 |               0 |              18.256   |  11.6008    |            22.6877  | E-COMMER     | FIT.roC   | FIT.roO  | top4fitness.ro  | 2019-06-01 06:34:00 | W NP TOP SS                            | 725745-617       |         84 | Nike             |         200 | Apparel   |         230 | T-Shirts        |           0 | unspecified             | fitness     | women       | adults      | Pink        | S           |\n",
      "| 2019-06-01 00:00:00 | 1900079118 | COD           | ZB00026682  |          1 |               0 |             157.604   |  95.8186    |           175.115   | E-COMMER     | FTB.skC   | FTB.skO  | 11teamsports.sk | 2019-06-01 06:34:00 | AIR VAPORMAX PLUS                      | 924453-015       |         84 | Nike             |         100 | Footwear  |         199 | Other Footwear  |           0 | unspecified             | football    | men         | adults      | Black       | 44,5        |\n",
      "| 2019-06-01 00:00:00 | 1900079111 | COD           | ZB00026136  |          1 |               0 |              36.6103  |  26.7671    |            56.3366  | E-COMMER     | FTB.huC   | FTB.huO  | 11teamsports.hu | 2019-06-01 06:34:00 | VAPOR 12 ACADEMY MG                    | ah7375-001       |         84 | Nike             |         100 | Footwear  |         110 | Football shoes  |           0 | unspecified             | football    | men         | adults      | Black       | 41          |\n",
      "| 2019-06-01 00:00:00 | 1900079111 | COD           | ZB00026707  |          1 |               0 |               8.23548 |   4.62829   |            12.6083  | E-COMMER     | FTB.huC   | FTB.huO  | 11teamsports.hu | 2019-06-01 06:34:00 | M NK DRY PARK18 SS TOP                 | aa2046-010       |         84 | Nike             |         200 | Apparel   |         230 | T-Shirts        |           0 | unspecified             | football    | men         | adults      | Black       | S           |\n",
      "| 2019-06-01 00:00:00 | 1900079049 | COD           | ZB00026019  |          1 |               0 |             130.086   |  91.3124    |           200.132   | E-COMMER     | FTB.skC   | FTB.skO  | 11teamsports.sk | 2019-06-01 06:32:00 | VAPOR 12 ELITE FG                      | ah7380-070       |         84 | Nike             |         100 | Footwear  |         110 | Football shoes  |           0 | unspecified             | football    | men         | adults      | Silver      | 42,5        |\n",
      "| 2019-06-01 00:00:00 | 1900079056 | COD           | ZB00026018  |          1 |               0 |               8.50893 |   4.46628   |            11.521   | E-COMMER     | FTB.roC   | FTB.roO  | 11teamsports.ro | 2019-06-01 06:32:00 | Adidas Team Glider                     | cz2230           |         85 | adidas           |         300 | Equipment |         320 | Balls           |           0 | unspecified             | football    | men         | adults      | White       | 5           |\n",
      "| 2019-06-01 00:00:00 | 1900079057 | COD           | ZB00019137  |          1 |               0 |              40.3295  |  28.8213    |            57.6271  | E-COMMER     | FTB.czC   | FTB.czO  | 11teamsports.cz | 2019-06-01 06:32:00 | JR PHNTOM VSN ACADEMY DF FG/MG         | ao3287-408       |         84 | Nike             |         100 | Footwear  |         110 | Football shoes  |           0 | unspecified             | football    | unisex      | kids        | Silver      | 38          |\n",
      "| 2019-06-01 00:00:00 | 1900079057 | COD           | S101        |          1 |               0 |               2.21008 |   0         |             2.21008 | E-COMMER     | FTB.czC   | FTB.czO  | 11teamsports.cz | 2019-06-01 06:32:00 | Dopravné                               | unspecified      |         -1 | no_manufacturer  |         999 | Other     |           0 | unspecified     |           0 | unspecified             | unspecified | unspecified | unspecified | unspecified | unspecified |\n",
      "| 2019-06-01 00:00:00 | 1900079057 | COD           | S113        |          1 |               0 |               0.92907 |   0         |             0.92907 | E-COMMER     | FTB.czC   | FTB.czO  | 11teamsports.cz | 2019-06-01 06:32:00 | Platba                                 | unspecified      |         -1 | no_manufacturer  |         999 | Other     |           0 | unspecified     |           0 | unspecified             | unspecified | unspecified | unspecified | unspecified | unspecified |\n",
      "| 2019-06-01 00:00:00 | 1900079059 | CARD_GOPAY    | ZB00025762  |          1 |               0 |              17.2614  |  10.9527    |            24.6863  | E-COMMER     | FTB.skC   | FTB.skO  | 11teamsports.sk | 2019-06-01 06:32:00 | HG ARMOUR 20 LONG SHORT                | 1289568-001      |        106 | Under Armour     |         200 | Apparel   |         240 | Pants           |         244 | Compression pants       | football    | men         | adults      | Black       | L           |\n",
      "| 2019-06-01 00:00:00 | 1900079060 | COD           | ZB00026704  |          1 |               0 |              27.268   |  16.8054    |            37.5247  | E-COMMER     | FTB.skC   | FTB.skO  | 11teamsports.sk | 2019-06-01 06:32:00 | star chevron graphic                   | 10006480-a01-001 |        139 | Converse         |         200 | Apparel   |         240 | Pants           |         242 | Shorts                  | lifestyle   | men         | adults      | Black       | L           |\n",
      "| 2019-06-01 00:00:00 | 1900079067 | COD           | ZB00021748  |          1 |               0 |              74.8287  |  48.6264    |            96.0663  | E-COMMER     | RUN.czC   | RUN.czO  | top4running.cz  | 2019-06-01 06:32:00 | WMNS NIKE AIR ZOOM PEGASUS 35          | 942855-011       |         84 | Nike             |         100 | Footwear  |         120 | Running shoes   |           0 | unspecified             | running     | women       | adults      | Silver      | 39          |\n",
      "| 2019-06-01 00:00:00 | 1900079037 | CARD_CSOB     | ZB00025620  |          1 |               0 |              18.707   |   9.44612   |            28.7977  | E-COMMER     | FTB.czC   | VO_B_FTO | 11teamsports.cz | 2019-06-01 06:31:00 | M NK DRY PARK III JSY LS GK            | 894509-398       |         84 | Nike             |         200 | Apparel   |         230 | T-Shirts        |         233 | Longsleeved (LS) shirts | football    | men         | adults      | Green       | S           |\n",
      "| 2019-06-01 00:00:00 | 1900079067 | COD           | S113        |          1 |               0 |               0.92907 |   0         |             0.92907 | E-COMMER     | RUN.czC   | RUN.czO  | top4running.cz  | 2019-06-01 06:32:00 | Platba                                 | unspecified      |         -1 | no_manufacturer  |         999 | Other     |           0 | unspecified     |           0 | unspecified             | unspecified | unspecified | unspecified | unspecified | unspecified |\n",
      "| 2019-06-01 00:00:00 | 1900079070 | COD           | S114        |         -1 |               0 |               3.2031  |   0         |             3.2031  | E-COMMER     | FTB.czC   | FTB.czO  | 11teamsports.cz | 2019-06-01 06:32:00 | Sleva                                  | unspecified      |         -1 | no_manufacturer  |         999 | Other     |           0 | unspecified     |           0 | unspecified             | unspecified | unspecified | unspecified | unspecified | unspecified |\n",
      "| 2019-06-01 00:00:00 | 1900079074 | COD           | ZB00026164  |          1 |               0 |              39.5262  |  29.4992    |            60.7985  | E-COMMER     | FTB.roC   | FTB.roO  | 11teamsports.ro | 2019-06-01 06:32:00 | VAPOR 12 ACADEMY TF                    | ah7384-701       |         84 | Nike             |         100 | Footwear  |         110 | Football shoes  |           0 | unspecified             | football    | men         | adults      | Green       | 43          |\n",
      "| 2019-06-01 00:00:00 | 1900079087 | COD           | ZB00024304  |          1 |               0 |              73.6434  |  36.4725    |            73.6434  | E-COMMER     | FTB.czC   | FTB.czO  | 11teamsports.cz | 2019-06-01 06:32:00 | SUPERFLY 6 ACADEMY MG                  | ah7362-408       |         84 | Nike             |         100 | Footwear  |         110 | Football shoes  |           0 | unspecified             | football    | men         | adults      | Blue        | 44          |\n",
      "| 2019-06-01 00:00:00 | 1900079087 | COD           | S113        |          1 |               0 |               0.92907 |   0         |             0.92907 | E-COMMER     | FTB.czC   | FTB.czO  | 11teamsports.cz | 2019-06-01 06:32:00 | Platba                                 | unspecified      |         -1 | no_manufacturer  |         999 | Other     |           0 | unspecified     |           0 | unspecified             | unspecified | unspecified | unspecified | unspecified | unspecified |\n",
      "| 2019-06-01 00:00:00 | 1900079095 | COD           | ZB00026705  |          1 |               0 |              21.9426  |  11.2035    |            30.2709  | E-COMMER     | FTB.czC   | FTB.czO  | 11teamsports.cz | 2019-06-01 06:32:00 | reflective wordmark legging            | 10004552-a01     |        139 | Converse         |         200 | Apparel   |         240 | Pants           |           0 | unspecified             | lifestyle   | women       | adults      | Black       | S           |\n",
      "| 2019-06-01 00:00:00 | 1900079095 | COD           | S101        |          1 |               0 |               2.21008 |   0         |             2.21008 | E-COMMER     | FTB.czC   | FTB.czO  | 11teamsports.cz | 2019-06-01 06:32:00 | Dopravné                               | unspecified      |         -1 | no_manufacturer  |         999 | Other     |           0 | unspecified     |           0 | unspecified             | unspecified | unspecified | unspecified | unspecified | unspecified |\n",
      "| 2019-06-01 00:00:00 | 1900079095 | COD           | S113        |          1 |               0 |               0.92907 |   0         |             0.92907 | E-COMMER     | FTB.czC   | FTB.czO  | 11teamsports.cz | 2019-06-01 06:32:00 | Platba                                 | unspecified      |         -1 | no_manufacturer  |         999 | Other     |           0 | unspecified     |           0 | unspecified             | unspecified | unspecified | unspecified | unspecified | unspecified |\n",
      "| 2019-06-01 00:00:00 | 1900079098 | COD           | ZB00026706  |          1 |               0 |              18.0919  |   9.98178   |            29.1892  | E-COMMER     | FTB.skC   | FTB.skO  | 11teamsports.sk | 2019-06-01 06:34:00 | M NP TOP LS COMP MOCK                  | 838079-657       |         84 | Nike             |         200 | Apparel   |         230 | T-Shirts        |         236 | Compression shirts      | football    | men         | adults      | Red         | L           |\n",
      "| 2019-06-01 00:00:00 | 1900079070 | COD           | ZB00025613  |          1 |               0 |              76.238   |  49.4574    |           108.879   | E-COMMER     | FTB.czC   | FTB.czO  | 11teamsports.cz | 2019-06-01 06:32:00 | NEMEZIZ 182 FG                         | bb9431           |         85 | adidas           |         100 | Footwear  |         110 | Football shoes  |           0 | unspecified             | football    | men         | adults      | Yellow      | 43,3        |\n",
      "| 2019-06-01 00:00:00 | 1900078757 | COD           | S113        |          1 |               0 |               0.92907 |   0         |             0.92907 | E-COMMER     | FTB.czC   | FTB.czO  | 11teamsports.cz | 2019-06-01 00:04:00 | Platba                                 | unspecified      |         -1 | no_manufacturer  |         999 | Other     |           0 | unspecified     |           0 | unspecified             | unspecified | unspecified | unspecified | unspecified | unspecified |\n",
      "| 2019-06-01 00:00:00 | 1900079070 | COD           | S113        |          1 |               0 |               0.92907 |   0         |             0.92907 | E-COMMER     | FTB.czC   | FTB.czO  | 11teamsports.cz | 2019-06-01 06:32:00 | Platba                                 | unspecified      |         -1 | no_manufacturer  |         999 | Other     |           0 | unspecified     |           0 | unspecified             | unspecified | unspecified | unspecified | unspecified | unspecified |\n",
      "| 2019-06-01 00:00:00 | 1900078757 | COD           | ZB00007426  |          2 |               0 |               6.63062 |   0.0709302 |             7.78411 | E-COMMER     | FTB.czC   | FTB.czO  | 11teamsports.cz | 2019-06-01 00:04:00 | Team Scrimmage Swoosh Vest             | 361109-371       |         84 | Nike             |         200 | Apparel   |         225 | Jerseys         |         234 | Sleeveless (SL) shirts  | football    | men         | adults      | Green       | S/M         |\n",
      "| 2019-06-01 00:00:00 | 1900073936 | BANK_TRANSFER | ZB00049783  |          1 |               0 |              69.4657  |  28.7787    |            99.2353  | E-COMMER     | FTB.esC   | FTB.esO  | 11teamsports.es | 2019-06-01 08:00:00 | PRED PRO                               | dn8578           |         85 | adidas           |         300 | Equipment |         280 | Gloves          |         327 | Football gloves         | football    | men         | adults      | Black       | 10,5        |\n",
      "| 2019-06-01 00:00:00 | 1900075432 | COD           | ZB00026064  |          1 |               0 |              45.8904  |  25.4461    |            65.5681  | E-COMMER     | FTB.huC   | FTB.huO  | 11teamsports.hu | 2019-06-01 09:26:00 | M NK DRY SQD17 TRK SUIT K              | 832325-657       |         84 | Nike             |         200 | Apparel   |         250 | Tracksuits      |           0 | unspecified             | football    | men         | adults      | Dark red    | L           |\n",
      "| 2019-06-01 00:00:00 | 1900075432 | COD           | S101        |          1 |               0 |               2.40506 |   0         |             2.40506 | E-COMMER     | FTB.huC   | FTB.huO  | 11teamsports.hu | 2019-06-01 09:26:00 | Dopravné                               | unspecified      |         -1 | no_manufacturer  |         999 | Other     |           0 | unspecified     |           0 | unspecified             | unspecified | unspecified | unspecified | unspecified | unspecified |\n",
      "| 2019-06-01 00:00:00 | 1900075773 | COD           | ZB00017976  |          1 |               0 |             113.364   |  69.2446    |           188.962   | E-COMMER     | FTB.czC   | FTB.czO  | 11teamsports.cz | 2019-06-01 07:22:00 | X 181 FG                               | bb9347           |         85 | adidas           |         100 | Footwear  |         110 | Football shoes  |           0 | unspecified             | football    | men         | adults      | Red         | 44,7        |\n",
      "| 2019-06-01 00:00:00 | 1900076357 | COD           | ZB00023846  |          1 |               0 |              11.521   |   0         |            16.4842  | E-COMMER     | FTB.roC   | FTB.roO  | 11teamsports.ro | 2019-06-01 08:59:00 | NK MENOR X                             | sc3039-673       |         84 | Nike             |         300 | Equipment |         320 | Balls           |           0 | unspecified             | football    | unisex      | adults      | Red         | ks          |\n",
      "| 2019-06-01 00:00:00 | 1900077168 | COD           | ZB00025652  |          1 |               0 |              37.7035  |  29.7578    |            58.0128  | E-COMMER     | FTB.huC   | FTB.huO  | 11teamsports.hu | 2019-06-01 09:05:00 | X 183 FG                               | bb9366           |         85 | adidas           |         100 | Footwear  |         110 | Football shoes  |           0 | unspecified             | football    | men         | adults      | Black       | 44,7        |\n",
      "| 2019-06-01 00:00:00 | 1900077168 | COD           | S101        |          1 |               0 |               2.40506 |   0         |             2.40506 | E-COMMER     | FTB.huC   | FTB.huO  | 11teamsports.hu | 2019-06-01 09:05:00 | Dopravné                               | unspecified      |         -1 | no_manufacturer  |         999 | Other     |           0 | unspecified     |           0 | unspecified             | unspecified | unspecified | unspecified | unspecified | unspecified |\n",
      "| 2019-06-01 00:00:00 | 1900077515 | COD           | ZB00009443  |          2 |               0 |              13.6286  |  10.4283    |            18.1958  | E-COMMER     | RUN.huC   | RUN.huO  | top4running.hu  | 2019-06-01 09:25:00 | M NP SHORT LONG                        | 838063-091       |         84 | Nike             |         200 | Apparel   |         240 | Pants           |         244 | Compression pants       | running     | men         | adults      | Silver      | L           |\n",
      "| 2019-06-01 00:00:00 | 1900077515 | COD           | S101        |          1 |               0 |               2.40506 |   0         |             2.40506 | E-COMMER     | RUN.huC   | RUN.huO  | top4running.hu  | 2019-06-01 09:25:00 | Dopravné                               | unspecified      |         -1 | no_manufacturer  |         999 | Other     |           0 | unspecified     |           0 | unspecified             | unspecified | unspecified | unspecified | unspecified | unspecified |\n",
      "| 2019-06-01 00:00:00 | 1900079385 | COD           | ZB00017248  |          3 |               0 |              26.0105  |  10.2616    |            40.0089  | E-COMMER     | FTB.czC   | FTB.czO  | 11teamsports.cz | 2019-06-01 09:07:00 | FINALE M COMP                          | dn8687           |         85 | adidas           |         300 | Equipment |         320 | Balls           |           0 | unspecified             | football    | men         | adults      | Orange      | 5           |\n",
      "| 2019-06-01 00:00:00 | 1900077890 | COD           | ZB00026211  |          1 |               0 |              11.6777  |   5.84186   |            16.681   | E-COMMER     | FTB.skC   | FTB.skO  | 11teamsports.sk | 2019-06-01 06:24:00 | NK MENOR X                             | sc3039-673       |         84 | Nike             |         300 | Equipment |         320 | Balls           |           0 | unspecified             | football    | unisex      | adults      | Red         | PRO         |\n",
      "| 2019-06-01 00:00:00 | 1900078281 | COD           | ZB00025682  |          1 |               0 |              85.2074  |   2.29845   |           121.693   | E-COMMER     | RUN.czC   | RUN.czO  | top4running.cz  | 2019-06-01 09:16:00 | NIKE EPIC REACT FLYKNIT 2              | bq8928-003       |         84 | Nike             |         100 | Footwear  |         120 | Running shoes   |           0 | unspecified             | running     | men         | adults      | Black       | 42,5        |\n",
      "| 2019-06-01 00:00:00 | 1900078281 | COD           | S113        |          1 |               0 |               0.92907 |   0         |             0.92907 | E-COMMER     | RUN.czC   | RUN.czO  | top4running.cz  | 2019-06-01 09:16:00 | Platba                                 | unspecified      |         -1 | no_manufacturer  |         999 | Other     |           0 | unspecified     |           0 | unspecified             | unspecified | unspecified | unspecified | unspecified | unspecified |\n",
      "| 2019-06-01 00:00:00 | 1900078447 | PAYPAL        | ZB00025689  |          1 |               0 |              21.0238  |  16.8702    |            29.4294  | E-COMMER     | RUN.deC   | RUN.deO  | top4running.de  | 2019-06-01 16:56:00 | ADILETTE                               | 288022           |        232 | adidas Originals |         100 | Footwear  |         150 | Slides          |           0 | unspecified             | lifestyle   | men         | adults      | Blue        | 47,3        |\n",
      "| 2019-06-01 00:00:00 | 1900078447 | PAYPAL        | S101        |          1 |               0 |               2.94194 |   0         |             2.94194 | E-COMMER     | RUN.deC   | RUN.deO  | top4running.de  | 2019-06-01 16:56:00 | Dopravné                               | unspecified      |         -1 | no_manufacturer  |         999 | Other     |           0 | unspecified     |           0 | unspecified             | unspecified | unspecified | unspecified | unspecified | unspecified |\n",
      "| 2019-06-01 00:00:00 | 1900078650 | COD           | ZB00049881  |          1 |               0 |              16.8386  |   8.76008   |            28.0411  | E-COMMER     | FTB.roC   | VO_B_FTO | 11teamsports.ro | 2019-06-01 11:57:00 | ENTRY 15 GK                            | ap0325           |         85 | adidas           |         200 | Apparel   |         230 | T-Shirts        |         233 | Longsleeved (LS) shirts | football    | men         | adults      | Blue        | 164         |\n",
      "| 2019-06-01 00:00:00 | 1900078650 | COD           | ZB00011209  |          1 |               0 |               6.38064 |   5.59535   |             9.7492  | E-COMMER     | FTB.roC   | VO_B_FTO | 11teamsports.ro | 2019-06-01 11:57:00 | U NK SQUAD OTC                         | sx6830-100       |         84 | Nike             |         200 | Apparel   |         290 | Socks           |         291 | Football socks          | football    | unisex      | adults      | White       | S           |\n",
      "| 2019-06-01 00:00:00 | 1900073779 | CARD_GOPAY    | ZB00016912  |          1 |               0 |              20.0132  |  12.8748    |            33.352   | E-COMMER     | FTB.skC   | VO_B_FTO | 11teamsports.sk | 2019-06-01 06:34:00 | ASK SPRT LT M                          | cw9427           |         85 | adidas           |         200 | Apparel   |         240 | Pants           |           0 | unspecified             | football    | men         | adults      | Black       | M           |\n",
      "| 2019-06-01 00:00:00 | 1900078650 | COD           | ZB00014423  |          1 |               0 |              15.4211  |   8.34496   |            23.6094  | E-COMMER     | FTB.roC   | VO_B_FTO | 11teamsports.ro | 2019-06-01 11:57:00 | TIERRO13 GK SHO                        | z11471           |         85 | adidas           |         200 | Apparel   |         240 | Pants           |         242 | Shorts                  | football    | men         | adults      | Black       | 152         |\n",
      "| 2019-06-01 00:00:00 | 1900073779 | CARD_GOPAY    | ZB00002233  |          1 |               0 |              15.0099  |  12.9764    |            25.0165  | E-COMMER     | FTB.skC   | VO_B_FTO | 11teamsports.sk | 2019-06-01 06:34:00 | M NK FC DRY TEE SSNL BLOCK             | av5313-838       |         84 | Nike             |         200 | Apparel   |         230 | T-Shirts        |           0 | unspecified             | football    | men         | adults      | Orange      | S           |\n",
      "| 2019-06-01 00:00:00 | 1900073779 | CARD_GOPAY    | ZB00012932  |          1 |               0 |              30.0198  |  24.4023    |            50.0329  | E-COMMER     | FTB.skC   | VO_B_FTO | 11teamsports.sk | 2019-06-01 06:34:00 | M NK FC PANT                           | aq0667-492       |         84 | Nike             |         200 | Apparel   |         240 | Pants           |           0 | unspecified             | football    | men         | adults      | unspecified | S           |\n",
      "| 2019-06-01 00:00:00 | 1900072437 | COD           | ZB00010124  |          1 |               0 |              34.4031  |  18.9566    |            57.3388  | E-COMMER     | FTB.czC   | FTB.czO  | 11teamsports.cz | 2019-06-01 08:59:00 | LS GARDIEN JSY                         | 725882-702       |         84 | Nike             |         200 | Apparel   |         230 | T-Shirts        |         233 | Longsleeved (LS) shirts | football    | men         | adults      | Green       | XXL         |\n",
      "| 2019-06-01 00:00:00 | 1900072437 | COD           | ZB00013297  |          1 |               0 |               9.35349 |   6.01822   |            14.3826  | E-COMMER     | FTB.czC   | FTB.czO  | 11teamsports.cz | 2019-06-01 08:59:00 | PARK II KNIT SHORT NB                  | 725887-702       |         84 | Nike             |         200 | Apparel   |         240 | Pants           |         242 | Shorts                  | football    | men         | adults      | Green       | XL          |\n",
      "| 2019-06-01 00:00:00 | 1900072437 | COD           | ZB00001906  |          1 |               0 |               9.35349 |   5.40659   |            14.3826  | E-COMMER     | FTB.czC   | FTB.czO  | 11teamsports.cz | 2019-06-01 08:59:00 | YTH LEAGUE KNIT SHORT NB               | 725990-011       |         84 | Nike             |         200 | Apparel   |         240 | Pants           |         242 | Shorts                  | football    | unisex      | kids        | Black       | L           |\n",
      "| 2019-06-01 00:00:00 | 1900072437 | COD           | ZB00011732  |          1 |               0 |              31.2     |  17.1364    |            48.0171  | E-COMMER     | FTB.czC   | FTB.czO  | 11teamsports.cz | 2019-06-01 08:59:00 | YTH NK GARDIEN II GK JSY LS            | 898046-010       |         84 | Nike             |         200 | Apparel   |         230 | T-Shirts        |         233 | Longsleeved (LS) shirts | football    | unisex      | kids        | Black       | L           |\n",
      "| 2019-06-01 00:00:00 | 1900072437 | COD           | ZB00017248  |          4 |               0 |              26.0105  |  10.2616    |            40.0089  | E-COMMER     | FTB.czC   | FTB.czO  | 11teamsports.cz | 2019-06-01 08:59:00 | FINALE M COMP                          | dn8687           |         85 | adidas           |         300 | Equipment |         320 | Balls           |           0 | unspecified             | football    | men         | adults      | Orange      | 5           |\n",
      "| 2019-06-01 00:00:00 | 1900072437 | COD           | ZB00005692  |          1 |               0 |               4.99729 |   2.80736   |             7.68798 | E-COMMER     | FTB.czC   | FTB.czO  | 11teamsports.cz | 2019-06-01 08:59:00 | U NK CLASSIC II CUSH OTC -TEAM         | sx5728-013       |         84 | Nike             |         200 | Apparel   |         290 | Socks           |         291 | Football socks          | football    | unisex      | adults      | Black       | L           |\n",
      "| 2019-06-01 00:00:00 | 1900072437 | COD           | ZB00005846  |          1 |               0 |               5.60581 |   3.64922   |             8.61667 | E-COMMER     | FTB.czC   | FTB.czO  | 11teamsports.cz | 2019-06-01 08:59:00 | U NK CLASSIC II CUSH OTC -TEAM         | sx5728-702       |         84 | Nike             |         200 | Apparel   |         290 | Socks           |         291 | Football socks          | football    | unisex      | adults      | Green       | XL          |\n",
      "| 2019-06-01 00:00:00 | 1900072437 | COD           | ZB00005157  |          7 |               0 |              10.3787  |   6.13295   |            15.9845  | E-COMMER     | FTB.czC   | FTB.czO  | 11teamsports.cz | 2019-06-01 08:59:00 | NK PTCH TEAM                           | sc3166-701       |         84 | Nike             |         300 | Equipment |         320 | Balls           |           0 | unspecified             | football    | unisex      | adults      | Yellow      | 4           |\n",
      "| 2019-06-01 00:00:00 | 1900072959 | GOPAY_CARD    | ZB00010308  |          4 |               0 |              19.1826  |  11.6163    |            33.0818  | E-COMMER     | FTB.esC   | FTB.esO  | 11teamsports.es | 2019-06-01 00:09:00 | M NK DRY ACDMY18 TRK JKT K             | 893701-100       |         84 | Nike             |         200 | Apparel   |         215 | Jackets         |           0 | unspecified             | football    | men         | adults      | White       | S           |\n",
      "| 2019-06-01 00:00:00 | 1900072959 | GOPAY_CARD    | ZB00010312  |          6 |               0 |              19.1826  |  11.9047    |            33.0818  | E-COMMER     | FTB.esC   | FTB.esO  | 11teamsports.es | 2019-06-01 00:09:00 | M NK DRY ACDMY18 TRK JKT K             | 893701-100       |         84 | Nike             |         200 | Apparel   |         215 | Jackets         |           0 | unspecified             | football    | men         | adults      | White       | M           |\n",
      "| 2019-06-01 00:00:00 | 1900072959 | GOPAY_CARD    | ZB00010316  |         12 |               0 |              19.1826  |   5.4186    |            33.0818  | E-COMMER     | FTB.esC   | FTB.esO  | 11teamsports.es | 2019-06-01 00:09:00 | M NK DRY ACDMY18 TRK JKT K             | 893701-100       |         84 | Nike             |         200 | Apparel   |         215 | Jackets         |           0 | unspecified             | football    | men         | adults      | White       | L           |\n",
      "| 2019-06-01 00:00:00 | 1900078757 | COD           | S101        |          1 |               0 |               2.21008 |   0         |             2.21008 | E-COMMER     | FTB.czC   | FTB.czO  | 11teamsports.cz | 2019-06-01 00:04:00 | Dopravné                               | unspecified      |         -1 | no_manufacturer  |         999 | Other     |           0 | unspecified     |           0 | unspecified             | unspecified | unspecified | unspecified | unspecified | unspecified |\n",
      "| 2019-06-01 00:00:00 | 1900073779 | CARD_GOPAY    | ZB00009368  |          1 |               0 |              12.5082  |   7.63488   |            20.8437  | E-COMMER     | FTB.skC   | VO_B_FTO | 11teamsports.sk | 2019-06-01 06:34:00 | M NP SHORT                             | 838061-010       |         84 | Nike             |         200 | Apparel   |         240 | Pants           |         242 | Shorts                  | fitness     | men         | adults      | Black       | M           |\n",
      "| 2019-06-01 00:00:00 | 1900073779 | CARD_GOPAY    | ZB00009389  |          1 |               0 |              12.5082  |   7.87364   |            20.8437  | E-COMMER     | FTB.skC   | VO_B_FTO | 11teamsports.sk | 2019-06-01 06:34:00 | M NP SHORT                             | 838061-091       |         84 | Nike             |         200 | Apparel   |         240 | Pants           |         242 | Shorts                  | fitness     | men         | adults      | Silver      | M           |\n",
      "| 2019-06-01 00:00:00 | 1900073779 | CARD_GOPAY    | ZB00001487  |          1 |               0 |              15.0099  |  13.007     |            25.0165  | E-COMMER     | FTB.skC   | VO_B_FTO | 11teamsports.sk | 2019-06-01 06:34:00 | M NSW CE POLO MATCHUP PQ               | 909746-337       |         84 | Nike             |         200 | Apparel   |         230 | T-Shirts        |         231 | Polo                    | lifestyle   | men         | adults      | Blue        | L           |\n",
      "| 2019-06-01 00:00:00 | 1900073779 | CARD_GOPAY    | ZB00014781  |          1 |               0 |              15.0099  |  11.205     |            25.0165  | E-COMMER     | FTB.skC   | VO_B_FTO | 11teamsports.sk | 2019-06-01 06:34:00 | TF BASE SS                             | aj4967           |         85 | adidas           |         200 | Apparel   |         230 | T-Shirts        |         236 | Compression shirts      | fitness     | men         | adults      | White       | S           |\n",
      "| 2019-06-01 00:00:00 | 1900073779 | CARD_GOPAY    | ZB00002069  |          1 |               0 |              27.5181  |  22.7744    |            45.8602  | E-COMMER     | FTB.skC   | VO_B_FTO | 11teamsports.sk | 2019-06-01 06:34:00 | M NIKE FC CREW TOP LS                  | ao0358-010       |         84 | Nike             |         200 | Apparel   |         230 | T-Shirts        |         233 | Longsleeved (LS) shirts | football    | men         | adults      | Black       | S           |\n",
      "| 2019-06-01 00:00:00 | 1900073779 | CARD_GOPAY    | ZB00002185  |          1 |               0 |              15.0099  |  13.007     |            25.0165  | E-COMMER     | FTB.skC   | VO_B_FTO | 11teamsports.sk | 2019-06-01 06:34:00 | M NK FC DRY TEE SSNL BLOCK             | av5313-100       |         84 | Nike             |         200 | Apparel   |         230 | T-Shirts        |           0 | unspecified             | football    | men         | adults      | Black       | S           |\n",
      "| 2019-06-01 00:00:00 | 1900078655 | COD           | ZB00026724  |          1 |               0 |              64.3422  |  36.1019    |            99.0845  | E-COMMER     | FTB.roC   | VO_B_FTO | 11teamsports.ro | 2019-06-01 11:57:00 | Adidas Predator Pro Hybrid             | dy2617           |         85 | adidas           |         300 | Equipment |         280 | Gloves          |         327 | Football gloves         | football    | men         | adults      | Silver      | 7,5         |\n",
      "| 2019-06-01 00:00:00 | 1900072959 | GOPAY_CARD    | ZB00010320  |          2 |               0 |              19.1826  |  10.0469    |            33.0818  | E-COMMER     | FTB.esC   | FTB.esO  | 11teamsports.es | 2019-06-01 00:09:00 | M NK DRY ACDMY18 TRK JKT K             | 893701-100       |         84 | Nike             |         200 | Apparel   |         215 | Jackets         |           0 | unspecified             | football    | men         | adults      | White       | XL          |\n",
      "| 2019-06-01 00:00:00 | 1900078754 | CARD_CSOB     | ZB00049877  |          1 |               0 |             153.565   | 120.323     |           255.942   | E-COMMER     | FTB.czC   | FTB.czO  | 11teamsports.cz | 2019-06-01 11:57:00 | SUPERFLY 6 ELITE CR7 SG-PRO AC         | aj6932-600       |         84 | Nike             |         100 | Footwear  |         110 | Football shoes  |           0 | unspecified             | football    | men         | adults      | Red         | 42,5        |\n",
      "| 2019-06-01 00:00:00 | 1900078757 | COD           | ZB00049340  |          5 |               0 |               6.63062 |   2.5031    |             7.78411 | E-COMMER     | FTB.czC   | FTB.czO  | 11teamsports.cz | 2019-06-01 00:04:00 | Team Scrimmage Swoosh Vest             | 361109-100       |         84 | Nike             |         200 | Apparel   |         225 | Jerseys         |         234 | Sleeveless (SL) shirts  | football    | men         | adults      | White       | S/M         |\n",
      "| 2019-06-02 00:00:00 | 1900081346 | COD           | ZB00016098  |          1 |               0 |               8.61667 |   5.22364   |             8.26866 | E-COMMER     | RUN.czC   | RUN.czO  | top4running.cz  | 2019-06-02 07:30:00 | ESIO KINESIOLOGY TAPE 50mm             | unspecified      |         -1 | no_manufacturer  |         999 | Other     |           0 | unspecified     |           0 | unspecified             | unspecified | unspecified | unspecified | unspecified | unspecified |\n",
      "| 2019-06-02 00:00:00 | 1900081425 | COD           | ZB00010062  |          1 |               0 |              40.8419  |  27.6581    |            54.4236  | E-COMMER     | STR.czC   | STR.czO  | tint-store.cz   | 2019-06-02 09:16:00 | M NSW TCH FLC SHORT                    | 928513-355       |         84 | Nike             |         200 | Apparel   |         240 | Pants           |         242 | Shorts                  | lifestyle   | men         | adults      | Green       | L           |\n",
      "| 2019-06-02 00:00:00 | 1900081241 | PAYPAL        | S101        |          1 |               0 |               5.00329 |   0         |             4.96327 | E-COMMER     | RUN.comC  | RUN.comO | top4running.com | 2019-06-02 08:01:00 | Dopravné                               | unspecified      |         -1 | no_manufacturer  |         999 | Other     |           0 | unspecified     |           0 | unspecified             | unspecified | unspecified | unspecified | unspecified | unspecified |\n",
      "| 2019-06-02 00:00:00 | 1900081241 | PAYPAL        | ZB00009222  |          1 |               0 |               8.33549 |   4.55465   |             9.09599 | E-COMMER     | RUN.comC  | RUN.comO | top4running.com | 2019-06-02 08:01:00 | BASIC WALLET                           | nia08693ns-693   |         84 | Nike             |         300 | Equipment |         399 | Other Equipment |           0 | unspecified             | football    | unisex      | adults      | Red         | ks          |\n",
      "| 2019-06-02 00:00:00 | 1900081241 | PAYPAL        | ZB00002778  |          1 |               0 |               8.33549 |   4.44535   |             9.09599 | E-COMMER     | RUN.comC  | RUN.comO | top4running.com | 2019-06-02 08:01:00 | BASIC WALLET                           | nia08068ns       |         84 | Nike             |         300 | Equipment |         399 | Other Equipment |           0 | unspecified             | football    | unisex      | adults      | unspecified | ks          |\n",
      "| 2019-06-02 00:00:00 | 1900081425 | COD           | S114        |         -1 |               0 |               3.2031  |   0         |             3.2031  | E-COMMER     | STR.czC   | STR.czO  | tint-store.cz   | 2019-06-02 09:16:00 | Sleva                                  | unspecified      |         -1 | no_manufacturer  |         999 | Other     |           0 | unspecified     |           0 | unspecified             | unspecified | unspecified | unspecified | unspecified | unspecified |\n",
      "| 2019-06-02 00:00:00 | 1900081425 | COD           | S101        |          1 |               0 |               1.56977 |   0         |             1.56977 | E-COMMER     | STR.czC   | STR.czO  | tint-store.cz   | 2019-06-02 09:16:00 | Dopravné                               | unspecified      |         -1 | no_manufacturer  |         999 | Other     |           0 | unspecified     |           0 | unspecified             | unspecified | unspecified | unspecified | unspecified | unspecified |\n",
      "| 2019-06-02 00:00:00 | 1900081425 | COD           | S113        |          1 |               0 |               0.92907 |   0         |             0.92907 | E-COMMER     | STR.czC   | STR.czO  | tint-store.cz   | 2019-06-02 09:16:00 | Platba                                 | unspecified      |         -1 | no_manufacturer  |         999 | Other     |           0 | unspecified     |           0 | unspecified             | unspecified | unspecified | unspecified | unspecified | unspecified |\n",
      "| 2019-06-02 00:00:00 | 1900081241 | PAYPAL        | ZB00009239  |          1 |               0 |               8.33549 |   4.39147   |             9.09599 | E-COMMER     | RUN.comC  | RUN.comO | top4running.com | 2019-06-02 08:01:00 | BASIC WALLET                           | nia08413ns-413   |         84 | Nike             |         300 | Equipment |         399 | Other Equipment |           0 | unspecified             | football    | unisex      | adults      | Blue        | ks          |\n",
      "| 2019-06-03 00:00:00 | 1900081701 | CARD_CSOB     | S114        |         -1 |               0 |               3.2031  |   0         |             3.2031  | E-COMMER     | FTB.czC   | FTB.czO  | 11teamsports.cz | 2019-06-03 09:17:00 | Sleva                                  | unspecified      |         -1 | no_manufacturer  |         999 | Other     |           0 | unspecified     |           0 | unspecified             | unspecified | unspecified | unspecified | unspecified | unspecified |\n",
      "| 2019-06-03 00:00:00 | 1900081663 | CARD_CSOB     | ZB00015598  |          1 |               0 |              83.862   |   0.0387597 |           111.795   | E-COMMER     | RUN.czC   | RUN.czO  | top4running.cz  | 2019-06-03 09:17:00 | SONIC RA PRO 2                         | l40611100        |         93 | Salomon          |         100 | Footwear  |         120 | Running shoes   |           0 | unspecified             | running     | men         | adults      | Blue        | 43,3        |\n",
      "| 2019-06-03 00:00:00 | 1900081701 | CARD_CSOB     | ZB00014167  |          1 |               0 |             103.786   |  86.3609    |           129.733   | E-COMMER     | FTB.czC   | FTB.czO  | 11teamsports.cz | 2019-06-03 09:17:00 | COPA MUNDIAL FG                        | 015110           |         85 | adidas           |         100 | Footwear  |         110 | Football shoes  |           0 | unspecified             | football    | men         | adults      | Black       | 44,7        |\n",
      "| 2019-06-03 00:00:00 | 1900081500 | COD           | S113        |          1 |               0 |               0.92907 |   0         |             0.92907 | E-COMMER     | FTB.czC   | FTB.czO  | 11teamsports.cz | 2019-06-03 09:16:00 | Platba                                 | unspecified      |         -1 | no_manufacturer  |         999 | Other     |           0 | unspecified     |           0 | unspecified             | unspecified | unspecified | unspecified | unspecified | unspecified |\n",
      "| 2019-06-03 00:00:00 | 1900081500 | COD           | S101        |          1 |               0 |               1.56977 |   0         |             1.56977 | E-COMMER     | FTB.czC   | FTB.czO  | 11teamsports.cz | 2019-06-03 09:16:00 | Dopravné                               | unspecified      |         -1 | no_manufacturer  |         999 | Other     |           0 | unspecified     |           0 | unspecified             | unspecified | unspecified | unspecified | unspecified | unspecified |\n",
      "| 2019-06-03 00:00:00 | 1900081500 | COD           | S114        |         -1 |               0 |               3.2031  |   0         |             3.2031  | E-COMMER     | FTB.czC   | FTB.czO  | 11teamsports.cz | 2019-06-03 09:16:00 | Sleva                                  | unspecified      |         -1 | no_manufacturer  |         999 | Other     |           0 | unspecified     |           0 | unspecified             | unspecified | unspecified | unspecified | unspecified | unspecified |\n",
      "| 2019-06-03 00:00:00 | 1900081551 | COD           | S113        |          1 |               0 |               0.92907 |   0         |             0.92907 | E-COMMER     | FTB.czC   | FTB.czO  | 11teamsports.cz | 2019-06-03 09:17:00 | Platba                                 | unspecified      |         -1 | no_manufacturer  |         999 | Other     |           0 | unspecified     |           0 | unspecified             | unspecified | unspecified | unspecified | unspecified | unspecified |\n",
      "| 2019-06-03 00:00:00 | 1900081728 | PAYPAL        | S101        |          1 |               0 |               5.00329 |   0         |             4.96327 | E-COMMER     | RUN.comC  | RUN.comO | top4running.com | 2019-06-03 08:01:00 | Dopravné                               | unspecified      |         -1 | no_manufacturer  |         999 | Other     |           0 | unspecified     |           0 | unspecified             | unspecified | unspecified | unspecified | unspecified | unspecified |\n",
      "| 2019-06-03 00:00:00 | 1900081500 | COD           | ZB00022514  |          1 |               0 |              40.8419  |   0.358527  |            54.4236  | E-COMMER     | FTB.czC   | FTB.czO  | 11teamsports.cz | 2019-06-03 09:16:00 | LEGEND 7 ACADEMY IC                    | ah7244-070       |         84 | Nike             |         100 | Footwear  |         110 | Football shoes  |         114 | Indoor/Court (IC)       | football    | men         | adults      | Silver      | 43          |\n",
      "| 2019-06-03 00:00:00 | 1900081595 | COD           | ZB00009388  |          2 |               0 |              16.0163  |  16         |            32.0008  | E-COMMER     | RUN.czC   | RUN.czO  | top4running.cz  | 2019-06-03 11:00:00 | RUN THERMA SPHERE HOOD 20              | nra62019ns       |         84 | Nike             |         200 | Apparel   |         299 | Other Apparel   |           0 | unspecified             | running     | men         | adults      | Silver      | ks          |\n",
      "| 2019-06-03 00:00:00 | 1900081838 | COD           | ZB00000899  |          1 |               0 |              22.3333  |  11.3891    |            22.3333  | E-COMMER     | FTB.roC   | FTB.roO  | 11teamsports.ro | 2019-06-03 09:18:00 | NK MERC LITE - ENERGY                  | sp2178-100       |         84 | Nike             |         300 | Equipment |         335 | Guards          |           0 | unspecified             | football    | men         | adults      | White       | S           |\n",
      "| 2019-06-03 00:00:00 | 1900081551 | COD           | S101        |          1 |               0 |               2.21008 |   0         |             2.21008 | E-COMMER     | FTB.czC   | FTB.czO  | 11teamsports.cz | 2019-06-03 09:17:00 | Dopravné                               | unspecified      |         -1 | no_manufacturer  |         999 | Other     |           0 | unspecified     |           0 | unspecified             | unspecified | unspecified | unspecified | unspecified | unspecified |\n",
      "| 2019-06-03 00:00:00 | 1900081517 | COD           | ZB00026469  |          1 |               0 |              90.0593  |  55.3349    |           150.099   | E-COMMER     | FTB.skC   | VO_B_FTO | 11teamsports.sk | 2019-06-03 11:58:00 | UltraBOOST 19                          | b37704           |         85 | adidas           |         100 | Footwear  |         120 | Running shoes   |           0 | unspecified             | running     | men         | adults      | Black       | 40          |\n",
      "| 2019-06-03 00:00:00 | 1900081517 | COD           | ZB00026470  |          1 |               0 |               5.00329 |   4.19419   |             8.33549 | E-COMMER     | FTB.skC   | VO_B_FTO | 11teamsports.sk | 2019-06-03 11:58:00 | PER INVIZ T 3P                         | cf3390           |         85 | adidas           |         200 | Apparel   |         290 | Socks           |           0 | unspecified             | football    | unisex      | adults      | White       | 35-38       |\n",
      "| 2019-06-03 00:00:00 | 1900081517 | COD           | ZB00026471  |          1 |               0 |               5.00329 |   4.22016   |             8.33549 | E-COMMER     | FTB.skC   | VO_B_FTO | 11teamsports.sk | 2019-06-03 11:58:00 | PER INVIZ T 3P                         | cv7409           |         85 | adidas           |         200 | Apparel   |         290 | Socks           |           0 | unspecified             | football    | unisex      | adults      | Black       | 35-38       |\n",
      "| 2019-06-03 00:00:00 | 1900081519 | CARD_CSOB     | ZB00022132  |          1 |               0 |             166.378   | 107.864     |           255.942   | E-COMMER     | FTB.czC   | FTB.czO  | 11teamsports.cz | 2019-06-03 22:31:00 | MERCURIAL SUPERFLY 360 ELITE CR7 FG    | aj3547-600       |         84 | Nike             |         100 | Footwear  |         110 | Football shoes  |           0 | unspecified             | football    | men         | adults      | Red         | 45          |\n",
      "| 2019-06-03 00:00:00 | 1900081453 | CARD_CSOB     | ZB00016429  |          2 |               0 |              26.8116  |  18.3721    |            38.4074  | E-COMMER     | FTB.czC   | FTB.czO  | 11teamsports.cz | 2019-06-03 09:16:00 | CZECH REPUBLIC B2B Shirt               | 75254301         |         86 | Puma             |         200 | Apparel   |         230 | T-Shirts        |           0 | unspecified             | football    | men         | adults      | Red         | XL          |\n",
      "| 2019-06-03 00:00:00 | 1900081453 | CARD_CSOB     | ZB00016431  |          1 |               0 |              26.8116  |  18.3721    |            38.4074  | E-COMMER     | FTB.czC   | FTB.czO  | 11teamsports.cz | 2019-06-03 09:16:00 | CZECH REPUBLIC B2B Shirt               | 75254301         |         86 | Puma             |         200 | Apparel   |         230 | T-Shirts        |           0 | unspecified             | football    | men         | adults      | Red         | L           |\n",
      "| 2019-06-03 00:00:00 | 1900081838 | COD           | ZB00005804  |          3 |               0 |               5.67191 |   3.44922   |             7.08937 | E-COMMER     | FTB.roC   | FTB.roO  | 11teamsports.ro | 2019-06-03 09:18:00 | U NK CLASSIC II CUSH OTC -TEAM         | sx5728-648       |         84 | Nike             |         200 | Apparel   |         290 | Socks           |         291 | Football socks          | football    | unisex      | adults      | Red         | M           |\n",
      "| 2019-06-03 00:00:00 | 1900081838 | COD           | ZB00005764  |          2 |               0 |               5.67191 |   2.77519   |             7.08937 | E-COMMER     | FTB.roC   | FTB.roO  | 11teamsports.ro | 2019-06-03 09:18:00 | U NK CLASSIC II CUSH OTC -TEAM         | sx5728-463       |         84 | Nike             |         200 | Apparel   |         290 | Socks           |         291 | Football socks          | football    | unisex      | adults      | Blue        | M           |\n",
      "| 2019-06-03 00:00:00 | 1900081739 | CARD_CSOB     | S114        |         -1 |               0 |               3.2031  |   0         |             3.2031  | E-COMMER     | RUN.czC   | RUN.czO  | top4running.cz  | 2019-06-03 09:18:00 | Sleva                                  | unspecified      |         -1 | no_manufacturer  |         999 | Other     |           0 | unspecified     |           0 | unspecified             | unspecified | unspecified | unspecified | unspecified | unspecified |\n",
      "| 2019-06-03 00:00:00 | 1900081504 | COD           | S114        |         -1 |               0 |               3.2031  |   0         |             3.2031  | E-COMMER     | RUN.czC   | RUN.czO  | top4running.cz  | 2019-06-03 09:17:00 | Sleva                                  | unspecified      |         -1 | no_manufacturer  |         999 | Other     |           0 | unspecified     |           0 | unspecified             | unspecified | unspecified | unspecified | unspecified | unspecified |\n",
      "| 2019-06-03 00:00:00 | 1900081739 | CARD_CSOB     | ZB00003656  |          1 |               0 |              18.0023  |  12.2453    |            23.9926  | E-COMMER     | RUN.czC   | RUN.czO  | top4running.cz  | 2019-06-03 09:18:00 | WOR SL SS SLD COMP                     | dp6163           |         88 | Reebok           |         200 | Apparel   |         230 | T-Shirts        |         236 | Compression shirts      | fitness     | men         | adults      | Black       | M           |\n",
      "| 2019-06-03 00:00:00 | 1900081739 | CARD_CSOB     | ZB00022646  |          1 |               0 |              33.6023  |  14.4702    |            44.814   | E-COMMER     | RUN.czC   | RUN.czO  | top4running.cz  | 2019-06-03 09:18:00 | LAUNCH SW LONG SHORT                   | 1309602-008      |        106 | Under Armour     |         200 | Apparel   |         240 | Pants           |         242 | Shorts                  | running     | men         | adults      | Silver      | M           |\n",
      "| 2019-06-03 00:00:00 | 1900081504 | COD           | S113        |          1 |               0 |               0.92907 |   0         |             0.92907 | E-COMMER     | RUN.czC   | RUN.czO  | top4running.cz  | 2019-06-03 09:17:00 | Platba                                 | unspecified      |         -1 | no_manufacturer  |         999 | Other     |           0 | unspecified     |           0 | unspecified             | unspecified | unspecified | unspecified | unspecified | unspecified |\n",
      "| 2019-06-03 00:00:00 | 1900081504 | COD           | ZB00015177  |          1 |               0 |              76.6547  |  61.1717    |           102.184   | E-COMMER     | RUN.czC   | RUN.czO  | top4running.cz  | 2019-06-03 09:17:00 | S/LAB EXO HALF TIGHT M                 | lc1044900        |        237 | S/LAB            |         200 | Apparel   |         240 | Pants           |         244 | Compression pants       | running     | men         | adults      | Black       | L           |\n",
      "| 2019-06-03 00:00:00 | 1900081504 | COD           | ZB00014706  |          1 |               0 |              52.6298  |  44.4225    |            70.1519  | E-COMMER     | RUN.czC   | RUN.czO  | top4running.cz  | 2019-06-03 09:17:00 | S/LAB SENSE TEE M                      | l40216800        |        237 | S/LAB            |         200 | Apparel   |         230 | T-Shirts        |           0 | unspecified             | running     | men         | adults      | White       | L           |\n",
      "| 2019-06-03 00:00:00 | 1900081551 | COD           | ZB00002433  |          1 |               0 |              34.9159  |  23.8702    |            34.9159  | E-COMMER     | FTB.czC   | FTB.czO  | 11teamsports.cz | 2019-06-03 09:17:00 | ACSP Y NK BRT FTBL TOP SS HM           | 914128-677       |         84 | Nike             |         200 | Apparel   |         225 | Jerseys         |           0 | unspecified             | football    | unisex      | kids        | Dark red    | XL          |\n",
      "| 2019-06-03 00:00:00 | 1900081739 | CARD_CSOB     | S101        |          1 |               0 |               1.56977 |   0         |             1.56977 | E-COMMER     | RUN.czC   | RUN.czO  | top4running.cz  | 2019-06-03 09:18:00 | Dopravné                               | unspecified      |         -1 | no_manufacturer  |         999 | Other     |           0 | unspecified     |           0 | unspecified             | unspecified | unspecified | unspecified | unspecified | unspecified |\n",
      "| 2019-06-03 00:00:00 | 1900081869 | COD           | ZB00026567  |          1 |               0 |              26.7676  |   0         |            41.6975  | E-COMMER     | FTB.skC   | FTB.skO  | 11teamsports.sk | 2019-06-03 09:58:00 | Tiro 19                                | dt5174           |         85 | adidas           |         200 | Apparel   |         240 | Pants           |           0 | unspecified             | football    | men         | adults      | Blue        | M           |\n",
      "| 2019-06-03 00:00:00 | 1900081663 | CARD_CSOB     | S114        |         -1 |               0 |               3.2031  |   0         |             3.2031  | E-COMMER     | RUN.czC   | RUN.czO  | top4running.cz  | 2019-06-03 09:17:00 | Sleva                                  | unspecified      |         -1 | no_manufacturer  |         999 | Other     |           0 | unspecified     |           0 | unspecified             | unspecified | unspecified | unspecified | unspecified | unspecified |\n",
      "| 2019-06-03 00:00:00 | 1900081481 | COD           | S114        |         -1 |               0 |               3.2031  |   0         |             3.2031  | E-COMMER     | RUN.czC   | RUN.czO  | top4running.cz  | 2019-06-03 09:16:00 | Sleva                                  | unspecified      |         -1 | no_manufacturer  |         999 | Other     |           0 | unspecified     |           0 | unspecified             | unspecified | unspecified | unspecified | unspecified | unspecified |\n",
      "| 2019-06-03 00:00:00 | 1900081561 | CARD_CSOB     | ZB00001005  |          1 |               0 |              23.0314  |  12.4031    |            25.5942  | E-COMMER     | RUN.czC   | RUN.czO  | top4running.cz  | 2019-06-03 09:17:00 | Fly By Graphic Waistband Short         | 1331828-001      |        106 | Under Armour     |         200 | Apparel   |         240 | Pants           |         242 | Shorts                  | running     | women       | adults      | Black       | M           |\n",
      "| 2019-06-03 00:00:00 | 1900081481 | COD           | ZB00010516  |          1 |               0 |              63.4248  |  52.6318    |           105.676   | E-COMMER     | RUN.czC   | RUN.czO  | top4running.cz  | 2019-06-03 09:16:00 | W NIKE AIR ZOOM PEGASUS 35 PRM         | ah8392-400       |         84 | Nike             |         100 | Footwear  |         120 | Running shoes   |           0 | unspecified             | running     | women       | adults      | Blue        | 38          |\n",
      "| 2019-06-03 00:00:00 | 1900081697 | CARD_CSOB     | ZB00006740  |          1 |               0 |              18.0023  |  12.0795    |            23.9926  | E-COMMER     | RUN.czC   | RUN.czO  | top4running.cz  | 2019-06-03 10:44:00 | Under Armour New Play Up Short         | 1292231-002      |        106 | Under Armour     |         200 | Apparel   |         240 | Pants           |         242 | Shorts                  | fitness     | women       | adults      | Black       | S           |\n",
      "| 2019-06-03 00:00:00 | 1900081697 | CARD_CSOB     | ZB00000273  |          1 |               0 |              28.7977  |  18.6047    |            38.4074  | E-COMMER     | RUN.czC   | RUN.czO  | top4running.cz  | 2019-06-03 10:44:00 | UA VANISH Mid Bra                      | 1311811-003      |        106 | Under Armour     |         200 | Apparel   |         285 | Bras            |           0 | unspecified             | fitness     | women       | adults      | Black       | S/M         |\n",
      "| 2019-06-03 00:00:00 | 1900081645 | CARD_CSOB     | ZB00012240  |          1 |               0 |             132.584   | 102.65      |           220.994   | E-COMMER     | FTB.czC   | FTB.czO  | 11teamsports.cz | 2019-06-03 11:57:00 | SUPERFLY 6 ELITE FG                    | ah7365-077       |         84 | Nike             |         100 | Footwear  |         110 | Football shoes  |           0 | unspecified             | football    | men         | adults      | Black       | 44          |\n",
      "| 2019-06-03 00:00:00 | 1900081561 | CARD_CSOB     | ZB00009619  |          1 |               0 |              22.1988  |   9.88605   |            28.7977  | E-COMMER     | RUN.czC   | RUN.czO  | top4running.cz  | 2019-06-03 09:17:00 | M NP TOP LS COMP                       | 838077-010       |         84 | Nike             |         200 | Apparel   |         230 | T-Shirts        |         233 | Longsleeved (LS) shirts | football    | men         | adults      | Black       | S           |\n",
      "| 2019-06-03 00:00:00 | 1900081697 | CARD_CSOB     | ZB00023763  |          1 |               0 |               8.39264 |   7.44767   |            11.1795  | E-COMMER     | RUN.czC   | RUN.czO  | top4running.cz  | 2019-06-03 10:44:00 | UA Heatgear Tech Low Cut               | 1312430-100      |        106 | Under Armour     |         200 | Apparel   |         290 | Socks           |           0 | unspecified             | fitness     | unisex      | adults      | White       | M           |\n",
      "| 2019-06-03 00:00:00 | 1900081551 | COD           | S114        |         -1 |               0 |               3.2031  |   0         |             3.2031  | E-COMMER     | FTB.czC   | FTB.czO  | 11teamsports.cz | 2019-06-03 09:17:00 | Sleva                                  | unspecified      |         -1 | no_manufacturer  |         999 | Other     |           0 | unspecified     |           0 | unspecified             | unspecified | unspecified | unspecified | unspecified | unspecified |\n",
      "| 2019-06-03 00:00:00 | 1900081481 | COD           | S113        |          1 |               0 |               0.92907 |   0         |             0.92907 | E-COMMER     | RUN.czC   | RUN.czO  | top4running.cz  | 2019-06-03 09:16:00 | Platba                                 | unspecified      |         -1 | no_manufacturer  |         999 | Other     |           0 | unspecified     |           0 | unspecified             | unspecified | unspecified | unspecified | unspecified | unspecified |\n",
      "| 2019-06-03 00:00:00 | 1900081728 | PAYPAL        | ZB00023252  |          1 |               0 |              41.6975  |  42.7178    |            82.6945  | E-COMMER     | RUN.comC  | RUN.comO | top4running.com | 2019-06-03 08:01:00 | NIKE AIR SAFARI                        | 371740-012       |         84 | Nike             |         100 | Footwear  |         199 | Other Footwear  |           0 | unspecified             | lifestyle   | men         | adults      | Silver      | 42,5        |\n",
      "| 2019-06-03 00:00:00 | 1900081697 | CARD_CSOB     | S114        |         -1 |               0 |               3.2031  |   0         |             3.2031  | E-COMMER     | RUN.czC   | RUN.czO  | top4running.cz  | 2019-06-03 10:44:00 | Sleva                                  | unspecified      |         -1 | no_manufacturer  |         999 | Other     |           0 | unspecified     |           0 | unspecified             | unspecified | unspecified | unspecified | unspecified | unspecified |\n",
      "| 2019-06-03 00:00:00 | 1900081697 | CARD_CSOB     | ZB00011073  |          1 |               0 |              19.1876  |  12.4031    |            25.5942  | E-COMMER     | RUN.czC   | RUN.czO  | top4running.cz  | 2019-06-03 10:44:00 | UA HG Armour SS                        | 1328964-001      |        106 | Under Armour     |         200 | Apparel   |         230 | T-Shirts        |           0 | unspecified             | fitness     | women       | adults      | Black       | S/M         |\n",
      "| 2019-06-03 00:00:00 | 1900081561 | CARD_CSOB     | S114        |         -1 |               0 |               3.2031  |   0         |             3.2031  | E-COMMER     | RUN.czC   | RUN.czO  | top4running.cz  | 2019-06-03 09:17:00 | Sleva                                  | unspecified      |         -1 | no_manufacturer  |         999 | Other     |           0 | unspecified     |           0 | unspecified             | unspecified | unspecified | unspecified | unspecified | unspecified |\n",
      "| 2019-06-03 00:00:00 | 1900081561 | CARD_CSOB     | S101        |          1 |               0 |               2.21008 |   0         |             2.21008 | E-COMMER     | RUN.czC   | RUN.czO  | top4running.cz  | 2019-06-03 09:17:00 | Dopravné                               | unspecified      |         -1 | no_manufacturer  |         999 | Other     |           0 | unspecified     |           0 | unspecified             | unspecified | unspecified | unspecified | unspecified | unspecified |\n",
      "| 2019-06-03 00:00:00 | 1900081697 | CARD_CSOB     | ZB00000699  |          1 |               0 |              26.395   |  19.1814    |            35.2039  | E-COMMER     | RUN.czC   | RUN.czO  | top4running.cz  | 2019-06-03 10:44:00 | Fly By Mini 2-in-1                     | 1328163-001      |        106 | Under Armour     |         200 | Apparel   |         240 | Pants           |         242 | Shorts                  | running     | women       | adults      | Black       | S/M         |\n",
      "| 2019-06-03 00:00:00 | 1900081697 | CARD_CSOB     | ZB00021901  |          1 |               0 |              26.395   |  17.0543    |            35.2039  | E-COMMER     | RUN.czC   | RUN.czO  | top4running.cz  | 2019-06-03 10:44:00 | Crossback Graphic                      | 1317111-001      |        106 | Under Armour     |         200 | Apparel   |         285 | Bras            |           0 | unspecified             | running     | women       | adults      | Black       | S/M         |\n",
      "| 2019-06-03 00:00:00 | 1900081856 | COD           | ZB00026563  |          1 |               0 |              54.2057  |  26.7516    |            54.2057  | E-COMMER     | FTB.skC   | FTB.skO  | 11teamsports.sk | 2019-06-03 09:23:00 | LEGEND 7 ACADEMY FG                    | ah7242-118       |         84 | Nike             |         100 | Footwear  |         110 | Football shoes  |           0 | unspecified             | football    | men         | adults      | White       | 39          |\n",
      "| 2019-06-03 00:00:00 | 1900081481 | COD           | S101        |          1 |               0 |               1.56977 |   0         |             1.56977 | E-COMMER     | RUN.czC   | RUN.czO  | top4running.cz  | 2019-06-03 09:16:00 | Dopravné                               | unspecified      |         -1 | no_manufacturer  |         999 | Other     |           0 | unspecified     |           0 | unspecified             | unspecified | unspecified | unspecified | unspecified | unspecified |\n",
      "| 2019-06-04 00:00:00 | 1900080515 | CARD_CSOB     | ZB00000385  |          1 |               0 |              11.1795  |   8.12326   |            15.9845  | E-COMMER     | FTB.czC   | FTB.czO  | 11teamsports.cz | 2019-06-04 15:31:00 | NK HERITAGE HIP PACK                   | ba5750-605       |         84 | Nike             |         300 | Equipment |         305 | Bags            |           0 | unspecified             | football    | unisex      | adults      | Pink        | ks          |\n",
      "| 2019-06-04 00:00:00 | 1900080514 | COD           | ZB00007916  |          1 |               0 |              17.2245  |  12.6612    |            22.9069  | E-COMMER     | FTB.roC   | FTB.roO  | 11teamsports.ro | 2019-06-04 15:31:00 | RC FEF TEE- SPEEDWICK                  | dt2772           |         88 | Reebok           |         200 | Apparel   |         230 | T-Shirts        |           0 | unspecified             | fitness     | men         | adults      | Black       | M           |\n",
      "| 2019-06-04 00:00:00 | 1900080514 | COD           | S101        |          1 |               0 |               2.66472 |   0         |             2.86822 | E-COMMER     | FTB.roC   | FTB.roO  | 11teamsports.ro | 2019-06-04 15:31:00 | Dopravné                               | unspecified      |         -1 | no_manufacturer  |         999 | Other     |           0 | unspecified     |           0 | unspecified             | unspecified | unspecified | unspecified | unspecified | unspecified |\n",
      "| 2019-06-04 00:00:00 | 1900080516 | COD           | S101        |          1 |               0 |               2.66472 |   0         |             2.86822 | E-COMMER     | FTB.roC   | FTB.roO  | 11teamsports.ro | 2019-06-04 15:31:00 | Dopravné                               | unspecified      |         -1 | no_manufacturer  |         999 | Other     |           0 | unspecified     |           0 | unspecified             | unspecified | unspecified | unspecified | unspecified | unspecified |\n",
      "| 2019-06-04 00:00:00 | 1900080516 | COD           | ZB00010633  |          1 |               0 |              15.0944  |  10.8527    |            21.4868  | E-COMMER     | FTB.roC   | FTB.roO  | 11teamsports.ro | 2019-06-04 15:31:00 | UA SPORTSTYLE LC SS                    | 1326799-289      |        106 | Under Armour     |         200 | Apparel   |         230 | T-Shirts        |           0 | unspecified             | football    | men         | adults      | Brown       | M           |\n",
      "| 2019-06-04 00:00:00 | 1900080518 | COD           | ZB00023141  |          1 |               0 |              37.2868  |  35.0814    |            62.1527  | E-COMMER     | FTB.huC   | FTB.huO  | 11teamsports.hu | 2019-06-04 15:32:00 | WL420                                  | wl420npn         |        123 | New Balance      |         100 | Footwear  |         199 | Other Footwear  |           0 | unspecified             | lifestyle   | women       | adults      | Blue        | 37,5        |\n",
      "| 2019-06-04 00:00:00 | 1900080518 | COD           | S101        |          1 |               0 |               2.4111  |   0         |             2.86822 | E-COMMER     | FTB.huC   | FTB.huO  | 11teamsports.hu | 2019-06-04 15:32:00 | Dopravné                               | unspecified      |         -1 | no_manufacturer  |         999 | Other     |           0 | unspecified     |           0 | unspecified             | unspecified | unspecified | unspecified | unspecified | unspecified |\n",
      "| 2019-06-04 00:00:00 | 1900080519 | COD           | ZB00004599  |          1 |               0 |              55.1873  |  37.7519    |            68.972   | E-COMMER     | FTB.huC   | FTB.huO  | 11teamsports.hu | 2019-06-04 15:32:00 | NEMEZIZ 193 LL FG                      | f99997           |         85 | adidas           |         100 | Footwear  |         110 | Football shoes  |           0 | unspecified             | football    | men         | adults      | Red         | 43,3        |\n",
      "| 2019-06-04 00:00:00 | 1900080515 | CARD_CSOB     | S101        |          1 |               0 |               1.56977 |   0         |             2.86822 | E-COMMER     | FTB.czC   | FTB.czO  | 11teamsports.cz | 2019-06-04 15:31:00 | Dopravné                               | unspecified      |         -1 | no_manufacturer  |         999 | Other     |           0 | unspecified     |           0 | unspecified             | unspecified | unspecified | unspecified | unspecified | unspecified |\n",
      "| 2019-06-04 00:00:00 | 1900080511 | COD           | ZB00019767  |          1 |               0 |              59.4494  |  55.2353    |            99.0742  | E-COMMER     | RUN.huC   | RUN.huO  | top4running.hu  | 2019-06-04 15:31:00 | W NIKE AIR ZOOM PEGASUS 35 PRM         | ah8392-100       |         84 | Nike             |         100 | Footwear  |         120 | Running shoes   |           0 | unspecified             | running     | women       | adults      | White       | 40,5        |\n",
      "| 2019-06-04 00:00:00 | 1900081808 | COD           | ZB00014749  |          1 |               0 |             127.678   |  87.2229    |           150.053   | E-COMMER     | FTB.roC   | FTB.roO  | 11teamsports.ro | 2019-06-04 18:34:00 | AIR VAPORMAX 2019                      | ar6631-004       |         84 | Nike             |         100 | Footwear  |         199 | Other Footwear  |           0 | unspecified             | football    | men         | adults      | Black       | 41          |\n",
      "+---------------------+------------+---------------+-------------+------------+-----------------+-----------------------+-------------+---------------------+--------------+-----------+----------+-----------------+---------------------+----------------------------------------+------------------+------------+------------------+-------------+-----------+-------------+-----------------+-------------+-------------------------+-------------+-------------+-------------+-------------+-------------+\n"
     ]
    }
   ],
   "source": [
    "\n",
    "dc.print_df_with_dtypes(df, max_rows=200, print_on=True, data_generated_path=DATA_GENERATED_PATH, name_extension='EDA')"
   ]
  },
  {
   "cell_type": "markdown",
   "metadata": {},
   "source": [
    "### A customized plot function to plot in Tableau style"
   ]
  },
  {
   "cell_type": "code",
   "execution_count": 10,
   "metadata": {},
   "outputs": [
    {
     "data": {
      "text/plain": [
       "<module 'src.modules.data_cleaning' from '/Users/ds/data_science/demand_prediction_data/src/modules/data_cleaning.py'>"
      ]
     },
     "execution_count": 10,
     "metadata": {},
     "output_type": "execute_result"
    },
    {
     "data": {
      "application/vnd.plotly.v1+json": {
       "config": {
        "plotlyServerURL": "https://plot.ly"
       },
       "data": [
        {
         "marker": {
          "color": "rgba(128, 128, 128, 0.5)"
         },
         "name": "1",
         "showlegend": false,
         "type": "box",
         "x": [
          1,
          1,
          1,
          1,
          1,
          1
         ],
         "y": [
          18652,
          2903,
          12038,
          318,
          16110,
          78
         ]
        },
        {
         "legendgroup": "Apparel",
         "marker": {
          "color": "#636EFA",
          "size": 12
         },
         "mode": "markers",
         "name": "Apparel",
         "showlegend": true,
         "type": "scatter",
         "x": [
          1
         ],
         "y": [
          18652
         ]
        },
        {
         "legendgroup": "Other",
         "marker": {
          "color": "#EF553B",
          "size": 12
         },
         "mode": "markers",
         "name": "Other",
         "showlegend": true,
         "type": "scatter",
         "x": [
          1
         ],
         "y": [
          16110
         ]
        },
        {
         "legendgroup": "Footwear",
         "marker": {
          "color": "#00CC96",
          "size": 12
         },
         "mode": "markers",
         "name": "Footwear",
         "showlegend": true,
         "type": "scatter",
         "x": [
          1
         ],
         "y": [
          12038
         ]
        },
        {
         "legendgroup": "Equipment",
         "marker": {
          "color": "#AB63FA",
          "size": 12
         },
         "mode": "markers",
         "name": "Equipment",
         "showlegend": true,
         "type": "scatter",
         "x": [
          1
         ],
         "y": [
          2903
         ]
        },
        {
         "legendgroup": "Nutrition",
         "marker": {
          "color": "#FFA15A",
          "size": 12
         },
         "mode": "markers",
         "name": "Nutrition",
         "showlegend": true,
         "type": "scatter",
         "x": [
          1
         ],
         "y": [
          318
         ]
        },
        {
         "legendgroup": "unspecified",
         "marker": {
          "color": "#19D3F3",
          "size": 12
         },
         "mode": "markers",
         "name": "unspecified",
         "showlegend": true,
         "type": "scatter",
         "x": [
          1
         ],
         "y": [
          78
         ]
        },
        {
         "marker": {
          "color": "rgba(128, 128, 128, 0.5)"
         },
         "name": "2",
         "showlegend": false,
         "type": "box",
         "x": [
          2,
          2,
          2,
          2,
          2,
          2
         ],
         "y": [
          17222,
          2755,
          10800,
          296,
          14266,
          343
         ]
        },
        {
         "legendgroup": "Apparel",
         "marker": {
          "color": "#636EFA",
          "size": 12
         },
         "mode": "markers",
         "name": "Apparel",
         "showlegend": false,
         "type": "scatter",
         "x": [
          2
         ],
         "y": [
          17222
         ]
        },
        {
         "legendgroup": "Other",
         "marker": {
          "color": "#EF553B",
          "size": 12
         },
         "mode": "markers",
         "name": "Other",
         "showlegend": false,
         "type": "scatter",
         "x": [
          2
         ],
         "y": [
          14266
         ]
        },
        {
         "legendgroup": "Footwear",
         "marker": {
          "color": "#00CC96",
          "size": 12
         },
         "mode": "markers",
         "name": "Footwear",
         "showlegend": false,
         "type": "scatter",
         "x": [
          2
         ],
         "y": [
          10800
         ]
        },
        {
         "legendgroup": "Equipment",
         "marker": {
          "color": "#AB63FA",
          "size": 12
         },
         "mode": "markers",
         "name": "Equipment",
         "showlegend": false,
         "type": "scatter",
         "x": [
          2
         ],
         "y": [
          2755
         ]
        },
        {
         "legendgroup": "unspecified",
         "marker": {
          "color": "#FFA15A",
          "size": 12
         },
         "mode": "markers",
         "name": "unspecified",
         "showlegend": false,
         "type": "scatter",
         "x": [
          2
         ],
         "y": [
          343
         ]
        },
        {
         "legendgroup": "Nutrition",
         "marker": {
          "color": "#19D3F3",
          "size": 12
         },
         "mode": "markers",
         "name": "Nutrition",
         "showlegend": false,
         "type": "scatter",
         "x": [
          2
         ],
         "y": [
          296
         ]
        },
        {
         "marker": {
          "color": "rgba(128, 128, 128, 0.5)"
         },
         "name": "3",
         "showlegend": false,
         "type": "box",
         "x": [
          3,
          3,
          3,
          3,
          3
         ],
         "y": [
          10274,
          1841,
          7465,
          60,
          8976
         ]
        },
        {
         "legendgroup": "Apparel",
         "marker": {
          "color": "#636EFA",
          "size": 12
         },
         "mode": "markers",
         "name": "Apparel",
         "showlegend": false,
         "type": "scatter",
         "x": [
          3
         ],
         "y": [
          10274
         ]
        },
        {
         "legendgroup": "Other",
         "marker": {
          "color": "#EF553B",
          "size": 12
         },
         "mode": "markers",
         "name": "Other",
         "showlegend": false,
         "type": "scatter",
         "x": [
          3
         ],
         "y": [
          8976
         ]
        },
        {
         "legendgroup": "Footwear",
         "marker": {
          "color": "#00CC96",
          "size": 12
         },
         "mode": "markers",
         "name": "Footwear",
         "showlegend": false,
         "type": "scatter",
         "x": [
          3
         ],
         "y": [
          7465
         ]
        },
        {
         "legendgroup": "Equipment",
         "marker": {
          "color": "#AB63FA",
          "size": 12
         },
         "mode": "markers",
         "name": "Equipment",
         "showlegend": false,
         "type": "scatter",
         "x": [
          3
         ],
         "y": [
          1841
         ]
        },
        {
         "legendgroup": "Nutrition",
         "marker": {
          "color": "#FFA15A",
          "size": 12
         },
         "mode": "markers",
         "name": "Nutrition",
         "showlegend": false,
         "type": "scatter",
         "x": [
          3
         ],
         "y": [
          60
         ]
        },
        {
         "marker": {
          "color": "rgba(128, 128, 128, 0.5)"
         },
         "name": "4",
         "showlegend": false,
         "type": "box",
         "x": [
          4,
          4,
          4,
          4,
          4
         ],
         "y": [
          10231,
          1922,
          7677,
          49,
          8531
         ]
        },
        {
         "legendgroup": "Apparel",
         "marker": {
          "color": "#636EFA",
          "size": 12
         },
         "mode": "markers",
         "name": "Apparel",
         "showlegend": false,
         "type": "scatter",
         "x": [
          4
         ],
         "y": [
          10231
         ]
        },
        {
         "legendgroup": "Other",
         "marker": {
          "color": "#EF553B",
          "size": 12
         },
         "mode": "markers",
         "name": "Other",
         "showlegend": false,
         "type": "scatter",
         "x": [
          4
         ],
         "y": [
          8531
         ]
        },
        {
         "legendgroup": "Footwear",
         "marker": {
          "color": "#00CC96",
          "size": 12
         },
         "mode": "markers",
         "name": "Footwear",
         "showlegend": false,
         "type": "scatter",
         "x": [
          4
         ],
         "y": [
          7677
         ]
        },
        {
         "legendgroup": "Equipment",
         "marker": {
          "color": "#AB63FA",
          "size": 12
         },
         "mode": "markers",
         "name": "Equipment",
         "showlegend": false,
         "type": "scatter",
         "x": [
          4
         ],
         "y": [
          1922
         ]
        },
        {
         "legendgroup": "Nutrition",
         "marker": {
          "color": "#FFA15A",
          "size": 12
         },
         "mode": "markers",
         "name": "Nutrition",
         "showlegend": false,
         "type": "scatter",
         "x": [
          4
         ],
         "y": [
          49
         ]
        },
        {
         "marker": {
          "color": "rgba(128, 128, 128, 0.5)"
         },
         "name": "5",
         "showlegend": false,
         "type": "box",
         "x": [
          5,
          5,
          5,
          5,
          5
         ],
         "y": [
          10759,
          1696,
          7833,
          45,
          9282
         ]
        },
        {
         "legendgroup": "Apparel",
         "marker": {
          "color": "#636EFA",
          "size": 12
         },
         "mode": "markers",
         "name": "Apparel",
         "showlegend": false,
         "type": "scatter",
         "x": [
          5
         ],
         "y": [
          10759
         ]
        },
        {
         "legendgroup": "Other",
         "marker": {
          "color": "#EF553B",
          "size": 12
         },
         "mode": "markers",
         "name": "Other",
         "showlegend": false,
         "type": "scatter",
         "x": [
          5
         ],
         "y": [
          9282
         ]
        },
        {
         "legendgroup": "Footwear",
         "marker": {
          "color": "#00CC96",
          "size": 12
         },
         "mode": "markers",
         "name": "Footwear",
         "showlegend": false,
         "type": "scatter",
         "x": [
          5
         ],
         "y": [
          7833
         ]
        },
        {
         "legendgroup": "Equipment",
         "marker": {
          "color": "#AB63FA",
          "size": 12
         },
         "mode": "markers",
         "name": "Equipment",
         "showlegend": false,
         "type": "scatter",
         "x": [
          5
         ],
         "y": [
          1696
         ]
        },
        {
         "legendgroup": "Nutrition",
         "marker": {
          "color": "#FFA15A",
          "size": 12
         },
         "mode": "markers",
         "name": "Nutrition",
         "showlegend": false,
         "type": "scatter",
         "x": [
          5
         ],
         "y": [
          45
         ]
        },
        {
         "marker": {
          "color": "rgba(128, 128, 128, 0.5)"
         },
         "name": "6",
         "showlegend": false,
         "type": "box",
         "x": [
          6,
          6,
          6,
          6,
          6
         ],
         "y": [
          9657,
          1713,
          6744,
          120,
          8841
         ]
        },
        {
         "legendgroup": "Apparel",
         "marker": {
          "color": "#636EFA",
          "size": 12
         },
         "mode": "markers",
         "name": "Apparel",
         "showlegend": false,
         "type": "scatter",
         "x": [
          6
         ],
         "y": [
          9657
         ]
        },
        {
         "legendgroup": "Other",
         "marker": {
          "color": "#EF553B",
          "size": 12
         },
         "mode": "markers",
         "name": "Other",
         "showlegend": false,
         "type": "scatter",
         "x": [
          6
         ],
         "y": [
          8841
         ]
        },
        {
         "legendgroup": "Footwear",
         "marker": {
          "color": "#00CC96",
          "size": 12
         },
         "mode": "markers",
         "name": "Footwear",
         "showlegend": false,
         "type": "scatter",
         "x": [
          6
         ],
         "y": [
          6744
         ]
        },
        {
         "legendgroup": "Equipment",
         "marker": {
          "color": "#AB63FA",
          "size": 12
         },
         "mode": "markers",
         "name": "Equipment",
         "showlegend": false,
         "type": "scatter",
         "x": [
          6
         ],
         "y": [
          1713
         ]
        },
        {
         "legendgroup": "Nutrition",
         "marker": {
          "color": "#FFA15A",
          "size": 12
         },
         "mode": "markers",
         "name": "Nutrition",
         "showlegend": false,
         "type": "scatter",
         "x": [
          6
         ],
         "y": [
          120
         ]
        },
        {
         "marker": {
          "color": "rgba(128, 128, 128, 0.5)"
         },
         "name": "7",
         "showlegend": false,
         "type": "box",
         "x": [
          7,
          7,
          7,
          7,
          7
         ],
         "y": [
          9335,
          1673,
          6969,
          70,
          7914
         ]
        },
        {
         "legendgroup": "Apparel",
         "marker": {
          "color": "#636EFA",
          "size": 12
         },
         "mode": "markers",
         "name": "Apparel",
         "showlegend": false,
         "type": "scatter",
         "x": [
          7
         ],
         "y": [
          9335
         ]
        },
        {
         "legendgroup": "Other",
         "marker": {
          "color": "#EF553B",
          "size": 12
         },
         "mode": "markers",
         "name": "Other",
         "showlegend": false,
         "type": "scatter",
         "x": [
          7
         ],
         "y": [
          7914
         ]
        },
        {
         "legendgroup": "Footwear",
         "marker": {
          "color": "#00CC96",
          "size": 12
         },
         "mode": "markers",
         "name": "Footwear",
         "showlegend": false,
         "type": "scatter",
         "x": [
          7
         ],
         "y": [
          6969
         ]
        },
        {
         "legendgroup": "Equipment",
         "marker": {
          "color": "#AB63FA",
          "size": 12
         },
         "mode": "markers",
         "name": "Equipment",
         "showlegend": false,
         "type": "scatter",
         "x": [
          7
         ],
         "y": [
          1673
         ]
        },
        {
         "legendgroup": "Nutrition",
         "marker": {
          "color": "#FFA15A",
          "size": 12
         },
         "mode": "markers",
         "name": "Nutrition",
         "showlegend": false,
         "type": "scatter",
         "x": [
          7
         ],
         "y": [
          70
         ]
        },
        {
         "marker": {
          "color": "rgba(128, 128, 128, 0.5)"
         },
         "name": "8",
         "showlegend": false,
         "type": "box",
         "x": [
          8,
          8,
          8,
          8,
          8
         ],
         "y": [
          9916,
          1753,
          7690,
          69,
          8948
         ]
        },
        {
         "legendgroup": "Apparel",
         "marker": {
          "color": "#636EFA",
          "size": 12
         },
         "mode": "markers",
         "name": "Apparel",
         "showlegend": false,
         "type": "scatter",
         "x": [
          8
         ],
         "y": [
          9916
         ]
        },
        {
         "legendgroup": "Other",
         "marker": {
          "color": "#EF553B",
          "size": 12
         },
         "mode": "markers",
         "name": "Other",
         "showlegend": false,
         "type": "scatter",
         "x": [
          8
         ],
         "y": [
          8948
         ]
        },
        {
         "legendgroup": "Footwear",
         "marker": {
          "color": "#00CC96",
          "size": 12
         },
         "mode": "markers",
         "name": "Footwear",
         "showlegend": false,
         "type": "scatter",
         "x": [
          8
         ],
         "y": [
          7690
         ]
        },
        {
         "legendgroup": "Equipment",
         "marker": {
          "color": "#AB63FA",
          "size": 12
         },
         "mode": "markers",
         "name": "Equipment",
         "showlegend": false,
         "type": "scatter",
         "x": [
          8
         ],
         "y": [
          1753
         ]
        },
        {
         "legendgroup": "Nutrition",
         "marker": {
          "color": "#FFA15A",
          "size": 12
         },
         "mode": "markers",
         "name": "Nutrition",
         "showlegend": false,
         "type": "scatter",
         "x": [
          8
         ],
         "y": [
          69
         ]
        },
        {
         "marker": {
          "color": "rgba(128, 128, 128, 0.5)"
         },
         "name": "9",
         "showlegend": false,
         "type": "box",
         "x": [
          9,
          9,
          9,
          9,
          9
         ],
         "y": [
          10215,
          1841,
          8594,
          116,
          8901
         ]
        },
        {
         "legendgroup": "Apparel",
         "marker": {
          "color": "#636EFA",
          "size": 12
         },
         "mode": "markers",
         "name": "Apparel",
         "showlegend": false,
         "type": "scatter",
         "x": [
          9
         ],
         "y": [
          10215
         ]
        },
        {
         "legendgroup": "Other",
         "marker": {
          "color": "#EF553B",
          "size": 12
         },
         "mode": "markers",
         "name": "Other",
         "showlegend": false,
         "type": "scatter",
         "x": [
          9
         ],
         "y": [
          8901
         ]
        },
        {
         "legendgroup": "Footwear",
         "marker": {
          "color": "#00CC96",
          "size": 12
         },
         "mode": "markers",
         "name": "Footwear",
         "showlegend": false,
         "type": "scatter",
         "x": [
          9
         ],
         "y": [
          8594
         ]
        },
        {
         "legendgroup": "Equipment",
         "marker": {
          "color": "#AB63FA",
          "size": 12
         },
         "mode": "markers",
         "name": "Equipment",
         "showlegend": false,
         "type": "scatter",
         "x": [
          9
         ],
         "y": [
          1841
         ]
        },
        {
         "legendgroup": "Nutrition",
         "marker": {
          "color": "#FFA15A",
          "size": 12
         },
         "mode": "markers",
         "name": "Nutrition",
         "showlegend": false,
         "type": "scatter",
         "x": [
          9
         ],
         "y": [
          116
         ]
        },
        {
         "marker": {
          "color": "rgba(128, 128, 128, 0.5)"
         },
         "name": "10",
         "showlegend": false,
         "type": "box",
         "x": [
          10,
          10,
          10,
          10,
          10
         ],
         "y": [
          10235,
          1846,
          8882,
          119,
          9415
         ]
        },
        {
         "legendgroup": "Apparel",
         "marker": {
          "color": "#636EFA",
          "size": 12
         },
         "mode": "markers",
         "name": "Apparel",
         "showlegend": false,
         "type": "scatter",
         "x": [
          10
         ],
         "y": [
          10235
         ]
        },
        {
         "legendgroup": "Other",
         "marker": {
          "color": "#EF553B",
          "size": 12
         },
         "mode": "markers",
         "name": "Other",
         "showlegend": false,
         "type": "scatter",
         "x": [
          10
         ],
         "y": [
          9415
         ]
        },
        {
         "legendgroup": "Footwear",
         "marker": {
          "color": "#00CC96",
          "size": 12
         },
         "mode": "markers",
         "name": "Footwear",
         "showlegend": false,
         "type": "scatter",
         "x": [
          10
         ],
         "y": [
          8882
         ]
        },
        {
         "legendgroup": "Equipment",
         "marker": {
          "color": "#AB63FA",
          "size": 12
         },
         "mode": "markers",
         "name": "Equipment",
         "showlegend": false,
         "type": "scatter",
         "x": [
          10
         ],
         "y": [
          1846
         ]
        },
        {
         "legendgroup": "Nutrition",
         "marker": {
          "color": "#FFA15A",
          "size": 12
         },
         "mode": "markers",
         "name": "Nutrition",
         "showlegend": false,
         "type": "scatter",
         "x": [
          10
         ],
         "y": [
          119
         ]
        },
        {
         "marker": {
          "color": "rgba(128, 128, 128, 0.5)"
         },
         "name": "11",
         "showlegend": false,
         "type": "box",
         "x": [
          11,
          11,
          11,
          11,
          11
         ],
         "y": [
          10003,
          1876,
          8466,
          42,
          9785
         ]
        },
        {
         "legendgroup": "Apparel",
         "marker": {
          "color": "#636EFA",
          "size": 12
         },
         "mode": "markers",
         "name": "Apparel",
         "showlegend": false,
         "type": "scatter",
         "x": [
          11
         ],
         "y": [
          10003
         ]
        },
        {
         "legendgroup": "Other",
         "marker": {
          "color": "#EF553B",
          "size": 12
         },
         "mode": "markers",
         "name": "Other",
         "showlegend": false,
         "type": "scatter",
         "x": [
          11
         ],
         "y": [
          9785
         ]
        },
        {
         "legendgroup": "Footwear",
         "marker": {
          "color": "#00CC96",
          "size": 12
         },
         "mode": "markers",
         "name": "Footwear",
         "showlegend": false,
         "type": "scatter",
         "x": [
          11
         ],
         "y": [
          8466
         ]
        },
        {
         "legendgroup": "Equipment",
         "marker": {
          "color": "#AB63FA",
          "size": 12
         },
         "mode": "markers",
         "name": "Equipment",
         "showlegend": false,
         "type": "scatter",
         "x": [
          11
         ],
         "y": [
          1876
         ]
        },
        {
         "legendgroup": "Nutrition",
         "marker": {
          "color": "#FFA15A",
          "size": 12
         },
         "mode": "markers",
         "name": "Nutrition",
         "showlegend": false,
         "type": "scatter",
         "x": [
          11
         ],
         "y": [
          42
         ]
        },
        {
         "marker": {
          "color": "rgba(128, 128, 128, 0.5)"
         },
         "name": "12",
         "showlegend": false,
         "type": "box",
         "x": [
          12,
          12,
          12,
          12,
          12
         ],
         "y": [
          9129,
          2149,
          7293,
          99,
          10312
         ]
        },
        {
         "legendgroup": "Other",
         "marker": {
          "color": "#636EFA",
          "size": 12
         },
         "mode": "markers",
         "name": "Other",
         "showlegend": false,
         "type": "scatter",
         "x": [
          12
         ],
         "y": [
          10312
         ]
        },
        {
         "legendgroup": "Apparel",
         "marker": {
          "color": "#EF553B",
          "size": 12
         },
         "mode": "markers",
         "name": "Apparel",
         "showlegend": false,
         "type": "scatter",
         "x": [
          12
         ],
         "y": [
          9129
         ]
        },
        {
         "legendgroup": "Footwear",
         "marker": {
          "color": "#00CC96",
          "size": 12
         },
         "mode": "markers",
         "name": "Footwear",
         "showlegend": false,
         "type": "scatter",
         "x": [
          12
         ],
         "y": [
          7293
         ]
        },
        {
         "legendgroup": "Equipment",
         "marker": {
          "color": "#AB63FA",
          "size": 12
         },
         "mode": "markers",
         "name": "Equipment",
         "showlegend": false,
         "type": "scatter",
         "x": [
          12
         ],
         "y": [
          2149
         ]
        },
        {
         "legendgroup": "Nutrition",
         "marker": {
          "color": "#FFA15A",
          "size": 12
         },
         "mode": "markers",
         "name": "Nutrition",
         "showlegend": false,
         "type": "scatter",
         "x": [
          12
         ],
         "y": [
          99
         ]
        },
        {
         "marker": {
          "color": "rgba(128, 128, 128, 0.5)"
         },
         "name": "13",
         "showlegend": false,
         "type": "box",
         "x": [
          13,
          13,
          13,
          13,
          13
         ],
         "y": [
          9360,
          1980,
          7501,
          93,
          10463
         ]
        },
        {
         "legendgroup": "Other",
         "marker": {
          "color": "#636EFA",
          "size": 12
         },
         "mode": "markers",
         "name": "Other",
         "showlegend": false,
         "type": "scatter",
         "x": [
          13
         ],
         "y": [
          10463
         ]
        },
        {
         "legendgroup": "Apparel",
         "marker": {
          "color": "#EF553B",
          "size": 12
         },
         "mode": "markers",
         "name": "Apparel",
         "showlegend": false,
         "type": "scatter",
         "x": [
          13
         ],
         "y": [
          9360
         ]
        },
        {
         "legendgroup": "Footwear",
         "marker": {
          "color": "#00CC96",
          "size": 12
         },
         "mode": "markers",
         "name": "Footwear",
         "showlegend": false,
         "type": "scatter",
         "x": [
          13
         ],
         "y": [
          7501
         ]
        },
        {
         "legendgroup": "Equipment",
         "marker": {
          "color": "#AB63FA",
          "size": 12
         },
         "mode": "markers",
         "name": "Equipment",
         "showlegend": false,
         "type": "scatter",
         "x": [
          13
         ],
         "y": [
          1980
         ]
        },
        {
         "legendgroup": "Nutrition",
         "marker": {
          "color": "#FFA15A",
          "size": 12
         },
         "mode": "markers",
         "name": "Nutrition",
         "showlegend": false,
         "type": "scatter",
         "x": [
          13
         ],
         "y": [
          93
         ]
        },
        {
         "marker": {
          "color": "rgba(128, 128, 128, 0.5)"
         },
         "name": "14",
         "showlegend": false,
         "type": "box",
         "x": [
          14,
          14,
          14,
          14,
          14
         ],
         "y": [
          10401,
          2652,
          7943,
          124,
          10805
         ]
        },
        {
         "legendgroup": "Other",
         "marker": {
          "color": "#636EFA",
          "size": 12
         },
         "mode": "markers",
         "name": "Other",
         "showlegend": false,
         "type": "scatter",
         "x": [
          14
         ],
         "y": [
          10805
         ]
        },
        {
         "legendgroup": "Apparel",
         "marker": {
          "color": "#EF553B",
          "size": 12
         },
         "mode": "markers",
         "name": "Apparel",
         "showlegend": false,
         "type": "scatter",
         "x": [
          14
         ],
         "y": [
          10401
         ]
        },
        {
         "legendgroup": "Footwear",
         "marker": {
          "color": "#00CC96",
          "size": 12
         },
         "mode": "markers",
         "name": "Footwear",
         "showlegend": false,
         "type": "scatter",
         "x": [
          14
         ],
         "y": [
          7943
         ]
        },
        {
         "legendgroup": "Equipment",
         "marker": {
          "color": "#AB63FA",
          "size": 12
         },
         "mode": "markers",
         "name": "Equipment",
         "showlegend": false,
         "type": "scatter",
         "x": [
          14
         ],
         "y": [
          2652
         ]
        },
        {
         "legendgroup": "Nutrition",
         "marker": {
          "color": "#FFA15A",
          "size": 12
         },
         "mode": "markers",
         "name": "Nutrition",
         "showlegend": false,
         "type": "scatter",
         "x": [
          14
         ],
         "y": [
          124
         ]
        },
        {
         "marker": {
          "color": "rgba(128, 128, 128, 0.5)"
         },
         "name": "15",
         "showlegend": false,
         "type": "box",
         "x": [
          15,
          15,
          15,
          15,
          15
         ],
         "y": [
          11657,
          3366,
          8427,
          319,
          11698
         ]
        },
        {
         "legendgroup": "Other",
         "marker": {
          "color": "#636EFA",
          "size": 12
         },
         "mode": "markers",
         "name": "Other",
         "showlegend": false,
         "type": "scatter",
         "x": [
          15
         ],
         "y": [
          11698
         ]
        },
        {
         "legendgroup": "Apparel",
         "marker": {
          "color": "#EF553B",
          "size": 12
         },
         "mode": "markers",
         "name": "Apparel",
         "showlegend": false,
         "type": "scatter",
         "x": [
          15
         ],
         "y": [
          11657
         ]
        },
        {
         "legendgroup": "Footwear",
         "marker": {
          "color": "#00CC96",
          "size": 12
         },
         "mode": "markers",
         "name": "Footwear",
         "showlegend": false,
         "type": "scatter",
         "x": [
          15
         ],
         "y": [
          8427
         ]
        },
        {
         "legendgroup": "Equipment",
         "marker": {
          "color": "#AB63FA",
          "size": 12
         },
         "mode": "markers",
         "name": "Equipment",
         "showlegend": false,
         "type": "scatter",
         "x": [
          15
         ],
         "y": [
          3366
         ]
        },
        {
         "legendgroup": "Nutrition",
         "marker": {
          "color": "#FFA15A",
          "size": 12
         },
         "mode": "markers",
         "name": "Nutrition",
         "showlegend": false,
         "type": "scatter",
         "x": [
          15
         ],
         "y": [
          319
         ]
        },
        {
         "marker": {
          "color": "rgba(128, 128, 128, 0.5)"
         },
         "name": "16",
         "showlegend": false,
         "type": "box",
         "x": [
          16,
          16,
          16,
          16,
          16
         ],
         "y": [
          11110,
          2331,
          8255,
          194,
          12691
         ]
        },
        {
         "legendgroup": "Other",
         "marker": {
          "color": "#636EFA",
          "size": 12
         },
         "mode": "markers",
         "name": "Other",
         "showlegend": false,
         "type": "scatter",
         "x": [
          16
         ],
         "y": [
          12691
         ]
        },
        {
         "legendgroup": "Apparel",
         "marker": {
          "color": "#EF553B",
          "size": 12
         },
         "mode": "markers",
         "name": "Apparel",
         "showlegend": false,
         "type": "scatter",
         "x": [
          16
         ],
         "y": [
          11110
         ]
        },
        {
         "legendgroup": "Footwear",
         "marker": {
          "color": "#00CC96",
          "size": 12
         },
         "mode": "markers",
         "name": "Footwear",
         "showlegend": false,
         "type": "scatter",
         "x": [
          16
         ],
         "y": [
          8255
         ]
        },
        {
         "legendgroup": "Equipment",
         "marker": {
          "color": "#AB63FA",
          "size": 12
         },
         "mode": "markers",
         "name": "Equipment",
         "showlegend": false,
         "type": "scatter",
         "x": [
          16
         ],
         "y": [
          2331
         ]
        },
        {
         "legendgroup": "Nutrition",
         "marker": {
          "color": "#FFA15A",
          "size": 12
         },
         "mode": "markers",
         "name": "Nutrition",
         "showlegend": false,
         "type": "scatter",
         "x": [
          16
         ],
         "y": [
          194
         ]
        },
        {
         "marker": {
          "color": "rgba(128, 128, 128, 0.5)"
         },
         "name": "17",
         "showlegend": false,
         "type": "box",
         "x": [
          17,
          17,
          17,
          17,
          17
         ],
         "y": [
          10613,
          2104,
          8134,
          141,
          11365
         ]
        },
        {
         "legendgroup": "Other",
         "marker": {
          "color": "#636EFA",
          "size": 12
         },
         "mode": "markers",
         "name": "Other",
         "showlegend": false,
         "type": "scatter",
         "x": [
          17
         ],
         "y": [
          11365
         ]
        },
        {
         "legendgroup": "Apparel",
         "marker": {
          "color": "#EF553B",
          "size": 12
         },
         "mode": "markers",
         "name": "Apparel",
         "showlegend": false,
         "type": "scatter",
         "x": [
          17
         ],
         "y": [
          10613
         ]
        },
        {
         "legendgroup": "Footwear",
         "marker": {
          "color": "#00CC96",
          "size": 12
         },
         "mode": "markers",
         "name": "Footwear",
         "showlegend": false,
         "type": "scatter",
         "x": [
          17
         ],
         "y": [
          8134
         ]
        },
        {
         "legendgroup": "Equipment",
         "marker": {
          "color": "#AB63FA",
          "size": 12
         },
         "mode": "markers",
         "name": "Equipment",
         "showlegend": false,
         "type": "scatter",
         "x": [
          17
         ],
         "y": [
          2104
         ]
        },
        {
         "legendgroup": "Nutrition",
         "marker": {
          "color": "#FFA15A",
          "size": 12
         },
         "mode": "markers",
         "name": "Nutrition",
         "showlegend": false,
         "type": "scatter",
         "x": [
          17
         ],
         "y": [
          141
         ]
        },
        {
         "marker": {
          "color": "rgba(128, 128, 128, 0.5)"
         },
         "name": "18",
         "showlegend": false,
         "type": "box",
         "x": [
          18,
          18,
          18,
          18,
          18
         ],
         "y": [
          10035,
          1845,
          7982,
          161,
          11187
         ]
        },
        {
         "legendgroup": "Other",
         "marker": {
          "color": "#636EFA",
          "size": 12
         },
         "mode": "markers",
         "name": "Other",
         "showlegend": false,
         "type": "scatter",
         "x": [
          18
         ],
         "y": [
          11187
         ]
        },
        {
         "legendgroup": "Apparel",
         "marker": {
          "color": "#EF553B",
          "size": 12
         },
         "mode": "markers",
         "name": "Apparel",
         "showlegend": false,
         "type": "scatter",
         "x": [
          18
         ],
         "y": [
          10035
         ]
        },
        {
         "legendgroup": "Footwear",
         "marker": {
          "color": "#00CC96",
          "size": 12
         },
         "mode": "markers",
         "name": "Footwear",
         "showlegend": false,
         "type": "scatter",
         "x": [
          18
         ],
         "y": [
          7982
         ]
        },
        {
         "legendgroup": "Equipment",
         "marker": {
          "color": "#AB63FA",
          "size": 12
         },
         "mode": "markers",
         "name": "Equipment",
         "showlegend": false,
         "type": "scatter",
         "x": [
          18
         ],
         "y": [
          1845
         ]
        },
        {
         "legendgroup": "Nutrition",
         "marker": {
          "color": "#FFA15A",
          "size": 12
         },
         "mode": "markers",
         "name": "Nutrition",
         "showlegend": false,
         "type": "scatter",
         "x": [
          18
         ],
         "y": [
          161
         ]
        },
        {
         "marker": {
          "color": "rgba(128, 128, 128, 0.5)"
         },
         "name": "19",
         "showlegend": false,
         "type": "box",
         "x": [
          19,
          19,
          19,
          19,
          19
         ],
         "y": [
          11062,
          1584,
          8467,
          79,
          11964
         ]
        },
        {
         "legendgroup": "Other",
         "marker": {
          "color": "#636EFA",
          "size": 12
         },
         "mode": "markers",
         "name": "Other",
         "showlegend": false,
         "type": "scatter",
         "x": [
          19
         ],
         "y": [
          11964
         ]
        },
        {
         "legendgroup": "Apparel",
         "marker": {
          "color": "#EF553B",
          "size": 12
         },
         "mode": "markers",
         "name": "Apparel",
         "showlegend": false,
         "type": "scatter",
         "x": [
          19
         ],
         "y": [
          11062
         ]
        },
        {
         "legendgroup": "Footwear",
         "marker": {
          "color": "#00CC96",
          "size": 12
         },
         "mode": "markers",
         "name": "Footwear",
         "showlegend": false,
         "type": "scatter",
         "x": [
          19
         ],
         "y": [
          8467
         ]
        },
        {
         "legendgroup": "Equipment",
         "marker": {
          "color": "#AB63FA",
          "size": 12
         },
         "mode": "markers",
         "name": "Equipment",
         "showlegend": false,
         "type": "scatter",
         "x": [
          19
         ],
         "y": [
          1584
         ]
        },
        {
         "legendgroup": "Nutrition",
         "marker": {
          "color": "#FFA15A",
          "size": 12
         },
         "mode": "markers",
         "name": "Nutrition",
         "showlegend": false,
         "type": "scatter",
         "x": [
          19
         ],
         "y": [
          79
         ]
        },
        {
         "marker": {
          "color": "rgba(128, 128, 128, 0.5)"
         },
         "name": "20",
         "showlegend": false,
         "type": "box",
         "x": [
          20,
          20,
          20,
          20,
          20
         ],
         "y": [
          10174,
          1514,
          8610,
          181,
          12009
         ]
        },
        {
         "legendgroup": "Other",
         "marker": {
          "color": "#636EFA",
          "size": 12
         },
         "mode": "markers",
         "name": "Other",
         "showlegend": false,
         "type": "scatter",
         "x": [
          20
         ],
         "y": [
          12009
         ]
        },
        {
         "legendgroup": "Apparel",
         "marker": {
          "color": "#EF553B",
          "size": 12
         },
         "mode": "markers",
         "name": "Apparel",
         "showlegend": false,
         "type": "scatter",
         "x": [
          20
         ],
         "y": [
          10174
         ]
        },
        {
         "legendgroup": "Footwear",
         "marker": {
          "color": "#00CC96",
          "size": 12
         },
         "mode": "markers",
         "name": "Footwear",
         "showlegend": false,
         "type": "scatter",
         "x": [
          20
         ],
         "y": [
          8610
         ]
        },
        {
         "legendgroup": "Equipment",
         "marker": {
          "color": "#AB63FA",
          "size": 12
         },
         "mode": "markers",
         "name": "Equipment",
         "showlegend": false,
         "type": "scatter",
         "x": [
          20
         ],
         "y": [
          1514
         ]
        },
        {
         "legendgroup": "Nutrition",
         "marker": {
          "color": "#FFA15A",
          "size": 12
         },
         "mode": "markers",
         "name": "Nutrition",
         "showlegend": false,
         "type": "scatter",
         "x": [
          20
         ],
         "y": [
          181
         ]
        },
        {
         "marker": {
          "color": "rgba(128, 128, 128, 0.5)"
         },
         "name": "21",
         "showlegend": false,
         "type": "box",
         "x": [
          21,
          21,
          21,
          21,
          21
         ],
         "y": [
          10834,
          1477,
          8884,
          122,
          11963
         ]
        },
        {
         "legendgroup": "Other",
         "marker": {
          "color": "#636EFA",
          "size": 12
         },
         "mode": "markers",
         "name": "Other",
         "showlegend": false,
         "type": "scatter",
         "x": [
          21
         ],
         "y": [
          11963
         ]
        },
        {
         "legendgroup": "Apparel",
         "marker": {
          "color": "#EF553B",
          "size": 12
         },
         "mode": "markers",
         "name": "Apparel",
         "showlegend": false,
         "type": "scatter",
         "x": [
          21
         ],
         "y": [
          10834
         ]
        },
        {
         "legendgroup": "Footwear",
         "marker": {
          "color": "#00CC96",
          "size": 12
         },
         "mode": "markers",
         "name": "Footwear",
         "showlegend": false,
         "type": "scatter",
         "x": [
          21
         ],
         "y": [
          8884
         ]
        },
        {
         "legendgroup": "Equipment",
         "marker": {
          "color": "#AB63FA",
          "size": 12
         },
         "mode": "markers",
         "name": "Equipment",
         "showlegend": false,
         "type": "scatter",
         "x": [
          21
         ],
         "y": [
          1477
         ]
        },
        {
         "legendgroup": "Nutrition",
         "marker": {
          "color": "#FFA15A",
          "size": 12
         },
         "mode": "markers",
         "name": "Nutrition",
         "showlegend": false,
         "type": "scatter",
         "x": [
          21
         ],
         "y": [
          122
         ]
        },
        {
         "marker": {
          "color": "rgba(128, 128, 128, 0.5)"
         },
         "name": "22",
         "showlegend": false,
         "type": "box",
         "x": [
          22,
          22,
          22,
          22,
          22
         ],
         "y": [
          10582,
          1434,
          8631,
          140,
          11646
         ]
        },
        {
         "legendgroup": "Other",
         "marker": {
          "color": "#636EFA",
          "size": 12
         },
         "mode": "markers",
         "name": "Other",
         "showlegend": false,
         "type": "scatter",
         "x": [
          22
         ],
         "y": [
          11646
         ]
        },
        {
         "legendgroup": "Apparel",
         "marker": {
          "color": "#EF553B",
          "size": 12
         },
         "mode": "markers",
         "name": "Apparel",
         "showlegend": false,
         "type": "scatter",
         "x": [
          22
         ],
         "y": [
          10582
         ]
        },
        {
         "legendgroup": "Footwear",
         "marker": {
          "color": "#00CC96",
          "size": 12
         },
         "mode": "markers",
         "name": "Footwear",
         "showlegend": false,
         "type": "scatter",
         "x": [
          22
         ],
         "y": [
          8631
         ]
        },
        {
         "legendgroup": "Equipment",
         "marker": {
          "color": "#AB63FA",
          "size": 12
         },
         "mode": "markers",
         "name": "Equipment",
         "showlegend": false,
         "type": "scatter",
         "x": [
          22
         ],
         "y": [
          1434
         ]
        },
        {
         "legendgroup": "Nutrition",
         "marker": {
          "color": "#FFA15A",
          "size": 12
         },
         "mode": "markers",
         "name": "Nutrition",
         "showlegend": false,
         "type": "scatter",
         "x": [
          22
         ],
         "y": [
          140
         ]
        },
        {
         "marker": {
          "color": "rgba(128, 128, 128, 0.5)"
         },
         "name": "23",
         "showlegend": false,
         "type": "box",
         "x": [
          23,
          23,
          23,
          23,
          23
         ],
         "y": [
          13074,
          2175,
          10756,
          205,
          14360
         ]
        },
        {
         "legendgroup": "Other",
         "marker": {
          "color": "#636EFA",
          "size": 12
         },
         "mode": "markers",
         "name": "Other",
         "showlegend": false,
         "type": "scatter",
         "x": [
          23
         ],
         "y": [
          14360
         ]
        },
        {
         "legendgroup": "Apparel",
         "marker": {
          "color": "#EF553B",
          "size": 12
         },
         "mode": "markers",
         "name": "Apparel",
         "showlegend": false,
         "type": "scatter",
         "x": [
          23
         ],
         "y": [
          13074
         ]
        },
        {
         "legendgroup": "Footwear",
         "marker": {
          "color": "#00CC96",
          "size": 12
         },
         "mode": "markers",
         "name": "Footwear",
         "showlegend": false,
         "type": "scatter",
         "x": [
          23
         ],
         "y": [
          10756
         ]
        },
        {
         "legendgroup": "Equipment",
         "marker": {
          "color": "#AB63FA",
          "size": 12
         },
         "mode": "markers",
         "name": "Equipment",
         "showlegend": false,
         "type": "scatter",
         "x": [
          23
         ],
         "y": [
          2175
         ]
        },
        {
         "legendgroup": "Nutrition",
         "marker": {
          "color": "#FFA15A",
          "size": 12
         },
         "mode": "markers",
         "name": "Nutrition",
         "showlegend": false,
         "type": "scatter",
         "x": [
          23
         ],
         "y": [
          205
         ]
        },
        {
         "marker": {
          "color": "rgba(128, 128, 128, 0.5)"
         },
         "name": "24",
         "showlegend": false,
         "type": "box",
         "x": [
          24,
          24,
          24,
          24,
          24
         ],
         "y": [
          11153,
          1734,
          8488,
          173,
          12206
         ]
        },
        {
         "legendgroup": "Other",
         "marker": {
          "color": "#636EFA",
          "size": 12
         },
         "mode": "markers",
         "name": "Other",
         "showlegend": false,
         "type": "scatter",
         "x": [
          24
         ],
         "y": [
          12206
         ]
        },
        {
         "legendgroup": "Apparel",
         "marker": {
          "color": "#EF553B",
          "size": 12
         },
         "mode": "markers",
         "name": "Apparel",
         "showlegend": false,
         "type": "scatter",
         "x": [
          24
         ],
         "y": [
          11153
         ]
        },
        {
         "legendgroup": "Footwear",
         "marker": {
          "color": "#00CC96",
          "size": 12
         },
         "mode": "markers",
         "name": "Footwear",
         "showlegend": false,
         "type": "scatter",
         "x": [
          24
         ],
         "y": [
          8488
         ]
        },
        {
         "legendgroup": "Equipment",
         "marker": {
          "color": "#AB63FA",
          "size": 12
         },
         "mode": "markers",
         "name": "Equipment",
         "showlegend": false,
         "type": "scatter",
         "x": [
          24
         ],
         "y": [
          1734
         ]
        },
        {
         "legendgroup": "Nutrition",
         "marker": {
          "color": "#FFA15A",
          "size": 12
         },
         "mode": "markers",
         "name": "Nutrition",
         "showlegend": false,
         "type": "scatter",
         "x": [
          24
         ],
         "y": [
          173
         ]
        },
        {
         "marker": {
          "color": "rgba(128, 128, 128, 0.5)"
         },
         "name": "25",
         "showlegend": false,
         "type": "box",
         "x": [
          25,
          25,
          25,
          25,
          25
         ],
         "y": [
          10007,
          1972,
          7982,
          119,
          11189
         ]
        },
        {
         "legendgroup": "Other",
         "marker": {
          "color": "#636EFA",
          "size": 12
         },
         "mode": "markers",
         "name": "Other",
         "showlegend": false,
         "type": "scatter",
         "x": [
          25
         ],
         "y": [
          11189
         ]
        },
        {
         "legendgroup": "Apparel",
         "marker": {
          "color": "#EF553B",
          "size": 12
         },
         "mode": "markers",
         "name": "Apparel",
         "showlegend": false,
         "type": "scatter",
         "x": [
          25
         ],
         "y": [
          10007
         ]
        },
        {
         "legendgroup": "Footwear",
         "marker": {
          "color": "#00CC96",
          "size": 12
         },
         "mode": "markers",
         "name": "Footwear",
         "showlegend": false,
         "type": "scatter",
         "x": [
          25
         ],
         "y": [
          7982
         ]
        },
        {
         "legendgroup": "Equipment",
         "marker": {
          "color": "#AB63FA",
          "size": 12
         },
         "mode": "markers",
         "name": "Equipment",
         "showlegend": false,
         "type": "scatter",
         "x": [
          25
         ],
         "y": [
          1972
         ]
        },
        {
         "legendgroup": "Nutrition",
         "marker": {
          "color": "#FFA15A",
          "size": 12
         },
         "mode": "markers",
         "name": "Nutrition",
         "showlegend": false,
         "type": "scatter",
         "x": [
          25
         ],
         "y": [
          119
         ]
        },
        {
         "marker": {
          "color": "rgba(128, 128, 128, 0.5)"
         },
         "name": "26",
         "showlegend": false,
         "type": "box",
         "x": [
          26,
          26,
          26,
          26,
          26
         ],
         "y": [
          8710,
          1518,
          7095,
          208,
          9701
         ]
        },
        {
         "legendgroup": "Other",
         "marker": {
          "color": "#636EFA",
          "size": 12
         },
         "mode": "markers",
         "name": "Other",
         "showlegend": false,
         "type": "scatter",
         "x": [
          26
         ],
         "y": [
          9701
         ]
        },
        {
         "legendgroup": "Apparel",
         "marker": {
          "color": "#EF553B",
          "size": 12
         },
         "mode": "markers",
         "name": "Apparel",
         "showlegend": false,
         "type": "scatter",
         "x": [
          26
         ],
         "y": [
          8710
         ]
        },
        {
         "legendgroup": "Footwear",
         "marker": {
          "color": "#00CC96",
          "size": 12
         },
         "mode": "markers",
         "name": "Footwear",
         "showlegend": false,
         "type": "scatter",
         "x": [
          26
         ],
         "y": [
          7095
         ]
        },
        {
         "legendgroup": "Equipment",
         "marker": {
          "color": "#AB63FA",
          "size": 12
         },
         "mode": "markers",
         "name": "Equipment",
         "showlegend": false,
         "type": "scatter",
         "x": [
          26
         ],
         "y": [
          1518
         ]
        },
        {
         "legendgroup": "Nutrition",
         "marker": {
          "color": "#FFA15A",
          "size": 12
         },
         "mode": "markers",
         "name": "Nutrition",
         "showlegend": false,
         "type": "scatter",
         "x": [
          26
         ],
         "y": [
          208
         ]
        },
        {
         "marker": {
          "color": "rgba(128, 128, 128, 0.5)"
         },
         "name": "27",
         "showlegend": false,
         "type": "box",
         "x": [
          27,
          27,
          27,
          27,
          27
         ],
         "y": [
          11368,
          1916,
          8461,
          138,
          11357
         ]
        },
        {
         "legendgroup": "Apparel",
         "marker": {
          "color": "#636EFA",
          "size": 12
         },
         "mode": "markers",
         "name": "Apparel",
         "showlegend": false,
         "type": "scatter",
         "x": [
          27
         ],
         "y": [
          11368
         ]
        },
        {
         "legendgroup": "Other",
         "marker": {
          "color": "#EF553B",
          "size": 12
         },
         "mode": "markers",
         "name": "Other",
         "showlegend": false,
         "type": "scatter",
         "x": [
          27
         ],
         "y": [
          11357
         ]
        },
        {
         "legendgroup": "Footwear",
         "marker": {
          "color": "#00CC96",
          "size": 12
         },
         "mode": "markers",
         "name": "Footwear",
         "showlegend": false,
         "type": "scatter",
         "x": [
          27
         ],
         "y": [
          8461
         ]
        },
        {
         "legendgroup": "Equipment",
         "marker": {
          "color": "#AB63FA",
          "size": 12
         },
         "mode": "markers",
         "name": "Equipment",
         "showlegend": false,
         "type": "scatter",
         "x": [
          27
         ],
         "y": [
          1916
         ]
        },
        {
         "legendgroup": "Nutrition",
         "marker": {
          "color": "#FFA15A",
          "size": 12
         },
         "mode": "markers",
         "name": "Nutrition",
         "showlegend": false,
         "type": "scatter",
         "x": [
          27
         ],
         "y": [
          138
         ]
        },
        {
         "marker": {
          "color": "rgba(128, 128, 128, 0.5)"
         },
         "name": "28",
         "showlegend": false,
         "type": "box",
         "x": [
          28,
          28,
          28,
          28,
          28
         ],
         "y": [
          12001,
          2448,
          10063,
          109,
          13248
         ]
        },
        {
         "legendgroup": "Other",
         "marker": {
          "color": "#636EFA",
          "size": 12
         },
         "mode": "markers",
         "name": "Other",
         "showlegend": false,
         "type": "scatter",
         "x": [
          28
         ],
         "y": [
          13248
         ]
        },
        {
         "legendgroup": "Apparel",
         "marker": {
          "color": "#EF553B",
          "size": 12
         },
         "mode": "markers",
         "name": "Apparel",
         "showlegend": false,
         "type": "scatter",
         "x": [
          28
         ],
         "y": [
          12001
         ]
        },
        {
         "legendgroup": "Footwear",
         "marker": {
          "color": "#00CC96",
          "size": 12
         },
         "mode": "markers",
         "name": "Footwear",
         "showlegend": false,
         "type": "scatter",
         "x": [
          28
         ],
         "y": [
          10063
         ]
        },
        {
         "legendgroup": "Equipment",
         "marker": {
          "color": "#AB63FA",
          "size": 12
         },
         "mode": "markers",
         "name": "Equipment",
         "showlegend": false,
         "type": "scatter",
         "x": [
          28
         ],
         "y": [
          2448
         ]
        },
        {
         "legendgroup": "Nutrition",
         "marker": {
          "color": "#FFA15A",
          "size": 12
         },
         "mode": "markers",
         "name": "Nutrition",
         "showlegend": false,
         "type": "scatter",
         "x": [
          28
         ],
         "y": [
          109
         ]
        },
        {
         "marker": {
          "color": "rgba(128, 128, 128, 0.5)"
         },
         "name": "29",
         "showlegend": false,
         "type": "box",
         "x": [
          29,
          29,
          29,
          29,
          29
         ],
         "y": [
          10794,
          2230,
          9344,
          266,
          12368
         ]
        },
        {
         "legendgroup": "Other",
         "marker": {
          "color": "#636EFA",
          "size": 12
         },
         "mode": "markers",
         "name": "Other",
         "showlegend": false,
         "type": "scatter",
         "x": [
          29
         ],
         "y": [
          12368
         ]
        },
        {
         "legendgroup": "Apparel",
         "marker": {
          "color": "#EF553B",
          "size": 12
         },
         "mode": "markers",
         "name": "Apparel",
         "showlegend": false,
         "type": "scatter",
         "x": [
          29
         ],
         "y": [
          10794
         ]
        },
        {
         "legendgroup": "Footwear",
         "marker": {
          "color": "#00CC96",
          "size": 12
         },
         "mode": "markers",
         "name": "Footwear",
         "showlegend": false,
         "type": "scatter",
         "x": [
          29
         ],
         "y": [
          9344
         ]
        },
        {
         "legendgroup": "Equipment",
         "marker": {
          "color": "#AB63FA",
          "size": 12
         },
         "mode": "markers",
         "name": "Equipment",
         "showlegend": false,
         "type": "scatter",
         "x": [
          29
         ],
         "y": [
          2230
         ]
        },
        {
         "legendgroup": "Nutrition",
         "marker": {
          "color": "#FFA15A",
          "size": 12
         },
         "mode": "markers",
         "name": "Nutrition",
         "showlegend": false,
         "type": "scatter",
         "x": [
          29
         ],
         "y": [
          266
         ]
        },
        {
         "marker": {
          "color": "rgba(128, 128, 128, 0.5)"
         },
         "name": "30",
         "showlegend": false,
         "type": "box",
         "x": [
          30,
          30,
          30,
          30,
          30
         ],
         "y": [
          11399,
          2151,
          9247,
          283,
          12551
         ]
        },
        {
         "legendgroup": "Other",
         "marker": {
          "color": "#636EFA",
          "size": 12
         },
         "mode": "markers",
         "name": "Other",
         "showlegend": false,
         "type": "scatter",
         "x": [
          30
         ],
         "y": [
          12551
         ]
        },
        {
         "legendgroup": "Apparel",
         "marker": {
          "color": "#EF553B",
          "size": 12
         },
         "mode": "markers",
         "name": "Apparel",
         "showlegend": false,
         "type": "scatter",
         "x": [
          30
         ],
         "y": [
          11399
         ]
        },
        {
         "legendgroup": "Footwear",
         "marker": {
          "color": "#00CC96",
          "size": 12
         },
         "mode": "markers",
         "name": "Footwear",
         "showlegend": false,
         "type": "scatter",
         "x": [
          30
         ],
         "y": [
          9247
         ]
        },
        {
         "legendgroup": "Equipment",
         "marker": {
          "color": "#AB63FA",
          "size": 12
         },
         "mode": "markers",
         "name": "Equipment",
         "showlegend": false,
         "type": "scatter",
         "x": [
          30
         ],
         "y": [
          2151
         ]
        },
        {
         "legendgroup": "Nutrition",
         "marker": {
          "color": "#FFA15A",
          "size": 12
         },
         "mode": "markers",
         "name": "Nutrition",
         "showlegend": false,
         "type": "scatter",
         "x": [
          30
         ],
         "y": [
          283
         ]
        },
        {
         "marker": {
          "color": "rgba(128, 128, 128, 0.5)"
         },
         "name": "31",
         "showlegend": false,
         "type": "box",
         "x": [
          31,
          31,
          31,
          31,
          31
         ],
         "y": [
          13310,
          2709,
          10732,
          223,
          13735
         ]
        },
        {
         "legendgroup": "Other",
         "marker": {
          "color": "#636EFA",
          "size": 12
         },
         "mode": "markers",
         "name": "Other",
         "showlegend": false,
         "type": "scatter",
         "x": [
          31
         ],
         "y": [
          13735
         ]
        },
        {
         "legendgroup": "Apparel",
         "marker": {
          "color": "#EF553B",
          "size": 12
         },
         "mode": "markers",
         "name": "Apparel",
         "showlegend": false,
         "type": "scatter",
         "x": [
          31
         ],
         "y": [
          13310
         ]
        },
        {
         "legendgroup": "Footwear",
         "marker": {
          "color": "#00CC96",
          "size": 12
         },
         "mode": "markers",
         "name": "Footwear",
         "showlegend": false,
         "type": "scatter",
         "x": [
          31
         ],
         "y": [
          10732
         ]
        },
        {
         "legendgroup": "Equipment",
         "marker": {
          "color": "#AB63FA",
          "size": 12
         },
         "mode": "markers",
         "name": "Equipment",
         "showlegend": false,
         "type": "scatter",
         "x": [
          31
         ],
         "y": [
          2709
         ]
        },
        {
         "legendgroup": "Nutrition",
         "marker": {
          "color": "#FFA15A",
          "size": 12
         },
         "mode": "markers",
         "name": "Nutrition",
         "showlegend": false,
         "type": "scatter",
         "x": [
          31
         ],
         "y": [
          223
         ]
        },
        {
         "marker": {
          "color": "rgba(128, 128, 128, 0.5)"
         },
         "name": "32",
         "showlegend": false,
         "type": "box",
         "x": [
          32,
          32,
          32,
          32,
          32
         ],
         "y": [
          13768,
          3193,
          10670,
          321,
          14954
         ]
        },
        {
         "legendgroup": "Other",
         "marker": {
          "color": "#636EFA",
          "size": 12
         },
         "mode": "markers",
         "name": "Other",
         "showlegend": false,
         "type": "scatter",
         "x": [
          32
         ],
         "y": [
          14954
         ]
        },
        {
         "legendgroup": "Apparel",
         "marker": {
          "color": "#EF553B",
          "size": 12
         },
         "mode": "markers",
         "name": "Apparel",
         "showlegend": false,
         "type": "scatter",
         "x": [
          32
         ],
         "y": [
          13768
         ]
        },
        {
         "legendgroup": "Footwear",
         "marker": {
          "color": "#00CC96",
          "size": 12
         },
         "mode": "markers",
         "name": "Footwear",
         "showlegend": false,
         "type": "scatter",
         "x": [
          32
         ],
         "y": [
          10670
         ]
        },
        {
         "legendgroup": "Equipment",
         "marker": {
          "color": "#AB63FA",
          "size": 12
         },
         "mode": "markers",
         "name": "Equipment",
         "showlegend": false,
         "type": "scatter",
         "x": [
          32
         ],
         "y": [
          3193
         ]
        },
        {
         "legendgroup": "Nutrition",
         "marker": {
          "color": "#FFA15A",
          "size": 12
         },
         "mode": "markers",
         "name": "Nutrition",
         "showlegend": false,
         "type": "scatter",
         "x": [
          32
         ],
         "y": [
          321
         ]
        },
        {
         "marker": {
          "color": "rgba(128, 128, 128, 0.5)"
         },
         "name": "33",
         "showlegend": false,
         "type": "box",
         "x": [
          33,
          33,
          33,
          33,
          33
         ],
         "y": [
          13078,
          3310,
          11438,
          410,
          15193
         ]
        },
        {
         "legendgroup": "Other",
         "marker": {
          "color": "#636EFA",
          "size": 12
         },
         "mode": "markers",
         "name": "Other",
         "showlegend": false,
         "type": "scatter",
         "x": [
          33
         ],
         "y": [
          15193
         ]
        },
        {
         "legendgroup": "Apparel",
         "marker": {
          "color": "#EF553B",
          "size": 12
         },
         "mode": "markers",
         "name": "Apparel",
         "showlegend": false,
         "type": "scatter",
         "x": [
          33
         ],
         "y": [
          13078
         ]
        },
        {
         "legendgroup": "Footwear",
         "marker": {
          "color": "#00CC96",
          "size": 12
         },
         "mode": "markers",
         "name": "Footwear",
         "showlegend": false,
         "type": "scatter",
         "x": [
          33
         ],
         "y": [
          11438
         ]
        },
        {
         "legendgroup": "Equipment",
         "marker": {
          "color": "#AB63FA",
          "size": 12
         },
         "mode": "markers",
         "name": "Equipment",
         "showlegend": false,
         "type": "scatter",
         "x": [
          33
         ],
         "y": [
          3310
         ]
        },
        {
         "legendgroup": "Nutrition",
         "marker": {
          "color": "#FFA15A",
          "size": 12
         },
         "mode": "markers",
         "name": "Nutrition",
         "showlegend": false,
         "type": "scatter",
         "x": [
          33
         ],
         "y": [
          410
         ]
        },
        {
         "marker": {
          "color": "rgba(128, 128, 128, 0.5)"
         },
         "name": "34",
         "showlegend": false,
         "type": "box",
         "x": [
          34,
          34,
          34,
          34,
          34
         ],
         "y": [
          13019,
          3106,
          10672,
          328,
          14093
         ]
        },
        {
         "legendgroup": "Other",
         "marker": {
          "color": "#636EFA",
          "size": 12
         },
         "mode": "markers",
         "name": "Other",
         "showlegend": false,
         "type": "scatter",
         "x": [
          34
         ],
         "y": [
          14093
         ]
        },
        {
         "legendgroup": "Apparel",
         "marker": {
          "color": "#EF553B",
          "size": 12
         },
         "mode": "markers",
         "name": "Apparel",
         "showlegend": false,
         "type": "scatter",
         "x": [
          34
         ],
         "y": [
          13019
         ]
        },
        {
         "legendgroup": "Footwear",
         "marker": {
          "color": "#00CC96",
          "size": 12
         },
         "mode": "markers",
         "name": "Footwear",
         "showlegend": false,
         "type": "scatter",
         "x": [
          34
         ],
         "y": [
          10672
         ]
        },
        {
         "legendgroup": "Equipment",
         "marker": {
          "color": "#AB63FA",
          "size": 12
         },
         "mode": "markers",
         "name": "Equipment",
         "showlegend": false,
         "type": "scatter",
         "x": [
          34
         ],
         "y": [
          3106
         ]
        },
        {
         "legendgroup": "Nutrition",
         "marker": {
          "color": "#FFA15A",
          "size": 12
         },
         "mode": "markers",
         "name": "Nutrition",
         "showlegend": false,
         "type": "scatter",
         "x": [
          34
         ],
         "y": [
          328
         ]
        },
        {
         "marker": {
          "color": "rgba(128, 128, 128, 0.5)"
         },
         "name": "35",
         "showlegend": false,
         "type": "box",
         "x": [
          35,
          35,
          35,
          35,
          35
         ],
         "y": [
          15872,
          3140,
          11826,
          406,
          15088
         ]
        },
        {
         "legendgroup": "Apparel",
         "marker": {
          "color": "#636EFA",
          "size": 12
         },
         "mode": "markers",
         "name": "Apparel",
         "showlegend": false,
         "type": "scatter",
         "x": [
          35
         ],
         "y": [
          15872
         ]
        },
        {
         "legendgroup": "Other",
         "marker": {
          "color": "#EF553B",
          "size": 12
         },
         "mode": "markers",
         "name": "Other",
         "showlegend": false,
         "type": "scatter",
         "x": [
          35
         ],
         "y": [
          15088
         ]
        },
        {
         "legendgroup": "Footwear",
         "marker": {
          "color": "#00CC96",
          "size": 12
         },
         "mode": "markers",
         "name": "Footwear",
         "showlegend": false,
         "type": "scatter",
         "x": [
          35
         ],
         "y": [
          11826
         ]
        },
        {
         "legendgroup": "Equipment",
         "marker": {
          "color": "#AB63FA",
          "size": 12
         },
         "mode": "markers",
         "name": "Equipment",
         "showlegend": false,
         "type": "scatter",
         "x": [
          35
         ],
         "y": [
          3140
         ]
        },
        {
         "legendgroup": "Nutrition",
         "marker": {
          "color": "#FFA15A",
          "size": 12
         },
         "mode": "markers",
         "name": "Nutrition",
         "showlegend": false,
         "type": "scatter",
         "x": [
          35
         ],
         "y": [
          406
         ]
        },
        {
         "marker": {
          "color": "rgba(128, 128, 128, 0.5)"
         },
         "name": "36",
         "showlegend": false,
         "type": "box",
         "x": [
          36,
          36,
          36,
          36,
          36
         ],
         "y": [
          16417,
          3484,
          12167,
          517,
          15939
         ]
        },
        {
         "legendgroup": "Apparel",
         "marker": {
          "color": "#636EFA",
          "size": 12
         },
         "mode": "markers",
         "name": "Apparel",
         "showlegend": false,
         "type": "scatter",
         "x": [
          36
         ],
         "y": [
          16417
         ]
        },
        {
         "legendgroup": "Other",
         "marker": {
          "color": "#EF553B",
          "size": 12
         },
         "mode": "markers",
         "name": "Other",
         "showlegend": false,
         "type": "scatter",
         "x": [
          36
         ],
         "y": [
          15939
         ]
        },
        {
         "legendgroup": "Footwear",
         "marker": {
          "color": "#00CC96",
          "size": 12
         },
         "mode": "markers",
         "name": "Footwear",
         "showlegend": false,
         "type": "scatter",
         "x": [
          36
         ],
         "y": [
          12167
         ]
        },
        {
         "legendgroup": "Equipment",
         "marker": {
          "color": "#AB63FA",
          "size": 12
         },
         "mode": "markers",
         "name": "Equipment",
         "showlegend": false,
         "type": "scatter",
         "x": [
          36
         ],
         "y": [
          3484
         ]
        },
        {
         "legendgroup": "Nutrition",
         "marker": {
          "color": "#FFA15A",
          "size": 12
         },
         "mode": "markers",
         "name": "Nutrition",
         "showlegend": false,
         "type": "scatter",
         "x": [
          36
         ],
         "y": [
          517
         ]
        },
        {
         "marker": {
          "color": "rgba(128, 128, 128, 0.5)"
         },
         "name": "37",
         "showlegend": false,
         "type": "box",
         "x": [
          37,
          37,
          37,
          37,
          37
         ],
         "y": [
          14723,
          2890,
          11676,
          457,
          13836
         ]
        },
        {
         "legendgroup": "Apparel",
         "marker": {
          "color": "#636EFA",
          "size": 12
         },
         "mode": "markers",
         "name": "Apparel",
         "showlegend": false,
         "type": "scatter",
         "x": [
          37
         ],
         "y": [
          14723
         ]
        },
        {
         "legendgroup": "Other",
         "marker": {
          "color": "#EF553B",
          "size": 12
         },
         "mode": "markers",
         "name": "Other",
         "showlegend": false,
         "type": "scatter",
         "x": [
          37
         ],
         "y": [
          13836
         ]
        },
        {
         "legendgroup": "Footwear",
         "marker": {
          "color": "#00CC96",
          "size": 12
         },
         "mode": "markers",
         "name": "Footwear",
         "showlegend": false,
         "type": "scatter",
         "x": [
          37
         ],
         "y": [
          11676
         ]
        },
        {
         "legendgroup": "Equipment",
         "marker": {
          "color": "#AB63FA",
          "size": 12
         },
         "mode": "markers",
         "name": "Equipment",
         "showlegend": false,
         "type": "scatter",
         "x": [
          37
         ],
         "y": [
          2890
         ]
        },
        {
         "legendgroup": "Nutrition",
         "marker": {
          "color": "#FFA15A",
          "size": 12
         },
         "mode": "markers",
         "name": "Nutrition",
         "showlegend": false,
         "type": "scatter",
         "x": [
          37
         ],
         "y": [
          457
         ]
        },
        {
         "marker": {
          "color": "rgba(128, 128, 128, 0.5)"
         },
         "name": "38",
         "showlegend": false,
         "type": "box",
         "x": [
          38,
          38,
          38,
          38,
          38
         ],
         "y": [
          14323,
          2624,
          10289,
          484,
          13776
         ]
        },
        {
         "legendgroup": "Apparel",
         "marker": {
          "color": "#636EFA",
          "size": 12
         },
         "mode": "markers",
         "name": "Apparel",
         "showlegend": false,
         "type": "scatter",
         "x": [
          38
         ],
         "y": [
          14323
         ]
        },
        {
         "legendgroup": "Other",
         "marker": {
          "color": "#EF553B",
          "size": 12
         },
         "mode": "markers",
         "name": "Other",
         "showlegend": false,
         "type": "scatter",
         "x": [
          38
         ],
         "y": [
          13776
         ]
        },
        {
         "legendgroup": "Footwear",
         "marker": {
          "color": "#00CC96",
          "size": 12
         },
         "mode": "markers",
         "name": "Footwear",
         "showlegend": false,
         "type": "scatter",
         "x": [
          38
         ],
         "y": [
          10289
         ]
        },
        {
         "legendgroup": "Equipment",
         "marker": {
          "color": "#AB63FA",
          "size": 12
         },
         "mode": "markers",
         "name": "Equipment",
         "showlegend": false,
         "type": "scatter",
         "x": [
          38
         ],
         "y": [
          2624
         ]
        },
        {
         "legendgroup": "Nutrition",
         "marker": {
          "color": "#FFA15A",
          "size": 12
         },
         "mode": "markers",
         "name": "Nutrition",
         "showlegend": false,
         "type": "scatter",
         "x": [
          38
         ],
         "y": [
          484
         ]
        },
        {
         "marker": {
          "color": "rgba(128, 128, 128, 0.5)"
         },
         "name": "39",
         "showlegend": false,
         "type": "box",
         "x": [
          39,
          39,
          39,
          39,
          39
         ],
         "y": [
          13069,
          2498,
          10378,
          277,
          13588
         ]
        },
        {
         "legendgroup": "Other",
         "marker": {
          "color": "#636EFA",
          "size": 12
         },
         "mode": "markers",
         "name": "Other",
         "showlegend": false,
         "type": "scatter",
         "x": [
          39
         ],
         "y": [
          13588
         ]
        },
        {
         "legendgroup": "Apparel",
         "marker": {
          "color": "#EF553B",
          "size": 12
         },
         "mode": "markers",
         "name": "Apparel",
         "showlegend": false,
         "type": "scatter",
         "x": [
          39
         ],
         "y": [
          13069
         ]
        },
        {
         "legendgroup": "Footwear",
         "marker": {
          "color": "#00CC96",
          "size": 12
         },
         "mode": "markers",
         "name": "Footwear",
         "showlegend": false,
         "type": "scatter",
         "x": [
          39
         ],
         "y": [
          10378
         ]
        },
        {
         "legendgroup": "Equipment",
         "marker": {
          "color": "#AB63FA",
          "size": 12
         },
         "mode": "markers",
         "name": "Equipment",
         "showlegend": false,
         "type": "scatter",
         "x": [
          39
         ],
         "y": [
          2498
         ]
        },
        {
         "legendgroup": "Nutrition",
         "marker": {
          "color": "#FFA15A",
          "size": 12
         },
         "mode": "markers",
         "name": "Nutrition",
         "showlegend": false,
         "type": "scatter",
         "x": [
          39
         ],
         "y": [
          277
         ]
        },
        {
         "marker": {
          "color": "rgba(128, 128, 128, 0.5)"
         },
         "name": "40",
         "showlegend": false,
         "type": "box",
         "x": [
          40,
          40,
          40,
          40,
          40
         ],
         "y": [
          15354,
          2859,
          10060,
          365,
          14402
         ]
        },
        {
         "legendgroup": "Apparel",
         "marker": {
          "color": "#636EFA",
          "size": 12
         },
         "mode": "markers",
         "name": "Apparel",
         "showlegend": false,
         "type": "scatter",
         "x": [
          40
         ],
         "y": [
          15354
         ]
        },
        {
         "legendgroup": "Other",
         "marker": {
          "color": "#EF553B",
          "size": 12
         },
         "mode": "markers",
         "name": "Other",
         "showlegend": false,
         "type": "scatter",
         "x": [
          40
         ],
         "y": [
          14402
         ]
        },
        {
         "legendgroup": "Footwear",
         "marker": {
          "color": "#00CC96",
          "size": 12
         },
         "mode": "markers",
         "name": "Footwear",
         "showlegend": false,
         "type": "scatter",
         "x": [
          40
         ],
         "y": [
          10060
         ]
        },
        {
         "legendgroup": "Equipment",
         "marker": {
          "color": "#AB63FA",
          "size": 12
         },
         "mode": "markers",
         "name": "Equipment",
         "showlegend": false,
         "type": "scatter",
         "x": [
          40
         ],
         "y": [
          2859
         ]
        },
        {
         "legendgroup": "Nutrition",
         "marker": {
          "color": "#FFA15A",
          "size": 12
         },
         "mode": "markers",
         "name": "Nutrition",
         "showlegend": false,
         "type": "scatter",
         "x": [
          40
         ],
         "y": [
          365
         ]
        },
        {
         "marker": {
          "color": "rgba(128, 128, 128, 0.5)"
         },
         "name": "41",
         "showlegend": false,
         "type": "box",
         "x": [
          41,
          41,
          41,
          41,
          41
         ],
         "y": [
          15205,
          3605,
          10033,
          313,
          14758
         ]
        },
        {
         "legendgroup": "Apparel",
         "marker": {
          "color": "#636EFA",
          "size": 12
         },
         "mode": "markers",
         "name": "Apparel",
         "showlegend": false,
         "type": "scatter",
         "x": [
          41
         ],
         "y": [
          15205
         ]
        },
        {
         "legendgroup": "Other",
         "marker": {
          "color": "#EF553B",
          "size": 12
         },
         "mode": "markers",
         "name": "Other",
         "showlegend": false,
         "type": "scatter",
         "x": [
          41
         ],
         "y": [
          14758
         ]
        },
        {
         "legendgroup": "Footwear",
         "marker": {
          "color": "#00CC96",
          "size": 12
         },
         "mode": "markers",
         "name": "Footwear",
         "showlegend": false,
         "type": "scatter",
         "x": [
          41
         ],
         "y": [
          10033
         ]
        },
        {
         "legendgroup": "Equipment",
         "marker": {
          "color": "#AB63FA",
          "size": 12
         },
         "mode": "markers",
         "name": "Equipment",
         "showlegend": false,
         "type": "scatter",
         "x": [
          41
         ],
         "y": [
          3605
         ]
        },
        {
         "legendgroup": "Nutrition",
         "marker": {
          "color": "#FFA15A",
          "size": 12
         },
         "mode": "markers",
         "name": "Nutrition",
         "showlegend": false,
         "type": "scatter",
         "x": [
          41
         ],
         "y": [
          313
         ]
        },
        {
         "marker": {
          "color": "rgba(128, 128, 128, 0.5)"
         },
         "name": "42",
         "showlegend": false,
         "type": "box",
         "x": [
          42,
          42,
          42,
          42,
          42
         ],
         "y": [
          13569,
          3025,
          8742,
          251,
          12789
         ]
        },
        {
         "legendgroup": "Apparel",
         "marker": {
          "color": "#636EFA",
          "size": 12
         },
         "mode": "markers",
         "name": "Apparel",
         "showlegend": false,
         "type": "scatter",
         "x": [
          42
         ],
         "y": [
          13569
         ]
        },
        {
         "legendgroup": "Other",
         "marker": {
          "color": "#EF553B",
          "size": 12
         },
         "mode": "markers",
         "name": "Other",
         "showlegend": false,
         "type": "scatter",
         "x": [
          42
         ],
         "y": [
          12789
         ]
        },
        {
         "legendgroup": "Footwear",
         "marker": {
          "color": "#00CC96",
          "size": 12
         },
         "mode": "markers",
         "name": "Footwear",
         "showlegend": false,
         "type": "scatter",
         "x": [
          42
         ],
         "y": [
          8742
         ]
        },
        {
         "legendgroup": "Equipment",
         "marker": {
          "color": "#AB63FA",
          "size": 12
         },
         "mode": "markers",
         "name": "Equipment",
         "showlegend": false,
         "type": "scatter",
         "x": [
          42
         ],
         "y": [
          3025
         ]
        },
        {
         "legendgroup": "Nutrition",
         "marker": {
          "color": "#FFA15A",
          "size": 12
         },
         "mode": "markers",
         "name": "Nutrition",
         "showlegend": false,
         "type": "scatter",
         "x": [
          42
         ],
         "y": [
          251
         ]
        },
        {
         "marker": {
          "color": "rgba(128, 128, 128, 0.5)"
         },
         "name": "43",
         "showlegend": false,
         "type": "box",
         "x": [
          43,
          43,
          43,
          43,
          43,
          43
         ],
         "y": [
          12007,
          2722,
          8426,
          330,
          10949,
          4
         ]
        },
        {
         "legendgroup": "Apparel",
         "marker": {
          "color": "#636EFA",
          "size": 12
         },
         "mode": "markers",
         "name": "Apparel",
         "showlegend": false,
         "type": "scatter",
         "x": [
          43
         ],
         "y": [
          12007
         ]
        },
        {
         "legendgroup": "Other",
         "marker": {
          "color": "#EF553B",
          "size": 12
         },
         "mode": "markers",
         "name": "Other",
         "showlegend": false,
         "type": "scatter",
         "x": [
          43
         ],
         "y": [
          10949
         ]
        },
        {
         "legendgroup": "Footwear",
         "marker": {
          "color": "#00CC96",
          "size": 12
         },
         "mode": "markers",
         "name": "Footwear",
         "showlegend": false,
         "type": "scatter",
         "x": [
          43
         ],
         "y": [
          8426
         ]
        },
        {
         "legendgroup": "Equipment",
         "marker": {
          "color": "#AB63FA",
          "size": 12
         },
         "mode": "markers",
         "name": "Equipment",
         "showlegend": false,
         "type": "scatter",
         "x": [
          43
         ],
         "y": [
          2722
         ]
        },
        {
         "legendgroup": "Nutrition",
         "marker": {
          "color": "#FFA15A",
          "size": 12
         },
         "mode": "markers",
         "name": "Nutrition",
         "showlegend": false,
         "type": "scatter",
         "x": [
          43
         ],
         "y": [
          330
         ]
        },
        {
         "legendgroup": "unspecified",
         "marker": {
          "color": "#19D3F3",
          "size": 12
         },
         "mode": "markers",
         "name": "unspecified",
         "showlegend": false,
         "type": "scatter",
         "x": [
          43
         ],
         "y": [
          4
         ]
        },
        {
         "marker": {
          "color": "rgba(128, 128, 128, 0.5)"
         },
         "name": "44",
         "showlegend": false,
         "type": "box",
         "x": [
          44,
          44,
          44,
          44,
          44
         ],
         "y": [
          15388,
          4118,
          9979,
          354,
          13562
         ]
        },
        {
         "legendgroup": "Apparel",
         "marker": {
          "color": "#636EFA",
          "size": 12
         },
         "mode": "markers",
         "name": "Apparel",
         "showlegend": false,
         "type": "scatter",
         "x": [
          44
         ],
         "y": [
          15388
         ]
        },
        {
         "legendgroup": "Other",
         "marker": {
          "color": "#EF553B",
          "size": 12
         },
         "mode": "markers",
         "name": "Other",
         "showlegend": false,
         "type": "scatter",
         "x": [
          44
         ],
         "y": [
          13562
         ]
        },
        {
         "legendgroup": "Footwear",
         "marker": {
          "color": "#00CC96",
          "size": 12
         },
         "mode": "markers",
         "name": "Footwear",
         "showlegend": false,
         "type": "scatter",
         "x": [
          44
         ],
         "y": [
          9979
         ]
        },
        {
         "legendgroup": "Equipment",
         "marker": {
          "color": "#AB63FA",
          "size": 12
         },
         "mode": "markers",
         "name": "Equipment",
         "showlegend": false,
         "type": "scatter",
         "x": [
          44
         ],
         "y": [
          4118
         ]
        },
        {
         "legendgroup": "Nutrition",
         "marker": {
          "color": "#FFA15A",
          "size": 12
         },
         "mode": "markers",
         "name": "Nutrition",
         "showlegend": false,
         "type": "scatter",
         "x": [
          44
         ],
         "y": [
          354
         ]
        },
        {
         "marker": {
          "color": "rgba(128, 128, 128, 0.5)"
         },
         "name": "45",
         "showlegend": false,
         "type": "box",
         "x": [
          45,
          45,
          45,
          45,
          45
         ],
         "y": [
          20989,
          5753,
          11293,
          273,
          18733
         ]
        },
        {
         "legendgroup": "Apparel",
         "marker": {
          "color": "#636EFA",
          "size": 12
         },
         "mode": "markers",
         "name": "Apparel",
         "showlegend": false,
         "type": "scatter",
         "x": [
          45
         ],
         "y": [
          20989
         ]
        },
        {
         "legendgroup": "Other",
         "marker": {
          "color": "#EF553B",
          "size": 12
         },
         "mode": "markers",
         "name": "Other",
         "showlegend": false,
         "type": "scatter",
         "x": [
          45
         ],
         "y": [
          18733
         ]
        },
        {
         "legendgroup": "Footwear",
         "marker": {
          "color": "#00CC96",
          "size": 12
         },
         "mode": "markers",
         "name": "Footwear",
         "showlegend": false,
         "type": "scatter",
         "x": [
          45
         ],
         "y": [
          11293
         ]
        },
        {
         "legendgroup": "Equipment",
         "marker": {
          "color": "#AB63FA",
          "size": 12
         },
         "mode": "markers",
         "name": "Equipment",
         "showlegend": false,
         "type": "scatter",
         "x": [
          45
         ],
         "y": [
          5753
         ]
        },
        {
         "legendgroup": "Nutrition",
         "marker": {
          "color": "#FFA15A",
          "size": 12
         },
         "mode": "markers",
         "name": "Nutrition",
         "showlegend": false,
         "type": "scatter",
         "x": [
          45
         ],
         "y": [
          273
         ]
        },
        {
         "marker": {
          "color": "rgba(128, 128, 128, 0.5)"
         },
         "name": "46",
         "showlegend": false,
         "type": "box",
         "x": [
          46,
          46,
          46,
          46,
          46,
          46
         ],
         "y": [
          28613,
          6306,
          13448,
          373,
          25027,
          4
         ]
        },
        {
         "legendgroup": "Apparel",
         "marker": {
          "color": "#636EFA",
          "size": 12
         },
         "mode": "markers",
         "name": "Apparel",
         "showlegend": false,
         "type": "scatter",
         "x": [
          46
         ],
         "y": [
          28613
         ]
        },
        {
         "legendgroup": "Other",
         "marker": {
          "color": "#EF553B",
          "size": 12
         },
         "mode": "markers",
         "name": "Other",
         "showlegend": false,
         "type": "scatter",
         "x": [
          46
         ],
         "y": [
          25027
         ]
        },
        {
         "legendgroup": "Footwear",
         "marker": {
          "color": "#00CC96",
          "size": 12
         },
         "mode": "markers",
         "name": "Footwear",
         "showlegend": false,
         "type": "scatter",
         "x": [
          46
         ],
         "y": [
          13448
         ]
        },
        {
         "legendgroup": "Equipment",
         "marker": {
          "color": "#AB63FA",
          "size": 12
         },
         "mode": "markers",
         "name": "Equipment",
         "showlegend": false,
         "type": "scatter",
         "x": [
          46
         ],
         "y": [
          6306
         ]
        },
        {
         "legendgroup": "Nutrition",
         "marker": {
          "color": "#FFA15A",
          "size": 12
         },
         "mode": "markers",
         "name": "Nutrition",
         "showlegend": false,
         "type": "scatter",
         "x": [
          46
         ],
         "y": [
          373
         ]
        },
        {
         "legendgroup": "unspecified",
         "marker": {
          "color": "#19D3F3",
          "size": 12
         },
         "mode": "markers",
         "name": "unspecified",
         "showlegend": false,
         "type": "scatter",
         "x": [
          46
         ],
         "y": [
          4
         ]
        },
        {
         "marker": {
          "color": "rgba(128, 128, 128, 0.5)"
         },
         "name": "47",
         "showlegend": false,
         "type": "box",
         "x": [
          47,
          47,
          47,
          47,
          47
         ],
         "y": [
          37561,
          7345,
          18334,
          512,
          31979
         ]
        },
        {
         "legendgroup": "Apparel",
         "marker": {
          "color": "#636EFA",
          "size": 12
         },
         "mode": "markers",
         "name": "Apparel",
         "showlegend": false,
         "type": "scatter",
         "x": [
          47
         ],
         "y": [
          37561
         ]
        },
        {
         "legendgroup": "Other",
         "marker": {
          "color": "#EF553B",
          "size": 12
         },
         "mode": "markers",
         "name": "Other",
         "showlegend": false,
         "type": "scatter",
         "x": [
          47
         ],
         "y": [
          31979
         ]
        },
        {
         "legendgroup": "Footwear",
         "marker": {
          "color": "#00CC96",
          "size": 12
         },
         "mode": "markers",
         "name": "Footwear",
         "showlegend": false,
         "type": "scatter",
         "x": [
          47
         ],
         "y": [
          18334
         ]
        },
        {
         "legendgroup": "Equipment",
         "marker": {
          "color": "#AB63FA",
          "size": 12
         },
         "mode": "markers",
         "name": "Equipment",
         "showlegend": false,
         "type": "scatter",
         "x": [
          47
         ],
         "y": [
          7345
         ]
        },
        {
         "legendgroup": "Nutrition",
         "marker": {
          "color": "#FFA15A",
          "size": 12
         },
         "mode": "markers",
         "name": "Nutrition",
         "showlegend": false,
         "type": "scatter",
         "x": [
          47
         ],
         "y": [
          512
         ]
        },
        {
         "marker": {
          "color": "rgba(128, 128, 128, 0.5)"
         },
         "name": "48",
         "showlegend": false,
         "type": "box",
         "x": [
          48,
          48,
          48,
          48,
          48
         ],
         "y": [
          40220,
          8187,
          22124,
          343,
          35701
         ]
        },
        {
         "legendgroup": "Apparel",
         "marker": {
          "color": "#636EFA",
          "size": 12
         },
         "mode": "markers",
         "name": "Apparel",
         "showlegend": false,
         "type": "scatter",
         "x": [
          48
         ],
         "y": [
          40220
         ]
        },
        {
         "legendgroup": "Other",
         "marker": {
          "color": "#EF553B",
          "size": 12
         },
         "mode": "markers",
         "name": "Other",
         "showlegend": false,
         "type": "scatter",
         "x": [
          48
         ],
         "y": [
          35701
         ]
        },
        {
         "legendgroup": "Footwear",
         "marker": {
          "color": "#00CC96",
          "size": 12
         },
         "mode": "markers",
         "name": "Footwear",
         "showlegend": false,
         "type": "scatter",
         "x": [
          48
         ],
         "y": [
          22124
         ]
        },
        {
         "legendgroup": "Equipment",
         "marker": {
          "color": "#AB63FA",
          "size": 12
         },
         "mode": "markers",
         "name": "Equipment",
         "showlegend": false,
         "type": "scatter",
         "x": [
          48
         ],
         "y": [
          8187
         ]
        },
        {
         "legendgroup": "Nutrition",
         "marker": {
          "color": "#FFA15A",
          "size": 12
         },
         "mode": "markers",
         "name": "Nutrition",
         "showlegend": false,
         "type": "scatter",
         "x": [
          48
         ],
         "y": [
          343
         ]
        },
        {
         "marker": {
          "color": "rgba(128, 128, 128, 0.5)"
         },
         "name": "49",
         "showlegend": false,
         "type": "box",
         "x": [
          49,
          49,
          49,
          49,
          49
         ],
         "y": [
          36415,
          8051,
          16024,
          285,
          32173
         ]
        },
        {
         "legendgroup": "Apparel",
         "marker": {
          "color": "#636EFA",
          "size": 12
         },
         "mode": "markers",
         "name": "Apparel",
         "showlegend": false,
         "type": "scatter",
         "x": [
          49
         ],
         "y": [
          36415
         ]
        },
        {
         "legendgroup": "Other",
         "marker": {
          "color": "#EF553B",
          "size": 12
         },
         "mode": "markers",
         "name": "Other",
         "showlegend": false,
         "type": "scatter",
         "x": [
          49
         ],
         "y": [
          32173
         ]
        },
        {
         "legendgroup": "Footwear",
         "marker": {
          "color": "#00CC96",
          "size": 12
         },
         "mode": "markers",
         "name": "Footwear",
         "showlegend": false,
         "type": "scatter",
         "x": [
          49
         ],
         "y": [
          16024
         ]
        },
        {
         "legendgroup": "Equipment",
         "marker": {
          "color": "#AB63FA",
          "size": 12
         },
         "mode": "markers",
         "name": "Equipment",
         "showlegend": false,
         "type": "scatter",
         "x": [
          49
         ],
         "y": [
          8051
         ]
        },
        {
         "legendgroup": "Nutrition",
         "marker": {
          "color": "#FFA15A",
          "size": 12
         },
         "mode": "markers",
         "name": "Nutrition",
         "showlegend": false,
         "type": "scatter",
         "x": [
          49
         ],
         "y": [
          285
         ]
        },
        {
         "marker": {
          "color": "rgba(128, 128, 128, 0.5)"
         },
         "name": "50",
         "showlegend": false,
         "type": "box",
         "x": [
          50,
          50,
          50,
          50,
          50,
          50
         ],
         "y": [
          34163,
          7316,
          14310,
          321,
          30397,
          7
         ]
        },
        {
         "legendgroup": "Apparel",
         "marker": {
          "color": "#636EFA",
          "size": 12
         },
         "mode": "markers",
         "name": "Apparel",
         "showlegend": false,
         "type": "scatter",
         "x": [
          50
         ],
         "y": [
          34163
         ]
        },
        {
         "legendgroup": "Other",
         "marker": {
          "color": "#EF553B",
          "size": 12
         },
         "mode": "markers",
         "name": "Other",
         "showlegend": false,
         "type": "scatter",
         "x": [
          50
         ],
         "y": [
          30397
         ]
        },
        {
         "legendgroup": "Footwear",
         "marker": {
          "color": "#00CC96",
          "size": 12
         },
         "mode": "markers",
         "name": "Footwear",
         "showlegend": false,
         "type": "scatter",
         "x": [
          50
         ],
         "y": [
          14310
         ]
        },
        {
         "legendgroup": "Equipment",
         "marker": {
          "color": "#AB63FA",
          "size": 12
         },
         "mode": "markers",
         "name": "Equipment",
         "showlegend": false,
         "type": "scatter",
         "x": [
          50
         ],
         "y": [
          7316
         ]
        },
        {
         "legendgroup": "Nutrition",
         "marker": {
          "color": "#FFA15A",
          "size": 12
         },
         "mode": "markers",
         "name": "Nutrition",
         "showlegend": false,
         "type": "scatter",
         "x": [
          50
         ],
         "y": [
          321
         ]
        },
        {
         "legendgroup": "unspecified",
         "marker": {
          "color": "#19D3F3",
          "size": 12
         },
         "mode": "markers",
         "name": "unspecified",
         "showlegend": false,
         "type": "scatter",
         "x": [
          50
         ],
         "y": [
          7
         ]
        },
        {
         "marker": {
          "color": "rgba(128, 128, 128, 0.5)"
         },
         "name": "51",
         "showlegend": false,
         "type": "box",
         "x": [
          51,
          51,
          51,
          51,
          51,
          51
         ],
         "y": [
          17733,
          3887,
          9959,
          117,
          16372,
          12
         ]
        },
        {
         "legendgroup": "Apparel",
         "marker": {
          "color": "#636EFA",
          "size": 12
         },
         "mode": "markers",
         "name": "Apparel",
         "showlegend": false,
         "type": "scatter",
         "x": [
          51
         ],
         "y": [
          17733
         ]
        },
        {
         "legendgroup": "Other",
         "marker": {
          "color": "#EF553B",
          "size": 12
         },
         "mode": "markers",
         "name": "Other",
         "showlegend": false,
         "type": "scatter",
         "x": [
          51
         ],
         "y": [
          16372
         ]
        },
        {
         "legendgroup": "Footwear",
         "marker": {
          "color": "#00CC96",
          "size": 12
         },
         "mode": "markers",
         "name": "Footwear",
         "showlegend": false,
         "type": "scatter",
         "x": [
          51
         ],
         "y": [
          9959
         ]
        },
        {
         "legendgroup": "Equipment",
         "marker": {
          "color": "#AB63FA",
          "size": 12
         },
         "mode": "markers",
         "name": "Equipment",
         "showlegend": false,
         "type": "scatter",
         "x": [
          51
         ],
         "y": [
          3887
         ]
        },
        {
         "legendgroup": "Nutrition",
         "marker": {
          "color": "#FFA15A",
          "size": 12
         },
         "mode": "markers",
         "name": "Nutrition",
         "showlegend": false,
         "type": "scatter",
         "x": [
          51
         ],
         "y": [
          117
         ]
        },
        {
         "legendgroup": "unspecified",
         "marker": {
          "color": "#19D3F3",
          "size": 12
         },
         "mode": "markers",
         "name": "unspecified",
         "showlegend": false,
         "type": "scatter",
         "x": [
          51
         ],
         "y": [
          12
         ]
        },
        {
         "marker": {
          "color": "rgba(128, 128, 128, 0.5)"
         },
         "name": "52",
         "showlegend": false,
         "type": "box",
         "x": [
          52,
          52,
          52,
          52,
          52,
          52
         ],
         "y": [
          14145,
          2208,
          9617,
          354,
          12644,
          1
         ]
        },
        {
         "legendgroup": "Apparel",
         "marker": {
          "color": "#636EFA",
          "size": 12
         },
         "mode": "markers",
         "name": "Apparel",
         "showlegend": false,
         "type": "scatter",
         "x": [
          52
         ],
         "y": [
          14145
         ]
        },
        {
         "legendgroup": "Other",
         "marker": {
          "color": "#EF553B",
          "size": 12
         },
         "mode": "markers",
         "name": "Other",
         "showlegend": false,
         "type": "scatter",
         "x": [
          52
         ],
         "y": [
          12644
         ]
        },
        {
         "legendgroup": "Footwear",
         "marker": {
          "color": "#00CC96",
          "size": 12
         },
         "mode": "markers",
         "name": "Footwear",
         "showlegend": false,
         "type": "scatter",
         "x": [
          52
         ],
         "y": [
          9617
         ]
        },
        {
         "legendgroup": "Equipment",
         "marker": {
          "color": "#AB63FA",
          "size": 12
         },
         "mode": "markers",
         "name": "Equipment",
         "showlegend": false,
         "type": "scatter",
         "x": [
          52
         ],
         "y": [
          2208
         ]
        },
        {
         "legendgroup": "Nutrition",
         "marker": {
          "color": "#FFA15A",
          "size": 12
         },
         "mode": "markers",
         "name": "Nutrition",
         "showlegend": false,
         "type": "scatter",
         "x": [
          52
         ],
         "y": [
          354
         ]
        },
        {
         "legendgroup": "unspecified",
         "marker": {
          "color": "#19D3F3",
          "size": 12
         },
         "mode": "markers",
         "name": "unspecified",
         "showlegend": false,
         "type": "scatter",
         "x": [
          52
         ],
         "y": [
          1
         ]
        },
        {
         "marker": {
          "color": "rgba(128, 128, 128, 0.5)"
         },
         "name": "53",
         "showlegend": false,
         "type": "box",
         "x": [
          53,
          53,
          53,
          53,
          53
         ],
         "y": [
          6330,
          955,
          3974,
          37,
          4749
         ]
        },
        {
         "legendgroup": "Apparel",
         "marker": {
          "color": "#636EFA",
          "size": 12
         },
         "mode": "markers",
         "name": "Apparel",
         "showlegend": false,
         "type": "scatter",
         "x": [
          53
         ],
         "y": [
          6330
         ]
        },
        {
         "legendgroup": "Other",
         "marker": {
          "color": "#EF553B",
          "size": 12
         },
         "mode": "markers",
         "name": "Other",
         "showlegend": false,
         "type": "scatter",
         "x": [
          53
         ],
         "y": [
          4749
         ]
        },
        {
         "legendgroup": "Footwear",
         "marker": {
          "color": "#00CC96",
          "size": 12
         },
         "mode": "markers",
         "name": "Footwear",
         "showlegend": false,
         "type": "scatter",
         "x": [
          53
         ],
         "y": [
          3974
         ]
        },
        {
         "legendgroup": "Equipment",
         "marker": {
          "color": "#AB63FA",
          "size": 12
         },
         "mode": "markers",
         "name": "Equipment",
         "showlegend": false,
         "type": "scatter",
         "x": [
          53
         ],
         "y": [
          955
         ]
        },
        {
         "legendgroup": "Nutrition",
         "marker": {
          "color": "#FFA15A",
          "size": 12
         },
         "mode": "markers",
         "name": "Nutrition",
         "showlegend": false,
         "type": "scatter",
         "x": [
          53
         ],
         "y": [
          37
         ]
        }
       ],
       "layout": {
        "boxmode": "overlay",
        "font": {
         "color": "black",
         "family": "Arial",
         "size": 12
        },
        "height": 900,
        "legend": {
         "bgcolor": "rgba(0.1,0.1,0.1,0.1)",
         "bordercolor": "black",
         "borderwidth": 1,
         "font": {
          "size": 12
         },
         "itemclick": "toggleothers",
         "itemsizing": "constant",
         "itemwidth": 70,
         "orientation": "v",
         "title": {
          "font": {
           "size": 14
          },
          "text": "group0"
         },
         "traceorder": "reversed+grouped",
         "x": 1.1,
         "xanchor": "right",
         "y": 1,
         "yanchor": "top"
        },
        "margin": {
         "b": 50,
         "l": 50,
         "r": 50,
         "t": 80
        },
        "plot_bgcolor": "white",
        "template": {
         "data": {
          "bar": [
           {
            "error_x": {
             "color": "#2a3f5f"
            },
            "error_y": {
             "color": "#2a3f5f"
            },
            "marker": {
             "line": {
              "color": "#E5ECF6",
              "width": 0.5
             },
             "pattern": {
              "fillmode": "overlay",
              "size": 10,
              "solidity": 0.2
             }
            },
            "type": "bar"
           }
          ],
          "barpolar": [
           {
            "marker": {
             "line": {
              "color": "#E5ECF6",
              "width": 0.5
             },
             "pattern": {
              "fillmode": "overlay",
              "size": 10,
              "solidity": 0.2
             }
            },
            "type": "barpolar"
           }
          ],
          "carpet": [
           {
            "aaxis": {
             "endlinecolor": "#2a3f5f",
             "gridcolor": "white",
             "linecolor": "white",
             "minorgridcolor": "white",
             "startlinecolor": "#2a3f5f"
            },
            "baxis": {
             "endlinecolor": "#2a3f5f",
             "gridcolor": "white",
             "linecolor": "white",
             "minorgridcolor": "white",
             "startlinecolor": "#2a3f5f"
            },
            "type": "carpet"
           }
          ],
          "choropleth": [
           {
            "colorbar": {
             "outlinewidth": 0,
             "ticks": ""
            },
            "type": "choropleth"
           }
          ],
          "contour": [
           {
            "colorbar": {
             "outlinewidth": 0,
             "ticks": ""
            },
            "colorscale": [
             [
              0,
              "#0d0887"
             ],
             [
              0.1111111111111111,
              "#46039f"
             ],
             [
              0.2222222222222222,
              "#7201a8"
             ],
             [
              0.3333333333333333,
              "#9c179e"
             ],
             [
              0.4444444444444444,
              "#bd3786"
             ],
             [
              0.5555555555555556,
              "#d8576b"
             ],
             [
              0.6666666666666666,
              "#ed7953"
             ],
             [
              0.7777777777777778,
              "#fb9f3a"
             ],
             [
              0.8888888888888888,
              "#fdca26"
             ],
             [
              1,
              "#f0f921"
             ]
            ],
            "type": "contour"
           }
          ],
          "contourcarpet": [
           {
            "colorbar": {
             "outlinewidth": 0,
             "ticks": ""
            },
            "type": "contourcarpet"
           }
          ],
          "heatmap": [
           {
            "colorbar": {
             "outlinewidth": 0,
             "ticks": ""
            },
            "colorscale": [
             [
              0,
              "#0d0887"
             ],
             [
              0.1111111111111111,
              "#46039f"
             ],
             [
              0.2222222222222222,
              "#7201a8"
             ],
             [
              0.3333333333333333,
              "#9c179e"
             ],
             [
              0.4444444444444444,
              "#bd3786"
             ],
             [
              0.5555555555555556,
              "#d8576b"
             ],
             [
              0.6666666666666666,
              "#ed7953"
             ],
             [
              0.7777777777777778,
              "#fb9f3a"
             ],
             [
              0.8888888888888888,
              "#fdca26"
             ],
             [
              1,
              "#f0f921"
             ]
            ],
            "type": "heatmap"
           }
          ],
          "heatmapgl": [
           {
            "colorbar": {
             "outlinewidth": 0,
             "ticks": ""
            },
            "colorscale": [
             [
              0,
              "#0d0887"
             ],
             [
              0.1111111111111111,
              "#46039f"
             ],
             [
              0.2222222222222222,
              "#7201a8"
             ],
             [
              0.3333333333333333,
              "#9c179e"
             ],
             [
              0.4444444444444444,
              "#bd3786"
             ],
             [
              0.5555555555555556,
              "#d8576b"
             ],
             [
              0.6666666666666666,
              "#ed7953"
             ],
             [
              0.7777777777777778,
              "#fb9f3a"
             ],
             [
              0.8888888888888888,
              "#fdca26"
             ],
             [
              1,
              "#f0f921"
             ]
            ],
            "type": "heatmapgl"
           }
          ],
          "histogram": [
           {
            "marker": {
             "pattern": {
              "fillmode": "overlay",
              "size": 10,
              "solidity": 0.2
             }
            },
            "type": "histogram"
           }
          ],
          "histogram2d": [
           {
            "colorbar": {
             "outlinewidth": 0,
             "ticks": ""
            },
            "colorscale": [
             [
              0,
              "#0d0887"
             ],
             [
              0.1111111111111111,
              "#46039f"
             ],
             [
              0.2222222222222222,
              "#7201a8"
             ],
             [
              0.3333333333333333,
              "#9c179e"
             ],
             [
              0.4444444444444444,
              "#bd3786"
             ],
             [
              0.5555555555555556,
              "#d8576b"
             ],
             [
              0.6666666666666666,
              "#ed7953"
             ],
             [
              0.7777777777777778,
              "#fb9f3a"
             ],
             [
              0.8888888888888888,
              "#fdca26"
             ],
             [
              1,
              "#f0f921"
             ]
            ],
            "type": "histogram2d"
           }
          ],
          "histogram2dcontour": [
           {
            "colorbar": {
             "outlinewidth": 0,
             "ticks": ""
            },
            "colorscale": [
             [
              0,
              "#0d0887"
             ],
             [
              0.1111111111111111,
              "#46039f"
             ],
             [
              0.2222222222222222,
              "#7201a8"
             ],
             [
              0.3333333333333333,
              "#9c179e"
             ],
             [
              0.4444444444444444,
              "#bd3786"
             ],
             [
              0.5555555555555556,
              "#d8576b"
             ],
             [
              0.6666666666666666,
              "#ed7953"
             ],
             [
              0.7777777777777778,
              "#fb9f3a"
             ],
             [
              0.8888888888888888,
              "#fdca26"
             ],
             [
              1,
              "#f0f921"
             ]
            ],
            "type": "histogram2dcontour"
           }
          ],
          "mesh3d": [
           {
            "colorbar": {
             "outlinewidth": 0,
             "ticks": ""
            },
            "type": "mesh3d"
           }
          ],
          "parcoords": [
           {
            "line": {
             "colorbar": {
              "outlinewidth": 0,
              "ticks": ""
             }
            },
            "type": "parcoords"
           }
          ],
          "pie": [
           {
            "automargin": true,
            "type": "pie"
           }
          ],
          "scatter": [
           {
            "fillpattern": {
             "fillmode": "overlay",
             "size": 10,
             "solidity": 0.2
            },
            "type": "scatter"
           }
          ],
          "scatter3d": [
           {
            "line": {
             "colorbar": {
              "outlinewidth": 0,
              "ticks": ""
             }
            },
            "marker": {
             "colorbar": {
              "outlinewidth": 0,
              "ticks": ""
             }
            },
            "type": "scatter3d"
           }
          ],
          "scattercarpet": [
           {
            "marker": {
             "colorbar": {
              "outlinewidth": 0,
              "ticks": ""
             }
            },
            "type": "scattercarpet"
           }
          ],
          "scattergeo": [
           {
            "marker": {
             "colorbar": {
              "outlinewidth": 0,
              "ticks": ""
             }
            },
            "type": "scattergeo"
           }
          ],
          "scattergl": [
           {
            "marker": {
             "colorbar": {
              "outlinewidth": 0,
              "ticks": ""
             }
            },
            "type": "scattergl"
           }
          ],
          "scattermapbox": [
           {
            "marker": {
             "colorbar": {
              "outlinewidth": 0,
              "ticks": ""
             }
            },
            "type": "scattermapbox"
           }
          ],
          "scatterpolar": [
           {
            "marker": {
             "colorbar": {
              "outlinewidth": 0,
              "ticks": ""
             }
            },
            "type": "scatterpolar"
           }
          ],
          "scatterpolargl": [
           {
            "marker": {
             "colorbar": {
              "outlinewidth": 0,
              "ticks": ""
             }
            },
            "type": "scatterpolargl"
           }
          ],
          "scatterternary": [
           {
            "marker": {
             "colorbar": {
              "outlinewidth": 0,
              "ticks": ""
             }
            },
            "type": "scatterternary"
           }
          ],
          "surface": [
           {
            "colorbar": {
             "outlinewidth": 0,
             "ticks": ""
            },
            "colorscale": [
             [
              0,
              "#0d0887"
             ],
             [
              0.1111111111111111,
              "#46039f"
             ],
             [
              0.2222222222222222,
              "#7201a8"
             ],
             [
              0.3333333333333333,
              "#9c179e"
             ],
             [
              0.4444444444444444,
              "#bd3786"
             ],
             [
              0.5555555555555556,
              "#d8576b"
             ],
             [
              0.6666666666666666,
              "#ed7953"
             ],
             [
              0.7777777777777778,
              "#fb9f3a"
             ],
             [
              0.8888888888888888,
              "#fdca26"
             ],
             [
              1,
              "#f0f921"
             ]
            ],
            "type": "surface"
           }
          ],
          "table": [
           {
            "cells": {
             "fill": {
              "color": "#EBF0F8"
             },
             "line": {
              "color": "white"
             }
            },
            "header": {
             "fill": {
              "color": "#C8D4E3"
             },
             "line": {
              "color": "white"
             }
            },
            "type": "table"
           }
          ]
         },
         "layout": {
          "annotationdefaults": {
           "arrowcolor": "#2a3f5f",
           "arrowhead": 0,
           "arrowwidth": 1
          },
          "autotypenumbers": "strict",
          "coloraxis": {
           "colorbar": {
            "outlinewidth": 0,
            "ticks": ""
           }
          },
          "colorscale": {
           "diverging": [
            [
             0,
             "#8e0152"
            ],
            [
             0.1,
             "#c51b7d"
            ],
            [
             0.2,
             "#de77ae"
            ],
            [
             0.3,
             "#f1b6da"
            ],
            [
             0.4,
             "#fde0ef"
            ],
            [
             0.5,
             "#f7f7f7"
            ],
            [
             0.6,
             "#e6f5d0"
            ],
            [
             0.7,
             "#b8e186"
            ],
            [
             0.8,
             "#7fbc41"
            ],
            [
             0.9,
             "#4d9221"
            ],
            [
             1,
             "#276419"
            ]
           ],
           "sequential": [
            [
             0,
             "#0d0887"
            ],
            [
             0.1111111111111111,
             "#46039f"
            ],
            [
             0.2222222222222222,
             "#7201a8"
            ],
            [
             0.3333333333333333,
             "#9c179e"
            ],
            [
             0.4444444444444444,
             "#bd3786"
            ],
            [
             0.5555555555555556,
             "#d8576b"
            ],
            [
             0.6666666666666666,
             "#ed7953"
            ],
            [
             0.7777777777777778,
             "#fb9f3a"
            ],
            [
             0.8888888888888888,
             "#fdca26"
            ],
            [
             1,
             "#f0f921"
            ]
           ],
           "sequentialminus": [
            [
             0,
             "#0d0887"
            ],
            [
             0.1111111111111111,
             "#46039f"
            ],
            [
             0.2222222222222222,
             "#7201a8"
            ],
            [
             0.3333333333333333,
             "#9c179e"
            ],
            [
             0.4444444444444444,
             "#bd3786"
            ],
            [
             0.5555555555555556,
             "#d8576b"
            ],
            [
             0.6666666666666666,
             "#ed7953"
            ],
            [
             0.7777777777777778,
             "#fb9f3a"
            ],
            [
             0.8888888888888888,
             "#fdca26"
            ],
            [
             1,
             "#f0f921"
            ]
           ]
          },
          "colorway": [
           "#636efa",
           "#EF553B",
           "#00cc96",
           "#ab63fa",
           "#FFA15A",
           "#19d3f3",
           "#FF6692",
           "#B6E880",
           "#FF97FF",
           "#FECB52"
          ],
          "font": {
           "color": "#2a3f5f"
          },
          "geo": {
           "bgcolor": "white",
           "lakecolor": "white",
           "landcolor": "#E5ECF6",
           "showlakes": true,
           "showland": true,
           "subunitcolor": "white"
          },
          "hoverlabel": {
           "align": "left"
          },
          "hovermode": "closest",
          "mapbox": {
           "style": "light"
          },
          "paper_bgcolor": "white",
          "plot_bgcolor": "#E5ECF6",
          "polar": {
           "angularaxis": {
            "gridcolor": "white",
            "linecolor": "white",
            "ticks": ""
           },
           "bgcolor": "#E5ECF6",
           "radialaxis": {
            "gridcolor": "white",
            "linecolor": "white",
            "ticks": ""
           }
          },
          "scene": {
           "xaxis": {
            "backgroundcolor": "#E5ECF6",
            "gridcolor": "white",
            "gridwidth": 2,
            "linecolor": "white",
            "showbackground": true,
            "ticks": "",
            "zerolinecolor": "white"
           },
           "yaxis": {
            "backgroundcolor": "#E5ECF6",
            "gridcolor": "white",
            "gridwidth": 2,
            "linecolor": "white",
            "showbackground": true,
            "ticks": "",
            "zerolinecolor": "white"
           },
           "zaxis": {
            "backgroundcolor": "#E5ECF6",
            "gridcolor": "white",
            "gridwidth": 2,
            "linecolor": "white",
            "showbackground": true,
            "ticks": "",
            "zerolinecolor": "white"
           }
          },
          "shapedefaults": {
           "line": {
            "color": "#2a3f5f"
           }
          },
          "ternary": {
           "aaxis": {
            "gridcolor": "white",
            "linecolor": "white",
            "ticks": ""
           },
           "baxis": {
            "gridcolor": "white",
            "linecolor": "white",
            "ticks": ""
           },
           "bgcolor": "#E5ECF6",
           "caxis": {
            "gridcolor": "white",
            "linecolor": "white",
            "ticks": ""
           }
          },
          "title": {
           "x": 0.05
          },
          "xaxis": {
           "automargin": true,
           "gridcolor": "white",
           "linecolor": "white",
           "ticks": "",
           "title": {
            "standoff": 15
           },
           "zerolinecolor": "white",
           "zerolinewidth": 2
          },
          "yaxis": {
           "automargin": true,
           "gridcolor": "white",
           "linecolor": "white",
           "ticks": "",
           "title": {
            "standoff": 15
           },
           "zerolinecolor": "white",
           "zerolinewidth": 2
          }
         }
        },
        "title": {
         "text": "Sum \"quantity\" Distribution by Week_of_year and \"group0\"",
         "x": 0.5,
         "xanchor": "center",
         "y": 0.95,
         "yanchor": "top"
        },
        "width": 1600,
        "xaxis": {
         "type": "category"
        },
        "yaxis": {
         "gridcolor": "lightgrey"
        }
       }
      }
     },
     "metadata": {},
     "output_type": "display_data"
    }
   ],
   "source": [
    "\n",
    "reload(dc)\n",
    "\n",
    "\n",
    "dc.plot_seasonality_boxplot(df, x='date', y='quantity', hue='group0', cycle='week_of_year', measure='sum')\n",
    "\n"
   ]
  },
  {
   "cell_type": "markdown",
   "metadata": {},
   "source": [
    "## EAD on Weather Data"
   ]
  },
  {
   "cell_type": "code",
   "execution_count": 11,
   "metadata": {},
   "outputs": [],
   "source": [
    "# feature enginnering:\n",
    "df_FE = df.copy()"
   ]
  },
  {
   "cell_type": "code",
   "execution_count": 12,
   "metadata": {},
   "outputs": [
    {
     "data": {
      "text/plain": [
       "array(['cz', 'de', 'sk', 'hu', 'ro', 'com', 'es', 'at', 'other', 'fr',\n",
       "       'it', 'hr', 'nl', 'ie', 'be', 'dk', 'se', 'pt', 'pl', 'fi', 'si',\n",
       "       'uk', 'bg'], dtype=object)"
      ]
     },
     "execution_count": 12,
     "metadata": {},
     "output_type": "execute_result"
    }
   ],
   "source": [
    "# please use the characters after the last dot in the site value as the country abbreviation\n",
    "df_FE['country'] = df_FE['site'].str.split('.').str[-1]\n",
    "df_FE['country'].unique()"
   ]
  },
  {
   "attachments": {},
   "cell_type": "markdown",
   "metadata": {},
   "source": [
    "```python\n",
    "Date Range:\n",
    "\n",
    "Timestamp('2019-06-01 00:00:00')\n",
    "\n",
    "Timestamp('2022-01-14 00:00:00')\n",
    "\n",
    "\n",
    "\n",
    "country_mapping = {\n",
    "    'cz': 'Czech Republic',\n",
    "    'de': 'Germany',\n",
    "    'sk': 'Slovakia',\n",
    "    'hu': 'Hungary',\n",
    "    'ro': 'Romania',\n",
    "    'com': 'Commercial',  # Note: .com is not country-specific\n",
    "    'es': 'Spain',\n",
    "    'at': 'Austria',\n",
    "    'other': 'Other',\n",
    "    'fr': 'France',\n",
    "    'it': 'Italy',\n",
    "    'hr': 'Croatia',\n",
    "    'nl': 'Netherlands',\n",
    "    'ie': 'Ireland',\n",
    "    'be': 'Belgium',\n",
    "    'dk': 'Denmark',\n",
    "    'se': 'Sweden',\n",
    "    'pt': 'Portugal',\n",
    "    'pl': 'Poland',\n",
    "    'fi': 'Finland',\n",
    "    'si': 'Slovenia',\n",
    "    'uk': 'United Kingdom',\n",
    "    'bg': 'Bulgaria'\n",
    "}\n",
    "capital_city_mapping = {\n",
    "    'cz': 'Prague',\n",
    "    'de': 'Berlin',\n",
    "    'sk': 'Bratislava',\n",
    "    'hu': 'Budapest',\n",
    "    'ro': 'Bucharest',\n",
    "    'com': 'N/A',  # Note: .com is not country-specific\n",
    "    'es': 'Madrid',\n",
    "    'at': 'Vienna',\n",
    "    'other': 'N/A',\n",
    "    'fr': 'Paris',\n",
    "    'it': 'Rome',\n",
    "    'hr': 'Zagreb',\n",
    "    'nl': 'Amsterdam',\n",
    "    'ie': 'Dublin',\n",
    "    'be': 'Brussels',\n",
    "    'dk': 'Copenhagen',\n",
    "    'se': 'Stockholm',\n",
    "    'pt': 'Lisbon',\n",
    "    'pl': 'Warsaw',\n",
    "    'fi': 'Helsinki',\n",
    "    'si': 'Ljubljana',\n",
    "    'uk': 'London',\n",
    "    'bg': 'Sofia'\n",
    "}\n",
    "\n",
    "capital_coordinates_mapping = {\n",
    "    'cz': (50.0755381, 14.4378005),\n",
    "    'de': (52.5200066, 13.4049540),\n",
    "    'sk': (48.1485965, 17.1077477),\n",
    "    'hu': (47.497912, 19.040235),\n",
    "    'ro': (44.4267674, 26.1025384),\n",
    "    'com': 'N/A',  # Note: .com is not country-specific\n",
    "    'es': (40.4167754, -3.7037902),\n",
    "    'at': (48.2081743, 16.3738189),\n",
    "    'other': 'N/A',\n",
    "    'fr': (48.856614, 2.3522219),\n",
    "    'it': (41.9027835, 12.4963655),\n",
    "    'hr': (45.8150108, 15.9819190),\n",
    "    'nl': (52.3702157, 4.8951679),\n",
    "    'ie': (53.3498053, -6.2603097),\n",
    "    'be': (50.8503396, 4.3517103),\n",
    "    'dk': (55.6760968, 12.5683371),\n",
    "    'se': (59.3293235, 18.0685808),\n",
    "    'pt': (38.7222524, -9.1393366),\n",
    "    'pl': (52.2296756, 21.0122287),\n",
    "    'fi': (60.1698557, 24.9383791),\n",
    "    'si': (46.0569465, 14.5057515),\n",
    "    'uk': (51.5073509, -0.1277583),\n",
    "    'bg': (42.6977082, 23.3218675)\n",
    "}\n",
    "\n",
    "```\n"
   ]
  },
  {
   "cell_type": "code",
   "execution_count": 13,
   "metadata": {},
   "outputs": [
    {
     "name": "stdout",
     "output_type": "stream",
     "text": [
      "+---------------------+------------+---------------+-------------+------------+-----------------+-----------------------+-------------+---------------------+--------------+-----------+----------+-----------------+---------------------+----------------------------------------+------------------+------------+------------------+-------------+-----------+-------------+-----------------+-------------+-------------------------+-------------+-------------+-------------+-------------+-------------+-----------+\n",
      "| date                |   order_id | payment       | item_code   |   quantity |   gift_quantity |   unit_price_vat_excl |   unit_cogs |   unit_rrp_vat_excl | department   | channel   | owner    | site            | CreatedAt           | item_name                              | style            |   brand_id | brand_name       |   group0_id | group0    |   group1_id | group1          |   group2_id | group2                  | category    | gender      | age         | color       | size        | country   |\n",
      "|                     |     string | object        | object      |      int64 |           int64 |               float64 |     float64 |             float64 | object       | object    | object   | object          | datetime64[ns]      | object                                 | object           |     string | object           |      string | object    |      string | object          |      string | object                  | object      | object      | object      | object      | object      | object    |\n",
      "|                     |     NaN: 0 | NaN: 0        | NaN: 0      |     NaN: 0 |          NaN: 0 |                NaN: 0 |      NaN: 0 |              NaN: 0 | NaN: 0       | NaN: 0    | NaN: 0   | NaN: 0          | NaN: 0              | NaN: 0                                 | NaN: 0           |     NaN: 0 | NaN: 0           |      NaN: 0 | NaN: 0    |      NaN: 0 | NaN: 0          |      NaN: 0 | NaN: 0                  | NaN: 0      | NaN: 0      | NaN: 0      | NaN: 0      | NaN: 0      | NaN: 0    |\n",
      "|---------------------+------------+---------------+-------------+------------+-----------------+-----------------------+-------------+---------------------+--------------+-----------+----------+-----------------+---------------------+----------------------------------------+------------------+------------+------------------+-------------+-----------+-------------+-----------------+-------------+-------------------------+-------------+-------------+-------------+-------------+-------------+-----------|\n",
      "| 2019-06-01 00:00:00 | 1900079924 | CARD_CSOB     | ZB00023833  |          1 |               0 |              22.3267  |  15.5039    |            32.0008  | E-COMMER     | Sport.cC  | Sport.cO | top4sport.cz    | 2019-06-01 09:37:00 | MK1 Short 7in                          | 1312292-001      |        106 | Under Armour     |         200 | Apparel   |         240 | Pants           |         242 | Shorts                  | fitness     | men         | adults      | Black       | M           | cz        |\n",
      "| 2019-06-01 00:00:00 | 1900079006 | COD           | ZB00000154  |          1 |               0 |              10.3787  |   8.06938   |            15.9845  | E-COMMER     | RUN.czC   | RUN.czO  | top4running.cz  | 2019-06-01 06:26:00 | W NK RUN TOP SS                        | 890353-100       |         84 | Nike             |         200 | Apparel   |         230 | T-Shirts        |           0 | unspecified             | running     | women       | adults      | White       | XS          | cz        |\n",
      "| 2019-06-01 00:00:00 | 1900079006 | COD           | ZB00007330  |          1 |               0 |              14.9593  |  10.7171    |            25.3058  | E-COMMER     | RUN.czC   | RUN.czO  | top4running.cz  | 2019-06-01 06:26:00 | W NK DRY MILER TOP SS                  | 932499-823       |         84 | Nike             |         200 | Apparel   |         230 | T-Shirts        |           0 | unspecified             | running     | women       | adults      | Pink        | XS          | cz        |\n",
      "| 2019-06-01 00:00:00 | 1900079006 | COD           | ZB00018948  |          1 |               0 |              25.5942  |  13.007     |            25.5942  | E-COMMER     | RUN.czC   | RUN.czO  | top4running.cz  | 2019-06-01 06:26:00 | W NK MILER TANK SURF                   | aq5179-686       |         84 | Nike             |         200 | Apparel   |         230 | T-Shirts        |         235 | Tank                    | running     | women       | adults      | Pink        | XS          | cz        |\n",
      "| 2019-06-01 00:00:00 | 1900079006 | COD           | ZB00022416  |          1 |               0 |              28.7977  |  14.6349    |            28.7977  | E-COMMER     | RUN.czC   | RUN.czO  | top4running.cz  | 2019-06-01 06:26:00 | W NK AIR SHORT                         | aq5634-100       |         84 | Nike             |         200 | Apparel   |         240 | Pants           |         242 | Shorts                  | running     | women       | adults      | White       | XS          | cz        |\n",
      "| 2019-06-01 00:00:00 | 1900079006 | COD           | S113        |          1 |               0 |               0.92907 |   0         |             0.92907 | E-COMMER     | RUN.czC   | RUN.czO  | top4running.cz  | 2019-06-01 06:26:00 | Platba                                 | unspecified      |         -1 | no_manufacturer  |         999 | Other     |           0 | unspecified     |           0 | unspecified             | unspecified | unspecified | unspecified | unspecified | unspecified | cz        |\n",
      "| 2019-06-01 00:00:00 | 1900079010 | COD           | ZB00016698  |          1 |               0 |             132.295   |  72.662     |           188.962   | E-COMMER     | FTB.czC   | FTB.czO  | 11teamsports.cz | 2019-06-01 06:26:00 | X 181 FG                               | bb9347           |         85 | adidas           |         100 | Footwear  |         110 | Football shoes  |           0 | unspecified             | football    | men         | adults      | Red         | 42,7        | cz        |\n",
      "| 2019-06-01 00:00:00 | 1900079010 | COD           | ZB00026001  |          1 |               0 |             132.295   |  83.0682    |           188.962   | E-COMMER     | FTB.czC   | FTB.czO  | 11teamsports.cz | 2019-06-01 06:26:00 | X 181 SG                               | bb9359           |         85 | adidas           |         100 | Footwear  |         110 | Football shoes  |           0 | unspecified             | football    | men         | adults      | Red         | 43,3        | cz        |\n",
      "| 2019-06-01 00:00:00 | 1900079010 | COD           | S113        |          1 |               0 |               0.92907 |   0         |             0.92907 | E-COMMER     | FTB.czC   | FTB.czO  | 11teamsports.cz | 2019-06-01 06:26:00 | Platba                                 | unspecified      |         -1 | no_manufacturer  |         999 | Other     |           0 | unspecified     |           0 | unspecified             | unspecified | unspecified | unspecified | unspecified | unspecified | cz        |\n",
      "| 2019-06-01 00:00:00 | 1900079011 | CARD_CSOB     | ZB00009549  |          1 |               0 |              17.9384  |  16.4775    |            25.5942  | E-COMMER     | FTB.czC   | FTB.czO  | 11teamsports.cz | 2019-06-01 09:31:00 | HG SS                                  | 1257468-001      |        106 | Under Armour     |         200 | Apparel   |         230 | T-Shirts        |         236 | Compression shirts      | fitness     | men         | adults      | Black       | M           | cz        |\n",
      "| 2019-06-01 00:00:00 | 1900079011 | CARD_CSOB     | ZB00026129  |          1 |               0 |               6.37442 |   3.94884   |            10.5388  | E-COMMER     | FTB.czC   | FTB.czO  | 11teamsports.cz | 2019-06-01 09:31:00 | PER CREW T 3PP                         | aa2330           |         85 | adidas           |         200 | Apparel   |         290 | Socks           |           0 | unspecified             | fitness     | unisex      | adults      | Black       | 39-42       | cz        |\n",
      "| 2019-06-01 00:00:00 | 1900079011 | CARD_CSOB     | ZB00000044  |          1 |               0 |              48.0171  |  28.0554    |            80.05    | E-COMMER     | FTB.czC   | FTB.czO  | 11teamsports.cz | 2019-06-01 09:31:00 | TEAM Match Ball                        | cz2235           |         85 | adidas           |         300 | Equipment |         320 | Balls           |           0 | unspecified             | football    | men         | adults      | White       | 5           | cz        |\n",
      "| 2019-06-01 00:00:00 | 1900079011 | CARD_CSOB     | S114        |         -1 |               0 |               3.2031  |   0         |             3.2031  | E-COMMER     | FTB.czC   | FTB.czO  | 11teamsports.cz | 2019-06-01 09:31:00 | Sleva                                  | unspecified      |         -1 | no_manufacturer  |         999 | Other     |           0 | unspecified     |           0 | unspecified             | unspecified | unspecified | unspecified | unspecified | unspecified | cz        |\n",
      "| 2019-06-01 00:00:00 | 1900079027 | GOPAY_CARD    | ZB00026129  |          1 |               0 |               6.55432 |   3.97054   |            10.0866  | E-COMMER     | RUN.deC   | RUN.deO  | top4running.de  | 2019-06-01 06:31:00 | PER CREW T 3PP                         | aa2330           |         85 | adidas           |         200 | Apparel   |         290 | Socks           |           0 | unspecified             | fitness     | unisex      | adults      | Black       | 39-42       | de        |\n",
      "| 2019-06-01 00:00:00 | 1900079030 | COD           | ZB00025621  |          1 |               0 |              37.8628  |  14.4395    |            44.5256  | E-COMMER     | FTB.czC   | FTB.czO  | 11teamsports.cz | 2019-06-01 06:32:00 | M NK Team Club Hoody                   | 658498-463       |         84 | Nike             |         200 | Apparel   |         220 | Sweatshirts     |         221 | With hood               | lifestyle   | men         | adults      | unspecified | L           | cz        |\n",
      "| 2019-06-01 00:00:00 | 1900079030 | COD           | ZB00026033  |          1 |               0 |              26.8116  |  14.0167    |            44.5256  | E-COMMER     | FTB.czC   | FTB.czO  | 11teamsports.cz | 2019-06-01 06:32:00 | Nike Team Club Crew                    | 658681-463       |         84 | Nike             |         200 | Apparel   |         220 | Sweatshirts     |           0 | unspecified             | football    | men         | adults      | Blue        | L           | cz        |\n",
      "| 2019-06-01 00:00:00 | 1900079030 | COD           | ZB00000094  |          1 |               0 |              11.2756  |   5.48101   |            14.3826  | E-COMMER     | FTB.czC   | FTB.czO  | 11teamsports.cz | 2019-06-01 06:32:00 | PARK II KNIT SHORT NB                  | 725887-463       |         84 | Nike             |         200 | Apparel   |         240 | Pants           |         242 | Shorts                  | football    | men         | adults      | Blue        | L           | cz        |\n",
      "| 2019-06-01 00:00:00 | 1900079030 | COD           | ZB00026511  |          1 |               0 |              16.5291  |   8.37752   |            23.9926  | E-COMMER     | FTB.czC   | FTB.czO  | 11teamsports.cz | 2019-06-01 06:32:00 | CORE18 PES PNT                         | cv3585           |         85 | adidas           |         200 | Apparel   |         240 | Pants           |           0 | unspecified             | football    | men         | adults      | Blue        | L           | cz        |\n",
      "| 2019-06-01 00:00:00 | 1900078998 | CARD_CSOB     | S101        |          1 |               0 |               1.56977 |   0         |             1.56977 | E-COMMER     | FTB.czC   | FTB.czO  | 11teamsports.cz | 2019-06-01 06:26:00 | Dopravné                               | unspecified      |         -1 | no_manufacturer  |         999 | Other     |           0 | unspecified     |           0 | unspecified             | unspecified | unspecified | unspecified | unspecified | unspecified | cz        |\n",
      "| 2019-06-01 00:00:00 | 1900078998 | CARD_CSOB     | ZB00025631  |          1 |               0 |              21.8143  |  11.781     |            35.2039  | E-COMMER     | FTB.czC   | FTB.czO  | 11teamsports.cz | 2019-06-01 06:26:00 | CORE18 RN JKT                          | ce9048           |         85 | adidas           |         200 | Apparel   |         215 | Jackets         |           0 | unspecified             | football    | men         | adults      | Black       | M           | cz        |\n",
      "| 2019-06-01 00:00:00 | 1900078996 | COD           | ZB00026793  |          1 |               0 |              45.1998  |  28.0252    |            58.3684  | E-COMMER     | FTB.skC   | FTB.skO  | 11teamsports.sk | 2019-06-01 09:34:00 | M NSW NIKE AIR HOODIE PO FLC           | ar1817-010       |         84 | Nike             |         200 | Apparel   |         220 | Sweatshirts     |         221 | With hood               | football    | men         | adults      | Black       | M           | sk        |\n",
      "| 2019-06-01 00:00:00 | 1900078992 | COD           | ZB00026483  |          1 |               0 |               7.74962 |   6.05271   |            11.0535  | E-COMMER     | FTB.huC   | FTB.huO  | 11teamsports.hu | 2019-06-01 06:25:00 | NK GK MATCH JR-FA18                    | gs0368-095       |         84 | Nike             |         300 | Equipment |         280 | Gloves          |         327 | Football gloves         | football    | unisex      | kids        | Silver      | 8           | hu        |\n",
      "| 2019-06-01 00:00:00 | 1900080152 | CARD_CSOB     | ZB00013828  |          1 |               0 |              25.3058  |  11.2612    |             0       | E-COMMER     | RUN.czC   | RUN.czO  | top4running.cz  | 2019-06-01 09:32:00 | W NP TOP SS ALL OVER MESH Zlatá tretra | 889540-617-zt    |         84 | Nike             |         200 | Apparel   |         230 | T-Shirts        |           0 | unspecified             | running     | women       | adults      | Pink        | S           | cz        |\n",
      "| 2019-06-01 00:00:00 | 1900080152 | CARD_CSOB     | S101        |          1 |               0 |               2.21008 |   0         |             2.21008 | E-COMMER     | RUN.czC   | RUN.czO  | top4running.cz  | 2019-06-01 09:32:00 | Dopravné                               | unspecified      |         -1 | no_manufacturer  |         999 | Other     |           0 | unspecified     |           0 | unspecified             | unspecified | unspecified | unspecified | unspecified | unspecified | cz        |\n",
      "| 2019-06-01 00:00:00 | 1900079354 | COD           | ZB00005571  |          2 |               0 |              53.1755  |   8.1345    |            57.7843  | E-COMMER     | RUN.roC   | RUN.roO  | top4running.ro  | 2019-06-01 08:51:00 | NIKE ZOOM RIVAL S 9                    | 907564-017       |         84 | Nike             |         100 | Footwear  |         120 | Running shoes   |         123 | Spikes                  | running     | unisex      | adults      | Black       | 42          | ro        |\n",
      "| 2019-06-01 00:00:00 | 1900078889 | PAYPAL        | ZB00023011  |          1 |               0 |              85.096   |  46.1446    |            92.5009  | E-COMMER     | RUN.deC   | RUN.deO  | top4running.de  | 2019-06-01 08:48:00 | NIKE ZOOM ROTATIONAL 6                 | 685131-600       |         84 | Nike             |         100 | Footwear  |         120 | Running shoes   |         123 | Spikes                  | running     | unisex      | adults      | Dark red    | 39          | de        |\n",
      "| 2019-06-01 00:00:00 | 1900078912 | CARD_CSOB     | ZB00026115  |          1 |               0 |              15.3756  |   7.22403   |            20.7891  | E-COMMER     | FTB.czC   | FTB.czO  | 11teamsports.cz | 2019-06-01 06:35:00 | B NP SHORT                             | 858226-011       |         84 | Nike             |         200 | Apparel   |         240 | Pants           |         244 | Compression pants       | fitness     | unisex      | kids        | Black       | L           | cz        |\n",
      "| 2019-06-01 00:00:00 | 1900078912 | CARD_CSOB     | S101        |          1 |               0 |               2.21008 |   0         |             2.21008 | E-COMMER     | FTB.czC   | FTB.czO  | 11teamsports.cz | 2019-06-01 06:35:00 | Dopravné                               | unspecified      |         -1 | no_manufacturer  |         999 | Other     |           0 | unspecified     |           0 | unspecified             | unspecified | unspecified | unspecified | unspecified | unspecified | cz        |\n",
      "| 2019-06-01 00:00:00 | 1900078912 | CARD_CSOB     | S114        |         -1 |               0 |               3.2031  |   0         |             3.2031  | E-COMMER     | FTB.czC   | FTB.czO  | 11teamsports.cz | 2019-06-01 06:35:00 | Sleva                                  | unspecified      |         -1 | no_manufacturer  |         999 | Other     |           0 | unspecified     |           0 | unspecified             | unspecified | unspecified | unspecified | unspecified | unspecified | cz        |\n",
      "| 2019-06-01 00:00:00 | 1900078939 | CARD_CSOB     | ZB00025744  |          1 |               0 |              76.8787  |  46.0527    |            96.0663  | E-COMMER     | FTB.czC   | FTB.czO  | 11teamsports.cz | 2019-06-01 09:31:00 | VAPOR 12 PRO FG                        | ah7382-077       |         84 | Nike             |         100 | Footwear  |         110 | Football shoes  |           0 | unspecified             | football    | men         | adults      | Black       | 44          | cz        |\n",
      "| 2019-06-01 00:00:00 | 1900079030 | COD           | S113        |          1 |               0 |               0.92907 |   0         |             0.92907 | E-COMMER     | FTB.czC   | FTB.czO  | 11teamsports.cz | 2019-06-01 06:32:00 | Platba                                 | unspecified      |         -1 | no_manufacturer  |         999 | Other     |           0 | unspecified     |           0 | unspecified             | unspecified | unspecified | unspecified | unspecified | unspecified | cz        |\n",
      "| 2019-06-01 00:00:00 | 1900078940 | CARD_CSOB     | ZB00025745  |          1 |               0 |              45.6469  |  24.0399    |            60.8302  | E-COMMER     | FTB.czC   | FTB.czO  | 11teamsports.cz | 2019-06-01 09:31:00 | VAPOR 12 ACADEMY SG                    | ah7376-070       |         84 | Nike             |         100 | Footwear  |         110 | Football shoes  |           0 | unspecified             | football    | men         | adults      | Silver      | 45          | cz        |\n",
      "| 2019-06-01 00:00:00 | 1900078940 | CARD_CSOB     | S114        |         -1 |               0 |               3.2031  |   0         |             3.2031  | E-COMMER     | FTB.czC   | FTB.czO  | 11teamsports.cz | 2019-06-01 09:31:00 | Sleva                                  | unspecified      |         -1 | no_manufacturer  |         999 | Other     |           0 | unspecified     |           0 | unspecified             | unspecified | unspecified | unspecified | unspecified | unspecified | cz        |\n",
      "| 2019-06-01 00:00:00 | 1900078963 | COD           | ZB00025954  |          1 |               0 |              40.643   |  26.7198    |            65.5681  | E-COMMER     | FTB.huC   | FTB.huO  | 11teamsports.hu | 2019-06-01 06:25:00 | M NK DRY SQD17 TRK SUIT K              | 832325-702       |         84 | Nike             |         200 | Apparel   |         250 | Tracksuits      |           0 | unspecified             | football    | men         | adults      | Green       | M           | hu        |\n",
      "| 2019-06-01 00:00:00 | 1900078989 | COD           | ZB00025779  |          1 |               0 |              20.7891  |   9.73256   |            20.7891  | E-COMMER     | STR.czC   | STR.czO  | tint-store.cz   | 2019-06-01 06:25:00 | Adidas Originals bucket hat hut        | dv0863           |        232 | adidas Originals |         200 | Apparel   |         210 | Caps            |           0 | unspecified             | lifestyle   | unisex      | adults      | Black       | OSFM        | cz        |\n",
      "| 2019-06-01 00:00:00 | 1900078989 | COD           | S101        |          1 |               0 |               1.56977 |   0         |             1.56977 | E-COMMER     | STR.czC   | STR.czO  | tint-store.cz   | 2019-06-01 06:25:00 | Dopravné                               | unspecified      |         -1 | no_manufacturer  |         999 | Other     |           0 | unspecified     |           0 | unspecified             | unspecified | unspecified | unspecified | unspecified | unspecified | cz        |\n",
      "| 2019-06-01 00:00:00 | 1900078989 | COD           | S113        |          1 |               0 |               0.92907 |   0         |             0.92907 | E-COMMER     | STR.czC   | STR.czO  | tint-store.cz   | 2019-06-01 06:25:00 | Platba                                 | unspecified      |         -1 | no_manufacturer  |         999 | Other     |           0 | unspecified     |           0 | unspecified             | unspecified | unspecified | unspecified | unspecified | unspecified | cz        |\n",
      "| 2019-06-01 00:00:00 | 1900078990 | COD           | ZB00025779  |          1 |               0 |              20.7891  |   9.73256   |            20.7891  | E-COMMER     | STR.czC   | STR.czO  | tint-store.cz   | 2019-06-01 08:01:00 | Adidas Originals bucket hat hut        | dv0863           |        232 | adidas Originals |         200 | Apparel   |         210 | Caps            |           0 | unspecified             | lifestyle   | unisex      | adults      | Black       | OSFM        | cz        |\n",
      "| 2019-06-01 00:00:00 | 1900078990 | COD           | S101        |          1 |               0 |               1.56977 |   0         |             1.56977 | E-COMMER     | STR.czC   | STR.czO  | tint-store.cz   | 2019-06-01 08:01:00 | Dopravné                               | unspecified      |         -1 | no_manufacturer  |         999 | Other     |           0 | unspecified     |           0 | unspecified             | unspecified | unspecified | unspecified | unspecified | unspecified | cz        |\n",
      "| 2019-06-01 00:00:00 | 1900078990 | COD           | S113        |          1 |               0 |               0.92907 |   0         |             0.92907 | E-COMMER     | STR.czC   | STR.czO  | tint-store.cz   | 2019-06-01 08:01:00 | Platba                                 | unspecified      |         -1 | no_manufacturer  |         999 | Other     |           0 | unspecified     |           0 | unspecified             | unspecified | unspecified | unspecified | unspecified | unspecified | cz        |\n",
      "| 2019-06-01 00:00:00 | 1900078940 | CARD_CSOB     | S101        |          1 |               0 |               1.56977 |   0         |             1.56977 | E-COMMER     | FTB.czC   | FTB.czO  | 11teamsports.cz | 2019-06-01 09:31:00 | Dopravné                               | unspecified      |         -1 | no_manufacturer  |         999 | Other     |           0 | unspecified     |           0 | unspecified             | unspecified | unspecified | unspecified | unspecified | unspecified | cz        |\n",
      "| 2019-06-01 00:00:00 | 1900080152 | CARD_CSOB     | ZB00000151  |          1 |               0 |              25.3058  |   9.0531    |             0       | E-COMMER     | RUN.czC   | RUN.czO  | top4running.cz  | 2019-06-01 09:32:00 | W NP TOP SS ALL OVER MESH Zlatá tretra | 889540-010-zt    |         84 | Nike             |         200 | Apparel   |         230 | T-Shirts        |           0 | unspecified             | running     | women       | adults      | Black       | S           | cz        |\n",
      "| 2019-06-01 00:00:00 | 1900079037 | CARD_CSOB     | ZB00025619  |          1 |               0 |              24.7934  |  11.0574    |            38.119   | E-COMMER     | FTB.czC   | VO_B_FTO | 11teamsports.cz | 2019-06-01 06:31:00 | ACADEMY14 SDLN WVN JKT - TEAMSPORT     | 588473-739       |         84 | Nike             |         200 | Apparel   |         215 | Jackets         |           0 | unspecified             | football    | unisex      | adults      | Yellow      | M           | cz        |\n",
      "| 2019-06-01 00:00:00 | 1900079037 | CARD_CSOB     | S101        |          1 |               0 |               1.56977 |   0         |             1.56977 | E-COMMER     | FTB.czC   | VO_B_FTO | 11teamsports.cz | 2019-06-01 06:31:00 | Dopravné                               | unspecified      |         -1 | no_manufacturer  |         999 | Other     |           0 | unspecified     |           0 | unspecified             | unspecified | unspecified | unspecified | unspecified | unspecified | cz        |\n",
      "| 2019-06-01 00:00:00 | 1900079122 | COD           | ZB00026709  |          1 |               0 |              38.4631  |  24.8899    |            63.8106  | E-COMMER     | FIT.roC   | FIT.roO  | top4fitness.ro  | 2019-06-01 06:34:00 | W NSW AV15 JKT KNT                     | 837458-100       |         84 | Nike             |         200 | Apparel   |         215 | Jackets         |           0 | unspecified             | football    | women       | adults      | Silver      | S           | ro        |\n",
      "| 2019-06-01 00:00:00 | 1900079924 | CARD_CSOB     | ZB00000394  |          1 |               0 |              23.0314  |  17.0407    |            25.5942  | E-COMMER     | Sport.cC  | Sport.cO | top4sport.cz    | 2019-06-01 09:37:00 | UA SPEED STRIDE SHORTSLEEVE-BLU        | 1326564-437      |        106 | Under Armour     |         200 | Apparel   |         230 | T-Shirts        |           0 | unspecified             | running     | men         | adults      | Blue        | S/M         | cz        |\n",
      "| 2019-06-01 00:00:00 | 1900079924 | CARD_CSOB     | S101        |          1 |               0 |               1.56977 |   0         |             1.56977 | E-COMMER     | Sport.cC  | Sport.cO | top4sport.cz    | 2019-06-01 09:37:00 | Dopravné                               | unspecified      |         -1 | no_manufacturer  |         999 | Other     |           0 | unspecified     |           0 | unspecified             | unspecified | unspecified | unspecified | unspecified | unspecified | cz        |\n",
      "| 2019-06-01 00:00:00 | 1900079924 | CARD_CSOB     | S114        |         -1 |               0 |               3.2031  |   0         |             3.2031  | E-COMMER     | Sport.cC  | Sport.cO | top4sport.cz    | 2019-06-01 09:37:00 | Sleva                                  | unspecified      |         -1 | no_manufacturer  |         999 | Other     |           0 | unspecified     |           0 | unspecified             | unspecified | unspecified | unspecified | unspecified | unspecified | cz        |\n",
      "| 2019-06-01 00:00:00 | 1900079845 | COD           | S114        |         -1 |               0 |               3.2031  |   0         |             3.2031  | E-COMMER     | STR.czC   | STR.czO  | tint-store.cz   | 2019-06-01 09:32:00 | Sleva                                  | unspecified      |         -1 | no_manufacturer  |         999 | Other     |           0 | unspecified     |           0 | unspecified             | unspecified | unspecified | unspecified | unspecified | unspecified | cz        |\n",
      "| 2019-06-01 00:00:00 | 1900079845 | COD           | S113        |          1 |               0 |               0.92907 |   0         |             0.92907 | E-COMMER     | STR.czC   | STR.czO  | tint-store.cz   | 2019-06-01 09:32:00 | Platba                                 | unspecified      |         -1 | no_manufacturer  |         999 | Other     |           0 | unspecified     |           0 | unspecified             | unspecified | unspecified | unspecified | unspecified | unspecified | cz        |\n",
      "| 2019-06-01 00:00:00 | 1900079845 | COD           | S101        |          1 |               0 |               2.85078 |   0         |             2.85078 | E-COMMER     | STR.czC   | STR.czO  | tint-store.cz   | 2019-06-01 09:32:00 | Dopravné                               | unspecified      |         -1 | no_manufacturer  |         999 | Other     |           0 | unspecified     |           0 | unspecified             | unspecified | unspecified | unspecified | unspecified | unspecified | cz        |\n",
      "| 2019-06-01 00:00:00 | 1900079845 | COD           | ZB00025984  |          1 |               0 |              57.6271  |  28.3442    |            57.6271  | E-COMMER     | STR.czC   | STR.czO  | tint-store.cz   | 2019-06-01 09:32:00 | DEERUPT RUNNER J                       | f34295           |        232 | adidas Originals |         100 | Footwear  |         199 | Other Footwear  |           0 | unspecified             | lifestyle   | unisex      | kids        | White       | 39,3        | cz        |\n",
      "| 2019-06-01 00:00:00 | 1900080490 | CARD_CSOB     | ZB00015845  |          1 |               0 |             114.165   |  87.5407    |           190.275   | E-COMMER     | FTB.czC   | FTB.czO  | 11teamsports.cz | 2019-06-01 11:57:00 | NEMEZIZ 191 FG                         | f34408           |         85 | adidas           |         100 | Footwear  |         110 | Football shoes  |           0 | unspecified             | football    | men         | adults      | Red         | 46          | cz        |\n",
      "| 2019-06-01 00:00:00 | 1900080490 | CARD_CSOB     | ZB00015803  |          1 |               0 |             114.165   |  87.5415    |           190.275   | E-COMMER     | FTB.czC   | FTB.czO  | 11teamsports.cz | 2019-06-01 11:57:00 | NEMEZIZ 191 SG                         | f99855           |         85 | adidas           |         100 | Footwear  |         110 | Football shoes  |           0 | unspecified             | football    | men         | adults      | Red         | 46          | cz        |\n",
      "| 2019-06-01 00:00:00 | 1900079295 | PAYPAL        | ZB00012026  |          1 |               0 |               8.24543 |  11.3791    |            22.6886  | E-COMMER     | FIT.deC   | FIT.deO  | top4fitness.de  | 2019-06-01 17:01:00 | NK ELMNTL BKPK                         | ba5381-346       |         84 | Nike             |         300 | Equipment |         310 | Backpacks       |           0 | unspecified             | football    | unisex      | adults      | Green       | ks          | de        |\n",
      "| 2019-06-01 00:00:00 | 1900079825 | GOPAY_CARD    | S101        |          1 |               0 |               5.00329 |   0         |             4.96327 | E-COMMER     | RUN.comC  | RUN.comO | top4running.com | 2019-06-01 08:01:00 | Dopravné                               | unspecified      |         -1 | no_manufacturer  |         999 | Other     |           0 | unspecified     |           0 | unspecified             | unspecified | unspecified | unspecified | unspecified | unspecified | com       |\n",
      "| 2019-06-01 00:00:00 | 1900079825 | GOPAY_CARD    | ZB00009040  |          1 |               0 |              53.4552  |   0.0387597 |            75.6698  | E-COMMER     | RUN.comC  | RUN.comO | top4running.com | 2019-06-01 08:01:00 | SAUCONY JAZZ ORIGINAL VINTAGE          | s60368-40        |        103 | Saucony          |         100 | Footwear  |         199 | Other Footwear  |           0 | unspecified             | lifestyle   | women       | adults      | Yellow      | 38          | com       |\n",
      "| 2019-06-01 00:00:00 | 1900080509 | COD           | ZB00022564  |          2 |               0 |              24.6333  |  17.0543    |            35.2039  | E-COMMER     | RUN.czC   | RUN.czO  | top4running.cz  | 2019-06-01 09:32:00 | Cotton Stretch 6 3 Pack                | 1277279-004      |        106 | Under Armour     |         200 | Apparel   |         260 | Underwear       |           0 | unspecified             | fitness     | men         | adults      | Black       | M           | cz        |\n",
      "| 2019-06-01 00:00:00 | 1900080509 | COD           | S101        |          1 |               0 |               1.56977 |   0         |             1.56977 | E-COMMER     | RUN.czC   | RUN.czO  | top4running.cz  | 2019-06-01 09:32:00 | Dopravné                               | unspecified      |         -1 | no_manufacturer  |         999 | Other     |           0 | unspecified     |           0 | unspecified             | unspecified | unspecified | unspecified | unspecified | unspecified | cz        |\n",
      "| 2019-06-01 00:00:00 | 1900079952 | COD           | ZB00009785  |          1 |               0 |              63.2326  |   1.00078   |           105.388   | E-COMMER     | RUN.czC   | RUN.czO  | top4running.cz  | 2019-06-01 11:02:00 | NIKE AIR ZOOM PEGASUS 35               | 942851-001       |         84 | Nike             |         100 | Footwear  |         120 | Running shoes   |           0 | unspecified             | running     | men         | adults      | Black       | 40,5        | cz        |\n",
      "| 2019-06-01 00:00:00 | 1900080509 | COD           | S113        |          1 |               0 |               0.92907 |   0         |             0.92907 | E-COMMER     | RUN.czC   | RUN.czO  | top4running.cz  | 2019-06-01 09:32:00 | Platba                                 | unspecified      |         -1 | no_manufacturer  |         999 | Other     |           0 | unspecified     |           0 | unspecified             | unspecified | unspecified | unspecified | unspecified | unspecified | cz        |\n",
      "| 2019-06-01 00:00:00 | 1900079122 | COD           | ZB00026708  |          1 |               0 |              18.256   |  11.6008    |            22.6877  | E-COMMER     | FIT.roC   | FIT.roO  | top4fitness.ro  | 2019-06-01 06:34:00 | W NP TOP SS                            | 725745-617       |         84 | Nike             |         200 | Apparel   |         230 | T-Shirts        |           0 | unspecified             | fitness     | women       | adults      | Pink        | S           | ro        |\n",
      "| 2019-06-01 00:00:00 | 1900079118 | COD           | ZB00026682  |          1 |               0 |             157.604   |  95.8186    |           175.115   | E-COMMER     | FTB.skC   | FTB.skO  | 11teamsports.sk | 2019-06-01 06:34:00 | AIR VAPORMAX PLUS                      | 924453-015       |         84 | Nike             |         100 | Footwear  |         199 | Other Footwear  |           0 | unspecified             | football    | men         | adults      | Black       | 44,5        | sk        |\n",
      "| 2019-06-01 00:00:00 | 1900079111 | COD           | ZB00026136  |          1 |               0 |              36.6103  |  26.7671    |            56.3366  | E-COMMER     | FTB.huC   | FTB.huO  | 11teamsports.hu | 2019-06-01 06:34:00 | VAPOR 12 ACADEMY MG                    | ah7375-001       |         84 | Nike             |         100 | Footwear  |         110 | Football shoes  |           0 | unspecified             | football    | men         | adults      | Black       | 41          | hu        |\n",
      "| 2019-06-01 00:00:00 | 1900079111 | COD           | ZB00026707  |          1 |               0 |               8.23548 |   4.62829   |            12.6083  | E-COMMER     | FTB.huC   | FTB.huO  | 11teamsports.hu | 2019-06-01 06:34:00 | M NK DRY PARK18 SS TOP                 | aa2046-010       |         84 | Nike             |         200 | Apparel   |         230 | T-Shirts        |           0 | unspecified             | football    | men         | adults      | Black       | S           | hu        |\n",
      "| 2019-06-01 00:00:00 | 1900079049 | COD           | ZB00026019  |          1 |               0 |             130.086   |  91.3124    |           200.132   | E-COMMER     | FTB.skC   | FTB.skO  | 11teamsports.sk | 2019-06-01 06:32:00 | VAPOR 12 ELITE FG                      | ah7380-070       |         84 | Nike             |         100 | Footwear  |         110 | Football shoes  |           0 | unspecified             | football    | men         | adults      | Silver      | 42,5        | sk        |\n",
      "| 2019-06-01 00:00:00 | 1900079056 | COD           | ZB00026018  |          1 |               0 |               8.50893 |   4.46628   |            11.521   | E-COMMER     | FTB.roC   | FTB.roO  | 11teamsports.ro | 2019-06-01 06:32:00 | Adidas Team Glider                     | cz2230           |         85 | adidas           |         300 | Equipment |         320 | Balls           |           0 | unspecified             | football    | men         | adults      | White       | 5           | ro        |\n",
      "| 2019-06-01 00:00:00 | 1900079057 | COD           | ZB00019137  |          1 |               0 |              40.3295  |  28.8213    |            57.6271  | E-COMMER     | FTB.czC   | FTB.czO  | 11teamsports.cz | 2019-06-01 06:32:00 | JR PHNTOM VSN ACADEMY DF FG/MG         | ao3287-408       |         84 | Nike             |         100 | Footwear  |         110 | Football shoes  |           0 | unspecified             | football    | unisex      | kids        | Silver      | 38          | cz        |\n",
      "| 2019-06-01 00:00:00 | 1900079057 | COD           | S101        |          1 |               0 |               2.21008 |   0         |             2.21008 | E-COMMER     | FTB.czC   | FTB.czO  | 11teamsports.cz | 2019-06-01 06:32:00 | Dopravné                               | unspecified      |         -1 | no_manufacturer  |         999 | Other     |           0 | unspecified     |           0 | unspecified             | unspecified | unspecified | unspecified | unspecified | unspecified | cz        |\n",
      "| 2019-06-01 00:00:00 | 1900079057 | COD           | S113        |          1 |               0 |               0.92907 |   0         |             0.92907 | E-COMMER     | FTB.czC   | FTB.czO  | 11teamsports.cz | 2019-06-01 06:32:00 | Platba                                 | unspecified      |         -1 | no_manufacturer  |         999 | Other     |           0 | unspecified     |           0 | unspecified             | unspecified | unspecified | unspecified | unspecified | unspecified | cz        |\n",
      "| 2019-06-01 00:00:00 | 1900079059 | CARD_GOPAY    | ZB00025762  |          1 |               0 |              17.2614  |  10.9527    |            24.6863  | E-COMMER     | FTB.skC   | FTB.skO  | 11teamsports.sk | 2019-06-01 06:32:00 | HG ARMOUR 20 LONG SHORT                | 1289568-001      |        106 | Under Armour     |         200 | Apparel   |         240 | Pants           |         244 | Compression pants       | football    | men         | adults      | Black       | L           | sk        |\n",
      "| 2019-06-01 00:00:00 | 1900079060 | COD           | ZB00026704  |          1 |               0 |              27.268   |  16.8054    |            37.5247  | E-COMMER     | FTB.skC   | FTB.skO  | 11teamsports.sk | 2019-06-01 06:32:00 | star chevron graphic                   | 10006480-a01-001 |        139 | Converse         |         200 | Apparel   |         240 | Pants           |         242 | Shorts                  | lifestyle   | men         | adults      | Black       | L           | sk        |\n",
      "| 2019-06-01 00:00:00 | 1900079067 | COD           | ZB00021748  |          1 |               0 |              74.8287  |  48.6264    |            96.0663  | E-COMMER     | RUN.czC   | RUN.czO  | top4running.cz  | 2019-06-01 06:32:00 | WMNS NIKE AIR ZOOM PEGASUS 35          | 942855-011       |         84 | Nike             |         100 | Footwear  |         120 | Running shoes   |           0 | unspecified             | running     | women       | adults      | Silver      | 39          | cz        |\n",
      "| 2019-06-01 00:00:00 | 1900079037 | CARD_CSOB     | ZB00025620  |          1 |               0 |              18.707   |   9.44612   |            28.7977  | E-COMMER     | FTB.czC   | VO_B_FTO | 11teamsports.cz | 2019-06-01 06:31:00 | M NK DRY PARK III JSY LS GK            | 894509-398       |         84 | Nike             |         200 | Apparel   |         230 | T-Shirts        |         233 | Longsleeved (LS) shirts | football    | men         | adults      | Green       | S           | cz        |\n",
      "| 2019-06-01 00:00:00 | 1900079067 | COD           | S113        |          1 |               0 |               0.92907 |   0         |             0.92907 | E-COMMER     | RUN.czC   | RUN.czO  | top4running.cz  | 2019-06-01 06:32:00 | Platba                                 | unspecified      |         -1 | no_manufacturer  |         999 | Other     |           0 | unspecified     |           0 | unspecified             | unspecified | unspecified | unspecified | unspecified | unspecified | cz        |\n",
      "| 2019-06-01 00:00:00 | 1900079070 | COD           | S114        |         -1 |               0 |               3.2031  |   0         |             3.2031  | E-COMMER     | FTB.czC   | FTB.czO  | 11teamsports.cz | 2019-06-01 06:32:00 | Sleva                                  | unspecified      |         -1 | no_manufacturer  |         999 | Other     |           0 | unspecified     |           0 | unspecified             | unspecified | unspecified | unspecified | unspecified | unspecified | cz        |\n",
      "| 2019-06-01 00:00:00 | 1900079074 | COD           | ZB00026164  |          1 |               0 |              39.5262  |  29.4992    |            60.7985  | E-COMMER     | FTB.roC   | FTB.roO  | 11teamsports.ro | 2019-06-01 06:32:00 | VAPOR 12 ACADEMY TF                    | ah7384-701       |         84 | Nike             |         100 | Footwear  |         110 | Football shoes  |           0 | unspecified             | football    | men         | adults      | Green       | 43          | ro        |\n",
      "| 2019-06-01 00:00:00 | 1900079087 | COD           | ZB00024304  |          1 |               0 |              73.6434  |  36.4725    |            73.6434  | E-COMMER     | FTB.czC   | FTB.czO  | 11teamsports.cz | 2019-06-01 06:32:00 | SUPERFLY 6 ACADEMY MG                  | ah7362-408       |         84 | Nike             |         100 | Footwear  |         110 | Football shoes  |           0 | unspecified             | football    | men         | adults      | Blue        | 44          | cz        |\n",
      "| 2019-06-01 00:00:00 | 1900079087 | COD           | S113        |          1 |               0 |               0.92907 |   0         |             0.92907 | E-COMMER     | FTB.czC   | FTB.czO  | 11teamsports.cz | 2019-06-01 06:32:00 | Platba                                 | unspecified      |         -1 | no_manufacturer  |         999 | Other     |           0 | unspecified     |           0 | unspecified             | unspecified | unspecified | unspecified | unspecified | unspecified | cz        |\n",
      "| 2019-06-01 00:00:00 | 1900079095 | COD           | ZB00026705  |          1 |               0 |              21.9426  |  11.2035    |            30.2709  | E-COMMER     | FTB.czC   | FTB.czO  | 11teamsports.cz | 2019-06-01 06:32:00 | reflective wordmark legging            | 10004552-a01     |        139 | Converse         |         200 | Apparel   |         240 | Pants           |           0 | unspecified             | lifestyle   | women       | adults      | Black       | S           | cz        |\n",
      "| 2019-06-01 00:00:00 | 1900079095 | COD           | S101        |          1 |               0 |               2.21008 |   0         |             2.21008 | E-COMMER     | FTB.czC   | FTB.czO  | 11teamsports.cz | 2019-06-01 06:32:00 | Dopravné                               | unspecified      |         -1 | no_manufacturer  |         999 | Other     |           0 | unspecified     |           0 | unspecified             | unspecified | unspecified | unspecified | unspecified | unspecified | cz        |\n",
      "| 2019-06-01 00:00:00 | 1900079095 | COD           | S113        |          1 |               0 |               0.92907 |   0         |             0.92907 | E-COMMER     | FTB.czC   | FTB.czO  | 11teamsports.cz | 2019-06-01 06:32:00 | Platba                                 | unspecified      |         -1 | no_manufacturer  |         999 | Other     |           0 | unspecified     |           0 | unspecified             | unspecified | unspecified | unspecified | unspecified | unspecified | cz        |\n",
      "| 2019-06-01 00:00:00 | 1900079098 | COD           | ZB00026706  |          1 |               0 |              18.0919  |   9.98178   |            29.1892  | E-COMMER     | FTB.skC   | FTB.skO  | 11teamsports.sk | 2019-06-01 06:34:00 | M NP TOP LS COMP MOCK                  | 838079-657       |         84 | Nike             |         200 | Apparel   |         230 | T-Shirts        |         236 | Compression shirts      | football    | men         | adults      | Red         | L           | sk        |\n",
      "| 2019-06-01 00:00:00 | 1900079070 | COD           | ZB00025613  |          1 |               0 |              76.238   |  49.4574    |           108.879   | E-COMMER     | FTB.czC   | FTB.czO  | 11teamsports.cz | 2019-06-01 06:32:00 | NEMEZIZ 182 FG                         | bb9431           |         85 | adidas           |         100 | Footwear  |         110 | Football shoes  |           0 | unspecified             | football    | men         | adults      | Yellow      | 43,3        | cz        |\n",
      "| 2019-06-01 00:00:00 | 1900078757 | COD           | S113        |          1 |               0 |               0.92907 |   0         |             0.92907 | E-COMMER     | FTB.czC   | FTB.czO  | 11teamsports.cz | 2019-06-01 00:04:00 | Platba                                 | unspecified      |         -1 | no_manufacturer  |         999 | Other     |           0 | unspecified     |           0 | unspecified             | unspecified | unspecified | unspecified | unspecified | unspecified | cz        |\n",
      "| 2019-06-01 00:00:00 | 1900079070 | COD           | S113        |          1 |               0 |               0.92907 |   0         |             0.92907 | E-COMMER     | FTB.czC   | FTB.czO  | 11teamsports.cz | 2019-06-01 06:32:00 | Platba                                 | unspecified      |         -1 | no_manufacturer  |         999 | Other     |           0 | unspecified     |           0 | unspecified             | unspecified | unspecified | unspecified | unspecified | unspecified | cz        |\n",
      "| 2019-06-01 00:00:00 | 1900078757 | COD           | ZB00007426  |          2 |               0 |               6.63062 |   0.0709302 |             7.78411 | E-COMMER     | FTB.czC   | FTB.czO  | 11teamsports.cz | 2019-06-01 00:04:00 | Team Scrimmage Swoosh Vest             | 361109-371       |         84 | Nike             |         200 | Apparel   |         225 | Jerseys         |         234 | Sleeveless (SL) shirts  | football    | men         | adults      | Green       | S/M         | cz        |\n",
      "| 2019-06-01 00:00:00 | 1900073936 | BANK_TRANSFER | ZB00049783  |          1 |               0 |              69.4657  |  28.7787    |            99.2353  | E-COMMER     | FTB.esC   | FTB.esO  | 11teamsports.es | 2019-06-01 08:00:00 | PRED PRO                               | dn8578           |         85 | adidas           |         300 | Equipment |         280 | Gloves          |         327 | Football gloves         | football    | men         | adults      | Black       | 10,5        | es        |\n",
      "| 2019-06-01 00:00:00 | 1900075432 | COD           | ZB00026064  |          1 |               0 |              45.8904  |  25.4461    |            65.5681  | E-COMMER     | FTB.huC   | FTB.huO  | 11teamsports.hu | 2019-06-01 09:26:00 | M NK DRY SQD17 TRK SUIT K              | 832325-657       |         84 | Nike             |         200 | Apparel   |         250 | Tracksuits      |           0 | unspecified             | football    | men         | adults      | Dark red    | L           | hu        |\n",
      "| 2019-06-01 00:00:00 | 1900075432 | COD           | S101        |          1 |               0 |               2.40506 |   0         |             2.40506 | E-COMMER     | FTB.huC   | FTB.huO  | 11teamsports.hu | 2019-06-01 09:26:00 | Dopravné                               | unspecified      |         -1 | no_manufacturer  |         999 | Other     |           0 | unspecified     |           0 | unspecified             | unspecified | unspecified | unspecified | unspecified | unspecified | hu        |\n",
      "| 2019-06-01 00:00:00 | 1900075773 | COD           | ZB00017976  |          1 |               0 |             113.364   |  69.2446    |           188.962   | E-COMMER     | FTB.czC   | FTB.czO  | 11teamsports.cz | 2019-06-01 07:22:00 | X 181 FG                               | bb9347           |         85 | adidas           |         100 | Footwear  |         110 | Football shoes  |           0 | unspecified             | football    | men         | adults      | Red         | 44,7        | cz        |\n",
      "| 2019-06-01 00:00:00 | 1900076357 | COD           | ZB00023846  |          1 |               0 |              11.521   |   0         |            16.4842  | E-COMMER     | FTB.roC   | FTB.roO  | 11teamsports.ro | 2019-06-01 08:59:00 | NK MENOR X                             | sc3039-673       |         84 | Nike             |         300 | Equipment |         320 | Balls           |           0 | unspecified             | football    | unisex      | adults      | Red         | ks          | ro        |\n",
      "| 2019-06-01 00:00:00 | 1900077168 | COD           | ZB00025652  |          1 |               0 |              37.7035  |  29.7578    |            58.0128  | E-COMMER     | FTB.huC   | FTB.huO  | 11teamsports.hu | 2019-06-01 09:05:00 | X 183 FG                               | bb9366           |         85 | adidas           |         100 | Footwear  |         110 | Football shoes  |           0 | unspecified             | football    | men         | adults      | Black       | 44,7        | hu        |\n",
      "| 2019-06-01 00:00:00 | 1900077168 | COD           | S101        |          1 |               0 |               2.40506 |   0         |             2.40506 | E-COMMER     | FTB.huC   | FTB.huO  | 11teamsports.hu | 2019-06-01 09:05:00 | Dopravné                               | unspecified      |         -1 | no_manufacturer  |         999 | Other     |           0 | unspecified     |           0 | unspecified             | unspecified | unspecified | unspecified | unspecified | unspecified | hu        |\n",
      "| 2019-06-01 00:00:00 | 1900077515 | COD           | ZB00009443  |          2 |               0 |              13.6286  |  10.4283    |            18.1958  | E-COMMER     | RUN.huC   | RUN.huO  | top4running.hu  | 2019-06-01 09:25:00 | M NP SHORT LONG                        | 838063-091       |         84 | Nike             |         200 | Apparel   |         240 | Pants           |         244 | Compression pants       | running     | men         | adults      | Silver      | L           | hu        |\n",
      "| 2019-06-01 00:00:00 | 1900077515 | COD           | S101        |          1 |               0 |               2.40506 |   0         |             2.40506 | E-COMMER     | RUN.huC   | RUN.huO  | top4running.hu  | 2019-06-01 09:25:00 | Dopravné                               | unspecified      |         -1 | no_manufacturer  |         999 | Other     |           0 | unspecified     |           0 | unspecified             | unspecified | unspecified | unspecified | unspecified | unspecified | hu        |\n",
      "| 2019-06-01 00:00:00 | 1900079385 | COD           | ZB00017248  |          3 |               0 |              26.0105  |  10.2616    |            40.0089  | E-COMMER     | FTB.czC   | FTB.czO  | 11teamsports.cz | 2019-06-01 09:07:00 | FINALE M COMP                          | dn8687           |         85 | adidas           |         300 | Equipment |         320 | Balls           |           0 | unspecified             | football    | men         | adults      | Orange      | 5           | cz        |\n",
      "| 2019-06-01 00:00:00 | 1900077890 | COD           | ZB00026211  |          1 |               0 |              11.6777  |   5.84186   |            16.681   | E-COMMER     | FTB.skC   | FTB.skO  | 11teamsports.sk | 2019-06-01 06:24:00 | NK MENOR X                             | sc3039-673       |         84 | Nike             |         300 | Equipment |         320 | Balls           |           0 | unspecified             | football    | unisex      | adults      | Red         | PRO         | sk        |\n",
      "| 2019-06-01 00:00:00 | 1900078281 | COD           | ZB00025682  |          1 |               0 |              85.2074  |   2.29845   |           121.693   | E-COMMER     | RUN.czC   | RUN.czO  | top4running.cz  | 2019-06-01 09:16:00 | NIKE EPIC REACT FLYKNIT 2              | bq8928-003       |         84 | Nike             |         100 | Footwear  |         120 | Running shoes   |           0 | unspecified             | running     | men         | adults      | Black       | 42,5        | cz        |\n",
      "| 2019-06-01 00:00:00 | 1900078281 | COD           | S113        |          1 |               0 |               0.92907 |   0         |             0.92907 | E-COMMER     | RUN.czC   | RUN.czO  | top4running.cz  | 2019-06-01 09:16:00 | Platba                                 | unspecified      |         -1 | no_manufacturer  |         999 | Other     |           0 | unspecified     |           0 | unspecified             | unspecified | unspecified | unspecified | unspecified | unspecified | cz        |\n",
      "| 2019-06-01 00:00:00 | 1900078447 | PAYPAL        | ZB00025689  |          1 |               0 |              21.0238  |  16.8702    |            29.4294  | E-COMMER     | RUN.deC   | RUN.deO  | top4running.de  | 2019-06-01 16:56:00 | ADILETTE                               | 288022           |        232 | adidas Originals |         100 | Footwear  |         150 | Slides          |           0 | unspecified             | lifestyle   | men         | adults      | Blue        | 47,3        | de        |\n",
      "| 2019-06-01 00:00:00 | 1900078447 | PAYPAL        | S101        |          1 |               0 |               2.94194 |   0         |             2.94194 | E-COMMER     | RUN.deC   | RUN.deO  | top4running.de  | 2019-06-01 16:56:00 | Dopravné                               | unspecified      |         -1 | no_manufacturer  |         999 | Other     |           0 | unspecified     |           0 | unspecified             | unspecified | unspecified | unspecified | unspecified | unspecified | de        |\n",
      "| 2019-06-01 00:00:00 | 1900078650 | COD           | ZB00049881  |          1 |               0 |              16.8386  |   8.76008   |            28.0411  | E-COMMER     | FTB.roC   | VO_B_FTO | 11teamsports.ro | 2019-06-01 11:57:00 | ENTRY 15 GK                            | ap0325           |         85 | adidas           |         200 | Apparel   |         230 | T-Shirts        |         233 | Longsleeved (LS) shirts | football    | men         | adults      | Blue        | 164         | ro        |\n",
      "| 2019-06-01 00:00:00 | 1900078650 | COD           | ZB00011209  |          1 |               0 |               6.38064 |   5.59535   |             9.7492  | E-COMMER     | FTB.roC   | VO_B_FTO | 11teamsports.ro | 2019-06-01 11:57:00 | U NK SQUAD OTC                         | sx6830-100       |         84 | Nike             |         200 | Apparel   |         290 | Socks           |         291 | Football socks          | football    | unisex      | adults      | White       | S           | ro        |\n",
      "| 2019-06-01 00:00:00 | 1900073779 | CARD_GOPAY    | ZB00016912  |          1 |               0 |              20.0132  |  12.8748    |            33.352   | E-COMMER     | FTB.skC   | VO_B_FTO | 11teamsports.sk | 2019-06-01 06:34:00 | ASK SPRT LT M                          | cw9427           |         85 | adidas           |         200 | Apparel   |         240 | Pants           |           0 | unspecified             | football    | men         | adults      | Black       | M           | sk        |\n",
      "| 2019-06-01 00:00:00 | 1900078650 | COD           | ZB00014423  |          1 |               0 |              15.4211  |   8.34496   |            23.6094  | E-COMMER     | FTB.roC   | VO_B_FTO | 11teamsports.ro | 2019-06-01 11:57:00 | TIERRO13 GK SHO                        | z11471           |         85 | adidas           |         200 | Apparel   |         240 | Pants           |         242 | Shorts                  | football    | men         | adults      | Black       | 152         | ro        |\n",
      "| 2019-06-01 00:00:00 | 1900073779 | CARD_GOPAY    | ZB00002233  |          1 |               0 |              15.0099  |  12.9764    |            25.0165  | E-COMMER     | FTB.skC   | VO_B_FTO | 11teamsports.sk | 2019-06-01 06:34:00 | M NK FC DRY TEE SSNL BLOCK             | av5313-838       |         84 | Nike             |         200 | Apparel   |         230 | T-Shirts        |           0 | unspecified             | football    | men         | adults      | Orange      | S           | sk        |\n",
      "| 2019-06-01 00:00:00 | 1900073779 | CARD_GOPAY    | ZB00012932  |          1 |               0 |              30.0198  |  24.4023    |            50.0329  | E-COMMER     | FTB.skC   | VO_B_FTO | 11teamsports.sk | 2019-06-01 06:34:00 | M NK FC PANT                           | aq0667-492       |         84 | Nike             |         200 | Apparel   |         240 | Pants           |           0 | unspecified             | football    | men         | adults      | unspecified | S           | sk        |\n",
      "| 2019-06-01 00:00:00 | 1900072437 | COD           | ZB00010124  |          1 |               0 |              34.4031  |  18.9566    |            57.3388  | E-COMMER     | FTB.czC   | FTB.czO  | 11teamsports.cz | 2019-06-01 08:59:00 | LS GARDIEN JSY                         | 725882-702       |         84 | Nike             |         200 | Apparel   |         230 | T-Shirts        |         233 | Longsleeved (LS) shirts | football    | men         | adults      | Green       | XXL         | cz        |\n",
      "| 2019-06-01 00:00:00 | 1900072437 | COD           | ZB00013297  |          1 |               0 |               9.35349 |   6.01822   |            14.3826  | E-COMMER     | FTB.czC   | FTB.czO  | 11teamsports.cz | 2019-06-01 08:59:00 | PARK II KNIT SHORT NB                  | 725887-702       |         84 | Nike             |         200 | Apparel   |         240 | Pants           |         242 | Shorts                  | football    | men         | adults      | Green       | XL          | cz        |\n",
      "| 2019-06-01 00:00:00 | 1900072437 | COD           | ZB00001906  |          1 |               0 |               9.35349 |   5.40659   |            14.3826  | E-COMMER     | FTB.czC   | FTB.czO  | 11teamsports.cz | 2019-06-01 08:59:00 | YTH LEAGUE KNIT SHORT NB               | 725990-011       |         84 | Nike             |         200 | Apparel   |         240 | Pants           |         242 | Shorts                  | football    | unisex      | kids        | Black       | L           | cz        |\n",
      "| 2019-06-01 00:00:00 | 1900072437 | COD           | ZB00011732  |          1 |               0 |              31.2     |  17.1364    |            48.0171  | E-COMMER     | FTB.czC   | FTB.czO  | 11teamsports.cz | 2019-06-01 08:59:00 | YTH NK GARDIEN II GK JSY LS            | 898046-010       |         84 | Nike             |         200 | Apparel   |         230 | T-Shirts        |         233 | Longsleeved (LS) shirts | football    | unisex      | kids        | Black       | L           | cz        |\n",
      "| 2019-06-01 00:00:00 | 1900072437 | COD           | ZB00017248  |          4 |               0 |              26.0105  |  10.2616    |            40.0089  | E-COMMER     | FTB.czC   | FTB.czO  | 11teamsports.cz | 2019-06-01 08:59:00 | FINALE M COMP                          | dn8687           |         85 | adidas           |         300 | Equipment |         320 | Balls           |           0 | unspecified             | football    | men         | adults      | Orange      | 5           | cz        |\n",
      "| 2019-06-01 00:00:00 | 1900072437 | COD           | ZB00005692  |          1 |               0 |               4.99729 |   2.80736   |             7.68798 | E-COMMER     | FTB.czC   | FTB.czO  | 11teamsports.cz | 2019-06-01 08:59:00 | U NK CLASSIC II CUSH OTC -TEAM         | sx5728-013       |         84 | Nike             |         200 | Apparel   |         290 | Socks           |         291 | Football socks          | football    | unisex      | adults      | Black       | L           | cz        |\n",
      "| 2019-06-01 00:00:00 | 1900072437 | COD           | ZB00005846  |          1 |               0 |               5.60581 |   3.64922   |             8.61667 | E-COMMER     | FTB.czC   | FTB.czO  | 11teamsports.cz | 2019-06-01 08:59:00 | U NK CLASSIC II CUSH OTC -TEAM         | sx5728-702       |         84 | Nike             |         200 | Apparel   |         290 | Socks           |         291 | Football socks          | football    | unisex      | adults      | Green       | XL          | cz        |\n",
      "| 2019-06-01 00:00:00 | 1900072437 | COD           | ZB00005157  |          7 |               0 |              10.3787  |   6.13295   |            15.9845  | E-COMMER     | FTB.czC   | FTB.czO  | 11teamsports.cz | 2019-06-01 08:59:00 | NK PTCH TEAM                           | sc3166-701       |         84 | Nike             |         300 | Equipment |         320 | Balls           |           0 | unspecified             | football    | unisex      | adults      | Yellow      | 4           | cz        |\n",
      "| 2019-06-01 00:00:00 | 1900072959 | GOPAY_CARD    | ZB00010308  |          4 |               0 |              19.1826  |  11.6163    |            33.0818  | E-COMMER     | FTB.esC   | FTB.esO  | 11teamsports.es | 2019-06-01 00:09:00 | M NK DRY ACDMY18 TRK JKT K             | 893701-100       |         84 | Nike             |         200 | Apparel   |         215 | Jackets         |           0 | unspecified             | football    | men         | adults      | White       | S           | es        |\n",
      "| 2019-06-01 00:00:00 | 1900072959 | GOPAY_CARD    | ZB00010312  |          6 |               0 |              19.1826  |  11.9047    |            33.0818  | E-COMMER     | FTB.esC   | FTB.esO  | 11teamsports.es | 2019-06-01 00:09:00 | M NK DRY ACDMY18 TRK JKT K             | 893701-100       |         84 | Nike             |         200 | Apparel   |         215 | Jackets         |           0 | unspecified             | football    | men         | adults      | White       | M           | es        |\n",
      "| 2019-06-01 00:00:00 | 1900072959 | GOPAY_CARD    | ZB00010316  |         12 |               0 |              19.1826  |   5.4186    |            33.0818  | E-COMMER     | FTB.esC   | FTB.esO  | 11teamsports.es | 2019-06-01 00:09:00 | M NK DRY ACDMY18 TRK JKT K             | 893701-100       |         84 | Nike             |         200 | Apparel   |         215 | Jackets         |           0 | unspecified             | football    | men         | adults      | White       | L           | es        |\n",
      "| 2019-06-01 00:00:00 | 1900078757 | COD           | S101        |          1 |               0 |               2.21008 |   0         |             2.21008 | E-COMMER     | FTB.czC   | FTB.czO  | 11teamsports.cz | 2019-06-01 00:04:00 | Dopravné                               | unspecified      |         -1 | no_manufacturer  |         999 | Other     |           0 | unspecified     |           0 | unspecified             | unspecified | unspecified | unspecified | unspecified | unspecified | cz        |\n",
      "| 2019-06-01 00:00:00 | 1900073779 | CARD_GOPAY    | ZB00009368  |          1 |               0 |              12.5082  |   7.63488   |            20.8437  | E-COMMER     | FTB.skC   | VO_B_FTO | 11teamsports.sk | 2019-06-01 06:34:00 | M NP SHORT                             | 838061-010       |         84 | Nike             |         200 | Apparel   |         240 | Pants           |         242 | Shorts                  | fitness     | men         | adults      | Black       | M           | sk        |\n",
      "| 2019-06-01 00:00:00 | 1900073779 | CARD_GOPAY    | ZB00009389  |          1 |               0 |              12.5082  |   7.87364   |            20.8437  | E-COMMER     | FTB.skC   | VO_B_FTO | 11teamsports.sk | 2019-06-01 06:34:00 | M NP SHORT                             | 838061-091       |         84 | Nike             |         200 | Apparel   |         240 | Pants           |         242 | Shorts                  | fitness     | men         | adults      | Silver      | M           | sk        |\n",
      "| 2019-06-01 00:00:00 | 1900073779 | CARD_GOPAY    | ZB00001487  |          1 |               0 |              15.0099  |  13.007     |            25.0165  | E-COMMER     | FTB.skC   | VO_B_FTO | 11teamsports.sk | 2019-06-01 06:34:00 | M NSW CE POLO MATCHUP PQ               | 909746-337       |         84 | Nike             |         200 | Apparel   |         230 | T-Shirts        |         231 | Polo                    | lifestyle   | men         | adults      | Blue        | L           | sk        |\n",
      "| 2019-06-01 00:00:00 | 1900073779 | CARD_GOPAY    | ZB00014781  |          1 |               0 |              15.0099  |  11.205     |            25.0165  | E-COMMER     | FTB.skC   | VO_B_FTO | 11teamsports.sk | 2019-06-01 06:34:00 | TF BASE SS                             | aj4967           |         85 | adidas           |         200 | Apparel   |         230 | T-Shirts        |         236 | Compression shirts      | fitness     | men         | adults      | White       | S           | sk        |\n",
      "| 2019-06-01 00:00:00 | 1900073779 | CARD_GOPAY    | ZB00002069  |          1 |               0 |              27.5181  |  22.7744    |            45.8602  | E-COMMER     | FTB.skC   | VO_B_FTO | 11teamsports.sk | 2019-06-01 06:34:00 | M NIKE FC CREW TOP LS                  | ao0358-010       |         84 | Nike             |         200 | Apparel   |         230 | T-Shirts        |         233 | Longsleeved (LS) shirts | football    | men         | adults      | Black       | S           | sk        |\n",
      "| 2019-06-01 00:00:00 | 1900073779 | CARD_GOPAY    | ZB00002185  |          1 |               0 |              15.0099  |  13.007     |            25.0165  | E-COMMER     | FTB.skC   | VO_B_FTO | 11teamsports.sk | 2019-06-01 06:34:00 | M NK FC DRY TEE SSNL BLOCK             | av5313-100       |         84 | Nike             |         200 | Apparel   |         230 | T-Shirts        |           0 | unspecified             | football    | men         | adults      | Black       | S           | sk        |\n",
      "| 2019-06-01 00:00:00 | 1900078655 | COD           | ZB00026724  |          1 |               0 |              64.3422  |  36.1019    |            99.0845  | E-COMMER     | FTB.roC   | VO_B_FTO | 11teamsports.ro | 2019-06-01 11:57:00 | Adidas Predator Pro Hybrid             | dy2617           |         85 | adidas           |         300 | Equipment |         280 | Gloves          |         327 | Football gloves         | football    | men         | adults      | Silver      | 7,5         | ro        |\n",
      "| 2019-06-01 00:00:00 | 1900072959 | GOPAY_CARD    | ZB00010320  |          2 |               0 |              19.1826  |  10.0469    |            33.0818  | E-COMMER     | FTB.esC   | FTB.esO  | 11teamsports.es | 2019-06-01 00:09:00 | M NK DRY ACDMY18 TRK JKT K             | 893701-100       |         84 | Nike             |         200 | Apparel   |         215 | Jackets         |           0 | unspecified             | football    | men         | adults      | White       | XL          | es        |\n",
      "| 2019-06-01 00:00:00 | 1900078754 | CARD_CSOB     | ZB00049877  |          1 |               0 |             153.565   | 120.323     |           255.942   | E-COMMER     | FTB.czC   | FTB.czO  | 11teamsports.cz | 2019-06-01 11:57:00 | SUPERFLY 6 ELITE CR7 SG-PRO AC         | aj6932-600       |         84 | Nike             |         100 | Footwear  |         110 | Football shoes  |           0 | unspecified             | football    | men         | adults      | Red         | 42,5        | cz        |\n",
      "| 2019-06-01 00:00:00 | 1900078757 | COD           | ZB00049340  |          5 |               0 |               6.63062 |   2.5031    |             7.78411 | E-COMMER     | FTB.czC   | FTB.czO  | 11teamsports.cz | 2019-06-01 00:04:00 | Team Scrimmage Swoosh Vest             | 361109-100       |         84 | Nike             |         200 | Apparel   |         225 | Jerseys         |         234 | Sleeveless (SL) shirts  | football    | men         | adults      | White       | S/M         | cz        |\n",
      "| 2019-06-02 00:00:00 | 1900081346 | COD           | ZB00016098  |          1 |               0 |               8.61667 |   5.22364   |             8.26866 | E-COMMER     | RUN.czC   | RUN.czO  | top4running.cz  | 2019-06-02 07:30:00 | ESIO KINESIOLOGY TAPE 50mm             | unspecified      |         -1 | no_manufacturer  |         999 | Other     |           0 | unspecified     |           0 | unspecified             | unspecified | unspecified | unspecified | unspecified | unspecified | cz        |\n",
      "| 2019-06-02 00:00:00 | 1900081425 | COD           | ZB00010062  |          1 |               0 |              40.8419  |  27.6581    |            54.4236  | E-COMMER     | STR.czC   | STR.czO  | tint-store.cz   | 2019-06-02 09:16:00 | M NSW TCH FLC SHORT                    | 928513-355       |         84 | Nike             |         200 | Apparel   |         240 | Pants           |         242 | Shorts                  | lifestyle   | men         | adults      | Green       | L           | cz        |\n",
      "| 2019-06-02 00:00:00 | 1900081241 | PAYPAL        | S101        |          1 |               0 |               5.00329 |   0         |             4.96327 | E-COMMER     | RUN.comC  | RUN.comO | top4running.com | 2019-06-02 08:01:00 | Dopravné                               | unspecified      |         -1 | no_manufacturer  |         999 | Other     |           0 | unspecified     |           0 | unspecified             | unspecified | unspecified | unspecified | unspecified | unspecified | com       |\n",
      "| 2019-06-02 00:00:00 | 1900081241 | PAYPAL        | ZB00009222  |          1 |               0 |               8.33549 |   4.55465   |             9.09599 | E-COMMER     | RUN.comC  | RUN.comO | top4running.com | 2019-06-02 08:01:00 | BASIC WALLET                           | nia08693ns-693   |         84 | Nike             |         300 | Equipment |         399 | Other Equipment |           0 | unspecified             | football    | unisex      | adults      | Red         | ks          | com       |\n",
      "| 2019-06-02 00:00:00 | 1900081241 | PAYPAL        | ZB00002778  |          1 |               0 |               8.33549 |   4.44535   |             9.09599 | E-COMMER     | RUN.comC  | RUN.comO | top4running.com | 2019-06-02 08:01:00 | BASIC WALLET                           | nia08068ns       |         84 | Nike             |         300 | Equipment |         399 | Other Equipment |           0 | unspecified             | football    | unisex      | adults      | unspecified | ks          | com       |\n",
      "| 2019-06-02 00:00:00 | 1900081425 | COD           | S114        |         -1 |               0 |               3.2031  |   0         |             3.2031  | E-COMMER     | STR.czC   | STR.czO  | tint-store.cz   | 2019-06-02 09:16:00 | Sleva                                  | unspecified      |         -1 | no_manufacturer  |         999 | Other     |           0 | unspecified     |           0 | unspecified             | unspecified | unspecified | unspecified | unspecified | unspecified | cz        |\n",
      "| 2019-06-02 00:00:00 | 1900081425 | COD           | S101        |          1 |               0 |               1.56977 |   0         |             1.56977 | E-COMMER     | STR.czC   | STR.czO  | tint-store.cz   | 2019-06-02 09:16:00 | Dopravné                               | unspecified      |         -1 | no_manufacturer  |         999 | Other     |           0 | unspecified     |           0 | unspecified             | unspecified | unspecified | unspecified | unspecified | unspecified | cz        |\n",
      "| 2019-06-02 00:00:00 | 1900081425 | COD           | S113        |          1 |               0 |               0.92907 |   0         |             0.92907 | E-COMMER     | STR.czC   | STR.czO  | tint-store.cz   | 2019-06-02 09:16:00 | Platba                                 | unspecified      |         -1 | no_manufacturer  |         999 | Other     |           0 | unspecified     |           0 | unspecified             | unspecified | unspecified | unspecified | unspecified | unspecified | cz        |\n",
      "| 2019-06-02 00:00:00 | 1900081241 | PAYPAL        | ZB00009239  |          1 |               0 |               8.33549 |   4.39147   |             9.09599 | E-COMMER     | RUN.comC  | RUN.comO | top4running.com | 2019-06-02 08:01:00 | BASIC WALLET                           | nia08413ns-413   |         84 | Nike             |         300 | Equipment |         399 | Other Equipment |           0 | unspecified             | football    | unisex      | adults      | Blue        | ks          | com       |\n",
      "| 2019-06-03 00:00:00 | 1900081701 | CARD_CSOB     | S114        |         -1 |               0 |               3.2031  |   0         |             3.2031  | E-COMMER     | FTB.czC   | FTB.czO  | 11teamsports.cz | 2019-06-03 09:17:00 | Sleva                                  | unspecified      |         -1 | no_manufacturer  |         999 | Other     |           0 | unspecified     |           0 | unspecified             | unspecified | unspecified | unspecified | unspecified | unspecified | cz        |\n",
      "| 2019-06-03 00:00:00 | 1900081663 | CARD_CSOB     | ZB00015598  |          1 |               0 |              83.862   |   0.0387597 |           111.795   | E-COMMER     | RUN.czC   | RUN.czO  | top4running.cz  | 2019-06-03 09:17:00 | SONIC RA PRO 2                         | l40611100        |         93 | Salomon          |         100 | Footwear  |         120 | Running shoes   |           0 | unspecified             | running     | men         | adults      | Blue        | 43,3        | cz        |\n",
      "| 2019-06-03 00:00:00 | 1900081701 | CARD_CSOB     | ZB00014167  |          1 |               0 |             103.786   |  86.3609    |           129.733   | E-COMMER     | FTB.czC   | FTB.czO  | 11teamsports.cz | 2019-06-03 09:17:00 | COPA MUNDIAL FG                        | 015110           |         85 | adidas           |         100 | Footwear  |         110 | Football shoes  |           0 | unspecified             | football    | men         | adults      | Black       | 44,7        | cz        |\n",
      "| 2019-06-03 00:00:00 | 1900081500 | COD           | S113        |          1 |               0 |               0.92907 |   0         |             0.92907 | E-COMMER     | FTB.czC   | FTB.czO  | 11teamsports.cz | 2019-06-03 09:16:00 | Platba                                 | unspecified      |         -1 | no_manufacturer  |         999 | Other     |           0 | unspecified     |           0 | unspecified             | unspecified | unspecified | unspecified | unspecified | unspecified | cz        |\n",
      "| 2019-06-03 00:00:00 | 1900081500 | COD           | S101        |          1 |               0 |               1.56977 |   0         |             1.56977 | E-COMMER     | FTB.czC   | FTB.czO  | 11teamsports.cz | 2019-06-03 09:16:00 | Dopravné                               | unspecified      |         -1 | no_manufacturer  |         999 | Other     |           0 | unspecified     |           0 | unspecified             | unspecified | unspecified | unspecified | unspecified | unspecified | cz        |\n",
      "| 2019-06-03 00:00:00 | 1900081500 | COD           | S114        |         -1 |               0 |               3.2031  |   0         |             3.2031  | E-COMMER     | FTB.czC   | FTB.czO  | 11teamsports.cz | 2019-06-03 09:16:00 | Sleva                                  | unspecified      |         -1 | no_manufacturer  |         999 | Other     |           0 | unspecified     |           0 | unspecified             | unspecified | unspecified | unspecified | unspecified | unspecified | cz        |\n",
      "| 2019-06-03 00:00:00 | 1900081551 | COD           | S113        |          1 |               0 |               0.92907 |   0         |             0.92907 | E-COMMER     | FTB.czC   | FTB.czO  | 11teamsports.cz | 2019-06-03 09:17:00 | Platba                                 | unspecified      |         -1 | no_manufacturer  |         999 | Other     |           0 | unspecified     |           0 | unspecified             | unspecified | unspecified | unspecified | unspecified | unspecified | cz        |\n",
      "| 2019-06-03 00:00:00 | 1900081728 | PAYPAL        | S101        |          1 |               0 |               5.00329 |   0         |             4.96327 | E-COMMER     | RUN.comC  | RUN.comO | top4running.com | 2019-06-03 08:01:00 | Dopravné                               | unspecified      |         -1 | no_manufacturer  |         999 | Other     |           0 | unspecified     |           0 | unspecified             | unspecified | unspecified | unspecified | unspecified | unspecified | com       |\n",
      "| 2019-06-03 00:00:00 | 1900081500 | COD           | ZB00022514  |          1 |               0 |              40.8419  |   0.358527  |            54.4236  | E-COMMER     | FTB.czC   | FTB.czO  | 11teamsports.cz | 2019-06-03 09:16:00 | LEGEND 7 ACADEMY IC                    | ah7244-070       |         84 | Nike             |         100 | Footwear  |         110 | Football shoes  |         114 | Indoor/Court (IC)       | football    | men         | adults      | Silver      | 43          | cz        |\n",
      "| 2019-06-03 00:00:00 | 1900081595 | COD           | ZB00009388  |          2 |               0 |              16.0163  |  16         |            32.0008  | E-COMMER     | RUN.czC   | RUN.czO  | top4running.cz  | 2019-06-03 11:00:00 | RUN THERMA SPHERE HOOD 20              | nra62019ns       |         84 | Nike             |         200 | Apparel   |         299 | Other Apparel   |           0 | unspecified             | running     | men         | adults      | Silver      | ks          | cz        |\n",
      "| 2019-06-03 00:00:00 | 1900081838 | COD           | ZB00000899  |          1 |               0 |              22.3333  |  11.3891    |            22.3333  | E-COMMER     | FTB.roC   | FTB.roO  | 11teamsports.ro | 2019-06-03 09:18:00 | NK MERC LITE - ENERGY                  | sp2178-100       |         84 | Nike             |         300 | Equipment |         335 | Guards          |           0 | unspecified             | football    | men         | adults      | White       | S           | ro        |\n",
      "| 2019-06-03 00:00:00 | 1900081551 | COD           | S101        |          1 |               0 |               2.21008 |   0         |             2.21008 | E-COMMER     | FTB.czC   | FTB.czO  | 11teamsports.cz | 2019-06-03 09:17:00 | Dopravné                               | unspecified      |         -1 | no_manufacturer  |         999 | Other     |           0 | unspecified     |           0 | unspecified             | unspecified | unspecified | unspecified | unspecified | unspecified | cz        |\n",
      "| 2019-06-03 00:00:00 | 1900081517 | COD           | ZB00026469  |          1 |               0 |              90.0593  |  55.3349    |           150.099   | E-COMMER     | FTB.skC   | VO_B_FTO | 11teamsports.sk | 2019-06-03 11:58:00 | UltraBOOST 19                          | b37704           |         85 | adidas           |         100 | Footwear  |         120 | Running shoes   |           0 | unspecified             | running     | men         | adults      | Black       | 40          | sk        |\n",
      "| 2019-06-03 00:00:00 | 1900081517 | COD           | ZB00026470  |          1 |               0 |               5.00329 |   4.19419   |             8.33549 | E-COMMER     | FTB.skC   | VO_B_FTO | 11teamsports.sk | 2019-06-03 11:58:00 | PER INVIZ T 3P                         | cf3390           |         85 | adidas           |         200 | Apparel   |         290 | Socks           |           0 | unspecified             | football    | unisex      | adults      | White       | 35-38       | sk        |\n",
      "| 2019-06-03 00:00:00 | 1900081517 | COD           | ZB00026471  |          1 |               0 |               5.00329 |   4.22016   |             8.33549 | E-COMMER     | FTB.skC   | VO_B_FTO | 11teamsports.sk | 2019-06-03 11:58:00 | PER INVIZ T 3P                         | cv7409           |         85 | adidas           |         200 | Apparel   |         290 | Socks           |           0 | unspecified             | football    | unisex      | adults      | Black       | 35-38       | sk        |\n",
      "| 2019-06-03 00:00:00 | 1900081519 | CARD_CSOB     | ZB00022132  |          1 |               0 |             166.378   | 107.864     |           255.942   | E-COMMER     | FTB.czC   | FTB.czO  | 11teamsports.cz | 2019-06-03 22:31:00 | MERCURIAL SUPERFLY 360 ELITE CR7 FG    | aj3547-600       |         84 | Nike             |         100 | Footwear  |         110 | Football shoes  |           0 | unspecified             | football    | men         | adults      | Red         | 45          | cz        |\n",
      "| 2019-06-03 00:00:00 | 1900081453 | CARD_CSOB     | ZB00016429  |          2 |               0 |              26.8116  |  18.3721    |            38.4074  | E-COMMER     | FTB.czC   | FTB.czO  | 11teamsports.cz | 2019-06-03 09:16:00 | CZECH REPUBLIC B2B Shirt               | 75254301         |         86 | Puma             |         200 | Apparel   |         230 | T-Shirts        |           0 | unspecified             | football    | men         | adults      | Red         | XL          | cz        |\n",
      "| 2019-06-03 00:00:00 | 1900081453 | CARD_CSOB     | ZB00016431  |          1 |               0 |              26.8116  |  18.3721    |            38.4074  | E-COMMER     | FTB.czC   | FTB.czO  | 11teamsports.cz | 2019-06-03 09:16:00 | CZECH REPUBLIC B2B Shirt               | 75254301         |         86 | Puma             |         200 | Apparel   |         230 | T-Shirts        |           0 | unspecified             | football    | men         | adults      | Red         | L           | cz        |\n",
      "| 2019-06-03 00:00:00 | 1900081838 | COD           | ZB00005804  |          3 |               0 |               5.67191 |   3.44922   |             7.08937 | E-COMMER     | FTB.roC   | FTB.roO  | 11teamsports.ro | 2019-06-03 09:18:00 | U NK CLASSIC II CUSH OTC -TEAM         | sx5728-648       |         84 | Nike             |         200 | Apparel   |         290 | Socks           |         291 | Football socks          | football    | unisex      | adults      | Red         | M           | ro        |\n",
      "| 2019-06-03 00:00:00 | 1900081838 | COD           | ZB00005764  |          2 |               0 |               5.67191 |   2.77519   |             7.08937 | E-COMMER     | FTB.roC   | FTB.roO  | 11teamsports.ro | 2019-06-03 09:18:00 | U NK CLASSIC II CUSH OTC -TEAM         | sx5728-463       |         84 | Nike             |         200 | Apparel   |         290 | Socks           |         291 | Football socks          | football    | unisex      | adults      | Blue        | M           | ro        |\n",
      "| 2019-06-03 00:00:00 | 1900081739 | CARD_CSOB     | S114        |         -1 |               0 |               3.2031  |   0         |             3.2031  | E-COMMER     | RUN.czC   | RUN.czO  | top4running.cz  | 2019-06-03 09:18:00 | Sleva                                  | unspecified      |         -1 | no_manufacturer  |         999 | Other     |           0 | unspecified     |           0 | unspecified             | unspecified | unspecified | unspecified | unspecified | unspecified | cz        |\n",
      "| 2019-06-03 00:00:00 | 1900081504 | COD           | S114        |         -1 |               0 |               3.2031  |   0         |             3.2031  | E-COMMER     | RUN.czC   | RUN.czO  | top4running.cz  | 2019-06-03 09:17:00 | Sleva                                  | unspecified      |         -1 | no_manufacturer  |         999 | Other     |           0 | unspecified     |           0 | unspecified             | unspecified | unspecified | unspecified | unspecified | unspecified | cz        |\n",
      "| 2019-06-03 00:00:00 | 1900081739 | CARD_CSOB     | ZB00003656  |          1 |               0 |              18.0023  |  12.2453    |            23.9926  | E-COMMER     | RUN.czC   | RUN.czO  | top4running.cz  | 2019-06-03 09:18:00 | WOR SL SS SLD COMP                     | dp6163           |         88 | Reebok           |         200 | Apparel   |         230 | T-Shirts        |         236 | Compression shirts      | fitness     | men         | adults      | Black       | M           | cz        |\n",
      "| 2019-06-03 00:00:00 | 1900081739 | CARD_CSOB     | ZB00022646  |          1 |               0 |              33.6023  |  14.4702    |            44.814   | E-COMMER     | RUN.czC   | RUN.czO  | top4running.cz  | 2019-06-03 09:18:00 | LAUNCH SW LONG SHORT                   | 1309602-008      |        106 | Under Armour     |         200 | Apparel   |         240 | Pants           |         242 | Shorts                  | running     | men         | adults      | Silver      | M           | cz        |\n",
      "| 2019-06-03 00:00:00 | 1900081504 | COD           | S113        |          1 |               0 |               0.92907 |   0         |             0.92907 | E-COMMER     | RUN.czC   | RUN.czO  | top4running.cz  | 2019-06-03 09:17:00 | Platba                                 | unspecified      |         -1 | no_manufacturer  |         999 | Other     |           0 | unspecified     |           0 | unspecified             | unspecified | unspecified | unspecified | unspecified | unspecified | cz        |\n",
      "| 2019-06-03 00:00:00 | 1900081504 | COD           | ZB00015177  |          1 |               0 |              76.6547  |  61.1717    |           102.184   | E-COMMER     | RUN.czC   | RUN.czO  | top4running.cz  | 2019-06-03 09:17:00 | S/LAB EXO HALF TIGHT M                 | lc1044900        |        237 | S/LAB            |         200 | Apparel   |         240 | Pants           |         244 | Compression pants       | running     | men         | adults      | Black       | L           | cz        |\n",
      "| 2019-06-03 00:00:00 | 1900081504 | COD           | ZB00014706  |          1 |               0 |              52.6298  |  44.4225    |            70.1519  | E-COMMER     | RUN.czC   | RUN.czO  | top4running.cz  | 2019-06-03 09:17:00 | S/LAB SENSE TEE M                      | l40216800        |        237 | S/LAB            |         200 | Apparel   |         230 | T-Shirts        |           0 | unspecified             | running     | men         | adults      | White       | L           | cz        |\n",
      "| 2019-06-03 00:00:00 | 1900081551 | COD           | ZB00002433  |          1 |               0 |              34.9159  |  23.8702    |            34.9159  | E-COMMER     | FTB.czC   | FTB.czO  | 11teamsports.cz | 2019-06-03 09:17:00 | ACSP Y NK BRT FTBL TOP SS HM           | 914128-677       |         84 | Nike             |         200 | Apparel   |         225 | Jerseys         |           0 | unspecified             | football    | unisex      | kids        | Dark red    | XL          | cz        |\n",
      "| 2019-06-03 00:00:00 | 1900081739 | CARD_CSOB     | S101        |          1 |               0 |               1.56977 |   0         |             1.56977 | E-COMMER     | RUN.czC   | RUN.czO  | top4running.cz  | 2019-06-03 09:18:00 | Dopravné                               | unspecified      |         -1 | no_manufacturer  |         999 | Other     |           0 | unspecified     |           0 | unspecified             | unspecified | unspecified | unspecified | unspecified | unspecified | cz        |\n",
      "| 2019-06-03 00:00:00 | 1900081869 | COD           | ZB00026567  |          1 |               0 |              26.7676  |   0         |            41.6975  | E-COMMER     | FTB.skC   | FTB.skO  | 11teamsports.sk | 2019-06-03 09:58:00 | Tiro 19                                | dt5174           |         85 | adidas           |         200 | Apparel   |         240 | Pants           |           0 | unspecified             | football    | men         | adults      | Blue        | M           | sk        |\n",
      "| 2019-06-03 00:00:00 | 1900081663 | CARD_CSOB     | S114        |         -1 |               0 |               3.2031  |   0         |             3.2031  | E-COMMER     | RUN.czC   | RUN.czO  | top4running.cz  | 2019-06-03 09:17:00 | Sleva                                  | unspecified      |         -1 | no_manufacturer  |         999 | Other     |           0 | unspecified     |           0 | unspecified             | unspecified | unspecified | unspecified | unspecified | unspecified | cz        |\n",
      "| 2019-06-03 00:00:00 | 1900081481 | COD           | S114        |         -1 |               0 |               3.2031  |   0         |             3.2031  | E-COMMER     | RUN.czC   | RUN.czO  | top4running.cz  | 2019-06-03 09:16:00 | Sleva                                  | unspecified      |         -1 | no_manufacturer  |         999 | Other     |           0 | unspecified     |           0 | unspecified             | unspecified | unspecified | unspecified | unspecified | unspecified | cz        |\n",
      "| 2019-06-03 00:00:00 | 1900081561 | CARD_CSOB     | ZB00001005  |          1 |               0 |              23.0314  |  12.4031    |            25.5942  | E-COMMER     | RUN.czC   | RUN.czO  | top4running.cz  | 2019-06-03 09:17:00 | Fly By Graphic Waistband Short         | 1331828-001      |        106 | Under Armour     |         200 | Apparel   |         240 | Pants           |         242 | Shorts                  | running     | women       | adults      | Black       | M           | cz        |\n",
      "| 2019-06-03 00:00:00 | 1900081481 | COD           | ZB00010516  |          1 |               0 |              63.4248  |  52.6318    |           105.676   | E-COMMER     | RUN.czC   | RUN.czO  | top4running.cz  | 2019-06-03 09:16:00 | W NIKE AIR ZOOM PEGASUS 35 PRM         | ah8392-400       |         84 | Nike             |         100 | Footwear  |         120 | Running shoes   |           0 | unspecified             | running     | women       | adults      | Blue        | 38          | cz        |\n",
      "| 2019-06-03 00:00:00 | 1900081697 | CARD_CSOB     | ZB00006740  |          1 |               0 |              18.0023  |  12.0795    |            23.9926  | E-COMMER     | RUN.czC   | RUN.czO  | top4running.cz  | 2019-06-03 10:44:00 | Under Armour New Play Up Short         | 1292231-002      |        106 | Under Armour     |         200 | Apparel   |         240 | Pants           |         242 | Shorts                  | fitness     | women       | adults      | Black       | S           | cz        |\n",
      "| 2019-06-03 00:00:00 | 1900081697 | CARD_CSOB     | ZB00000273  |          1 |               0 |              28.7977  |  18.6047    |            38.4074  | E-COMMER     | RUN.czC   | RUN.czO  | top4running.cz  | 2019-06-03 10:44:00 | UA VANISH Mid Bra                      | 1311811-003      |        106 | Under Armour     |         200 | Apparel   |         285 | Bras            |           0 | unspecified             | fitness     | women       | adults      | Black       | S/M         | cz        |\n",
      "| 2019-06-03 00:00:00 | 1900081645 | CARD_CSOB     | ZB00012240  |          1 |               0 |             132.584   | 102.65      |           220.994   | E-COMMER     | FTB.czC   | FTB.czO  | 11teamsports.cz | 2019-06-03 11:57:00 | SUPERFLY 6 ELITE FG                    | ah7365-077       |         84 | Nike             |         100 | Footwear  |         110 | Football shoes  |           0 | unspecified             | football    | men         | adults      | Black       | 44          | cz        |\n",
      "| 2019-06-03 00:00:00 | 1900081561 | CARD_CSOB     | ZB00009619  |          1 |               0 |              22.1988  |   9.88605   |            28.7977  | E-COMMER     | RUN.czC   | RUN.czO  | top4running.cz  | 2019-06-03 09:17:00 | M NP TOP LS COMP                       | 838077-010       |         84 | Nike             |         200 | Apparel   |         230 | T-Shirts        |         233 | Longsleeved (LS) shirts | football    | men         | adults      | Black       | S           | cz        |\n",
      "| 2019-06-03 00:00:00 | 1900081697 | CARD_CSOB     | ZB00023763  |          1 |               0 |               8.39264 |   7.44767   |            11.1795  | E-COMMER     | RUN.czC   | RUN.czO  | top4running.cz  | 2019-06-03 10:44:00 | UA Heatgear Tech Low Cut               | 1312430-100      |        106 | Under Armour     |         200 | Apparel   |         290 | Socks           |           0 | unspecified             | fitness     | unisex      | adults      | White       | M           | cz        |\n",
      "| 2019-06-03 00:00:00 | 1900081551 | COD           | S114        |         -1 |               0 |               3.2031  |   0         |             3.2031  | E-COMMER     | FTB.czC   | FTB.czO  | 11teamsports.cz | 2019-06-03 09:17:00 | Sleva                                  | unspecified      |         -1 | no_manufacturer  |         999 | Other     |           0 | unspecified     |           0 | unspecified             | unspecified | unspecified | unspecified | unspecified | unspecified | cz        |\n",
      "| 2019-06-03 00:00:00 | 1900081481 | COD           | S113        |          1 |               0 |               0.92907 |   0         |             0.92907 | E-COMMER     | RUN.czC   | RUN.czO  | top4running.cz  | 2019-06-03 09:16:00 | Platba                                 | unspecified      |         -1 | no_manufacturer  |         999 | Other     |           0 | unspecified     |           0 | unspecified             | unspecified | unspecified | unspecified | unspecified | unspecified | cz        |\n",
      "| 2019-06-03 00:00:00 | 1900081728 | PAYPAL        | ZB00023252  |          1 |               0 |              41.6975  |  42.7178    |            82.6945  | E-COMMER     | RUN.comC  | RUN.comO | top4running.com | 2019-06-03 08:01:00 | NIKE AIR SAFARI                        | 371740-012       |         84 | Nike             |         100 | Footwear  |         199 | Other Footwear  |           0 | unspecified             | lifestyle   | men         | adults      | Silver      | 42,5        | com       |\n",
      "| 2019-06-03 00:00:00 | 1900081697 | CARD_CSOB     | S114        |         -1 |               0 |               3.2031  |   0         |             3.2031  | E-COMMER     | RUN.czC   | RUN.czO  | top4running.cz  | 2019-06-03 10:44:00 | Sleva                                  | unspecified      |         -1 | no_manufacturer  |         999 | Other     |           0 | unspecified     |           0 | unspecified             | unspecified | unspecified | unspecified | unspecified | unspecified | cz        |\n",
      "| 2019-06-03 00:00:00 | 1900081697 | CARD_CSOB     | ZB00011073  |          1 |               0 |              19.1876  |  12.4031    |            25.5942  | E-COMMER     | RUN.czC   | RUN.czO  | top4running.cz  | 2019-06-03 10:44:00 | UA HG Armour SS                        | 1328964-001      |        106 | Under Armour     |         200 | Apparel   |         230 | T-Shirts        |           0 | unspecified             | fitness     | women       | adults      | Black       | S/M         | cz        |\n",
      "| 2019-06-03 00:00:00 | 1900081561 | CARD_CSOB     | S114        |         -1 |               0 |               3.2031  |   0         |             3.2031  | E-COMMER     | RUN.czC   | RUN.czO  | top4running.cz  | 2019-06-03 09:17:00 | Sleva                                  | unspecified      |         -1 | no_manufacturer  |         999 | Other     |           0 | unspecified     |           0 | unspecified             | unspecified | unspecified | unspecified | unspecified | unspecified | cz        |\n",
      "| 2019-06-03 00:00:00 | 1900081561 | CARD_CSOB     | S101        |          1 |               0 |               2.21008 |   0         |             2.21008 | E-COMMER     | RUN.czC   | RUN.czO  | top4running.cz  | 2019-06-03 09:17:00 | Dopravné                               | unspecified      |         -1 | no_manufacturer  |         999 | Other     |           0 | unspecified     |           0 | unspecified             | unspecified | unspecified | unspecified | unspecified | unspecified | cz        |\n",
      "| 2019-06-03 00:00:00 | 1900081697 | CARD_CSOB     | ZB00000699  |          1 |               0 |              26.395   |  19.1814    |            35.2039  | E-COMMER     | RUN.czC   | RUN.czO  | top4running.cz  | 2019-06-03 10:44:00 | Fly By Mini 2-in-1                     | 1328163-001      |        106 | Under Armour     |         200 | Apparel   |         240 | Pants           |         242 | Shorts                  | running     | women       | adults      | Black       | S/M         | cz        |\n",
      "| 2019-06-03 00:00:00 | 1900081697 | CARD_CSOB     | ZB00021901  |          1 |               0 |              26.395   |  17.0543    |            35.2039  | E-COMMER     | RUN.czC   | RUN.czO  | top4running.cz  | 2019-06-03 10:44:00 | Crossback Graphic                      | 1317111-001      |        106 | Under Armour     |         200 | Apparel   |         285 | Bras            |           0 | unspecified             | running     | women       | adults      | Black       | S/M         | cz        |\n",
      "| 2019-06-03 00:00:00 | 1900081856 | COD           | ZB00026563  |          1 |               0 |              54.2057  |  26.7516    |            54.2057  | E-COMMER     | FTB.skC   | FTB.skO  | 11teamsports.sk | 2019-06-03 09:23:00 | LEGEND 7 ACADEMY FG                    | ah7242-118       |         84 | Nike             |         100 | Footwear  |         110 | Football shoes  |           0 | unspecified             | football    | men         | adults      | White       | 39          | sk        |\n",
      "| 2019-06-03 00:00:00 | 1900081481 | COD           | S101        |          1 |               0 |               1.56977 |   0         |             1.56977 | E-COMMER     | RUN.czC   | RUN.czO  | top4running.cz  | 2019-06-03 09:16:00 | Dopravné                               | unspecified      |         -1 | no_manufacturer  |         999 | Other     |           0 | unspecified     |           0 | unspecified             | unspecified | unspecified | unspecified | unspecified | unspecified | cz        |\n",
      "| 2019-06-04 00:00:00 | 1900080515 | CARD_CSOB     | ZB00000385  |          1 |               0 |              11.1795  |   8.12326   |            15.9845  | E-COMMER     | FTB.czC   | FTB.czO  | 11teamsports.cz | 2019-06-04 15:31:00 | NK HERITAGE HIP PACK                   | ba5750-605       |         84 | Nike             |         300 | Equipment |         305 | Bags            |           0 | unspecified             | football    | unisex      | adults      | Pink        | ks          | cz        |\n",
      "| 2019-06-04 00:00:00 | 1900080514 | COD           | ZB00007916  |          1 |               0 |              17.2245  |  12.6612    |            22.9069  | E-COMMER     | FTB.roC   | FTB.roO  | 11teamsports.ro | 2019-06-04 15:31:00 | RC FEF TEE- SPEEDWICK                  | dt2772           |         88 | Reebok           |         200 | Apparel   |         230 | T-Shirts        |           0 | unspecified             | fitness     | men         | adults      | Black       | M           | ro        |\n",
      "| 2019-06-04 00:00:00 | 1900080514 | COD           | S101        |          1 |               0 |               2.66472 |   0         |             2.86822 | E-COMMER     | FTB.roC   | FTB.roO  | 11teamsports.ro | 2019-06-04 15:31:00 | Dopravné                               | unspecified      |         -1 | no_manufacturer  |         999 | Other     |           0 | unspecified     |           0 | unspecified             | unspecified | unspecified | unspecified | unspecified | unspecified | ro        |\n",
      "| 2019-06-04 00:00:00 | 1900080516 | COD           | S101        |          1 |               0 |               2.66472 |   0         |             2.86822 | E-COMMER     | FTB.roC   | FTB.roO  | 11teamsports.ro | 2019-06-04 15:31:00 | Dopravné                               | unspecified      |         -1 | no_manufacturer  |         999 | Other     |           0 | unspecified     |           0 | unspecified             | unspecified | unspecified | unspecified | unspecified | unspecified | ro        |\n",
      "| 2019-06-04 00:00:00 | 1900080516 | COD           | ZB00010633  |          1 |               0 |              15.0944  |  10.8527    |            21.4868  | E-COMMER     | FTB.roC   | FTB.roO  | 11teamsports.ro | 2019-06-04 15:31:00 | UA SPORTSTYLE LC SS                    | 1326799-289      |        106 | Under Armour     |         200 | Apparel   |         230 | T-Shirts        |           0 | unspecified             | football    | men         | adults      | Brown       | M           | ro        |\n",
      "| 2019-06-04 00:00:00 | 1900080518 | COD           | ZB00023141  |          1 |               0 |              37.2868  |  35.0814    |            62.1527  | E-COMMER     | FTB.huC   | FTB.huO  | 11teamsports.hu | 2019-06-04 15:32:00 | WL420                                  | wl420npn         |        123 | New Balance      |         100 | Footwear  |         199 | Other Footwear  |           0 | unspecified             | lifestyle   | women       | adults      | Blue        | 37,5        | hu        |\n",
      "| 2019-06-04 00:00:00 | 1900080518 | COD           | S101        |          1 |               0 |               2.4111  |   0         |             2.86822 | E-COMMER     | FTB.huC   | FTB.huO  | 11teamsports.hu | 2019-06-04 15:32:00 | Dopravné                               | unspecified      |         -1 | no_manufacturer  |         999 | Other     |           0 | unspecified     |           0 | unspecified             | unspecified | unspecified | unspecified | unspecified | unspecified | hu        |\n",
      "| 2019-06-04 00:00:00 | 1900080519 | COD           | ZB00004599  |          1 |               0 |              55.1873  |  37.7519    |            68.972   | E-COMMER     | FTB.huC   | FTB.huO  | 11teamsports.hu | 2019-06-04 15:32:00 | NEMEZIZ 193 LL FG                      | f99997           |         85 | adidas           |         100 | Footwear  |         110 | Football shoes  |           0 | unspecified             | football    | men         | adults      | Red         | 43,3        | hu        |\n",
      "| 2019-06-04 00:00:00 | 1900080515 | CARD_CSOB     | S101        |          1 |               0 |               1.56977 |   0         |             2.86822 | E-COMMER     | FTB.czC   | FTB.czO  | 11teamsports.cz | 2019-06-04 15:31:00 | Dopravné                               | unspecified      |         -1 | no_manufacturer  |         999 | Other     |           0 | unspecified     |           0 | unspecified             | unspecified | unspecified | unspecified | unspecified | unspecified | cz        |\n",
      "| 2019-06-04 00:00:00 | 1900080511 | COD           | ZB00019767  |          1 |               0 |              59.4494  |  55.2353    |            99.0742  | E-COMMER     | RUN.huC   | RUN.huO  | top4running.hu  | 2019-06-04 15:31:00 | W NIKE AIR ZOOM PEGASUS 35 PRM         | ah8392-100       |         84 | Nike             |         100 | Footwear  |         120 | Running shoes   |           0 | unspecified             | running     | women       | adults      | White       | 40,5        | hu        |\n",
      "| 2019-06-04 00:00:00 | 1900081808 | COD           | ZB00014749  |          1 |               0 |             127.678   |  87.2229    |           150.053   | E-COMMER     | FTB.roC   | FTB.roO  | 11teamsports.ro | 2019-06-04 18:34:00 | AIR VAPORMAX 2019                      | ar6631-004       |         84 | Nike             |         100 | Footwear  |         199 | Other Footwear  |           0 | unspecified             | football    | men         | adults      | Black       | 41          | ro        |\n",
      "+---------------------+------------+---------------+-------------+------------+-----------------+-----------------------+-------------+---------------------+--------------+-----------+----------+-----------------+---------------------+----------------------------------------+------------------+------------+------------------+-------------+-----------+-------------+-----------------+-------------+-------------------------+-------------+-------------+-------------+-------------+-------------+-----------+\n"
     ]
    }
   ],
   "source": [
    "dc.print_df_with_dtypes(df_FE, max_rows=200, print_on=True, data_generated_path=DATA_GENERATED_PATH, name_extension='EDA_FE')"
   ]
  },
  {
   "cell_type": "code",
   "execution_count": null,
   "metadata": {},
   "outputs": [],
   "source": []
  },
  {
   "cell_type": "code",
   "execution_count": 14,
   "metadata": {},
   "outputs": [
    {
     "name": "stdout",
     "output_type": "stream",
     "text": [
      "Top 10 countries with the most sales:\n"
     ]
    },
    {
     "data": {
      "text/plain": [
       "country\n",
       "cz       726336\n",
       "sk       367676\n",
       "hu       293089\n",
       "ro       285730\n",
       "de       123385\n",
       "es       120998\n",
       "fr        74731\n",
       "it        43002\n",
       "hr        38192\n",
       "com       37328\n",
       "ie        17892\n",
       "dk        15347\n",
       "nl        11550\n",
       "at        10988\n",
       "se         8472\n",
       "pt         5445\n",
       "pl         4490\n",
       "be         3622\n",
       "fi         1787\n",
       "si          712\n",
       "other        70\n",
       "uk           14\n",
       "bg            6\n",
       "Name: quantity, dtype: int64"
      ]
     },
     "execution_count": 14,
     "metadata": {},
     "output_type": "execute_result"
    }
   ],
   "source": [
    "# Print the top 10 countries with the most sales\n",
    "print('Top 10 countries with the most sales:')\n",
    "\n",
    "# gouping by country, see which countries have the most sales\n",
    "df_FE.groupby('country')['quantity'].sum().sort_values(ascending=False)\n",
    "\n"
   ]
  },
  {
   "cell_type": "code",
   "execution_count": 15,
   "metadata": {},
   "outputs": [
    {
     "data": {
      "text/plain": [
       "49.997344831232304"
      ]
     },
     "execution_count": 15,
     "metadata": {},
     "output_type": "execute_result"
    },
    {
     "data": {
      "text/plain": [
       "63.41647379489409"
      ]
     },
     "execution_count": 15,
     "metadata": {},
     "output_type": "execute_result"
    },
    {
     "data": {
      "text/plain": [
       "76.40001409824124"
      ]
     },
     "execution_count": 15,
     "metadata": {},
     "output_type": "execute_result"
    },
    {
     "data": {
      "text/plain": [
       "82.15599703936934"
      ]
     },
     "execution_count": 15,
     "metadata": {},
     "output_type": "execute_result"
    },
    {
     "data": {
      "text/plain": [
       "87.75050812411152"
      ]
     },
     "execution_count": 15,
     "metadata": {},
     "output_type": "execute_result"
    }
   ],
   "source": [
    "# count the number of records from [cz, sk, hu, ro, de, es] is how many percent of the total number of records\n",
    "df_FE[df_FE['country'].isin(['cz', 'sk'])].shape[0] / df_FE.shape[0] * 100\n",
    "df_FE[df_FE['country'].isin(['cz', 'sk', 'hu'])].shape[0] / df_FE.shape[0] * 100\n",
    "df_FE[df_FE['country'].isin(['cz', 'sk', 'hu', 'ro'])].shape[0] / df_FE.shape[0] * 100\n",
    "df_FE[df_FE['country'].isin(['cz', 'sk', 'hu', 'ro', 'de'])].shape[0] / df_FE.shape[0] * 100\n",
    "df_FE[df_FE['country'].isin(['cz', 'sk', 'hu', 'ro', 'de', 'es'])].shape[0] / df_FE.shape[0] * 100"
   ]
  },
  {
   "cell_type": "code",
   "execution_count": null,
   "metadata": {},
   "outputs": [],
   "source": []
  },
  {
   "cell_type": "code",
   "execution_count": 16,
   "metadata": {},
   "outputs": [
    {
     "name": "stdout",
     "output_type": "stream",
     "text": [
      "+---------------------+------------+---------------+-------------+------------+-----------------+-----------------------+-------------+---------------------+--------------+-----------+----------+-----------------+---------------------+----------------------------------------+------------------+------------+------------------+-------------+-----------+-------------+-----------------+-------------+-------------------------+-------------+-------------+-------------+-------------+-------------+-----------+\n",
      "| date                |   order_id | payment       | item_code   |   quantity |   gift_quantity |   unit_price_vat_excl |   unit_cogs |   unit_rrp_vat_excl | department   | channel   | owner    | site            | CreatedAt           | item_name                              | style            |   brand_id | brand_name       |   group0_id | group0    |   group1_id | group1          |   group2_id | group2                  | category    | gender      | age         | color       | size        | country   |\n",
      "|                     |     string | object        | object      |      int64 |           int64 |               float64 |     float64 |             float64 | object       | object    | object   | object          | datetime64[ns]      | object                                 | object           |     string | object           |      string | object    |      string | object          |      string | object                  | object      | object      | object      | object      | object      | object    |\n",
      "|                     |     NaN: 0 | NaN: 0        | NaN: 0      |     NaN: 0 |          NaN: 0 |                NaN: 0 |      NaN: 0 |              NaN: 0 | NaN: 0       | NaN: 0    | NaN: 0   | NaN: 0          | NaN: 0              | NaN: 0                                 | NaN: 0           |     NaN: 0 | NaN: 0           |      NaN: 0 | NaN: 0    |      NaN: 0 | NaN: 0          |      NaN: 0 | NaN: 0                  | NaN: 0      | NaN: 0      | NaN: 0      | NaN: 0      | NaN: 0      | NaN: 0    |\n",
      "|---------------------+------------+---------------+-------------+------------+-----------------+-----------------------+-------------+---------------------+--------------+-----------+----------+-----------------+---------------------+----------------------------------------+------------------+------------+------------------+-------------+-----------+-------------+-----------------+-------------+-------------------------+-------------+-------------+-------------+-------------+-------------+-----------|\n",
      "| 2019-06-01 00:00:00 | 1900079924 | CARD_CSOB     | ZB00023833  |          1 |               0 |              22.3267  |  15.5039    |            32.0008  | E-COMMER     | Sport.cC  | Sport.cO | top4sport.cz    | 2019-06-01 09:37:00 | MK1 Short 7in                          | 1312292-001      |        106 | Under Armour     |         200 | Apparel   |         240 | Pants           |         242 | Shorts                  | fitness     | men         | adults      | Black       | M           | cz        |\n",
      "| 2019-06-01 00:00:00 | 1900079006 | COD           | ZB00000154  |          1 |               0 |              10.3787  |   8.06938   |            15.9845  | E-COMMER     | RUN.czC   | RUN.czO  | top4running.cz  | 2019-06-01 06:26:00 | W NK RUN TOP SS                        | 890353-100       |         84 | Nike             |         200 | Apparel   |         230 | T-Shirts        |           0 | unspecified             | running     | women       | adults      | White       | XS          | cz        |\n",
      "| 2019-06-01 00:00:00 | 1900079006 | COD           | ZB00007330  |          1 |               0 |              14.9593  |  10.7171    |            25.3058  | E-COMMER     | RUN.czC   | RUN.czO  | top4running.cz  | 2019-06-01 06:26:00 | W NK DRY MILER TOP SS                  | 932499-823       |         84 | Nike             |         200 | Apparel   |         230 | T-Shirts        |           0 | unspecified             | running     | women       | adults      | Pink        | XS          | cz        |\n",
      "| 2019-06-01 00:00:00 | 1900079006 | COD           | ZB00018948  |          1 |               0 |              25.5942  |  13.007     |            25.5942  | E-COMMER     | RUN.czC   | RUN.czO  | top4running.cz  | 2019-06-01 06:26:00 | W NK MILER TANK SURF                   | aq5179-686       |         84 | Nike             |         200 | Apparel   |         230 | T-Shirts        |         235 | Tank                    | running     | women       | adults      | Pink        | XS          | cz        |\n",
      "| 2019-06-01 00:00:00 | 1900079006 | COD           | ZB00022416  |          1 |               0 |              28.7977  |  14.6349    |            28.7977  | E-COMMER     | RUN.czC   | RUN.czO  | top4running.cz  | 2019-06-01 06:26:00 | W NK AIR SHORT                         | aq5634-100       |         84 | Nike             |         200 | Apparel   |         240 | Pants           |         242 | Shorts                  | running     | women       | adults      | White       | XS          | cz        |\n",
      "| 2019-06-01 00:00:00 | 1900079006 | COD           | S113        |          1 |               0 |               0.92907 |   0         |             0.92907 | E-COMMER     | RUN.czC   | RUN.czO  | top4running.cz  | 2019-06-01 06:26:00 | Platba                                 | unspecified      |         -1 | no_manufacturer  |         999 | Other     |           0 | unspecified     |           0 | unspecified             | unspecified | unspecified | unspecified | unspecified | unspecified | cz        |\n",
      "| 2019-06-01 00:00:00 | 1900079010 | COD           | ZB00016698  |          1 |               0 |             132.295   |  72.662     |           188.962   | E-COMMER     | FTB.czC   | FTB.czO  | 11teamsports.cz | 2019-06-01 06:26:00 | X 181 FG                               | bb9347           |         85 | adidas           |         100 | Footwear  |         110 | Football shoes  |           0 | unspecified             | football    | men         | adults      | Red         | 42,7        | cz        |\n",
      "| 2019-06-01 00:00:00 | 1900079010 | COD           | ZB00026001  |          1 |               0 |             132.295   |  83.0682    |           188.962   | E-COMMER     | FTB.czC   | FTB.czO  | 11teamsports.cz | 2019-06-01 06:26:00 | X 181 SG                               | bb9359           |         85 | adidas           |         100 | Footwear  |         110 | Football shoes  |           0 | unspecified             | football    | men         | adults      | Red         | 43,3        | cz        |\n",
      "| 2019-06-01 00:00:00 | 1900079010 | COD           | S113        |          1 |               0 |               0.92907 |   0         |             0.92907 | E-COMMER     | FTB.czC   | FTB.czO  | 11teamsports.cz | 2019-06-01 06:26:00 | Platba                                 | unspecified      |         -1 | no_manufacturer  |         999 | Other     |           0 | unspecified     |           0 | unspecified             | unspecified | unspecified | unspecified | unspecified | unspecified | cz        |\n",
      "| 2019-06-01 00:00:00 | 1900079011 | CARD_CSOB     | ZB00009549  |          1 |               0 |              17.9384  |  16.4775    |            25.5942  | E-COMMER     | FTB.czC   | FTB.czO  | 11teamsports.cz | 2019-06-01 09:31:00 | HG SS                                  | 1257468-001      |        106 | Under Armour     |         200 | Apparel   |         230 | T-Shirts        |         236 | Compression shirts      | fitness     | men         | adults      | Black       | M           | cz        |\n",
      "| 2019-06-01 00:00:00 | 1900079011 | CARD_CSOB     | ZB00026129  |          1 |               0 |               6.37442 |   3.94884   |            10.5388  | E-COMMER     | FTB.czC   | FTB.czO  | 11teamsports.cz | 2019-06-01 09:31:00 | PER CREW T 3PP                         | aa2330           |         85 | adidas           |         200 | Apparel   |         290 | Socks           |           0 | unspecified             | fitness     | unisex      | adults      | Black       | 39-42       | cz        |\n",
      "| 2019-06-01 00:00:00 | 1900079011 | CARD_CSOB     | ZB00000044  |          1 |               0 |              48.0171  |  28.0554    |            80.05    | E-COMMER     | FTB.czC   | FTB.czO  | 11teamsports.cz | 2019-06-01 09:31:00 | TEAM Match Ball                        | cz2235           |         85 | adidas           |         300 | Equipment |         320 | Balls           |           0 | unspecified             | football    | men         | adults      | White       | 5           | cz        |\n",
      "| 2019-06-01 00:00:00 | 1900079011 | CARD_CSOB     | S114        |         -1 |               0 |               3.2031  |   0         |             3.2031  | E-COMMER     | FTB.czC   | FTB.czO  | 11teamsports.cz | 2019-06-01 09:31:00 | Sleva                                  | unspecified      |         -1 | no_manufacturer  |         999 | Other     |           0 | unspecified     |           0 | unspecified             | unspecified | unspecified | unspecified | unspecified | unspecified | cz        |\n",
      "| 2019-06-01 00:00:00 | 1900079027 | GOPAY_CARD    | ZB00026129  |          1 |               0 |               6.55432 |   3.97054   |            10.0866  | E-COMMER     | RUN.deC   | RUN.deO  | top4running.de  | 2019-06-01 06:31:00 | PER CREW T 3PP                         | aa2330           |         85 | adidas           |         200 | Apparel   |         290 | Socks           |           0 | unspecified             | fitness     | unisex      | adults      | Black       | 39-42       | de        |\n",
      "| 2019-06-01 00:00:00 | 1900079030 | COD           | ZB00025621  |          1 |               0 |              37.8628  |  14.4395    |            44.5256  | E-COMMER     | FTB.czC   | FTB.czO  | 11teamsports.cz | 2019-06-01 06:32:00 | M NK Team Club Hoody                   | 658498-463       |         84 | Nike             |         200 | Apparel   |         220 | Sweatshirts     |         221 | With hood               | lifestyle   | men         | adults      | unspecified | L           | cz        |\n",
      "| 2019-06-01 00:00:00 | 1900079030 | COD           | ZB00026033  |          1 |               0 |              26.8116  |  14.0167    |            44.5256  | E-COMMER     | FTB.czC   | FTB.czO  | 11teamsports.cz | 2019-06-01 06:32:00 | Nike Team Club Crew                    | 658681-463       |         84 | Nike             |         200 | Apparel   |         220 | Sweatshirts     |           0 | unspecified             | football    | men         | adults      | Blue        | L           | cz        |\n",
      "| 2019-06-01 00:00:00 | 1900079030 | COD           | ZB00000094  |          1 |               0 |              11.2756  |   5.48101   |            14.3826  | E-COMMER     | FTB.czC   | FTB.czO  | 11teamsports.cz | 2019-06-01 06:32:00 | PARK II KNIT SHORT NB                  | 725887-463       |         84 | Nike             |         200 | Apparel   |         240 | Pants           |         242 | Shorts                  | football    | men         | adults      | Blue        | L           | cz        |\n",
      "| 2019-06-01 00:00:00 | 1900079030 | COD           | ZB00026511  |          1 |               0 |              16.5291  |   8.37752   |            23.9926  | E-COMMER     | FTB.czC   | FTB.czO  | 11teamsports.cz | 2019-06-01 06:32:00 | CORE18 PES PNT                         | cv3585           |         85 | adidas           |         200 | Apparel   |         240 | Pants           |           0 | unspecified             | football    | men         | adults      | Blue        | L           | cz        |\n",
      "| 2019-06-01 00:00:00 | 1900078998 | CARD_CSOB     | S101        |          1 |               0 |               1.56977 |   0         |             1.56977 | E-COMMER     | FTB.czC   | FTB.czO  | 11teamsports.cz | 2019-06-01 06:26:00 | Dopravné                               | unspecified      |         -1 | no_manufacturer  |         999 | Other     |           0 | unspecified     |           0 | unspecified             | unspecified | unspecified | unspecified | unspecified | unspecified | cz        |\n",
      "| 2019-06-01 00:00:00 | 1900078998 | CARD_CSOB     | ZB00025631  |          1 |               0 |              21.8143  |  11.781     |            35.2039  | E-COMMER     | FTB.czC   | FTB.czO  | 11teamsports.cz | 2019-06-01 06:26:00 | CORE18 RN JKT                          | ce9048           |         85 | adidas           |         200 | Apparel   |         215 | Jackets         |           0 | unspecified             | football    | men         | adults      | Black       | M           | cz        |\n",
      "| 2019-06-01 00:00:00 | 1900078996 | COD           | ZB00026793  |          1 |               0 |              45.1998  |  28.0252    |            58.3684  | E-COMMER     | FTB.skC   | FTB.skO  | 11teamsports.sk | 2019-06-01 09:34:00 | M NSW NIKE AIR HOODIE PO FLC           | ar1817-010       |         84 | Nike             |         200 | Apparel   |         220 | Sweatshirts     |         221 | With hood               | football    | men         | adults      | Black       | M           | sk        |\n",
      "| 2019-06-01 00:00:00 | 1900078992 | COD           | ZB00026483  |          1 |               0 |               7.74962 |   6.05271   |            11.0535  | E-COMMER     | FTB.huC   | FTB.huO  | 11teamsports.hu | 2019-06-01 06:25:00 | NK GK MATCH JR-FA18                    | gs0368-095       |         84 | Nike             |         300 | Equipment |         280 | Gloves          |         327 | Football gloves         | football    | unisex      | kids        | Silver      | 8           | hu        |\n",
      "| 2019-06-01 00:00:00 | 1900080152 | CARD_CSOB     | ZB00013828  |          1 |               0 |              25.3058  |  11.2612    |             0       | E-COMMER     | RUN.czC   | RUN.czO  | top4running.cz  | 2019-06-01 09:32:00 | W NP TOP SS ALL OVER MESH Zlatá tretra | 889540-617-zt    |         84 | Nike             |         200 | Apparel   |         230 | T-Shirts        |           0 | unspecified             | running     | women       | adults      | Pink        | S           | cz        |\n",
      "| 2019-06-01 00:00:00 | 1900080152 | CARD_CSOB     | S101        |          1 |               0 |               2.21008 |   0         |             2.21008 | E-COMMER     | RUN.czC   | RUN.czO  | top4running.cz  | 2019-06-01 09:32:00 | Dopravné                               | unspecified      |         -1 | no_manufacturer  |         999 | Other     |           0 | unspecified     |           0 | unspecified             | unspecified | unspecified | unspecified | unspecified | unspecified | cz        |\n",
      "| 2019-06-01 00:00:00 | 1900079354 | COD           | ZB00005571  |          2 |               0 |              53.1755  |   8.1345    |            57.7843  | E-COMMER     | RUN.roC   | RUN.roO  | top4running.ro  | 2019-06-01 08:51:00 | NIKE ZOOM RIVAL S 9                    | 907564-017       |         84 | Nike             |         100 | Footwear  |         120 | Running shoes   |         123 | Spikes                  | running     | unisex      | adults      | Black       | 42          | ro        |\n",
      "| 2019-06-01 00:00:00 | 1900078889 | PAYPAL        | ZB00023011  |          1 |               0 |              85.096   |  46.1446    |            92.5009  | E-COMMER     | RUN.deC   | RUN.deO  | top4running.de  | 2019-06-01 08:48:00 | NIKE ZOOM ROTATIONAL 6                 | 685131-600       |         84 | Nike             |         100 | Footwear  |         120 | Running shoes   |         123 | Spikes                  | running     | unisex      | adults      | Dark red    | 39          | de        |\n",
      "| 2019-06-01 00:00:00 | 1900078912 | CARD_CSOB     | ZB00026115  |          1 |               0 |              15.3756  |   7.22403   |            20.7891  | E-COMMER     | FTB.czC   | FTB.czO  | 11teamsports.cz | 2019-06-01 06:35:00 | B NP SHORT                             | 858226-011       |         84 | Nike             |         200 | Apparel   |         240 | Pants           |         244 | Compression pants       | fitness     | unisex      | kids        | Black       | L           | cz        |\n",
      "| 2019-06-01 00:00:00 | 1900078912 | CARD_CSOB     | S101        |          1 |               0 |               2.21008 |   0         |             2.21008 | E-COMMER     | FTB.czC   | FTB.czO  | 11teamsports.cz | 2019-06-01 06:35:00 | Dopravné                               | unspecified      |         -1 | no_manufacturer  |         999 | Other     |           0 | unspecified     |           0 | unspecified             | unspecified | unspecified | unspecified | unspecified | unspecified | cz        |\n",
      "| 2019-06-01 00:00:00 | 1900078912 | CARD_CSOB     | S114        |         -1 |               0 |               3.2031  |   0         |             3.2031  | E-COMMER     | FTB.czC   | FTB.czO  | 11teamsports.cz | 2019-06-01 06:35:00 | Sleva                                  | unspecified      |         -1 | no_manufacturer  |         999 | Other     |           0 | unspecified     |           0 | unspecified             | unspecified | unspecified | unspecified | unspecified | unspecified | cz        |\n",
      "| 2019-06-01 00:00:00 | 1900078939 | CARD_CSOB     | ZB00025744  |          1 |               0 |              76.8787  |  46.0527    |            96.0663  | E-COMMER     | FTB.czC   | FTB.czO  | 11teamsports.cz | 2019-06-01 09:31:00 | VAPOR 12 PRO FG                        | ah7382-077       |         84 | Nike             |         100 | Footwear  |         110 | Football shoes  |           0 | unspecified             | football    | men         | adults      | Black       | 44          | cz        |\n",
      "| 2019-06-01 00:00:00 | 1900079030 | COD           | S113        |          1 |               0 |               0.92907 |   0         |             0.92907 | E-COMMER     | FTB.czC   | FTB.czO  | 11teamsports.cz | 2019-06-01 06:32:00 | Platba                                 | unspecified      |         -1 | no_manufacturer  |         999 | Other     |           0 | unspecified     |           0 | unspecified             | unspecified | unspecified | unspecified | unspecified | unspecified | cz        |\n",
      "| 2019-06-01 00:00:00 | 1900078940 | CARD_CSOB     | ZB00025745  |          1 |               0 |              45.6469  |  24.0399    |            60.8302  | E-COMMER     | FTB.czC   | FTB.czO  | 11teamsports.cz | 2019-06-01 09:31:00 | VAPOR 12 ACADEMY SG                    | ah7376-070       |         84 | Nike             |         100 | Footwear  |         110 | Football shoes  |           0 | unspecified             | football    | men         | adults      | Silver      | 45          | cz        |\n",
      "| 2019-06-01 00:00:00 | 1900078940 | CARD_CSOB     | S114        |         -1 |               0 |               3.2031  |   0         |             3.2031  | E-COMMER     | FTB.czC   | FTB.czO  | 11teamsports.cz | 2019-06-01 09:31:00 | Sleva                                  | unspecified      |         -1 | no_manufacturer  |         999 | Other     |           0 | unspecified     |           0 | unspecified             | unspecified | unspecified | unspecified | unspecified | unspecified | cz        |\n",
      "| 2019-06-01 00:00:00 | 1900078963 | COD           | ZB00025954  |          1 |               0 |              40.643   |  26.7198    |            65.5681  | E-COMMER     | FTB.huC   | FTB.huO  | 11teamsports.hu | 2019-06-01 06:25:00 | M NK DRY SQD17 TRK SUIT K              | 832325-702       |         84 | Nike             |         200 | Apparel   |         250 | Tracksuits      |           0 | unspecified             | football    | men         | adults      | Green       | M           | hu        |\n",
      "| 2019-06-01 00:00:00 | 1900078989 | COD           | ZB00025779  |          1 |               0 |              20.7891  |   9.73256   |            20.7891  | E-COMMER     | STR.czC   | STR.czO  | tint-store.cz   | 2019-06-01 06:25:00 | Adidas Originals bucket hat hut        | dv0863           |        232 | adidas Originals |         200 | Apparel   |         210 | Caps            |           0 | unspecified             | lifestyle   | unisex      | adults      | Black       | OSFM        | cz        |\n",
      "| 2019-06-01 00:00:00 | 1900078989 | COD           | S101        |          1 |               0 |               1.56977 |   0         |             1.56977 | E-COMMER     | STR.czC   | STR.czO  | tint-store.cz   | 2019-06-01 06:25:00 | Dopravné                               | unspecified      |         -1 | no_manufacturer  |         999 | Other     |           0 | unspecified     |           0 | unspecified             | unspecified | unspecified | unspecified | unspecified | unspecified | cz        |\n",
      "| 2019-06-01 00:00:00 | 1900078989 | COD           | S113        |          1 |               0 |               0.92907 |   0         |             0.92907 | E-COMMER     | STR.czC   | STR.czO  | tint-store.cz   | 2019-06-01 06:25:00 | Platba                                 | unspecified      |         -1 | no_manufacturer  |         999 | Other     |           0 | unspecified     |           0 | unspecified             | unspecified | unspecified | unspecified | unspecified | unspecified | cz        |\n",
      "| 2019-06-01 00:00:00 | 1900078990 | COD           | ZB00025779  |          1 |               0 |              20.7891  |   9.73256   |            20.7891  | E-COMMER     | STR.czC   | STR.czO  | tint-store.cz   | 2019-06-01 08:01:00 | Adidas Originals bucket hat hut        | dv0863           |        232 | adidas Originals |         200 | Apparel   |         210 | Caps            |           0 | unspecified             | lifestyle   | unisex      | adults      | Black       | OSFM        | cz        |\n",
      "| 2019-06-01 00:00:00 | 1900078990 | COD           | S101        |          1 |               0 |               1.56977 |   0         |             1.56977 | E-COMMER     | STR.czC   | STR.czO  | tint-store.cz   | 2019-06-01 08:01:00 | Dopravné                               | unspecified      |         -1 | no_manufacturer  |         999 | Other     |           0 | unspecified     |           0 | unspecified             | unspecified | unspecified | unspecified | unspecified | unspecified | cz        |\n",
      "| 2019-06-01 00:00:00 | 1900078990 | COD           | S113        |          1 |               0 |               0.92907 |   0         |             0.92907 | E-COMMER     | STR.czC   | STR.czO  | tint-store.cz   | 2019-06-01 08:01:00 | Platba                                 | unspecified      |         -1 | no_manufacturer  |         999 | Other     |           0 | unspecified     |           0 | unspecified             | unspecified | unspecified | unspecified | unspecified | unspecified | cz        |\n",
      "| 2019-06-01 00:00:00 | 1900078940 | CARD_CSOB     | S101        |          1 |               0 |               1.56977 |   0         |             1.56977 | E-COMMER     | FTB.czC   | FTB.czO  | 11teamsports.cz | 2019-06-01 09:31:00 | Dopravné                               | unspecified      |         -1 | no_manufacturer  |         999 | Other     |           0 | unspecified     |           0 | unspecified             | unspecified | unspecified | unspecified | unspecified | unspecified | cz        |\n",
      "| 2019-06-01 00:00:00 | 1900080152 | CARD_CSOB     | ZB00000151  |          1 |               0 |              25.3058  |   9.0531    |             0       | E-COMMER     | RUN.czC   | RUN.czO  | top4running.cz  | 2019-06-01 09:32:00 | W NP TOP SS ALL OVER MESH Zlatá tretra | 889540-010-zt    |         84 | Nike             |         200 | Apparel   |         230 | T-Shirts        |           0 | unspecified             | running     | women       | adults      | Black       | S           | cz        |\n",
      "| 2019-06-01 00:00:00 | 1900079037 | CARD_CSOB     | ZB00025619  |          1 |               0 |              24.7934  |  11.0574    |            38.119   | E-COMMER     | FTB.czC   | VO_B_FTO | 11teamsports.cz | 2019-06-01 06:31:00 | ACADEMY14 SDLN WVN JKT - TEAMSPORT     | 588473-739       |         84 | Nike             |         200 | Apparel   |         215 | Jackets         |           0 | unspecified             | football    | unisex      | adults      | Yellow      | M           | cz        |\n",
      "| 2019-06-01 00:00:00 | 1900079037 | CARD_CSOB     | S101        |          1 |               0 |               1.56977 |   0         |             1.56977 | E-COMMER     | FTB.czC   | VO_B_FTO | 11teamsports.cz | 2019-06-01 06:31:00 | Dopravné                               | unspecified      |         -1 | no_manufacturer  |         999 | Other     |           0 | unspecified     |           0 | unspecified             | unspecified | unspecified | unspecified | unspecified | unspecified | cz        |\n",
      "| 2019-06-01 00:00:00 | 1900079122 | COD           | ZB00026709  |          1 |               0 |              38.4631  |  24.8899    |            63.8106  | E-COMMER     | FIT.roC   | FIT.roO  | top4fitness.ro  | 2019-06-01 06:34:00 | W NSW AV15 JKT KNT                     | 837458-100       |         84 | Nike             |         200 | Apparel   |         215 | Jackets         |           0 | unspecified             | football    | women       | adults      | Silver      | S           | ro        |\n",
      "| 2019-06-01 00:00:00 | 1900079924 | CARD_CSOB     | ZB00000394  |          1 |               0 |              23.0314  |  17.0407    |            25.5942  | E-COMMER     | Sport.cC  | Sport.cO | top4sport.cz    | 2019-06-01 09:37:00 | UA SPEED STRIDE SHORTSLEEVE-BLU        | 1326564-437      |        106 | Under Armour     |         200 | Apparel   |         230 | T-Shirts        |           0 | unspecified             | running     | men         | adults      | Blue        | S/M         | cz        |\n",
      "| 2019-06-01 00:00:00 | 1900079924 | CARD_CSOB     | S101        |          1 |               0 |               1.56977 |   0         |             1.56977 | E-COMMER     | Sport.cC  | Sport.cO | top4sport.cz    | 2019-06-01 09:37:00 | Dopravné                               | unspecified      |         -1 | no_manufacturer  |         999 | Other     |           0 | unspecified     |           0 | unspecified             | unspecified | unspecified | unspecified | unspecified | unspecified | cz        |\n",
      "| 2019-06-01 00:00:00 | 1900079924 | CARD_CSOB     | S114        |         -1 |               0 |               3.2031  |   0         |             3.2031  | E-COMMER     | Sport.cC  | Sport.cO | top4sport.cz    | 2019-06-01 09:37:00 | Sleva                                  | unspecified      |         -1 | no_manufacturer  |         999 | Other     |           0 | unspecified     |           0 | unspecified             | unspecified | unspecified | unspecified | unspecified | unspecified | cz        |\n",
      "| 2019-06-01 00:00:00 | 1900079845 | COD           | S114        |         -1 |               0 |               3.2031  |   0         |             3.2031  | E-COMMER     | STR.czC   | STR.czO  | tint-store.cz   | 2019-06-01 09:32:00 | Sleva                                  | unspecified      |         -1 | no_manufacturer  |         999 | Other     |           0 | unspecified     |           0 | unspecified             | unspecified | unspecified | unspecified | unspecified | unspecified | cz        |\n",
      "| 2019-06-01 00:00:00 | 1900079845 | COD           | S113        |          1 |               0 |               0.92907 |   0         |             0.92907 | E-COMMER     | STR.czC   | STR.czO  | tint-store.cz   | 2019-06-01 09:32:00 | Platba                                 | unspecified      |         -1 | no_manufacturer  |         999 | Other     |           0 | unspecified     |           0 | unspecified             | unspecified | unspecified | unspecified | unspecified | unspecified | cz        |\n",
      "| 2019-06-01 00:00:00 | 1900079845 | COD           | S101        |          1 |               0 |               2.85078 |   0         |             2.85078 | E-COMMER     | STR.czC   | STR.czO  | tint-store.cz   | 2019-06-01 09:32:00 | Dopravné                               | unspecified      |         -1 | no_manufacturer  |         999 | Other     |           0 | unspecified     |           0 | unspecified             | unspecified | unspecified | unspecified | unspecified | unspecified | cz        |\n",
      "| 2019-06-01 00:00:00 | 1900079845 | COD           | ZB00025984  |          1 |               0 |              57.6271  |  28.3442    |            57.6271  | E-COMMER     | STR.czC   | STR.czO  | tint-store.cz   | 2019-06-01 09:32:00 | DEERUPT RUNNER J                       | f34295           |        232 | adidas Originals |         100 | Footwear  |         199 | Other Footwear  |           0 | unspecified             | lifestyle   | unisex      | kids        | White       | 39,3        | cz        |\n",
      "| 2019-06-01 00:00:00 | 1900080490 | CARD_CSOB     | ZB00015845  |          1 |               0 |             114.165   |  87.5407    |           190.275   | E-COMMER     | FTB.czC   | FTB.czO  | 11teamsports.cz | 2019-06-01 11:57:00 | NEMEZIZ 191 FG                         | f34408           |         85 | adidas           |         100 | Footwear  |         110 | Football shoes  |           0 | unspecified             | football    | men         | adults      | Red         | 46          | cz        |\n",
      "| 2019-06-01 00:00:00 | 1900080490 | CARD_CSOB     | ZB00015803  |          1 |               0 |             114.165   |  87.5415    |           190.275   | E-COMMER     | FTB.czC   | FTB.czO  | 11teamsports.cz | 2019-06-01 11:57:00 | NEMEZIZ 191 SG                         | f99855           |         85 | adidas           |         100 | Footwear  |         110 | Football shoes  |           0 | unspecified             | football    | men         | adults      | Red         | 46          | cz        |\n",
      "| 2019-06-01 00:00:00 | 1900079295 | PAYPAL        | ZB00012026  |          1 |               0 |               8.24543 |  11.3791    |            22.6886  | E-COMMER     | FIT.deC   | FIT.deO  | top4fitness.de  | 2019-06-01 17:01:00 | NK ELMNTL BKPK                         | ba5381-346       |         84 | Nike             |         300 | Equipment |         310 | Backpacks       |           0 | unspecified             | football    | unisex      | adults      | Green       | ks          | de        |\n",
      "| 2019-06-01 00:00:00 | 1900079825 | GOPAY_CARD    | S101        |          1 |               0 |               5.00329 |   0         |             4.96327 | E-COMMER     | RUN.comC  | RUN.comO | top4running.com | 2019-06-01 08:01:00 | Dopravné                               | unspecified      |         -1 | no_manufacturer  |         999 | Other     |           0 | unspecified     |           0 | unspecified             | unspecified | unspecified | unspecified | unspecified | unspecified | com       |\n",
      "| 2019-06-01 00:00:00 | 1900079825 | GOPAY_CARD    | ZB00009040  |          1 |               0 |              53.4552  |   0.0387597 |            75.6698  | E-COMMER     | RUN.comC  | RUN.comO | top4running.com | 2019-06-01 08:01:00 | SAUCONY JAZZ ORIGINAL VINTAGE          | s60368-40        |        103 | Saucony          |         100 | Footwear  |         199 | Other Footwear  |           0 | unspecified             | lifestyle   | women       | adults      | Yellow      | 38          | com       |\n",
      "| 2019-06-01 00:00:00 | 1900080509 | COD           | ZB00022564  |          2 |               0 |              24.6333  |  17.0543    |            35.2039  | E-COMMER     | RUN.czC   | RUN.czO  | top4running.cz  | 2019-06-01 09:32:00 | Cotton Stretch 6 3 Pack                | 1277279-004      |        106 | Under Armour     |         200 | Apparel   |         260 | Underwear       |           0 | unspecified             | fitness     | men         | adults      | Black       | M           | cz        |\n",
      "| 2019-06-01 00:00:00 | 1900080509 | COD           | S101        |          1 |               0 |               1.56977 |   0         |             1.56977 | E-COMMER     | RUN.czC   | RUN.czO  | top4running.cz  | 2019-06-01 09:32:00 | Dopravné                               | unspecified      |         -1 | no_manufacturer  |         999 | Other     |           0 | unspecified     |           0 | unspecified             | unspecified | unspecified | unspecified | unspecified | unspecified | cz        |\n",
      "| 2019-06-01 00:00:00 | 1900079952 | COD           | ZB00009785  |          1 |               0 |              63.2326  |   1.00078   |           105.388   | E-COMMER     | RUN.czC   | RUN.czO  | top4running.cz  | 2019-06-01 11:02:00 | NIKE AIR ZOOM PEGASUS 35               | 942851-001       |         84 | Nike             |         100 | Footwear  |         120 | Running shoes   |           0 | unspecified             | running     | men         | adults      | Black       | 40,5        | cz        |\n",
      "| 2019-06-01 00:00:00 | 1900080509 | COD           | S113        |          1 |               0 |               0.92907 |   0         |             0.92907 | E-COMMER     | RUN.czC   | RUN.czO  | top4running.cz  | 2019-06-01 09:32:00 | Platba                                 | unspecified      |         -1 | no_manufacturer  |         999 | Other     |           0 | unspecified     |           0 | unspecified             | unspecified | unspecified | unspecified | unspecified | unspecified | cz        |\n",
      "| 2019-06-01 00:00:00 | 1900079122 | COD           | ZB00026708  |          1 |               0 |              18.256   |  11.6008    |            22.6877  | E-COMMER     | FIT.roC   | FIT.roO  | top4fitness.ro  | 2019-06-01 06:34:00 | W NP TOP SS                            | 725745-617       |         84 | Nike             |         200 | Apparel   |         230 | T-Shirts        |           0 | unspecified             | fitness     | women       | adults      | Pink        | S           | ro        |\n",
      "| 2019-06-01 00:00:00 | 1900079118 | COD           | ZB00026682  |          1 |               0 |             157.604   |  95.8186    |           175.115   | E-COMMER     | FTB.skC   | FTB.skO  | 11teamsports.sk | 2019-06-01 06:34:00 | AIR VAPORMAX PLUS                      | 924453-015       |         84 | Nike             |         100 | Footwear  |         199 | Other Footwear  |           0 | unspecified             | football    | men         | adults      | Black       | 44,5        | sk        |\n",
      "| 2019-06-01 00:00:00 | 1900079111 | COD           | ZB00026136  |          1 |               0 |              36.6103  |  26.7671    |            56.3366  | E-COMMER     | FTB.huC   | FTB.huO  | 11teamsports.hu | 2019-06-01 06:34:00 | VAPOR 12 ACADEMY MG                    | ah7375-001       |         84 | Nike             |         100 | Footwear  |         110 | Football shoes  |           0 | unspecified             | football    | men         | adults      | Black       | 41          | hu        |\n",
      "| 2019-06-01 00:00:00 | 1900079111 | COD           | ZB00026707  |          1 |               0 |               8.23548 |   4.62829   |            12.6083  | E-COMMER     | FTB.huC   | FTB.huO  | 11teamsports.hu | 2019-06-01 06:34:00 | M NK DRY PARK18 SS TOP                 | aa2046-010       |         84 | Nike             |         200 | Apparel   |         230 | T-Shirts        |           0 | unspecified             | football    | men         | adults      | Black       | S           | hu        |\n",
      "| 2019-06-01 00:00:00 | 1900079049 | COD           | ZB00026019  |          1 |               0 |             130.086   |  91.3124    |           200.132   | E-COMMER     | FTB.skC   | FTB.skO  | 11teamsports.sk | 2019-06-01 06:32:00 | VAPOR 12 ELITE FG                      | ah7380-070       |         84 | Nike             |         100 | Footwear  |         110 | Football shoes  |           0 | unspecified             | football    | men         | adults      | Silver      | 42,5        | sk        |\n",
      "| 2019-06-01 00:00:00 | 1900079056 | COD           | ZB00026018  |          1 |               0 |               8.50893 |   4.46628   |            11.521   | E-COMMER     | FTB.roC   | FTB.roO  | 11teamsports.ro | 2019-06-01 06:32:00 | Adidas Team Glider                     | cz2230           |         85 | adidas           |         300 | Equipment |         320 | Balls           |           0 | unspecified             | football    | men         | adults      | White       | 5           | ro        |\n",
      "| 2019-06-01 00:00:00 | 1900079057 | COD           | ZB00019137  |          1 |               0 |              40.3295  |  28.8213    |            57.6271  | E-COMMER     | FTB.czC   | FTB.czO  | 11teamsports.cz | 2019-06-01 06:32:00 | JR PHNTOM VSN ACADEMY DF FG/MG         | ao3287-408       |         84 | Nike             |         100 | Footwear  |         110 | Football shoes  |           0 | unspecified             | football    | unisex      | kids        | Silver      | 38          | cz        |\n",
      "| 2019-06-01 00:00:00 | 1900079057 | COD           | S101        |          1 |               0 |               2.21008 |   0         |             2.21008 | E-COMMER     | FTB.czC   | FTB.czO  | 11teamsports.cz | 2019-06-01 06:32:00 | Dopravné                               | unspecified      |         -1 | no_manufacturer  |         999 | Other     |           0 | unspecified     |           0 | unspecified             | unspecified | unspecified | unspecified | unspecified | unspecified | cz        |\n",
      "| 2019-06-01 00:00:00 | 1900079057 | COD           | S113        |          1 |               0 |               0.92907 |   0         |             0.92907 | E-COMMER     | FTB.czC   | FTB.czO  | 11teamsports.cz | 2019-06-01 06:32:00 | Platba                                 | unspecified      |         -1 | no_manufacturer  |         999 | Other     |           0 | unspecified     |           0 | unspecified             | unspecified | unspecified | unspecified | unspecified | unspecified | cz        |\n",
      "| 2019-06-01 00:00:00 | 1900079059 | CARD_GOPAY    | ZB00025762  |          1 |               0 |              17.2614  |  10.9527    |            24.6863  | E-COMMER     | FTB.skC   | FTB.skO  | 11teamsports.sk | 2019-06-01 06:32:00 | HG ARMOUR 20 LONG SHORT                | 1289568-001      |        106 | Under Armour     |         200 | Apparel   |         240 | Pants           |         244 | Compression pants       | football    | men         | adults      | Black       | L           | sk        |\n",
      "| 2019-06-01 00:00:00 | 1900079060 | COD           | ZB00026704  |          1 |               0 |              27.268   |  16.8054    |            37.5247  | E-COMMER     | FTB.skC   | FTB.skO  | 11teamsports.sk | 2019-06-01 06:32:00 | star chevron graphic                   | 10006480-a01-001 |        139 | Converse         |         200 | Apparel   |         240 | Pants           |         242 | Shorts                  | lifestyle   | men         | adults      | Black       | L           | sk        |\n",
      "| 2019-06-01 00:00:00 | 1900079067 | COD           | ZB00021748  |          1 |               0 |              74.8287  |  48.6264    |            96.0663  | E-COMMER     | RUN.czC   | RUN.czO  | top4running.cz  | 2019-06-01 06:32:00 | WMNS NIKE AIR ZOOM PEGASUS 35          | 942855-011       |         84 | Nike             |         100 | Footwear  |         120 | Running shoes   |           0 | unspecified             | running     | women       | adults      | Silver      | 39          | cz        |\n",
      "| 2019-06-01 00:00:00 | 1900079037 | CARD_CSOB     | ZB00025620  |          1 |               0 |              18.707   |   9.44612   |            28.7977  | E-COMMER     | FTB.czC   | VO_B_FTO | 11teamsports.cz | 2019-06-01 06:31:00 | M NK DRY PARK III JSY LS GK            | 894509-398       |         84 | Nike             |         200 | Apparel   |         230 | T-Shirts        |         233 | Longsleeved (LS) shirts | football    | men         | adults      | Green       | S           | cz        |\n",
      "| 2019-06-01 00:00:00 | 1900079067 | COD           | S113        |          1 |               0 |               0.92907 |   0         |             0.92907 | E-COMMER     | RUN.czC   | RUN.czO  | top4running.cz  | 2019-06-01 06:32:00 | Platba                                 | unspecified      |         -1 | no_manufacturer  |         999 | Other     |           0 | unspecified     |           0 | unspecified             | unspecified | unspecified | unspecified | unspecified | unspecified | cz        |\n",
      "| 2019-06-01 00:00:00 | 1900079070 | COD           | S114        |         -1 |               0 |               3.2031  |   0         |             3.2031  | E-COMMER     | FTB.czC   | FTB.czO  | 11teamsports.cz | 2019-06-01 06:32:00 | Sleva                                  | unspecified      |         -1 | no_manufacturer  |         999 | Other     |           0 | unspecified     |           0 | unspecified             | unspecified | unspecified | unspecified | unspecified | unspecified | cz        |\n",
      "| 2019-06-01 00:00:00 | 1900079074 | COD           | ZB00026164  |          1 |               0 |              39.5262  |  29.4992    |            60.7985  | E-COMMER     | FTB.roC   | FTB.roO  | 11teamsports.ro | 2019-06-01 06:32:00 | VAPOR 12 ACADEMY TF                    | ah7384-701       |         84 | Nike             |         100 | Footwear  |         110 | Football shoes  |           0 | unspecified             | football    | men         | adults      | Green       | 43          | ro        |\n",
      "| 2019-06-01 00:00:00 | 1900079087 | COD           | ZB00024304  |          1 |               0 |              73.6434  |  36.4725    |            73.6434  | E-COMMER     | FTB.czC   | FTB.czO  | 11teamsports.cz | 2019-06-01 06:32:00 | SUPERFLY 6 ACADEMY MG                  | ah7362-408       |         84 | Nike             |         100 | Footwear  |         110 | Football shoes  |           0 | unspecified             | football    | men         | adults      | Blue        | 44          | cz        |\n",
      "| 2019-06-01 00:00:00 | 1900079087 | COD           | S113        |          1 |               0 |               0.92907 |   0         |             0.92907 | E-COMMER     | FTB.czC   | FTB.czO  | 11teamsports.cz | 2019-06-01 06:32:00 | Platba                                 | unspecified      |         -1 | no_manufacturer  |         999 | Other     |           0 | unspecified     |           0 | unspecified             | unspecified | unspecified | unspecified | unspecified | unspecified | cz        |\n",
      "| 2019-06-01 00:00:00 | 1900079095 | COD           | ZB00026705  |          1 |               0 |              21.9426  |  11.2035    |            30.2709  | E-COMMER     | FTB.czC   | FTB.czO  | 11teamsports.cz | 2019-06-01 06:32:00 | reflective wordmark legging            | 10004552-a01     |        139 | Converse         |         200 | Apparel   |         240 | Pants           |           0 | unspecified             | lifestyle   | women       | adults      | Black       | S           | cz        |\n",
      "| 2019-06-01 00:00:00 | 1900079095 | COD           | S101        |          1 |               0 |               2.21008 |   0         |             2.21008 | E-COMMER     | FTB.czC   | FTB.czO  | 11teamsports.cz | 2019-06-01 06:32:00 | Dopravné                               | unspecified      |         -1 | no_manufacturer  |         999 | Other     |           0 | unspecified     |           0 | unspecified             | unspecified | unspecified | unspecified | unspecified | unspecified | cz        |\n",
      "| 2019-06-01 00:00:00 | 1900079095 | COD           | S113        |          1 |               0 |               0.92907 |   0         |             0.92907 | E-COMMER     | FTB.czC   | FTB.czO  | 11teamsports.cz | 2019-06-01 06:32:00 | Platba                                 | unspecified      |         -1 | no_manufacturer  |         999 | Other     |           0 | unspecified     |           0 | unspecified             | unspecified | unspecified | unspecified | unspecified | unspecified | cz        |\n",
      "| 2019-06-01 00:00:00 | 1900079098 | COD           | ZB00026706  |          1 |               0 |              18.0919  |   9.98178   |            29.1892  | E-COMMER     | FTB.skC   | FTB.skO  | 11teamsports.sk | 2019-06-01 06:34:00 | M NP TOP LS COMP MOCK                  | 838079-657       |         84 | Nike             |         200 | Apparel   |         230 | T-Shirts        |         236 | Compression shirts      | football    | men         | adults      | Red         | L           | sk        |\n",
      "| 2019-06-01 00:00:00 | 1900079070 | COD           | ZB00025613  |          1 |               0 |              76.238   |  49.4574    |           108.879   | E-COMMER     | FTB.czC   | FTB.czO  | 11teamsports.cz | 2019-06-01 06:32:00 | NEMEZIZ 182 FG                         | bb9431           |         85 | adidas           |         100 | Footwear  |         110 | Football shoes  |           0 | unspecified             | football    | men         | adults      | Yellow      | 43,3        | cz        |\n",
      "| 2019-06-01 00:00:00 | 1900078757 | COD           | S113        |          1 |               0 |               0.92907 |   0         |             0.92907 | E-COMMER     | FTB.czC   | FTB.czO  | 11teamsports.cz | 2019-06-01 00:04:00 | Platba                                 | unspecified      |         -1 | no_manufacturer  |         999 | Other     |           0 | unspecified     |           0 | unspecified             | unspecified | unspecified | unspecified | unspecified | unspecified | cz        |\n",
      "| 2019-06-01 00:00:00 | 1900079070 | COD           | S113        |          1 |               0 |               0.92907 |   0         |             0.92907 | E-COMMER     | FTB.czC   | FTB.czO  | 11teamsports.cz | 2019-06-01 06:32:00 | Platba                                 | unspecified      |         -1 | no_manufacturer  |         999 | Other     |           0 | unspecified     |           0 | unspecified             | unspecified | unspecified | unspecified | unspecified | unspecified | cz        |\n",
      "| 2019-06-01 00:00:00 | 1900078757 | COD           | ZB00007426  |          2 |               0 |               6.63062 |   0.0709302 |             7.78411 | E-COMMER     | FTB.czC   | FTB.czO  | 11teamsports.cz | 2019-06-01 00:04:00 | Team Scrimmage Swoosh Vest             | 361109-371       |         84 | Nike             |         200 | Apparel   |         225 | Jerseys         |         234 | Sleeveless (SL) shirts  | football    | men         | adults      | Green       | S/M         | cz        |\n",
      "| 2019-06-01 00:00:00 | 1900073936 | BANK_TRANSFER | ZB00049783  |          1 |               0 |              69.4657  |  28.7787    |            99.2353  | E-COMMER     | FTB.esC   | FTB.esO  | 11teamsports.es | 2019-06-01 08:00:00 | PRED PRO                               | dn8578           |         85 | adidas           |         300 | Equipment |         280 | Gloves          |         327 | Football gloves         | football    | men         | adults      | Black       | 10,5        | es        |\n",
      "| 2019-06-01 00:00:00 | 1900075432 | COD           | ZB00026064  |          1 |               0 |              45.8904  |  25.4461    |            65.5681  | E-COMMER     | FTB.huC   | FTB.huO  | 11teamsports.hu | 2019-06-01 09:26:00 | M NK DRY SQD17 TRK SUIT K              | 832325-657       |         84 | Nike             |         200 | Apparel   |         250 | Tracksuits      |           0 | unspecified             | football    | men         | adults      | Dark red    | L           | hu        |\n",
      "| 2019-06-01 00:00:00 | 1900075432 | COD           | S101        |          1 |               0 |               2.40506 |   0         |             2.40506 | E-COMMER     | FTB.huC   | FTB.huO  | 11teamsports.hu | 2019-06-01 09:26:00 | Dopravné                               | unspecified      |         -1 | no_manufacturer  |         999 | Other     |           0 | unspecified     |           0 | unspecified             | unspecified | unspecified | unspecified | unspecified | unspecified | hu        |\n",
      "| 2019-06-01 00:00:00 | 1900075773 | COD           | ZB00017976  |          1 |               0 |             113.364   |  69.2446    |           188.962   | E-COMMER     | FTB.czC   | FTB.czO  | 11teamsports.cz | 2019-06-01 07:22:00 | X 181 FG                               | bb9347           |         85 | adidas           |         100 | Footwear  |         110 | Football shoes  |           0 | unspecified             | football    | men         | adults      | Red         | 44,7        | cz        |\n",
      "| 2019-06-01 00:00:00 | 1900076357 | COD           | ZB00023846  |          1 |               0 |              11.521   |   0         |            16.4842  | E-COMMER     | FTB.roC   | FTB.roO  | 11teamsports.ro | 2019-06-01 08:59:00 | NK MENOR X                             | sc3039-673       |         84 | Nike             |         300 | Equipment |         320 | Balls           |           0 | unspecified             | football    | unisex      | adults      | Red         | ks          | ro        |\n",
      "| 2019-06-01 00:00:00 | 1900077168 | COD           | ZB00025652  |          1 |               0 |              37.7035  |  29.7578    |            58.0128  | E-COMMER     | FTB.huC   | FTB.huO  | 11teamsports.hu | 2019-06-01 09:05:00 | X 183 FG                               | bb9366           |         85 | adidas           |         100 | Footwear  |         110 | Football shoes  |           0 | unspecified             | football    | men         | adults      | Black       | 44,7        | hu        |\n",
      "| 2019-06-01 00:00:00 | 1900077168 | COD           | S101        |          1 |               0 |               2.40506 |   0         |             2.40506 | E-COMMER     | FTB.huC   | FTB.huO  | 11teamsports.hu | 2019-06-01 09:05:00 | Dopravné                               | unspecified      |         -1 | no_manufacturer  |         999 | Other     |           0 | unspecified     |           0 | unspecified             | unspecified | unspecified | unspecified | unspecified | unspecified | hu        |\n",
      "| 2019-06-01 00:00:00 | 1900077515 | COD           | ZB00009443  |          2 |               0 |              13.6286  |  10.4283    |            18.1958  | E-COMMER     | RUN.huC   | RUN.huO  | top4running.hu  | 2019-06-01 09:25:00 | M NP SHORT LONG                        | 838063-091       |         84 | Nike             |         200 | Apparel   |         240 | Pants           |         244 | Compression pants       | running     | men         | adults      | Silver      | L           | hu        |\n",
      "| 2019-06-01 00:00:00 | 1900077515 | COD           | S101        |          1 |               0 |               2.40506 |   0         |             2.40506 | E-COMMER     | RUN.huC   | RUN.huO  | top4running.hu  | 2019-06-01 09:25:00 | Dopravné                               | unspecified      |         -1 | no_manufacturer  |         999 | Other     |           0 | unspecified     |           0 | unspecified             | unspecified | unspecified | unspecified | unspecified | unspecified | hu        |\n",
      "| 2019-06-01 00:00:00 | 1900079385 | COD           | ZB00017248  |          3 |               0 |              26.0105  |  10.2616    |            40.0089  | E-COMMER     | FTB.czC   | FTB.czO  | 11teamsports.cz | 2019-06-01 09:07:00 | FINALE M COMP                          | dn8687           |         85 | adidas           |         300 | Equipment |         320 | Balls           |           0 | unspecified             | football    | men         | adults      | Orange      | 5           | cz        |\n",
      "| 2019-06-01 00:00:00 | 1900077890 | COD           | ZB00026211  |          1 |               0 |              11.6777  |   5.84186   |            16.681   | E-COMMER     | FTB.skC   | FTB.skO  | 11teamsports.sk | 2019-06-01 06:24:00 | NK MENOR X                             | sc3039-673       |         84 | Nike             |         300 | Equipment |         320 | Balls           |           0 | unspecified             | football    | unisex      | adults      | Red         | PRO         | sk        |\n",
      "| 2019-06-01 00:00:00 | 1900078281 | COD           | ZB00025682  |          1 |               0 |              85.2074  |   2.29845   |           121.693   | E-COMMER     | RUN.czC   | RUN.czO  | top4running.cz  | 2019-06-01 09:16:00 | NIKE EPIC REACT FLYKNIT 2              | bq8928-003       |         84 | Nike             |         100 | Footwear  |         120 | Running shoes   |           0 | unspecified             | running     | men         | adults      | Black       | 42,5        | cz        |\n",
      "| 2019-06-01 00:00:00 | 1900078281 | COD           | S113        |          1 |               0 |               0.92907 |   0         |             0.92907 | E-COMMER     | RUN.czC   | RUN.czO  | top4running.cz  | 2019-06-01 09:16:00 | Platba                                 | unspecified      |         -1 | no_manufacturer  |         999 | Other     |           0 | unspecified     |           0 | unspecified             | unspecified | unspecified | unspecified | unspecified | unspecified | cz        |\n",
      "| 2019-06-01 00:00:00 | 1900078447 | PAYPAL        | ZB00025689  |          1 |               0 |              21.0238  |  16.8702    |            29.4294  | E-COMMER     | RUN.deC   | RUN.deO  | top4running.de  | 2019-06-01 16:56:00 | ADILETTE                               | 288022           |        232 | adidas Originals |         100 | Footwear  |         150 | Slides          |           0 | unspecified             | lifestyle   | men         | adults      | Blue        | 47,3        | de        |\n",
      "| 2019-06-01 00:00:00 | 1900078447 | PAYPAL        | S101        |          1 |               0 |               2.94194 |   0         |             2.94194 | E-COMMER     | RUN.deC   | RUN.deO  | top4running.de  | 2019-06-01 16:56:00 | Dopravné                               | unspecified      |         -1 | no_manufacturer  |         999 | Other     |           0 | unspecified     |           0 | unspecified             | unspecified | unspecified | unspecified | unspecified | unspecified | de        |\n",
      "| 2019-06-01 00:00:00 | 1900078650 | COD           | ZB00049881  |          1 |               0 |              16.8386  |   8.76008   |            28.0411  | E-COMMER     | FTB.roC   | VO_B_FTO | 11teamsports.ro | 2019-06-01 11:57:00 | ENTRY 15 GK                            | ap0325           |         85 | adidas           |         200 | Apparel   |         230 | T-Shirts        |         233 | Longsleeved (LS) shirts | football    | men         | adults      | Blue        | 164         | ro        |\n",
      "| 2019-06-01 00:00:00 | 1900078650 | COD           | ZB00011209  |          1 |               0 |               6.38064 |   5.59535   |             9.7492  | E-COMMER     | FTB.roC   | VO_B_FTO | 11teamsports.ro | 2019-06-01 11:57:00 | U NK SQUAD OTC                         | sx6830-100       |         84 | Nike             |         200 | Apparel   |         290 | Socks           |         291 | Football socks          | football    | unisex      | adults      | White       | S           | ro        |\n",
      "| 2019-06-01 00:00:00 | 1900073779 | CARD_GOPAY    | ZB00016912  |          1 |               0 |              20.0132  |  12.8748    |            33.352   | E-COMMER     | FTB.skC   | VO_B_FTO | 11teamsports.sk | 2019-06-01 06:34:00 | ASK SPRT LT M                          | cw9427           |         85 | adidas           |         200 | Apparel   |         240 | Pants           |           0 | unspecified             | football    | men         | adults      | Black       | M           | sk        |\n",
      "| 2019-06-01 00:00:00 | 1900078650 | COD           | ZB00014423  |          1 |               0 |              15.4211  |   8.34496   |            23.6094  | E-COMMER     | FTB.roC   | VO_B_FTO | 11teamsports.ro | 2019-06-01 11:57:00 | TIERRO13 GK SHO                        | z11471           |         85 | adidas           |         200 | Apparel   |         240 | Pants           |         242 | Shorts                  | football    | men         | adults      | Black       | 152         | ro        |\n",
      "| 2019-06-01 00:00:00 | 1900073779 | CARD_GOPAY    | ZB00002233  |          1 |               0 |              15.0099  |  12.9764    |            25.0165  | E-COMMER     | FTB.skC   | VO_B_FTO | 11teamsports.sk | 2019-06-01 06:34:00 | M NK FC DRY TEE SSNL BLOCK             | av5313-838       |         84 | Nike             |         200 | Apparel   |         230 | T-Shirts        |           0 | unspecified             | football    | men         | adults      | Orange      | S           | sk        |\n",
      "| 2019-06-01 00:00:00 | 1900073779 | CARD_GOPAY    | ZB00012932  |          1 |               0 |              30.0198  |  24.4023    |            50.0329  | E-COMMER     | FTB.skC   | VO_B_FTO | 11teamsports.sk | 2019-06-01 06:34:00 | M NK FC PANT                           | aq0667-492       |         84 | Nike             |         200 | Apparel   |         240 | Pants           |           0 | unspecified             | football    | men         | adults      | unspecified | S           | sk        |\n",
      "| 2019-06-01 00:00:00 | 1900072437 | COD           | ZB00010124  |          1 |               0 |              34.4031  |  18.9566    |            57.3388  | E-COMMER     | FTB.czC   | FTB.czO  | 11teamsports.cz | 2019-06-01 08:59:00 | LS GARDIEN JSY                         | 725882-702       |         84 | Nike             |         200 | Apparel   |         230 | T-Shirts        |         233 | Longsleeved (LS) shirts | football    | men         | adults      | Green       | XXL         | cz        |\n",
      "| 2019-06-01 00:00:00 | 1900072437 | COD           | ZB00013297  |          1 |               0 |               9.35349 |   6.01822   |            14.3826  | E-COMMER     | FTB.czC   | FTB.czO  | 11teamsports.cz | 2019-06-01 08:59:00 | PARK II KNIT SHORT NB                  | 725887-702       |         84 | Nike             |         200 | Apparel   |         240 | Pants           |         242 | Shorts                  | football    | men         | adults      | Green       | XL          | cz        |\n",
      "| 2019-06-01 00:00:00 | 1900072437 | COD           | ZB00001906  |          1 |               0 |               9.35349 |   5.40659   |            14.3826  | E-COMMER     | FTB.czC   | FTB.czO  | 11teamsports.cz | 2019-06-01 08:59:00 | YTH LEAGUE KNIT SHORT NB               | 725990-011       |         84 | Nike             |         200 | Apparel   |         240 | Pants           |         242 | Shorts                  | football    | unisex      | kids        | Black       | L           | cz        |\n",
      "| 2019-06-01 00:00:00 | 1900072437 | COD           | ZB00011732  |          1 |               0 |              31.2     |  17.1364    |            48.0171  | E-COMMER     | FTB.czC   | FTB.czO  | 11teamsports.cz | 2019-06-01 08:59:00 | YTH NK GARDIEN II GK JSY LS            | 898046-010       |         84 | Nike             |         200 | Apparel   |         230 | T-Shirts        |         233 | Longsleeved (LS) shirts | football    | unisex      | kids        | Black       | L           | cz        |\n",
      "| 2019-06-01 00:00:00 | 1900072437 | COD           | ZB00017248  |          4 |               0 |              26.0105  |  10.2616    |            40.0089  | E-COMMER     | FTB.czC   | FTB.czO  | 11teamsports.cz | 2019-06-01 08:59:00 | FINALE M COMP                          | dn8687           |         85 | adidas           |         300 | Equipment |         320 | Balls           |           0 | unspecified             | football    | men         | adults      | Orange      | 5           | cz        |\n",
      "| 2019-06-01 00:00:00 | 1900072437 | COD           | ZB00005692  |          1 |               0 |               4.99729 |   2.80736   |             7.68798 | E-COMMER     | FTB.czC   | FTB.czO  | 11teamsports.cz | 2019-06-01 08:59:00 | U NK CLASSIC II CUSH OTC -TEAM         | sx5728-013       |         84 | Nike             |         200 | Apparel   |         290 | Socks           |         291 | Football socks          | football    | unisex      | adults      | Black       | L           | cz        |\n",
      "| 2019-06-01 00:00:00 | 1900072437 | COD           | ZB00005846  |          1 |               0 |               5.60581 |   3.64922   |             8.61667 | E-COMMER     | FTB.czC   | FTB.czO  | 11teamsports.cz | 2019-06-01 08:59:00 | U NK CLASSIC II CUSH OTC -TEAM         | sx5728-702       |         84 | Nike             |         200 | Apparel   |         290 | Socks           |         291 | Football socks          | football    | unisex      | adults      | Green       | XL          | cz        |\n",
      "| 2019-06-01 00:00:00 | 1900072437 | COD           | ZB00005157  |          7 |               0 |              10.3787  |   6.13295   |            15.9845  | E-COMMER     | FTB.czC   | FTB.czO  | 11teamsports.cz | 2019-06-01 08:59:00 | NK PTCH TEAM                           | sc3166-701       |         84 | Nike             |         300 | Equipment |         320 | Balls           |           0 | unspecified             | football    | unisex      | adults      | Yellow      | 4           | cz        |\n",
      "| 2019-06-01 00:00:00 | 1900072959 | GOPAY_CARD    | ZB00010308  |          4 |               0 |              19.1826  |  11.6163    |            33.0818  | E-COMMER     | FTB.esC   | FTB.esO  | 11teamsports.es | 2019-06-01 00:09:00 | M NK DRY ACDMY18 TRK JKT K             | 893701-100       |         84 | Nike             |         200 | Apparel   |         215 | Jackets         |           0 | unspecified             | football    | men         | adults      | White       | S           | es        |\n",
      "| 2019-06-01 00:00:00 | 1900072959 | GOPAY_CARD    | ZB00010312  |          6 |               0 |              19.1826  |  11.9047    |            33.0818  | E-COMMER     | FTB.esC   | FTB.esO  | 11teamsports.es | 2019-06-01 00:09:00 | M NK DRY ACDMY18 TRK JKT K             | 893701-100       |         84 | Nike             |         200 | Apparel   |         215 | Jackets         |           0 | unspecified             | football    | men         | adults      | White       | M           | es        |\n",
      "| 2019-06-01 00:00:00 | 1900072959 | GOPAY_CARD    | ZB00010316  |         12 |               0 |              19.1826  |   5.4186    |            33.0818  | E-COMMER     | FTB.esC   | FTB.esO  | 11teamsports.es | 2019-06-01 00:09:00 | M NK DRY ACDMY18 TRK JKT K             | 893701-100       |         84 | Nike             |         200 | Apparel   |         215 | Jackets         |           0 | unspecified             | football    | men         | adults      | White       | L           | es        |\n",
      "| 2019-06-01 00:00:00 | 1900078757 | COD           | S101        |          1 |               0 |               2.21008 |   0         |             2.21008 | E-COMMER     | FTB.czC   | FTB.czO  | 11teamsports.cz | 2019-06-01 00:04:00 | Dopravné                               | unspecified      |         -1 | no_manufacturer  |         999 | Other     |           0 | unspecified     |           0 | unspecified             | unspecified | unspecified | unspecified | unspecified | unspecified | cz        |\n",
      "| 2019-06-01 00:00:00 | 1900073779 | CARD_GOPAY    | ZB00009368  |          1 |               0 |              12.5082  |   7.63488   |            20.8437  | E-COMMER     | FTB.skC   | VO_B_FTO | 11teamsports.sk | 2019-06-01 06:34:00 | M NP SHORT                             | 838061-010       |         84 | Nike             |         200 | Apparel   |         240 | Pants           |         242 | Shorts                  | fitness     | men         | adults      | Black       | M           | sk        |\n",
      "| 2019-06-01 00:00:00 | 1900073779 | CARD_GOPAY    | ZB00009389  |          1 |               0 |              12.5082  |   7.87364   |            20.8437  | E-COMMER     | FTB.skC   | VO_B_FTO | 11teamsports.sk | 2019-06-01 06:34:00 | M NP SHORT                             | 838061-091       |         84 | Nike             |         200 | Apparel   |         240 | Pants           |         242 | Shorts                  | fitness     | men         | adults      | Silver      | M           | sk        |\n",
      "| 2019-06-01 00:00:00 | 1900073779 | CARD_GOPAY    | ZB00001487  |          1 |               0 |              15.0099  |  13.007     |            25.0165  | E-COMMER     | FTB.skC   | VO_B_FTO | 11teamsports.sk | 2019-06-01 06:34:00 | M NSW CE POLO MATCHUP PQ               | 909746-337       |         84 | Nike             |         200 | Apparel   |         230 | T-Shirts        |         231 | Polo                    | lifestyle   | men         | adults      | Blue        | L           | sk        |\n",
      "| 2019-06-01 00:00:00 | 1900073779 | CARD_GOPAY    | ZB00014781  |          1 |               0 |              15.0099  |  11.205     |            25.0165  | E-COMMER     | FTB.skC   | VO_B_FTO | 11teamsports.sk | 2019-06-01 06:34:00 | TF BASE SS                             | aj4967           |         85 | adidas           |         200 | Apparel   |         230 | T-Shirts        |         236 | Compression shirts      | fitness     | men         | adults      | White       | S           | sk        |\n",
      "| 2019-06-01 00:00:00 | 1900073779 | CARD_GOPAY    | ZB00002069  |          1 |               0 |              27.5181  |  22.7744    |            45.8602  | E-COMMER     | FTB.skC   | VO_B_FTO | 11teamsports.sk | 2019-06-01 06:34:00 | M NIKE FC CREW TOP LS                  | ao0358-010       |         84 | Nike             |         200 | Apparel   |         230 | T-Shirts        |         233 | Longsleeved (LS) shirts | football    | men         | adults      | Black       | S           | sk        |\n",
      "| 2019-06-01 00:00:00 | 1900073779 | CARD_GOPAY    | ZB00002185  |          1 |               0 |              15.0099  |  13.007     |            25.0165  | E-COMMER     | FTB.skC   | VO_B_FTO | 11teamsports.sk | 2019-06-01 06:34:00 | M NK FC DRY TEE SSNL BLOCK             | av5313-100       |         84 | Nike             |         200 | Apparel   |         230 | T-Shirts        |           0 | unspecified             | football    | men         | adults      | Black       | S           | sk        |\n",
      "| 2019-06-01 00:00:00 | 1900078655 | COD           | ZB00026724  |          1 |               0 |              64.3422  |  36.1019    |            99.0845  | E-COMMER     | FTB.roC   | VO_B_FTO | 11teamsports.ro | 2019-06-01 11:57:00 | Adidas Predator Pro Hybrid             | dy2617           |         85 | adidas           |         300 | Equipment |         280 | Gloves          |         327 | Football gloves         | football    | men         | adults      | Silver      | 7,5         | ro        |\n",
      "| 2019-06-01 00:00:00 | 1900072959 | GOPAY_CARD    | ZB00010320  |          2 |               0 |              19.1826  |  10.0469    |            33.0818  | E-COMMER     | FTB.esC   | FTB.esO  | 11teamsports.es | 2019-06-01 00:09:00 | M NK DRY ACDMY18 TRK JKT K             | 893701-100       |         84 | Nike             |         200 | Apparel   |         215 | Jackets         |           0 | unspecified             | football    | men         | adults      | White       | XL          | es        |\n",
      "| 2019-06-01 00:00:00 | 1900078754 | CARD_CSOB     | ZB00049877  |          1 |               0 |             153.565   | 120.323     |           255.942   | E-COMMER     | FTB.czC   | FTB.czO  | 11teamsports.cz | 2019-06-01 11:57:00 | SUPERFLY 6 ELITE CR7 SG-PRO AC         | aj6932-600       |         84 | Nike             |         100 | Footwear  |         110 | Football shoes  |           0 | unspecified             | football    | men         | adults      | Red         | 42,5        | cz        |\n",
      "| 2019-06-01 00:00:00 | 1900078757 | COD           | ZB00049340  |          5 |               0 |               6.63062 |   2.5031    |             7.78411 | E-COMMER     | FTB.czC   | FTB.czO  | 11teamsports.cz | 2019-06-01 00:04:00 | Team Scrimmage Swoosh Vest             | 361109-100       |         84 | Nike             |         200 | Apparel   |         225 | Jerseys         |         234 | Sleeveless (SL) shirts  | football    | men         | adults      | White       | S/M         | cz        |\n",
      "| 2019-06-02 00:00:00 | 1900081346 | COD           | ZB00016098  |          1 |               0 |               8.61667 |   5.22364   |             8.26866 | E-COMMER     | RUN.czC   | RUN.czO  | top4running.cz  | 2019-06-02 07:30:00 | ESIO KINESIOLOGY TAPE 50mm             | unspecified      |         -1 | no_manufacturer  |         999 | Other     |           0 | unspecified     |           0 | unspecified             | unspecified | unspecified | unspecified | unspecified | unspecified | cz        |\n",
      "| 2019-06-02 00:00:00 | 1900081425 | COD           | ZB00010062  |          1 |               0 |              40.8419  |  27.6581    |            54.4236  | E-COMMER     | STR.czC   | STR.czO  | tint-store.cz   | 2019-06-02 09:16:00 | M NSW TCH FLC SHORT                    | 928513-355       |         84 | Nike             |         200 | Apparel   |         240 | Pants           |         242 | Shorts                  | lifestyle   | men         | adults      | Green       | L           | cz        |\n",
      "| 2019-06-02 00:00:00 | 1900081241 | PAYPAL        | S101        |          1 |               0 |               5.00329 |   0         |             4.96327 | E-COMMER     | RUN.comC  | RUN.comO | top4running.com | 2019-06-02 08:01:00 | Dopravné                               | unspecified      |         -1 | no_manufacturer  |         999 | Other     |           0 | unspecified     |           0 | unspecified             | unspecified | unspecified | unspecified | unspecified | unspecified | com       |\n",
      "| 2019-06-02 00:00:00 | 1900081241 | PAYPAL        | ZB00009222  |          1 |               0 |               8.33549 |   4.55465   |             9.09599 | E-COMMER     | RUN.comC  | RUN.comO | top4running.com | 2019-06-02 08:01:00 | BASIC WALLET                           | nia08693ns-693   |         84 | Nike             |         300 | Equipment |         399 | Other Equipment |           0 | unspecified             | football    | unisex      | adults      | Red         | ks          | com       |\n",
      "| 2019-06-02 00:00:00 | 1900081241 | PAYPAL        | ZB00002778  |          1 |               0 |               8.33549 |   4.44535   |             9.09599 | E-COMMER     | RUN.comC  | RUN.comO | top4running.com | 2019-06-02 08:01:00 | BASIC WALLET                           | nia08068ns       |         84 | Nike             |         300 | Equipment |         399 | Other Equipment |           0 | unspecified             | football    | unisex      | adults      | unspecified | ks          | com       |\n",
      "| 2019-06-02 00:00:00 | 1900081425 | COD           | S114        |         -1 |               0 |               3.2031  |   0         |             3.2031  | E-COMMER     | STR.czC   | STR.czO  | tint-store.cz   | 2019-06-02 09:16:00 | Sleva                                  | unspecified      |         -1 | no_manufacturer  |         999 | Other     |           0 | unspecified     |           0 | unspecified             | unspecified | unspecified | unspecified | unspecified | unspecified | cz        |\n",
      "| 2019-06-02 00:00:00 | 1900081425 | COD           | S101        |          1 |               0 |               1.56977 |   0         |             1.56977 | E-COMMER     | STR.czC   | STR.czO  | tint-store.cz   | 2019-06-02 09:16:00 | Dopravné                               | unspecified      |         -1 | no_manufacturer  |         999 | Other     |           0 | unspecified     |           0 | unspecified             | unspecified | unspecified | unspecified | unspecified | unspecified | cz        |\n",
      "| 2019-06-02 00:00:00 | 1900081425 | COD           | S113        |          1 |               0 |               0.92907 |   0         |             0.92907 | E-COMMER     | STR.czC   | STR.czO  | tint-store.cz   | 2019-06-02 09:16:00 | Platba                                 | unspecified      |         -1 | no_manufacturer  |         999 | Other     |           0 | unspecified     |           0 | unspecified             | unspecified | unspecified | unspecified | unspecified | unspecified | cz        |\n",
      "| 2019-06-02 00:00:00 | 1900081241 | PAYPAL        | ZB00009239  |          1 |               0 |               8.33549 |   4.39147   |             9.09599 | E-COMMER     | RUN.comC  | RUN.comO | top4running.com | 2019-06-02 08:01:00 | BASIC WALLET                           | nia08413ns-413   |         84 | Nike             |         300 | Equipment |         399 | Other Equipment |           0 | unspecified             | football    | unisex      | adults      | Blue        | ks          | com       |\n",
      "| 2019-06-03 00:00:00 | 1900081701 | CARD_CSOB     | S114        |         -1 |               0 |               3.2031  |   0         |             3.2031  | E-COMMER     | FTB.czC   | FTB.czO  | 11teamsports.cz | 2019-06-03 09:17:00 | Sleva                                  | unspecified      |         -1 | no_manufacturer  |         999 | Other     |           0 | unspecified     |           0 | unspecified             | unspecified | unspecified | unspecified | unspecified | unspecified | cz        |\n",
      "| 2019-06-03 00:00:00 | 1900081663 | CARD_CSOB     | ZB00015598  |          1 |               0 |              83.862   |   0.0387597 |           111.795   | E-COMMER     | RUN.czC   | RUN.czO  | top4running.cz  | 2019-06-03 09:17:00 | SONIC RA PRO 2                         | l40611100        |         93 | Salomon          |         100 | Footwear  |         120 | Running shoes   |           0 | unspecified             | running     | men         | adults      | Blue        | 43,3        | cz        |\n",
      "| 2019-06-03 00:00:00 | 1900081701 | CARD_CSOB     | ZB00014167  |          1 |               0 |             103.786   |  86.3609    |           129.733   | E-COMMER     | FTB.czC   | FTB.czO  | 11teamsports.cz | 2019-06-03 09:17:00 | COPA MUNDIAL FG                        | 015110           |         85 | adidas           |         100 | Footwear  |         110 | Football shoes  |           0 | unspecified             | football    | men         | adults      | Black       | 44,7        | cz        |\n",
      "| 2019-06-03 00:00:00 | 1900081500 | COD           | S113        |          1 |               0 |               0.92907 |   0         |             0.92907 | E-COMMER     | FTB.czC   | FTB.czO  | 11teamsports.cz | 2019-06-03 09:16:00 | Platba                                 | unspecified      |         -1 | no_manufacturer  |         999 | Other     |           0 | unspecified     |           0 | unspecified             | unspecified | unspecified | unspecified | unspecified | unspecified | cz        |\n",
      "| 2019-06-03 00:00:00 | 1900081500 | COD           | S101        |          1 |               0 |               1.56977 |   0         |             1.56977 | E-COMMER     | FTB.czC   | FTB.czO  | 11teamsports.cz | 2019-06-03 09:16:00 | Dopravné                               | unspecified      |         -1 | no_manufacturer  |         999 | Other     |           0 | unspecified     |           0 | unspecified             | unspecified | unspecified | unspecified | unspecified | unspecified | cz        |\n",
      "| 2019-06-03 00:00:00 | 1900081500 | COD           | S114        |         -1 |               0 |               3.2031  |   0         |             3.2031  | E-COMMER     | FTB.czC   | FTB.czO  | 11teamsports.cz | 2019-06-03 09:16:00 | Sleva                                  | unspecified      |         -1 | no_manufacturer  |         999 | Other     |           0 | unspecified     |           0 | unspecified             | unspecified | unspecified | unspecified | unspecified | unspecified | cz        |\n",
      "| 2019-06-03 00:00:00 | 1900081551 | COD           | S113        |          1 |               0 |               0.92907 |   0         |             0.92907 | E-COMMER     | FTB.czC   | FTB.czO  | 11teamsports.cz | 2019-06-03 09:17:00 | Platba                                 | unspecified      |         -1 | no_manufacturer  |         999 | Other     |           0 | unspecified     |           0 | unspecified             | unspecified | unspecified | unspecified | unspecified | unspecified | cz        |\n",
      "| 2019-06-03 00:00:00 | 1900081728 | PAYPAL        | S101        |          1 |               0 |               5.00329 |   0         |             4.96327 | E-COMMER     | RUN.comC  | RUN.comO | top4running.com | 2019-06-03 08:01:00 | Dopravné                               | unspecified      |         -1 | no_manufacturer  |         999 | Other     |           0 | unspecified     |           0 | unspecified             | unspecified | unspecified | unspecified | unspecified | unspecified | com       |\n",
      "| 2019-06-03 00:00:00 | 1900081500 | COD           | ZB00022514  |          1 |               0 |              40.8419  |   0.358527  |            54.4236  | E-COMMER     | FTB.czC   | FTB.czO  | 11teamsports.cz | 2019-06-03 09:16:00 | LEGEND 7 ACADEMY IC                    | ah7244-070       |         84 | Nike             |         100 | Footwear  |         110 | Football shoes  |         114 | Indoor/Court (IC)       | football    | men         | adults      | Silver      | 43          | cz        |\n",
      "| 2019-06-03 00:00:00 | 1900081595 | COD           | ZB00009388  |          2 |               0 |              16.0163  |  16         |            32.0008  | E-COMMER     | RUN.czC   | RUN.czO  | top4running.cz  | 2019-06-03 11:00:00 | RUN THERMA SPHERE HOOD 20              | nra62019ns       |         84 | Nike             |         200 | Apparel   |         299 | Other Apparel   |           0 | unspecified             | running     | men         | adults      | Silver      | ks          | cz        |\n",
      "| 2019-06-03 00:00:00 | 1900081838 | COD           | ZB00000899  |          1 |               0 |              22.3333  |  11.3891    |            22.3333  | E-COMMER     | FTB.roC   | FTB.roO  | 11teamsports.ro | 2019-06-03 09:18:00 | NK MERC LITE - ENERGY                  | sp2178-100       |         84 | Nike             |         300 | Equipment |         335 | Guards          |           0 | unspecified             | football    | men         | adults      | White       | S           | ro        |\n",
      "| 2019-06-03 00:00:00 | 1900081551 | COD           | S101        |          1 |               0 |               2.21008 |   0         |             2.21008 | E-COMMER     | FTB.czC   | FTB.czO  | 11teamsports.cz | 2019-06-03 09:17:00 | Dopravné                               | unspecified      |         -1 | no_manufacturer  |         999 | Other     |           0 | unspecified     |           0 | unspecified             | unspecified | unspecified | unspecified | unspecified | unspecified | cz        |\n",
      "| 2019-06-03 00:00:00 | 1900081517 | COD           | ZB00026469  |          1 |               0 |              90.0593  |  55.3349    |           150.099   | E-COMMER     | FTB.skC   | VO_B_FTO | 11teamsports.sk | 2019-06-03 11:58:00 | UltraBOOST 19                          | b37704           |         85 | adidas           |         100 | Footwear  |         120 | Running shoes   |           0 | unspecified             | running     | men         | adults      | Black       | 40          | sk        |\n",
      "| 2019-06-03 00:00:00 | 1900081517 | COD           | ZB00026470  |          1 |               0 |               5.00329 |   4.19419   |             8.33549 | E-COMMER     | FTB.skC   | VO_B_FTO | 11teamsports.sk | 2019-06-03 11:58:00 | PER INVIZ T 3P                         | cf3390           |         85 | adidas           |         200 | Apparel   |         290 | Socks           |           0 | unspecified             | football    | unisex      | adults      | White       | 35-38       | sk        |\n",
      "| 2019-06-03 00:00:00 | 1900081517 | COD           | ZB00026471  |          1 |               0 |               5.00329 |   4.22016   |             8.33549 | E-COMMER     | FTB.skC   | VO_B_FTO | 11teamsports.sk | 2019-06-03 11:58:00 | PER INVIZ T 3P                         | cv7409           |         85 | adidas           |         200 | Apparel   |         290 | Socks           |           0 | unspecified             | football    | unisex      | adults      | Black       | 35-38       | sk        |\n",
      "| 2019-06-03 00:00:00 | 1900081519 | CARD_CSOB     | ZB00022132  |          1 |               0 |             166.378   | 107.864     |           255.942   | E-COMMER     | FTB.czC   | FTB.czO  | 11teamsports.cz | 2019-06-03 22:31:00 | MERCURIAL SUPERFLY 360 ELITE CR7 FG    | aj3547-600       |         84 | Nike             |         100 | Footwear  |         110 | Football shoes  |           0 | unspecified             | football    | men         | adults      | Red         | 45          | cz        |\n",
      "| 2019-06-03 00:00:00 | 1900081453 | CARD_CSOB     | ZB00016429  |          2 |               0 |              26.8116  |  18.3721    |            38.4074  | E-COMMER     | FTB.czC   | FTB.czO  | 11teamsports.cz | 2019-06-03 09:16:00 | CZECH REPUBLIC B2B Shirt               | 75254301         |         86 | Puma             |         200 | Apparel   |         230 | T-Shirts        |           0 | unspecified             | football    | men         | adults      | Red         | XL          | cz        |\n",
      "| 2019-06-03 00:00:00 | 1900081453 | CARD_CSOB     | ZB00016431  |          1 |               0 |              26.8116  |  18.3721    |            38.4074  | E-COMMER     | FTB.czC   | FTB.czO  | 11teamsports.cz | 2019-06-03 09:16:00 | CZECH REPUBLIC B2B Shirt               | 75254301         |         86 | Puma             |         200 | Apparel   |         230 | T-Shirts        |           0 | unspecified             | football    | men         | adults      | Red         | L           | cz        |\n",
      "| 2019-06-03 00:00:00 | 1900081838 | COD           | ZB00005804  |          3 |               0 |               5.67191 |   3.44922   |             7.08937 | E-COMMER     | FTB.roC   | FTB.roO  | 11teamsports.ro | 2019-06-03 09:18:00 | U NK CLASSIC II CUSH OTC -TEAM         | sx5728-648       |         84 | Nike             |         200 | Apparel   |         290 | Socks           |         291 | Football socks          | football    | unisex      | adults      | Red         | M           | ro        |\n",
      "| 2019-06-03 00:00:00 | 1900081838 | COD           | ZB00005764  |          2 |               0 |               5.67191 |   2.77519   |             7.08937 | E-COMMER     | FTB.roC   | FTB.roO  | 11teamsports.ro | 2019-06-03 09:18:00 | U NK CLASSIC II CUSH OTC -TEAM         | sx5728-463       |         84 | Nike             |         200 | Apparel   |         290 | Socks           |         291 | Football socks          | football    | unisex      | adults      | Blue        | M           | ro        |\n",
      "| 2019-06-03 00:00:00 | 1900081739 | CARD_CSOB     | S114        |         -1 |               0 |               3.2031  |   0         |             3.2031  | E-COMMER     | RUN.czC   | RUN.czO  | top4running.cz  | 2019-06-03 09:18:00 | Sleva                                  | unspecified      |         -1 | no_manufacturer  |         999 | Other     |           0 | unspecified     |           0 | unspecified             | unspecified | unspecified | unspecified | unspecified | unspecified | cz        |\n",
      "| 2019-06-03 00:00:00 | 1900081504 | COD           | S114        |         -1 |               0 |               3.2031  |   0         |             3.2031  | E-COMMER     | RUN.czC   | RUN.czO  | top4running.cz  | 2019-06-03 09:17:00 | Sleva                                  | unspecified      |         -1 | no_manufacturer  |         999 | Other     |           0 | unspecified     |           0 | unspecified             | unspecified | unspecified | unspecified | unspecified | unspecified | cz        |\n",
      "| 2019-06-03 00:00:00 | 1900081739 | CARD_CSOB     | ZB00003656  |          1 |               0 |              18.0023  |  12.2453    |            23.9926  | E-COMMER     | RUN.czC   | RUN.czO  | top4running.cz  | 2019-06-03 09:18:00 | WOR SL SS SLD COMP                     | dp6163           |         88 | Reebok           |         200 | Apparel   |         230 | T-Shirts        |         236 | Compression shirts      | fitness     | men         | adults      | Black       | M           | cz        |\n",
      "| 2019-06-03 00:00:00 | 1900081739 | CARD_CSOB     | ZB00022646  |          1 |               0 |              33.6023  |  14.4702    |            44.814   | E-COMMER     | RUN.czC   | RUN.czO  | top4running.cz  | 2019-06-03 09:18:00 | LAUNCH SW LONG SHORT                   | 1309602-008      |        106 | Under Armour     |         200 | Apparel   |         240 | Pants           |         242 | Shorts                  | running     | men         | adults      | Silver      | M           | cz        |\n",
      "| 2019-06-03 00:00:00 | 1900081504 | COD           | S113        |          1 |               0 |               0.92907 |   0         |             0.92907 | E-COMMER     | RUN.czC   | RUN.czO  | top4running.cz  | 2019-06-03 09:17:00 | Platba                                 | unspecified      |         -1 | no_manufacturer  |         999 | Other     |           0 | unspecified     |           0 | unspecified             | unspecified | unspecified | unspecified | unspecified | unspecified | cz        |\n",
      "| 2019-06-03 00:00:00 | 1900081504 | COD           | ZB00015177  |          1 |               0 |              76.6547  |  61.1717    |           102.184   | E-COMMER     | RUN.czC   | RUN.czO  | top4running.cz  | 2019-06-03 09:17:00 | S/LAB EXO HALF TIGHT M                 | lc1044900        |        237 | S/LAB            |         200 | Apparel   |         240 | Pants           |         244 | Compression pants       | running     | men         | adults      | Black       | L           | cz        |\n",
      "| 2019-06-03 00:00:00 | 1900081504 | COD           | ZB00014706  |          1 |               0 |              52.6298  |  44.4225    |            70.1519  | E-COMMER     | RUN.czC   | RUN.czO  | top4running.cz  | 2019-06-03 09:17:00 | S/LAB SENSE TEE M                      | l40216800        |        237 | S/LAB            |         200 | Apparel   |         230 | T-Shirts        |           0 | unspecified             | running     | men         | adults      | White       | L           | cz        |\n",
      "| 2019-06-03 00:00:00 | 1900081551 | COD           | ZB00002433  |          1 |               0 |              34.9159  |  23.8702    |            34.9159  | E-COMMER     | FTB.czC   | FTB.czO  | 11teamsports.cz | 2019-06-03 09:17:00 | ACSP Y NK BRT FTBL TOP SS HM           | 914128-677       |         84 | Nike             |         200 | Apparel   |         225 | Jerseys         |           0 | unspecified             | football    | unisex      | kids        | Dark red    | XL          | cz        |\n",
      "| 2019-06-03 00:00:00 | 1900081739 | CARD_CSOB     | S101        |          1 |               0 |               1.56977 |   0         |             1.56977 | E-COMMER     | RUN.czC   | RUN.czO  | top4running.cz  | 2019-06-03 09:18:00 | Dopravné                               | unspecified      |         -1 | no_manufacturer  |         999 | Other     |           0 | unspecified     |           0 | unspecified             | unspecified | unspecified | unspecified | unspecified | unspecified | cz        |\n",
      "| 2019-06-03 00:00:00 | 1900081869 | COD           | ZB00026567  |          1 |               0 |              26.7676  |   0         |            41.6975  | E-COMMER     | FTB.skC   | FTB.skO  | 11teamsports.sk | 2019-06-03 09:58:00 | Tiro 19                                | dt5174           |         85 | adidas           |         200 | Apparel   |         240 | Pants           |           0 | unspecified             | football    | men         | adults      | Blue        | M           | sk        |\n",
      "| 2019-06-03 00:00:00 | 1900081663 | CARD_CSOB     | S114        |         -1 |               0 |               3.2031  |   0         |             3.2031  | E-COMMER     | RUN.czC   | RUN.czO  | top4running.cz  | 2019-06-03 09:17:00 | Sleva                                  | unspecified      |         -1 | no_manufacturer  |         999 | Other     |           0 | unspecified     |           0 | unspecified             | unspecified | unspecified | unspecified | unspecified | unspecified | cz        |\n",
      "| 2019-06-03 00:00:00 | 1900081481 | COD           | S114        |         -1 |               0 |               3.2031  |   0         |             3.2031  | E-COMMER     | RUN.czC   | RUN.czO  | top4running.cz  | 2019-06-03 09:16:00 | Sleva                                  | unspecified      |         -1 | no_manufacturer  |         999 | Other     |           0 | unspecified     |           0 | unspecified             | unspecified | unspecified | unspecified | unspecified | unspecified | cz        |\n",
      "| 2019-06-03 00:00:00 | 1900081561 | CARD_CSOB     | ZB00001005  |          1 |               0 |              23.0314  |  12.4031    |            25.5942  | E-COMMER     | RUN.czC   | RUN.czO  | top4running.cz  | 2019-06-03 09:17:00 | Fly By Graphic Waistband Short         | 1331828-001      |        106 | Under Armour     |         200 | Apparel   |         240 | Pants           |         242 | Shorts                  | running     | women       | adults      | Black       | M           | cz        |\n",
      "| 2019-06-03 00:00:00 | 1900081481 | COD           | ZB00010516  |          1 |               0 |              63.4248  |  52.6318    |           105.676   | E-COMMER     | RUN.czC   | RUN.czO  | top4running.cz  | 2019-06-03 09:16:00 | W NIKE AIR ZOOM PEGASUS 35 PRM         | ah8392-400       |         84 | Nike             |         100 | Footwear  |         120 | Running shoes   |           0 | unspecified             | running     | women       | adults      | Blue        | 38          | cz        |\n",
      "| 2019-06-03 00:00:00 | 1900081697 | CARD_CSOB     | ZB00006740  |          1 |               0 |              18.0023  |  12.0795    |            23.9926  | E-COMMER     | RUN.czC   | RUN.czO  | top4running.cz  | 2019-06-03 10:44:00 | Under Armour New Play Up Short         | 1292231-002      |        106 | Under Armour     |         200 | Apparel   |         240 | Pants           |         242 | Shorts                  | fitness     | women       | adults      | Black       | S           | cz        |\n",
      "| 2019-06-03 00:00:00 | 1900081697 | CARD_CSOB     | ZB00000273  |          1 |               0 |              28.7977  |  18.6047    |            38.4074  | E-COMMER     | RUN.czC   | RUN.czO  | top4running.cz  | 2019-06-03 10:44:00 | UA VANISH Mid Bra                      | 1311811-003      |        106 | Under Armour     |         200 | Apparel   |         285 | Bras            |           0 | unspecified             | fitness     | women       | adults      | Black       | S/M         | cz        |\n",
      "| 2019-06-03 00:00:00 | 1900081645 | CARD_CSOB     | ZB00012240  |          1 |               0 |             132.584   | 102.65      |           220.994   | E-COMMER     | FTB.czC   | FTB.czO  | 11teamsports.cz | 2019-06-03 11:57:00 | SUPERFLY 6 ELITE FG                    | ah7365-077       |         84 | Nike             |         100 | Footwear  |         110 | Football shoes  |           0 | unspecified             | football    | men         | adults      | Black       | 44          | cz        |\n",
      "| 2019-06-03 00:00:00 | 1900081561 | CARD_CSOB     | ZB00009619  |          1 |               0 |              22.1988  |   9.88605   |            28.7977  | E-COMMER     | RUN.czC   | RUN.czO  | top4running.cz  | 2019-06-03 09:17:00 | M NP TOP LS COMP                       | 838077-010       |         84 | Nike             |         200 | Apparel   |         230 | T-Shirts        |         233 | Longsleeved (LS) shirts | football    | men         | adults      | Black       | S           | cz        |\n",
      "| 2019-06-03 00:00:00 | 1900081697 | CARD_CSOB     | ZB00023763  |          1 |               0 |               8.39264 |   7.44767   |            11.1795  | E-COMMER     | RUN.czC   | RUN.czO  | top4running.cz  | 2019-06-03 10:44:00 | UA Heatgear Tech Low Cut               | 1312430-100      |        106 | Under Armour     |         200 | Apparel   |         290 | Socks           |           0 | unspecified             | fitness     | unisex      | adults      | White       | M           | cz        |\n",
      "| 2019-06-03 00:00:00 | 1900081551 | COD           | S114        |         -1 |               0 |               3.2031  |   0         |             3.2031  | E-COMMER     | FTB.czC   | FTB.czO  | 11teamsports.cz | 2019-06-03 09:17:00 | Sleva                                  | unspecified      |         -1 | no_manufacturer  |         999 | Other     |           0 | unspecified     |           0 | unspecified             | unspecified | unspecified | unspecified | unspecified | unspecified | cz        |\n",
      "| 2019-06-03 00:00:00 | 1900081481 | COD           | S113        |          1 |               0 |               0.92907 |   0         |             0.92907 | E-COMMER     | RUN.czC   | RUN.czO  | top4running.cz  | 2019-06-03 09:16:00 | Platba                                 | unspecified      |         -1 | no_manufacturer  |         999 | Other     |           0 | unspecified     |           0 | unspecified             | unspecified | unspecified | unspecified | unspecified | unspecified | cz        |\n",
      "| 2019-06-03 00:00:00 | 1900081728 | PAYPAL        | ZB00023252  |          1 |               0 |              41.6975  |  42.7178    |            82.6945  | E-COMMER     | RUN.comC  | RUN.comO | top4running.com | 2019-06-03 08:01:00 | NIKE AIR SAFARI                        | 371740-012       |         84 | Nike             |         100 | Footwear  |         199 | Other Footwear  |           0 | unspecified             | lifestyle   | men         | adults      | Silver      | 42,5        | com       |\n",
      "| 2019-06-03 00:00:00 | 1900081697 | CARD_CSOB     | S114        |         -1 |               0 |               3.2031  |   0         |             3.2031  | E-COMMER     | RUN.czC   | RUN.czO  | top4running.cz  | 2019-06-03 10:44:00 | Sleva                                  | unspecified      |         -1 | no_manufacturer  |         999 | Other     |           0 | unspecified     |           0 | unspecified             | unspecified | unspecified | unspecified | unspecified | unspecified | cz        |\n",
      "| 2019-06-03 00:00:00 | 1900081697 | CARD_CSOB     | ZB00011073  |          1 |               0 |              19.1876  |  12.4031    |            25.5942  | E-COMMER     | RUN.czC   | RUN.czO  | top4running.cz  | 2019-06-03 10:44:00 | UA HG Armour SS                        | 1328964-001      |        106 | Under Armour     |         200 | Apparel   |         230 | T-Shirts        |           0 | unspecified             | fitness     | women       | adults      | Black       | S/M         | cz        |\n",
      "| 2019-06-03 00:00:00 | 1900081561 | CARD_CSOB     | S114        |         -1 |               0 |               3.2031  |   0         |             3.2031  | E-COMMER     | RUN.czC   | RUN.czO  | top4running.cz  | 2019-06-03 09:17:00 | Sleva                                  | unspecified      |         -1 | no_manufacturer  |         999 | Other     |           0 | unspecified     |           0 | unspecified             | unspecified | unspecified | unspecified | unspecified | unspecified | cz        |\n",
      "| 2019-06-03 00:00:00 | 1900081561 | CARD_CSOB     | S101        |          1 |               0 |               2.21008 |   0         |             2.21008 | E-COMMER     | RUN.czC   | RUN.czO  | top4running.cz  | 2019-06-03 09:17:00 | Dopravné                               | unspecified      |         -1 | no_manufacturer  |         999 | Other     |           0 | unspecified     |           0 | unspecified             | unspecified | unspecified | unspecified | unspecified | unspecified | cz        |\n",
      "| 2019-06-03 00:00:00 | 1900081697 | CARD_CSOB     | ZB00000699  |          1 |               0 |              26.395   |  19.1814    |            35.2039  | E-COMMER     | RUN.czC   | RUN.czO  | top4running.cz  | 2019-06-03 10:44:00 | Fly By Mini 2-in-1                     | 1328163-001      |        106 | Under Armour     |         200 | Apparel   |         240 | Pants           |         242 | Shorts                  | running     | women       | adults      | Black       | S/M         | cz        |\n",
      "| 2019-06-03 00:00:00 | 1900081697 | CARD_CSOB     | ZB00021901  |          1 |               0 |              26.395   |  17.0543    |            35.2039  | E-COMMER     | RUN.czC   | RUN.czO  | top4running.cz  | 2019-06-03 10:44:00 | Crossback Graphic                      | 1317111-001      |        106 | Under Armour     |         200 | Apparel   |         285 | Bras            |           0 | unspecified             | running     | women       | adults      | Black       | S/M         | cz        |\n",
      "| 2019-06-03 00:00:00 | 1900081856 | COD           | ZB00026563  |          1 |               0 |              54.2057  |  26.7516    |            54.2057  | E-COMMER     | FTB.skC   | FTB.skO  | 11teamsports.sk | 2019-06-03 09:23:00 | LEGEND 7 ACADEMY FG                    | ah7242-118       |         84 | Nike             |         100 | Footwear  |         110 | Football shoes  |           0 | unspecified             | football    | men         | adults      | White       | 39          | sk        |\n",
      "| 2019-06-03 00:00:00 | 1900081481 | COD           | S101        |          1 |               0 |               1.56977 |   0         |             1.56977 | E-COMMER     | RUN.czC   | RUN.czO  | top4running.cz  | 2019-06-03 09:16:00 | Dopravné                               | unspecified      |         -1 | no_manufacturer  |         999 | Other     |           0 | unspecified     |           0 | unspecified             | unspecified | unspecified | unspecified | unspecified | unspecified | cz        |\n",
      "| 2019-06-04 00:00:00 | 1900080515 | CARD_CSOB     | ZB00000385  |          1 |               0 |              11.1795  |   8.12326   |            15.9845  | E-COMMER     | FTB.czC   | FTB.czO  | 11teamsports.cz | 2019-06-04 15:31:00 | NK HERITAGE HIP PACK                   | ba5750-605       |         84 | Nike             |         300 | Equipment |         305 | Bags            |           0 | unspecified             | football    | unisex      | adults      | Pink        | ks          | cz        |\n",
      "| 2019-06-04 00:00:00 | 1900080514 | COD           | ZB00007916  |          1 |               0 |              17.2245  |  12.6612    |            22.9069  | E-COMMER     | FTB.roC   | FTB.roO  | 11teamsports.ro | 2019-06-04 15:31:00 | RC FEF TEE- SPEEDWICK                  | dt2772           |         88 | Reebok           |         200 | Apparel   |         230 | T-Shirts        |           0 | unspecified             | fitness     | men         | adults      | Black       | M           | ro        |\n",
      "| 2019-06-04 00:00:00 | 1900080514 | COD           | S101        |          1 |               0 |               2.66472 |   0         |             2.86822 | E-COMMER     | FTB.roC   | FTB.roO  | 11teamsports.ro | 2019-06-04 15:31:00 | Dopravné                               | unspecified      |         -1 | no_manufacturer  |         999 | Other     |           0 | unspecified     |           0 | unspecified             | unspecified | unspecified | unspecified | unspecified | unspecified | ro        |\n",
      "| 2019-06-04 00:00:00 | 1900080516 | COD           | S101        |          1 |               0 |               2.66472 |   0         |             2.86822 | E-COMMER     | FTB.roC   | FTB.roO  | 11teamsports.ro | 2019-06-04 15:31:00 | Dopravné                               | unspecified      |         -1 | no_manufacturer  |         999 | Other     |           0 | unspecified     |           0 | unspecified             | unspecified | unspecified | unspecified | unspecified | unspecified | ro        |\n",
      "| 2019-06-04 00:00:00 | 1900080516 | COD           | ZB00010633  |          1 |               0 |              15.0944  |  10.8527    |            21.4868  | E-COMMER     | FTB.roC   | FTB.roO  | 11teamsports.ro | 2019-06-04 15:31:00 | UA SPORTSTYLE LC SS                    | 1326799-289      |        106 | Under Armour     |         200 | Apparel   |         230 | T-Shirts        |           0 | unspecified             | football    | men         | adults      | Brown       | M           | ro        |\n",
      "| 2019-06-04 00:00:00 | 1900080518 | COD           | ZB00023141  |          1 |               0 |              37.2868  |  35.0814    |            62.1527  | E-COMMER     | FTB.huC   | FTB.huO  | 11teamsports.hu | 2019-06-04 15:32:00 | WL420                                  | wl420npn         |        123 | New Balance      |         100 | Footwear  |         199 | Other Footwear  |           0 | unspecified             | lifestyle   | women       | adults      | Blue        | 37,5        | hu        |\n",
      "| 2019-06-04 00:00:00 | 1900080518 | COD           | S101        |          1 |               0 |               2.4111  |   0         |             2.86822 | E-COMMER     | FTB.huC   | FTB.huO  | 11teamsports.hu | 2019-06-04 15:32:00 | Dopravné                               | unspecified      |         -1 | no_manufacturer  |         999 | Other     |           0 | unspecified     |           0 | unspecified             | unspecified | unspecified | unspecified | unspecified | unspecified | hu        |\n",
      "| 2019-06-04 00:00:00 | 1900080519 | COD           | ZB00004599  |          1 |               0 |              55.1873  |  37.7519    |            68.972   | E-COMMER     | FTB.huC   | FTB.huO  | 11teamsports.hu | 2019-06-04 15:32:00 | NEMEZIZ 193 LL FG                      | f99997           |         85 | adidas           |         100 | Footwear  |         110 | Football shoes  |           0 | unspecified             | football    | men         | adults      | Red         | 43,3        | hu        |\n",
      "| 2019-06-04 00:00:00 | 1900080515 | CARD_CSOB     | S101        |          1 |               0 |               1.56977 |   0         |             2.86822 | E-COMMER     | FTB.czC   | FTB.czO  | 11teamsports.cz | 2019-06-04 15:31:00 | Dopravné                               | unspecified      |         -1 | no_manufacturer  |         999 | Other     |           0 | unspecified     |           0 | unspecified             | unspecified | unspecified | unspecified | unspecified | unspecified | cz        |\n",
      "| 2019-06-04 00:00:00 | 1900080511 | COD           | ZB00019767  |          1 |               0 |              59.4494  |  55.2353    |            99.0742  | E-COMMER     | RUN.huC   | RUN.huO  | top4running.hu  | 2019-06-04 15:31:00 | W NIKE AIR ZOOM PEGASUS 35 PRM         | ah8392-100       |         84 | Nike             |         100 | Footwear  |         120 | Running shoes   |           0 | unspecified             | running     | women       | adults      | White       | 40,5        | hu        |\n",
      "| 2019-06-04 00:00:00 | 1900081808 | COD           | ZB00014749  |          1 |               0 |             127.678   |  87.2229    |           150.053   | E-COMMER     | FTB.roC   | FTB.roO  | 11teamsports.ro | 2019-06-04 18:34:00 | AIR VAPORMAX 2019                      | ar6631-004       |         84 | Nike             |         100 | Footwear  |         199 | Other Footwear  |           0 | unspecified             | football    | men         | adults      | Black       | 41          | ro        |\n",
      "+---------------------+------------+---------------+-------------+------------+-----------------+-----------------------+-------------+---------------------+--------------+-----------+----------+-----------------+---------------------+----------------------------------------+------------------+------------+------------------+-------------+-----------+-------------+-----------------+-------------+-------------------------+-------------+-------------+-------------+-------------+-------------+-----------+\n"
     ]
    }
   ],
   "source": [
    "dc.print_df_with_dtypes(df_FE, max_rows=200, print_on=True, data_generated_path=DATA_GENERATED_PATH, name_extension='EDA_FE')"
   ]
  },
  {
   "cell_type": "code",
   "execution_count": 17,
   "metadata": {},
   "outputs": [],
   "source": [
    "# # save to csv, continue EDA in Tableau\n",
    "# df_FE.to_csv(DATA_GENERATED_PATH + 'df_FE.csv')"
   ]
  },
  {
   "cell_type": "markdown",
   "metadata": {},
   "source": [
    "## Moon Phases\n",
    "\n",
    "\n",
    "\n"
   ]
  },
  {
   "cell_type": "code",
   "execution_count": 19,
   "metadata": {},
   "outputs": [
    {
     "name": "stdout",
     "output_type": "stream",
     "text": [
      "+---------------------+-------------+\n",
      "| date                |   moonphase |\n",
      "|                     |     float64 |\n",
      "|                     |      NaN: 0 |\n",
      "|---------------------+-------------|\n",
      "| 2021-12-16 00:00:00 |        0.41 |\n",
      "| 2021-12-17 00:00:00 |        0.44 |\n",
      "| 2021-12-18 00:00:00 |        0.48 |\n",
      "| 2021-12-19 00:00:00 |        0.5  |\n",
      "| 2021-12-20 00:00:00 |        0.54 |\n",
      "| 2021-12-21 00:00:00 |        0.58 |\n",
      "| 2021-12-22 00:00:00 |        0.61 |\n",
      "| 2021-12-23 00:00:00 |        0.65 |\n",
      "| 2021-12-24 00:00:00 |        0.68 |\n",
      "| 2021-12-25 00:00:00 |        0.71 |\n",
      "| 2021-12-26 00:00:00 |        0.75 |\n",
      "| 2021-12-27 00:00:00 |        0.75 |\n",
      "| 2021-12-28 00:00:00 |        0.82 |\n",
      "| 2021-12-29 00:00:00 |        0.85 |\n",
      "| 2021-12-30 00:00:00 |        0.89 |\n",
      "| 2021-12-31 00:00:00 |        0.92 |\n",
      "| 2022-01-01 00:00:00 |        0.95 |\n",
      "| 2022-01-02 00:00:00 |        0    |\n",
      "| 2022-01-03 00:00:00 |        0.02 |\n",
      "| 2022-01-04 00:00:00 |        0.06 |\n",
      "+---------------------+-------------+\n"
     ]
    }
   ],
   "source": [
    "# read from the csv file data/Prague 2019-06-01 to 2022-01-14.csv\n",
    "\n",
    "weather_Prague = pd.read_csv(DATA_ORIGINAL_PATH + 'Prague 2019-06-01 to 2022-01-14.csv')\n",
    "\n",
    "# weather_Prague.datetime from object to datetime, the object format is 2019-06-01 \n",
    "weather_Prague['datetime'] = pd.to_datetime(weather_Prague['datetime'])\n",
    "\n",
    "# rename the column datetime to date, and set the index to date\n",
    "weather_Prague.rename(columns={'datetime': 'date'}, inplace=True)\n",
    "weather_Prague = weather_Prague.set_index('date')\n",
    "\n",
    "# print weather_Prague\n",
    "dc.print_df_with_dtypes(weather_Prague[['moonphase']].tail(30), max_rows=20, print_on=True, data_generated_path=DATA_GENERATED_PATH, name_extension='EDA_weather_Prague')\n"
   ]
  },
  {
   "cell_type": "code",
   "execution_count": 20,
   "metadata": {},
   "outputs": [
    {
     "name": "stdout",
     "output_type": "stream",
     "text": [
      "+---------------------+-------------+\n",
      "| date                |   moonphase |\n",
      "|                     |     float64 |\n",
      "|                     |      NaN: 0 |\n",
      "|---------------------+-------------|\n",
      "| 2024-12-02 00:00:00 |        0.04 |\n",
      "| 2024-12-03 00:00:00 |        0.08 |\n",
      "| 2024-12-04 00:00:00 |        0.11 |\n",
      "| 2024-12-05 00:00:00 |        0.15 |\n",
      "| 2024-12-06 00:00:00 |        0.18 |\n",
      "| 2024-12-07 00:00:00 |        0.22 |\n",
      "| 2024-12-08 00:00:00 |        0.25 |\n",
      "| 2024-12-09 00:00:00 |        0.29 |\n",
      "| 2024-12-10 00:00:00 |        0.33 |\n",
      "| 2024-12-11 00:00:00 |        0.36 |\n",
      "| 2024-12-12 00:00:00 |        0.4  |\n",
      "| 2024-12-13 00:00:00 |        0.43 |\n",
      "| 2024-12-14 00:00:00 |        0.47 |\n",
      "| 2024-12-15 00:00:00 |        0.5  |\n",
      "| 2024-12-16 00:00:00 |        0.53 |\n",
      "| 2024-12-17 00:00:00 |        0.57 |\n",
      "| 2024-12-18 00:00:00 |        0.6  |\n",
      "| 2024-12-19 00:00:00 |        0.63 |\n",
      "| 2024-12-20 00:00:00 |        0.66 |\n",
      "| 2024-12-21 00:00:00 |        0.7  |\n",
      "+---------------------+-------------+\n"
     ]
    }
   ],
   "source": [
    "\n",
    "\n",
    "# read moonphase_future from data/prague 2022-01-01 to 2024-12-31.csv\n",
    "moonphase_future = pd.read_csv(DATA_ORIGINAL_PATH + 'prague 2022-01-01 to 2024-12-31.csv')\n",
    "\n",
    "# conver the moonphase_future.datetime from timestemp to datetime\n",
    "# rename the column datetimeEpoch to datetime\n",
    "moonphase_future = moonphase_future.rename(columns={'datetimeEpoch': 'datetime'})\n",
    "moonphase_future['datetime'] = pd.to_datetime(moonphase_future['datetime'], unit='s')\n",
    "moonphase_future['datetime'] = moonphase_future['datetime'] + pd.Timedelta(hours=1)\n",
    "\n",
    "# rename the column datetime to date, and set the index to date\n",
    "moonphase_future.rename(columns={'datetime': 'date'}, inplace=True)\n",
    "moonphase_future = moonphase_future.set_index('date')\n",
    "\n",
    "# print weather_Prague\n",
    "dc.print_df_with_dtypes(moonphase_future[['moonphase']].tail(30), max_rows=20, print_on=True, data_generated_path=DATA_GENERATED_PATH, name_extension='EDA_moonphase_future')\n",
    "\n"
   ]
  },
  {
   "attachments": {},
   "cell_type": "markdown",
   "metadata": {},
   "source": [
    "The t-statistic of -3.342 indicates that the 'quantity' variable's mean for one moon phase group is lower than the other. The p-value of 0.00083 suggests that there is a significant difference between the means, allowing us to reject the null hypothesis."
   ]
  },
  {
   "attachments": {},
   "cell_type": "markdown",
   "metadata": {},
   "source": [
    "### Hypotheses\n",
    "\n",
    "1. **Group Differences:** Test if the `group_other` is different from each of the other groups (group_a, group_b, group_c, group_d, and group_e).\n",
    "\n",
    "2. **Paired Group Differences:** Test if the difference between the following pairs of groups is not important:\n",
    "    - group_a and group_b\n",
    "    - group_b and group_c\n",
    "    - group_c and group_d\n",
    "    - group_e and group_a\n",
    "\n",
    "3. **Mean Comparison:** Test if the mean of group_a, group_b, group_c, group_d, and group_e is much larger than the mean of `group_other`.\n",
    "\n",
    "4. **Sum Comparison:** Test if the sum of the quantities from group_a, group_b, group_c, group_d, and group_e is much larger than the sum of the quantities from `group_other`.\n"
   ]
  },
  {
   "attachments": {},
   "cell_type": "markdown",
   "metadata": {},
   "source": [
    "In the given context, we aim to investigate the potential impact of moon phases on the daily sales quantity of a product. By carrying out these tests, we can gain insights into whether there is a statistically significant relationship between different moon phases and sales performance. This information can be valuable for understanding customer behavior and could potentially help with decision-making in areas such as marketing campaigns, pricing, and inventory management.\n",
    "\n",
    "Specifically, we want to examine:\n",
    "\n",
    "- If the sales quantity during specific moon phases (0, 0.25, 0.5, 0.75, and 1.0) is significantly different from the sales quantity during other moon phases.\n",
    "- If there is a significant difference in sales quantity between specific moon phase pairs (e.g., full moon vs. new moon, first quarter vs. last quarter, etc.).\n",
    "- If the mean sales quantity during the specific moon phases (0, 0.25, 0.5, 0.75, and 1.0) is much larger than the mean sales quantity during other moon phases.\n",
    "- If the sum of sales quantity during the specific moon phases (0, 0.25, 0.5, 0.75, and 1.0) is much larger than the sum of sales quantity during other moon phases.\n",
    "\n",
    "By conducting these hypothesis tests, we can determine if there is any evidence to support the idea that moon phases influence the daily sales quantity. If significant differences are found, this could provide a basis for further investigation and potentially inform business strategies that take into account the effects of moon phases on sales.\n"
   ]
  },
  {
   "attachments": {},
   "cell_type": "markdown",
   "metadata": {},
   "source": [
    "| Group   | Moon Phase   | Description                                                                                               |\n",
    "|---------|--------------|-----------------------------------------------------------------------------------------------------------|\n",
    "| Group_0 | Other values | Contains all observations with moon phase values not equal to 0, 0.25, 0.5, 0.75, or 1.                    |\n",
    "| Group_1 | 0            | Contains all observations with moon phase values close to 0 (New Moon).                                   |\n",
    "| Group_2 | 0.25         | Contains all observations with moon phase values close to 0.25 (First Quarter / Waxing Half Moon).        |\n",
    "| Group_3 | 0.5          | Contains all observations with moon phase values close to 0.5 (Full Moon).                                |\n",
    "| Group_4 | 0.75         | Contains all observations with moon phase values close to 0.75 (Last Quarter / Waning Half Moon).         |\n",
    "| Group_5 | 1            | Contains all observations with moon phase values close to 1 (New Moon, same as Group_1 but a different set). |\n"
   ]
  },
  {
   "cell_type": "code",
   "execution_count": 21,
   "metadata": {},
   "outputs": [
    {
     "name": "stdout",
     "output_type": "stream",
     "text": [
      "+-----------+-----------+---------------+-------------+\n",
      "| Group A   | Group B   |   t-statistic |     p-value |\n",
      "+===========+===========+===============+=============+\n",
      "| Group_1   | Group_2   |      2.76067  | 0.00576904  |\n",
      "+-----------+-----------+---------------+-------------+\n",
      "| Group_1   | Group_3   |     10.7539   | 5.79286e-27 |\n",
      "+-----------+-----------+---------------+-------------+\n",
      "| Group_1   | Group_4   |      2.17868  | 0.0293571   |\n",
      "+-----------+-----------+---------------+-------------+\n",
      "| Group_1   | Group_5   |     -2.79066  | 0.00526435  |\n",
      "+-----------+-----------+---------------+-------------+\n",
      "| Group_2   | Group_3   |     10.4534   | 1.43283e-25 |\n",
      "+-----------+-----------+---------------+-------------+\n",
      "| Group_2   | Group_4   |     -0.714977 | 0.474624    |\n",
      "+-----------+-----------+---------------+-------------+\n",
      "| Group_2   | Group_5   |     -4.44735  | 8.74534e-06 |\n",
      "+-----------+-----------+---------------+-------------+\n",
      "| Group_3   | Group_4   |    -10.8633   | 1.75241e-27 |\n",
      "+-----------+-----------+---------------+-------------+\n",
      "| Group_3   | Group_5   |     -8.96272  | 3.44409e-19 |\n",
      "+-----------+-----------+---------------+-------------+\n",
      "| Group_4   | Group_5   |     -4.13428  | 3.57635e-05 |\n",
      "+-----------+-----------+---------------+-------------+\n",
      "| Group_0   | Group_1   |     -2.42114  | 0.0154739   |\n",
      "+-----------+-----------+---------------+-------------+\n",
      "| Group_0   | Group_2   |      1.20363  | 0.228734    |\n",
      "+-----------+-----------+---------------+-------------+\n",
      "| Group_0   | Group_3   |     14.0198   | 1.27578e-44 |\n",
      "+-----------+-----------+---------------+-------------+\n",
      "| Group_0   | Group_4   |      0.201055 | 0.840656    |\n",
      "+-----------+-----------+---------------+-------------+\n",
      "| Group_0   | Group_5   |     -4.24674  | 2.18153e-05 |\n",
      "+-----------+-----------+---------------+-------------+\n"
     ]
    }
   ],
   "source": [
    "# import ttest_ind\n",
    "from scipy.stats import ttest_ind\n",
    "import numpy as np\n",
    "\n",
    "from tabulate import tabulate\n",
    "\n",
    "def moonphase_ttest_v2(df_FE, weather_Prague, moonphase_values=[0, 0.25, 0.5, 0.75, 1.0], tolerance=2.5e-2):\n",
    "    # Set the datetime column as the index in weather_Prague\n",
    "    # weather_Prague = weather_Prague.set_index('date')\n",
    "    \n",
    "    # Merge moonphase data to df_FE\n",
    "    df_FE = df_FE.merge(weather_Prague[['moonphase']], left_index=True, right_index=True, how='left')\n",
    "\n",
    "    # Create a mask for specific moon phase values\n",
    "    specific_moonphase_mask = np.zeros(df_FE.shape[0], dtype=bool)\n",
    "    for value in moonphase_values:\n",
    "        specific_moonphase_mask |= np.isclose(df_FE['moonphase'], value, atol=tolerance)\n",
    "\n",
    "    # Create groups based on moon phase values\n",
    "    groups = {i: df_FE[np.isclose(df_FE['moonphase'], value, atol=tolerance)] for i, value in enumerate(moonphase_values, 1)}\n",
    "    groups[0] = df_FE[~specific_moonphase_mask]\n",
    "    \n",
    "    # Compare the means of all pairs of groups and display the results in a table\n",
    "    comparisons = []\n",
    "    for i, group_i in groups.items():\n",
    "        for j, group_j in groups.items():\n",
    "            if i < j:\n",
    "                t_statistic, p_value = ttest_ind(\n",
    "                    group_i['quantity'],\n",
    "                    group_j['quantity'],\n",
    "                    equal_var=False,\n",
    "                    nan_policy='omit'\n",
    "                )\n",
    "                comparisons.append([f\"Group_{i}\", f\"Group_{j}\", t_statistic, p_value])\n",
    "    \n",
    "    print(tabulate(comparisons, headers=[\"Group A\", \"Group B\", \"t-statistic\", \"p-value\"], tablefmt=\"grid\"))\n",
    "\n",
    "    # write the result to a txt file, in tabulate format\n",
    "    with open(DATA_GENERATED_PATH + 'moonphase_test_v2.txt', 'w') as f:\n",
    "        f.write(tabulate(comparisons, headers=[\"Group A\", \"Group B\", \"t-statistic\", \"p-value\"], tablefmt=\"grid\"))\n",
    "        \n",
    "\n",
    "# Example usage\n",
    "moonphase_ttest_v2(df_FE, weather_Prague)\n"
   ]
  },
  {
   "attachments": {},
   "cell_type": "markdown",
   "metadata": {},
   "source": [
    "## Using Week of the Month as Proxy Variables\n",
    "\n",
    "When working with weather data, one approach to simplifying the analysis is to use the week of the month as proxy variables. This means aggregating the data by week, allowing us to analyze the differences in weather patterns and identify any significant changes over time. However, it's important to carefully consider the implications of this approach, as it may not fully capture the nuances of the actual weather conditions.\n",
    "\n",
    "### Hypothesis Testing\n",
    "\n",
    "To test the validity of using the week of the month as proxy variables, we can perform a Kruskal-Wallis test for numerical features and a Chi-square test for categorical features. These tests help us determine whether the means (or distributions, in the case of categorical variables) are significantly different across different weeks of the month.\n",
    "\n",
    "We can set up the null hypothesis (H0) as follows:\n",
    "\n",
    "- H0: There is no significant difference in means (or distributions) of the weather features across different weeks of the month.\n",
    "\n",
    "If the p-value obtained from the test is greater than the significance level (alpha), typically set to 0.05, we fail to reject the null hypothesis, suggesting that there is no significant difference in the means (or distributions) of the weather features across different weeks of the month.\n",
    "\n",
    "### Results and Interpretation\n",
    "\n",
    "After performing the hypothesis tests, we can calculate the proportion of weeks with no significant difference in means (or distributions) for each weather feature. Features with a proportion greater than the significance level (e.g., 0.05) can be considered as suitable proxy variables for weather data. However, it's important to note that this is a simplification and may not perfectly represent the actual weather conditions.\n",
    "\n",
    "Based on the test results, we can decide which features to keep in our analysis and which ones to drop due to their low proportion values (less than or equal to 0.05). This process can help us create a simplified dataset that maintains relevant information while reducing complexity.\n",
    "\n"
   ]
  },
  {
   "cell_type": "code",
   "execution_count": 22,
   "metadata": {},
   "outputs": [
    {
     "name": "stdout",
     "output_type": "stream",
     "text": [
      "+---------------------+----------+-----------+--------------------------------------------+------------+-------------+-----------+-----------+-----------+----------------+----------------+-------------+-----------+------------+-----------+--------------+---------------+--------------+-----------+-------------+------------+-------------+-----------+--------------------+--------------+--------------+------------------+---------------+-----------+--------------+---------------------+---------------------+-------------+------------------+--------------------------------------+-------------------+----------+\n",
      "| date                | name     | address   | resolvedAddress                            |   latitude |   longitude |   tempmax |   tempmin |      temp |   feelslikemax |   feelslikemin |   feelslike |       dew |   humidity |    precip |   precipprob |   precipcover |   preciptype |      snow |   snowdepth |   windgust |   windspeed |   winddir |   sealevelpressure |   cloudcover |   visibility |   solarradiation |   solarenergy |   uvindex |   severerisk | sunrise             | sunset              |   moonphase | conditions       | description                          | icon              | source   |\n",
      "|                     | object   | object    | object                                     |    float64 |     float64 |   float64 |   float64 |   float64 |        float64 |        float64 |     float64 |   float64 |    float64 |   float64 |        int64 |       float64 |       object |   float64 |     float64 |    float64 |     float64 |   float64 |            float64 |      float64 |      float64 |          float64 |       float64 |     int64 |      float64 | object              | object              |     float64 | object           | object                               | object            | object   |\n",
      "|                     | NaN: 0   | NaN: 0    | NaN: 0                                     |     NaN: 0 |      NaN: 0 |    NaN: 0 |    NaN: 0 |    NaN: 0 |         NaN: 0 |         NaN: 0 |      NaN: 0 |    NaN: 0 |     NaN: 0 |    NaN: 0 |       NaN: 0 |        NaN: 0 |       NaN: 5 |    NaN: 0 |      NaN: 0 |     NaN: 5 |      NaN: 0 |    NaN: 0 |             NaN: 0 |       NaN: 0 |       NaN: 0 |           NaN: 0 |        NaN: 0 |    NaN: 0 |       NaN: 5 | NaN: 0              | NaN: 0              |      NaN: 0 | NaN: 0           | NaN: 0                               | NaN: 0            | NaN: 0   |\n",
      "|---------------------+----------+-----------+--------------------------------------------+------------+-------------+-----------+-----------+-----------+----------------+----------------+-------------+-----------+------------+-----------+--------------+---------------+--------------+-----------+-------------+------------+-------------+-----------+--------------------+--------------+--------------+------------------+---------------+-----------+--------------+---------------------+---------------------+-------------+------------------+--------------------------------------+-------------------+----------|\n",
      "| 2019-06-01 00:00:00 | Prague   | Prague    | Praha, Hlavní město Praha, Česká Republika |     50.079 |      14.433 |      26.6 |      13.8 |      20.9 |           26.6 |           13.8 |        20.9 |      11.8 |       59.6 |         0 |            0 |             0 |          nan |         0 |           0 |        nan |        10.6 |     280.6 |             1022   |         52   |         40.9 |            311.2 |          26.8 |         9 |          nan | 2019-06-01T04:58:09 | 2019-06-01T21:02:36 |        0.94 | Partially cloudy | Partly cloudy throughout the day.    | partly-cloudy-day | obs      |\n",
      "| 2019-06-02 00:00:00 | Prague   | Prague    | Praha, Hlavní město Praha, Česká Republika |     50.079 |      14.433 |      28.5 |      14.2 |      22.3 |           27.8 |           14.2 |        22.1 |      12.4 |       56.6 |         0 |            0 |             0 |          nan |         0 |           0 |        nan |        11.4 |      96.4 |             1019   |         21.2 |         37.7 |            311.4 |          27   |         9 |          nan | 2019-06-02T04:57:25 | 2019-06-02T21:03:36 |        0.97 | Partially cloudy | Partly cloudy throughout the day.    | partly-cloudy-day | obs      |\n",
      "| 2019-06-03 00:00:00 | Prague   | Prague    | Praha, Hlavní město Praha, Česká Republika |     50.079 |      14.433 |      29.5 |      14.5 |      23.6 |           28.2 |           14.5 |        23.3 |      12   |       51.2 |         0 |            0 |             0 |          nan |         0 |           0 |        nan |        12.6 |     126.5 |             1015.8 |         11.6 |         41   |            313.4 |          27.1 |         9 |          nan | 2019-06-03T04:56:44 | 2019-06-03T21:04:35 |        0    | Clear            | Clear conditions throughout the day. | clear-day         | obs      |\n",
      "| 2019-06-04 00:00:00 | Prague   | Prague    | Praha, Hlavní město Praha, Česká Republika |     50.079 |      14.433 |      29.7 |      15.5 |      23.4 |           28.8 |           15.5 |        23.2 |      13.2 |       55.3 |         0 |            0 |             0 |          nan |         0 |           0 |        nan |        10.8 |       3.7 |             1012.8 |         21.8 |         32.5 |            304   |          26.4 |         9 |          nan | 2019-06-04T04:56:06 | 2019-06-04T21:05:31 |        0.04 | Partially cloudy | Partly cloudy throughout the day.    | partly-cloudy-day | obs      |\n",
      "| 2019-06-05 00:00:00 | Prague   | Prague    | Praha, Hlavní město Praha, Česká Republika |     50.079 |      14.433 |      30.8 |      15.7 |      24.2 |           29.6 |           15.7 |        23.9 |      13.8 |       55.6 |         0 |            0 |             0 |          nan |         0 |           0 |        nan |        21   |      78.9 |             1009.1 |         21.2 |         32.7 |            309.7 |          26.8 |         9 |          nan | 2019-06-05T04:55:31 | 2019-06-05T21:06:26 |        0.07 | Partially cloudy | Partly cloudy throughout the day.    | partly-cloudy-day | obs      |\n",
      "+---------------------+----------+-----------+--------------------------------------------+------------+-------------+-----------+-----------+-----------+----------------+----------------+-------------+-----------+------------+-----------+--------------+---------------+--------------+-----------+-------------+------------+-------------+-----------+--------------------+--------------+--------------+------------------+---------------+-----------+--------------+---------------------+---------------------+-------------+------------------+--------------------------------------+-------------------+----------+\n"
     ]
    }
   ],
   "source": [
    "dc.print_df_with_dtypes(weather_Prague.head(), max_rows=20, print_on=True, data_generated_path=DATA_GENERATED_PATH, name_extension='EDA_weather_Prague')"
   ]
  },
  {
   "cell_type": "code",
   "execution_count": 23,
   "metadata": {},
   "outputs": [],
   "source": [
    "weather_col = ['tempmax', 'tempmin', 'temp', 'feelslikemax', 'feelslikemin',\n",
    "       'feelslike', 'dew', 'humidity', 'precip', 'precipprob', 'precipcover',\n",
    "       'preciptype', 'snow', 'snowdepth', 'windgust', 'windspeed', 'winddir',\n",
    "       'sealevelpressure', 'cloudcover', 'visibility', 'solarradiation',\n",
    "       'solarenergy', 'uvindex', 'severerisk', 'sunrise', 'sunset',\n",
    "       'moonphase', 'conditions']"
   ]
  },
  {
   "cell_type": "code",
   "execution_count": 24,
   "metadata": {},
   "outputs": [
    {
     "name": "stdout",
     "output_type": "stream",
     "text": [
      "Proportion of weeks with no significant difference in means for each feature:\n",
      "Feature\n",
      "cloudcover          0.679245\n",
      "conditions          0.754717\n",
      "dew                 0.641509\n",
      "feelslike           0.490566\n",
      "feelslikemax        0.528302\n",
      "feelslikemin        0.584906\n",
      "humidity            0.641509\n",
      "moonphase           0.301887\n",
      "precip              0.773585\n",
      "precipcover         0.773585\n",
      "precipprob          0.735849\n",
      "preciptype          0.924528\n",
      "sealevelpressure    0.471698\n",
      "severerisk          0.000000\n",
      "snow                0.818182\n",
      "snowdepth           0.700000\n",
      "solarenergy         0.849057\n",
      "solarradiation      0.830189\n",
      "sunrise             0.000000\n",
      "sunset              0.000000\n",
      "temp                0.452830\n",
      "tempmax             0.528302\n",
      "tempmin             0.603774\n",
      "uvindex             0.867925\n",
      "visibility          0.622642\n",
      "winddir             0.811321\n",
      "windgust            0.000000\n",
      "windspeed           0.641509\n",
      "Name: no_significant_difference, dtype: float64\n"
     ]
    }
   ],
   "source": [
    "import pandas as pd\n",
    "from scipy.stats import kruskal, chi2_contingency\n",
    "\n",
    "# List the categorical features\n",
    "categorical_features = ['preciptype', 'conditions']\n",
    "\n",
    "# Define the function to perform the Kruskal-Wallis and Chi-square tests\n",
    "def kruskal_wallis_chi_square_test(weather_data, weeks_range=(1, 53), features=weather_col):\n",
    "    weather_data.index = pd.to_datetime(weather_data.index)\n",
    "    weather_data['week_of_year'] = weather_data.index.isocalendar().week\n",
    "    weather_data['year'] = weather_data.index.year\n",
    "\n",
    "    results = []\n",
    "\n",
    "    for week in range(weeks_range[0], weeks_range[1] + 1):\n",
    "        for feature in features:\n",
    "            data_by_week = weather_data[weather_data['week_of_year'] == week]\n",
    "            groups = data_by_week.groupby('year')[feature].apply(list)\n",
    "            \n",
    "            if len(groups) < 2:  # At least two groups are needed for the test\n",
    "                continue\n",
    "\n",
    "            if feature not in categorical_features:\n",
    "                # Skip the test if all values in the groups are identical\n",
    "                if all(len(set(group)) == 1 and group[0] == groups.iloc[0][0] for group in groups):\n",
    "                    continue\n",
    "                \n",
    "                # Perform Kruskal-Wallis test for numerical features\n",
    "                test_statistic, p_value = kruskal(*groups)\n",
    "            else:\n",
    "                # Create a contingency table for categorical features\n",
    "                contingency_table = pd.crosstab(data_by_week['year'], data_by_week[feature])\n",
    "\n",
    "                # Perform Chi-square test for categorical features\n",
    "                test_statistic, p_value, _, _ = chi2_contingency(contingency_table)\n",
    "\n",
    "            results.append((week, feature, test_statistic, p_value))\n",
    "\n",
    "    results_df = pd.DataFrame(results, columns=['Week', 'Feature', 'Test_statistic', 'p_value'])\n",
    "    return results_df\n",
    "\n",
    "# Run the Kruskal-Wallis and Chi-square tests\n",
    "results_df = kruskal_wallis_chi_square_test(weather_Prague)\n",
    "\n",
    "# Set a significance level (alpha)\n",
    "alpha = 0.05\n",
    "\n",
    "# Calculate the proportion of weeks with no significant difference for each feature\n",
    "results_df['no_significant_difference'] = results_df['p_value'] > alpha\n",
    "proportion_no_difference = results_df.groupby('Feature')['no_significant_difference'].mean()\n",
    "\n",
    "print(\"Proportion of weeks with no significant difference in means for each feature:\")\n",
    "print(proportion_no_difference)\n"
   ]
  },
  {
   "cell_type": "code",
   "execution_count": 25,
   "metadata": {},
   "outputs": [],
   "source": [
    "def save_results_to_file(proportion_no_difference, filename=DATA_GENERATED_PATH + 'kruskal_wallis_test_all.txt'):\n",
    "    with open(filename, 'w') as file:\n",
    "        file.write(\"Proportion of weeks with no significant difference in means for each feature:\\n\")\n",
    "        for feature, proportion in proportion_no_difference.items():\n",
    "            file.write(f\"{feature:<20}{proportion:.6f}\\n\")\n",
    "\n",
    "\n",
    "# Save the results to a file\n",
    "save_results_to_file(proportion_no_difference)"
   ]
  },
  {
   "attachments": {},
   "cell_type": "markdown",
   "metadata": {},
   "source": [
    "drop not useful columns from the weather_Prague, based on the hypothesis test results"
   ]
  },
  {
   "cell_type": "code",
   "execution_count": 26,
   "metadata": {},
   "outputs": [
    {
     "name": "stdout",
     "output_type": "stream",
     "text": [
      "Remaining columns in weather_Prague_simplified:\n",
      "Index(['name', 'address', 'resolvedAddress', 'latitude', 'longitude',\n",
      "       'tempmax', 'tempmin', 'temp', 'feelslikemax', 'feelslikemin',\n",
      "       'feelslike', 'dew', 'humidity', 'precip', 'precipprob', 'precipcover',\n",
      "       'preciptype', 'snow', 'snowdepth', 'windspeed', 'winddir',\n",
      "       'sealevelpressure', 'cloudcover', 'visibility', 'solarradiation',\n",
      "       'solarenergy', 'uvindex', 'moonphase', 'conditions', 'description',\n",
      "       'icon', 'source', 'week_of_year', 'year'],\n",
      "      dtype='object')\n"
     ]
    }
   ],
   "source": [
    "# Find the columns with proportion less than or equal to 0.05\n",
    "columns_to_drop = proportion_no_difference[proportion_no_difference <= 0.05].index.tolist()\n",
    "\n",
    "# Drop those columns from the weather_Prague DataFrame\n",
    "weather_Prague_simplified = weather_Prague.drop(columns_to_drop, axis=1)\n",
    "\n",
    "# Print the remaining columns\n",
    "print(\"Remaining columns in weather_Prague_simplified:\")\n",
    "print(weather_Prague_simplified.columns)\n"
   ]
  },
  {
   "cell_type": "code",
   "execution_count": 27,
   "metadata": {},
   "outputs": [],
   "source": [
    "# Feature Engineering"
   ]
  },
  {
   "cell_type": "code",
   "execution_count": 28,
   "metadata": {},
   "outputs": [
    {
     "name": "stdout",
     "output_type": "stream",
     "text": [
      "+---------------------+------------+------------+-------------+------------+-----------------+-----------------------+-------------+---------------------+--------------+-----------+----------+-----------------+---------------------+-----------------------+-------------+------------+-----------------+-------------+-----------+-------------+----------------+-------------+--------------------+-------------+-------------+-------------+-------------+-------------+-----------+\n",
      "| date                |   order_id | payment    | item_code   |   quantity |   gift_quantity |   unit_price_vat_excl |   unit_cogs |   unit_rrp_vat_excl | department   | channel   | owner    | site            | CreatedAt           | item_name             | style       |   brand_id | brand_name      |   group0_id | group0    |   group1_id | group1         |   group2_id | group2             | category    | gender      | age         | color       | size        | country   |\n",
      "|                     |     string | object     | object      |      int64 |           int64 |               float64 |     float64 |             float64 | object       | object    | object   | object          | datetime64[ns]      | object                | object      |     string | object          |      string | object    |      string | object         |      string | object             | object      | object      | object      | object      | object      | object    |\n",
      "|                     |     NaN: 0 | NaN: 0     | NaN: 0      |     NaN: 0 |          NaN: 0 |                NaN: 0 |      NaN: 0 |              NaN: 0 | NaN: 0       | NaN: 0    | NaN: 0   | NaN: 0          | NaN: 0              | NaN: 0                | NaN: 0      |     NaN: 0 | NaN: 0          |      NaN: 0 | NaN: 0    |      NaN: 0 | NaN: 0         |      NaN: 0 | NaN: 0             | NaN: 0      | NaN: 0      | NaN: 0      | NaN: 0      | NaN: 0      | NaN: 0    |\n",
      "|---------------------+------------+------------+-------------+------------+-----------------+-----------------------+-------------+---------------------+--------------+-----------+----------+-----------------+---------------------+-----------------------+-------------+------------+-----------------+-------------+-----------+-------------+----------------+-------------+--------------------+-------------+-------------+-------------+-------------+-------------+-----------|\n",
      "| 2019-06-01 00:00:00 | 1900079924 | CARD_CSOB  | ZB00023833  |          1 |               0 |              22.3267  |    15.5039  |            32.0008  | E-COMMER     | Sport.cC  | Sport.cO | top4sport.cz    | 2019-06-01 09:37:00 | MK1 Short 7in         | 1312292-001 |        106 | Under Armour    |         200 | Apparel   |         240 | Pants          |         242 | Shorts             | fitness     | men         | adults      | Black       | M           | cz        |\n",
      "| 2019-06-01 00:00:00 | 1900079006 | COD        | ZB00000154  |          1 |               0 |              10.3787  |     8.06938 |            15.9845  | E-COMMER     | RUN.czC   | RUN.czO  | top4running.cz  | 2019-06-01 06:26:00 | W NK RUN TOP SS       | 890353-100  |         84 | Nike            |         200 | Apparel   |         230 | T-Shirts       |           0 | unspecified        | running     | women       | adults      | White       | XS          | cz        |\n",
      "| 2019-06-01 00:00:00 | 1900079006 | COD        | ZB00007330  |          1 |               0 |              14.9593  |    10.7171  |            25.3058  | E-COMMER     | RUN.czC   | RUN.czO  | top4running.cz  | 2019-06-01 06:26:00 | W NK DRY MILER TOP SS | 932499-823  |         84 | Nike            |         200 | Apparel   |         230 | T-Shirts       |           0 | unspecified        | running     | women       | adults      | Pink        | XS          | cz        |\n",
      "| 2019-06-01 00:00:00 | 1900079006 | COD        | ZB00018948  |          1 |               0 |              25.5942  |    13.007   |            25.5942  | E-COMMER     | RUN.czC   | RUN.czO  | top4running.cz  | 2019-06-01 06:26:00 | W NK MILER TANK SURF  | aq5179-686  |         84 | Nike            |         200 | Apparel   |         230 | T-Shirts       |         235 | Tank               | running     | women       | adults      | Pink        | XS          | cz        |\n",
      "| 2019-06-01 00:00:00 | 1900079006 | COD        | ZB00022416  |          1 |               0 |              28.7977  |    14.6349  |            28.7977  | E-COMMER     | RUN.czC   | RUN.czO  | top4running.cz  | 2019-06-01 06:26:00 | W NK AIR SHORT        | aq5634-100  |         84 | Nike            |         200 | Apparel   |         240 | Pants          |         242 | Shorts             | running     | women       | adults      | White       | XS          | cz        |\n",
      "| 2019-06-01 00:00:00 | 1900079006 | COD        | S113        |          1 |               0 |               0.92907 |     0       |             0.92907 | E-COMMER     | RUN.czC   | RUN.czO  | top4running.cz  | 2019-06-01 06:26:00 | Platba                | unspecified |         -1 | no_manufacturer |         999 | Other     |           0 | unspecified    |           0 | unspecified        | unspecified | unspecified | unspecified | unspecified | unspecified | cz        |\n",
      "| 2019-06-01 00:00:00 | 1900079010 | COD        | ZB00016698  |          1 |               0 |             132.295   |    72.662   |           188.962   | E-COMMER     | FTB.czC   | FTB.czO  | 11teamsports.cz | 2019-06-01 06:26:00 | X 181 FG              | bb9347      |         85 | adidas          |         100 | Footwear  |         110 | Football shoes |           0 | unspecified        | football    | men         | adults      | Red         | 42,7        | cz        |\n",
      "| 2019-06-01 00:00:00 | 1900079010 | COD        | ZB00026001  |          1 |               0 |             132.295   |    83.0682  |           188.962   | E-COMMER     | FTB.czC   | FTB.czO  | 11teamsports.cz | 2019-06-01 06:26:00 | X 181 SG              | bb9359      |         85 | adidas          |         100 | Footwear  |         110 | Football shoes |           0 | unspecified        | football    | men         | adults      | Red         | 43,3        | cz        |\n",
      "| 2019-06-01 00:00:00 | 1900079010 | COD        | S113        |          1 |               0 |               0.92907 |     0       |             0.92907 | E-COMMER     | FTB.czC   | FTB.czO  | 11teamsports.cz | 2019-06-01 06:26:00 | Platba                | unspecified |         -1 | no_manufacturer |         999 | Other     |           0 | unspecified    |           0 | unspecified        | unspecified | unspecified | unspecified | unspecified | unspecified | cz        |\n",
      "| 2019-06-01 00:00:00 | 1900079011 | CARD_CSOB  | ZB00009549  |          1 |               0 |              17.9384  |    16.4775  |            25.5942  | E-COMMER     | FTB.czC   | FTB.czO  | 11teamsports.cz | 2019-06-01 09:31:00 | HG SS                 | 1257468-001 |        106 | Under Armour    |         200 | Apparel   |         230 | T-Shirts       |         236 | Compression shirts | fitness     | men         | adults      | Black       | M           | cz        |\n",
      "| 2019-06-01 00:00:00 | 1900079011 | CARD_CSOB  | ZB00026129  |          1 |               0 |               6.37442 |     3.94884 |            10.5388  | E-COMMER     | FTB.czC   | FTB.czO  | 11teamsports.cz | 2019-06-01 09:31:00 | PER CREW T 3PP        | aa2330      |         85 | adidas          |         200 | Apparel   |         290 | Socks          |           0 | unspecified        | fitness     | unisex      | adults      | Black       | 39-42       | cz        |\n",
      "| 2019-06-01 00:00:00 | 1900079011 | CARD_CSOB  | ZB00000044  |          1 |               0 |              48.0171  |    28.0554  |            80.05    | E-COMMER     | FTB.czC   | FTB.czO  | 11teamsports.cz | 2019-06-01 09:31:00 | TEAM Match Ball       | cz2235      |         85 | adidas          |         300 | Equipment |         320 | Balls          |           0 | unspecified        | football    | men         | adults      | White       | 5           | cz        |\n",
      "| 2019-06-01 00:00:00 | 1900079011 | CARD_CSOB  | S114        |         -1 |               0 |               3.2031  |     0       |             3.2031  | E-COMMER     | FTB.czC   | FTB.czO  | 11teamsports.cz | 2019-06-01 09:31:00 | Sleva                 | unspecified |         -1 | no_manufacturer |         999 | Other     |           0 | unspecified    |           0 | unspecified        | unspecified | unspecified | unspecified | unspecified | unspecified | cz        |\n",
      "| 2019-06-01 00:00:00 | 1900079027 | GOPAY_CARD | ZB00026129  |          1 |               0 |               6.55432 |     3.97054 |            10.0866  | E-COMMER     | RUN.deC   | RUN.deO  | top4running.de  | 2019-06-01 06:31:00 | PER CREW T 3PP        | aa2330      |         85 | adidas          |         200 | Apparel   |         290 | Socks          |           0 | unspecified        | fitness     | unisex      | adults      | Black       | 39-42       | de        |\n",
      "| 2019-06-01 00:00:00 | 1900079030 | COD        | ZB00025621  |          1 |               0 |              37.8628  |    14.4395  |            44.5256  | E-COMMER     | FTB.czC   | FTB.czO  | 11teamsports.cz | 2019-06-01 06:32:00 | M NK Team Club Hoody  | 658498-463  |         84 | Nike            |         200 | Apparel   |         220 | Sweatshirts    |         221 | With hood          | lifestyle   | men         | adults      | unspecified | L           | cz        |\n",
      "| 2019-06-01 00:00:00 | 1900079030 | COD        | ZB00026033  |          1 |               0 |              26.8116  |    14.0167  |            44.5256  | E-COMMER     | FTB.czC   | FTB.czO  | 11teamsports.cz | 2019-06-01 06:32:00 | Nike Team Club Crew   | 658681-463  |         84 | Nike            |         200 | Apparel   |         220 | Sweatshirts    |           0 | unspecified        | football    | men         | adults      | Blue        | L           | cz        |\n",
      "| 2019-06-01 00:00:00 | 1900079030 | COD        | ZB00000094  |          1 |               0 |              11.2756  |     5.48101 |            14.3826  | E-COMMER     | FTB.czC   | FTB.czO  | 11teamsports.cz | 2019-06-01 06:32:00 | PARK II KNIT SHORT NB | 725887-463  |         84 | Nike            |         200 | Apparel   |         240 | Pants          |         242 | Shorts             | football    | men         | adults      | Blue        | L           | cz        |\n",
      "| 2019-06-01 00:00:00 | 1900079030 | COD        | ZB00026511  |          1 |               0 |              16.5291  |     8.37752 |            23.9926  | E-COMMER     | FTB.czC   | FTB.czO  | 11teamsports.cz | 2019-06-01 06:32:00 | CORE18 PES PNT        | cv3585      |         85 | adidas          |         200 | Apparel   |         240 | Pants          |           0 | unspecified        | football    | men         | adults      | Blue        | L           | cz        |\n",
      "| 2019-06-01 00:00:00 | 1900078998 | CARD_CSOB  | S101        |          1 |               0 |               1.56977 |     0       |             1.56977 | E-COMMER     | FTB.czC   | FTB.czO  | 11teamsports.cz | 2019-06-01 06:26:00 | Dopravné              | unspecified |         -1 | no_manufacturer |         999 | Other     |           0 | unspecified    |           0 | unspecified        | unspecified | unspecified | unspecified | unspecified | unspecified | cz        |\n",
      "| 2019-06-01 00:00:00 | 1900078998 | CARD_CSOB  | ZB00025631  |          1 |               0 |              21.8143  |    11.781   |            35.2039  | E-COMMER     | FTB.czC   | FTB.czO  | 11teamsports.cz | 2019-06-01 06:26:00 | CORE18 RN JKT         | ce9048      |         85 | adidas          |         200 | Apparel   |         215 | Jackets        |           0 | unspecified        | football    | men         | adults      | Black       | M           | cz        |\n",
      "+---------------------+------------+------------+-------------+------------+-----------------+-----------------------+-------------+---------------------+--------------+-----------+----------+-----------------+---------------------+-----------------------+-------------+------------+-----------------+-------------+-----------+-------------+----------------+-------------+--------------------+-------------+-------------+-------------+-------------+-------------+-----------+\n"
     ]
    }
   ],
   "source": [
    "dc.print_df_with_dtypes(df_FE, max_rows=20, print_on=True, data_generated_path=DATA_GENERATED_PATH, name_extension='EDA_df_FE')"
   ]
  },
  {
   "cell_type": "code",
   "execution_count": 36,
   "metadata": {},
   "outputs": [
    {
     "data": {
      "text/plain": [
       "group1\n",
       "unspecified        289613\n",
       "Pants               65732\n",
       "Socks               61210\n",
       "T-Shirts            54987\n",
       "Running shoes       52124\n",
       "Football shoes      44135\n",
       "Sweatshirts         25138\n",
       "Other Footwear      20648\n",
       "Jerseys             14034\n",
       "Jackets             12834\n",
       "Other Apparel       10220\n",
       "Other Equipment      9988\n",
       "Balls                7529\n",
       "Gloves               7182\n",
       "Bags                 5795\n",
       "Guards               5316\n",
       "Bras                 5068\n",
       "Backpacks            4935\n",
       "Underwear            4561\n",
       "Slides               3802\n",
       "Fitness Shoes        3483\n",
       "Caps                 3100\n",
       "Training             2917\n",
       "Tracksuits           2862\n",
       "Beanies              2328\n",
       "Other nutrition      1750\n",
       "Gymsacks             1232\n",
       "Bar                   632\n",
       "Other                 592\n",
       "Vests                 483\n",
       "Hydrate               389\n",
       "Glasses               381\n",
       "Lamps                 365\n",
       "Skirts                251\n",
       "Pumps                 195\n",
       "Sports gloves         136\n",
       "Dress                 134\n",
       "Earphones             132\n",
       "Sporttesters          100\n",
       "Tank                   23\n",
       "Name: quantity, dtype: int64"
      ]
     },
     "execution_count": 36,
     "metadata": {},
     "output_type": "execute_result"
    },
    {
     "data": {
      "text/plain": [
       "group2\n",
       "unspecified                592272\n",
       "Shorts                      36035\n",
       "With hood                   18724\n",
       "Longsleeved (LS) shirts     15746\n",
       "Football socks              15681\n",
       "Trail                       13124\n",
       "Spikes                       7170\n",
       "Compression shirts           6424\n",
       "Tank                         5011\n",
       "Indoor/Court (IC)            4701\n",
       "Compression pants            3369\n",
       "Football gloves              3072\n",
       "43924                        2026\n",
       "Polo                         1957\n",
       "Sleeveless (SL) shirts        888\n",
       "Fitness gloves                136\n",
       "Name: quantity, dtype: int64"
      ]
     },
     "execution_count": 36,
     "metadata": {},
     "output_type": "execute_result"
    }
   ],
   "source": [
    "# Filter the DataFrame based on the \"country\" column\n",
    "filtered_df = df_FE[df_FE[\"country\"] == \"cz\"]\n",
    "\n",
    "# Group by \"group1\" column and sum the \"quantity\" column, then sort values in descending order\n",
    "filtered_df.groupby(\"group1\")[\"quantity\"].sum().sort_values(ascending=False)\n",
    "\n",
    "# Group by \"group2\" column and sum the \"quantity\" column, then sort values in descending order\n",
    "filtered_df.groupby(\"group2\")[\"quantity\"].sum().sort_values(ascending=False)\n"
   ]
  },
  {
   "cell_type": "code",
   "execution_count": null,
   "metadata": {},
   "outputs": [],
   "source": [
    "# aggreate by the values from gorup2 : [\n",
    "# Shorts                      \n",
    "# With hood                   \n",
    "# Trail                       \n",
    "# Longsleeved (LS) shirts     \n",
    "# Spikes                      ]\n",
    "# daily sum\n",
    "\n",
    "# group1: 'Pants', 'Socks';\n",
    "# group2: 'Shorts' 'With hood';"
   ]
  },
  {
   "cell_type": "markdown",
   "metadata": {},
   "source": [
    "# Feature Engineering:"
   ]
  },
  {
   "cell_type": "code",
   "execution_count": 29,
   "metadata": {},
   "outputs": [
    {
     "name": "stdout",
     "output_type": "stream",
     "text": [
      "+---------------------+------------+------------+-------------+------------+-----------------+-----------------------+-------------+---------------------+--------------+-----------+----------+-----------------+---------------------+-----------------------+-------------+------------+-----------------+-------------+-----------+-------------+----------------+-------------+--------------------+-------------+-------------+-------------+-------------+-------------+-----------+\n",
      "| date                |   order_id | payment    | item_code   |   quantity |   gift_quantity |   unit_price_vat_excl |   unit_cogs |   unit_rrp_vat_excl | department   | channel   | owner    | site            | CreatedAt           | item_name             | style       |   brand_id | brand_name      |   group0_id | group0    |   group1_id | group1         |   group2_id | group2             | category    | gender      | age         | color       | size        | country   |\n",
      "|                     |     string | object     | object      |      int64 |           int64 |               float64 |     float64 |             float64 | object       | object    | object   | object          | datetime64[ns]      | object                | object      |     string | object          |      string | object    |      string | object         |      string | object             | object      | object      | object      | object      | object      | object    |\n",
      "|                     |     NaN: 0 | NaN: 0     | NaN: 0      |     NaN: 0 |          NaN: 0 |                NaN: 0 |      NaN: 0 |              NaN: 0 | NaN: 0       | NaN: 0    | NaN: 0   | NaN: 0          | NaN: 0              | NaN: 0                | NaN: 0      |     NaN: 0 | NaN: 0          |      NaN: 0 | NaN: 0    |      NaN: 0 | NaN: 0         |      NaN: 0 | NaN: 0             | NaN: 0      | NaN: 0      | NaN: 0      | NaN: 0      | NaN: 0      | NaN: 0    |\n",
      "|---------------------+------------+------------+-------------+------------+-----------------+-----------------------+-------------+---------------------+--------------+-----------+----------+-----------------+---------------------+-----------------------+-------------+------------+-----------------+-------------+-----------+-------------+----------------+-------------+--------------------+-------------+-------------+-------------+-------------+-------------+-----------|\n",
      "| 2019-06-01 00:00:00 | 1900079924 | CARD_CSOB  | ZB00023833  |          1 |               0 |              22.3267  |    15.5039  |            32.0008  | E-COMMER     | Sport.cC  | Sport.cO | top4sport.cz    | 2019-06-01 09:37:00 | MK1 Short 7in         | 1312292-001 |        106 | Under Armour    |         200 | Apparel   |         240 | Pants          |         242 | Shorts             | fitness     | men         | adults      | Black       | M           | cz        |\n",
      "| 2019-06-01 00:00:00 | 1900079006 | COD        | ZB00000154  |          1 |               0 |              10.3787  |     8.06938 |            15.9845  | E-COMMER     | RUN.czC   | RUN.czO  | top4running.cz  | 2019-06-01 06:26:00 | W NK RUN TOP SS       | 890353-100  |         84 | Nike            |         200 | Apparel   |         230 | T-Shirts       |           0 | unspecified        | running     | women       | adults      | White       | XS          | cz        |\n",
      "| 2019-06-01 00:00:00 | 1900079006 | COD        | ZB00007330  |          1 |               0 |              14.9593  |    10.7171  |            25.3058  | E-COMMER     | RUN.czC   | RUN.czO  | top4running.cz  | 2019-06-01 06:26:00 | W NK DRY MILER TOP SS | 932499-823  |         84 | Nike            |         200 | Apparel   |         230 | T-Shirts       |           0 | unspecified        | running     | women       | adults      | Pink        | XS          | cz        |\n",
      "| 2019-06-01 00:00:00 | 1900079006 | COD        | ZB00018948  |          1 |               0 |              25.5942  |    13.007   |            25.5942  | E-COMMER     | RUN.czC   | RUN.czO  | top4running.cz  | 2019-06-01 06:26:00 | W NK MILER TANK SURF  | aq5179-686  |         84 | Nike            |         200 | Apparel   |         230 | T-Shirts       |         235 | Tank               | running     | women       | adults      | Pink        | XS          | cz        |\n",
      "| 2019-06-01 00:00:00 | 1900079006 | COD        | ZB00022416  |          1 |               0 |              28.7977  |    14.6349  |            28.7977  | E-COMMER     | RUN.czC   | RUN.czO  | top4running.cz  | 2019-06-01 06:26:00 | W NK AIR SHORT        | aq5634-100  |         84 | Nike            |         200 | Apparel   |         240 | Pants          |         242 | Shorts             | running     | women       | adults      | White       | XS          | cz        |\n",
      "| 2019-06-01 00:00:00 | 1900079006 | COD        | S113        |          1 |               0 |               0.92907 |     0       |             0.92907 | E-COMMER     | RUN.czC   | RUN.czO  | top4running.cz  | 2019-06-01 06:26:00 | Platba                | unspecified |         -1 | no_manufacturer |         999 | Other     |           0 | unspecified    |           0 | unspecified        | unspecified | unspecified | unspecified | unspecified | unspecified | cz        |\n",
      "| 2019-06-01 00:00:00 | 1900079010 | COD        | ZB00016698  |          1 |               0 |             132.295   |    72.662   |           188.962   | E-COMMER     | FTB.czC   | FTB.czO  | 11teamsports.cz | 2019-06-01 06:26:00 | X 181 FG              | bb9347      |         85 | adidas          |         100 | Footwear  |         110 | Football shoes |           0 | unspecified        | football    | men         | adults      | Red         | 42,7        | cz        |\n",
      "| 2019-06-01 00:00:00 | 1900079010 | COD        | ZB00026001  |          1 |               0 |             132.295   |    83.0682  |           188.962   | E-COMMER     | FTB.czC   | FTB.czO  | 11teamsports.cz | 2019-06-01 06:26:00 | X 181 SG              | bb9359      |         85 | adidas          |         100 | Footwear  |         110 | Football shoes |           0 | unspecified        | football    | men         | adults      | Red         | 43,3        | cz        |\n",
      "| 2019-06-01 00:00:00 | 1900079010 | COD        | S113        |          1 |               0 |               0.92907 |     0       |             0.92907 | E-COMMER     | FTB.czC   | FTB.czO  | 11teamsports.cz | 2019-06-01 06:26:00 | Platba                | unspecified |         -1 | no_manufacturer |         999 | Other     |           0 | unspecified    |           0 | unspecified        | unspecified | unspecified | unspecified | unspecified | unspecified | cz        |\n",
      "| 2019-06-01 00:00:00 | 1900079011 | CARD_CSOB  | ZB00009549  |          1 |               0 |              17.9384  |    16.4775  |            25.5942  | E-COMMER     | FTB.czC   | FTB.czO  | 11teamsports.cz | 2019-06-01 09:31:00 | HG SS                 | 1257468-001 |        106 | Under Armour    |         200 | Apparel   |         230 | T-Shirts       |         236 | Compression shirts | fitness     | men         | adults      | Black       | M           | cz        |\n",
      "| 2019-06-01 00:00:00 | 1900079011 | CARD_CSOB  | ZB00026129  |          1 |               0 |               6.37442 |     3.94884 |            10.5388  | E-COMMER     | FTB.czC   | FTB.czO  | 11teamsports.cz | 2019-06-01 09:31:00 | PER CREW T 3PP        | aa2330      |         85 | adidas          |         200 | Apparel   |         290 | Socks          |           0 | unspecified        | fitness     | unisex      | adults      | Black       | 39-42       | cz        |\n",
      "| 2019-06-01 00:00:00 | 1900079011 | CARD_CSOB  | ZB00000044  |          1 |               0 |              48.0171  |    28.0554  |            80.05    | E-COMMER     | FTB.czC   | FTB.czO  | 11teamsports.cz | 2019-06-01 09:31:00 | TEAM Match Ball       | cz2235      |         85 | adidas          |         300 | Equipment |         320 | Balls          |           0 | unspecified        | football    | men         | adults      | White       | 5           | cz        |\n",
      "| 2019-06-01 00:00:00 | 1900079011 | CARD_CSOB  | S114        |         -1 |               0 |               3.2031  |     0       |             3.2031  | E-COMMER     | FTB.czC   | FTB.czO  | 11teamsports.cz | 2019-06-01 09:31:00 | Sleva                 | unspecified |         -1 | no_manufacturer |         999 | Other     |           0 | unspecified    |           0 | unspecified        | unspecified | unspecified | unspecified | unspecified | unspecified | cz        |\n",
      "| 2019-06-01 00:00:00 | 1900079027 | GOPAY_CARD | ZB00026129  |          1 |               0 |               6.55432 |     3.97054 |            10.0866  | E-COMMER     | RUN.deC   | RUN.deO  | top4running.de  | 2019-06-01 06:31:00 | PER CREW T 3PP        | aa2330      |         85 | adidas          |         200 | Apparel   |         290 | Socks          |           0 | unspecified        | fitness     | unisex      | adults      | Black       | 39-42       | de        |\n",
      "| 2019-06-01 00:00:00 | 1900079030 | COD        | ZB00025621  |          1 |               0 |              37.8628  |    14.4395  |            44.5256  | E-COMMER     | FTB.czC   | FTB.czO  | 11teamsports.cz | 2019-06-01 06:32:00 | M NK Team Club Hoody  | 658498-463  |         84 | Nike            |         200 | Apparel   |         220 | Sweatshirts    |         221 | With hood          | lifestyle   | men         | adults      | unspecified | L           | cz        |\n",
      "| 2019-06-01 00:00:00 | 1900079030 | COD        | ZB00026033  |          1 |               0 |              26.8116  |    14.0167  |            44.5256  | E-COMMER     | FTB.czC   | FTB.czO  | 11teamsports.cz | 2019-06-01 06:32:00 | Nike Team Club Crew   | 658681-463  |         84 | Nike            |         200 | Apparel   |         220 | Sweatshirts    |           0 | unspecified        | football    | men         | adults      | Blue        | L           | cz        |\n",
      "| 2019-06-01 00:00:00 | 1900079030 | COD        | ZB00000094  |          1 |               0 |              11.2756  |     5.48101 |            14.3826  | E-COMMER     | FTB.czC   | FTB.czO  | 11teamsports.cz | 2019-06-01 06:32:00 | PARK II KNIT SHORT NB | 725887-463  |         84 | Nike            |         200 | Apparel   |         240 | Pants          |         242 | Shorts             | football    | men         | adults      | Blue        | L           | cz        |\n",
      "| 2019-06-01 00:00:00 | 1900079030 | COD        | ZB00026511  |          1 |               0 |              16.5291  |     8.37752 |            23.9926  | E-COMMER     | FTB.czC   | FTB.czO  | 11teamsports.cz | 2019-06-01 06:32:00 | CORE18 PES PNT        | cv3585      |         85 | adidas          |         200 | Apparel   |         240 | Pants          |           0 | unspecified        | football    | men         | adults      | Blue        | L           | cz        |\n",
      "| 2019-06-01 00:00:00 | 1900078998 | CARD_CSOB  | S101        |          1 |               0 |               1.56977 |     0       |             1.56977 | E-COMMER     | FTB.czC   | FTB.czO  | 11teamsports.cz | 2019-06-01 06:26:00 | Dopravné              | unspecified |         -1 | no_manufacturer |         999 | Other     |           0 | unspecified    |           0 | unspecified        | unspecified | unspecified | unspecified | unspecified | unspecified | cz        |\n",
      "| 2019-06-01 00:00:00 | 1900078998 | CARD_CSOB  | ZB00025631  |          1 |               0 |              21.8143  |    11.781   |            35.2039  | E-COMMER     | FTB.czC   | FTB.czO  | 11teamsports.cz | 2019-06-01 06:26:00 | CORE18 RN JKT         | ce9048      |         85 | adidas          |         200 | Apparel   |         215 | Jackets        |           0 | unspecified        | football    | men         | adults      | Black       | M           | cz        |\n",
      "+---------------------+------------+------------+-------------+------------+-----------------+-----------------------+-------------+---------------------+--------------+-----------+----------+-----------------+---------------------+-----------------------+-------------+------------+-----------------+-------------+-----------+-------------+----------------+-------------+--------------------+-------------+-------------+-------------+-------------+-------------+-----------+\n"
     ]
    }
   ],
   "source": [
    "dc.print_df_with_dtypes(df_FE, max_rows=20, print_on=True, data_generated_path=DATA_GENERATED_PATH, name_extension='EDA_df_FE')"
   ]
  },
  {
   "attachments": {},
   "cell_type": "markdown",
   "metadata": {},
   "source": [
    "### Pivot table for all unique values in group1 and group2"
   ]
  },
  {
   "cell_type": "code",
   "execution_count": 38,
   "metadata": {},
   "outputs": [
    {
     "name": "stdout",
     "output_type": "stream",
     "text": [
      "+---------------------+---------------------------+----------------------+-----------------------+---------------------+-------------------------+----------------------+----------------------+-----------------------+---------------------------+-------------------------------+--------------------------------+-------------------------+------------------------+------------------------+--------------------------+-------------------------+-------------------------+-------------------------+-----------------------+-----------------------+-------------------------------+---------------------------------+--------------------------------+---------------------------------+-----------------------+-----------------------+-------------------------------+------------------------+------------------------+-----------------------+-------------------------------+------------------------------+-----------------------------+--------------------------+-----------------------------+----------------------------+--------------------------+---------------------------+-----------------------+------------------------------------+-----------------------+-----------------------------------+------------------------------------+--------------------------------+---------------------------------+--------------------------------+-----------------------------------+-----------------------------------------+----------------------+------------------------+----------------------------------------+------------------------+-----------------------------+-----------------------+---------------------------+------------------------------------+\n",
      "| date                |   group2_Backpacks_group2 |   group2_Bags_group2 |   group2_Balls_group2 |   group2_Bar_group2 |   group2_Beanies_group2 |   group2_Bras_group2 |   group2_Caps_group2 |   group2_Dress_group2 |   group2_Earphones_group2 |   group2_Fitness Shoes_group2 |   group2_Football shoes_group2 |   group2_Glasses_group2 |   group2_Gloves_group2 |   group2_Guards_group2 |   group2_Gymsacks_group2 |   group2_Hydrate_group2 |   group2_Jackets_group2 |   group2_Jerseys_group2 |   group2_Lamps_group2 |   group2_Other_group2 |   group2_Other Apparel_group2 |   group2_Other Equipment_group2 |   group2_Other Footwear_group2 |   group2_Other nutrition_group2 |   group2_Pants_group2 |   group2_Pumps_group2 |   group2_Running shoes_group2 |   group2_Skirts_group2 |   group2_Slides_group2 |   group2_Socks_group2 |   group2_Sports gloves_group2 |   group2_Sporttesters_group2 |   group2_Sweatshirts_group2 |   group2_T-Shirts_group2 |   group1_Tank_group1_group1 |   group2_Tracksuits_group2 |   group2_Training_group2 |   group2_Underwear_group2 |   group2_Vests_group2 |   group1_unspecified_group1_group1 |   group2_43924_group2 |   group2_Compression pants_group2 |   group2_Compression shirts_group2 |   group2_Fitness gloves_group2 |   group2_Football gloves_group2 |   group2_Football socks_group2 |   group2_Indoor/Court (IC)_group2 |   group2_Longsleeved (LS) shirts_group2 |   group2_Polo_group2 |   group2_Shorts_group2 |   group2_Sleeveless (SL) shirts_group2 |   group2_Spikes_group2 |   group2_Tank_group2_group2 |   group2_Trail_group2 |   group2_With hood_group2 |   group2_unspecified_group2_group2 |\n",
      "|                     |                     int64 |                int64 |                 int64 |               int64 |                   int64 |                int64 |                int64 |                 int64 |                     int64 |                         int64 |                          int64 |                   int64 |                  int64 |                  int64 |                    int64 |                   int64 |                   int64 |                   int64 |                 int64 |                 int64 |                         int64 |                           int64 |                          int64 |                           int64 |                 int64 |                 int64 |                         int64 |                  int64 |                  int64 |                 int64 |                         int64 |                        int64 |                       int64 |                    int64 |                       int64 |                      int64 |                    int64 |                     int64 |                 int64 |                              int64 |                 int64 |                             int64 |                              int64 |                          int64 |                           int64 |                          int64 |                             int64 |                                   int64 |                int64 |                  int64 |                                  int64 |                  int64 |                       int64 |                 int64 |                     int64 |                              int64 |\n",
      "|                     |                    NaN: 0 |               NaN: 0 |                NaN: 0 |              NaN: 0 |                  NaN: 0 |               NaN: 0 |               NaN: 0 |                NaN: 0 |                    NaN: 0 |                        NaN: 0 |                         NaN: 0 |                  NaN: 0 |                 NaN: 0 |                 NaN: 0 |                   NaN: 0 |                  NaN: 0 |                  NaN: 0 |                  NaN: 0 |                NaN: 0 |                NaN: 0 |                        NaN: 0 |                          NaN: 0 |                         NaN: 0 |                          NaN: 0 |                NaN: 0 |                NaN: 0 |                        NaN: 0 |                 NaN: 0 |                 NaN: 0 |                NaN: 0 |                        NaN: 0 |                       NaN: 0 |                      NaN: 0 |                   NaN: 0 |                      NaN: 0 |                     NaN: 0 |                   NaN: 0 |                    NaN: 0 |                NaN: 0 |                             NaN: 0 |                NaN: 0 |                            NaN: 0 |                             NaN: 0 |                         NaN: 0 |                          NaN: 0 |                         NaN: 0 |                            NaN: 0 |                                  NaN: 0 |               NaN: 0 |                 NaN: 0 |                                 NaN: 0 |                 NaN: 0 |                      NaN: 0 |                NaN: 0 |                    NaN: 0 |                             NaN: 0 |\n",
      "|---------------------+---------------------------+----------------------+-----------------------+---------------------+-------------------------+----------------------+----------------------+-----------------------+---------------------------+-------------------------------+--------------------------------+-------------------------+------------------------+------------------------+--------------------------+-------------------------+-------------------------+-------------------------+-----------------------+-----------------------+-------------------------------+---------------------------------+--------------------------------+---------------------------------+-----------------------+-----------------------+-------------------------------+------------------------+------------------------+-----------------------+-------------------------------+------------------------------+-----------------------------+--------------------------+-----------------------------+----------------------------+--------------------------+---------------------------+-----------------------+------------------------------------+-----------------------+-----------------------------------+------------------------------------+--------------------------------+---------------------------------+--------------------------------+-----------------------------------+-----------------------------------------+----------------------+------------------------+----------------------------------------+------------------------+-----------------------------+-----------------------+---------------------------+------------------------------------|\n",
      "| 2019-06-01 00:00:00 |                         1 |                    0 |                    18 |                   0 |                       0 |                    0 |                    2 |                     0 |                         0 |                             0 |                             15 |                       0 |                      3 |                      0 |                        0 |                       0 |                      27 |                       7 |                     0 |                     0 |                             0 |                               0 |                              3 |                               0 |                    17 |                     0 |                             6 |                      0 |                      1 |                     5 |                             0 |                            0 |                           3 |                       19 |                           0 |                          2 |                        0 |                         2 |                     0 |                                 26 |                     0 |                                 4 |                                  3 |                              0 |                               3 |                              3 |                                 0 |                                       5 |                    1 |                      9 |                                      7 |                      3 |                           1 |                     0 |                         2 |                                116 |\n",
      "| 2019-06-02 00:00:00 |                         0 |                    0 |                     0 |                   0 |                       0 |                    0 |                    0 |                     0 |                         0 |                             0 |                              0 |                       0 |                      0 |                      0 |                        0 |                       0 |                       0 |                       0 |                     0 |                     0 |                             0 |                               3 |                              0 |                               0 |                     1 |                     0 |                             0 |                      0 |                      0 |                     0 |                             0 |                            0 |                           0 |                        0 |                           0 |                          0 |                        0 |                         0 |                     0 |                                  3 |                     0 |                                 0 |                                  0 |                              0 |                               0 |                              0 |                                 0 |                                       0 |                    0 |                      1 |                                      0 |                      0 |                           0 |                     0 |                         0 |                                  6 |\n",
      "| 2019-06-03 00:00:00 |                         0 |                    0 |                     0 |                   0 |                       0 |                    2 |                    0 |                     0 |                         0 |                             0 |                              5 |                       0 |                      0 |                      1 |                        0 |                       0 |                       0 |                       1 |                     0 |                     0 |                             2 |                               0 |                              1 |                               0 |                     6 |                     0 |                             3 |                      0 |                      0 |                     8 |                             0 |                            0 |                           0 |                        7 |                           0 |                          0 |                        0 |                         0 |                     0 |                                  1 |                     0 |                                 1 |                                  1 |                              0 |                               0 |                              5 |                                 1 |                                       1 |                    0 |                      4 |                                      0 |                      0 |                           0 |                     0 |                         0 |                                 24 |\n",
      "| 2019-06-04 00:00:00 |                        92 |                   92 |                    15 |                   3 |                       0 |                   18 |                   23 |                     0 |                         1 |                            39 |                            116 |                       0 |                     25 |                     10 |                       26 |                       1 |                      14 |                      13 |                     1 |                     0 |                            29 |                              44 |                            175 |                               0 |                   260 |                     1 |                           247 |                      4 |                     37 |                    53 |                             3 |                            2 |                          25 |                      202 |                           0 |                         14 |                        1 |                         3 |                     0 |                                994 |                    22 |                                11 |                                  7 |                              3 |                              25 |                             21 |                                11 |                                      14 |                   15 |                    154 |                                      0 |                     56 |                          55 |                    28 |                        21 |                               2140 |\n",
      "| 2019-06-05 00:00:00 |                        25 |                   18 |                    62 |                   5 |                       0 |                    9 |                   15 |                     0 |                         1 |                            12 |                            287 |                       1 |                     23 |                     36 |                       20 |                       0 |                      64 |                      90 |                     0 |                     0 |                            16 |                              25 |                            107 |                               2 |                   267 |                     1 |                           112 |                      0 |                     52 |                   129 |                             0 |                            1 |                          78 |                      214 |                           0 |                         75 |                        0 |                         2 |                     0 |                                837 |                    13 |                                14 |                                 12 |                              0 |                              23 |                             44 |                                27 |                                      24 |                   13 |                    169 |                                      0 |                     15 |                          26 |                     7 |                        64 |                               2135 |\n",
      "| 2019-06-06 00:00:00 |                        17 |                   18 |                    12 |                   0 |                       0 |                    5 |                   10 |                     0 |                         0 |                             7 |                             55 |                       0 |                      6 |                      6 |                        7 |                       0 |                      13 |                      31 |                     0 |                     0 |                             4 |                              10 |                             44 |                               0 |                    90 |                     0 |                            42 |                      0 |                     15 |                    48 |                             0 |                            0 |                          16 |                       40 |                           0 |                         12 |                        0 |                         1 |                     0 |                                289 |                     7 |                                 6 |                                  1 |                              0 |                               6 |                             12 |                                 7 |                                       7 |                    2 |                     67 |                                     20 |                      6 |                          12 |                     2 |                        14 |                                629 |\n",
      "| 2019-06-07 00:00:00 |                        10 |                    8 |                    11 |                   0 |                       0 |                    2 |                    6 |                     0 |                         1 |                             4 |                             42 |                       0 |                      8 |                      3 |                        8 |                       0 |                       5 |                       7 |                     0 |                     0 |                             2 |                               6 |                             23 |                               0 |                    47 |                     0 |                            23 |                      0 |                     14 |                    16 |                             0 |                            0 |                           4 |                       34 |                           0 |                          3 |                        0 |                         0 |                     0 |                                176 |                     2 |                                 1 |                                  7 |                              0 |                               7 |                              2 |                                 5 |                                       4 |                    4 |                     35 |                                      0 |                      7 |                           9 |                     4 |                         4 |                                372 |\n",
      "| 2019-06-08 00:00:00 |                         0 |                    0 |                     0 |                   0 |                       0 |                    0 |                    0 |                     0 |                         0 |                             0 |                              0 |                       0 |                      0 |                      0 |                        0 |                       0 |                       0 |                       0 |                     0 |                     0 |                             0 |                               0 |                              0 |                               0 |                     3 |                     0 |                             0 |                      0 |                      0 |                     0 |                             0 |                            0 |                           0 |                        0 |                           0 |                          0 |                        0 |                         0 |                     0 |                                  2 |                     0 |                                 0 |                                  0 |                              0 |                               0 |                              0 |                                 0 |                                       0 |                    0 |                      3 |                                      0 |                      0 |                           0 |                     0 |                         0 |                                  2 |\n",
      "| 2019-06-10 00:00:00 |                        23 |                   32 |                    14 |                   4 |                       0 |                    7 |                   15 |                     1 |                         0 |                            17 |                            109 |                       1 |                     10 |                      5 |                       12 |                       0 |                       8 |                      43 |                     0 |                     0 |                             8 |                              12 |                             77 |                               0 |                   131 |                     0 |                           109 |                      0 |                     46 |                    58 |                             1 |                            2 |                          14 |                      117 |                           0 |                          5 |                        0 |                         1 |                     0 |                                475 |                    12 |                                 8 |                                  4 |                              1 |                              10 |                             18 |                                16 |                                      11 |                    4 |                     88 |                                      0 |                     23 |                          24 |                     7 |                        12 |                               1119 |\n",
      "| 2019-06-11 00:00:00 |                        34 |                   29 |                    43 |                   0 |                       0 |                   10 |                   26 |                     0 |                         0 |                            11 |                            183 |                       2 |                     25 |                     14 |                       13 |                       0 |                      18 |                      45 |                     0 |                     0 |                            10 |                               9 |                             75 |                               0 |                   186 |                     1 |                            93 |                      0 |                     61 |                    62 |                             3 |                            0 |                          24 |                      144 |                           0 |                         10 |                        0 |                         7 |                     0 |                                639 |                    10 |                                17 |                                  9 |                              3 |                              25 |                             20 |                                20 |                                      10 |                   18 |                    126 |                                      0 |                     23 |                          37 |                     8 |                        18 |                               1433 |\n",
      "| 2019-06-12 00:00:00 |                         5 |                    2 |                     4 |                   0 |                       0 |                    0 |                    6 |                     1 |                         0 |                             2 |                             22 |                       0 |                      4 |                      2 |                        1 |                       0 |                       3 |                       4 |                     0 |                     0 |                             1 |                               0 |                             12 |                               0 |                    30 |                     0 |                            12 |                      0 |                     11 |                     3 |                             0 |                            0 |                           3 |                       30 |                           0 |                          1 |                        0 |                         0 |                     0 |                                 89 |                     0 |                                 2 |                                  0 |                              0 |                               4 |                              1 |                                 1 |                                       0 |                    3 |                     24 |                                      0 |                      3 |                           5 |                     1 |                         3 |                                201 |\n",
      "| 2019-06-13 00:00:00 |                        32 |                   22 |                    20 |                   1 |                       1 |                    4 |                   18 |                     0 |                         0 |                            12 |                             90 |                       0 |                      8 |                     26 |                       10 |                       0 |                      18 |                      43 |                     0 |                     0 |                            12 |                              17 |                             70 |                               0 |                   113 |                     0 |                            86 |                      2 |                     38 |                    50 |                             0 |                            0 |                          18 |                      100 |                           0 |                         18 |                        1 |                         2 |                     0 |                                398 |                     4 |                                 8 |                                  4 |                              0 |                               8 |                             12 |                                11 |                                       7 |                    7 |                     82 |                                      0 |                     12 |                          12 |                    10 |                        13 |                               1040 |\n",
      "| 2019-06-14 00:00:00 |                         5 |                   10 |                    11 |                   2 |                       0 |                    2 |                    1 |                     0 |                         0 |                             5 |                             35 |                       0 |                      7 |                      3 |                        1 |                       0 |                       3 |                      33 |                     0 |                     0 |                             0 |                              15 |                             15 |                               0 |                    54 |                     0 |                            50 |                      0 |                     13 |                    20 |                             0 |                            0 |                           4 |                       37 |                           0 |                          4 |                        1 |                         0 |                     0 |                                130 |                     2 |                                 3 |                                  1 |                              0 |                               7 |                              8 |                                 0 |                                       3 |                    6 |                     43 |                                      0 |                     12 |                          10 |                     8 |                         4 |                                354 |\n",
      "| 2019-06-15 00:00:00 |                         8 |                    0 |                     0 |                   0 |                       0 |                    0 |                    0 |                     0 |                         0 |                             0 |                              0 |                       0 |                      0 |                      0 |                        0 |                       0 |                       0 |                       0 |                     0 |                     0 |                             0 |                               0 |                              2 |                               0 |                     0 |                     0 |                             0 |                      0 |                      0 |                     0 |                             0 |                            0 |                           0 |                        0 |                           0 |                          0 |                        0 |                         0 |                     0 |                                  0 |                     0 |                                 0 |                                  0 |                              0 |                               0 |                              0 |                                 0 |                                       0 |                    0 |                      0 |                                      0 |                      0 |                           0 |                     0 |                         0 |                                 10 |\n",
      "| 2019-06-16 00:00:00 |                         0 |                    0 |                     0 |                   0 |                       0 |                    0 |                    0 |                     0 |                         0 |                             0 |                              1 |                       0 |                      2 |                      0 |                        0 |                       0 |                       0 |                       0 |                     0 |                     0 |                             0 |                               0 |                              0 |                               0 |                     1 |                     0 |                             0 |                      0 |                      0 |                     0 |                             0 |                            0 |                           0 |                        0 |                           0 |                          0 |                        0 |                         0 |                     0 |                                  1 |                     0 |                                 0 |                                  0 |                              0 |                               2 |                              0 |                                 0 |                                       0 |                    0 |                      1 |                                      0 |                      0 |                           0 |                     0 |                         0 |                                  2 |\n",
      "| 2019-06-17 00:00:00 |                        48 |                   49 |                    49 |                   4 |                       0 |                   25 |                   30 |                     0 |                         0 |                            24 |                            265 |                       3 |                     41 |                     25 |                       19 |                       1 |                      32 |                      78 |                     0 |                     0 |                            14 |                              66 |                            144 |                               3 |                   330 |                     2 |                           273 |                      4 |                    108 |                   110 |                             1 |                            2 |                          39 |                      229 |                           0 |                         23 |                        0 |                         7 |                     0 |                               1112 |                    19 |                                27 |                                 21 |                              1 |                              39 |                             31 |                                30 |                                      16 |                   13 |                    255 |                                      0 |                     42 |                          48 |                    35 |                        20 |                               2563 |\n",
      "| 2019-06-18 00:00:00 |                        13 |                   36 |                     6 |                   0 |                       1 |                    3 |                    7 |                     0 |                         0 |                             4 |                             67 |                       1 |                      7 |                      7 |                        2 |                       0 |                       9 |                      26 |                     0 |                     0 |                             9 |                              15 |                             38 |                               0 |                    80 |                     0 |                            55 |                      0 |                     28 |                    40 |                             1 |                            0 |                           8 |                       63 |                           0 |                          5 |                        0 |                         4 |                     0 |                                245 |                     5 |                                 8 |                                  1 |                              1 |                               6 |                              9 |                                 2 |                                       4 |                    1 |                     56 |                                      0 |                      6 |                          13 |                     6 |                         5 |                                657 |\n",
      "| 2019-06-19 00:00:00 |                        13 |                   15 |                    19 |                   0 |                       0 |                    6 |                    7 |                     3 |                         1 |                             6 |                             95 |                       0 |                      9 |                     14 |                        6 |                       0 |                       7 |                      32 |                     0 |                     0 |                             7 |                              10 |                             27 |                               0 |                    93 |                     0 |                            64 |                      0 |                     18 |                    46 |                             0 |                            1 |                           5 |                       54 |                           0 |                          5 |                        0 |                         2 |                     0 |                                262 |                     1 |                                 4 |                                  4 |                              0 |                               8 |                             29 |                                 5 |                                       8 |                    7 |                     84 |                                      5 |                     14 |                          11 |                     8 |                         5 |                                634 |\n",
      "| 2019-06-20 00:00:00 |                        13 |                   21 |                    29 |                   0 |                       1 |                    4 |                   12 |                     0 |                         0 |                            10 |                            107 |                       0 |                      6 |                     18 |                        4 |                       0 |                       5 |                      41 |                     0 |                     0 |                            10 |                              24 |                             56 |                               0 |                   119 |                     0 |                            93 |                      1 |                     34 |                    56 |                             0 |                            2 |                           8 |                       86 |                           0 |                          7 |                        0 |                         2 |                     2 |                                365 |                     0 |                                 9 |                                  0 |                              0 |                               6 |                             35 |                                 9 |                                       9 |                    2 |                     94 |                                      0 |                     10 |                          16 |                    10 |                         5 |                                931 |\n",
      "| 2019-06-21 00:00:00 |                        10 |                    8 |                    12 |                   0 |                       0 |                    3 |                    2 |                     0 |                         0 |                             2 |                             49 |                       0 |                      8 |                      7 |                        4 |                       0 |                       5 |                       9 |                     0 |                     0 |                             3 |                               7 |                             21 |                               0 |                    55 |                     0 |                            47 |                      0 |                      9 |                    14 |                             0 |                            0 |                           8 |                       48 |                           0 |                          7 |                        0 |                         0 |                     0 |                                201 |                     0 |                                 2 |                                  0 |                              0 |                               8 |                              7 |                                 2 |                                       2 |                    6 |                     49 |                                      0 |                      8 |                          11 |                     6 |                         5 |                                433 |\n",
      "+---------------------+---------------------------+----------------------+-----------------------+---------------------+-------------------------+----------------------+----------------------+-----------------------+---------------------------+-------------------------------+--------------------------------+-------------------------+------------------------+------------------------+--------------------------+-------------------------+-------------------------+-------------------------+-----------------------+-----------------------+-------------------------------+---------------------------------+--------------------------------+---------------------------------+-----------------------+-----------------------+-------------------------------+------------------------+------------------------+-----------------------+-------------------------------+------------------------------+-----------------------------+--------------------------+-----------------------------+----------------------------+--------------------------+---------------------------+-----------------------+------------------------------------+-----------------------+-----------------------------------+------------------------------------+--------------------------------+---------------------------------+--------------------------------+-----------------------------------+-----------------------------------------+----------------------+------------------------+----------------------------------------+------------------------+-----------------------------+-----------------------+---------------------------+------------------------------------+\n"
     ]
    }
   ],
   "source": [
    "import pandas as pd\n",
    "\n",
    "# Assuming df_FE is already loaded into memory\n",
    "# Create separate dataframes for group1 and group2\n",
    "df_group1 = df_FE[df_FE['group1_id'].notnull()]\n",
    "df_group2 = df_FE[df_FE['group2_id'].notnull()]\n",
    "\n",
    "# Pivot tables for each group\n",
    "pivot_group1 = df_group1.pivot_table(index='date', columns='group1', values='quantity', aggfunc='sum', fill_value=0)\n",
    "pivot_group2 = df_group2.pivot_table(index='date', columns='group2', values='quantity', aggfunc='sum', fill_value=0)\n",
    "\n",
    "# Merge the pivot tables on the index (date)\n",
    "result = pd.merge(pivot_group1, pivot_group2, left_index=True, right_index=True, how='outer', suffixes=('_group1', '_group2'))\n",
    "\n",
    "# Fill NaN values with 0\n",
    "result.fillna(0, inplace=True)\n",
    "\n",
    "# Rename columns as required\n",
    "result.columns = [f'group1_{col}_group1' if '_group1' in col else f'group2_{col}_group2' for col in result.columns]\n",
    "\n",
    "dc.print_df_with_dtypes(result, max_rows=20, print_on=True, data_generated_path=DATA_GENERATED_PATH, name_extension='EDA_pivot_result')"
   ]
  },
  {
   "attachments": {},
   "cell_type": "markdown",
   "metadata": {},
   "source": [
    "### Pivot table for the four values only:\n",
    "\n",
    "group1: 'Pants', 'Socks';\n",
    "group2: 'Shorts' 'With hood';"
   ]
  },
  {
   "cell_type": "code",
   "execution_count": 43,
   "metadata": {},
   "outputs": [],
   "source": [
    "import pandas as pd\n",
    "\n",
    "# Assuming df_FE is already loaded into memory\n",
    "# Create separate dataframes for group1 and group2\n",
    "df_group1 = df_FE[df_FE['group1_id'].notnull()]\n",
    "df_group2 = df_FE[df_FE['group2_id'].notnull()]\n",
    "\n",
    "# Pivot tables for each group\n",
    "pivot_group1 = df_group1.pivot_table(index='date', columns='group1', values='quantity', aggfunc='sum', fill_value=0)\n",
    "pivot_group2 = df_group2.pivot_table(index='date', columns='group2', values='quantity', aggfunc='sum', fill_value=0)\n",
    "\n",
    "\n",
    "# Select the required columns\n",
    "pivot_group1 = pivot_group1[['Pants', 'Socks']]\n",
    "pivot_group2 = pivot_group2[['Shorts', 'With hood']]\n",
    "\n",
    "# Merge the pivot tables on the index (date)\n",
    "result = pd.merge(pivot_group1, pivot_group2, left_index=True, right_index=True, how='outer')\n",
    "\n",
    "# Fill NaN values with 0\n",
    "result.fillna(0, inplace=True)\n",
    "\n",
    "# Rename columns as required\n",
    "result.columns = [f'group1_{col}' if col in ['Pants', 'Socks'] else f'group2_{col}' for col in result.columns]\n",
    "\n",
    "print(result)\n"
   ]
  },
  {
   "attachments": {},
   "cell_type": "markdown",
   "metadata": {},
   "source": [
    "### Do this only for the country CZ\n",
    "\n"
   ]
  },
  {
   "cell_type": "code",
   "execution_count": 56,
   "metadata": {},
   "outputs": [
    {
     "name": "stdout",
     "output_type": "stream",
     "text": [
      "            group1_Pants  group1_Socks  group2_Shorts  group2_With hood\n",
      "date                                                                   \n",
      "2019-06-01             8             3              5                 1\n",
      "2019-06-02             1             0              1                 0\n",
      "2019-06-03             5             1              4                 0\n",
      "2019-06-04           109            34             75                 6\n",
      "2019-06-05           154            87            109                41\n",
      "...                  ...           ...            ...               ...\n",
      "2022-01-10            89            99             27                22\n",
      "2022-01-11            74           119             30                17\n",
      "2022-01-12            85            83             35                20\n",
      "2022-01-13            69            79             40                12\n",
      "2022-01-14            20            38              9                 1\n",
      "\n",
      "[957 rows x 4 columns]\n"
     ]
    }
   ],
   "source": [
    "import pandas as pd\n",
    "\n",
    "# Assuming df_FE is already loaded into memory\n",
    "# Filter the data for the country 'cz'\n",
    "df_FE_cz = df_FE[df_FE['country'] == 'cz']\n",
    "\n",
    "# Create separate dataframes for group1 and group2\n",
    "df_group1_cz = df_FE_cz[df_FE_cz['group1_id'].notnull()]\n",
    "df_group2_cz = df_FE_cz[df_FE_cz['group2_id'].notnull()]\n",
    "\n",
    "# Pivot tables for each group\n",
    "pivot_group1_cz = df_group1_cz.pivot_table(index='date', columns='group1', values='quantity', aggfunc='sum', fill_value=0)\n",
    "pivot_group2_cz = df_group2_cz.pivot_table(index='date', columns='group2', values='quantity', aggfunc='sum', fill_value=0)\n",
    "\n",
    "# Select the required columns\n",
    "pivot_group1_cz = pivot_group1_cz[['Pants', 'Socks']]\n",
    "pivot_group2_cz = pivot_group2_cz[['Shorts', 'With hood']]\n",
    "\n",
    "# Merge the pivot tables on the index (date)\n",
    "result_cz = pd.merge(pivot_group1_cz, pivot_group2_cz, left_index=True, right_index=True, how='outer')\n",
    "\n",
    "# Fill NaN values with 0\n",
    "result_cz.fillna(0, inplace=True)\n",
    "\n",
    "# Rename columns as required\n",
    "result_cz.columns = [f'group1_{col}' if col in ['Pants', 'Socks'] else f'group2_{col}' for col in result_cz.columns]\n",
    "\n",
    "print(result_cz)\n"
   ]
  },
  {
   "cell_type": "code",
   "execution_count": null,
   "metadata": {},
   "outputs": [],
   "source": [
    "# create  2019-06-08 00:00:00 record and ffill\n",
    "\n"
   ]
  },
  {
   "cell_type": "code",
   "execution_count": 47,
   "metadata": {},
   "outputs": [
    {
     "name": "stdout",
     "output_type": "stream",
     "text": [
      "+---------------------+----------------+----------------+-----------------+--------------------+\n",
      "| date                |   group1_Pants |   group1_Socks |   group2_Shorts |   group2_With hood |\n",
      "|                     |          int64 |          int64 |           int64 |              int64 |\n",
      "|                     |         NaN: 0 |         NaN: 0 |          NaN: 0 |             NaN: 0 |\n",
      "|---------------------+----------------+----------------+-----------------+--------------------|\n",
      "| 2019-06-01 00:00:00 |              8 |              3 |               5 |                  1 |\n",
      "| 2019-06-02 00:00:00 |              1 |              0 |               1 |                  0 |\n",
      "| 2019-06-03 00:00:00 |              5 |              1 |               4 |                  0 |\n",
      "| 2019-06-04 00:00:00 |            109 |             34 |              75 |                  6 |\n",
      "| 2019-06-05 00:00:00 |            154 |             87 |             109 |                 41 |\n",
      "| 2019-06-06 00:00:00 |             51 |             36 |              46 |                  9 |\n",
      "| 2019-06-07 00:00:00 |             25 |              8 |              20 |                  3 |\n",
      "| 2019-06-08 00:00:00 |              3 |              0 |               3 |                  0 |\n",
      "| 2019-06-10 00:00:00 |             83 |             38 |              57 |                  6 |\n",
      "| 2019-06-11 00:00:00 |             86 |             41 |              64 |                  9 |\n",
      "| 2019-06-12 00:00:00 |             11 |              2 |               9 |                  1 |\n",
      "| 2019-06-13 00:00:00 |             45 |             24 |              31 |                  7 |\n",
      "| 2019-06-14 00:00:00 |             39 |             10 |              33 |                  4 |\n",
      "| 2019-06-16 00:00:00 |              1 |              0 |               1 |                  0 |\n",
      "| 2019-06-17 00:00:00 |            145 |             63 |             119 |                 11 |\n",
      "| 2019-06-18 00:00:00 |             39 |             22 |              30 |                  1 |\n",
      "| 2019-06-19 00:00:00 |             23 |             12 |              21 |                  1 |\n",
      "| 2019-06-20 00:00:00 |             43 |             10 |              34 |                  3 |\n",
      "| 2019-06-21 00:00:00 |             20 |             10 |              20 |                  2 |\n",
      "| 2019-06-22 00:00:00 |             22 |              6 |              15 |                  2 |\n",
      "+---------------------+----------------+----------------+-----------------+--------------------+\n"
     ]
    }
   ],
   "source": [
    "dc.print_df_with_dtypes(result_cz, max_rows=20, print_on=True, data_generated_path=DATA_GENERATED_PATH, name_extension='EDA_result_cz')"
   ]
  },
  {
   "cell_type": "code",
   "execution_count": 57,
   "metadata": {},
   "outputs": [],
   "source": [
    "# Forward-fill missing record for the specific date 2019-06-09\n",
    "result_cz = result_cz.asfreq('D', fill_value=0)\n",
    "result_cz.loc['2019-06-09'] = result_cz.loc['2019-06-08']"
   ]
  },
  {
   "cell_type": "code",
   "execution_count": 59,
   "metadata": {},
   "outputs": [
    {
     "name": "stdout",
     "output_type": "stream",
     "text": [
      "+---------------------+----------------+----------------+-----------------+--------------------+\n",
      "| date                |   group1_Pants |   group1_Socks |   group2_Shorts |   group2_With hood |\n",
      "|                     |          int64 |          int64 |           int64 |              int64 |\n",
      "|                     |         NaN: 0 |         NaN: 0 |          NaN: 0 |             NaN: 0 |\n",
      "|---------------------+----------------+----------------+-----------------+--------------------|\n",
      "| 2019-06-01 00:00:00 |              8 |              3 |               5 |                  1 |\n",
      "| 2019-06-02 00:00:00 |              1 |              0 |               1 |                  0 |\n",
      "| 2019-06-03 00:00:00 |              5 |              1 |               4 |                  0 |\n",
      "| 2019-06-04 00:00:00 |            109 |             34 |              75 |                  6 |\n",
      "| 2019-06-05 00:00:00 |            154 |             87 |             109 |                 41 |\n",
      "| 2019-06-06 00:00:00 |             51 |             36 |              46 |                  9 |\n",
      "| 2019-06-07 00:00:00 |             25 |              8 |              20 |                  3 |\n",
      "| 2019-06-08 00:00:00 |              3 |              0 |               3 |                  0 |\n",
      "| 2019-06-09 00:00:00 |              3 |              0 |               3 |                  0 |\n",
      "| 2019-06-10 00:00:00 |             83 |             38 |              57 |                  6 |\n",
      "| 2019-06-11 00:00:00 |             86 |             41 |              64 |                  9 |\n",
      "| 2019-06-12 00:00:00 |             11 |              2 |               9 |                  1 |\n",
      "| 2019-06-13 00:00:00 |             45 |             24 |              31 |                  7 |\n",
      "| 2019-06-14 00:00:00 |             39 |             10 |              33 |                  4 |\n",
      "| 2019-06-15 00:00:00 |              0 |              0 |               0 |                  0 |\n",
      "| 2019-06-16 00:00:00 |              1 |              0 |               1 |                  0 |\n",
      "| 2019-06-17 00:00:00 |            145 |             63 |             119 |                 11 |\n",
      "| 2019-06-18 00:00:00 |             39 |             22 |              30 |                  1 |\n",
      "| 2019-06-19 00:00:00 |             23 |             12 |              21 |                  1 |\n",
      "| 2019-06-20 00:00:00 |             43 |             10 |              34 |                  3 |\n",
      "+---------------------+----------------+----------------+-----------------+--------------------+\n"
     ]
    }
   ],
   "source": [
    "dc.print_df_with_dtypes(result_cz, max_rows=20, print_on=True, data_generated_path=DATA_GENERATED_PATH, name_extension='EDA_result_cz_ffilled')"
   ]
  },
  {
   "cell_type": "code",
   "execution_count": 60,
   "metadata": {},
   "outputs": [],
   "source": [
    "# save the result_cz to csv\n",
    "result_cz.to_csv(DATA_GENERATED_PATH + 'EDA_result_cz_ffilled.csv')"
   ]
  },
  {
   "cell_type": "code",
   "execution_count": 61,
   "metadata": {},
   "outputs": [
    {
     "name": "stdout",
     "output_type": "stream",
     "text": [
      "<class 'pandas.core.frame.DataFrame'>\n",
      "DatetimeIndex: 959 entries, 2019-06-01 to 2022-01-14\n",
      "Freq: D\n",
      "Data columns (total 4 columns):\n",
      " #   Column            Non-Null Count  Dtype\n",
      "---  ------            --------------  -----\n",
      " 0   group1_Pants      959 non-null    int64\n",
      " 1   group1_Socks      959 non-null    int64\n",
      " 2   group2_Shorts     959 non-null    int64\n",
      " 3   group2_With hood  959 non-null    int64\n",
      "dtypes: int64(4)\n",
      "memory usage: 69.8 KB\n"
     ]
    }
   ],
   "source": [
    "result_cz.info()"
   ]
  }
 ],
 "metadata": {
  "kernelspec": {
   "display_name": "tensorflow",
   "language": "python",
   "name": "python3"
  },
  "language_info": {
   "codemirror_mode": {
    "name": "ipython",
    "version": 3
   },
   "file_extension": ".py",
   "mimetype": "text/x-python",
   "name": "python",
   "nbconvert_exporter": "python",
   "pygments_lexer": "ipython3",
   "version": "3.10.10"
  },
  "orig_nbformat": 4
 },
 "nbformat": 4,
 "nbformat_minor": 2
}
