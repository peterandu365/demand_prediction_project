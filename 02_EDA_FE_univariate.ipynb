{
 "cells": [
  {
   "cell_type": "markdown",
   "metadata": {},
   "source": [
    "Project setup"
   ]
  },
  {
   "cell_type": "code",
   "execution_count": 1,
   "metadata": {},
   "outputs": [],
   "source": [
    "from IPython.core.interactiveshell import InteractiveShell\n",
    "InteractiveShell.ast_node_interactivity = \"all\""
   ]
  },
  {
   "cell_type": "code",
   "execution_count": 2,
   "metadata": {},
   "outputs": [
    {
     "data": {
      "text/plain": [
       "<module 'src.modules.data_cleaning' from '/Users/ds/data_science/demand_prediction_data/src/modules/data_cleaning.py'>"
      ]
     },
     "execution_count": 2,
     "metadata": {},
     "output_type": "execute_result"
    }
   ],
   "source": [
    "from importlib import reload\n",
    "import src.modules.data_cleaning as dc\n",
    "\n",
    "# Reload the data_cleaning module to ensure that any changes made to it are reflected in this notebook\n",
    "reload(dc)"
   ]
  },
  {
   "cell_type": "code",
   "execution_count": 3,
   "metadata": {},
   "outputs": [],
   "source": [
    "import os\n",
    "\n",
    "global DATA_FOLDER, SRC_FOLDER, MODULES_FOLDER, TESTS_FOLDER, OUTPUT_FOLDER, FIGURES_FOLDER\n",
    "\n",
    "# Define folder paths as global variables\n",
    "DATA_FOLDER = \"data/\"\n",
    "SRC_FOLDER = \"src/\"\n",
    "MODULES_FOLDER = \"src/modules/\"\n",
    "TESTS_FOLDER = \"src/tests/\"\n",
    "OUTPUT_FOLDER = \"output/\"\n",
    "FIGURES_FOLDER = \"output/figures/\"\n",
    "\n",
    "# folders = [\n",
    "#     DATA_FOLDER,\n",
    "#     SRC_FOLDER,\n",
    "#     MODULES_FOLDER,\n",
    "#     TESTS_FOLDER,\n",
    "#     OUTPUT_FOLDER,\n",
    "#     FIGURES_FOLDER,\n",
    "# ]\n",
    "\n",
    "# for folder in folders:\n",
    "#     if not os.path.exists(folder):\n",
    "#         os.makedirs(folder)\n",
    "#         print(f\"Created folder: {folder}\")\n",
    "#     else:\n",
    "#         print(f\"Folder already exists: {folder}\")\n"
   ]
  },
  {
   "cell_type": "code",
   "execution_count": 4,
   "metadata": {},
   "outputs": [],
   "source": [
    "global DATA_PATH, DATA_ORIGINAL_PATH, DATA_GENERATED_PATH, IMAGE_GENERATED_PATH\n",
    "\n",
    "DATA_PATH = DATA_FOLDER\n",
    "DATA_ORIGINAL_PATH = DATA_FOLDER\n",
    "DATA_GENERATED_PATH = OUTPUT_FOLDER\n",
    "IMAGE_GENERATED_PATH = FIGURES_FOLDER\n",
    "\n",
    "\n",
    "global COLORS\n",
    "\n",
    "COLORS = ['#636EFA', '#EF553B', '#00CC96', '#AB63FA', '#FFA15A', '#19D3F3', '#FF6692', '#B6E880', '#FF97FF', '#FECB52']"
   ]
  },
  {
   "cell_type": "code",
   "execution_count": 5,
   "metadata": {},
   "outputs": [],
   "source": [
    "global LSTM1_OUT_PATH\n",
    "LSTM1_OUT_PATH = DATA_GENERATED_PATH + 'LSTM_1/'"
   ]
  },
  {
   "cell_type": "markdown",
   "metadata": {},
   "source": [
    "# EDA"
   ]
  },
  {
   "cell_type": "markdown",
   "metadata": {},
   "source": [
    "## Accessing the Database"
   ]
  },
  {
   "cell_type": "code",
   "execution_count": 6,
   "metadata": {},
   "outputs": [],
   "source": [
    "# read the parquet file\n",
    "import pandas as pd\n",
    "df = pd.read_parquet(DATA_GENERATED_PATH + 'ETL_finished.parquet')"
   ]
  },
  {
   "cell_type": "code",
   "execution_count": 7,
   "metadata": {},
   "outputs": [
    {
     "data": {
      "text/plain": [
       "Timestamp('2019-06-01 00:00:00')"
      ]
     },
     "execution_count": 7,
     "metadata": {},
     "output_type": "execute_result"
    },
    {
     "data": {
      "text/plain": [
       "Timestamp('2022-01-14 00:00:00')"
      ]
     },
     "execution_count": 7,
     "metadata": {},
     "output_type": "execute_result"
    }
   ],
   "source": [
    "# min max in the df.index\n",
    "df.index.min()\n",
    "df.index.max()"
   ]
  },
  {
   "cell_type": "code",
   "execution_count": 8,
   "metadata": {},
   "outputs": [],
   "source": [
    "\n",
    "\n",
    "# # Check pairing for all combinations\n",
    "# dc.check_all_column_pairings(df)\n",
    "\n"
   ]
  },
  {
   "attachments": {},
   "cell_type": "markdown",
   "metadata": {},
   "source": [
    "Output:\n",
    "\n",
    "* brand_id and brand_name are paired 1-to-1\n",
    "* group0_id and group0 are paired 1-to-1\n",
    "* group1_id and group1 are paired 1-to-1\n",
    "* group2_id and group2 are paired 1-to-1"
   ]
  },
  {
   "cell_type": "code",
   "execution_count": 9,
   "metadata": {},
   "outputs": [
    {
     "name": "stdout",
     "output_type": "stream",
     "text": [
      "+---------------------+------------+---------------+-------------+------------+-----------------+-----------------------+-------------+---------------------+--------------+-----------+----------+-----------------+---------------------+----------------------------------------+------------------+------------+------------------+-------------+-----------+-------------+-----------------+-------------+-------------------------+-------------+-------------+-------------+-------------+-------------+\n",
      "| date                |   order_id | payment       | item_code   |   quantity |   gift_quantity |   unit_price_vat_excl |   unit_cogs |   unit_rrp_vat_excl | department   | channel   | owner    | site            | CreatedAt           | item_name                              | style            |   brand_id | brand_name       |   group0_id | group0    |   group1_id | group1          |   group2_id | group2                  | category    | gender      | age         | color       | size        |\n",
      "|                     |     string | object        | object      |      int64 |           int64 |               float64 |     float64 |             float64 | object       | object    | object   | object          | datetime64[ns]      | object                                 | object           |     string | object           |      string | object    |      string | object          |      string | object                  | object      | object      | object      | object      | object      |\n",
      "|                     |     NaN: 0 | NaN: 0        | NaN: 0      |     NaN: 0 |          NaN: 0 |                NaN: 0 |      NaN: 0 |              NaN: 0 | NaN: 0       | NaN: 0    | NaN: 0   | NaN: 0          | NaN: 0              | NaN: 0                                 | NaN: 0           |     NaN: 0 | NaN: 0           |      NaN: 0 | NaN: 0    |      NaN: 0 | NaN: 0          |      NaN: 0 | NaN: 0                  | NaN: 0      | NaN: 0      | NaN: 0      | NaN: 0      | NaN: 0      |\n",
      "|---------------------+------------+---------------+-------------+------------+-----------------+-----------------------+-------------+---------------------+--------------+-----------+----------+-----------------+---------------------+----------------------------------------+------------------+------------+------------------+-------------+-----------+-------------+-----------------+-------------+-------------------------+-------------+-------------+-------------+-------------+-------------|\n",
      "| 2019-06-01 00:00:00 | 1900079924 | CARD_CSOB     | ZB00023833  |          1 |               0 |              22.3267  |  15.5039    |            32.0008  | E-COMMER     | Sport.cC  | Sport.cO | top4sport.cz    | 2019-06-01 09:37:00 | MK1 Short 7in                          | 1312292-001      |        106 | Under Armour     |         200 | Apparel   |         240 | Pants           |         242 | Shorts                  | fitness     | men         | adults      | Black       | M           |\n",
      "| 2019-06-01 00:00:00 | 1900079006 | COD           | ZB00000154  |          1 |               0 |              10.3787  |   8.06938   |            15.9845  | E-COMMER     | RUN.czC   | RUN.czO  | top4running.cz  | 2019-06-01 06:26:00 | W NK RUN TOP SS                        | 890353-100       |         84 | Nike             |         200 | Apparel   |         230 | T-Shirts        |           0 | unspecified             | running     | women       | adults      | White       | XS          |\n",
      "| 2019-06-01 00:00:00 | 1900079006 | COD           | ZB00007330  |          1 |               0 |              14.9593  |  10.7171    |            25.3058  | E-COMMER     | RUN.czC   | RUN.czO  | top4running.cz  | 2019-06-01 06:26:00 | W NK DRY MILER TOP SS                  | 932499-823       |         84 | Nike             |         200 | Apparel   |         230 | T-Shirts        |           0 | unspecified             | running     | women       | adults      | Pink        | XS          |\n",
      "| 2019-06-01 00:00:00 | 1900079006 | COD           | ZB00018948  |          1 |               0 |              25.5942  |  13.007     |            25.5942  | E-COMMER     | RUN.czC   | RUN.czO  | top4running.cz  | 2019-06-01 06:26:00 | W NK MILER TANK SURF                   | aq5179-686       |         84 | Nike             |         200 | Apparel   |         230 | T-Shirts        |         235 | Tank                    | running     | women       | adults      | Pink        | XS          |\n",
      "| 2019-06-01 00:00:00 | 1900079006 | COD           | ZB00022416  |          1 |               0 |              28.7977  |  14.6349    |            28.7977  | E-COMMER     | RUN.czC   | RUN.czO  | top4running.cz  | 2019-06-01 06:26:00 | W NK AIR SHORT                         | aq5634-100       |         84 | Nike             |         200 | Apparel   |         240 | Pants           |         242 | Shorts                  | running     | women       | adults      | White       | XS          |\n",
      "| 2019-06-01 00:00:00 | 1900079006 | COD           | S113        |          1 |               0 |               0.92907 |   0         |             0.92907 | E-COMMER     | RUN.czC   | RUN.czO  | top4running.cz  | 2019-06-01 06:26:00 | Platba                                 | unspecified      |         -1 | no_manufacturer  |         999 | Other     |           0 | unspecified     |           0 | unspecified             | unspecified | unspecified | unspecified | unspecified | unspecified |\n",
      "| 2019-06-01 00:00:00 | 1900079010 | COD           | ZB00016698  |          1 |               0 |             132.295   |  72.662     |           188.962   | E-COMMER     | FTB.czC   | FTB.czO  | 11teamsports.cz | 2019-06-01 06:26:00 | X 181 FG                               | bb9347           |         85 | adidas           |         100 | Footwear  |         110 | Football shoes  |           0 | unspecified             | football    | men         | adults      | Red         | 42,7        |\n",
      "| 2019-06-01 00:00:00 | 1900079010 | COD           | ZB00026001  |          1 |               0 |             132.295   |  83.0682    |           188.962   | E-COMMER     | FTB.czC   | FTB.czO  | 11teamsports.cz | 2019-06-01 06:26:00 | X 181 SG                               | bb9359           |         85 | adidas           |         100 | Footwear  |         110 | Football shoes  |           0 | unspecified             | football    | men         | adults      | Red         | 43,3        |\n",
      "| 2019-06-01 00:00:00 | 1900079010 | COD           | S113        |          1 |               0 |               0.92907 |   0         |             0.92907 | E-COMMER     | FTB.czC   | FTB.czO  | 11teamsports.cz | 2019-06-01 06:26:00 | Platba                                 | unspecified      |         -1 | no_manufacturer  |         999 | Other     |           0 | unspecified     |           0 | unspecified             | unspecified | unspecified | unspecified | unspecified | unspecified |\n",
      "| 2019-06-01 00:00:00 | 1900079011 | CARD_CSOB     | ZB00009549  |          1 |               0 |              17.9384  |  16.4775    |            25.5942  | E-COMMER     | FTB.czC   | FTB.czO  | 11teamsports.cz | 2019-06-01 09:31:00 | HG SS                                  | 1257468-001      |        106 | Under Armour     |         200 | Apparel   |         230 | T-Shirts        |         236 | Compression shirts      | fitness     | men         | adults      | Black       | M           |\n",
      "| 2019-06-01 00:00:00 | 1900079011 | CARD_CSOB     | ZB00026129  |          1 |               0 |               6.37442 |   3.94884   |            10.5388  | E-COMMER     | FTB.czC   | FTB.czO  | 11teamsports.cz | 2019-06-01 09:31:00 | PER CREW T 3PP                         | aa2330           |         85 | adidas           |         200 | Apparel   |         290 | Socks           |           0 | unspecified             | fitness     | unisex      | adults      | Black       | 39-42       |\n",
      "| 2019-06-01 00:00:00 | 1900079011 | CARD_CSOB     | ZB00000044  |          1 |               0 |              48.0171  |  28.0554    |            80.05    | E-COMMER     | FTB.czC   | FTB.czO  | 11teamsports.cz | 2019-06-01 09:31:00 | TEAM Match Ball                        | cz2235           |         85 | adidas           |         300 | Equipment |         320 | Balls           |           0 | unspecified             | football    | men         | adults      | White       | 5           |\n",
      "| 2019-06-01 00:00:00 | 1900079011 | CARD_CSOB     | S114        |         -1 |               0 |               3.2031  |   0         |             3.2031  | E-COMMER     | FTB.czC   | FTB.czO  | 11teamsports.cz | 2019-06-01 09:31:00 | Sleva                                  | unspecified      |         -1 | no_manufacturer  |         999 | Other     |           0 | unspecified     |           0 | unspecified             | unspecified | unspecified | unspecified | unspecified | unspecified |\n",
      "| 2019-06-01 00:00:00 | 1900079027 | GOPAY_CARD    | ZB00026129  |          1 |               0 |               6.55432 |   3.97054   |            10.0866  | E-COMMER     | RUN.deC   | RUN.deO  | top4running.de  | 2019-06-01 06:31:00 | PER CREW T 3PP                         | aa2330           |         85 | adidas           |         200 | Apparel   |         290 | Socks           |           0 | unspecified             | fitness     | unisex      | adults      | Black       | 39-42       |\n",
      "| 2019-06-01 00:00:00 | 1900079030 | COD           | ZB00025621  |          1 |               0 |              37.8628  |  14.4395    |            44.5256  | E-COMMER     | FTB.czC   | FTB.czO  | 11teamsports.cz | 2019-06-01 06:32:00 | M NK Team Club Hoody                   | 658498-463       |         84 | Nike             |         200 | Apparel   |         220 | Sweatshirts     |         221 | With hood               | lifestyle   | men         | adults      | unspecified | L           |\n",
      "| 2019-06-01 00:00:00 | 1900079030 | COD           | ZB00026033  |          1 |               0 |              26.8116  |  14.0167    |            44.5256  | E-COMMER     | FTB.czC   | FTB.czO  | 11teamsports.cz | 2019-06-01 06:32:00 | Nike Team Club Crew                    | 658681-463       |         84 | Nike             |         200 | Apparel   |         220 | Sweatshirts     |           0 | unspecified             | football    | men         | adults      | Blue        | L           |\n",
      "| 2019-06-01 00:00:00 | 1900079030 | COD           | ZB00000094  |          1 |               0 |              11.2756  |   5.48101   |            14.3826  | E-COMMER     | FTB.czC   | FTB.czO  | 11teamsports.cz | 2019-06-01 06:32:00 | PARK II KNIT SHORT NB                  | 725887-463       |         84 | Nike             |         200 | Apparel   |         240 | Pants           |         242 | Shorts                  | football    | men         | adults      | Blue        | L           |\n",
      "| 2019-06-01 00:00:00 | 1900079030 | COD           | ZB00026511  |          1 |               0 |              16.5291  |   8.37752   |            23.9926  | E-COMMER     | FTB.czC   | FTB.czO  | 11teamsports.cz | 2019-06-01 06:32:00 | CORE18 PES PNT                         | cv3585           |         85 | adidas           |         200 | Apparel   |         240 | Pants           |           0 | unspecified             | football    | men         | adults      | Blue        | L           |\n",
      "| 2019-06-01 00:00:00 | 1900078998 | CARD_CSOB     | S101        |          1 |               0 |               1.56977 |   0         |             1.56977 | E-COMMER     | FTB.czC   | FTB.czO  | 11teamsports.cz | 2019-06-01 06:26:00 | Dopravné                               | unspecified      |         -1 | no_manufacturer  |         999 | Other     |           0 | unspecified     |           0 | unspecified             | unspecified | unspecified | unspecified | unspecified | unspecified |\n",
      "| 2019-06-01 00:00:00 | 1900078998 | CARD_CSOB     | ZB00025631  |          1 |               0 |              21.8143  |  11.781     |            35.2039  | E-COMMER     | FTB.czC   | FTB.czO  | 11teamsports.cz | 2019-06-01 06:26:00 | CORE18 RN JKT                          | ce9048           |         85 | adidas           |         200 | Apparel   |         215 | Jackets         |           0 | unspecified             | football    | men         | adults      | Black       | M           |\n",
      "| 2019-06-01 00:00:00 | 1900078996 | COD           | ZB00026793  |          1 |               0 |              45.1998  |  28.0252    |            58.3684  | E-COMMER     | FTB.skC   | FTB.skO  | 11teamsports.sk | 2019-06-01 09:34:00 | M NSW NIKE AIR HOODIE PO FLC           | ar1817-010       |         84 | Nike             |         200 | Apparel   |         220 | Sweatshirts     |         221 | With hood               | football    | men         | adults      | Black       | M           |\n",
      "| 2019-06-01 00:00:00 | 1900078992 | COD           | ZB00026483  |          1 |               0 |               7.74962 |   6.05271   |            11.0535  | E-COMMER     | FTB.huC   | FTB.huO  | 11teamsports.hu | 2019-06-01 06:25:00 | NK GK MATCH JR-FA18                    | gs0368-095       |         84 | Nike             |         300 | Equipment |         280 | Gloves          |         327 | Football gloves         | football    | unisex      | kids        | Silver      | 8           |\n",
      "| 2019-06-01 00:00:00 | 1900080152 | CARD_CSOB     | ZB00013828  |          1 |               0 |              25.3058  |  11.2612    |             0       | E-COMMER     | RUN.czC   | RUN.czO  | top4running.cz  | 2019-06-01 09:32:00 | W NP TOP SS ALL OVER MESH Zlatá tretra | 889540-617-zt    |         84 | Nike             |         200 | Apparel   |         230 | T-Shirts        |           0 | unspecified             | running     | women       | adults      | Pink        | S           |\n",
      "| 2019-06-01 00:00:00 | 1900080152 | CARD_CSOB     | S101        |          1 |               0 |               2.21008 |   0         |             2.21008 | E-COMMER     | RUN.czC   | RUN.czO  | top4running.cz  | 2019-06-01 09:32:00 | Dopravné                               | unspecified      |         -1 | no_manufacturer  |         999 | Other     |           0 | unspecified     |           0 | unspecified             | unspecified | unspecified | unspecified | unspecified | unspecified |\n",
      "| 2019-06-01 00:00:00 | 1900079354 | COD           | ZB00005571  |          2 |               0 |              53.1755  |   8.1345    |            57.7843  | E-COMMER     | RUN.roC   | RUN.roO  | top4running.ro  | 2019-06-01 08:51:00 | NIKE ZOOM RIVAL S 9                    | 907564-017       |         84 | Nike             |         100 | Footwear  |         120 | Running shoes   |         123 | Spikes                  | running     | unisex      | adults      | Black       | 42          |\n",
      "| 2019-06-01 00:00:00 | 1900078889 | PAYPAL        | ZB00023011  |          1 |               0 |              85.096   |  46.1446    |            92.5009  | E-COMMER     | RUN.deC   | RUN.deO  | top4running.de  | 2019-06-01 08:48:00 | NIKE ZOOM ROTATIONAL 6                 | 685131-600       |         84 | Nike             |         100 | Footwear  |         120 | Running shoes   |         123 | Spikes                  | running     | unisex      | adults      | Dark red    | 39          |\n",
      "| 2019-06-01 00:00:00 | 1900078912 | CARD_CSOB     | ZB00026115  |          1 |               0 |              15.3756  |   7.22403   |            20.7891  | E-COMMER     | FTB.czC   | FTB.czO  | 11teamsports.cz | 2019-06-01 06:35:00 | B NP SHORT                             | 858226-011       |         84 | Nike             |         200 | Apparel   |         240 | Pants           |         244 | Compression pants       | fitness     | unisex      | kids        | Black       | L           |\n",
      "| 2019-06-01 00:00:00 | 1900078912 | CARD_CSOB     | S101        |          1 |               0 |               2.21008 |   0         |             2.21008 | E-COMMER     | FTB.czC   | FTB.czO  | 11teamsports.cz | 2019-06-01 06:35:00 | Dopravné                               | unspecified      |         -1 | no_manufacturer  |         999 | Other     |           0 | unspecified     |           0 | unspecified             | unspecified | unspecified | unspecified | unspecified | unspecified |\n",
      "| 2019-06-01 00:00:00 | 1900078912 | CARD_CSOB     | S114        |         -1 |               0 |               3.2031  |   0         |             3.2031  | E-COMMER     | FTB.czC   | FTB.czO  | 11teamsports.cz | 2019-06-01 06:35:00 | Sleva                                  | unspecified      |         -1 | no_manufacturer  |         999 | Other     |           0 | unspecified     |           0 | unspecified             | unspecified | unspecified | unspecified | unspecified | unspecified |\n",
      "| 2019-06-01 00:00:00 | 1900078939 | CARD_CSOB     | ZB00025744  |          1 |               0 |              76.8787  |  46.0527    |            96.0663  | E-COMMER     | FTB.czC   | FTB.czO  | 11teamsports.cz | 2019-06-01 09:31:00 | VAPOR 12 PRO FG                        | ah7382-077       |         84 | Nike             |         100 | Footwear  |         110 | Football shoes  |           0 | unspecified             | football    | men         | adults      | Black       | 44          |\n",
      "| 2019-06-01 00:00:00 | 1900079030 | COD           | S113        |          1 |               0 |               0.92907 |   0         |             0.92907 | E-COMMER     | FTB.czC   | FTB.czO  | 11teamsports.cz | 2019-06-01 06:32:00 | Platba                                 | unspecified      |         -1 | no_manufacturer  |         999 | Other     |           0 | unspecified     |           0 | unspecified             | unspecified | unspecified | unspecified | unspecified | unspecified |\n",
      "| 2019-06-01 00:00:00 | 1900078940 | CARD_CSOB     | ZB00025745  |          1 |               0 |              45.6469  |  24.0399    |            60.8302  | E-COMMER     | FTB.czC   | FTB.czO  | 11teamsports.cz | 2019-06-01 09:31:00 | VAPOR 12 ACADEMY SG                    | ah7376-070       |         84 | Nike             |         100 | Footwear  |         110 | Football shoes  |           0 | unspecified             | football    | men         | adults      | Silver      | 45          |\n",
      "| 2019-06-01 00:00:00 | 1900078940 | CARD_CSOB     | S114        |         -1 |               0 |               3.2031  |   0         |             3.2031  | E-COMMER     | FTB.czC   | FTB.czO  | 11teamsports.cz | 2019-06-01 09:31:00 | Sleva                                  | unspecified      |         -1 | no_manufacturer  |         999 | Other     |           0 | unspecified     |           0 | unspecified             | unspecified | unspecified | unspecified | unspecified | unspecified |\n",
      "| 2019-06-01 00:00:00 | 1900078963 | COD           | ZB00025954  |          1 |               0 |              40.643   |  26.7198    |            65.5681  | E-COMMER     | FTB.huC   | FTB.huO  | 11teamsports.hu | 2019-06-01 06:25:00 | M NK DRY SQD17 TRK SUIT K              | 832325-702       |         84 | Nike             |         200 | Apparel   |         250 | Tracksuits      |           0 | unspecified             | football    | men         | adults      | Green       | M           |\n",
      "| 2019-06-01 00:00:00 | 1900078989 | COD           | ZB00025779  |          1 |               0 |              20.7891  |   9.73256   |            20.7891  | E-COMMER     | STR.czC   | STR.czO  | tint-store.cz   | 2019-06-01 06:25:00 | Adidas Originals bucket hat hut        | dv0863           |        232 | adidas Originals |         200 | Apparel   |         210 | Caps            |           0 | unspecified             | lifestyle   | unisex      | adults      | Black       | OSFM        |\n",
      "| 2019-06-01 00:00:00 | 1900078989 | COD           | S101        |          1 |               0 |               1.56977 |   0         |             1.56977 | E-COMMER     | STR.czC   | STR.czO  | tint-store.cz   | 2019-06-01 06:25:00 | Dopravné                               | unspecified      |         -1 | no_manufacturer  |         999 | Other     |           0 | unspecified     |           0 | unspecified             | unspecified | unspecified | unspecified | unspecified | unspecified |\n",
      "| 2019-06-01 00:00:00 | 1900078989 | COD           | S113        |          1 |               0 |               0.92907 |   0         |             0.92907 | E-COMMER     | STR.czC   | STR.czO  | tint-store.cz   | 2019-06-01 06:25:00 | Platba                                 | unspecified      |         -1 | no_manufacturer  |         999 | Other     |           0 | unspecified     |           0 | unspecified             | unspecified | unspecified | unspecified | unspecified | unspecified |\n",
      "| 2019-06-01 00:00:00 | 1900078990 | COD           | ZB00025779  |          1 |               0 |              20.7891  |   9.73256   |            20.7891  | E-COMMER     | STR.czC   | STR.czO  | tint-store.cz   | 2019-06-01 08:01:00 | Adidas Originals bucket hat hut        | dv0863           |        232 | adidas Originals |         200 | Apparel   |         210 | Caps            |           0 | unspecified             | lifestyle   | unisex      | adults      | Black       | OSFM        |\n",
      "| 2019-06-01 00:00:00 | 1900078990 | COD           | S101        |          1 |               0 |               1.56977 |   0         |             1.56977 | E-COMMER     | STR.czC   | STR.czO  | tint-store.cz   | 2019-06-01 08:01:00 | Dopravné                               | unspecified      |         -1 | no_manufacturer  |         999 | Other     |           0 | unspecified     |           0 | unspecified             | unspecified | unspecified | unspecified | unspecified | unspecified |\n",
      "| 2019-06-01 00:00:00 | 1900078990 | COD           | S113        |          1 |               0 |               0.92907 |   0         |             0.92907 | E-COMMER     | STR.czC   | STR.czO  | tint-store.cz   | 2019-06-01 08:01:00 | Platba                                 | unspecified      |         -1 | no_manufacturer  |         999 | Other     |           0 | unspecified     |           0 | unspecified             | unspecified | unspecified | unspecified | unspecified | unspecified |\n",
      "| 2019-06-01 00:00:00 | 1900078940 | CARD_CSOB     | S101        |          1 |               0 |               1.56977 |   0         |             1.56977 | E-COMMER     | FTB.czC   | FTB.czO  | 11teamsports.cz | 2019-06-01 09:31:00 | Dopravné                               | unspecified      |         -1 | no_manufacturer  |         999 | Other     |           0 | unspecified     |           0 | unspecified             | unspecified | unspecified | unspecified | unspecified | unspecified |\n",
      "| 2019-06-01 00:00:00 | 1900080152 | CARD_CSOB     | ZB00000151  |          1 |               0 |              25.3058  |   9.0531    |             0       | E-COMMER     | RUN.czC   | RUN.czO  | top4running.cz  | 2019-06-01 09:32:00 | W NP TOP SS ALL OVER MESH Zlatá tretra | 889540-010-zt    |         84 | Nike             |         200 | Apparel   |         230 | T-Shirts        |           0 | unspecified             | running     | women       | adults      | Black       | S           |\n",
      "| 2019-06-01 00:00:00 | 1900079037 | CARD_CSOB     | ZB00025619  |          1 |               0 |              24.7934  |  11.0574    |            38.119   | E-COMMER     | FTB.czC   | VO_B_FTO | 11teamsports.cz | 2019-06-01 06:31:00 | ACADEMY14 SDLN WVN JKT - TEAMSPORT     | 588473-739       |         84 | Nike             |         200 | Apparel   |         215 | Jackets         |           0 | unspecified             | football    | unisex      | adults      | Yellow      | M           |\n",
      "| 2019-06-01 00:00:00 | 1900079037 | CARD_CSOB     | S101        |          1 |               0 |               1.56977 |   0         |             1.56977 | E-COMMER     | FTB.czC   | VO_B_FTO | 11teamsports.cz | 2019-06-01 06:31:00 | Dopravné                               | unspecified      |         -1 | no_manufacturer  |         999 | Other     |           0 | unspecified     |           0 | unspecified             | unspecified | unspecified | unspecified | unspecified | unspecified |\n",
      "| 2019-06-01 00:00:00 | 1900079122 | COD           | ZB00026709  |          1 |               0 |              38.4631  |  24.8899    |            63.8106  | E-COMMER     | FIT.roC   | FIT.roO  | top4fitness.ro  | 2019-06-01 06:34:00 | W NSW AV15 JKT KNT                     | 837458-100       |         84 | Nike             |         200 | Apparel   |         215 | Jackets         |           0 | unspecified             | football    | women       | adults      | Silver      | S           |\n",
      "| 2019-06-01 00:00:00 | 1900079924 | CARD_CSOB     | ZB00000394  |          1 |               0 |              23.0314  |  17.0407    |            25.5942  | E-COMMER     | Sport.cC  | Sport.cO | top4sport.cz    | 2019-06-01 09:37:00 | UA SPEED STRIDE SHORTSLEEVE-BLU        | 1326564-437      |        106 | Under Armour     |         200 | Apparel   |         230 | T-Shirts        |           0 | unspecified             | running     | men         | adults      | Blue        | S/M         |\n",
      "| 2019-06-01 00:00:00 | 1900079924 | CARD_CSOB     | S101        |          1 |               0 |               1.56977 |   0         |             1.56977 | E-COMMER     | Sport.cC  | Sport.cO | top4sport.cz    | 2019-06-01 09:37:00 | Dopravné                               | unspecified      |         -1 | no_manufacturer  |         999 | Other     |           0 | unspecified     |           0 | unspecified             | unspecified | unspecified | unspecified | unspecified | unspecified |\n",
      "| 2019-06-01 00:00:00 | 1900079924 | CARD_CSOB     | S114        |         -1 |               0 |               3.2031  |   0         |             3.2031  | E-COMMER     | Sport.cC  | Sport.cO | top4sport.cz    | 2019-06-01 09:37:00 | Sleva                                  | unspecified      |         -1 | no_manufacturer  |         999 | Other     |           0 | unspecified     |           0 | unspecified             | unspecified | unspecified | unspecified | unspecified | unspecified |\n",
      "| 2019-06-01 00:00:00 | 1900079845 | COD           | S114        |         -1 |               0 |               3.2031  |   0         |             3.2031  | E-COMMER     | STR.czC   | STR.czO  | tint-store.cz   | 2019-06-01 09:32:00 | Sleva                                  | unspecified      |         -1 | no_manufacturer  |         999 | Other     |           0 | unspecified     |           0 | unspecified             | unspecified | unspecified | unspecified | unspecified | unspecified |\n",
      "| 2019-06-01 00:00:00 | 1900079845 | COD           | S113        |          1 |               0 |               0.92907 |   0         |             0.92907 | E-COMMER     | STR.czC   | STR.czO  | tint-store.cz   | 2019-06-01 09:32:00 | Platba                                 | unspecified      |         -1 | no_manufacturer  |         999 | Other     |           0 | unspecified     |           0 | unspecified             | unspecified | unspecified | unspecified | unspecified | unspecified |\n",
      "| 2019-06-01 00:00:00 | 1900079845 | COD           | S101        |          1 |               0 |               2.85078 |   0         |             2.85078 | E-COMMER     | STR.czC   | STR.czO  | tint-store.cz   | 2019-06-01 09:32:00 | Dopravné                               | unspecified      |         -1 | no_manufacturer  |         999 | Other     |           0 | unspecified     |           0 | unspecified             | unspecified | unspecified | unspecified | unspecified | unspecified |\n",
      "| 2019-06-01 00:00:00 | 1900079845 | COD           | ZB00025984  |          1 |               0 |              57.6271  |  28.3442    |            57.6271  | E-COMMER     | STR.czC   | STR.czO  | tint-store.cz   | 2019-06-01 09:32:00 | DEERUPT RUNNER J                       | f34295           |        232 | adidas Originals |         100 | Footwear  |         199 | Other Footwear  |           0 | unspecified             | lifestyle   | unisex      | kids        | White       | 39,3        |\n",
      "| 2019-06-01 00:00:00 | 1900080490 | CARD_CSOB     | ZB00015845  |          1 |               0 |             114.165   |  87.5407    |           190.275   | E-COMMER     | FTB.czC   | FTB.czO  | 11teamsports.cz | 2019-06-01 11:57:00 | NEMEZIZ 191 FG                         | f34408           |         85 | adidas           |         100 | Footwear  |         110 | Football shoes  |           0 | unspecified             | football    | men         | adults      | Red         | 46          |\n",
      "| 2019-06-01 00:00:00 | 1900080490 | CARD_CSOB     | ZB00015803  |          1 |               0 |             114.165   |  87.5415    |           190.275   | E-COMMER     | FTB.czC   | FTB.czO  | 11teamsports.cz | 2019-06-01 11:57:00 | NEMEZIZ 191 SG                         | f99855           |         85 | adidas           |         100 | Footwear  |         110 | Football shoes  |           0 | unspecified             | football    | men         | adults      | Red         | 46          |\n",
      "| 2019-06-01 00:00:00 | 1900079295 | PAYPAL        | ZB00012026  |          1 |               0 |               8.24543 |  11.3791    |            22.6886  | E-COMMER     | FIT.deC   | FIT.deO  | top4fitness.de  | 2019-06-01 17:01:00 | NK ELMNTL BKPK                         | ba5381-346       |         84 | Nike             |         300 | Equipment |         310 | Backpacks       |           0 | unspecified             | football    | unisex      | adults      | Green       | ks          |\n",
      "| 2019-06-01 00:00:00 | 1900079825 | GOPAY_CARD    | S101        |          1 |               0 |               5.00329 |   0         |             4.96327 | E-COMMER     | RUN.comC  | RUN.comO | top4running.com | 2019-06-01 08:01:00 | Dopravné                               | unspecified      |         -1 | no_manufacturer  |         999 | Other     |           0 | unspecified     |           0 | unspecified             | unspecified | unspecified | unspecified | unspecified | unspecified |\n",
      "| 2019-06-01 00:00:00 | 1900079825 | GOPAY_CARD    | ZB00009040  |          1 |               0 |              53.4552  |   0.0387597 |            75.6698  | E-COMMER     | RUN.comC  | RUN.comO | top4running.com | 2019-06-01 08:01:00 | SAUCONY JAZZ ORIGINAL VINTAGE          | s60368-40        |        103 | Saucony          |         100 | Footwear  |         199 | Other Footwear  |           0 | unspecified             | lifestyle   | women       | adults      | Yellow      | 38          |\n",
      "| 2019-06-01 00:00:00 | 1900080509 | COD           | ZB00022564  |          2 |               0 |              24.6333  |  17.0543    |            35.2039  | E-COMMER     | RUN.czC   | RUN.czO  | top4running.cz  | 2019-06-01 09:32:00 | Cotton Stretch 6 3 Pack                | 1277279-004      |        106 | Under Armour     |         200 | Apparel   |         260 | Underwear       |           0 | unspecified             | fitness     | men         | adults      | Black       | M           |\n",
      "| 2019-06-01 00:00:00 | 1900080509 | COD           | S101        |          1 |               0 |               1.56977 |   0         |             1.56977 | E-COMMER     | RUN.czC   | RUN.czO  | top4running.cz  | 2019-06-01 09:32:00 | Dopravné                               | unspecified      |         -1 | no_manufacturer  |         999 | Other     |           0 | unspecified     |           0 | unspecified             | unspecified | unspecified | unspecified | unspecified | unspecified |\n",
      "| 2019-06-01 00:00:00 | 1900079952 | COD           | ZB00009785  |          1 |               0 |              63.2326  |   1.00078   |           105.388   | E-COMMER     | RUN.czC   | RUN.czO  | top4running.cz  | 2019-06-01 11:02:00 | NIKE AIR ZOOM PEGASUS 35               | 942851-001       |         84 | Nike             |         100 | Footwear  |         120 | Running shoes   |           0 | unspecified             | running     | men         | adults      | Black       | 40,5        |\n",
      "| 2019-06-01 00:00:00 | 1900080509 | COD           | S113        |          1 |               0 |               0.92907 |   0         |             0.92907 | E-COMMER     | RUN.czC   | RUN.czO  | top4running.cz  | 2019-06-01 09:32:00 | Platba                                 | unspecified      |         -1 | no_manufacturer  |         999 | Other     |           0 | unspecified     |           0 | unspecified             | unspecified | unspecified | unspecified | unspecified | unspecified |\n",
      "| 2019-06-01 00:00:00 | 1900079122 | COD           | ZB00026708  |          1 |               0 |              18.256   |  11.6008    |            22.6877  | E-COMMER     | FIT.roC   | FIT.roO  | top4fitness.ro  | 2019-06-01 06:34:00 | W NP TOP SS                            | 725745-617       |         84 | Nike             |         200 | Apparel   |         230 | T-Shirts        |           0 | unspecified             | fitness     | women       | adults      | Pink        | S           |\n",
      "| 2019-06-01 00:00:00 | 1900079118 | COD           | ZB00026682  |          1 |               0 |             157.604   |  95.8186    |           175.115   | E-COMMER     | FTB.skC   | FTB.skO  | 11teamsports.sk | 2019-06-01 06:34:00 | AIR VAPORMAX PLUS                      | 924453-015       |         84 | Nike             |         100 | Footwear  |         199 | Other Footwear  |           0 | unspecified             | football    | men         | adults      | Black       | 44,5        |\n",
      "| 2019-06-01 00:00:00 | 1900079111 | COD           | ZB00026136  |          1 |               0 |              36.6103  |  26.7671    |            56.3366  | E-COMMER     | FTB.huC   | FTB.huO  | 11teamsports.hu | 2019-06-01 06:34:00 | VAPOR 12 ACADEMY MG                    | ah7375-001       |         84 | Nike             |         100 | Footwear  |         110 | Football shoes  |           0 | unspecified             | football    | men         | adults      | Black       | 41          |\n",
      "| 2019-06-01 00:00:00 | 1900079111 | COD           | ZB00026707  |          1 |               0 |               8.23548 |   4.62829   |            12.6083  | E-COMMER     | FTB.huC   | FTB.huO  | 11teamsports.hu | 2019-06-01 06:34:00 | M NK DRY PARK18 SS TOP                 | aa2046-010       |         84 | Nike             |         200 | Apparel   |         230 | T-Shirts        |           0 | unspecified             | football    | men         | adults      | Black       | S           |\n",
      "| 2019-06-01 00:00:00 | 1900079049 | COD           | ZB00026019  |          1 |               0 |             130.086   |  91.3124    |           200.132   | E-COMMER     | FTB.skC   | FTB.skO  | 11teamsports.sk | 2019-06-01 06:32:00 | VAPOR 12 ELITE FG                      | ah7380-070       |         84 | Nike             |         100 | Footwear  |         110 | Football shoes  |           0 | unspecified             | football    | men         | adults      | Silver      | 42,5        |\n",
      "| 2019-06-01 00:00:00 | 1900079056 | COD           | ZB00026018  |          1 |               0 |               8.50893 |   4.46628   |            11.521   | E-COMMER     | FTB.roC   | FTB.roO  | 11teamsports.ro | 2019-06-01 06:32:00 | Adidas Team Glider                     | cz2230           |         85 | adidas           |         300 | Equipment |         320 | Balls           |           0 | unspecified             | football    | men         | adults      | White       | 5           |\n",
      "| 2019-06-01 00:00:00 | 1900079057 | COD           | ZB00019137  |          1 |               0 |              40.3295  |  28.8213    |            57.6271  | E-COMMER     | FTB.czC   | FTB.czO  | 11teamsports.cz | 2019-06-01 06:32:00 | JR PHNTOM VSN ACADEMY DF FG/MG         | ao3287-408       |         84 | Nike             |         100 | Footwear  |         110 | Football shoes  |           0 | unspecified             | football    | unisex      | kids        | Silver      | 38          |\n",
      "| 2019-06-01 00:00:00 | 1900079057 | COD           | S101        |          1 |               0 |               2.21008 |   0         |             2.21008 | E-COMMER     | FTB.czC   | FTB.czO  | 11teamsports.cz | 2019-06-01 06:32:00 | Dopravné                               | unspecified      |         -1 | no_manufacturer  |         999 | Other     |           0 | unspecified     |           0 | unspecified             | unspecified | unspecified | unspecified | unspecified | unspecified |\n",
      "| 2019-06-01 00:00:00 | 1900079057 | COD           | S113        |          1 |               0 |               0.92907 |   0         |             0.92907 | E-COMMER     | FTB.czC   | FTB.czO  | 11teamsports.cz | 2019-06-01 06:32:00 | Platba                                 | unspecified      |         -1 | no_manufacturer  |         999 | Other     |           0 | unspecified     |           0 | unspecified             | unspecified | unspecified | unspecified | unspecified | unspecified |\n",
      "| 2019-06-01 00:00:00 | 1900079059 | CARD_GOPAY    | ZB00025762  |          1 |               0 |              17.2614  |  10.9527    |            24.6863  | E-COMMER     | FTB.skC   | FTB.skO  | 11teamsports.sk | 2019-06-01 06:32:00 | HG ARMOUR 20 LONG SHORT                | 1289568-001      |        106 | Under Armour     |         200 | Apparel   |         240 | Pants           |         244 | Compression pants       | football    | men         | adults      | Black       | L           |\n",
      "| 2019-06-01 00:00:00 | 1900079060 | COD           | ZB00026704  |          1 |               0 |              27.268   |  16.8054    |            37.5247  | E-COMMER     | FTB.skC   | FTB.skO  | 11teamsports.sk | 2019-06-01 06:32:00 | star chevron graphic                   | 10006480-a01-001 |        139 | Converse         |         200 | Apparel   |         240 | Pants           |         242 | Shorts                  | lifestyle   | men         | adults      | Black       | L           |\n",
      "| 2019-06-01 00:00:00 | 1900079067 | COD           | ZB00021748  |          1 |               0 |              74.8287  |  48.6264    |            96.0663  | E-COMMER     | RUN.czC   | RUN.czO  | top4running.cz  | 2019-06-01 06:32:00 | WMNS NIKE AIR ZOOM PEGASUS 35          | 942855-011       |         84 | Nike             |         100 | Footwear  |         120 | Running shoes   |           0 | unspecified             | running     | women       | adults      | Silver      | 39          |\n",
      "| 2019-06-01 00:00:00 | 1900079037 | CARD_CSOB     | ZB00025620  |          1 |               0 |              18.707   |   9.44612   |            28.7977  | E-COMMER     | FTB.czC   | VO_B_FTO | 11teamsports.cz | 2019-06-01 06:31:00 | M NK DRY PARK III JSY LS GK            | 894509-398       |         84 | Nike             |         200 | Apparel   |         230 | T-Shirts        |         233 | Longsleeved (LS) shirts | football    | men         | adults      | Green       | S           |\n",
      "| 2019-06-01 00:00:00 | 1900079067 | COD           | S113        |          1 |               0 |               0.92907 |   0         |             0.92907 | E-COMMER     | RUN.czC   | RUN.czO  | top4running.cz  | 2019-06-01 06:32:00 | Platba                                 | unspecified      |         -1 | no_manufacturer  |         999 | Other     |           0 | unspecified     |           0 | unspecified             | unspecified | unspecified | unspecified | unspecified | unspecified |\n",
      "| 2019-06-01 00:00:00 | 1900079070 | COD           | S114        |         -1 |               0 |               3.2031  |   0         |             3.2031  | E-COMMER     | FTB.czC   | FTB.czO  | 11teamsports.cz | 2019-06-01 06:32:00 | Sleva                                  | unspecified      |         -1 | no_manufacturer  |         999 | Other     |           0 | unspecified     |           0 | unspecified             | unspecified | unspecified | unspecified | unspecified | unspecified |\n",
      "| 2019-06-01 00:00:00 | 1900079074 | COD           | ZB00026164  |          1 |               0 |              39.5262  |  29.4992    |            60.7985  | E-COMMER     | FTB.roC   | FTB.roO  | 11teamsports.ro | 2019-06-01 06:32:00 | VAPOR 12 ACADEMY TF                    | ah7384-701       |         84 | Nike             |         100 | Footwear  |         110 | Football shoes  |           0 | unspecified             | football    | men         | adults      | Green       | 43          |\n",
      "| 2019-06-01 00:00:00 | 1900079087 | COD           | ZB00024304  |          1 |               0 |              73.6434  |  36.4725    |            73.6434  | E-COMMER     | FTB.czC   | FTB.czO  | 11teamsports.cz | 2019-06-01 06:32:00 | SUPERFLY 6 ACADEMY MG                  | ah7362-408       |         84 | Nike             |         100 | Footwear  |         110 | Football shoes  |           0 | unspecified             | football    | men         | adults      | Blue        | 44          |\n",
      "| 2019-06-01 00:00:00 | 1900079087 | COD           | S113        |          1 |               0 |               0.92907 |   0         |             0.92907 | E-COMMER     | FTB.czC   | FTB.czO  | 11teamsports.cz | 2019-06-01 06:32:00 | Platba                                 | unspecified      |         -1 | no_manufacturer  |         999 | Other     |           0 | unspecified     |           0 | unspecified             | unspecified | unspecified | unspecified | unspecified | unspecified |\n",
      "| 2019-06-01 00:00:00 | 1900079095 | COD           | ZB00026705  |          1 |               0 |              21.9426  |  11.2035    |            30.2709  | E-COMMER     | FTB.czC   | FTB.czO  | 11teamsports.cz | 2019-06-01 06:32:00 | reflective wordmark legging            | 10004552-a01     |        139 | Converse         |         200 | Apparel   |         240 | Pants           |           0 | unspecified             | lifestyle   | women       | adults      | Black       | S           |\n",
      "| 2019-06-01 00:00:00 | 1900079095 | COD           | S101        |          1 |               0 |               2.21008 |   0         |             2.21008 | E-COMMER     | FTB.czC   | FTB.czO  | 11teamsports.cz | 2019-06-01 06:32:00 | Dopravné                               | unspecified      |         -1 | no_manufacturer  |         999 | Other     |           0 | unspecified     |           0 | unspecified             | unspecified | unspecified | unspecified | unspecified | unspecified |\n",
      "| 2019-06-01 00:00:00 | 1900079095 | COD           | S113        |          1 |               0 |               0.92907 |   0         |             0.92907 | E-COMMER     | FTB.czC   | FTB.czO  | 11teamsports.cz | 2019-06-01 06:32:00 | Platba                                 | unspecified      |         -1 | no_manufacturer  |         999 | Other     |           0 | unspecified     |           0 | unspecified             | unspecified | unspecified | unspecified | unspecified | unspecified |\n",
      "| 2019-06-01 00:00:00 | 1900079098 | COD           | ZB00026706  |          1 |               0 |              18.0919  |   9.98178   |            29.1892  | E-COMMER     | FTB.skC   | FTB.skO  | 11teamsports.sk | 2019-06-01 06:34:00 | M NP TOP LS COMP MOCK                  | 838079-657       |         84 | Nike             |         200 | Apparel   |         230 | T-Shirts        |         236 | Compression shirts      | football    | men         | adults      | Red         | L           |\n",
      "| 2019-06-01 00:00:00 | 1900079070 | COD           | ZB00025613  |          1 |               0 |              76.238   |  49.4574    |           108.879   | E-COMMER     | FTB.czC   | FTB.czO  | 11teamsports.cz | 2019-06-01 06:32:00 | NEMEZIZ 182 FG                         | bb9431           |         85 | adidas           |         100 | Footwear  |         110 | Football shoes  |           0 | unspecified             | football    | men         | adults      | Yellow      | 43,3        |\n",
      "| 2019-06-01 00:00:00 | 1900078757 | COD           | S113        |          1 |               0 |               0.92907 |   0         |             0.92907 | E-COMMER     | FTB.czC   | FTB.czO  | 11teamsports.cz | 2019-06-01 00:04:00 | Platba                                 | unspecified      |         -1 | no_manufacturer  |         999 | Other     |           0 | unspecified     |           0 | unspecified             | unspecified | unspecified | unspecified | unspecified | unspecified |\n",
      "| 2019-06-01 00:00:00 | 1900079070 | COD           | S113        |          1 |               0 |               0.92907 |   0         |             0.92907 | E-COMMER     | FTB.czC   | FTB.czO  | 11teamsports.cz | 2019-06-01 06:32:00 | Platba                                 | unspecified      |         -1 | no_manufacturer  |         999 | Other     |           0 | unspecified     |           0 | unspecified             | unspecified | unspecified | unspecified | unspecified | unspecified |\n",
      "| 2019-06-01 00:00:00 | 1900078757 | COD           | ZB00007426  |          2 |               0 |               6.63062 |   0.0709302 |             7.78411 | E-COMMER     | FTB.czC   | FTB.czO  | 11teamsports.cz | 2019-06-01 00:04:00 | Team Scrimmage Swoosh Vest             | 361109-371       |         84 | Nike             |         200 | Apparel   |         225 | Jerseys         |         234 | Sleeveless (SL) shirts  | football    | men         | adults      | Green       | S/M         |\n",
      "| 2019-06-01 00:00:00 | 1900073936 | BANK_TRANSFER | ZB00049783  |          1 |               0 |              69.4657  |  28.7787    |            99.2353  | E-COMMER     | FTB.esC   | FTB.esO  | 11teamsports.es | 2019-06-01 08:00:00 | PRED PRO                               | dn8578           |         85 | adidas           |         300 | Equipment |         280 | Gloves          |         327 | Football gloves         | football    | men         | adults      | Black       | 10,5        |\n",
      "| 2019-06-01 00:00:00 | 1900075432 | COD           | ZB00026064  |          1 |               0 |              45.8904  |  25.4461    |            65.5681  | E-COMMER     | FTB.huC   | FTB.huO  | 11teamsports.hu | 2019-06-01 09:26:00 | M NK DRY SQD17 TRK SUIT K              | 832325-657       |         84 | Nike             |         200 | Apparel   |         250 | Tracksuits      |           0 | unspecified             | football    | men         | adults      | Dark red    | L           |\n",
      "| 2019-06-01 00:00:00 | 1900075432 | COD           | S101        |          1 |               0 |               2.40506 |   0         |             2.40506 | E-COMMER     | FTB.huC   | FTB.huO  | 11teamsports.hu | 2019-06-01 09:26:00 | Dopravné                               | unspecified      |         -1 | no_manufacturer  |         999 | Other     |           0 | unspecified     |           0 | unspecified             | unspecified | unspecified | unspecified | unspecified | unspecified |\n",
      "| 2019-06-01 00:00:00 | 1900075773 | COD           | ZB00017976  |          1 |               0 |             113.364   |  69.2446    |           188.962   | E-COMMER     | FTB.czC   | FTB.czO  | 11teamsports.cz | 2019-06-01 07:22:00 | X 181 FG                               | bb9347           |         85 | adidas           |         100 | Footwear  |         110 | Football shoes  |           0 | unspecified             | football    | men         | adults      | Red         | 44,7        |\n",
      "| 2019-06-01 00:00:00 | 1900076357 | COD           | ZB00023846  |          1 |               0 |              11.521   |   0         |            16.4842  | E-COMMER     | FTB.roC   | FTB.roO  | 11teamsports.ro | 2019-06-01 08:59:00 | NK MENOR X                             | sc3039-673       |         84 | Nike             |         300 | Equipment |         320 | Balls           |           0 | unspecified             | football    | unisex      | adults      | Red         | ks          |\n",
      "| 2019-06-01 00:00:00 | 1900077168 | COD           | ZB00025652  |          1 |               0 |              37.7035  |  29.7578    |            58.0128  | E-COMMER     | FTB.huC   | FTB.huO  | 11teamsports.hu | 2019-06-01 09:05:00 | X 183 FG                               | bb9366           |         85 | adidas           |         100 | Footwear  |         110 | Football shoes  |           0 | unspecified             | football    | men         | adults      | Black       | 44,7        |\n",
      "| 2019-06-01 00:00:00 | 1900077168 | COD           | S101        |          1 |               0 |               2.40506 |   0         |             2.40506 | E-COMMER     | FTB.huC   | FTB.huO  | 11teamsports.hu | 2019-06-01 09:05:00 | Dopravné                               | unspecified      |         -1 | no_manufacturer  |         999 | Other     |           0 | unspecified     |           0 | unspecified             | unspecified | unspecified | unspecified | unspecified | unspecified |\n",
      "| 2019-06-01 00:00:00 | 1900077515 | COD           | ZB00009443  |          2 |               0 |              13.6286  |  10.4283    |            18.1958  | E-COMMER     | RUN.huC   | RUN.huO  | top4running.hu  | 2019-06-01 09:25:00 | M NP SHORT LONG                        | 838063-091       |         84 | Nike             |         200 | Apparel   |         240 | Pants           |         244 | Compression pants       | running     | men         | adults      | Silver      | L           |\n",
      "| 2019-06-01 00:00:00 | 1900077515 | COD           | S101        |          1 |               0 |               2.40506 |   0         |             2.40506 | E-COMMER     | RUN.huC   | RUN.huO  | top4running.hu  | 2019-06-01 09:25:00 | Dopravné                               | unspecified      |         -1 | no_manufacturer  |         999 | Other     |           0 | unspecified     |           0 | unspecified             | unspecified | unspecified | unspecified | unspecified | unspecified |\n",
      "| 2019-06-01 00:00:00 | 1900079385 | COD           | ZB00017248  |          3 |               0 |              26.0105  |  10.2616    |            40.0089  | E-COMMER     | FTB.czC   | FTB.czO  | 11teamsports.cz | 2019-06-01 09:07:00 | FINALE M COMP                          | dn8687           |         85 | adidas           |         300 | Equipment |         320 | Balls           |           0 | unspecified             | football    | men         | adults      | Orange      | 5           |\n",
      "| 2019-06-01 00:00:00 | 1900077890 | COD           | ZB00026211  |          1 |               0 |              11.6777  |   5.84186   |            16.681   | E-COMMER     | FTB.skC   | FTB.skO  | 11teamsports.sk | 2019-06-01 06:24:00 | NK MENOR X                             | sc3039-673       |         84 | Nike             |         300 | Equipment |         320 | Balls           |           0 | unspecified             | football    | unisex      | adults      | Red         | PRO         |\n",
      "| 2019-06-01 00:00:00 | 1900078281 | COD           | ZB00025682  |          1 |               0 |              85.2074  |   2.29845   |           121.693   | E-COMMER     | RUN.czC   | RUN.czO  | top4running.cz  | 2019-06-01 09:16:00 | NIKE EPIC REACT FLYKNIT 2              | bq8928-003       |         84 | Nike             |         100 | Footwear  |         120 | Running shoes   |           0 | unspecified             | running     | men         | adults      | Black       | 42,5        |\n",
      "| 2019-06-01 00:00:00 | 1900078281 | COD           | S113        |          1 |               0 |               0.92907 |   0         |             0.92907 | E-COMMER     | RUN.czC   | RUN.czO  | top4running.cz  | 2019-06-01 09:16:00 | Platba                                 | unspecified      |         -1 | no_manufacturer  |         999 | Other     |           0 | unspecified     |           0 | unspecified             | unspecified | unspecified | unspecified | unspecified | unspecified |\n",
      "| 2019-06-01 00:00:00 | 1900078447 | PAYPAL        | ZB00025689  |          1 |               0 |              21.0238  |  16.8702    |            29.4294  | E-COMMER     | RUN.deC   | RUN.deO  | top4running.de  | 2019-06-01 16:56:00 | ADILETTE                               | 288022           |        232 | adidas Originals |         100 | Footwear  |         150 | Slides          |           0 | unspecified             | lifestyle   | men         | adults      | Blue        | 47,3        |\n",
      "| 2019-06-01 00:00:00 | 1900078447 | PAYPAL        | S101        |          1 |               0 |               2.94194 |   0         |             2.94194 | E-COMMER     | RUN.deC   | RUN.deO  | top4running.de  | 2019-06-01 16:56:00 | Dopravné                               | unspecified      |         -1 | no_manufacturer  |         999 | Other     |           0 | unspecified     |           0 | unspecified             | unspecified | unspecified | unspecified | unspecified | unspecified |\n",
      "| 2019-06-01 00:00:00 | 1900078650 | COD           | ZB00049881  |          1 |               0 |              16.8386  |   8.76008   |            28.0411  | E-COMMER     | FTB.roC   | VO_B_FTO | 11teamsports.ro | 2019-06-01 11:57:00 | ENTRY 15 GK                            | ap0325           |         85 | adidas           |         200 | Apparel   |         230 | T-Shirts        |         233 | Longsleeved (LS) shirts | football    | men         | adults      | Blue        | 164         |\n",
      "| 2019-06-01 00:00:00 | 1900078650 | COD           | ZB00011209  |          1 |               0 |               6.38064 |   5.59535   |             9.7492  | E-COMMER     | FTB.roC   | VO_B_FTO | 11teamsports.ro | 2019-06-01 11:57:00 | U NK SQUAD OTC                         | sx6830-100       |         84 | Nike             |         200 | Apparel   |         290 | Socks           |         291 | Football socks          | football    | unisex      | adults      | White       | S           |\n",
      "| 2019-06-01 00:00:00 | 1900073779 | CARD_GOPAY    | ZB00016912  |          1 |               0 |              20.0132  |  12.8748    |            33.352   | E-COMMER     | FTB.skC   | VO_B_FTO | 11teamsports.sk | 2019-06-01 06:34:00 | ASK SPRT LT M                          | cw9427           |         85 | adidas           |         200 | Apparel   |         240 | Pants           |           0 | unspecified             | football    | men         | adults      | Black       | M           |\n",
      "| 2019-06-01 00:00:00 | 1900078650 | COD           | ZB00014423  |          1 |               0 |              15.4211  |   8.34496   |            23.6094  | E-COMMER     | FTB.roC   | VO_B_FTO | 11teamsports.ro | 2019-06-01 11:57:00 | TIERRO13 GK SHO                        | z11471           |         85 | adidas           |         200 | Apparel   |         240 | Pants           |         242 | Shorts                  | football    | men         | adults      | Black       | 152         |\n",
      "| 2019-06-01 00:00:00 | 1900073779 | CARD_GOPAY    | ZB00002233  |          1 |               0 |              15.0099  |  12.9764    |            25.0165  | E-COMMER     | FTB.skC   | VO_B_FTO | 11teamsports.sk | 2019-06-01 06:34:00 | M NK FC DRY TEE SSNL BLOCK             | av5313-838       |         84 | Nike             |         200 | Apparel   |         230 | T-Shirts        |           0 | unspecified             | football    | men         | adults      | Orange      | S           |\n",
      "| 2019-06-01 00:00:00 | 1900073779 | CARD_GOPAY    | ZB00012932  |          1 |               0 |              30.0198  |  24.4023    |            50.0329  | E-COMMER     | FTB.skC   | VO_B_FTO | 11teamsports.sk | 2019-06-01 06:34:00 | M NK FC PANT                           | aq0667-492       |         84 | Nike             |         200 | Apparel   |         240 | Pants           |           0 | unspecified             | football    | men         | adults      | unspecified | S           |\n",
      "| 2019-06-01 00:00:00 | 1900072437 | COD           | ZB00010124  |          1 |               0 |              34.4031  |  18.9566    |            57.3388  | E-COMMER     | FTB.czC   | FTB.czO  | 11teamsports.cz | 2019-06-01 08:59:00 | LS GARDIEN JSY                         | 725882-702       |         84 | Nike             |         200 | Apparel   |         230 | T-Shirts        |         233 | Longsleeved (LS) shirts | football    | men         | adults      | Green       | XXL         |\n",
      "| 2019-06-01 00:00:00 | 1900072437 | COD           | ZB00013297  |          1 |               0 |               9.35349 |   6.01822   |            14.3826  | E-COMMER     | FTB.czC   | FTB.czO  | 11teamsports.cz | 2019-06-01 08:59:00 | PARK II KNIT SHORT NB                  | 725887-702       |         84 | Nike             |         200 | Apparel   |         240 | Pants           |         242 | Shorts                  | football    | men         | adults      | Green       | XL          |\n",
      "| 2019-06-01 00:00:00 | 1900072437 | COD           | ZB00001906  |          1 |               0 |               9.35349 |   5.40659   |            14.3826  | E-COMMER     | FTB.czC   | FTB.czO  | 11teamsports.cz | 2019-06-01 08:59:00 | YTH LEAGUE KNIT SHORT NB               | 725990-011       |         84 | Nike             |         200 | Apparel   |         240 | Pants           |         242 | Shorts                  | football    | unisex      | kids        | Black       | L           |\n",
      "| 2019-06-01 00:00:00 | 1900072437 | COD           | ZB00011732  |          1 |               0 |              31.2     |  17.1364    |            48.0171  | E-COMMER     | FTB.czC   | FTB.czO  | 11teamsports.cz | 2019-06-01 08:59:00 | YTH NK GARDIEN II GK JSY LS            | 898046-010       |         84 | Nike             |         200 | Apparel   |         230 | T-Shirts        |         233 | Longsleeved (LS) shirts | football    | unisex      | kids        | Black       | L           |\n",
      "| 2019-06-01 00:00:00 | 1900072437 | COD           | ZB00017248  |          4 |               0 |              26.0105  |  10.2616    |            40.0089  | E-COMMER     | FTB.czC   | FTB.czO  | 11teamsports.cz | 2019-06-01 08:59:00 | FINALE M COMP                          | dn8687           |         85 | adidas           |         300 | Equipment |         320 | Balls           |           0 | unspecified             | football    | men         | adults      | Orange      | 5           |\n",
      "| 2019-06-01 00:00:00 | 1900072437 | COD           | ZB00005692  |          1 |               0 |               4.99729 |   2.80736   |             7.68798 | E-COMMER     | FTB.czC   | FTB.czO  | 11teamsports.cz | 2019-06-01 08:59:00 | U NK CLASSIC II CUSH OTC -TEAM         | sx5728-013       |         84 | Nike             |         200 | Apparel   |         290 | Socks           |         291 | Football socks          | football    | unisex      | adults      | Black       | L           |\n",
      "| 2019-06-01 00:00:00 | 1900072437 | COD           | ZB00005846  |          1 |               0 |               5.60581 |   3.64922   |             8.61667 | E-COMMER     | FTB.czC   | FTB.czO  | 11teamsports.cz | 2019-06-01 08:59:00 | U NK CLASSIC II CUSH OTC -TEAM         | sx5728-702       |         84 | Nike             |         200 | Apparel   |         290 | Socks           |         291 | Football socks          | football    | unisex      | adults      | Green       | XL          |\n",
      "| 2019-06-01 00:00:00 | 1900072437 | COD           | ZB00005157  |          7 |               0 |              10.3787  |   6.13295   |            15.9845  | E-COMMER     | FTB.czC   | FTB.czO  | 11teamsports.cz | 2019-06-01 08:59:00 | NK PTCH TEAM                           | sc3166-701       |         84 | Nike             |         300 | Equipment |         320 | Balls           |           0 | unspecified             | football    | unisex      | adults      | Yellow      | 4           |\n",
      "| 2019-06-01 00:00:00 | 1900072959 | GOPAY_CARD    | ZB00010308  |          4 |               0 |              19.1826  |  11.6163    |            33.0818  | E-COMMER     | FTB.esC   | FTB.esO  | 11teamsports.es | 2019-06-01 00:09:00 | M NK DRY ACDMY18 TRK JKT K             | 893701-100       |         84 | Nike             |         200 | Apparel   |         215 | Jackets         |           0 | unspecified             | football    | men         | adults      | White       | S           |\n",
      "| 2019-06-01 00:00:00 | 1900072959 | GOPAY_CARD    | ZB00010312  |          6 |               0 |              19.1826  |  11.9047    |            33.0818  | E-COMMER     | FTB.esC   | FTB.esO  | 11teamsports.es | 2019-06-01 00:09:00 | M NK DRY ACDMY18 TRK JKT K             | 893701-100       |         84 | Nike             |         200 | Apparel   |         215 | Jackets         |           0 | unspecified             | football    | men         | adults      | White       | M           |\n",
      "| 2019-06-01 00:00:00 | 1900072959 | GOPAY_CARD    | ZB00010316  |         12 |               0 |              19.1826  |   5.4186    |            33.0818  | E-COMMER     | FTB.esC   | FTB.esO  | 11teamsports.es | 2019-06-01 00:09:00 | M NK DRY ACDMY18 TRK JKT K             | 893701-100       |         84 | Nike             |         200 | Apparel   |         215 | Jackets         |           0 | unspecified             | football    | men         | adults      | White       | L           |\n",
      "| 2019-06-01 00:00:00 | 1900078757 | COD           | S101        |          1 |               0 |               2.21008 |   0         |             2.21008 | E-COMMER     | FTB.czC   | FTB.czO  | 11teamsports.cz | 2019-06-01 00:04:00 | Dopravné                               | unspecified      |         -1 | no_manufacturer  |         999 | Other     |           0 | unspecified     |           0 | unspecified             | unspecified | unspecified | unspecified | unspecified | unspecified |\n",
      "| 2019-06-01 00:00:00 | 1900073779 | CARD_GOPAY    | ZB00009368  |          1 |               0 |              12.5082  |   7.63488   |            20.8437  | E-COMMER     | FTB.skC   | VO_B_FTO | 11teamsports.sk | 2019-06-01 06:34:00 | M NP SHORT                             | 838061-010       |         84 | Nike             |         200 | Apparel   |         240 | Pants           |         242 | Shorts                  | fitness     | men         | adults      | Black       | M           |\n",
      "| 2019-06-01 00:00:00 | 1900073779 | CARD_GOPAY    | ZB00009389  |          1 |               0 |              12.5082  |   7.87364   |            20.8437  | E-COMMER     | FTB.skC   | VO_B_FTO | 11teamsports.sk | 2019-06-01 06:34:00 | M NP SHORT                             | 838061-091       |         84 | Nike             |         200 | Apparel   |         240 | Pants           |         242 | Shorts                  | fitness     | men         | adults      | Silver      | M           |\n",
      "| 2019-06-01 00:00:00 | 1900073779 | CARD_GOPAY    | ZB00001487  |          1 |               0 |              15.0099  |  13.007     |            25.0165  | E-COMMER     | FTB.skC   | VO_B_FTO | 11teamsports.sk | 2019-06-01 06:34:00 | M NSW CE POLO MATCHUP PQ               | 909746-337       |         84 | Nike             |         200 | Apparel   |         230 | T-Shirts        |         231 | Polo                    | lifestyle   | men         | adults      | Blue        | L           |\n",
      "| 2019-06-01 00:00:00 | 1900073779 | CARD_GOPAY    | ZB00014781  |          1 |               0 |              15.0099  |  11.205     |            25.0165  | E-COMMER     | FTB.skC   | VO_B_FTO | 11teamsports.sk | 2019-06-01 06:34:00 | TF BASE SS                             | aj4967           |         85 | adidas           |         200 | Apparel   |         230 | T-Shirts        |         236 | Compression shirts      | fitness     | men         | adults      | White       | S           |\n",
      "| 2019-06-01 00:00:00 | 1900073779 | CARD_GOPAY    | ZB00002069  |          1 |               0 |              27.5181  |  22.7744    |            45.8602  | E-COMMER     | FTB.skC   | VO_B_FTO | 11teamsports.sk | 2019-06-01 06:34:00 | M NIKE FC CREW TOP LS                  | ao0358-010       |         84 | Nike             |         200 | Apparel   |         230 | T-Shirts        |         233 | Longsleeved (LS) shirts | football    | men         | adults      | Black       | S           |\n",
      "| 2019-06-01 00:00:00 | 1900073779 | CARD_GOPAY    | ZB00002185  |          1 |               0 |              15.0099  |  13.007     |            25.0165  | E-COMMER     | FTB.skC   | VO_B_FTO | 11teamsports.sk | 2019-06-01 06:34:00 | M NK FC DRY TEE SSNL BLOCK             | av5313-100       |         84 | Nike             |         200 | Apparel   |         230 | T-Shirts        |           0 | unspecified             | football    | men         | adults      | Black       | S           |\n",
      "| 2019-06-01 00:00:00 | 1900078655 | COD           | ZB00026724  |          1 |               0 |              64.3422  |  36.1019    |            99.0845  | E-COMMER     | FTB.roC   | VO_B_FTO | 11teamsports.ro | 2019-06-01 11:57:00 | Adidas Predator Pro Hybrid             | dy2617           |         85 | adidas           |         300 | Equipment |         280 | Gloves          |         327 | Football gloves         | football    | men         | adults      | Silver      | 7,5         |\n",
      "| 2019-06-01 00:00:00 | 1900072959 | GOPAY_CARD    | ZB00010320  |          2 |               0 |              19.1826  |  10.0469    |            33.0818  | E-COMMER     | FTB.esC   | FTB.esO  | 11teamsports.es | 2019-06-01 00:09:00 | M NK DRY ACDMY18 TRK JKT K             | 893701-100       |         84 | Nike             |         200 | Apparel   |         215 | Jackets         |           0 | unspecified             | football    | men         | adults      | White       | XL          |\n",
      "| 2019-06-01 00:00:00 | 1900078754 | CARD_CSOB     | ZB00049877  |          1 |               0 |             153.565   | 120.323     |           255.942   | E-COMMER     | FTB.czC   | FTB.czO  | 11teamsports.cz | 2019-06-01 11:57:00 | SUPERFLY 6 ELITE CR7 SG-PRO AC         | aj6932-600       |         84 | Nike             |         100 | Footwear  |         110 | Football shoes  |           0 | unspecified             | football    | men         | adults      | Red         | 42,5        |\n",
      "| 2019-06-01 00:00:00 | 1900078757 | COD           | ZB00049340  |          5 |               0 |               6.63062 |   2.5031    |             7.78411 | E-COMMER     | FTB.czC   | FTB.czO  | 11teamsports.cz | 2019-06-01 00:04:00 | Team Scrimmage Swoosh Vest             | 361109-100       |         84 | Nike             |         200 | Apparel   |         225 | Jerseys         |         234 | Sleeveless (SL) shirts  | football    | men         | adults      | White       | S/M         |\n",
      "| 2019-06-02 00:00:00 | 1900081346 | COD           | ZB00016098  |          1 |               0 |               8.61667 |   5.22364   |             8.26866 | E-COMMER     | RUN.czC   | RUN.czO  | top4running.cz  | 2019-06-02 07:30:00 | ESIO KINESIOLOGY TAPE 50mm             | unspecified      |         -1 | no_manufacturer  |         999 | Other     |           0 | unspecified     |           0 | unspecified             | unspecified | unspecified | unspecified | unspecified | unspecified |\n",
      "| 2019-06-02 00:00:00 | 1900081425 | COD           | ZB00010062  |          1 |               0 |              40.8419  |  27.6581    |            54.4236  | E-COMMER     | STR.czC   | STR.czO  | tint-store.cz   | 2019-06-02 09:16:00 | M NSW TCH FLC SHORT                    | 928513-355       |         84 | Nike             |         200 | Apparel   |         240 | Pants           |         242 | Shorts                  | lifestyle   | men         | adults      | Green       | L           |\n",
      "| 2019-06-02 00:00:00 | 1900081241 | PAYPAL        | S101        |          1 |               0 |               5.00329 |   0         |             4.96327 | E-COMMER     | RUN.comC  | RUN.comO | top4running.com | 2019-06-02 08:01:00 | Dopravné                               | unspecified      |         -1 | no_manufacturer  |         999 | Other     |           0 | unspecified     |           0 | unspecified             | unspecified | unspecified | unspecified | unspecified | unspecified |\n",
      "| 2019-06-02 00:00:00 | 1900081241 | PAYPAL        | ZB00009222  |          1 |               0 |               8.33549 |   4.55465   |             9.09599 | E-COMMER     | RUN.comC  | RUN.comO | top4running.com | 2019-06-02 08:01:00 | BASIC WALLET                           | nia08693ns-693   |         84 | Nike             |         300 | Equipment |         399 | Other Equipment |           0 | unspecified             | football    | unisex      | adults      | Red         | ks          |\n",
      "| 2019-06-02 00:00:00 | 1900081241 | PAYPAL        | ZB00002778  |          1 |               0 |               8.33549 |   4.44535   |             9.09599 | E-COMMER     | RUN.comC  | RUN.comO | top4running.com | 2019-06-02 08:01:00 | BASIC WALLET                           | nia08068ns       |         84 | Nike             |         300 | Equipment |         399 | Other Equipment |           0 | unspecified             | football    | unisex      | adults      | unspecified | ks          |\n",
      "| 2019-06-02 00:00:00 | 1900081425 | COD           | S114        |         -1 |               0 |               3.2031  |   0         |             3.2031  | E-COMMER     | STR.czC   | STR.czO  | tint-store.cz   | 2019-06-02 09:16:00 | Sleva                                  | unspecified      |         -1 | no_manufacturer  |         999 | Other     |           0 | unspecified     |           0 | unspecified             | unspecified | unspecified | unspecified | unspecified | unspecified |\n",
      "| 2019-06-02 00:00:00 | 1900081425 | COD           | S101        |          1 |               0 |               1.56977 |   0         |             1.56977 | E-COMMER     | STR.czC   | STR.czO  | tint-store.cz   | 2019-06-02 09:16:00 | Dopravné                               | unspecified      |         -1 | no_manufacturer  |         999 | Other     |           0 | unspecified     |           0 | unspecified             | unspecified | unspecified | unspecified | unspecified | unspecified |\n",
      "| 2019-06-02 00:00:00 | 1900081425 | COD           | S113        |          1 |               0 |               0.92907 |   0         |             0.92907 | E-COMMER     | STR.czC   | STR.czO  | tint-store.cz   | 2019-06-02 09:16:00 | Platba                                 | unspecified      |         -1 | no_manufacturer  |         999 | Other     |           0 | unspecified     |           0 | unspecified             | unspecified | unspecified | unspecified | unspecified | unspecified |\n",
      "| 2019-06-02 00:00:00 | 1900081241 | PAYPAL        | ZB00009239  |          1 |               0 |               8.33549 |   4.39147   |             9.09599 | E-COMMER     | RUN.comC  | RUN.comO | top4running.com | 2019-06-02 08:01:00 | BASIC WALLET                           | nia08413ns-413   |         84 | Nike             |         300 | Equipment |         399 | Other Equipment |           0 | unspecified             | football    | unisex      | adults      | Blue        | ks          |\n",
      "| 2019-06-03 00:00:00 | 1900081701 | CARD_CSOB     | S114        |         -1 |               0 |               3.2031  |   0         |             3.2031  | E-COMMER     | FTB.czC   | FTB.czO  | 11teamsports.cz | 2019-06-03 09:17:00 | Sleva                                  | unspecified      |         -1 | no_manufacturer  |         999 | Other     |           0 | unspecified     |           0 | unspecified             | unspecified | unspecified | unspecified | unspecified | unspecified |\n",
      "| 2019-06-03 00:00:00 | 1900081663 | CARD_CSOB     | ZB00015598  |          1 |               0 |              83.862   |   0.0387597 |           111.795   | E-COMMER     | RUN.czC   | RUN.czO  | top4running.cz  | 2019-06-03 09:17:00 | SONIC RA PRO 2                         | l40611100        |         93 | Salomon          |         100 | Footwear  |         120 | Running shoes   |           0 | unspecified             | running     | men         | adults      | Blue        | 43,3        |\n",
      "| 2019-06-03 00:00:00 | 1900081701 | CARD_CSOB     | ZB00014167  |          1 |               0 |             103.786   |  86.3609    |           129.733   | E-COMMER     | FTB.czC   | FTB.czO  | 11teamsports.cz | 2019-06-03 09:17:00 | COPA MUNDIAL FG                        | 015110           |         85 | adidas           |         100 | Footwear  |         110 | Football shoes  |           0 | unspecified             | football    | men         | adults      | Black       | 44,7        |\n",
      "| 2019-06-03 00:00:00 | 1900081500 | COD           | S113        |          1 |               0 |               0.92907 |   0         |             0.92907 | E-COMMER     | FTB.czC   | FTB.czO  | 11teamsports.cz | 2019-06-03 09:16:00 | Platba                                 | unspecified      |         -1 | no_manufacturer  |         999 | Other     |           0 | unspecified     |           0 | unspecified             | unspecified | unspecified | unspecified | unspecified | unspecified |\n",
      "| 2019-06-03 00:00:00 | 1900081500 | COD           | S101        |          1 |               0 |               1.56977 |   0         |             1.56977 | E-COMMER     | FTB.czC   | FTB.czO  | 11teamsports.cz | 2019-06-03 09:16:00 | Dopravné                               | unspecified      |         -1 | no_manufacturer  |         999 | Other     |           0 | unspecified     |           0 | unspecified             | unspecified | unspecified | unspecified | unspecified | unspecified |\n",
      "| 2019-06-03 00:00:00 | 1900081500 | COD           | S114        |         -1 |               0 |               3.2031  |   0         |             3.2031  | E-COMMER     | FTB.czC   | FTB.czO  | 11teamsports.cz | 2019-06-03 09:16:00 | Sleva                                  | unspecified      |         -1 | no_manufacturer  |         999 | Other     |           0 | unspecified     |           0 | unspecified             | unspecified | unspecified | unspecified | unspecified | unspecified |\n",
      "| 2019-06-03 00:00:00 | 1900081551 | COD           | S113        |          1 |               0 |               0.92907 |   0         |             0.92907 | E-COMMER     | FTB.czC   | FTB.czO  | 11teamsports.cz | 2019-06-03 09:17:00 | Platba                                 | unspecified      |         -1 | no_manufacturer  |         999 | Other     |           0 | unspecified     |           0 | unspecified             | unspecified | unspecified | unspecified | unspecified | unspecified |\n",
      "| 2019-06-03 00:00:00 | 1900081728 | PAYPAL        | S101        |          1 |               0 |               5.00329 |   0         |             4.96327 | E-COMMER     | RUN.comC  | RUN.comO | top4running.com | 2019-06-03 08:01:00 | Dopravné                               | unspecified      |         -1 | no_manufacturer  |         999 | Other     |           0 | unspecified     |           0 | unspecified             | unspecified | unspecified | unspecified | unspecified | unspecified |\n",
      "| 2019-06-03 00:00:00 | 1900081500 | COD           | ZB00022514  |          1 |               0 |              40.8419  |   0.358527  |            54.4236  | E-COMMER     | FTB.czC   | FTB.czO  | 11teamsports.cz | 2019-06-03 09:16:00 | LEGEND 7 ACADEMY IC                    | ah7244-070       |         84 | Nike             |         100 | Footwear  |         110 | Football shoes  |         114 | Indoor/Court (IC)       | football    | men         | adults      | Silver      | 43          |\n",
      "| 2019-06-03 00:00:00 | 1900081595 | COD           | ZB00009388  |          2 |               0 |              16.0163  |  16         |            32.0008  | E-COMMER     | RUN.czC   | RUN.czO  | top4running.cz  | 2019-06-03 11:00:00 | RUN THERMA SPHERE HOOD 20              | nra62019ns       |         84 | Nike             |         200 | Apparel   |         299 | Other Apparel   |           0 | unspecified             | running     | men         | adults      | Silver      | ks          |\n",
      "| 2019-06-03 00:00:00 | 1900081838 | COD           | ZB00000899  |          1 |               0 |              22.3333  |  11.3891    |            22.3333  | E-COMMER     | FTB.roC   | FTB.roO  | 11teamsports.ro | 2019-06-03 09:18:00 | NK MERC LITE - ENERGY                  | sp2178-100       |         84 | Nike             |         300 | Equipment |         335 | Guards          |           0 | unspecified             | football    | men         | adults      | White       | S           |\n",
      "| 2019-06-03 00:00:00 | 1900081551 | COD           | S101        |          1 |               0 |               2.21008 |   0         |             2.21008 | E-COMMER     | FTB.czC   | FTB.czO  | 11teamsports.cz | 2019-06-03 09:17:00 | Dopravné                               | unspecified      |         -1 | no_manufacturer  |         999 | Other     |           0 | unspecified     |           0 | unspecified             | unspecified | unspecified | unspecified | unspecified | unspecified |\n",
      "| 2019-06-03 00:00:00 | 1900081517 | COD           | ZB00026469  |          1 |               0 |              90.0593  |  55.3349    |           150.099   | E-COMMER     | FTB.skC   | VO_B_FTO | 11teamsports.sk | 2019-06-03 11:58:00 | UltraBOOST 19                          | b37704           |         85 | adidas           |         100 | Footwear  |         120 | Running shoes   |           0 | unspecified             | running     | men         | adults      | Black       | 40          |\n",
      "| 2019-06-03 00:00:00 | 1900081517 | COD           | ZB00026470  |          1 |               0 |               5.00329 |   4.19419   |             8.33549 | E-COMMER     | FTB.skC   | VO_B_FTO | 11teamsports.sk | 2019-06-03 11:58:00 | PER INVIZ T 3P                         | cf3390           |         85 | adidas           |         200 | Apparel   |         290 | Socks           |           0 | unspecified             | football    | unisex      | adults      | White       | 35-38       |\n",
      "| 2019-06-03 00:00:00 | 1900081517 | COD           | ZB00026471  |          1 |               0 |               5.00329 |   4.22016   |             8.33549 | E-COMMER     | FTB.skC   | VO_B_FTO | 11teamsports.sk | 2019-06-03 11:58:00 | PER INVIZ T 3P                         | cv7409           |         85 | adidas           |         200 | Apparel   |         290 | Socks           |           0 | unspecified             | football    | unisex      | adults      | Black       | 35-38       |\n",
      "| 2019-06-03 00:00:00 | 1900081519 | CARD_CSOB     | ZB00022132  |          1 |               0 |             166.378   | 107.864     |           255.942   | E-COMMER     | FTB.czC   | FTB.czO  | 11teamsports.cz | 2019-06-03 22:31:00 | MERCURIAL SUPERFLY 360 ELITE CR7 FG    | aj3547-600       |         84 | Nike             |         100 | Footwear  |         110 | Football shoes  |           0 | unspecified             | football    | men         | adults      | Red         | 45          |\n",
      "| 2019-06-03 00:00:00 | 1900081453 | CARD_CSOB     | ZB00016429  |          2 |               0 |              26.8116  |  18.3721    |            38.4074  | E-COMMER     | FTB.czC   | FTB.czO  | 11teamsports.cz | 2019-06-03 09:16:00 | CZECH REPUBLIC B2B Shirt               | 75254301         |         86 | Puma             |         200 | Apparel   |         230 | T-Shirts        |           0 | unspecified             | football    | men         | adults      | Red         | XL          |\n",
      "| 2019-06-03 00:00:00 | 1900081453 | CARD_CSOB     | ZB00016431  |          1 |               0 |              26.8116  |  18.3721    |            38.4074  | E-COMMER     | FTB.czC   | FTB.czO  | 11teamsports.cz | 2019-06-03 09:16:00 | CZECH REPUBLIC B2B Shirt               | 75254301         |         86 | Puma             |         200 | Apparel   |         230 | T-Shirts        |           0 | unspecified             | football    | men         | adults      | Red         | L           |\n",
      "| 2019-06-03 00:00:00 | 1900081838 | COD           | ZB00005804  |          3 |               0 |               5.67191 |   3.44922   |             7.08937 | E-COMMER     | FTB.roC   | FTB.roO  | 11teamsports.ro | 2019-06-03 09:18:00 | U NK CLASSIC II CUSH OTC -TEAM         | sx5728-648       |         84 | Nike             |         200 | Apparel   |         290 | Socks           |         291 | Football socks          | football    | unisex      | adults      | Red         | M           |\n",
      "| 2019-06-03 00:00:00 | 1900081838 | COD           | ZB00005764  |          2 |               0 |               5.67191 |   2.77519   |             7.08937 | E-COMMER     | FTB.roC   | FTB.roO  | 11teamsports.ro | 2019-06-03 09:18:00 | U NK CLASSIC II CUSH OTC -TEAM         | sx5728-463       |         84 | Nike             |         200 | Apparel   |         290 | Socks           |         291 | Football socks          | football    | unisex      | adults      | Blue        | M           |\n",
      "| 2019-06-03 00:00:00 | 1900081739 | CARD_CSOB     | S114        |         -1 |               0 |               3.2031  |   0         |             3.2031  | E-COMMER     | RUN.czC   | RUN.czO  | top4running.cz  | 2019-06-03 09:18:00 | Sleva                                  | unspecified      |         -1 | no_manufacturer  |         999 | Other     |           0 | unspecified     |           0 | unspecified             | unspecified | unspecified | unspecified | unspecified | unspecified |\n",
      "| 2019-06-03 00:00:00 | 1900081504 | COD           | S114        |         -1 |               0 |               3.2031  |   0         |             3.2031  | E-COMMER     | RUN.czC   | RUN.czO  | top4running.cz  | 2019-06-03 09:17:00 | Sleva                                  | unspecified      |         -1 | no_manufacturer  |         999 | Other     |           0 | unspecified     |           0 | unspecified             | unspecified | unspecified | unspecified | unspecified | unspecified |\n",
      "| 2019-06-03 00:00:00 | 1900081739 | CARD_CSOB     | ZB00003656  |          1 |               0 |              18.0023  |  12.2453    |            23.9926  | E-COMMER     | RUN.czC   | RUN.czO  | top4running.cz  | 2019-06-03 09:18:00 | WOR SL SS SLD COMP                     | dp6163           |         88 | Reebok           |         200 | Apparel   |         230 | T-Shirts        |         236 | Compression shirts      | fitness     | men         | adults      | Black       | M           |\n",
      "| 2019-06-03 00:00:00 | 1900081739 | CARD_CSOB     | ZB00022646  |          1 |               0 |              33.6023  |  14.4702    |            44.814   | E-COMMER     | RUN.czC   | RUN.czO  | top4running.cz  | 2019-06-03 09:18:00 | LAUNCH SW LONG SHORT                   | 1309602-008      |        106 | Under Armour     |         200 | Apparel   |         240 | Pants           |         242 | Shorts                  | running     | men         | adults      | Silver      | M           |\n",
      "| 2019-06-03 00:00:00 | 1900081504 | COD           | S113        |          1 |               0 |               0.92907 |   0         |             0.92907 | E-COMMER     | RUN.czC   | RUN.czO  | top4running.cz  | 2019-06-03 09:17:00 | Platba                                 | unspecified      |         -1 | no_manufacturer  |         999 | Other     |           0 | unspecified     |           0 | unspecified             | unspecified | unspecified | unspecified | unspecified | unspecified |\n",
      "| 2019-06-03 00:00:00 | 1900081504 | COD           | ZB00015177  |          1 |               0 |              76.6547  |  61.1717    |           102.184   | E-COMMER     | RUN.czC   | RUN.czO  | top4running.cz  | 2019-06-03 09:17:00 | S/LAB EXO HALF TIGHT M                 | lc1044900        |        237 | S/LAB            |         200 | Apparel   |         240 | Pants           |         244 | Compression pants       | running     | men         | adults      | Black       | L           |\n",
      "| 2019-06-03 00:00:00 | 1900081504 | COD           | ZB00014706  |          1 |               0 |              52.6298  |  44.4225    |            70.1519  | E-COMMER     | RUN.czC   | RUN.czO  | top4running.cz  | 2019-06-03 09:17:00 | S/LAB SENSE TEE M                      | l40216800        |        237 | S/LAB            |         200 | Apparel   |         230 | T-Shirts        |           0 | unspecified             | running     | men         | adults      | White       | L           |\n",
      "| 2019-06-03 00:00:00 | 1900081551 | COD           | ZB00002433  |          1 |               0 |              34.9159  |  23.8702    |            34.9159  | E-COMMER     | FTB.czC   | FTB.czO  | 11teamsports.cz | 2019-06-03 09:17:00 | ACSP Y NK BRT FTBL TOP SS HM           | 914128-677       |         84 | Nike             |         200 | Apparel   |         225 | Jerseys         |           0 | unspecified             | football    | unisex      | kids        | Dark red    | XL          |\n",
      "| 2019-06-03 00:00:00 | 1900081739 | CARD_CSOB     | S101        |          1 |               0 |               1.56977 |   0         |             1.56977 | E-COMMER     | RUN.czC   | RUN.czO  | top4running.cz  | 2019-06-03 09:18:00 | Dopravné                               | unspecified      |         -1 | no_manufacturer  |         999 | Other     |           0 | unspecified     |           0 | unspecified             | unspecified | unspecified | unspecified | unspecified | unspecified |\n",
      "| 2019-06-03 00:00:00 | 1900081869 | COD           | ZB00026567  |          1 |               0 |              26.7676  |   0         |            41.6975  | E-COMMER     | FTB.skC   | FTB.skO  | 11teamsports.sk | 2019-06-03 09:58:00 | Tiro 19                                | dt5174           |         85 | adidas           |         200 | Apparel   |         240 | Pants           |           0 | unspecified             | football    | men         | adults      | Blue        | M           |\n",
      "| 2019-06-03 00:00:00 | 1900081663 | CARD_CSOB     | S114        |         -1 |               0 |               3.2031  |   0         |             3.2031  | E-COMMER     | RUN.czC   | RUN.czO  | top4running.cz  | 2019-06-03 09:17:00 | Sleva                                  | unspecified      |         -1 | no_manufacturer  |         999 | Other     |           0 | unspecified     |           0 | unspecified             | unspecified | unspecified | unspecified | unspecified | unspecified |\n",
      "| 2019-06-03 00:00:00 | 1900081481 | COD           | S114        |         -1 |               0 |               3.2031  |   0         |             3.2031  | E-COMMER     | RUN.czC   | RUN.czO  | top4running.cz  | 2019-06-03 09:16:00 | Sleva                                  | unspecified      |         -1 | no_manufacturer  |         999 | Other     |           0 | unspecified     |           0 | unspecified             | unspecified | unspecified | unspecified | unspecified | unspecified |\n",
      "| 2019-06-03 00:00:00 | 1900081561 | CARD_CSOB     | ZB00001005  |          1 |               0 |              23.0314  |  12.4031    |            25.5942  | E-COMMER     | RUN.czC   | RUN.czO  | top4running.cz  | 2019-06-03 09:17:00 | Fly By Graphic Waistband Short         | 1331828-001      |        106 | Under Armour     |         200 | Apparel   |         240 | Pants           |         242 | Shorts                  | running     | women       | adults      | Black       | M           |\n",
      "| 2019-06-03 00:00:00 | 1900081481 | COD           | ZB00010516  |          1 |               0 |              63.4248  |  52.6318    |           105.676   | E-COMMER     | RUN.czC   | RUN.czO  | top4running.cz  | 2019-06-03 09:16:00 | W NIKE AIR ZOOM PEGASUS 35 PRM         | ah8392-400       |         84 | Nike             |         100 | Footwear  |         120 | Running shoes   |           0 | unspecified             | running     | women       | adults      | Blue        | 38          |\n",
      "| 2019-06-03 00:00:00 | 1900081697 | CARD_CSOB     | ZB00006740  |          1 |               0 |              18.0023  |  12.0795    |            23.9926  | E-COMMER     | RUN.czC   | RUN.czO  | top4running.cz  | 2019-06-03 10:44:00 | Under Armour New Play Up Short         | 1292231-002      |        106 | Under Armour     |         200 | Apparel   |         240 | Pants           |         242 | Shorts                  | fitness     | women       | adults      | Black       | S           |\n",
      "| 2019-06-03 00:00:00 | 1900081697 | CARD_CSOB     | ZB00000273  |          1 |               0 |              28.7977  |  18.6047    |            38.4074  | E-COMMER     | RUN.czC   | RUN.czO  | top4running.cz  | 2019-06-03 10:44:00 | UA VANISH Mid Bra                      | 1311811-003      |        106 | Under Armour     |         200 | Apparel   |         285 | Bras            |           0 | unspecified             | fitness     | women       | adults      | Black       | S/M         |\n",
      "| 2019-06-03 00:00:00 | 1900081645 | CARD_CSOB     | ZB00012240  |          1 |               0 |             132.584   | 102.65      |           220.994   | E-COMMER     | FTB.czC   | FTB.czO  | 11teamsports.cz | 2019-06-03 11:57:00 | SUPERFLY 6 ELITE FG                    | ah7365-077       |         84 | Nike             |         100 | Footwear  |         110 | Football shoes  |           0 | unspecified             | football    | men         | adults      | Black       | 44          |\n",
      "| 2019-06-03 00:00:00 | 1900081561 | CARD_CSOB     | ZB00009619  |          1 |               0 |              22.1988  |   9.88605   |            28.7977  | E-COMMER     | RUN.czC   | RUN.czO  | top4running.cz  | 2019-06-03 09:17:00 | M NP TOP LS COMP                       | 838077-010       |         84 | Nike             |         200 | Apparel   |         230 | T-Shirts        |         233 | Longsleeved (LS) shirts | football    | men         | adults      | Black       | S           |\n",
      "| 2019-06-03 00:00:00 | 1900081697 | CARD_CSOB     | ZB00023763  |          1 |               0 |               8.39264 |   7.44767   |            11.1795  | E-COMMER     | RUN.czC   | RUN.czO  | top4running.cz  | 2019-06-03 10:44:00 | UA Heatgear Tech Low Cut               | 1312430-100      |        106 | Under Armour     |         200 | Apparel   |         290 | Socks           |           0 | unspecified             | fitness     | unisex      | adults      | White       | M           |\n",
      "| 2019-06-03 00:00:00 | 1900081551 | COD           | S114        |         -1 |               0 |               3.2031  |   0         |             3.2031  | E-COMMER     | FTB.czC   | FTB.czO  | 11teamsports.cz | 2019-06-03 09:17:00 | Sleva                                  | unspecified      |         -1 | no_manufacturer  |         999 | Other     |           0 | unspecified     |           0 | unspecified             | unspecified | unspecified | unspecified | unspecified | unspecified |\n",
      "| 2019-06-03 00:00:00 | 1900081481 | COD           | S113        |          1 |               0 |               0.92907 |   0         |             0.92907 | E-COMMER     | RUN.czC   | RUN.czO  | top4running.cz  | 2019-06-03 09:16:00 | Platba                                 | unspecified      |         -1 | no_manufacturer  |         999 | Other     |           0 | unspecified     |           0 | unspecified             | unspecified | unspecified | unspecified | unspecified | unspecified |\n",
      "| 2019-06-03 00:00:00 | 1900081728 | PAYPAL        | ZB00023252  |          1 |               0 |              41.6975  |  42.7178    |            82.6945  | E-COMMER     | RUN.comC  | RUN.comO | top4running.com | 2019-06-03 08:01:00 | NIKE AIR SAFARI                        | 371740-012       |         84 | Nike             |         100 | Footwear  |         199 | Other Footwear  |           0 | unspecified             | lifestyle   | men         | adults      | Silver      | 42,5        |\n",
      "| 2019-06-03 00:00:00 | 1900081697 | CARD_CSOB     | S114        |         -1 |               0 |               3.2031  |   0         |             3.2031  | E-COMMER     | RUN.czC   | RUN.czO  | top4running.cz  | 2019-06-03 10:44:00 | Sleva                                  | unspecified      |         -1 | no_manufacturer  |         999 | Other     |           0 | unspecified     |           0 | unspecified             | unspecified | unspecified | unspecified | unspecified | unspecified |\n",
      "| 2019-06-03 00:00:00 | 1900081697 | CARD_CSOB     | ZB00011073  |          1 |               0 |              19.1876  |  12.4031    |            25.5942  | E-COMMER     | RUN.czC   | RUN.czO  | top4running.cz  | 2019-06-03 10:44:00 | UA HG Armour SS                        | 1328964-001      |        106 | Under Armour     |         200 | Apparel   |         230 | T-Shirts        |           0 | unspecified             | fitness     | women       | adults      | Black       | S/M         |\n",
      "| 2019-06-03 00:00:00 | 1900081561 | CARD_CSOB     | S114        |         -1 |               0 |               3.2031  |   0         |             3.2031  | E-COMMER     | RUN.czC   | RUN.czO  | top4running.cz  | 2019-06-03 09:17:00 | Sleva                                  | unspecified      |         -1 | no_manufacturer  |         999 | Other     |           0 | unspecified     |           0 | unspecified             | unspecified | unspecified | unspecified | unspecified | unspecified |\n",
      "| 2019-06-03 00:00:00 | 1900081561 | CARD_CSOB     | S101        |          1 |               0 |               2.21008 |   0         |             2.21008 | E-COMMER     | RUN.czC   | RUN.czO  | top4running.cz  | 2019-06-03 09:17:00 | Dopravné                               | unspecified      |         -1 | no_manufacturer  |         999 | Other     |           0 | unspecified     |           0 | unspecified             | unspecified | unspecified | unspecified | unspecified | unspecified |\n",
      "| 2019-06-03 00:00:00 | 1900081697 | CARD_CSOB     | ZB00000699  |          1 |               0 |              26.395   |  19.1814    |            35.2039  | E-COMMER     | RUN.czC   | RUN.czO  | top4running.cz  | 2019-06-03 10:44:00 | Fly By Mini 2-in-1                     | 1328163-001      |        106 | Under Armour     |         200 | Apparel   |         240 | Pants           |         242 | Shorts                  | running     | women       | adults      | Black       | S/M         |\n",
      "| 2019-06-03 00:00:00 | 1900081697 | CARD_CSOB     | ZB00021901  |          1 |               0 |              26.395   |  17.0543    |            35.2039  | E-COMMER     | RUN.czC   | RUN.czO  | top4running.cz  | 2019-06-03 10:44:00 | Crossback Graphic                      | 1317111-001      |        106 | Under Armour     |         200 | Apparel   |         285 | Bras            |           0 | unspecified             | running     | women       | adults      | Black       | S/M         |\n",
      "| 2019-06-03 00:00:00 | 1900081856 | COD           | ZB00026563  |          1 |               0 |              54.2057  |  26.7516    |            54.2057  | E-COMMER     | FTB.skC   | FTB.skO  | 11teamsports.sk | 2019-06-03 09:23:00 | LEGEND 7 ACADEMY FG                    | ah7242-118       |         84 | Nike             |         100 | Footwear  |         110 | Football shoes  |           0 | unspecified             | football    | men         | adults      | White       | 39          |\n",
      "| 2019-06-03 00:00:00 | 1900081481 | COD           | S101        |          1 |               0 |               1.56977 |   0         |             1.56977 | E-COMMER     | RUN.czC   | RUN.czO  | top4running.cz  | 2019-06-03 09:16:00 | Dopravné                               | unspecified      |         -1 | no_manufacturer  |         999 | Other     |           0 | unspecified     |           0 | unspecified             | unspecified | unspecified | unspecified | unspecified | unspecified |\n",
      "| 2019-06-04 00:00:00 | 1900080515 | CARD_CSOB     | ZB00000385  |          1 |               0 |              11.1795  |   8.12326   |            15.9845  | E-COMMER     | FTB.czC   | FTB.czO  | 11teamsports.cz | 2019-06-04 15:31:00 | NK HERITAGE HIP PACK                   | ba5750-605       |         84 | Nike             |         300 | Equipment |         305 | Bags            |           0 | unspecified             | football    | unisex      | adults      | Pink        | ks          |\n",
      "| 2019-06-04 00:00:00 | 1900080514 | COD           | ZB00007916  |          1 |               0 |              17.2245  |  12.6612    |            22.9069  | E-COMMER     | FTB.roC   | FTB.roO  | 11teamsports.ro | 2019-06-04 15:31:00 | RC FEF TEE- SPEEDWICK                  | dt2772           |         88 | Reebok           |         200 | Apparel   |         230 | T-Shirts        |           0 | unspecified             | fitness     | men         | adults      | Black       | M           |\n",
      "| 2019-06-04 00:00:00 | 1900080514 | COD           | S101        |          1 |               0 |               2.66472 |   0         |             2.86822 | E-COMMER     | FTB.roC   | FTB.roO  | 11teamsports.ro | 2019-06-04 15:31:00 | Dopravné                               | unspecified      |         -1 | no_manufacturer  |         999 | Other     |           0 | unspecified     |           0 | unspecified             | unspecified | unspecified | unspecified | unspecified | unspecified |\n",
      "| 2019-06-04 00:00:00 | 1900080516 | COD           | S101        |          1 |               0 |               2.66472 |   0         |             2.86822 | E-COMMER     | FTB.roC   | FTB.roO  | 11teamsports.ro | 2019-06-04 15:31:00 | Dopravné                               | unspecified      |         -1 | no_manufacturer  |         999 | Other     |           0 | unspecified     |           0 | unspecified             | unspecified | unspecified | unspecified | unspecified | unspecified |\n",
      "| 2019-06-04 00:00:00 | 1900080516 | COD           | ZB00010633  |          1 |               0 |              15.0944  |  10.8527    |            21.4868  | E-COMMER     | FTB.roC   | FTB.roO  | 11teamsports.ro | 2019-06-04 15:31:00 | UA SPORTSTYLE LC SS                    | 1326799-289      |        106 | Under Armour     |         200 | Apparel   |         230 | T-Shirts        |           0 | unspecified             | football    | men         | adults      | Brown       | M           |\n",
      "| 2019-06-04 00:00:00 | 1900080518 | COD           | ZB00023141  |          1 |               0 |              37.2868  |  35.0814    |            62.1527  | E-COMMER     | FTB.huC   | FTB.huO  | 11teamsports.hu | 2019-06-04 15:32:00 | WL420                                  | wl420npn         |        123 | New Balance      |         100 | Footwear  |         199 | Other Footwear  |           0 | unspecified             | lifestyle   | women       | adults      | Blue        | 37,5        |\n",
      "| 2019-06-04 00:00:00 | 1900080518 | COD           | S101        |          1 |               0 |               2.4111  |   0         |             2.86822 | E-COMMER     | FTB.huC   | FTB.huO  | 11teamsports.hu | 2019-06-04 15:32:00 | Dopravné                               | unspecified      |         -1 | no_manufacturer  |         999 | Other     |           0 | unspecified     |           0 | unspecified             | unspecified | unspecified | unspecified | unspecified | unspecified |\n",
      "| 2019-06-04 00:00:00 | 1900080519 | COD           | ZB00004599  |          1 |               0 |              55.1873  |  37.7519    |            68.972   | E-COMMER     | FTB.huC   | FTB.huO  | 11teamsports.hu | 2019-06-04 15:32:00 | NEMEZIZ 193 LL FG                      | f99997           |         85 | adidas           |         100 | Footwear  |         110 | Football shoes  |           0 | unspecified             | football    | men         | adults      | Red         | 43,3        |\n",
      "| 2019-06-04 00:00:00 | 1900080515 | CARD_CSOB     | S101        |          1 |               0 |               1.56977 |   0         |             2.86822 | E-COMMER     | FTB.czC   | FTB.czO  | 11teamsports.cz | 2019-06-04 15:31:00 | Dopravné                               | unspecified      |         -1 | no_manufacturer  |         999 | Other     |           0 | unspecified     |           0 | unspecified             | unspecified | unspecified | unspecified | unspecified | unspecified |\n",
      "| 2019-06-04 00:00:00 | 1900080511 | COD           | ZB00019767  |          1 |               0 |              59.4494  |  55.2353    |            99.0742  | E-COMMER     | RUN.huC   | RUN.huO  | top4running.hu  | 2019-06-04 15:31:00 | W NIKE AIR ZOOM PEGASUS 35 PRM         | ah8392-100       |         84 | Nike             |         100 | Footwear  |         120 | Running shoes   |           0 | unspecified             | running     | women       | adults      | White       | 40,5        |\n",
      "| 2019-06-04 00:00:00 | 1900081808 | COD           | ZB00014749  |          1 |               0 |             127.678   |  87.2229    |           150.053   | E-COMMER     | FTB.roC   | FTB.roO  | 11teamsports.ro | 2019-06-04 18:34:00 | AIR VAPORMAX 2019                      | ar6631-004       |         84 | Nike             |         100 | Footwear  |         199 | Other Footwear  |           0 | unspecified             | football    | men         | adults      | Black       | 41          |\n",
      "+---------------------+------------+---------------+-------------+------------+-----------------+-----------------------+-------------+---------------------+--------------+-----------+----------+-----------------+---------------------+----------------------------------------+------------------+------------+------------------+-------------+-----------+-------------+-----------------+-------------+-------------------------+-------------+-------------+-------------+-------------+-------------+\n"
     ]
    }
   ],
   "source": [
    "\n",
    "dc.print_df_with_dtypes(df, max_rows=200, print_on=True, data_generated_path=DATA_GENERATED_PATH, name_extension='EDA')"
   ]
  },
  {
   "attachments": {},
   "cell_type": "markdown",
   "metadata": {},
   "source": [
    "### A customized plot function to plot in Tableau style"
   ]
  },
  {
   "cell_type": "code",
   "execution_count": 10,
   "metadata": {},
   "outputs": [
    {
     "data": {
      "text/plain": [
       "<module 'src.modules.data_cleaning' from '/Users/ds/data_science/demand_prediction_data/src/modules/data_cleaning.py'>"
      ]
     },
     "execution_count": 10,
     "metadata": {},
     "output_type": "execute_result"
    },
    {
     "data": {
      "application/vnd.plotly.v1+json": {
       "config": {
        "plotlyServerURL": "https://plot.ly"
       },
       "data": [
        {
         "marker": {
          "color": "rgba(128, 128, 128, 0.5)"
         },
         "name": "1",
         "showlegend": false,
         "type": "box",
         "x": [
          1,
          1,
          1,
          1,
          1,
          1
         ],
         "y": [
          18652,
          2903,
          12038,
          318,
          16110,
          78
         ]
        },
        {
         "legendgroup": "Apparel",
         "marker": {
          "color": "#636EFA",
          "size": 12
         },
         "mode": "markers",
         "name": "Apparel",
         "showlegend": true,
         "type": "scatter",
         "x": [
          1
         ],
         "y": [
          18652
         ]
        },
        {
         "legendgroup": "Other",
         "marker": {
          "color": "#EF553B",
          "size": 12
         },
         "mode": "markers",
         "name": "Other",
         "showlegend": true,
         "type": "scatter",
         "x": [
          1
         ],
         "y": [
          16110
         ]
        },
        {
         "legendgroup": "Footwear",
         "marker": {
          "color": "#00CC96",
          "size": 12
         },
         "mode": "markers",
         "name": "Footwear",
         "showlegend": true,
         "type": "scatter",
         "x": [
          1
         ],
         "y": [
          12038
         ]
        },
        {
         "legendgroup": "Equipment",
         "marker": {
          "color": "#AB63FA",
          "size": 12
         },
         "mode": "markers",
         "name": "Equipment",
         "showlegend": true,
         "type": "scatter",
         "x": [
          1
         ],
         "y": [
          2903
         ]
        },
        {
         "legendgroup": "Nutrition",
         "marker": {
          "color": "#FFA15A",
          "size": 12
         },
         "mode": "markers",
         "name": "Nutrition",
         "showlegend": true,
         "type": "scatter",
         "x": [
          1
         ],
         "y": [
          318
         ]
        },
        {
         "legendgroup": "unspecified",
         "marker": {
          "color": "#19D3F3",
          "size": 12
         },
         "mode": "markers",
         "name": "unspecified",
         "showlegend": true,
         "type": "scatter",
         "x": [
          1
         ],
         "y": [
          78
         ]
        },
        {
         "marker": {
          "color": "rgba(128, 128, 128, 0.5)"
         },
         "name": "2",
         "showlegend": false,
         "type": "box",
         "x": [
          2,
          2,
          2,
          2,
          2,
          2
         ],
         "y": [
          17222,
          2755,
          10800,
          296,
          14266,
          343
         ]
        },
        {
         "legendgroup": "Apparel",
         "marker": {
          "color": "#636EFA",
          "size": 12
         },
         "mode": "markers",
         "name": "Apparel",
         "showlegend": false,
         "type": "scatter",
         "x": [
          2
         ],
         "y": [
          17222
         ]
        },
        {
         "legendgroup": "Other",
         "marker": {
          "color": "#EF553B",
          "size": 12
         },
         "mode": "markers",
         "name": "Other",
         "showlegend": false,
         "type": "scatter",
         "x": [
          2
         ],
         "y": [
          14266
         ]
        },
        {
         "legendgroup": "Footwear",
         "marker": {
          "color": "#00CC96",
          "size": 12
         },
         "mode": "markers",
         "name": "Footwear",
         "showlegend": false,
         "type": "scatter",
         "x": [
          2
         ],
         "y": [
          10800
         ]
        },
        {
         "legendgroup": "Equipment",
         "marker": {
          "color": "#AB63FA",
          "size": 12
         },
         "mode": "markers",
         "name": "Equipment",
         "showlegend": false,
         "type": "scatter",
         "x": [
          2
         ],
         "y": [
          2755
         ]
        },
        {
         "legendgroup": "unspecified",
         "marker": {
          "color": "#FFA15A",
          "size": 12
         },
         "mode": "markers",
         "name": "unspecified",
         "showlegend": false,
         "type": "scatter",
         "x": [
          2
         ],
         "y": [
          343
         ]
        },
        {
         "legendgroup": "Nutrition",
         "marker": {
          "color": "#19D3F3",
          "size": 12
         },
         "mode": "markers",
         "name": "Nutrition",
         "showlegend": false,
         "type": "scatter",
         "x": [
          2
         ],
         "y": [
          296
         ]
        },
        {
         "marker": {
          "color": "rgba(128, 128, 128, 0.5)"
         },
         "name": "3",
         "showlegend": false,
         "type": "box",
         "x": [
          3,
          3,
          3,
          3,
          3
         ],
         "y": [
          10274,
          1841,
          7465,
          60,
          8976
         ]
        },
        {
         "legendgroup": "Apparel",
         "marker": {
          "color": "#636EFA",
          "size": 12
         },
         "mode": "markers",
         "name": "Apparel",
         "showlegend": false,
         "type": "scatter",
         "x": [
          3
         ],
         "y": [
          10274
         ]
        },
        {
         "legendgroup": "Other",
         "marker": {
          "color": "#EF553B",
          "size": 12
         },
         "mode": "markers",
         "name": "Other",
         "showlegend": false,
         "type": "scatter",
         "x": [
          3
         ],
         "y": [
          8976
         ]
        },
        {
         "legendgroup": "Footwear",
         "marker": {
          "color": "#00CC96",
          "size": 12
         },
         "mode": "markers",
         "name": "Footwear",
         "showlegend": false,
         "type": "scatter",
         "x": [
          3
         ],
         "y": [
          7465
         ]
        },
        {
         "legendgroup": "Equipment",
         "marker": {
          "color": "#AB63FA",
          "size": 12
         },
         "mode": "markers",
         "name": "Equipment",
         "showlegend": false,
         "type": "scatter",
         "x": [
          3
         ],
         "y": [
          1841
         ]
        },
        {
         "legendgroup": "Nutrition",
         "marker": {
          "color": "#FFA15A",
          "size": 12
         },
         "mode": "markers",
         "name": "Nutrition",
         "showlegend": false,
         "type": "scatter",
         "x": [
          3
         ],
         "y": [
          60
         ]
        },
        {
         "marker": {
          "color": "rgba(128, 128, 128, 0.5)"
         },
         "name": "4",
         "showlegend": false,
         "type": "box",
         "x": [
          4,
          4,
          4,
          4,
          4
         ],
         "y": [
          10231,
          1922,
          7677,
          49,
          8531
         ]
        },
        {
         "legendgroup": "Apparel",
         "marker": {
          "color": "#636EFA",
          "size": 12
         },
         "mode": "markers",
         "name": "Apparel",
         "showlegend": false,
         "type": "scatter",
         "x": [
          4
         ],
         "y": [
          10231
         ]
        },
        {
         "legendgroup": "Other",
         "marker": {
          "color": "#EF553B",
          "size": 12
         },
         "mode": "markers",
         "name": "Other",
         "showlegend": false,
         "type": "scatter",
         "x": [
          4
         ],
         "y": [
          8531
         ]
        },
        {
         "legendgroup": "Footwear",
         "marker": {
          "color": "#00CC96",
          "size": 12
         },
         "mode": "markers",
         "name": "Footwear",
         "showlegend": false,
         "type": "scatter",
         "x": [
          4
         ],
         "y": [
          7677
         ]
        },
        {
         "legendgroup": "Equipment",
         "marker": {
          "color": "#AB63FA",
          "size": 12
         },
         "mode": "markers",
         "name": "Equipment",
         "showlegend": false,
         "type": "scatter",
         "x": [
          4
         ],
         "y": [
          1922
         ]
        },
        {
         "legendgroup": "Nutrition",
         "marker": {
          "color": "#FFA15A",
          "size": 12
         },
         "mode": "markers",
         "name": "Nutrition",
         "showlegend": false,
         "type": "scatter",
         "x": [
          4
         ],
         "y": [
          49
         ]
        },
        {
         "marker": {
          "color": "rgba(128, 128, 128, 0.5)"
         },
         "name": "5",
         "showlegend": false,
         "type": "box",
         "x": [
          5,
          5,
          5,
          5,
          5
         ],
         "y": [
          10759,
          1696,
          7833,
          45,
          9282
         ]
        },
        {
         "legendgroup": "Apparel",
         "marker": {
          "color": "#636EFA",
          "size": 12
         },
         "mode": "markers",
         "name": "Apparel",
         "showlegend": false,
         "type": "scatter",
         "x": [
          5
         ],
         "y": [
          10759
         ]
        },
        {
         "legendgroup": "Other",
         "marker": {
          "color": "#EF553B",
          "size": 12
         },
         "mode": "markers",
         "name": "Other",
         "showlegend": false,
         "type": "scatter",
         "x": [
          5
         ],
         "y": [
          9282
         ]
        },
        {
         "legendgroup": "Footwear",
         "marker": {
          "color": "#00CC96",
          "size": 12
         },
         "mode": "markers",
         "name": "Footwear",
         "showlegend": false,
         "type": "scatter",
         "x": [
          5
         ],
         "y": [
          7833
         ]
        },
        {
         "legendgroup": "Equipment",
         "marker": {
          "color": "#AB63FA",
          "size": 12
         },
         "mode": "markers",
         "name": "Equipment",
         "showlegend": false,
         "type": "scatter",
         "x": [
          5
         ],
         "y": [
          1696
         ]
        },
        {
         "legendgroup": "Nutrition",
         "marker": {
          "color": "#FFA15A",
          "size": 12
         },
         "mode": "markers",
         "name": "Nutrition",
         "showlegend": false,
         "type": "scatter",
         "x": [
          5
         ],
         "y": [
          45
         ]
        },
        {
         "marker": {
          "color": "rgba(128, 128, 128, 0.5)"
         },
         "name": "6",
         "showlegend": false,
         "type": "box",
         "x": [
          6,
          6,
          6,
          6,
          6
         ],
         "y": [
          9657,
          1713,
          6744,
          120,
          8841
         ]
        },
        {
         "legendgroup": "Apparel",
         "marker": {
          "color": "#636EFA",
          "size": 12
         },
         "mode": "markers",
         "name": "Apparel",
         "showlegend": false,
         "type": "scatter",
         "x": [
          6
         ],
         "y": [
          9657
         ]
        },
        {
         "legendgroup": "Other",
         "marker": {
          "color": "#EF553B",
          "size": 12
         },
         "mode": "markers",
         "name": "Other",
         "showlegend": false,
         "type": "scatter",
         "x": [
          6
         ],
         "y": [
          8841
         ]
        },
        {
         "legendgroup": "Footwear",
         "marker": {
          "color": "#00CC96",
          "size": 12
         },
         "mode": "markers",
         "name": "Footwear",
         "showlegend": false,
         "type": "scatter",
         "x": [
          6
         ],
         "y": [
          6744
         ]
        },
        {
         "legendgroup": "Equipment",
         "marker": {
          "color": "#AB63FA",
          "size": 12
         },
         "mode": "markers",
         "name": "Equipment",
         "showlegend": false,
         "type": "scatter",
         "x": [
          6
         ],
         "y": [
          1713
         ]
        },
        {
         "legendgroup": "Nutrition",
         "marker": {
          "color": "#FFA15A",
          "size": 12
         },
         "mode": "markers",
         "name": "Nutrition",
         "showlegend": false,
         "type": "scatter",
         "x": [
          6
         ],
         "y": [
          120
         ]
        },
        {
         "marker": {
          "color": "rgba(128, 128, 128, 0.5)"
         },
         "name": "7",
         "showlegend": false,
         "type": "box",
         "x": [
          7,
          7,
          7,
          7,
          7
         ],
         "y": [
          9335,
          1673,
          6969,
          70,
          7914
         ]
        },
        {
         "legendgroup": "Apparel",
         "marker": {
          "color": "#636EFA",
          "size": 12
         },
         "mode": "markers",
         "name": "Apparel",
         "showlegend": false,
         "type": "scatter",
         "x": [
          7
         ],
         "y": [
          9335
         ]
        },
        {
         "legendgroup": "Other",
         "marker": {
          "color": "#EF553B",
          "size": 12
         },
         "mode": "markers",
         "name": "Other",
         "showlegend": false,
         "type": "scatter",
         "x": [
          7
         ],
         "y": [
          7914
         ]
        },
        {
         "legendgroup": "Footwear",
         "marker": {
          "color": "#00CC96",
          "size": 12
         },
         "mode": "markers",
         "name": "Footwear",
         "showlegend": false,
         "type": "scatter",
         "x": [
          7
         ],
         "y": [
          6969
         ]
        },
        {
         "legendgroup": "Equipment",
         "marker": {
          "color": "#AB63FA",
          "size": 12
         },
         "mode": "markers",
         "name": "Equipment",
         "showlegend": false,
         "type": "scatter",
         "x": [
          7
         ],
         "y": [
          1673
         ]
        },
        {
         "legendgroup": "Nutrition",
         "marker": {
          "color": "#FFA15A",
          "size": 12
         },
         "mode": "markers",
         "name": "Nutrition",
         "showlegend": false,
         "type": "scatter",
         "x": [
          7
         ],
         "y": [
          70
         ]
        },
        {
         "marker": {
          "color": "rgba(128, 128, 128, 0.5)"
         },
         "name": "8",
         "showlegend": false,
         "type": "box",
         "x": [
          8,
          8,
          8,
          8,
          8
         ],
         "y": [
          9916,
          1753,
          7690,
          69,
          8948
         ]
        },
        {
         "legendgroup": "Apparel",
         "marker": {
          "color": "#636EFA",
          "size": 12
         },
         "mode": "markers",
         "name": "Apparel",
         "showlegend": false,
         "type": "scatter",
         "x": [
          8
         ],
         "y": [
          9916
         ]
        },
        {
         "legendgroup": "Other",
         "marker": {
          "color": "#EF553B",
          "size": 12
         },
         "mode": "markers",
         "name": "Other",
         "showlegend": false,
         "type": "scatter",
         "x": [
          8
         ],
         "y": [
          8948
         ]
        },
        {
         "legendgroup": "Footwear",
         "marker": {
          "color": "#00CC96",
          "size": 12
         },
         "mode": "markers",
         "name": "Footwear",
         "showlegend": false,
         "type": "scatter",
         "x": [
          8
         ],
         "y": [
          7690
         ]
        },
        {
         "legendgroup": "Equipment",
         "marker": {
          "color": "#AB63FA",
          "size": 12
         },
         "mode": "markers",
         "name": "Equipment",
         "showlegend": false,
         "type": "scatter",
         "x": [
          8
         ],
         "y": [
          1753
         ]
        },
        {
         "legendgroup": "Nutrition",
         "marker": {
          "color": "#FFA15A",
          "size": 12
         },
         "mode": "markers",
         "name": "Nutrition",
         "showlegend": false,
         "type": "scatter",
         "x": [
          8
         ],
         "y": [
          69
         ]
        },
        {
         "marker": {
          "color": "rgba(128, 128, 128, 0.5)"
         },
         "name": "9",
         "showlegend": false,
         "type": "box",
         "x": [
          9,
          9,
          9,
          9,
          9
         ],
         "y": [
          10215,
          1841,
          8594,
          116,
          8901
         ]
        },
        {
         "legendgroup": "Apparel",
         "marker": {
          "color": "#636EFA",
          "size": 12
         },
         "mode": "markers",
         "name": "Apparel",
         "showlegend": false,
         "type": "scatter",
         "x": [
          9
         ],
         "y": [
          10215
         ]
        },
        {
         "legendgroup": "Other",
         "marker": {
          "color": "#EF553B",
          "size": 12
         },
         "mode": "markers",
         "name": "Other",
         "showlegend": false,
         "type": "scatter",
         "x": [
          9
         ],
         "y": [
          8901
         ]
        },
        {
         "legendgroup": "Footwear",
         "marker": {
          "color": "#00CC96",
          "size": 12
         },
         "mode": "markers",
         "name": "Footwear",
         "showlegend": false,
         "type": "scatter",
         "x": [
          9
         ],
         "y": [
          8594
         ]
        },
        {
         "legendgroup": "Equipment",
         "marker": {
          "color": "#AB63FA",
          "size": 12
         },
         "mode": "markers",
         "name": "Equipment",
         "showlegend": false,
         "type": "scatter",
         "x": [
          9
         ],
         "y": [
          1841
         ]
        },
        {
         "legendgroup": "Nutrition",
         "marker": {
          "color": "#FFA15A",
          "size": 12
         },
         "mode": "markers",
         "name": "Nutrition",
         "showlegend": false,
         "type": "scatter",
         "x": [
          9
         ],
         "y": [
          116
         ]
        },
        {
         "marker": {
          "color": "rgba(128, 128, 128, 0.5)"
         },
         "name": "10",
         "showlegend": false,
         "type": "box",
         "x": [
          10,
          10,
          10,
          10,
          10
         ],
         "y": [
          10235,
          1846,
          8882,
          119,
          9415
         ]
        },
        {
         "legendgroup": "Apparel",
         "marker": {
          "color": "#636EFA",
          "size": 12
         },
         "mode": "markers",
         "name": "Apparel",
         "showlegend": false,
         "type": "scatter",
         "x": [
          10
         ],
         "y": [
          10235
         ]
        },
        {
         "legendgroup": "Other",
         "marker": {
          "color": "#EF553B",
          "size": 12
         },
         "mode": "markers",
         "name": "Other",
         "showlegend": false,
         "type": "scatter",
         "x": [
          10
         ],
         "y": [
          9415
         ]
        },
        {
         "legendgroup": "Footwear",
         "marker": {
          "color": "#00CC96",
          "size": 12
         },
         "mode": "markers",
         "name": "Footwear",
         "showlegend": false,
         "type": "scatter",
         "x": [
          10
         ],
         "y": [
          8882
         ]
        },
        {
         "legendgroup": "Equipment",
         "marker": {
          "color": "#AB63FA",
          "size": 12
         },
         "mode": "markers",
         "name": "Equipment",
         "showlegend": false,
         "type": "scatter",
         "x": [
          10
         ],
         "y": [
          1846
         ]
        },
        {
         "legendgroup": "Nutrition",
         "marker": {
          "color": "#FFA15A",
          "size": 12
         },
         "mode": "markers",
         "name": "Nutrition",
         "showlegend": false,
         "type": "scatter",
         "x": [
          10
         ],
         "y": [
          119
         ]
        },
        {
         "marker": {
          "color": "rgba(128, 128, 128, 0.5)"
         },
         "name": "11",
         "showlegend": false,
         "type": "box",
         "x": [
          11,
          11,
          11,
          11,
          11
         ],
         "y": [
          10003,
          1876,
          8466,
          42,
          9785
         ]
        },
        {
         "legendgroup": "Apparel",
         "marker": {
          "color": "#636EFA",
          "size": 12
         },
         "mode": "markers",
         "name": "Apparel",
         "showlegend": false,
         "type": "scatter",
         "x": [
          11
         ],
         "y": [
          10003
         ]
        },
        {
         "legendgroup": "Other",
         "marker": {
          "color": "#EF553B",
          "size": 12
         },
         "mode": "markers",
         "name": "Other",
         "showlegend": false,
         "type": "scatter",
         "x": [
          11
         ],
         "y": [
          9785
         ]
        },
        {
         "legendgroup": "Footwear",
         "marker": {
          "color": "#00CC96",
          "size": 12
         },
         "mode": "markers",
         "name": "Footwear",
         "showlegend": false,
         "type": "scatter",
         "x": [
          11
         ],
         "y": [
          8466
         ]
        },
        {
         "legendgroup": "Equipment",
         "marker": {
          "color": "#AB63FA",
          "size": 12
         },
         "mode": "markers",
         "name": "Equipment",
         "showlegend": false,
         "type": "scatter",
         "x": [
          11
         ],
         "y": [
          1876
         ]
        },
        {
         "legendgroup": "Nutrition",
         "marker": {
          "color": "#FFA15A",
          "size": 12
         },
         "mode": "markers",
         "name": "Nutrition",
         "showlegend": false,
         "type": "scatter",
         "x": [
          11
         ],
         "y": [
          42
         ]
        },
        {
         "marker": {
          "color": "rgba(128, 128, 128, 0.5)"
         },
         "name": "12",
         "showlegend": false,
         "type": "box",
         "x": [
          12,
          12,
          12,
          12,
          12
         ],
         "y": [
          9129,
          2149,
          7293,
          99,
          10312
         ]
        },
        {
         "legendgroup": "Other",
         "marker": {
          "color": "#636EFA",
          "size": 12
         },
         "mode": "markers",
         "name": "Other",
         "showlegend": false,
         "type": "scatter",
         "x": [
          12
         ],
         "y": [
          10312
         ]
        },
        {
         "legendgroup": "Apparel",
         "marker": {
          "color": "#EF553B",
          "size": 12
         },
         "mode": "markers",
         "name": "Apparel",
         "showlegend": false,
         "type": "scatter",
         "x": [
          12
         ],
         "y": [
          9129
         ]
        },
        {
         "legendgroup": "Footwear",
         "marker": {
          "color": "#00CC96",
          "size": 12
         },
         "mode": "markers",
         "name": "Footwear",
         "showlegend": false,
         "type": "scatter",
         "x": [
          12
         ],
         "y": [
          7293
         ]
        },
        {
         "legendgroup": "Equipment",
         "marker": {
          "color": "#AB63FA",
          "size": 12
         },
         "mode": "markers",
         "name": "Equipment",
         "showlegend": false,
         "type": "scatter",
         "x": [
          12
         ],
         "y": [
          2149
         ]
        },
        {
         "legendgroup": "Nutrition",
         "marker": {
          "color": "#FFA15A",
          "size": 12
         },
         "mode": "markers",
         "name": "Nutrition",
         "showlegend": false,
         "type": "scatter",
         "x": [
          12
         ],
         "y": [
          99
         ]
        },
        {
         "marker": {
          "color": "rgba(128, 128, 128, 0.5)"
         },
         "name": "13",
         "showlegend": false,
         "type": "box",
         "x": [
          13,
          13,
          13,
          13,
          13
         ],
         "y": [
          9360,
          1980,
          7501,
          93,
          10463
         ]
        },
        {
         "legendgroup": "Other",
         "marker": {
          "color": "#636EFA",
          "size": 12
         },
         "mode": "markers",
         "name": "Other",
         "showlegend": false,
         "type": "scatter",
         "x": [
          13
         ],
         "y": [
          10463
         ]
        },
        {
         "legendgroup": "Apparel",
         "marker": {
          "color": "#EF553B",
          "size": 12
         },
         "mode": "markers",
         "name": "Apparel",
         "showlegend": false,
         "type": "scatter",
         "x": [
          13
         ],
         "y": [
          9360
         ]
        },
        {
         "legendgroup": "Footwear",
         "marker": {
          "color": "#00CC96",
          "size": 12
         },
         "mode": "markers",
         "name": "Footwear",
         "showlegend": false,
         "type": "scatter",
         "x": [
          13
         ],
         "y": [
          7501
         ]
        },
        {
         "legendgroup": "Equipment",
         "marker": {
          "color": "#AB63FA",
          "size": 12
         },
         "mode": "markers",
         "name": "Equipment",
         "showlegend": false,
         "type": "scatter",
         "x": [
          13
         ],
         "y": [
          1980
         ]
        },
        {
         "legendgroup": "Nutrition",
         "marker": {
          "color": "#FFA15A",
          "size": 12
         },
         "mode": "markers",
         "name": "Nutrition",
         "showlegend": false,
         "type": "scatter",
         "x": [
          13
         ],
         "y": [
          93
         ]
        },
        {
         "marker": {
          "color": "rgba(128, 128, 128, 0.5)"
         },
         "name": "14",
         "showlegend": false,
         "type": "box",
         "x": [
          14,
          14,
          14,
          14,
          14
         ],
         "y": [
          10401,
          2652,
          7943,
          124,
          10805
         ]
        },
        {
         "legendgroup": "Other",
         "marker": {
          "color": "#636EFA",
          "size": 12
         },
         "mode": "markers",
         "name": "Other",
         "showlegend": false,
         "type": "scatter",
         "x": [
          14
         ],
         "y": [
          10805
         ]
        },
        {
         "legendgroup": "Apparel",
         "marker": {
          "color": "#EF553B",
          "size": 12
         },
         "mode": "markers",
         "name": "Apparel",
         "showlegend": false,
         "type": "scatter",
         "x": [
          14
         ],
         "y": [
          10401
         ]
        },
        {
         "legendgroup": "Footwear",
         "marker": {
          "color": "#00CC96",
          "size": 12
         },
         "mode": "markers",
         "name": "Footwear",
         "showlegend": false,
         "type": "scatter",
         "x": [
          14
         ],
         "y": [
          7943
         ]
        },
        {
         "legendgroup": "Equipment",
         "marker": {
          "color": "#AB63FA",
          "size": 12
         },
         "mode": "markers",
         "name": "Equipment",
         "showlegend": false,
         "type": "scatter",
         "x": [
          14
         ],
         "y": [
          2652
         ]
        },
        {
         "legendgroup": "Nutrition",
         "marker": {
          "color": "#FFA15A",
          "size": 12
         },
         "mode": "markers",
         "name": "Nutrition",
         "showlegend": false,
         "type": "scatter",
         "x": [
          14
         ],
         "y": [
          124
         ]
        },
        {
         "marker": {
          "color": "rgba(128, 128, 128, 0.5)"
         },
         "name": "15",
         "showlegend": false,
         "type": "box",
         "x": [
          15,
          15,
          15,
          15,
          15
         ],
         "y": [
          11657,
          3366,
          8427,
          319,
          11698
         ]
        },
        {
         "legendgroup": "Other",
         "marker": {
          "color": "#636EFA",
          "size": 12
         },
         "mode": "markers",
         "name": "Other",
         "showlegend": false,
         "type": "scatter",
         "x": [
          15
         ],
         "y": [
          11698
         ]
        },
        {
         "legendgroup": "Apparel",
         "marker": {
          "color": "#EF553B",
          "size": 12
         },
         "mode": "markers",
         "name": "Apparel",
         "showlegend": false,
         "type": "scatter",
         "x": [
          15
         ],
         "y": [
          11657
         ]
        },
        {
         "legendgroup": "Footwear",
         "marker": {
          "color": "#00CC96",
          "size": 12
         },
         "mode": "markers",
         "name": "Footwear",
         "showlegend": false,
         "type": "scatter",
         "x": [
          15
         ],
         "y": [
          8427
         ]
        },
        {
         "legendgroup": "Equipment",
         "marker": {
          "color": "#AB63FA",
          "size": 12
         },
         "mode": "markers",
         "name": "Equipment",
         "showlegend": false,
         "type": "scatter",
         "x": [
          15
         ],
         "y": [
          3366
         ]
        },
        {
         "legendgroup": "Nutrition",
         "marker": {
          "color": "#FFA15A",
          "size": 12
         },
         "mode": "markers",
         "name": "Nutrition",
         "showlegend": false,
         "type": "scatter",
         "x": [
          15
         ],
         "y": [
          319
         ]
        },
        {
         "marker": {
          "color": "rgba(128, 128, 128, 0.5)"
         },
         "name": "16",
         "showlegend": false,
         "type": "box",
         "x": [
          16,
          16,
          16,
          16,
          16
         ],
         "y": [
          11110,
          2331,
          8255,
          194,
          12691
         ]
        },
        {
         "legendgroup": "Other",
         "marker": {
          "color": "#636EFA",
          "size": 12
         },
         "mode": "markers",
         "name": "Other",
         "showlegend": false,
         "type": "scatter",
         "x": [
          16
         ],
         "y": [
          12691
         ]
        },
        {
         "legendgroup": "Apparel",
         "marker": {
          "color": "#EF553B",
          "size": 12
         },
         "mode": "markers",
         "name": "Apparel",
         "showlegend": false,
         "type": "scatter",
         "x": [
          16
         ],
         "y": [
          11110
         ]
        },
        {
         "legendgroup": "Footwear",
         "marker": {
          "color": "#00CC96",
          "size": 12
         },
         "mode": "markers",
         "name": "Footwear",
         "showlegend": false,
         "type": "scatter",
         "x": [
          16
         ],
         "y": [
          8255
         ]
        },
        {
         "legendgroup": "Equipment",
         "marker": {
          "color": "#AB63FA",
          "size": 12
         },
         "mode": "markers",
         "name": "Equipment",
         "showlegend": false,
         "type": "scatter",
         "x": [
          16
         ],
         "y": [
          2331
         ]
        },
        {
         "legendgroup": "Nutrition",
         "marker": {
          "color": "#FFA15A",
          "size": 12
         },
         "mode": "markers",
         "name": "Nutrition",
         "showlegend": false,
         "type": "scatter",
         "x": [
          16
         ],
         "y": [
          194
         ]
        },
        {
         "marker": {
          "color": "rgba(128, 128, 128, 0.5)"
         },
         "name": "17",
         "showlegend": false,
         "type": "box",
         "x": [
          17,
          17,
          17,
          17,
          17
         ],
         "y": [
          10613,
          2104,
          8134,
          141,
          11365
         ]
        },
        {
         "legendgroup": "Other",
         "marker": {
          "color": "#636EFA",
          "size": 12
         },
         "mode": "markers",
         "name": "Other",
         "showlegend": false,
         "type": "scatter",
         "x": [
          17
         ],
         "y": [
          11365
         ]
        },
        {
         "legendgroup": "Apparel",
         "marker": {
          "color": "#EF553B",
          "size": 12
         },
         "mode": "markers",
         "name": "Apparel",
         "showlegend": false,
         "type": "scatter",
         "x": [
          17
         ],
         "y": [
          10613
         ]
        },
        {
         "legendgroup": "Footwear",
         "marker": {
          "color": "#00CC96",
          "size": 12
         },
         "mode": "markers",
         "name": "Footwear",
         "showlegend": false,
         "type": "scatter",
         "x": [
          17
         ],
         "y": [
          8134
         ]
        },
        {
         "legendgroup": "Equipment",
         "marker": {
          "color": "#AB63FA",
          "size": 12
         },
         "mode": "markers",
         "name": "Equipment",
         "showlegend": false,
         "type": "scatter",
         "x": [
          17
         ],
         "y": [
          2104
         ]
        },
        {
         "legendgroup": "Nutrition",
         "marker": {
          "color": "#FFA15A",
          "size": 12
         },
         "mode": "markers",
         "name": "Nutrition",
         "showlegend": false,
         "type": "scatter",
         "x": [
          17
         ],
         "y": [
          141
         ]
        },
        {
         "marker": {
          "color": "rgba(128, 128, 128, 0.5)"
         },
         "name": "18",
         "showlegend": false,
         "type": "box",
         "x": [
          18,
          18,
          18,
          18,
          18
         ],
         "y": [
          10035,
          1845,
          7982,
          161,
          11187
         ]
        },
        {
         "legendgroup": "Other",
         "marker": {
          "color": "#636EFA",
          "size": 12
         },
         "mode": "markers",
         "name": "Other",
         "showlegend": false,
         "type": "scatter",
         "x": [
          18
         ],
         "y": [
          11187
         ]
        },
        {
         "legendgroup": "Apparel",
         "marker": {
          "color": "#EF553B",
          "size": 12
         },
         "mode": "markers",
         "name": "Apparel",
         "showlegend": false,
         "type": "scatter",
         "x": [
          18
         ],
         "y": [
          10035
         ]
        },
        {
         "legendgroup": "Footwear",
         "marker": {
          "color": "#00CC96",
          "size": 12
         },
         "mode": "markers",
         "name": "Footwear",
         "showlegend": false,
         "type": "scatter",
         "x": [
          18
         ],
         "y": [
          7982
         ]
        },
        {
         "legendgroup": "Equipment",
         "marker": {
          "color": "#AB63FA",
          "size": 12
         },
         "mode": "markers",
         "name": "Equipment",
         "showlegend": false,
         "type": "scatter",
         "x": [
          18
         ],
         "y": [
          1845
         ]
        },
        {
         "legendgroup": "Nutrition",
         "marker": {
          "color": "#FFA15A",
          "size": 12
         },
         "mode": "markers",
         "name": "Nutrition",
         "showlegend": false,
         "type": "scatter",
         "x": [
          18
         ],
         "y": [
          161
         ]
        },
        {
         "marker": {
          "color": "rgba(128, 128, 128, 0.5)"
         },
         "name": "19",
         "showlegend": false,
         "type": "box",
         "x": [
          19,
          19,
          19,
          19,
          19
         ],
         "y": [
          11062,
          1584,
          8467,
          79,
          11964
         ]
        },
        {
         "legendgroup": "Other",
         "marker": {
          "color": "#636EFA",
          "size": 12
         },
         "mode": "markers",
         "name": "Other",
         "showlegend": false,
         "type": "scatter",
         "x": [
          19
         ],
         "y": [
          11964
         ]
        },
        {
         "legendgroup": "Apparel",
         "marker": {
          "color": "#EF553B",
          "size": 12
         },
         "mode": "markers",
         "name": "Apparel",
         "showlegend": false,
         "type": "scatter",
         "x": [
          19
         ],
         "y": [
          11062
         ]
        },
        {
         "legendgroup": "Footwear",
         "marker": {
          "color": "#00CC96",
          "size": 12
         },
         "mode": "markers",
         "name": "Footwear",
         "showlegend": false,
         "type": "scatter",
         "x": [
          19
         ],
         "y": [
          8467
         ]
        },
        {
         "legendgroup": "Equipment",
         "marker": {
          "color": "#AB63FA",
          "size": 12
         },
         "mode": "markers",
         "name": "Equipment",
         "showlegend": false,
         "type": "scatter",
         "x": [
          19
         ],
         "y": [
          1584
         ]
        },
        {
         "legendgroup": "Nutrition",
         "marker": {
          "color": "#FFA15A",
          "size": 12
         },
         "mode": "markers",
         "name": "Nutrition",
         "showlegend": false,
         "type": "scatter",
         "x": [
          19
         ],
         "y": [
          79
         ]
        },
        {
         "marker": {
          "color": "rgba(128, 128, 128, 0.5)"
         },
         "name": "20",
         "showlegend": false,
         "type": "box",
         "x": [
          20,
          20,
          20,
          20,
          20
         ],
         "y": [
          10174,
          1514,
          8610,
          181,
          12009
         ]
        },
        {
         "legendgroup": "Other",
         "marker": {
          "color": "#636EFA",
          "size": 12
         },
         "mode": "markers",
         "name": "Other",
         "showlegend": false,
         "type": "scatter",
         "x": [
          20
         ],
         "y": [
          12009
         ]
        },
        {
         "legendgroup": "Apparel",
         "marker": {
          "color": "#EF553B",
          "size": 12
         },
         "mode": "markers",
         "name": "Apparel",
         "showlegend": false,
         "type": "scatter",
         "x": [
          20
         ],
         "y": [
          10174
         ]
        },
        {
         "legendgroup": "Footwear",
         "marker": {
          "color": "#00CC96",
          "size": 12
         },
         "mode": "markers",
         "name": "Footwear",
         "showlegend": false,
         "type": "scatter",
         "x": [
          20
         ],
         "y": [
          8610
         ]
        },
        {
         "legendgroup": "Equipment",
         "marker": {
          "color": "#AB63FA",
          "size": 12
         },
         "mode": "markers",
         "name": "Equipment",
         "showlegend": false,
         "type": "scatter",
         "x": [
          20
         ],
         "y": [
          1514
         ]
        },
        {
         "legendgroup": "Nutrition",
         "marker": {
          "color": "#FFA15A",
          "size": 12
         },
         "mode": "markers",
         "name": "Nutrition",
         "showlegend": false,
         "type": "scatter",
         "x": [
          20
         ],
         "y": [
          181
         ]
        },
        {
         "marker": {
          "color": "rgba(128, 128, 128, 0.5)"
         },
         "name": "21",
         "showlegend": false,
         "type": "box",
         "x": [
          21,
          21,
          21,
          21,
          21
         ],
         "y": [
          10834,
          1477,
          8884,
          122,
          11963
         ]
        },
        {
         "legendgroup": "Other",
         "marker": {
          "color": "#636EFA",
          "size": 12
         },
         "mode": "markers",
         "name": "Other",
         "showlegend": false,
         "type": "scatter",
         "x": [
          21
         ],
         "y": [
          11963
         ]
        },
        {
         "legendgroup": "Apparel",
         "marker": {
          "color": "#EF553B",
          "size": 12
         },
         "mode": "markers",
         "name": "Apparel",
         "showlegend": false,
         "type": "scatter",
         "x": [
          21
         ],
         "y": [
          10834
         ]
        },
        {
         "legendgroup": "Footwear",
         "marker": {
          "color": "#00CC96",
          "size": 12
         },
         "mode": "markers",
         "name": "Footwear",
         "showlegend": false,
         "type": "scatter",
         "x": [
          21
         ],
         "y": [
          8884
         ]
        },
        {
         "legendgroup": "Equipment",
         "marker": {
          "color": "#AB63FA",
          "size": 12
         },
         "mode": "markers",
         "name": "Equipment",
         "showlegend": false,
         "type": "scatter",
         "x": [
          21
         ],
         "y": [
          1477
         ]
        },
        {
         "legendgroup": "Nutrition",
         "marker": {
          "color": "#FFA15A",
          "size": 12
         },
         "mode": "markers",
         "name": "Nutrition",
         "showlegend": false,
         "type": "scatter",
         "x": [
          21
         ],
         "y": [
          122
         ]
        },
        {
         "marker": {
          "color": "rgba(128, 128, 128, 0.5)"
         },
         "name": "22",
         "showlegend": false,
         "type": "box",
         "x": [
          22,
          22,
          22,
          22,
          22
         ],
         "y": [
          10582,
          1434,
          8631,
          140,
          11646
         ]
        },
        {
         "legendgroup": "Other",
         "marker": {
          "color": "#636EFA",
          "size": 12
         },
         "mode": "markers",
         "name": "Other",
         "showlegend": false,
         "type": "scatter",
         "x": [
          22
         ],
         "y": [
          11646
         ]
        },
        {
         "legendgroup": "Apparel",
         "marker": {
          "color": "#EF553B",
          "size": 12
         },
         "mode": "markers",
         "name": "Apparel",
         "showlegend": false,
         "type": "scatter",
         "x": [
          22
         ],
         "y": [
          10582
         ]
        },
        {
         "legendgroup": "Footwear",
         "marker": {
          "color": "#00CC96",
          "size": 12
         },
         "mode": "markers",
         "name": "Footwear",
         "showlegend": false,
         "type": "scatter",
         "x": [
          22
         ],
         "y": [
          8631
         ]
        },
        {
         "legendgroup": "Equipment",
         "marker": {
          "color": "#AB63FA",
          "size": 12
         },
         "mode": "markers",
         "name": "Equipment",
         "showlegend": false,
         "type": "scatter",
         "x": [
          22
         ],
         "y": [
          1434
         ]
        },
        {
         "legendgroup": "Nutrition",
         "marker": {
          "color": "#FFA15A",
          "size": 12
         },
         "mode": "markers",
         "name": "Nutrition",
         "showlegend": false,
         "type": "scatter",
         "x": [
          22
         ],
         "y": [
          140
         ]
        },
        {
         "marker": {
          "color": "rgba(128, 128, 128, 0.5)"
         },
         "name": "23",
         "showlegend": false,
         "type": "box",
         "x": [
          23,
          23,
          23,
          23,
          23
         ],
         "y": [
          13074,
          2175,
          10756,
          205,
          14360
         ]
        },
        {
         "legendgroup": "Other",
         "marker": {
          "color": "#636EFA",
          "size": 12
         },
         "mode": "markers",
         "name": "Other",
         "showlegend": false,
         "type": "scatter",
         "x": [
          23
         ],
         "y": [
          14360
         ]
        },
        {
         "legendgroup": "Apparel",
         "marker": {
          "color": "#EF553B",
          "size": 12
         },
         "mode": "markers",
         "name": "Apparel",
         "showlegend": false,
         "type": "scatter",
         "x": [
          23
         ],
         "y": [
          13074
         ]
        },
        {
         "legendgroup": "Footwear",
         "marker": {
          "color": "#00CC96",
          "size": 12
         },
         "mode": "markers",
         "name": "Footwear",
         "showlegend": false,
         "type": "scatter",
         "x": [
          23
         ],
         "y": [
          10756
         ]
        },
        {
         "legendgroup": "Equipment",
         "marker": {
          "color": "#AB63FA",
          "size": 12
         },
         "mode": "markers",
         "name": "Equipment",
         "showlegend": false,
         "type": "scatter",
         "x": [
          23
         ],
         "y": [
          2175
         ]
        },
        {
         "legendgroup": "Nutrition",
         "marker": {
          "color": "#FFA15A",
          "size": 12
         },
         "mode": "markers",
         "name": "Nutrition",
         "showlegend": false,
         "type": "scatter",
         "x": [
          23
         ],
         "y": [
          205
         ]
        },
        {
         "marker": {
          "color": "rgba(128, 128, 128, 0.5)"
         },
         "name": "24",
         "showlegend": false,
         "type": "box",
         "x": [
          24,
          24,
          24,
          24,
          24
         ],
         "y": [
          11153,
          1734,
          8488,
          173,
          12206
         ]
        },
        {
         "legendgroup": "Other",
         "marker": {
          "color": "#636EFA",
          "size": 12
         },
         "mode": "markers",
         "name": "Other",
         "showlegend": false,
         "type": "scatter",
         "x": [
          24
         ],
         "y": [
          12206
         ]
        },
        {
         "legendgroup": "Apparel",
         "marker": {
          "color": "#EF553B",
          "size": 12
         },
         "mode": "markers",
         "name": "Apparel",
         "showlegend": false,
         "type": "scatter",
         "x": [
          24
         ],
         "y": [
          11153
         ]
        },
        {
         "legendgroup": "Footwear",
         "marker": {
          "color": "#00CC96",
          "size": 12
         },
         "mode": "markers",
         "name": "Footwear",
         "showlegend": false,
         "type": "scatter",
         "x": [
          24
         ],
         "y": [
          8488
         ]
        },
        {
         "legendgroup": "Equipment",
         "marker": {
          "color": "#AB63FA",
          "size": 12
         },
         "mode": "markers",
         "name": "Equipment",
         "showlegend": false,
         "type": "scatter",
         "x": [
          24
         ],
         "y": [
          1734
         ]
        },
        {
         "legendgroup": "Nutrition",
         "marker": {
          "color": "#FFA15A",
          "size": 12
         },
         "mode": "markers",
         "name": "Nutrition",
         "showlegend": false,
         "type": "scatter",
         "x": [
          24
         ],
         "y": [
          173
         ]
        },
        {
         "marker": {
          "color": "rgba(128, 128, 128, 0.5)"
         },
         "name": "25",
         "showlegend": false,
         "type": "box",
         "x": [
          25,
          25,
          25,
          25,
          25
         ],
         "y": [
          10007,
          1972,
          7982,
          119,
          11189
         ]
        },
        {
         "legendgroup": "Other",
         "marker": {
          "color": "#636EFA",
          "size": 12
         },
         "mode": "markers",
         "name": "Other",
         "showlegend": false,
         "type": "scatter",
         "x": [
          25
         ],
         "y": [
          11189
         ]
        },
        {
         "legendgroup": "Apparel",
         "marker": {
          "color": "#EF553B",
          "size": 12
         },
         "mode": "markers",
         "name": "Apparel",
         "showlegend": false,
         "type": "scatter",
         "x": [
          25
         ],
         "y": [
          10007
         ]
        },
        {
         "legendgroup": "Footwear",
         "marker": {
          "color": "#00CC96",
          "size": 12
         },
         "mode": "markers",
         "name": "Footwear",
         "showlegend": false,
         "type": "scatter",
         "x": [
          25
         ],
         "y": [
          7982
         ]
        },
        {
         "legendgroup": "Equipment",
         "marker": {
          "color": "#AB63FA",
          "size": 12
         },
         "mode": "markers",
         "name": "Equipment",
         "showlegend": false,
         "type": "scatter",
         "x": [
          25
         ],
         "y": [
          1972
         ]
        },
        {
         "legendgroup": "Nutrition",
         "marker": {
          "color": "#FFA15A",
          "size": 12
         },
         "mode": "markers",
         "name": "Nutrition",
         "showlegend": false,
         "type": "scatter",
         "x": [
          25
         ],
         "y": [
          119
         ]
        },
        {
         "marker": {
          "color": "rgba(128, 128, 128, 0.5)"
         },
         "name": "26",
         "showlegend": false,
         "type": "box",
         "x": [
          26,
          26,
          26,
          26,
          26
         ],
         "y": [
          8710,
          1518,
          7095,
          208,
          9701
         ]
        },
        {
         "legendgroup": "Other",
         "marker": {
          "color": "#636EFA",
          "size": 12
         },
         "mode": "markers",
         "name": "Other",
         "showlegend": false,
         "type": "scatter",
         "x": [
          26
         ],
         "y": [
          9701
         ]
        },
        {
         "legendgroup": "Apparel",
         "marker": {
          "color": "#EF553B",
          "size": 12
         },
         "mode": "markers",
         "name": "Apparel",
         "showlegend": false,
         "type": "scatter",
         "x": [
          26
         ],
         "y": [
          8710
         ]
        },
        {
         "legendgroup": "Footwear",
         "marker": {
          "color": "#00CC96",
          "size": 12
         },
         "mode": "markers",
         "name": "Footwear",
         "showlegend": false,
         "type": "scatter",
         "x": [
          26
         ],
         "y": [
          7095
         ]
        },
        {
         "legendgroup": "Equipment",
         "marker": {
          "color": "#AB63FA",
          "size": 12
         },
         "mode": "markers",
         "name": "Equipment",
         "showlegend": false,
         "type": "scatter",
         "x": [
          26
         ],
         "y": [
          1518
         ]
        },
        {
         "legendgroup": "Nutrition",
         "marker": {
          "color": "#FFA15A",
          "size": 12
         },
         "mode": "markers",
         "name": "Nutrition",
         "showlegend": false,
         "type": "scatter",
         "x": [
          26
         ],
         "y": [
          208
         ]
        },
        {
         "marker": {
          "color": "rgba(128, 128, 128, 0.5)"
         },
         "name": "27",
         "showlegend": false,
         "type": "box",
         "x": [
          27,
          27,
          27,
          27,
          27
         ],
         "y": [
          11368,
          1916,
          8461,
          138,
          11357
         ]
        },
        {
         "legendgroup": "Apparel",
         "marker": {
          "color": "#636EFA",
          "size": 12
         },
         "mode": "markers",
         "name": "Apparel",
         "showlegend": false,
         "type": "scatter",
         "x": [
          27
         ],
         "y": [
          11368
         ]
        },
        {
         "legendgroup": "Other",
         "marker": {
          "color": "#EF553B",
          "size": 12
         },
         "mode": "markers",
         "name": "Other",
         "showlegend": false,
         "type": "scatter",
         "x": [
          27
         ],
         "y": [
          11357
         ]
        },
        {
         "legendgroup": "Footwear",
         "marker": {
          "color": "#00CC96",
          "size": 12
         },
         "mode": "markers",
         "name": "Footwear",
         "showlegend": false,
         "type": "scatter",
         "x": [
          27
         ],
         "y": [
          8461
         ]
        },
        {
         "legendgroup": "Equipment",
         "marker": {
          "color": "#AB63FA",
          "size": 12
         },
         "mode": "markers",
         "name": "Equipment",
         "showlegend": false,
         "type": "scatter",
         "x": [
          27
         ],
         "y": [
          1916
         ]
        },
        {
         "legendgroup": "Nutrition",
         "marker": {
          "color": "#FFA15A",
          "size": 12
         },
         "mode": "markers",
         "name": "Nutrition",
         "showlegend": false,
         "type": "scatter",
         "x": [
          27
         ],
         "y": [
          138
         ]
        },
        {
         "marker": {
          "color": "rgba(128, 128, 128, 0.5)"
         },
         "name": "28",
         "showlegend": false,
         "type": "box",
         "x": [
          28,
          28,
          28,
          28,
          28
         ],
         "y": [
          12001,
          2448,
          10063,
          109,
          13248
         ]
        },
        {
         "legendgroup": "Other",
         "marker": {
          "color": "#636EFA",
          "size": 12
         },
         "mode": "markers",
         "name": "Other",
         "showlegend": false,
         "type": "scatter",
         "x": [
          28
         ],
         "y": [
          13248
         ]
        },
        {
         "legendgroup": "Apparel",
         "marker": {
          "color": "#EF553B",
          "size": 12
         },
         "mode": "markers",
         "name": "Apparel",
         "showlegend": false,
         "type": "scatter",
         "x": [
          28
         ],
         "y": [
          12001
         ]
        },
        {
         "legendgroup": "Footwear",
         "marker": {
          "color": "#00CC96",
          "size": 12
         },
         "mode": "markers",
         "name": "Footwear",
         "showlegend": false,
         "type": "scatter",
         "x": [
          28
         ],
         "y": [
          10063
         ]
        },
        {
         "legendgroup": "Equipment",
         "marker": {
          "color": "#AB63FA",
          "size": 12
         },
         "mode": "markers",
         "name": "Equipment",
         "showlegend": false,
         "type": "scatter",
         "x": [
          28
         ],
         "y": [
          2448
         ]
        },
        {
         "legendgroup": "Nutrition",
         "marker": {
          "color": "#FFA15A",
          "size": 12
         },
         "mode": "markers",
         "name": "Nutrition",
         "showlegend": false,
         "type": "scatter",
         "x": [
          28
         ],
         "y": [
          109
         ]
        },
        {
         "marker": {
          "color": "rgba(128, 128, 128, 0.5)"
         },
         "name": "29",
         "showlegend": false,
         "type": "box",
         "x": [
          29,
          29,
          29,
          29,
          29
         ],
         "y": [
          10794,
          2230,
          9344,
          266,
          12368
         ]
        },
        {
         "legendgroup": "Other",
         "marker": {
          "color": "#636EFA",
          "size": 12
         },
         "mode": "markers",
         "name": "Other",
         "showlegend": false,
         "type": "scatter",
         "x": [
          29
         ],
         "y": [
          12368
         ]
        },
        {
         "legendgroup": "Apparel",
         "marker": {
          "color": "#EF553B",
          "size": 12
         },
         "mode": "markers",
         "name": "Apparel",
         "showlegend": false,
         "type": "scatter",
         "x": [
          29
         ],
         "y": [
          10794
         ]
        },
        {
         "legendgroup": "Footwear",
         "marker": {
          "color": "#00CC96",
          "size": 12
         },
         "mode": "markers",
         "name": "Footwear",
         "showlegend": false,
         "type": "scatter",
         "x": [
          29
         ],
         "y": [
          9344
         ]
        },
        {
         "legendgroup": "Equipment",
         "marker": {
          "color": "#AB63FA",
          "size": 12
         },
         "mode": "markers",
         "name": "Equipment",
         "showlegend": false,
         "type": "scatter",
         "x": [
          29
         ],
         "y": [
          2230
         ]
        },
        {
         "legendgroup": "Nutrition",
         "marker": {
          "color": "#FFA15A",
          "size": 12
         },
         "mode": "markers",
         "name": "Nutrition",
         "showlegend": false,
         "type": "scatter",
         "x": [
          29
         ],
         "y": [
          266
         ]
        },
        {
         "marker": {
          "color": "rgba(128, 128, 128, 0.5)"
         },
         "name": "30",
         "showlegend": false,
         "type": "box",
         "x": [
          30,
          30,
          30,
          30,
          30
         ],
         "y": [
          11399,
          2151,
          9247,
          283,
          12551
         ]
        },
        {
         "legendgroup": "Other",
         "marker": {
          "color": "#636EFA",
          "size": 12
         },
         "mode": "markers",
         "name": "Other",
         "showlegend": false,
         "type": "scatter",
         "x": [
          30
         ],
         "y": [
          12551
         ]
        },
        {
         "legendgroup": "Apparel",
         "marker": {
          "color": "#EF553B",
          "size": 12
         },
         "mode": "markers",
         "name": "Apparel",
         "showlegend": false,
         "type": "scatter",
         "x": [
          30
         ],
         "y": [
          11399
         ]
        },
        {
         "legendgroup": "Footwear",
         "marker": {
          "color": "#00CC96",
          "size": 12
         },
         "mode": "markers",
         "name": "Footwear",
         "showlegend": false,
         "type": "scatter",
         "x": [
          30
         ],
         "y": [
          9247
         ]
        },
        {
         "legendgroup": "Equipment",
         "marker": {
          "color": "#AB63FA",
          "size": 12
         },
         "mode": "markers",
         "name": "Equipment",
         "showlegend": false,
         "type": "scatter",
         "x": [
          30
         ],
         "y": [
          2151
         ]
        },
        {
         "legendgroup": "Nutrition",
         "marker": {
          "color": "#FFA15A",
          "size": 12
         },
         "mode": "markers",
         "name": "Nutrition",
         "showlegend": false,
         "type": "scatter",
         "x": [
          30
         ],
         "y": [
          283
         ]
        },
        {
         "marker": {
          "color": "rgba(128, 128, 128, 0.5)"
         },
         "name": "31",
         "showlegend": false,
         "type": "box",
         "x": [
          31,
          31,
          31,
          31,
          31
         ],
         "y": [
          13310,
          2709,
          10732,
          223,
          13735
         ]
        },
        {
         "legendgroup": "Other",
         "marker": {
          "color": "#636EFA",
          "size": 12
         },
         "mode": "markers",
         "name": "Other",
         "showlegend": false,
         "type": "scatter",
         "x": [
          31
         ],
         "y": [
          13735
         ]
        },
        {
         "legendgroup": "Apparel",
         "marker": {
          "color": "#EF553B",
          "size": 12
         },
         "mode": "markers",
         "name": "Apparel",
         "showlegend": false,
         "type": "scatter",
         "x": [
          31
         ],
         "y": [
          13310
         ]
        },
        {
         "legendgroup": "Footwear",
         "marker": {
          "color": "#00CC96",
          "size": 12
         },
         "mode": "markers",
         "name": "Footwear",
         "showlegend": false,
         "type": "scatter",
         "x": [
          31
         ],
         "y": [
          10732
         ]
        },
        {
         "legendgroup": "Equipment",
         "marker": {
          "color": "#AB63FA",
          "size": 12
         },
         "mode": "markers",
         "name": "Equipment",
         "showlegend": false,
         "type": "scatter",
         "x": [
          31
         ],
         "y": [
          2709
         ]
        },
        {
         "legendgroup": "Nutrition",
         "marker": {
          "color": "#FFA15A",
          "size": 12
         },
         "mode": "markers",
         "name": "Nutrition",
         "showlegend": false,
         "type": "scatter",
         "x": [
          31
         ],
         "y": [
          223
         ]
        },
        {
         "marker": {
          "color": "rgba(128, 128, 128, 0.5)"
         },
         "name": "32",
         "showlegend": false,
         "type": "box",
         "x": [
          32,
          32,
          32,
          32,
          32
         ],
         "y": [
          13768,
          3193,
          10670,
          321,
          14954
         ]
        },
        {
         "legendgroup": "Other",
         "marker": {
          "color": "#636EFA",
          "size": 12
         },
         "mode": "markers",
         "name": "Other",
         "showlegend": false,
         "type": "scatter",
         "x": [
          32
         ],
         "y": [
          14954
         ]
        },
        {
         "legendgroup": "Apparel",
         "marker": {
          "color": "#EF553B",
          "size": 12
         },
         "mode": "markers",
         "name": "Apparel",
         "showlegend": false,
         "type": "scatter",
         "x": [
          32
         ],
         "y": [
          13768
         ]
        },
        {
         "legendgroup": "Footwear",
         "marker": {
          "color": "#00CC96",
          "size": 12
         },
         "mode": "markers",
         "name": "Footwear",
         "showlegend": false,
         "type": "scatter",
         "x": [
          32
         ],
         "y": [
          10670
         ]
        },
        {
         "legendgroup": "Equipment",
         "marker": {
          "color": "#AB63FA",
          "size": 12
         },
         "mode": "markers",
         "name": "Equipment",
         "showlegend": false,
         "type": "scatter",
         "x": [
          32
         ],
         "y": [
          3193
         ]
        },
        {
         "legendgroup": "Nutrition",
         "marker": {
          "color": "#FFA15A",
          "size": 12
         },
         "mode": "markers",
         "name": "Nutrition",
         "showlegend": false,
         "type": "scatter",
         "x": [
          32
         ],
         "y": [
          321
         ]
        },
        {
         "marker": {
          "color": "rgba(128, 128, 128, 0.5)"
         },
         "name": "33",
         "showlegend": false,
         "type": "box",
         "x": [
          33,
          33,
          33,
          33,
          33
         ],
         "y": [
          13078,
          3310,
          11438,
          410,
          15193
         ]
        },
        {
         "legendgroup": "Other",
         "marker": {
          "color": "#636EFA",
          "size": 12
         },
         "mode": "markers",
         "name": "Other",
         "showlegend": false,
         "type": "scatter",
         "x": [
          33
         ],
         "y": [
          15193
         ]
        },
        {
         "legendgroup": "Apparel",
         "marker": {
          "color": "#EF553B",
          "size": 12
         },
         "mode": "markers",
         "name": "Apparel",
         "showlegend": false,
         "type": "scatter",
         "x": [
          33
         ],
         "y": [
          13078
         ]
        },
        {
         "legendgroup": "Footwear",
         "marker": {
          "color": "#00CC96",
          "size": 12
         },
         "mode": "markers",
         "name": "Footwear",
         "showlegend": false,
         "type": "scatter",
         "x": [
          33
         ],
         "y": [
          11438
         ]
        },
        {
         "legendgroup": "Equipment",
         "marker": {
          "color": "#AB63FA",
          "size": 12
         },
         "mode": "markers",
         "name": "Equipment",
         "showlegend": false,
         "type": "scatter",
         "x": [
          33
         ],
         "y": [
          3310
         ]
        },
        {
         "legendgroup": "Nutrition",
         "marker": {
          "color": "#FFA15A",
          "size": 12
         },
         "mode": "markers",
         "name": "Nutrition",
         "showlegend": false,
         "type": "scatter",
         "x": [
          33
         ],
         "y": [
          410
         ]
        },
        {
         "marker": {
          "color": "rgba(128, 128, 128, 0.5)"
         },
         "name": "34",
         "showlegend": false,
         "type": "box",
         "x": [
          34,
          34,
          34,
          34,
          34
         ],
         "y": [
          13019,
          3106,
          10672,
          328,
          14093
         ]
        },
        {
         "legendgroup": "Other",
         "marker": {
          "color": "#636EFA",
          "size": 12
         },
         "mode": "markers",
         "name": "Other",
         "showlegend": false,
         "type": "scatter",
         "x": [
          34
         ],
         "y": [
          14093
         ]
        },
        {
         "legendgroup": "Apparel",
         "marker": {
          "color": "#EF553B",
          "size": 12
         },
         "mode": "markers",
         "name": "Apparel",
         "showlegend": false,
         "type": "scatter",
         "x": [
          34
         ],
         "y": [
          13019
         ]
        },
        {
         "legendgroup": "Footwear",
         "marker": {
          "color": "#00CC96",
          "size": 12
         },
         "mode": "markers",
         "name": "Footwear",
         "showlegend": false,
         "type": "scatter",
         "x": [
          34
         ],
         "y": [
          10672
         ]
        },
        {
         "legendgroup": "Equipment",
         "marker": {
          "color": "#AB63FA",
          "size": 12
         },
         "mode": "markers",
         "name": "Equipment",
         "showlegend": false,
         "type": "scatter",
         "x": [
          34
         ],
         "y": [
          3106
         ]
        },
        {
         "legendgroup": "Nutrition",
         "marker": {
          "color": "#FFA15A",
          "size": 12
         },
         "mode": "markers",
         "name": "Nutrition",
         "showlegend": false,
         "type": "scatter",
         "x": [
          34
         ],
         "y": [
          328
         ]
        },
        {
         "marker": {
          "color": "rgba(128, 128, 128, 0.5)"
         },
         "name": "35",
         "showlegend": false,
         "type": "box",
         "x": [
          35,
          35,
          35,
          35,
          35
         ],
         "y": [
          15872,
          3140,
          11826,
          406,
          15088
         ]
        },
        {
         "legendgroup": "Apparel",
         "marker": {
          "color": "#636EFA",
          "size": 12
         },
         "mode": "markers",
         "name": "Apparel",
         "showlegend": false,
         "type": "scatter",
         "x": [
          35
         ],
         "y": [
          15872
         ]
        },
        {
         "legendgroup": "Other",
         "marker": {
          "color": "#EF553B",
          "size": 12
         },
         "mode": "markers",
         "name": "Other",
         "showlegend": false,
         "type": "scatter",
         "x": [
          35
         ],
         "y": [
          15088
         ]
        },
        {
         "legendgroup": "Footwear",
         "marker": {
          "color": "#00CC96",
          "size": 12
         },
         "mode": "markers",
         "name": "Footwear",
         "showlegend": false,
         "type": "scatter",
         "x": [
          35
         ],
         "y": [
          11826
         ]
        },
        {
         "legendgroup": "Equipment",
         "marker": {
          "color": "#AB63FA",
          "size": 12
         },
         "mode": "markers",
         "name": "Equipment",
         "showlegend": false,
         "type": "scatter",
         "x": [
          35
         ],
         "y": [
          3140
         ]
        },
        {
         "legendgroup": "Nutrition",
         "marker": {
          "color": "#FFA15A",
          "size": 12
         },
         "mode": "markers",
         "name": "Nutrition",
         "showlegend": false,
         "type": "scatter",
         "x": [
          35
         ],
         "y": [
          406
         ]
        },
        {
         "marker": {
          "color": "rgba(128, 128, 128, 0.5)"
         },
         "name": "36",
         "showlegend": false,
         "type": "box",
         "x": [
          36,
          36,
          36,
          36,
          36
         ],
         "y": [
          16417,
          3484,
          12167,
          517,
          15939
         ]
        },
        {
         "legendgroup": "Apparel",
         "marker": {
          "color": "#636EFA",
          "size": 12
         },
         "mode": "markers",
         "name": "Apparel",
         "showlegend": false,
         "type": "scatter",
         "x": [
          36
         ],
         "y": [
          16417
         ]
        },
        {
         "legendgroup": "Other",
         "marker": {
          "color": "#EF553B",
          "size": 12
         },
         "mode": "markers",
         "name": "Other",
         "showlegend": false,
         "type": "scatter",
         "x": [
          36
         ],
         "y": [
          15939
         ]
        },
        {
         "legendgroup": "Footwear",
         "marker": {
          "color": "#00CC96",
          "size": 12
         },
         "mode": "markers",
         "name": "Footwear",
         "showlegend": false,
         "type": "scatter",
         "x": [
          36
         ],
         "y": [
          12167
         ]
        },
        {
         "legendgroup": "Equipment",
         "marker": {
          "color": "#AB63FA",
          "size": 12
         },
         "mode": "markers",
         "name": "Equipment",
         "showlegend": false,
         "type": "scatter",
         "x": [
          36
         ],
         "y": [
          3484
         ]
        },
        {
         "legendgroup": "Nutrition",
         "marker": {
          "color": "#FFA15A",
          "size": 12
         },
         "mode": "markers",
         "name": "Nutrition",
         "showlegend": false,
         "type": "scatter",
         "x": [
          36
         ],
         "y": [
          517
         ]
        },
        {
         "marker": {
          "color": "rgba(128, 128, 128, 0.5)"
         },
         "name": "37",
         "showlegend": false,
         "type": "box",
         "x": [
          37,
          37,
          37,
          37,
          37
         ],
         "y": [
          14723,
          2890,
          11676,
          457,
          13836
         ]
        },
        {
         "legendgroup": "Apparel",
         "marker": {
          "color": "#636EFA",
          "size": 12
         },
         "mode": "markers",
         "name": "Apparel",
         "showlegend": false,
         "type": "scatter",
         "x": [
          37
         ],
         "y": [
          14723
         ]
        },
        {
         "legendgroup": "Other",
         "marker": {
          "color": "#EF553B",
          "size": 12
         },
         "mode": "markers",
         "name": "Other",
         "showlegend": false,
         "type": "scatter",
         "x": [
          37
         ],
         "y": [
          13836
         ]
        },
        {
         "legendgroup": "Footwear",
         "marker": {
          "color": "#00CC96",
          "size": 12
         },
         "mode": "markers",
         "name": "Footwear",
         "showlegend": false,
         "type": "scatter",
         "x": [
          37
         ],
         "y": [
          11676
         ]
        },
        {
         "legendgroup": "Equipment",
         "marker": {
          "color": "#AB63FA",
          "size": 12
         },
         "mode": "markers",
         "name": "Equipment",
         "showlegend": false,
         "type": "scatter",
         "x": [
          37
         ],
         "y": [
          2890
         ]
        },
        {
         "legendgroup": "Nutrition",
         "marker": {
          "color": "#FFA15A",
          "size": 12
         },
         "mode": "markers",
         "name": "Nutrition",
         "showlegend": false,
         "type": "scatter",
         "x": [
          37
         ],
         "y": [
          457
         ]
        },
        {
         "marker": {
          "color": "rgba(128, 128, 128, 0.5)"
         },
         "name": "38",
         "showlegend": false,
         "type": "box",
         "x": [
          38,
          38,
          38,
          38,
          38
         ],
         "y": [
          14323,
          2624,
          10289,
          484,
          13776
         ]
        },
        {
         "legendgroup": "Apparel",
         "marker": {
          "color": "#636EFA",
          "size": 12
         },
         "mode": "markers",
         "name": "Apparel",
         "showlegend": false,
         "type": "scatter",
         "x": [
          38
         ],
         "y": [
          14323
         ]
        },
        {
         "legendgroup": "Other",
         "marker": {
          "color": "#EF553B",
          "size": 12
         },
         "mode": "markers",
         "name": "Other",
         "showlegend": false,
         "type": "scatter",
         "x": [
          38
         ],
         "y": [
          13776
         ]
        },
        {
         "legendgroup": "Footwear",
         "marker": {
          "color": "#00CC96",
          "size": 12
         },
         "mode": "markers",
         "name": "Footwear",
         "showlegend": false,
         "type": "scatter",
         "x": [
          38
         ],
         "y": [
          10289
         ]
        },
        {
         "legendgroup": "Equipment",
         "marker": {
          "color": "#AB63FA",
          "size": 12
         },
         "mode": "markers",
         "name": "Equipment",
         "showlegend": false,
         "type": "scatter",
         "x": [
          38
         ],
         "y": [
          2624
         ]
        },
        {
         "legendgroup": "Nutrition",
         "marker": {
          "color": "#FFA15A",
          "size": 12
         },
         "mode": "markers",
         "name": "Nutrition",
         "showlegend": false,
         "type": "scatter",
         "x": [
          38
         ],
         "y": [
          484
         ]
        },
        {
         "marker": {
          "color": "rgba(128, 128, 128, 0.5)"
         },
         "name": "39",
         "showlegend": false,
         "type": "box",
         "x": [
          39,
          39,
          39,
          39,
          39
         ],
         "y": [
          13069,
          2498,
          10378,
          277,
          13588
         ]
        },
        {
         "legendgroup": "Other",
         "marker": {
          "color": "#636EFA",
          "size": 12
         },
         "mode": "markers",
         "name": "Other",
         "showlegend": false,
         "type": "scatter",
         "x": [
          39
         ],
         "y": [
          13588
         ]
        },
        {
         "legendgroup": "Apparel",
         "marker": {
          "color": "#EF553B",
          "size": 12
         },
         "mode": "markers",
         "name": "Apparel",
         "showlegend": false,
         "type": "scatter",
         "x": [
          39
         ],
         "y": [
          13069
         ]
        },
        {
         "legendgroup": "Footwear",
         "marker": {
          "color": "#00CC96",
          "size": 12
         },
         "mode": "markers",
         "name": "Footwear",
         "showlegend": false,
         "type": "scatter",
         "x": [
          39
         ],
         "y": [
          10378
         ]
        },
        {
         "legendgroup": "Equipment",
         "marker": {
          "color": "#AB63FA",
          "size": 12
         },
         "mode": "markers",
         "name": "Equipment",
         "showlegend": false,
         "type": "scatter",
         "x": [
          39
         ],
         "y": [
          2498
         ]
        },
        {
         "legendgroup": "Nutrition",
         "marker": {
          "color": "#FFA15A",
          "size": 12
         },
         "mode": "markers",
         "name": "Nutrition",
         "showlegend": false,
         "type": "scatter",
         "x": [
          39
         ],
         "y": [
          277
         ]
        },
        {
         "marker": {
          "color": "rgba(128, 128, 128, 0.5)"
         },
         "name": "40",
         "showlegend": false,
         "type": "box",
         "x": [
          40,
          40,
          40,
          40,
          40
         ],
         "y": [
          15354,
          2859,
          10060,
          365,
          14402
         ]
        },
        {
         "legendgroup": "Apparel",
         "marker": {
          "color": "#636EFA",
          "size": 12
         },
         "mode": "markers",
         "name": "Apparel",
         "showlegend": false,
         "type": "scatter",
         "x": [
          40
         ],
         "y": [
          15354
         ]
        },
        {
         "legendgroup": "Other",
         "marker": {
          "color": "#EF553B",
          "size": 12
         },
         "mode": "markers",
         "name": "Other",
         "showlegend": false,
         "type": "scatter",
         "x": [
          40
         ],
         "y": [
          14402
         ]
        },
        {
         "legendgroup": "Footwear",
         "marker": {
          "color": "#00CC96",
          "size": 12
         },
         "mode": "markers",
         "name": "Footwear",
         "showlegend": false,
         "type": "scatter",
         "x": [
          40
         ],
         "y": [
          10060
         ]
        },
        {
         "legendgroup": "Equipment",
         "marker": {
          "color": "#AB63FA",
          "size": 12
         },
         "mode": "markers",
         "name": "Equipment",
         "showlegend": false,
         "type": "scatter",
         "x": [
          40
         ],
         "y": [
          2859
         ]
        },
        {
         "legendgroup": "Nutrition",
         "marker": {
          "color": "#FFA15A",
          "size": 12
         },
         "mode": "markers",
         "name": "Nutrition",
         "showlegend": false,
         "type": "scatter",
         "x": [
          40
         ],
         "y": [
          365
         ]
        },
        {
         "marker": {
          "color": "rgba(128, 128, 128, 0.5)"
         },
         "name": "41",
         "showlegend": false,
         "type": "box",
         "x": [
          41,
          41,
          41,
          41,
          41
         ],
         "y": [
          15205,
          3605,
          10033,
          313,
          14758
         ]
        },
        {
         "legendgroup": "Apparel",
         "marker": {
          "color": "#636EFA",
          "size": 12
         },
         "mode": "markers",
         "name": "Apparel",
         "showlegend": false,
         "type": "scatter",
         "x": [
          41
         ],
         "y": [
          15205
         ]
        },
        {
         "legendgroup": "Other",
         "marker": {
          "color": "#EF553B",
          "size": 12
         },
         "mode": "markers",
         "name": "Other",
         "showlegend": false,
         "type": "scatter",
         "x": [
          41
         ],
         "y": [
          14758
         ]
        },
        {
         "legendgroup": "Footwear",
         "marker": {
          "color": "#00CC96",
          "size": 12
         },
         "mode": "markers",
         "name": "Footwear",
         "showlegend": false,
         "type": "scatter",
         "x": [
          41
         ],
         "y": [
          10033
         ]
        },
        {
         "legendgroup": "Equipment",
         "marker": {
          "color": "#AB63FA",
          "size": 12
         },
         "mode": "markers",
         "name": "Equipment",
         "showlegend": false,
         "type": "scatter",
         "x": [
          41
         ],
         "y": [
          3605
         ]
        },
        {
         "legendgroup": "Nutrition",
         "marker": {
          "color": "#FFA15A",
          "size": 12
         },
         "mode": "markers",
         "name": "Nutrition",
         "showlegend": false,
         "type": "scatter",
         "x": [
          41
         ],
         "y": [
          313
         ]
        },
        {
         "marker": {
          "color": "rgba(128, 128, 128, 0.5)"
         },
         "name": "42",
         "showlegend": false,
         "type": "box",
         "x": [
          42,
          42,
          42,
          42,
          42
         ],
         "y": [
          13569,
          3025,
          8742,
          251,
          12789
         ]
        },
        {
         "legendgroup": "Apparel",
         "marker": {
          "color": "#636EFA",
          "size": 12
         },
         "mode": "markers",
         "name": "Apparel",
         "showlegend": false,
         "type": "scatter",
         "x": [
          42
         ],
         "y": [
          13569
         ]
        },
        {
         "legendgroup": "Other",
         "marker": {
          "color": "#EF553B",
          "size": 12
         },
         "mode": "markers",
         "name": "Other",
         "showlegend": false,
         "type": "scatter",
         "x": [
          42
         ],
         "y": [
          12789
         ]
        },
        {
         "legendgroup": "Footwear",
         "marker": {
          "color": "#00CC96",
          "size": 12
         },
         "mode": "markers",
         "name": "Footwear",
         "showlegend": false,
         "type": "scatter",
         "x": [
          42
         ],
         "y": [
          8742
         ]
        },
        {
         "legendgroup": "Equipment",
         "marker": {
          "color": "#AB63FA",
          "size": 12
         },
         "mode": "markers",
         "name": "Equipment",
         "showlegend": false,
         "type": "scatter",
         "x": [
          42
         ],
         "y": [
          3025
         ]
        },
        {
         "legendgroup": "Nutrition",
         "marker": {
          "color": "#FFA15A",
          "size": 12
         },
         "mode": "markers",
         "name": "Nutrition",
         "showlegend": false,
         "type": "scatter",
         "x": [
          42
         ],
         "y": [
          251
         ]
        },
        {
         "marker": {
          "color": "rgba(128, 128, 128, 0.5)"
         },
         "name": "43",
         "showlegend": false,
         "type": "box",
         "x": [
          43,
          43,
          43,
          43,
          43,
          43
         ],
         "y": [
          12007,
          2722,
          8426,
          330,
          10949,
          4
         ]
        },
        {
         "legendgroup": "Apparel",
         "marker": {
          "color": "#636EFA",
          "size": 12
         },
         "mode": "markers",
         "name": "Apparel",
         "showlegend": false,
         "type": "scatter",
         "x": [
          43
         ],
         "y": [
          12007
         ]
        },
        {
         "legendgroup": "Other",
         "marker": {
          "color": "#EF553B",
          "size": 12
         },
         "mode": "markers",
         "name": "Other",
         "showlegend": false,
         "type": "scatter",
         "x": [
          43
         ],
         "y": [
          10949
         ]
        },
        {
         "legendgroup": "Footwear",
         "marker": {
          "color": "#00CC96",
          "size": 12
         },
         "mode": "markers",
         "name": "Footwear",
         "showlegend": false,
         "type": "scatter",
         "x": [
          43
         ],
         "y": [
          8426
         ]
        },
        {
         "legendgroup": "Equipment",
         "marker": {
          "color": "#AB63FA",
          "size": 12
         },
         "mode": "markers",
         "name": "Equipment",
         "showlegend": false,
         "type": "scatter",
         "x": [
          43
         ],
         "y": [
          2722
         ]
        },
        {
         "legendgroup": "Nutrition",
         "marker": {
          "color": "#FFA15A",
          "size": 12
         },
         "mode": "markers",
         "name": "Nutrition",
         "showlegend": false,
         "type": "scatter",
         "x": [
          43
         ],
         "y": [
          330
         ]
        },
        {
         "legendgroup": "unspecified",
         "marker": {
          "color": "#19D3F3",
          "size": 12
         },
         "mode": "markers",
         "name": "unspecified",
         "showlegend": false,
         "type": "scatter",
         "x": [
          43
         ],
         "y": [
          4
         ]
        },
        {
         "marker": {
          "color": "rgba(128, 128, 128, 0.5)"
         },
         "name": "44",
         "showlegend": false,
         "type": "box",
         "x": [
          44,
          44,
          44,
          44,
          44
         ],
         "y": [
          15388,
          4118,
          9979,
          354,
          13562
         ]
        },
        {
         "legendgroup": "Apparel",
         "marker": {
          "color": "#636EFA",
          "size": 12
         },
         "mode": "markers",
         "name": "Apparel",
         "showlegend": false,
         "type": "scatter",
         "x": [
          44
         ],
         "y": [
          15388
         ]
        },
        {
         "legendgroup": "Other",
         "marker": {
          "color": "#EF553B",
          "size": 12
         },
         "mode": "markers",
         "name": "Other",
         "showlegend": false,
         "type": "scatter",
         "x": [
          44
         ],
         "y": [
          13562
         ]
        },
        {
         "legendgroup": "Footwear",
         "marker": {
          "color": "#00CC96",
          "size": 12
         },
         "mode": "markers",
         "name": "Footwear",
         "showlegend": false,
         "type": "scatter",
         "x": [
          44
         ],
         "y": [
          9979
         ]
        },
        {
         "legendgroup": "Equipment",
         "marker": {
          "color": "#AB63FA",
          "size": 12
         },
         "mode": "markers",
         "name": "Equipment",
         "showlegend": false,
         "type": "scatter",
         "x": [
          44
         ],
         "y": [
          4118
         ]
        },
        {
         "legendgroup": "Nutrition",
         "marker": {
          "color": "#FFA15A",
          "size": 12
         },
         "mode": "markers",
         "name": "Nutrition",
         "showlegend": false,
         "type": "scatter",
         "x": [
          44
         ],
         "y": [
          354
         ]
        },
        {
         "marker": {
          "color": "rgba(128, 128, 128, 0.5)"
         },
         "name": "45",
         "showlegend": false,
         "type": "box",
         "x": [
          45,
          45,
          45,
          45,
          45
         ],
         "y": [
          20989,
          5753,
          11293,
          273,
          18733
         ]
        },
        {
         "legendgroup": "Apparel",
         "marker": {
          "color": "#636EFA",
          "size": 12
         },
         "mode": "markers",
         "name": "Apparel",
         "showlegend": false,
         "type": "scatter",
         "x": [
          45
         ],
         "y": [
          20989
         ]
        },
        {
         "legendgroup": "Other",
         "marker": {
          "color": "#EF553B",
          "size": 12
         },
         "mode": "markers",
         "name": "Other",
         "showlegend": false,
         "type": "scatter",
         "x": [
          45
         ],
         "y": [
          18733
         ]
        },
        {
         "legendgroup": "Footwear",
         "marker": {
          "color": "#00CC96",
          "size": 12
         },
         "mode": "markers",
         "name": "Footwear",
         "showlegend": false,
         "type": "scatter",
         "x": [
          45
         ],
         "y": [
          11293
         ]
        },
        {
         "legendgroup": "Equipment",
         "marker": {
          "color": "#AB63FA",
          "size": 12
         },
         "mode": "markers",
         "name": "Equipment",
         "showlegend": false,
         "type": "scatter",
         "x": [
          45
         ],
         "y": [
          5753
         ]
        },
        {
         "legendgroup": "Nutrition",
         "marker": {
          "color": "#FFA15A",
          "size": 12
         },
         "mode": "markers",
         "name": "Nutrition",
         "showlegend": false,
         "type": "scatter",
         "x": [
          45
         ],
         "y": [
          273
         ]
        },
        {
         "marker": {
          "color": "rgba(128, 128, 128, 0.5)"
         },
         "name": "46",
         "showlegend": false,
         "type": "box",
         "x": [
          46,
          46,
          46,
          46,
          46,
          46
         ],
         "y": [
          28613,
          6306,
          13448,
          373,
          25027,
          4
         ]
        },
        {
         "legendgroup": "Apparel",
         "marker": {
          "color": "#636EFA",
          "size": 12
         },
         "mode": "markers",
         "name": "Apparel",
         "showlegend": false,
         "type": "scatter",
         "x": [
          46
         ],
         "y": [
          28613
         ]
        },
        {
         "legendgroup": "Other",
         "marker": {
          "color": "#EF553B",
          "size": 12
         },
         "mode": "markers",
         "name": "Other",
         "showlegend": false,
         "type": "scatter",
         "x": [
          46
         ],
         "y": [
          25027
         ]
        },
        {
         "legendgroup": "Footwear",
         "marker": {
          "color": "#00CC96",
          "size": 12
         },
         "mode": "markers",
         "name": "Footwear",
         "showlegend": false,
         "type": "scatter",
         "x": [
          46
         ],
         "y": [
          13448
         ]
        },
        {
         "legendgroup": "Equipment",
         "marker": {
          "color": "#AB63FA",
          "size": 12
         },
         "mode": "markers",
         "name": "Equipment",
         "showlegend": false,
         "type": "scatter",
         "x": [
          46
         ],
         "y": [
          6306
         ]
        },
        {
         "legendgroup": "Nutrition",
         "marker": {
          "color": "#FFA15A",
          "size": 12
         },
         "mode": "markers",
         "name": "Nutrition",
         "showlegend": false,
         "type": "scatter",
         "x": [
          46
         ],
         "y": [
          373
         ]
        },
        {
         "legendgroup": "unspecified",
         "marker": {
          "color": "#19D3F3",
          "size": 12
         },
         "mode": "markers",
         "name": "unspecified",
         "showlegend": false,
         "type": "scatter",
         "x": [
          46
         ],
         "y": [
          4
         ]
        },
        {
         "marker": {
          "color": "rgba(128, 128, 128, 0.5)"
         },
         "name": "47",
         "showlegend": false,
         "type": "box",
         "x": [
          47,
          47,
          47,
          47,
          47
         ],
         "y": [
          37561,
          7345,
          18334,
          512,
          31979
         ]
        },
        {
         "legendgroup": "Apparel",
         "marker": {
          "color": "#636EFA",
          "size": 12
         },
         "mode": "markers",
         "name": "Apparel",
         "showlegend": false,
         "type": "scatter",
         "x": [
          47
         ],
         "y": [
          37561
         ]
        },
        {
         "legendgroup": "Other",
         "marker": {
          "color": "#EF553B",
          "size": 12
         },
         "mode": "markers",
         "name": "Other",
         "showlegend": false,
         "type": "scatter",
         "x": [
          47
         ],
         "y": [
          31979
         ]
        },
        {
         "legendgroup": "Footwear",
         "marker": {
          "color": "#00CC96",
          "size": 12
         },
         "mode": "markers",
         "name": "Footwear",
         "showlegend": false,
         "type": "scatter",
         "x": [
          47
         ],
         "y": [
          18334
         ]
        },
        {
         "legendgroup": "Equipment",
         "marker": {
          "color": "#AB63FA",
          "size": 12
         },
         "mode": "markers",
         "name": "Equipment",
         "showlegend": false,
         "type": "scatter",
         "x": [
          47
         ],
         "y": [
          7345
         ]
        },
        {
         "legendgroup": "Nutrition",
         "marker": {
          "color": "#FFA15A",
          "size": 12
         },
         "mode": "markers",
         "name": "Nutrition",
         "showlegend": false,
         "type": "scatter",
         "x": [
          47
         ],
         "y": [
          512
         ]
        },
        {
         "marker": {
          "color": "rgba(128, 128, 128, 0.5)"
         },
         "name": "48",
         "showlegend": false,
         "type": "box",
         "x": [
          48,
          48,
          48,
          48,
          48
         ],
         "y": [
          40220,
          8187,
          22124,
          343,
          35701
         ]
        },
        {
         "legendgroup": "Apparel",
         "marker": {
          "color": "#636EFA",
          "size": 12
         },
         "mode": "markers",
         "name": "Apparel",
         "showlegend": false,
         "type": "scatter",
         "x": [
          48
         ],
         "y": [
          40220
         ]
        },
        {
         "legendgroup": "Other",
         "marker": {
          "color": "#EF553B",
          "size": 12
         },
         "mode": "markers",
         "name": "Other",
         "showlegend": false,
         "type": "scatter",
         "x": [
          48
         ],
         "y": [
          35701
         ]
        },
        {
         "legendgroup": "Footwear",
         "marker": {
          "color": "#00CC96",
          "size": 12
         },
         "mode": "markers",
         "name": "Footwear",
         "showlegend": false,
         "type": "scatter",
         "x": [
          48
         ],
         "y": [
          22124
         ]
        },
        {
         "legendgroup": "Equipment",
         "marker": {
          "color": "#AB63FA",
          "size": 12
         },
         "mode": "markers",
         "name": "Equipment",
         "showlegend": false,
         "type": "scatter",
         "x": [
          48
         ],
         "y": [
          8187
         ]
        },
        {
         "legendgroup": "Nutrition",
         "marker": {
          "color": "#FFA15A",
          "size": 12
         },
         "mode": "markers",
         "name": "Nutrition",
         "showlegend": false,
         "type": "scatter",
         "x": [
          48
         ],
         "y": [
          343
         ]
        },
        {
         "marker": {
          "color": "rgba(128, 128, 128, 0.5)"
         },
         "name": "49",
         "showlegend": false,
         "type": "box",
         "x": [
          49,
          49,
          49,
          49,
          49
         ],
         "y": [
          36415,
          8051,
          16024,
          285,
          32173
         ]
        },
        {
         "legendgroup": "Apparel",
         "marker": {
          "color": "#636EFA",
          "size": 12
         },
         "mode": "markers",
         "name": "Apparel",
         "showlegend": false,
         "type": "scatter",
         "x": [
          49
         ],
         "y": [
          36415
         ]
        },
        {
         "legendgroup": "Other",
         "marker": {
          "color": "#EF553B",
          "size": 12
         },
         "mode": "markers",
         "name": "Other",
         "showlegend": false,
         "type": "scatter",
         "x": [
          49
         ],
         "y": [
          32173
         ]
        },
        {
         "legendgroup": "Footwear",
         "marker": {
          "color": "#00CC96",
          "size": 12
         },
         "mode": "markers",
         "name": "Footwear",
         "showlegend": false,
         "type": "scatter",
         "x": [
          49
         ],
         "y": [
          16024
         ]
        },
        {
         "legendgroup": "Equipment",
         "marker": {
          "color": "#AB63FA",
          "size": 12
         },
         "mode": "markers",
         "name": "Equipment",
         "showlegend": false,
         "type": "scatter",
         "x": [
          49
         ],
         "y": [
          8051
         ]
        },
        {
         "legendgroup": "Nutrition",
         "marker": {
          "color": "#FFA15A",
          "size": 12
         },
         "mode": "markers",
         "name": "Nutrition",
         "showlegend": false,
         "type": "scatter",
         "x": [
          49
         ],
         "y": [
          285
         ]
        },
        {
         "marker": {
          "color": "rgba(128, 128, 128, 0.5)"
         },
         "name": "50",
         "showlegend": false,
         "type": "box",
         "x": [
          50,
          50,
          50,
          50,
          50,
          50
         ],
         "y": [
          34163,
          7316,
          14310,
          321,
          30397,
          7
         ]
        },
        {
         "legendgroup": "Apparel",
         "marker": {
          "color": "#636EFA",
          "size": 12
         },
         "mode": "markers",
         "name": "Apparel",
         "showlegend": false,
         "type": "scatter",
         "x": [
          50
         ],
         "y": [
          34163
         ]
        },
        {
         "legendgroup": "Other",
         "marker": {
          "color": "#EF553B",
          "size": 12
         },
         "mode": "markers",
         "name": "Other",
         "showlegend": false,
         "type": "scatter",
         "x": [
          50
         ],
         "y": [
          30397
         ]
        },
        {
         "legendgroup": "Footwear",
         "marker": {
          "color": "#00CC96",
          "size": 12
         },
         "mode": "markers",
         "name": "Footwear",
         "showlegend": false,
         "type": "scatter",
         "x": [
          50
         ],
         "y": [
          14310
         ]
        },
        {
         "legendgroup": "Equipment",
         "marker": {
          "color": "#AB63FA",
          "size": 12
         },
         "mode": "markers",
         "name": "Equipment",
         "showlegend": false,
         "type": "scatter",
         "x": [
          50
         ],
         "y": [
          7316
         ]
        },
        {
         "legendgroup": "Nutrition",
         "marker": {
          "color": "#FFA15A",
          "size": 12
         },
         "mode": "markers",
         "name": "Nutrition",
         "showlegend": false,
         "type": "scatter",
         "x": [
          50
         ],
         "y": [
          321
         ]
        },
        {
         "legendgroup": "unspecified",
         "marker": {
          "color": "#19D3F3",
          "size": 12
         },
         "mode": "markers",
         "name": "unspecified",
         "showlegend": false,
         "type": "scatter",
         "x": [
          50
         ],
         "y": [
          7
         ]
        },
        {
         "marker": {
          "color": "rgba(128, 128, 128, 0.5)"
         },
         "name": "51",
         "showlegend": false,
         "type": "box",
         "x": [
          51,
          51,
          51,
          51,
          51,
          51
         ],
         "y": [
          17733,
          3887,
          9959,
          117,
          16372,
          12
         ]
        },
        {
         "legendgroup": "Apparel",
         "marker": {
          "color": "#636EFA",
          "size": 12
         },
         "mode": "markers",
         "name": "Apparel",
         "showlegend": false,
         "type": "scatter",
         "x": [
          51
         ],
         "y": [
          17733
         ]
        },
        {
         "legendgroup": "Other",
         "marker": {
          "color": "#EF553B",
          "size": 12
         },
         "mode": "markers",
         "name": "Other",
         "showlegend": false,
         "type": "scatter",
         "x": [
          51
         ],
         "y": [
          16372
         ]
        },
        {
         "legendgroup": "Footwear",
         "marker": {
          "color": "#00CC96",
          "size": 12
         },
         "mode": "markers",
         "name": "Footwear",
         "showlegend": false,
         "type": "scatter",
         "x": [
          51
         ],
         "y": [
          9959
         ]
        },
        {
         "legendgroup": "Equipment",
         "marker": {
          "color": "#AB63FA",
          "size": 12
         },
         "mode": "markers",
         "name": "Equipment",
         "showlegend": false,
         "type": "scatter",
         "x": [
          51
         ],
         "y": [
          3887
         ]
        },
        {
         "legendgroup": "Nutrition",
         "marker": {
          "color": "#FFA15A",
          "size": 12
         },
         "mode": "markers",
         "name": "Nutrition",
         "showlegend": false,
         "type": "scatter",
         "x": [
          51
         ],
         "y": [
          117
         ]
        },
        {
         "legendgroup": "unspecified",
         "marker": {
          "color": "#19D3F3",
          "size": 12
         },
         "mode": "markers",
         "name": "unspecified",
         "showlegend": false,
         "type": "scatter",
         "x": [
          51
         ],
         "y": [
          12
         ]
        },
        {
         "marker": {
          "color": "rgba(128, 128, 128, 0.5)"
         },
         "name": "52",
         "showlegend": false,
         "type": "box",
         "x": [
          52,
          52,
          52,
          52,
          52,
          52
         ],
         "y": [
          14145,
          2208,
          9617,
          354,
          12644,
          1
         ]
        },
        {
         "legendgroup": "Apparel",
         "marker": {
          "color": "#636EFA",
          "size": 12
         },
         "mode": "markers",
         "name": "Apparel",
         "showlegend": false,
         "type": "scatter",
         "x": [
          52
         ],
         "y": [
          14145
         ]
        },
        {
         "legendgroup": "Other",
         "marker": {
          "color": "#EF553B",
          "size": 12
         },
         "mode": "markers",
         "name": "Other",
         "showlegend": false,
         "type": "scatter",
         "x": [
          52
         ],
         "y": [
          12644
         ]
        },
        {
         "legendgroup": "Footwear",
         "marker": {
          "color": "#00CC96",
          "size": 12
         },
         "mode": "markers",
         "name": "Footwear",
         "showlegend": false,
         "type": "scatter",
         "x": [
          52
         ],
         "y": [
          9617
         ]
        },
        {
         "legendgroup": "Equipment",
         "marker": {
          "color": "#AB63FA",
          "size": 12
         },
         "mode": "markers",
         "name": "Equipment",
         "showlegend": false,
         "type": "scatter",
         "x": [
          52
         ],
         "y": [
          2208
         ]
        },
        {
         "legendgroup": "Nutrition",
         "marker": {
          "color": "#FFA15A",
          "size": 12
         },
         "mode": "markers",
         "name": "Nutrition",
         "showlegend": false,
         "type": "scatter",
         "x": [
          52
         ],
         "y": [
          354
         ]
        },
        {
         "legendgroup": "unspecified",
         "marker": {
          "color": "#19D3F3",
          "size": 12
         },
         "mode": "markers",
         "name": "unspecified",
         "showlegend": false,
         "type": "scatter",
         "x": [
          52
         ],
         "y": [
          1
         ]
        },
        {
         "marker": {
          "color": "rgba(128, 128, 128, 0.5)"
         },
         "name": "53",
         "showlegend": false,
         "type": "box",
         "x": [
          53,
          53,
          53,
          53,
          53
         ],
         "y": [
          6330,
          955,
          3974,
          37,
          4749
         ]
        },
        {
         "legendgroup": "Apparel",
         "marker": {
          "color": "#636EFA",
          "size": 12
         },
         "mode": "markers",
         "name": "Apparel",
         "showlegend": false,
         "type": "scatter",
         "x": [
          53
         ],
         "y": [
          6330
         ]
        },
        {
         "legendgroup": "Other",
         "marker": {
          "color": "#EF553B",
          "size": 12
         },
         "mode": "markers",
         "name": "Other",
         "showlegend": false,
         "type": "scatter",
         "x": [
          53
         ],
         "y": [
          4749
         ]
        },
        {
         "legendgroup": "Footwear",
         "marker": {
          "color": "#00CC96",
          "size": 12
         },
         "mode": "markers",
         "name": "Footwear",
         "showlegend": false,
         "type": "scatter",
         "x": [
          53
         ],
         "y": [
          3974
         ]
        },
        {
         "legendgroup": "Equipment",
         "marker": {
          "color": "#AB63FA",
          "size": 12
         },
         "mode": "markers",
         "name": "Equipment",
         "showlegend": false,
         "type": "scatter",
         "x": [
          53
         ],
         "y": [
          955
         ]
        },
        {
         "legendgroup": "Nutrition",
         "marker": {
          "color": "#FFA15A",
          "size": 12
         },
         "mode": "markers",
         "name": "Nutrition",
         "showlegend": false,
         "type": "scatter",
         "x": [
          53
         ],
         "y": [
          37
         ]
        }
       ],
       "layout": {
        "boxmode": "overlay",
        "font": {
         "color": "black",
         "family": "Arial",
         "size": 12
        },
        "height": 900,
        "legend": {
         "bgcolor": "rgba(0.1,0.1,0.1,0.1)",
         "bordercolor": "black",
         "borderwidth": 1,
         "font": {
          "size": 12
         },
         "itemclick": "toggleothers",
         "itemsizing": "constant",
         "itemwidth": 70,
         "orientation": "v",
         "title": {
          "font": {
           "size": 14
          },
          "text": "group0"
         },
         "traceorder": "reversed+grouped",
         "x": 1.1,
         "xanchor": "right",
         "y": 1,
         "yanchor": "top"
        },
        "margin": {
         "b": 50,
         "l": 50,
         "r": 50,
         "t": 80
        },
        "plot_bgcolor": "white",
        "template": {
         "data": {
          "bar": [
           {
            "error_x": {
             "color": "#2a3f5f"
            },
            "error_y": {
             "color": "#2a3f5f"
            },
            "marker": {
             "line": {
              "color": "#E5ECF6",
              "width": 0.5
             },
             "pattern": {
              "fillmode": "overlay",
              "size": 10,
              "solidity": 0.2
             }
            },
            "type": "bar"
           }
          ],
          "barpolar": [
           {
            "marker": {
             "line": {
              "color": "#E5ECF6",
              "width": 0.5
             },
             "pattern": {
              "fillmode": "overlay",
              "size": 10,
              "solidity": 0.2
             }
            },
            "type": "barpolar"
           }
          ],
          "carpet": [
           {
            "aaxis": {
             "endlinecolor": "#2a3f5f",
             "gridcolor": "white",
             "linecolor": "white",
             "minorgridcolor": "white",
             "startlinecolor": "#2a3f5f"
            },
            "baxis": {
             "endlinecolor": "#2a3f5f",
             "gridcolor": "white",
             "linecolor": "white",
             "minorgridcolor": "white",
             "startlinecolor": "#2a3f5f"
            },
            "type": "carpet"
           }
          ],
          "choropleth": [
           {
            "colorbar": {
             "outlinewidth": 0,
             "ticks": ""
            },
            "type": "choropleth"
           }
          ],
          "contour": [
           {
            "colorbar": {
             "outlinewidth": 0,
             "ticks": ""
            },
            "colorscale": [
             [
              0,
              "#0d0887"
             ],
             [
              0.1111111111111111,
              "#46039f"
             ],
             [
              0.2222222222222222,
              "#7201a8"
             ],
             [
              0.3333333333333333,
              "#9c179e"
             ],
             [
              0.4444444444444444,
              "#bd3786"
             ],
             [
              0.5555555555555556,
              "#d8576b"
             ],
             [
              0.6666666666666666,
              "#ed7953"
             ],
             [
              0.7777777777777778,
              "#fb9f3a"
             ],
             [
              0.8888888888888888,
              "#fdca26"
             ],
             [
              1,
              "#f0f921"
             ]
            ],
            "type": "contour"
           }
          ],
          "contourcarpet": [
           {
            "colorbar": {
             "outlinewidth": 0,
             "ticks": ""
            },
            "type": "contourcarpet"
           }
          ],
          "heatmap": [
           {
            "colorbar": {
             "outlinewidth": 0,
             "ticks": ""
            },
            "colorscale": [
             [
              0,
              "#0d0887"
             ],
             [
              0.1111111111111111,
              "#46039f"
             ],
             [
              0.2222222222222222,
              "#7201a8"
             ],
             [
              0.3333333333333333,
              "#9c179e"
             ],
             [
              0.4444444444444444,
              "#bd3786"
             ],
             [
              0.5555555555555556,
              "#d8576b"
             ],
             [
              0.6666666666666666,
              "#ed7953"
             ],
             [
              0.7777777777777778,
              "#fb9f3a"
             ],
             [
              0.8888888888888888,
              "#fdca26"
             ],
             [
              1,
              "#f0f921"
             ]
            ],
            "type": "heatmap"
           }
          ],
          "heatmapgl": [
           {
            "colorbar": {
             "outlinewidth": 0,
             "ticks": ""
            },
            "colorscale": [
             [
              0,
              "#0d0887"
             ],
             [
              0.1111111111111111,
              "#46039f"
             ],
             [
              0.2222222222222222,
              "#7201a8"
             ],
             [
              0.3333333333333333,
              "#9c179e"
             ],
             [
              0.4444444444444444,
              "#bd3786"
             ],
             [
              0.5555555555555556,
              "#d8576b"
             ],
             [
              0.6666666666666666,
              "#ed7953"
             ],
             [
              0.7777777777777778,
              "#fb9f3a"
             ],
             [
              0.8888888888888888,
              "#fdca26"
             ],
             [
              1,
              "#f0f921"
             ]
            ],
            "type": "heatmapgl"
           }
          ],
          "histogram": [
           {
            "marker": {
             "pattern": {
              "fillmode": "overlay",
              "size": 10,
              "solidity": 0.2
             }
            },
            "type": "histogram"
           }
          ],
          "histogram2d": [
           {
            "colorbar": {
             "outlinewidth": 0,
             "ticks": ""
            },
            "colorscale": [
             [
              0,
              "#0d0887"
             ],
             [
              0.1111111111111111,
              "#46039f"
             ],
             [
              0.2222222222222222,
              "#7201a8"
             ],
             [
              0.3333333333333333,
              "#9c179e"
             ],
             [
              0.4444444444444444,
              "#bd3786"
             ],
             [
              0.5555555555555556,
              "#d8576b"
             ],
             [
              0.6666666666666666,
              "#ed7953"
             ],
             [
              0.7777777777777778,
              "#fb9f3a"
             ],
             [
              0.8888888888888888,
              "#fdca26"
             ],
             [
              1,
              "#f0f921"
             ]
            ],
            "type": "histogram2d"
           }
          ],
          "histogram2dcontour": [
           {
            "colorbar": {
             "outlinewidth": 0,
             "ticks": ""
            },
            "colorscale": [
             [
              0,
              "#0d0887"
             ],
             [
              0.1111111111111111,
              "#46039f"
             ],
             [
              0.2222222222222222,
              "#7201a8"
             ],
             [
              0.3333333333333333,
              "#9c179e"
             ],
             [
              0.4444444444444444,
              "#bd3786"
             ],
             [
              0.5555555555555556,
              "#d8576b"
             ],
             [
              0.6666666666666666,
              "#ed7953"
             ],
             [
              0.7777777777777778,
              "#fb9f3a"
             ],
             [
              0.8888888888888888,
              "#fdca26"
             ],
             [
              1,
              "#f0f921"
             ]
            ],
            "type": "histogram2dcontour"
           }
          ],
          "mesh3d": [
           {
            "colorbar": {
             "outlinewidth": 0,
             "ticks": ""
            },
            "type": "mesh3d"
           }
          ],
          "parcoords": [
           {
            "line": {
             "colorbar": {
              "outlinewidth": 0,
              "ticks": ""
             }
            },
            "type": "parcoords"
           }
          ],
          "pie": [
           {
            "automargin": true,
            "type": "pie"
           }
          ],
          "scatter": [
           {
            "fillpattern": {
             "fillmode": "overlay",
             "size": 10,
             "solidity": 0.2
            },
            "type": "scatter"
           }
          ],
          "scatter3d": [
           {
            "line": {
             "colorbar": {
              "outlinewidth": 0,
              "ticks": ""
             }
            },
            "marker": {
             "colorbar": {
              "outlinewidth": 0,
              "ticks": ""
             }
            },
            "type": "scatter3d"
           }
          ],
          "scattercarpet": [
           {
            "marker": {
             "colorbar": {
              "outlinewidth": 0,
              "ticks": ""
             }
            },
            "type": "scattercarpet"
           }
          ],
          "scattergeo": [
           {
            "marker": {
             "colorbar": {
              "outlinewidth": 0,
              "ticks": ""
             }
            },
            "type": "scattergeo"
           }
          ],
          "scattergl": [
           {
            "marker": {
             "colorbar": {
              "outlinewidth": 0,
              "ticks": ""
             }
            },
            "type": "scattergl"
           }
          ],
          "scattermapbox": [
           {
            "marker": {
             "colorbar": {
              "outlinewidth": 0,
              "ticks": ""
             }
            },
            "type": "scattermapbox"
           }
          ],
          "scatterpolar": [
           {
            "marker": {
             "colorbar": {
              "outlinewidth": 0,
              "ticks": ""
             }
            },
            "type": "scatterpolar"
           }
          ],
          "scatterpolargl": [
           {
            "marker": {
             "colorbar": {
              "outlinewidth": 0,
              "ticks": ""
             }
            },
            "type": "scatterpolargl"
           }
          ],
          "scatterternary": [
           {
            "marker": {
             "colorbar": {
              "outlinewidth": 0,
              "ticks": ""
             }
            },
            "type": "scatterternary"
           }
          ],
          "surface": [
           {
            "colorbar": {
             "outlinewidth": 0,
             "ticks": ""
            },
            "colorscale": [
             [
              0,
              "#0d0887"
             ],
             [
              0.1111111111111111,
              "#46039f"
             ],
             [
              0.2222222222222222,
              "#7201a8"
             ],
             [
              0.3333333333333333,
              "#9c179e"
             ],
             [
              0.4444444444444444,
              "#bd3786"
             ],
             [
              0.5555555555555556,
              "#d8576b"
             ],
             [
              0.6666666666666666,
              "#ed7953"
             ],
             [
              0.7777777777777778,
              "#fb9f3a"
             ],
             [
              0.8888888888888888,
              "#fdca26"
             ],
             [
              1,
              "#f0f921"
             ]
            ],
            "type": "surface"
           }
          ],
          "table": [
           {
            "cells": {
             "fill": {
              "color": "#EBF0F8"
             },
             "line": {
              "color": "white"
             }
            },
            "header": {
             "fill": {
              "color": "#C8D4E3"
             },
             "line": {
              "color": "white"
             }
            },
            "type": "table"
           }
          ]
         },
         "layout": {
          "annotationdefaults": {
           "arrowcolor": "#2a3f5f",
           "arrowhead": 0,
           "arrowwidth": 1
          },
          "autotypenumbers": "strict",
          "coloraxis": {
           "colorbar": {
            "outlinewidth": 0,
            "ticks": ""
           }
          },
          "colorscale": {
           "diverging": [
            [
             0,
             "#8e0152"
            ],
            [
             0.1,
             "#c51b7d"
            ],
            [
             0.2,
             "#de77ae"
            ],
            [
             0.3,
             "#f1b6da"
            ],
            [
             0.4,
             "#fde0ef"
            ],
            [
             0.5,
             "#f7f7f7"
            ],
            [
             0.6,
             "#e6f5d0"
            ],
            [
             0.7,
             "#b8e186"
            ],
            [
             0.8,
             "#7fbc41"
            ],
            [
             0.9,
             "#4d9221"
            ],
            [
             1,
             "#276419"
            ]
           ],
           "sequential": [
            [
             0,
             "#0d0887"
            ],
            [
             0.1111111111111111,
             "#46039f"
            ],
            [
             0.2222222222222222,
             "#7201a8"
            ],
            [
             0.3333333333333333,
             "#9c179e"
            ],
            [
             0.4444444444444444,
             "#bd3786"
            ],
            [
             0.5555555555555556,
             "#d8576b"
            ],
            [
             0.6666666666666666,
             "#ed7953"
            ],
            [
             0.7777777777777778,
             "#fb9f3a"
            ],
            [
             0.8888888888888888,
             "#fdca26"
            ],
            [
             1,
             "#f0f921"
            ]
           ],
           "sequentialminus": [
            [
             0,
             "#0d0887"
            ],
            [
             0.1111111111111111,
             "#46039f"
            ],
            [
             0.2222222222222222,
             "#7201a8"
            ],
            [
             0.3333333333333333,
             "#9c179e"
            ],
            [
             0.4444444444444444,
             "#bd3786"
            ],
            [
             0.5555555555555556,
             "#d8576b"
            ],
            [
             0.6666666666666666,
             "#ed7953"
            ],
            [
             0.7777777777777778,
             "#fb9f3a"
            ],
            [
             0.8888888888888888,
             "#fdca26"
            ],
            [
             1,
             "#f0f921"
            ]
           ]
          },
          "colorway": [
           "#636efa",
           "#EF553B",
           "#00cc96",
           "#ab63fa",
           "#FFA15A",
           "#19d3f3",
           "#FF6692",
           "#B6E880",
           "#FF97FF",
           "#FECB52"
          ],
          "font": {
           "color": "#2a3f5f"
          },
          "geo": {
           "bgcolor": "white",
           "lakecolor": "white",
           "landcolor": "#E5ECF6",
           "showlakes": true,
           "showland": true,
           "subunitcolor": "white"
          },
          "hoverlabel": {
           "align": "left"
          },
          "hovermode": "closest",
          "mapbox": {
           "style": "light"
          },
          "paper_bgcolor": "white",
          "plot_bgcolor": "#E5ECF6",
          "polar": {
           "angularaxis": {
            "gridcolor": "white",
            "linecolor": "white",
            "ticks": ""
           },
           "bgcolor": "#E5ECF6",
           "radialaxis": {
            "gridcolor": "white",
            "linecolor": "white",
            "ticks": ""
           }
          },
          "scene": {
           "xaxis": {
            "backgroundcolor": "#E5ECF6",
            "gridcolor": "white",
            "gridwidth": 2,
            "linecolor": "white",
            "showbackground": true,
            "ticks": "",
            "zerolinecolor": "white"
           },
           "yaxis": {
            "backgroundcolor": "#E5ECF6",
            "gridcolor": "white",
            "gridwidth": 2,
            "linecolor": "white",
            "showbackground": true,
            "ticks": "",
            "zerolinecolor": "white"
           },
           "zaxis": {
            "backgroundcolor": "#E5ECF6",
            "gridcolor": "white",
            "gridwidth": 2,
            "linecolor": "white",
            "showbackground": true,
            "ticks": "",
            "zerolinecolor": "white"
           }
          },
          "shapedefaults": {
           "line": {
            "color": "#2a3f5f"
           }
          },
          "ternary": {
           "aaxis": {
            "gridcolor": "white",
            "linecolor": "white",
            "ticks": ""
           },
           "baxis": {
            "gridcolor": "white",
            "linecolor": "white",
            "ticks": ""
           },
           "bgcolor": "#E5ECF6",
           "caxis": {
            "gridcolor": "white",
            "linecolor": "white",
            "ticks": ""
           }
          },
          "title": {
           "x": 0.05
          },
          "xaxis": {
           "automargin": true,
           "gridcolor": "white",
           "linecolor": "white",
           "ticks": "",
           "title": {
            "standoff": 15
           },
           "zerolinecolor": "white",
           "zerolinewidth": 2
          },
          "yaxis": {
           "automargin": true,
           "gridcolor": "white",
           "linecolor": "white",
           "ticks": "",
           "title": {
            "standoff": 15
           },
           "zerolinecolor": "white",
           "zerolinewidth": 2
          }
         }
        },
        "title": {
         "text": "Sum \"quantity\" Distribution by Week_of_year and \"group0\"",
         "x": 0.5,
         "xanchor": "center",
         "y": 0.95,
         "yanchor": "top"
        },
        "width": 1600,
        "xaxis": {
         "type": "category"
        },
        "yaxis": {
         "gridcolor": "lightgrey"
        }
       }
      }
     },
     "metadata": {},
     "output_type": "display_data"
    }
   ],
   "source": [
    "\n",
    "reload(dc)\n",
    "\n",
    "\n",
    "dc.plot_seasonality_boxplot(df, x='date', y='quantity', hue='group0', cycle='week_of_year', measure='sum')\n",
    "\n"
   ]
  },
  {
   "cell_type": "markdown",
   "metadata": {},
   "source": [
    "## EAD on Weather Data"
   ]
  },
  {
   "cell_type": "code",
   "execution_count": 11,
   "metadata": {},
   "outputs": [],
   "source": [
    "# feature enginnering:\n",
    "df_FE = df.copy()"
   ]
  },
  {
   "cell_type": "code",
   "execution_count": 12,
   "metadata": {},
   "outputs": [
    {
     "data": {
      "text/plain": [
       "array(['cz', 'de', 'sk', 'hu', 'ro', 'com', 'es', 'at', 'other', 'fr',\n",
       "       'it', 'hr', 'nl', 'ie', 'be', 'dk', 'se', 'pt', 'pl', 'fi', 'si',\n",
       "       'uk', 'bg'], dtype=object)"
      ]
     },
     "execution_count": 12,
     "metadata": {},
     "output_type": "execute_result"
    }
   ],
   "source": [
    "# please use the characters after the last dot in the site value as the country abbreviation\n",
    "df_FE['country'] = df_FE['site'].str.split('.').str[-1]\n",
    "df_FE['country'].unique()"
   ]
  },
  {
   "attachments": {},
   "cell_type": "markdown",
   "metadata": {},
   "source": [
    "```python\n",
    "Date Range:\n",
    "\n",
    "Timestamp('2019-06-01 00:00:00')\n",
    "\n",
    "Timestamp('2022-01-14 00:00:00')\n",
    "\n",
    "\n",
    "\n",
    "country_mapping = {\n",
    "    'cz': 'Czech Republic',\n",
    "    'de': 'Germany',\n",
    "    'sk': 'Slovakia',\n",
    "    'hu': 'Hungary',\n",
    "    'ro': 'Romania',\n",
    "    'com': 'Commercial',  # Note: .com is not country-specific\n",
    "    'es': 'Spain',\n",
    "    'at': 'Austria',\n",
    "    'other': 'Other',\n",
    "    'fr': 'France',\n",
    "    'it': 'Italy',\n",
    "    'hr': 'Croatia',\n",
    "    'nl': 'Netherlands',\n",
    "    'ie': 'Ireland',\n",
    "    'be': 'Belgium',\n",
    "    'dk': 'Denmark',\n",
    "    'se': 'Sweden',\n",
    "    'pt': 'Portugal',\n",
    "    'pl': 'Poland',\n",
    "    'fi': 'Finland',\n",
    "    'si': 'Slovenia',\n",
    "    'uk': 'United Kingdom',\n",
    "    'bg': 'Bulgaria'\n",
    "}\n",
    "capital_city_mapping = {\n",
    "    'cz': 'Prague',\n",
    "    'de': 'Berlin',\n",
    "    'sk': 'Bratislava',\n",
    "    'hu': 'Budapest',\n",
    "    'ro': 'Bucharest',\n",
    "    'com': 'N/A',  # Note: .com is not country-specific\n",
    "    'es': 'Madrid',\n",
    "    'at': 'Vienna',\n",
    "    'other': 'N/A',\n",
    "    'fr': 'Paris',\n",
    "    'it': 'Rome',\n",
    "    'hr': 'Zagreb',\n",
    "    'nl': 'Amsterdam',\n",
    "    'ie': 'Dublin',\n",
    "    'be': 'Brussels',\n",
    "    'dk': 'Copenhagen',\n",
    "    'se': 'Stockholm',\n",
    "    'pt': 'Lisbon',\n",
    "    'pl': 'Warsaw',\n",
    "    'fi': 'Helsinki',\n",
    "    'si': 'Ljubljana',\n",
    "    'uk': 'London',\n",
    "    'bg': 'Sofia'\n",
    "}\n",
    "\n",
    "capital_coordinates_mapping = {\n",
    "    'cz': (50.0755381, 14.4378005),\n",
    "    'de': (52.5200066, 13.4049540),\n",
    "    'sk': (48.1485965, 17.1077477),\n",
    "    'hu': (47.497912, 19.040235),\n",
    "    'ro': (44.4267674, 26.1025384),\n",
    "    'com': 'N/A',  # Note: .com is not country-specific\n",
    "    'es': (40.4167754, -3.7037902),\n",
    "    'at': (48.2081743, 16.3738189),\n",
    "    'other': 'N/A',\n",
    "    'fr': (48.856614, 2.3522219),\n",
    "    'it': (41.9027835, 12.4963655),\n",
    "    'hr': (45.8150108, 15.9819190),\n",
    "    'nl': (52.3702157, 4.8951679),\n",
    "    'ie': (53.3498053, -6.2603097),\n",
    "    'be': (50.8503396, 4.3517103),\n",
    "    'dk': (55.6760968, 12.5683371),\n",
    "    'se': (59.3293235, 18.0685808),\n",
    "    'pt': (38.7222524, -9.1393366),\n",
    "    'pl': (52.2296756, 21.0122287),\n",
    "    'fi': (60.1698557, 24.9383791),\n",
    "    'si': (46.0569465, 14.5057515),\n",
    "    'uk': (51.5073509, -0.1277583),\n",
    "    'bg': (42.6977082, 23.3218675)\n",
    "}\n",
    "\n",
    "```\n"
   ]
  },
  {
   "cell_type": "code",
   "execution_count": 13,
   "metadata": {},
   "outputs": [
    {
     "name": "stdout",
     "output_type": "stream",
     "text": [
      "+---------------------+------------+---------------+-------------+------------+-----------------+-----------------------+-------------+---------------------+--------------+-----------+----------+-----------------+---------------------+----------------------------------------+------------------+------------+------------------+-------------+-----------+-------------+-----------------+-------------+-------------------------+-------------+-------------+-------------+-------------+-------------+-----------+\n",
      "| date                |   order_id | payment       | item_code   |   quantity |   gift_quantity |   unit_price_vat_excl |   unit_cogs |   unit_rrp_vat_excl | department   | channel   | owner    | site            | CreatedAt           | item_name                              | style            |   brand_id | brand_name       |   group0_id | group0    |   group1_id | group1          |   group2_id | group2                  | category    | gender      | age         | color       | size        | country   |\n",
      "|                     |     string | object        | object      |      int64 |           int64 |               float64 |     float64 |             float64 | object       | object    | object   | object          | datetime64[ns]      | object                                 | object           |     string | object           |      string | object    |      string | object          |      string | object                  | object      | object      | object      | object      | object      | object    |\n",
      "|                     |     NaN: 0 | NaN: 0        | NaN: 0      |     NaN: 0 |          NaN: 0 |                NaN: 0 |      NaN: 0 |              NaN: 0 | NaN: 0       | NaN: 0    | NaN: 0   | NaN: 0          | NaN: 0              | NaN: 0                                 | NaN: 0           |     NaN: 0 | NaN: 0           |      NaN: 0 | NaN: 0    |      NaN: 0 | NaN: 0          |      NaN: 0 | NaN: 0                  | NaN: 0      | NaN: 0      | NaN: 0      | NaN: 0      | NaN: 0      | NaN: 0    |\n",
      "|---------------------+------------+---------------+-------------+------------+-----------------+-----------------------+-------------+---------------------+--------------+-----------+----------+-----------------+---------------------+----------------------------------------+------------------+------------+------------------+-------------+-----------+-------------+-----------------+-------------+-------------------------+-------------+-------------+-------------+-------------+-------------+-----------|\n",
      "| 2019-06-01 00:00:00 | 1900079924 | CARD_CSOB     | ZB00023833  |          1 |               0 |              22.3267  |  15.5039    |            32.0008  | E-COMMER     | Sport.cC  | Sport.cO | top4sport.cz    | 2019-06-01 09:37:00 | MK1 Short 7in                          | 1312292-001      |        106 | Under Armour     |         200 | Apparel   |         240 | Pants           |         242 | Shorts                  | fitness     | men         | adults      | Black       | M           | cz        |\n",
      "| 2019-06-01 00:00:00 | 1900079006 | COD           | ZB00000154  |          1 |               0 |              10.3787  |   8.06938   |            15.9845  | E-COMMER     | RUN.czC   | RUN.czO  | top4running.cz  | 2019-06-01 06:26:00 | W NK RUN TOP SS                        | 890353-100       |         84 | Nike             |         200 | Apparel   |         230 | T-Shirts        |           0 | unspecified             | running     | women       | adults      | White       | XS          | cz        |\n",
      "| 2019-06-01 00:00:00 | 1900079006 | COD           | ZB00007330  |          1 |               0 |              14.9593  |  10.7171    |            25.3058  | E-COMMER     | RUN.czC   | RUN.czO  | top4running.cz  | 2019-06-01 06:26:00 | W NK DRY MILER TOP SS                  | 932499-823       |         84 | Nike             |         200 | Apparel   |         230 | T-Shirts        |           0 | unspecified             | running     | women       | adults      | Pink        | XS          | cz        |\n",
      "| 2019-06-01 00:00:00 | 1900079006 | COD           | ZB00018948  |          1 |               0 |              25.5942  |  13.007     |            25.5942  | E-COMMER     | RUN.czC   | RUN.czO  | top4running.cz  | 2019-06-01 06:26:00 | W NK MILER TANK SURF                   | aq5179-686       |         84 | Nike             |         200 | Apparel   |         230 | T-Shirts        |         235 | Tank                    | running     | women       | adults      | Pink        | XS          | cz        |\n",
      "| 2019-06-01 00:00:00 | 1900079006 | COD           | ZB00022416  |          1 |               0 |              28.7977  |  14.6349    |            28.7977  | E-COMMER     | RUN.czC   | RUN.czO  | top4running.cz  | 2019-06-01 06:26:00 | W NK AIR SHORT                         | aq5634-100       |         84 | Nike             |         200 | Apparel   |         240 | Pants           |         242 | Shorts                  | running     | women       | adults      | White       | XS          | cz        |\n",
      "| 2019-06-01 00:00:00 | 1900079006 | COD           | S113        |          1 |               0 |               0.92907 |   0         |             0.92907 | E-COMMER     | RUN.czC   | RUN.czO  | top4running.cz  | 2019-06-01 06:26:00 | Platba                                 | unspecified      |         -1 | no_manufacturer  |         999 | Other     |           0 | unspecified     |           0 | unspecified             | unspecified | unspecified | unspecified | unspecified | unspecified | cz        |\n",
      "| 2019-06-01 00:00:00 | 1900079010 | COD           | ZB00016698  |          1 |               0 |             132.295   |  72.662     |           188.962   | E-COMMER     | FTB.czC   | FTB.czO  | 11teamsports.cz | 2019-06-01 06:26:00 | X 181 FG                               | bb9347           |         85 | adidas           |         100 | Footwear  |         110 | Football shoes  |           0 | unspecified             | football    | men         | adults      | Red         | 42,7        | cz        |\n",
      "| 2019-06-01 00:00:00 | 1900079010 | COD           | ZB00026001  |          1 |               0 |             132.295   |  83.0682    |           188.962   | E-COMMER     | FTB.czC   | FTB.czO  | 11teamsports.cz | 2019-06-01 06:26:00 | X 181 SG                               | bb9359           |         85 | adidas           |         100 | Footwear  |         110 | Football shoes  |           0 | unspecified             | football    | men         | adults      | Red         | 43,3        | cz        |\n",
      "| 2019-06-01 00:00:00 | 1900079010 | COD           | S113        |          1 |               0 |               0.92907 |   0         |             0.92907 | E-COMMER     | FTB.czC   | FTB.czO  | 11teamsports.cz | 2019-06-01 06:26:00 | Platba                                 | unspecified      |         -1 | no_manufacturer  |         999 | Other     |           0 | unspecified     |           0 | unspecified             | unspecified | unspecified | unspecified | unspecified | unspecified | cz        |\n",
      "| 2019-06-01 00:00:00 | 1900079011 | CARD_CSOB     | ZB00009549  |          1 |               0 |              17.9384  |  16.4775    |            25.5942  | E-COMMER     | FTB.czC   | FTB.czO  | 11teamsports.cz | 2019-06-01 09:31:00 | HG SS                                  | 1257468-001      |        106 | Under Armour     |         200 | Apparel   |         230 | T-Shirts        |         236 | Compression shirts      | fitness     | men         | adults      | Black       | M           | cz        |\n",
      "| 2019-06-01 00:00:00 | 1900079011 | CARD_CSOB     | ZB00026129  |          1 |               0 |               6.37442 |   3.94884   |            10.5388  | E-COMMER     | FTB.czC   | FTB.czO  | 11teamsports.cz | 2019-06-01 09:31:00 | PER CREW T 3PP                         | aa2330           |         85 | adidas           |         200 | Apparel   |         290 | Socks           |           0 | unspecified             | fitness     | unisex      | adults      | Black       | 39-42       | cz        |\n",
      "| 2019-06-01 00:00:00 | 1900079011 | CARD_CSOB     | ZB00000044  |          1 |               0 |              48.0171  |  28.0554    |            80.05    | E-COMMER     | FTB.czC   | FTB.czO  | 11teamsports.cz | 2019-06-01 09:31:00 | TEAM Match Ball                        | cz2235           |         85 | adidas           |         300 | Equipment |         320 | Balls           |           0 | unspecified             | football    | men         | adults      | White       | 5           | cz        |\n",
      "| 2019-06-01 00:00:00 | 1900079011 | CARD_CSOB     | S114        |         -1 |               0 |               3.2031  |   0         |             3.2031  | E-COMMER     | FTB.czC   | FTB.czO  | 11teamsports.cz | 2019-06-01 09:31:00 | Sleva                                  | unspecified      |         -1 | no_manufacturer  |         999 | Other     |           0 | unspecified     |           0 | unspecified             | unspecified | unspecified | unspecified | unspecified | unspecified | cz        |\n",
      "| 2019-06-01 00:00:00 | 1900079027 | GOPAY_CARD    | ZB00026129  |          1 |               0 |               6.55432 |   3.97054   |            10.0866  | E-COMMER     | RUN.deC   | RUN.deO  | top4running.de  | 2019-06-01 06:31:00 | PER CREW T 3PP                         | aa2330           |         85 | adidas           |         200 | Apparel   |         290 | Socks           |           0 | unspecified             | fitness     | unisex      | adults      | Black       | 39-42       | de        |\n",
      "| 2019-06-01 00:00:00 | 1900079030 | COD           | ZB00025621  |          1 |               0 |              37.8628  |  14.4395    |            44.5256  | E-COMMER     | FTB.czC   | FTB.czO  | 11teamsports.cz | 2019-06-01 06:32:00 | M NK Team Club Hoody                   | 658498-463       |         84 | Nike             |         200 | Apparel   |         220 | Sweatshirts     |         221 | With hood               | lifestyle   | men         | adults      | unspecified | L           | cz        |\n",
      "| 2019-06-01 00:00:00 | 1900079030 | COD           | ZB00026033  |          1 |               0 |              26.8116  |  14.0167    |            44.5256  | E-COMMER     | FTB.czC   | FTB.czO  | 11teamsports.cz | 2019-06-01 06:32:00 | Nike Team Club Crew                    | 658681-463       |         84 | Nike             |         200 | Apparel   |         220 | Sweatshirts     |           0 | unspecified             | football    | men         | adults      | Blue        | L           | cz        |\n",
      "| 2019-06-01 00:00:00 | 1900079030 | COD           | ZB00000094  |          1 |               0 |              11.2756  |   5.48101   |            14.3826  | E-COMMER     | FTB.czC   | FTB.czO  | 11teamsports.cz | 2019-06-01 06:32:00 | PARK II KNIT SHORT NB                  | 725887-463       |         84 | Nike             |         200 | Apparel   |         240 | Pants           |         242 | Shorts                  | football    | men         | adults      | Blue        | L           | cz        |\n",
      "| 2019-06-01 00:00:00 | 1900079030 | COD           | ZB00026511  |          1 |               0 |              16.5291  |   8.37752   |            23.9926  | E-COMMER     | FTB.czC   | FTB.czO  | 11teamsports.cz | 2019-06-01 06:32:00 | CORE18 PES PNT                         | cv3585           |         85 | adidas           |         200 | Apparel   |         240 | Pants           |           0 | unspecified             | football    | men         | adults      | Blue        | L           | cz        |\n",
      "| 2019-06-01 00:00:00 | 1900078998 | CARD_CSOB     | S101        |          1 |               0 |               1.56977 |   0         |             1.56977 | E-COMMER     | FTB.czC   | FTB.czO  | 11teamsports.cz | 2019-06-01 06:26:00 | Dopravné                               | unspecified      |         -1 | no_manufacturer  |         999 | Other     |           0 | unspecified     |           0 | unspecified             | unspecified | unspecified | unspecified | unspecified | unspecified | cz        |\n",
      "| 2019-06-01 00:00:00 | 1900078998 | CARD_CSOB     | ZB00025631  |          1 |               0 |              21.8143  |  11.781     |            35.2039  | E-COMMER     | FTB.czC   | FTB.czO  | 11teamsports.cz | 2019-06-01 06:26:00 | CORE18 RN JKT                          | ce9048           |         85 | adidas           |         200 | Apparel   |         215 | Jackets         |           0 | unspecified             | football    | men         | adults      | Black       | M           | cz        |\n",
      "| 2019-06-01 00:00:00 | 1900078996 | COD           | ZB00026793  |          1 |               0 |              45.1998  |  28.0252    |            58.3684  | E-COMMER     | FTB.skC   | FTB.skO  | 11teamsports.sk | 2019-06-01 09:34:00 | M NSW NIKE AIR HOODIE PO FLC           | ar1817-010       |         84 | Nike             |         200 | Apparel   |         220 | Sweatshirts     |         221 | With hood               | football    | men         | adults      | Black       | M           | sk        |\n",
      "| 2019-06-01 00:00:00 | 1900078992 | COD           | ZB00026483  |          1 |               0 |               7.74962 |   6.05271   |            11.0535  | E-COMMER     | FTB.huC   | FTB.huO  | 11teamsports.hu | 2019-06-01 06:25:00 | NK GK MATCH JR-FA18                    | gs0368-095       |         84 | Nike             |         300 | Equipment |         280 | Gloves          |         327 | Football gloves         | football    | unisex      | kids        | Silver      | 8           | hu        |\n",
      "| 2019-06-01 00:00:00 | 1900080152 | CARD_CSOB     | ZB00013828  |          1 |               0 |              25.3058  |  11.2612    |             0       | E-COMMER     | RUN.czC   | RUN.czO  | top4running.cz  | 2019-06-01 09:32:00 | W NP TOP SS ALL OVER MESH Zlatá tretra | 889540-617-zt    |         84 | Nike             |         200 | Apparel   |         230 | T-Shirts        |           0 | unspecified             | running     | women       | adults      | Pink        | S           | cz        |\n",
      "| 2019-06-01 00:00:00 | 1900080152 | CARD_CSOB     | S101        |          1 |               0 |               2.21008 |   0         |             2.21008 | E-COMMER     | RUN.czC   | RUN.czO  | top4running.cz  | 2019-06-01 09:32:00 | Dopravné                               | unspecified      |         -1 | no_manufacturer  |         999 | Other     |           0 | unspecified     |           0 | unspecified             | unspecified | unspecified | unspecified | unspecified | unspecified | cz        |\n",
      "| 2019-06-01 00:00:00 | 1900079354 | COD           | ZB00005571  |          2 |               0 |              53.1755  |   8.1345    |            57.7843  | E-COMMER     | RUN.roC   | RUN.roO  | top4running.ro  | 2019-06-01 08:51:00 | NIKE ZOOM RIVAL S 9                    | 907564-017       |         84 | Nike             |         100 | Footwear  |         120 | Running shoes   |         123 | Spikes                  | running     | unisex      | adults      | Black       | 42          | ro        |\n",
      "| 2019-06-01 00:00:00 | 1900078889 | PAYPAL        | ZB00023011  |          1 |               0 |              85.096   |  46.1446    |            92.5009  | E-COMMER     | RUN.deC   | RUN.deO  | top4running.de  | 2019-06-01 08:48:00 | NIKE ZOOM ROTATIONAL 6                 | 685131-600       |         84 | Nike             |         100 | Footwear  |         120 | Running shoes   |         123 | Spikes                  | running     | unisex      | adults      | Dark red    | 39          | de        |\n",
      "| 2019-06-01 00:00:00 | 1900078912 | CARD_CSOB     | ZB00026115  |          1 |               0 |              15.3756  |   7.22403   |            20.7891  | E-COMMER     | FTB.czC   | FTB.czO  | 11teamsports.cz | 2019-06-01 06:35:00 | B NP SHORT                             | 858226-011       |         84 | Nike             |         200 | Apparel   |         240 | Pants           |         244 | Compression pants       | fitness     | unisex      | kids        | Black       | L           | cz        |\n",
      "| 2019-06-01 00:00:00 | 1900078912 | CARD_CSOB     | S101        |          1 |               0 |               2.21008 |   0         |             2.21008 | E-COMMER     | FTB.czC   | FTB.czO  | 11teamsports.cz | 2019-06-01 06:35:00 | Dopravné                               | unspecified      |         -1 | no_manufacturer  |         999 | Other     |           0 | unspecified     |           0 | unspecified             | unspecified | unspecified | unspecified | unspecified | unspecified | cz        |\n",
      "| 2019-06-01 00:00:00 | 1900078912 | CARD_CSOB     | S114        |         -1 |               0 |               3.2031  |   0         |             3.2031  | E-COMMER     | FTB.czC   | FTB.czO  | 11teamsports.cz | 2019-06-01 06:35:00 | Sleva                                  | unspecified      |         -1 | no_manufacturer  |         999 | Other     |           0 | unspecified     |           0 | unspecified             | unspecified | unspecified | unspecified | unspecified | unspecified | cz        |\n",
      "| 2019-06-01 00:00:00 | 1900078939 | CARD_CSOB     | ZB00025744  |          1 |               0 |              76.8787  |  46.0527    |            96.0663  | E-COMMER     | FTB.czC   | FTB.czO  | 11teamsports.cz | 2019-06-01 09:31:00 | VAPOR 12 PRO FG                        | ah7382-077       |         84 | Nike             |         100 | Footwear  |         110 | Football shoes  |           0 | unspecified             | football    | men         | adults      | Black       | 44          | cz        |\n",
      "| 2019-06-01 00:00:00 | 1900079030 | COD           | S113        |          1 |               0 |               0.92907 |   0         |             0.92907 | E-COMMER     | FTB.czC   | FTB.czO  | 11teamsports.cz | 2019-06-01 06:32:00 | Platba                                 | unspecified      |         -1 | no_manufacturer  |         999 | Other     |           0 | unspecified     |           0 | unspecified             | unspecified | unspecified | unspecified | unspecified | unspecified | cz        |\n",
      "| 2019-06-01 00:00:00 | 1900078940 | CARD_CSOB     | ZB00025745  |          1 |               0 |              45.6469  |  24.0399    |            60.8302  | E-COMMER     | FTB.czC   | FTB.czO  | 11teamsports.cz | 2019-06-01 09:31:00 | VAPOR 12 ACADEMY SG                    | ah7376-070       |         84 | Nike             |         100 | Footwear  |         110 | Football shoes  |           0 | unspecified             | football    | men         | adults      | Silver      | 45          | cz        |\n",
      "| 2019-06-01 00:00:00 | 1900078940 | CARD_CSOB     | S114        |         -1 |               0 |               3.2031  |   0         |             3.2031  | E-COMMER     | FTB.czC   | FTB.czO  | 11teamsports.cz | 2019-06-01 09:31:00 | Sleva                                  | unspecified      |         -1 | no_manufacturer  |         999 | Other     |           0 | unspecified     |           0 | unspecified             | unspecified | unspecified | unspecified | unspecified | unspecified | cz        |\n",
      "| 2019-06-01 00:00:00 | 1900078963 | COD           | ZB00025954  |          1 |               0 |              40.643   |  26.7198    |            65.5681  | E-COMMER     | FTB.huC   | FTB.huO  | 11teamsports.hu | 2019-06-01 06:25:00 | M NK DRY SQD17 TRK SUIT K              | 832325-702       |         84 | Nike             |         200 | Apparel   |         250 | Tracksuits      |           0 | unspecified             | football    | men         | adults      | Green       | M           | hu        |\n",
      "| 2019-06-01 00:00:00 | 1900078989 | COD           | ZB00025779  |          1 |               0 |              20.7891  |   9.73256   |            20.7891  | E-COMMER     | STR.czC   | STR.czO  | tint-store.cz   | 2019-06-01 06:25:00 | Adidas Originals bucket hat hut        | dv0863           |        232 | adidas Originals |         200 | Apparel   |         210 | Caps            |           0 | unspecified             | lifestyle   | unisex      | adults      | Black       | OSFM        | cz        |\n",
      "| 2019-06-01 00:00:00 | 1900078989 | COD           | S101        |          1 |               0 |               1.56977 |   0         |             1.56977 | E-COMMER     | STR.czC   | STR.czO  | tint-store.cz   | 2019-06-01 06:25:00 | Dopravné                               | unspecified      |         -1 | no_manufacturer  |         999 | Other     |           0 | unspecified     |           0 | unspecified             | unspecified | unspecified | unspecified | unspecified | unspecified | cz        |\n",
      "| 2019-06-01 00:00:00 | 1900078989 | COD           | S113        |          1 |               0 |               0.92907 |   0         |             0.92907 | E-COMMER     | STR.czC   | STR.czO  | tint-store.cz   | 2019-06-01 06:25:00 | Platba                                 | unspecified      |         -1 | no_manufacturer  |         999 | Other     |           0 | unspecified     |           0 | unspecified             | unspecified | unspecified | unspecified | unspecified | unspecified | cz        |\n",
      "| 2019-06-01 00:00:00 | 1900078990 | COD           | ZB00025779  |          1 |               0 |              20.7891  |   9.73256   |            20.7891  | E-COMMER     | STR.czC   | STR.czO  | tint-store.cz   | 2019-06-01 08:01:00 | Adidas Originals bucket hat hut        | dv0863           |        232 | adidas Originals |         200 | Apparel   |         210 | Caps            |           0 | unspecified             | lifestyle   | unisex      | adults      | Black       | OSFM        | cz        |\n",
      "| 2019-06-01 00:00:00 | 1900078990 | COD           | S101        |          1 |               0 |               1.56977 |   0         |             1.56977 | E-COMMER     | STR.czC   | STR.czO  | tint-store.cz   | 2019-06-01 08:01:00 | Dopravné                               | unspecified      |         -1 | no_manufacturer  |         999 | Other     |           0 | unspecified     |           0 | unspecified             | unspecified | unspecified | unspecified | unspecified | unspecified | cz        |\n",
      "| 2019-06-01 00:00:00 | 1900078990 | COD           | S113        |          1 |               0 |               0.92907 |   0         |             0.92907 | E-COMMER     | STR.czC   | STR.czO  | tint-store.cz   | 2019-06-01 08:01:00 | Platba                                 | unspecified      |         -1 | no_manufacturer  |         999 | Other     |           0 | unspecified     |           0 | unspecified             | unspecified | unspecified | unspecified | unspecified | unspecified | cz        |\n",
      "| 2019-06-01 00:00:00 | 1900078940 | CARD_CSOB     | S101        |          1 |               0 |               1.56977 |   0         |             1.56977 | E-COMMER     | FTB.czC   | FTB.czO  | 11teamsports.cz | 2019-06-01 09:31:00 | Dopravné                               | unspecified      |         -1 | no_manufacturer  |         999 | Other     |           0 | unspecified     |           0 | unspecified             | unspecified | unspecified | unspecified | unspecified | unspecified | cz        |\n",
      "| 2019-06-01 00:00:00 | 1900080152 | CARD_CSOB     | ZB00000151  |          1 |               0 |              25.3058  |   9.0531    |             0       | E-COMMER     | RUN.czC   | RUN.czO  | top4running.cz  | 2019-06-01 09:32:00 | W NP TOP SS ALL OVER MESH Zlatá tretra | 889540-010-zt    |         84 | Nike             |         200 | Apparel   |         230 | T-Shirts        |           0 | unspecified             | running     | women       | adults      | Black       | S           | cz        |\n",
      "| 2019-06-01 00:00:00 | 1900079037 | CARD_CSOB     | ZB00025619  |          1 |               0 |              24.7934  |  11.0574    |            38.119   | E-COMMER     | FTB.czC   | VO_B_FTO | 11teamsports.cz | 2019-06-01 06:31:00 | ACADEMY14 SDLN WVN JKT - TEAMSPORT     | 588473-739       |         84 | Nike             |         200 | Apparel   |         215 | Jackets         |           0 | unspecified             | football    | unisex      | adults      | Yellow      | M           | cz        |\n",
      "| 2019-06-01 00:00:00 | 1900079037 | CARD_CSOB     | S101        |          1 |               0 |               1.56977 |   0         |             1.56977 | E-COMMER     | FTB.czC   | VO_B_FTO | 11teamsports.cz | 2019-06-01 06:31:00 | Dopravné                               | unspecified      |         -1 | no_manufacturer  |         999 | Other     |           0 | unspecified     |           0 | unspecified             | unspecified | unspecified | unspecified | unspecified | unspecified | cz        |\n",
      "| 2019-06-01 00:00:00 | 1900079122 | COD           | ZB00026709  |          1 |               0 |              38.4631  |  24.8899    |            63.8106  | E-COMMER     | FIT.roC   | FIT.roO  | top4fitness.ro  | 2019-06-01 06:34:00 | W NSW AV15 JKT KNT                     | 837458-100       |         84 | Nike             |         200 | Apparel   |         215 | Jackets         |           0 | unspecified             | football    | women       | adults      | Silver      | S           | ro        |\n",
      "| 2019-06-01 00:00:00 | 1900079924 | CARD_CSOB     | ZB00000394  |          1 |               0 |              23.0314  |  17.0407    |            25.5942  | E-COMMER     | Sport.cC  | Sport.cO | top4sport.cz    | 2019-06-01 09:37:00 | UA SPEED STRIDE SHORTSLEEVE-BLU        | 1326564-437      |        106 | Under Armour     |         200 | Apparel   |         230 | T-Shirts        |           0 | unspecified             | running     | men         | adults      | Blue        | S/M         | cz        |\n",
      "| 2019-06-01 00:00:00 | 1900079924 | CARD_CSOB     | S101        |          1 |               0 |               1.56977 |   0         |             1.56977 | E-COMMER     | Sport.cC  | Sport.cO | top4sport.cz    | 2019-06-01 09:37:00 | Dopravné                               | unspecified      |         -1 | no_manufacturer  |         999 | Other     |           0 | unspecified     |           0 | unspecified             | unspecified | unspecified | unspecified | unspecified | unspecified | cz        |\n",
      "| 2019-06-01 00:00:00 | 1900079924 | CARD_CSOB     | S114        |         -1 |               0 |               3.2031  |   0         |             3.2031  | E-COMMER     | Sport.cC  | Sport.cO | top4sport.cz    | 2019-06-01 09:37:00 | Sleva                                  | unspecified      |         -1 | no_manufacturer  |         999 | Other     |           0 | unspecified     |           0 | unspecified             | unspecified | unspecified | unspecified | unspecified | unspecified | cz        |\n",
      "| 2019-06-01 00:00:00 | 1900079845 | COD           | S114        |         -1 |               0 |               3.2031  |   0         |             3.2031  | E-COMMER     | STR.czC   | STR.czO  | tint-store.cz   | 2019-06-01 09:32:00 | Sleva                                  | unspecified      |         -1 | no_manufacturer  |         999 | Other     |           0 | unspecified     |           0 | unspecified             | unspecified | unspecified | unspecified | unspecified | unspecified | cz        |\n",
      "| 2019-06-01 00:00:00 | 1900079845 | COD           | S113        |          1 |               0 |               0.92907 |   0         |             0.92907 | E-COMMER     | STR.czC   | STR.czO  | tint-store.cz   | 2019-06-01 09:32:00 | Platba                                 | unspecified      |         -1 | no_manufacturer  |         999 | Other     |           0 | unspecified     |           0 | unspecified             | unspecified | unspecified | unspecified | unspecified | unspecified | cz        |\n",
      "| 2019-06-01 00:00:00 | 1900079845 | COD           | S101        |          1 |               0 |               2.85078 |   0         |             2.85078 | E-COMMER     | STR.czC   | STR.czO  | tint-store.cz   | 2019-06-01 09:32:00 | Dopravné                               | unspecified      |         -1 | no_manufacturer  |         999 | Other     |           0 | unspecified     |           0 | unspecified             | unspecified | unspecified | unspecified | unspecified | unspecified | cz        |\n",
      "| 2019-06-01 00:00:00 | 1900079845 | COD           | ZB00025984  |          1 |               0 |              57.6271  |  28.3442    |            57.6271  | E-COMMER     | STR.czC   | STR.czO  | tint-store.cz   | 2019-06-01 09:32:00 | DEERUPT RUNNER J                       | f34295           |        232 | adidas Originals |         100 | Footwear  |         199 | Other Footwear  |           0 | unspecified             | lifestyle   | unisex      | kids        | White       | 39,3        | cz        |\n",
      "| 2019-06-01 00:00:00 | 1900080490 | CARD_CSOB     | ZB00015845  |          1 |               0 |             114.165   |  87.5407    |           190.275   | E-COMMER     | FTB.czC   | FTB.czO  | 11teamsports.cz | 2019-06-01 11:57:00 | NEMEZIZ 191 FG                         | f34408           |         85 | adidas           |         100 | Footwear  |         110 | Football shoes  |           0 | unspecified             | football    | men         | adults      | Red         | 46          | cz        |\n",
      "| 2019-06-01 00:00:00 | 1900080490 | CARD_CSOB     | ZB00015803  |          1 |               0 |             114.165   |  87.5415    |           190.275   | E-COMMER     | FTB.czC   | FTB.czO  | 11teamsports.cz | 2019-06-01 11:57:00 | NEMEZIZ 191 SG                         | f99855           |         85 | adidas           |         100 | Footwear  |         110 | Football shoes  |           0 | unspecified             | football    | men         | adults      | Red         | 46          | cz        |\n",
      "| 2019-06-01 00:00:00 | 1900079295 | PAYPAL        | ZB00012026  |          1 |               0 |               8.24543 |  11.3791    |            22.6886  | E-COMMER     | FIT.deC   | FIT.deO  | top4fitness.de  | 2019-06-01 17:01:00 | NK ELMNTL BKPK                         | ba5381-346       |         84 | Nike             |         300 | Equipment |         310 | Backpacks       |           0 | unspecified             | football    | unisex      | adults      | Green       | ks          | de        |\n",
      "| 2019-06-01 00:00:00 | 1900079825 | GOPAY_CARD    | S101        |          1 |               0 |               5.00329 |   0         |             4.96327 | E-COMMER     | RUN.comC  | RUN.comO | top4running.com | 2019-06-01 08:01:00 | Dopravné                               | unspecified      |         -1 | no_manufacturer  |         999 | Other     |           0 | unspecified     |           0 | unspecified             | unspecified | unspecified | unspecified | unspecified | unspecified | com       |\n",
      "| 2019-06-01 00:00:00 | 1900079825 | GOPAY_CARD    | ZB00009040  |          1 |               0 |              53.4552  |   0.0387597 |            75.6698  | E-COMMER     | RUN.comC  | RUN.comO | top4running.com | 2019-06-01 08:01:00 | SAUCONY JAZZ ORIGINAL VINTAGE          | s60368-40        |        103 | Saucony          |         100 | Footwear  |         199 | Other Footwear  |           0 | unspecified             | lifestyle   | women       | adults      | Yellow      | 38          | com       |\n",
      "| 2019-06-01 00:00:00 | 1900080509 | COD           | ZB00022564  |          2 |               0 |              24.6333  |  17.0543    |            35.2039  | E-COMMER     | RUN.czC   | RUN.czO  | top4running.cz  | 2019-06-01 09:32:00 | Cotton Stretch 6 3 Pack                | 1277279-004      |        106 | Under Armour     |         200 | Apparel   |         260 | Underwear       |           0 | unspecified             | fitness     | men         | adults      | Black       | M           | cz        |\n",
      "| 2019-06-01 00:00:00 | 1900080509 | COD           | S101        |          1 |               0 |               1.56977 |   0         |             1.56977 | E-COMMER     | RUN.czC   | RUN.czO  | top4running.cz  | 2019-06-01 09:32:00 | Dopravné                               | unspecified      |         -1 | no_manufacturer  |         999 | Other     |           0 | unspecified     |           0 | unspecified             | unspecified | unspecified | unspecified | unspecified | unspecified | cz        |\n",
      "| 2019-06-01 00:00:00 | 1900079952 | COD           | ZB00009785  |          1 |               0 |              63.2326  |   1.00078   |           105.388   | E-COMMER     | RUN.czC   | RUN.czO  | top4running.cz  | 2019-06-01 11:02:00 | NIKE AIR ZOOM PEGASUS 35               | 942851-001       |         84 | Nike             |         100 | Footwear  |         120 | Running shoes   |           0 | unspecified             | running     | men         | adults      | Black       | 40,5        | cz        |\n",
      "| 2019-06-01 00:00:00 | 1900080509 | COD           | S113        |          1 |               0 |               0.92907 |   0         |             0.92907 | E-COMMER     | RUN.czC   | RUN.czO  | top4running.cz  | 2019-06-01 09:32:00 | Platba                                 | unspecified      |         -1 | no_manufacturer  |         999 | Other     |           0 | unspecified     |           0 | unspecified             | unspecified | unspecified | unspecified | unspecified | unspecified | cz        |\n",
      "| 2019-06-01 00:00:00 | 1900079122 | COD           | ZB00026708  |          1 |               0 |              18.256   |  11.6008    |            22.6877  | E-COMMER     | FIT.roC   | FIT.roO  | top4fitness.ro  | 2019-06-01 06:34:00 | W NP TOP SS                            | 725745-617       |         84 | Nike             |         200 | Apparel   |         230 | T-Shirts        |           0 | unspecified             | fitness     | women       | adults      | Pink        | S           | ro        |\n",
      "| 2019-06-01 00:00:00 | 1900079118 | COD           | ZB00026682  |          1 |               0 |             157.604   |  95.8186    |           175.115   | E-COMMER     | FTB.skC   | FTB.skO  | 11teamsports.sk | 2019-06-01 06:34:00 | AIR VAPORMAX PLUS                      | 924453-015       |         84 | Nike             |         100 | Footwear  |         199 | Other Footwear  |           0 | unspecified             | football    | men         | adults      | Black       | 44,5        | sk        |\n",
      "| 2019-06-01 00:00:00 | 1900079111 | COD           | ZB00026136  |          1 |               0 |              36.6103  |  26.7671    |            56.3366  | E-COMMER     | FTB.huC   | FTB.huO  | 11teamsports.hu | 2019-06-01 06:34:00 | VAPOR 12 ACADEMY MG                    | ah7375-001       |         84 | Nike             |         100 | Footwear  |         110 | Football shoes  |           0 | unspecified             | football    | men         | adults      | Black       | 41          | hu        |\n",
      "| 2019-06-01 00:00:00 | 1900079111 | COD           | ZB00026707  |          1 |               0 |               8.23548 |   4.62829   |            12.6083  | E-COMMER     | FTB.huC   | FTB.huO  | 11teamsports.hu | 2019-06-01 06:34:00 | M NK DRY PARK18 SS TOP                 | aa2046-010       |         84 | Nike             |         200 | Apparel   |         230 | T-Shirts        |           0 | unspecified             | football    | men         | adults      | Black       | S           | hu        |\n",
      "| 2019-06-01 00:00:00 | 1900079049 | COD           | ZB00026019  |          1 |               0 |             130.086   |  91.3124    |           200.132   | E-COMMER     | FTB.skC   | FTB.skO  | 11teamsports.sk | 2019-06-01 06:32:00 | VAPOR 12 ELITE FG                      | ah7380-070       |         84 | Nike             |         100 | Footwear  |         110 | Football shoes  |           0 | unspecified             | football    | men         | adults      | Silver      | 42,5        | sk        |\n",
      "| 2019-06-01 00:00:00 | 1900079056 | COD           | ZB00026018  |          1 |               0 |               8.50893 |   4.46628   |            11.521   | E-COMMER     | FTB.roC   | FTB.roO  | 11teamsports.ro | 2019-06-01 06:32:00 | Adidas Team Glider                     | cz2230           |         85 | adidas           |         300 | Equipment |         320 | Balls           |           0 | unspecified             | football    | men         | adults      | White       | 5           | ro        |\n",
      "| 2019-06-01 00:00:00 | 1900079057 | COD           | ZB00019137  |          1 |               0 |              40.3295  |  28.8213    |            57.6271  | E-COMMER     | FTB.czC   | FTB.czO  | 11teamsports.cz | 2019-06-01 06:32:00 | JR PHNTOM VSN ACADEMY DF FG/MG         | ao3287-408       |         84 | Nike             |         100 | Footwear  |         110 | Football shoes  |           0 | unspecified             | football    | unisex      | kids        | Silver      | 38          | cz        |\n",
      "| 2019-06-01 00:00:00 | 1900079057 | COD           | S101        |          1 |               0 |               2.21008 |   0         |             2.21008 | E-COMMER     | FTB.czC   | FTB.czO  | 11teamsports.cz | 2019-06-01 06:32:00 | Dopravné                               | unspecified      |         -1 | no_manufacturer  |         999 | Other     |           0 | unspecified     |           0 | unspecified             | unspecified | unspecified | unspecified | unspecified | unspecified | cz        |\n",
      "| 2019-06-01 00:00:00 | 1900079057 | COD           | S113        |          1 |               0 |               0.92907 |   0         |             0.92907 | E-COMMER     | FTB.czC   | FTB.czO  | 11teamsports.cz | 2019-06-01 06:32:00 | Platba                                 | unspecified      |         -1 | no_manufacturer  |         999 | Other     |           0 | unspecified     |           0 | unspecified             | unspecified | unspecified | unspecified | unspecified | unspecified | cz        |\n",
      "| 2019-06-01 00:00:00 | 1900079059 | CARD_GOPAY    | ZB00025762  |          1 |               0 |              17.2614  |  10.9527    |            24.6863  | E-COMMER     | FTB.skC   | FTB.skO  | 11teamsports.sk | 2019-06-01 06:32:00 | HG ARMOUR 20 LONG SHORT                | 1289568-001      |        106 | Under Armour     |         200 | Apparel   |         240 | Pants           |         244 | Compression pants       | football    | men         | adults      | Black       | L           | sk        |\n",
      "| 2019-06-01 00:00:00 | 1900079060 | COD           | ZB00026704  |          1 |               0 |              27.268   |  16.8054    |            37.5247  | E-COMMER     | FTB.skC   | FTB.skO  | 11teamsports.sk | 2019-06-01 06:32:00 | star chevron graphic                   | 10006480-a01-001 |        139 | Converse         |         200 | Apparel   |         240 | Pants           |         242 | Shorts                  | lifestyle   | men         | adults      | Black       | L           | sk        |\n",
      "| 2019-06-01 00:00:00 | 1900079067 | COD           | ZB00021748  |          1 |               0 |              74.8287  |  48.6264    |            96.0663  | E-COMMER     | RUN.czC   | RUN.czO  | top4running.cz  | 2019-06-01 06:32:00 | WMNS NIKE AIR ZOOM PEGASUS 35          | 942855-011       |         84 | Nike             |         100 | Footwear  |         120 | Running shoes   |           0 | unspecified             | running     | women       | adults      | Silver      | 39          | cz        |\n",
      "| 2019-06-01 00:00:00 | 1900079037 | CARD_CSOB     | ZB00025620  |          1 |               0 |              18.707   |   9.44612   |            28.7977  | E-COMMER     | FTB.czC   | VO_B_FTO | 11teamsports.cz | 2019-06-01 06:31:00 | M NK DRY PARK III JSY LS GK            | 894509-398       |         84 | Nike             |         200 | Apparel   |         230 | T-Shirts        |         233 | Longsleeved (LS) shirts | football    | men         | adults      | Green       | S           | cz        |\n",
      "| 2019-06-01 00:00:00 | 1900079067 | COD           | S113        |          1 |               0 |               0.92907 |   0         |             0.92907 | E-COMMER     | RUN.czC   | RUN.czO  | top4running.cz  | 2019-06-01 06:32:00 | Platba                                 | unspecified      |         -1 | no_manufacturer  |         999 | Other     |           0 | unspecified     |           0 | unspecified             | unspecified | unspecified | unspecified | unspecified | unspecified | cz        |\n",
      "| 2019-06-01 00:00:00 | 1900079070 | COD           | S114        |         -1 |               0 |               3.2031  |   0         |             3.2031  | E-COMMER     | FTB.czC   | FTB.czO  | 11teamsports.cz | 2019-06-01 06:32:00 | Sleva                                  | unspecified      |         -1 | no_manufacturer  |         999 | Other     |           0 | unspecified     |           0 | unspecified             | unspecified | unspecified | unspecified | unspecified | unspecified | cz        |\n",
      "| 2019-06-01 00:00:00 | 1900079074 | COD           | ZB00026164  |          1 |               0 |              39.5262  |  29.4992    |            60.7985  | E-COMMER     | FTB.roC   | FTB.roO  | 11teamsports.ro | 2019-06-01 06:32:00 | VAPOR 12 ACADEMY TF                    | ah7384-701       |         84 | Nike             |         100 | Footwear  |         110 | Football shoes  |           0 | unspecified             | football    | men         | adults      | Green       | 43          | ro        |\n",
      "| 2019-06-01 00:00:00 | 1900079087 | COD           | ZB00024304  |          1 |               0 |              73.6434  |  36.4725    |            73.6434  | E-COMMER     | FTB.czC   | FTB.czO  | 11teamsports.cz | 2019-06-01 06:32:00 | SUPERFLY 6 ACADEMY MG                  | ah7362-408       |         84 | Nike             |         100 | Footwear  |         110 | Football shoes  |           0 | unspecified             | football    | men         | adults      | Blue        | 44          | cz        |\n",
      "| 2019-06-01 00:00:00 | 1900079087 | COD           | S113        |          1 |               0 |               0.92907 |   0         |             0.92907 | E-COMMER     | FTB.czC   | FTB.czO  | 11teamsports.cz | 2019-06-01 06:32:00 | Platba                                 | unspecified      |         -1 | no_manufacturer  |         999 | Other     |           0 | unspecified     |           0 | unspecified             | unspecified | unspecified | unspecified | unspecified | unspecified | cz        |\n",
      "| 2019-06-01 00:00:00 | 1900079095 | COD           | ZB00026705  |          1 |               0 |              21.9426  |  11.2035    |            30.2709  | E-COMMER     | FTB.czC   | FTB.czO  | 11teamsports.cz | 2019-06-01 06:32:00 | reflective wordmark legging            | 10004552-a01     |        139 | Converse         |         200 | Apparel   |         240 | Pants           |           0 | unspecified             | lifestyle   | women       | adults      | Black       | S           | cz        |\n",
      "| 2019-06-01 00:00:00 | 1900079095 | COD           | S101        |          1 |               0 |               2.21008 |   0         |             2.21008 | E-COMMER     | FTB.czC   | FTB.czO  | 11teamsports.cz | 2019-06-01 06:32:00 | Dopravné                               | unspecified      |         -1 | no_manufacturer  |         999 | Other     |           0 | unspecified     |           0 | unspecified             | unspecified | unspecified | unspecified | unspecified | unspecified | cz        |\n",
      "| 2019-06-01 00:00:00 | 1900079095 | COD           | S113        |          1 |               0 |               0.92907 |   0         |             0.92907 | E-COMMER     | FTB.czC   | FTB.czO  | 11teamsports.cz | 2019-06-01 06:32:00 | Platba                                 | unspecified      |         -1 | no_manufacturer  |         999 | Other     |           0 | unspecified     |           0 | unspecified             | unspecified | unspecified | unspecified | unspecified | unspecified | cz        |\n",
      "| 2019-06-01 00:00:00 | 1900079098 | COD           | ZB00026706  |          1 |               0 |              18.0919  |   9.98178   |            29.1892  | E-COMMER     | FTB.skC   | FTB.skO  | 11teamsports.sk | 2019-06-01 06:34:00 | M NP TOP LS COMP MOCK                  | 838079-657       |         84 | Nike             |         200 | Apparel   |         230 | T-Shirts        |         236 | Compression shirts      | football    | men         | adults      | Red         | L           | sk        |\n",
      "| 2019-06-01 00:00:00 | 1900079070 | COD           | ZB00025613  |          1 |               0 |              76.238   |  49.4574    |           108.879   | E-COMMER     | FTB.czC   | FTB.czO  | 11teamsports.cz | 2019-06-01 06:32:00 | NEMEZIZ 182 FG                         | bb9431           |         85 | adidas           |         100 | Footwear  |         110 | Football shoes  |           0 | unspecified             | football    | men         | adults      | Yellow      | 43,3        | cz        |\n",
      "| 2019-06-01 00:00:00 | 1900078757 | COD           | S113        |          1 |               0 |               0.92907 |   0         |             0.92907 | E-COMMER     | FTB.czC   | FTB.czO  | 11teamsports.cz | 2019-06-01 00:04:00 | Platba                                 | unspecified      |         -1 | no_manufacturer  |         999 | Other     |           0 | unspecified     |           0 | unspecified             | unspecified | unspecified | unspecified | unspecified | unspecified | cz        |\n",
      "| 2019-06-01 00:00:00 | 1900079070 | COD           | S113        |          1 |               0 |               0.92907 |   0         |             0.92907 | E-COMMER     | FTB.czC   | FTB.czO  | 11teamsports.cz | 2019-06-01 06:32:00 | Platba                                 | unspecified      |         -1 | no_manufacturer  |         999 | Other     |           0 | unspecified     |           0 | unspecified             | unspecified | unspecified | unspecified | unspecified | unspecified | cz        |\n",
      "| 2019-06-01 00:00:00 | 1900078757 | COD           | ZB00007426  |          2 |               0 |               6.63062 |   0.0709302 |             7.78411 | E-COMMER     | FTB.czC   | FTB.czO  | 11teamsports.cz | 2019-06-01 00:04:00 | Team Scrimmage Swoosh Vest             | 361109-371       |         84 | Nike             |         200 | Apparel   |         225 | Jerseys         |         234 | Sleeveless (SL) shirts  | football    | men         | adults      | Green       | S/M         | cz        |\n",
      "| 2019-06-01 00:00:00 | 1900073936 | BANK_TRANSFER | ZB00049783  |          1 |               0 |              69.4657  |  28.7787    |            99.2353  | E-COMMER     | FTB.esC   | FTB.esO  | 11teamsports.es | 2019-06-01 08:00:00 | PRED PRO                               | dn8578           |         85 | adidas           |         300 | Equipment |         280 | Gloves          |         327 | Football gloves         | football    | men         | adults      | Black       | 10,5        | es        |\n",
      "| 2019-06-01 00:00:00 | 1900075432 | COD           | ZB00026064  |          1 |               0 |              45.8904  |  25.4461    |            65.5681  | E-COMMER     | FTB.huC   | FTB.huO  | 11teamsports.hu | 2019-06-01 09:26:00 | M NK DRY SQD17 TRK SUIT K              | 832325-657       |         84 | Nike             |         200 | Apparel   |         250 | Tracksuits      |           0 | unspecified             | football    | men         | adults      | Dark red    | L           | hu        |\n",
      "| 2019-06-01 00:00:00 | 1900075432 | COD           | S101        |          1 |               0 |               2.40506 |   0         |             2.40506 | E-COMMER     | FTB.huC   | FTB.huO  | 11teamsports.hu | 2019-06-01 09:26:00 | Dopravné                               | unspecified      |         -1 | no_manufacturer  |         999 | Other     |           0 | unspecified     |           0 | unspecified             | unspecified | unspecified | unspecified | unspecified | unspecified | hu        |\n",
      "| 2019-06-01 00:00:00 | 1900075773 | COD           | ZB00017976  |          1 |               0 |             113.364   |  69.2446    |           188.962   | E-COMMER     | FTB.czC   | FTB.czO  | 11teamsports.cz | 2019-06-01 07:22:00 | X 181 FG                               | bb9347           |         85 | adidas           |         100 | Footwear  |         110 | Football shoes  |           0 | unspecified             | football    | men         | adults      | Red         | 44,7        | cz        |\n",
      "| 2019-06-01 00:00:00 | 1900076357 | COD           | ZB00023846  |          1 |               0 |              11.521   |   0         |            16.4842  | E-COMMER     | FTB.roC   | FTB.roO  | 11teamsports.ro | 2019-06-01 08:59:00 | NK MENOR X                             | sc3039-673       |         84 | Nike             |         300 | Equipment |         320 | Balls           |           0 | unspecified             | football    | unisex      | adults      | Red         | ks          | ro        |\n",
      "| 2019-06-01 00:00:00 | 1900077168 | COD           | ZB00025652  |          1 |               0 |              37.7035  |  29.7578    |            58.0128  | E-COMMER     | FTB.huC   | FTB.huO  | 11teamsports.hu | 2019-06-01 09:05:00 | X 183 FG                               | bb9366           |         85 | adidas           |         100 | Footwear  |         110 | Football shoes  |           0 | unspecified             | football    | men         | adults      | Black       | 44,7        | hu        |\n",
      "| 2019-06-01 00:00:00 | 1900077168 | COD           | S101        |          1 |               0 |               2.40506 |   0         |             2.40506 | E-COMMER     | FTB.huC   | FTB.huO  | 11teamsports.hu | 2019-06-01 09:05:00 | Dopravné                               | unspecified      |         -1 | no_manufacturer  |         999 | Other     |           0 | unspecified     |           0 | unspecified             | unspecified | unspecified | unspecified | unspecified | unspecified | hu        |\n",
      "| 2019-06-01 00:00:00 | 1900077515 | COD           | ZB00009443  |          2 |               0 |              13.6286  |  10.4283    |            18.1958  | E-COMMER     | RUN.huC   | RUN.huO  | top4running.hu  | 2019-06-01 09:25:00 | M NP SHORT LONG                        | 838063-091       |         84 | Nike             |         200 | Apparel   |         240 | Pants           |         244 | Compression pants       | running     | men         | adults      | Silver      | L           | hu        |\n",
      "| 2019-06-01 00:00:00 | 1900077515 | COD           | S101        |          1 |               0 |               2.40506 |   0         |             2.40506 | E-COMMER     | RUN.huC   | RUN.huO  | top4running.hu  | 2019-06-01 09:25:00 | Dopravné                               | unspecified      |         -1 | no_manufacturer  |         999 | Other     |           0 | unspecified     |           0 | unspecified             | unspecified | unspecified | unspecified | unspecified | unspecified | hu        |\n",
      "| 2019-06-01 00:00:00 | 1900079385 | COD           | ZB00017248  |          3 |               0 |              26.0105  |  10.2616    |            40.0089  | E-COMMER     | FTB.czC   | FTB.czO  | 11teamsports.cz | 2019-06-01 09:07:00 | FINALE M COMP                          | dn8687           |         85 | adidas           |         300 | Equipment |         320 | Balls           |           0 | unspecified             | football    | men         | adults      | Orange      | 5           | cz        |\n",
      "| 2019-06-01 00:00:00 | 1900077890 | COD           | ZB00026211  |          1 |               0 |              11.6777  |   5.84186   |            16.681   | E-COMMER     | FTB.skC   | FTB.skO  | 11teamsports.sk | 2019-06-01 06:24:00 | NK MENOR X                             | sc3039-673       |         84 | Nike             |         300 | Equipment |         320 | Balls           |           0 | unspecified             | football    | unisex      | adults      | Red         | PRO         | sk        |\n",
      "| 2019-06-01 00:00:00 | 1900078281 | COD           | ZB00025682  |          1 |               0 |              85.2074  |   2.29845   |           121.693   | E-COMMER     | RUN.czC   | RUN.czO  | top4running.cz  | 2019-06-01 09:16:00 | NIKE EPIC REACT FLYKNIT 2              | bq8928-003       |         84 | Nike             |         100 | Footwear  |         120 | Running shoes   |           0 | unspecified             | running     | men         | adults      | Black       | 42,5        | cz        |\n",
      "| 2019-06-01 00:00:00 | 1900078281 | COD           | S113        |          1 |               0 |               0.92907 |   0         |             0.92907 | E-COMMER     | RUN.czC   | RUN.czO  | top4running.cz  | 2019-06-01 09:16:00 | Platba                                 | unspecified      |         -1 | no_manufacturer  |         999 | Other     |           0 | unspecified     |           0 | unspecified             | unspecified | unspecified | unspecified | unspecified | unspecified | cz        |\n",
      "| 2019-06-01 00:00:00 | 1900078447 | PAYPAL        | ZB00025689  |          1 |               0 |              21.0238  |  16.8702    |            29.4294  | E-COMMER     | RUN.deC   | RUN.deO  | top4running.de  | 2019-06-01 16:56:00 | ADILETTE                               | 288022           |        232 | adidas Originals |         100 | Footwear  |         150 | Slides          |           0 | unspecified             | lifestyle   | men         | adults      | Blue        | 47,3        | de        |\n",
      "| 2019-06-01 00:00:00 | 1900078447 | PAYPAL        | S101        |          1 |               0 |               2.94194 |   0         |             2.94194 | E-COMMER     | RUN.deC   | RUN.deO  | top4running.de  | 2019-06-01 16:56:00 | Dopravné                               | unspecified      |         -1 | no_manufacturer  |         999 | Other     |           0 | unspecified     |           0 | unspecified             | unspecified | unspecified | unspecified | unspecified | unspecified | de        |\n",
      "| 2019-06-01 00:00:00 | 1900078650 | COD           | ZB00049881  |          1 |               0 |              16.8386  |   8.76008   |            28.0411  | E-COMMER     | FTB.roC   | VO_B_FTO | 11teamsports.ro | 2019-06-01 11:57:00 | ENTRY 15 GK                            | ap0325           |         85 | adidas           |         200 | Apparel   |         230 | T-Shirts        |         233 | Longsleeved (LS) shirts | football    | men         | adults      | Blue        | 164         | ro        |\n",
      "| 2019-06-01 00:00:00 | 1900078650 | COD           | ZB00011209  |          1 |               0 |               6.38064 |   5.59535   |             9.7492  | E-COMMER     | FTB.roC   | VO_B_FTO | 11teamsports.ro | 2019-06-01 11:57:00 | U NK SQUAD OTC                         | sx6830-100       |         84 | Nike             |         200 | Apparel   |         290 | Socks           |         291 | Football socks          | football    | unisex      | adults      | White       | S           | ro        |\n",
      "| 2019-06-01 00:00:00 | 1900073779 | CARD_GOPAY    | ZB00016912  |          1 |               0 |              20.0132  |  12.8748    |            33.352   | E-COMMER     | FTB.skC   | VO_B_FTO | 11teamsports.sk | 2019-06-01 06:34:00 | ASK SPRT LT M                          | cw9427           |         85 | adidas           |         200 | Apparel   |         240 | Pants           |           0 | unspecified             | football    | men         | adults      | Black       | M           | sk        |\n",
      "| 2019-06-01 00:00:00 | 1900078650 | COD           | ZB00014423  |          1 |               0 |              15.4211  |   8.34496   |            23.6094  | E-COMMER     | FTB.roC   | VO_B_FTO | 11teamsports.ro | 2019-06-01 11:57:00 | TIERRO13 GK SHO                        | z11471           |         85 | adidas           |         200 | Apparel   |         240 | Pants           |         242 | Shorts                  | football    | men         | adults      | Black       | 152         | ro        |\n",
      "| 2019-06-01 00:00:00 | 1900073779 | CARD_GOPAY    | ZB00002233  |          1 |               0 |              15.0099  |  12.9764    |            25.0165  | E-COMMER     | FTB.skC   | VO_B_FTO | 11teamsports.sk | 2019-06-01 06:34:00 | M NK FC DRY TEE SSNL BLOCK             | av5313-838       |         84 | Nike             |         200 | Apparel   |         230 | T-Shirts        |           0 | unspecified             | football    | men         | adults      | Orange      | S           | sk        |\n",
      "| 2019-06-01 00:00:00 | 1900073779 | CARD_GOPAY    | ZB00012932  |          1 |               0 |              30.0198  |  24.4023    |            50.0329  | E-COMMER     | FTB.skC   | VO_B_FTO | 11teamsports.sk | 2019-06-01 06:34:00 | M NK FC PANT                           | aq0667-492       |         84 | Nike             |         200 | Apparel   |         240 | Pants           |           0 | unspecified             | football    | men         | adults      | unspecified | S           | sk        |\n",
      "| 2019-06-01 00:00:00 | 1900072437 | COD           | ZB00010124  |          1 |               0 |              34.4031  |  18.9566    |            57.3388  | E-COMMER     | FTB.czC   | FTB.czO  | 11teamsports.cz | 2019-06-01 08:59:00 | LS GARDIEN JSY                         | 725882-702       |         84 | Nike             |         200 | Apparel   |         230 | T-Shirts        |         233 | Longsleeved (LS) shirts | football    | men         | adults      | Green       | XXL         | cz        |\n",
      "| 2019-06-01 00:00:00 | 1900072437 | COD           | ZB00013297  |          1 |               0 |               9.35349 |   6.01822   |            14.3826  | E-COMMER     | FTB.czC   | FTB.czO  | 11teamsports.cz | 2019-06-01 08:59:00 | PARK II KNIT SHORT NB                  | 725887-702       |         84 | Nike             |         200 | Apparel   |         240 | Pants           |         242 | Shorts                  | football    | men         | adults      | Green       | XL          | cz        |\n",
      "| 2019-06-01 00:00:00 | 1900072437 | COD           | ZB00001906  |          1 |               0 |               9.35349 |   5.40659   |            14.3826  | E-COMMER     | FTB.czC   | FTB.czO  | 11teamsports.cz | 2019-06-01 08:59:00 | YTH LEAGUE KNIT SHORT NB               | 725990-011       |         84 | Nike             |         200 | Apparel   |         240 | Pants           |         242 | Shorts                  | football    | unisex      | kids        | Black       | L           | cz        |\n",
      "| 2019-06-01 00:00:00 | 1900072437 | COD           | ZB00011732  |          1 |               0 |              31.2     |  17.1364    |            48.0171  | E-COMMER     | FTB.czC   | FTB.czO  | 11teamsports.cz | 2019-06-01 08:59:00 | YTH NK GARDIEN II GK JSY LS            | 898046-010       |         84 | Nike             |         200 | Apparel   |         230 | T-Shirts        |         233 | Longsleeved (LS) shirts | football    | unisex      | kids        | Black       | L           | cz        |\n",
      "| 2019-06-01 00:00:00 | 1900072437 | COD           | ZB00017248  |          4 |               0 |              26.0105  |  10.2616    |            40.0089  | E-COMMER     | FTB.czC   | FTB.czO  | 11teamsports.cz | 2019-06-01 08:59:00 | FINALE M COMP                          | dn8687           |         85 | adidas           |         300 | Equipment |         320 | Balls           |           0 | unspecified             | football    | men         | adults      | Orange      | 5           | cz        |\n",
      "| 2019-06-01 00:00:00 | 1900072437 | COD           | ZB00005692  |          1 |               0 |               4.99729 |   2.80736   |             7.68798 | E-COMMER     | FTB.czC   | FTB.czO  | 11teamsports.cz | 2019-06-01 08:59:00 | U NK CLASSIC II CUSH OTC -TEAM         | sx5728-013       |         84 | Nike             |         200 | Apparel   |         290 | Socks           |         291 | Football socks          | football    | unisex      | adults      | Black       | L           | cz        |\n",
      "| 2019-06-01 00:00:00 | 1900072437 | COD           | ZB00005846  |          1 |               0 |               5.60581 |   3.64922   |             8.61667 | E-COMMER     | FTB.czC   | FTB.czO  | 11teamsports.cz | 2019-06-01 08:59:00 | U NK CLASSIC II CUSH OTC -TEAM         | sx5728-702       |         84 | Nike             |         200 | Apparel   |         290 | Socks           |         291 | Football socks          | football    | unisex      | adults      | Green       | XL          | cz        |\n",
      "| 2019-06-01 00:00:00 | 1900072437 | COD           | ZB00005157  |          7 |               0 |              10.3787  |   6.13295   |            15.9845  | E-COMMER     | FTB.czC   | FTB.czO  | 11teamsports.cz | 2019-06-01 08:59:00 | NK PTCH TEAM                           | sc3166-701       |         84 | Nike             |         300 | Equipment |         320 | Balls           |           0 | unspecified             | football    | unisex      | adults      | Yellow      | 4           | cz        |\n",
      "| 2019-06-01 00:00:00 | 1900072959 | GOPAY_CARD    | ZB00010308  |          4 |               0 |              19.1826  |  11.6163    |            33.0818  | E-COMMER     | FTB.esC   | FTB.esO  | 11teamsports.es | 2019-06-01 00:09:00 | M NK DRY ACDMY18 TRK JKT K             | 893701-100       |         84 | Nike             |         200 | Apparel   |         215 | Jackets         |           0 | unspecified             | football    | men         | adults      | White       | S           | es        |\n",
      "| 2019-06-01 00:00:00 | 1900072959 | GOPAY_CARD    | ZB00010312  |          6 |               0 |              19.1826  |  11.9047    |            33.0818  | E-COMMER     | FTB.esC   | FTB.esO  | 11teamsports.es | 2019-06-01 00:09:00 | M NK DRY ACDMY18 TRK JKT K             | 893701-100       |         84 | Nike             |         200 | Apparel   |         215 | Jackets         |           0 | unspecified             | football    | men         | adults      | White       | M           | es        |\n",
      "| 2019-06-01 00:00:00 | 1900072959 | GOPAY_CARD    | ZB00010316  |         12 |               0 |              19.1826  |   5.4186    |            33.0818  | E-COMMER     | FTB.esC   | FTB.esO  | 11teamsports.es | 2019-06-01 00:09:00 | M NK DRY ACDMY18 TRK JKT K             | 893701-100       |         84 | Nike             |         200 | Apparel   |         215 | Jackets         |           0 | unspecified             | football    | men         | adults      | White       | L           | es        |\n",
      "| 2019-06-01 00:00:00 | 1900078757 | COD           | S101        |          1 |               0 |               2.21008 |   0         |             2.21008 | E-COMMER     | FTB.czC   | FTB.czO  | 11teamsports.cz | 2019-06-01 00:04:00 | Dopravné                               | unspecified      |         -1 | no_manufacturer  |         999 | Other     |           0 | unspecified     |           0 | unspecified             | unspecified | unspecified | unspecified | unspecified | unspecified | cz        |\n",
      "| 2019-06-01 00:00:00 | 1900073779 | CARD_GOPAY    | ZB00009368  |          1 |               0 |              12.5082  |   7.63488   |            20.8437  | E-COMMER     | FTB.skC   | VO_B_FTO | 11teamsports.sk | 2019-06-01 06:34:00 | M NP SHORT                             | 838061-010       |         84 | Nike             |         200 | Apparel   |         240 | Pants           |         242 | Shorts                  | fitness     | men         | adults      | Black       | M           | sk        |\n",
      "| 2019-06-01 00:00:00 | 1900073779 | CARD_GOPAY    | ZB00009389  |          1 |               0 |              12.5082  |   7.87364   |            20.8437  | E-COMMER     | FTB.skC   | VO_B_FTO | 11teamsports.sk | 2019-06-01 06:34:00 | M NP SHORT                             | 838061-091       |         84 | Nike             |         200 | Apparel   |         240 | Pants           |         242 | Shorts                  | fitness     | men         | adults      | Silver      | M           | sk        |\n",
      "| 2019-06-01 00:00:00 | 1900073779 | CARD_GOPAY    | ZB00001487  |          1 |               0 |              15.0099  |  13.007     |            25.0165  | E-COMMER     | FTB.skC   | VO_B_FTO | 11teamsports.sk | 2019-06-01 06:34:00 | M NSW CE POLO MATCHUP PQ               | 909746-337       |         84 | Nike             |         200 | Apparel   |         230 | T-Shirts        |         231 | Polo                    | lifestyle   | men         | adults      | Blue        | L           | sk        |\n",
      "| 2019-06-01 00:00:00 | 1900073779 | CARD_GOPAY    | ZB00014781  |          1 |               0 |              15.0099  |  11.205     |            25.0165  | E-COMMER     | FTB.skC   | VO_B_FTO | 11teamsports.sk | 2019-06-01 06:34:00 | TF BASE SS                             | aj4967           |         85 | adidas           |         200 | Apparel   |         230 | T-Shirts        |         236 | Compression shirts      | fitness     | men         | adults      | White       | S           | sk        |\n",
      "| 2019-06-01 00:00:00 | 1900073779 | CARD_GOPAY    | ZB00002069  |          1 |               0 |              27.5181  |  22.7744    |            45.8602  | E-COMMER     | FTB.skC   | VO_B_FTO | 11teamsports.sk | 2019-06-01 06:34:00 | M NIKE FC CREW TOP LS                  | ao0358-010       |         84 | Nike             |         200 | Apparel   |         230 | T-Shirts        |         233 | Longsleeved (LS) shirts | football    | men         | adults      | Black       | S           | sk        |\n",
      "| 2019-06-01 00:00:00 | 1900073779 | CARD_GOPAY    | ZB00002185  |          1 |               0 |              15.0099  |  13.007     |            25.0165  | E-COMMER     | FTB.skC   | VO_B_FTO | 11teamsports.sk | 2019-06-01 06:34:00 | M NK FC DRY TEE SSNL BLOCK             | av5313-100       |         84 | Nike             |         200 | Apparel   |         230 | T-Shirts        |           0 | unspecified             | football    | men         | adults      | Black       | S           | sk        |\n",
      "| 2019-06-01 00:00:00 | 1900078655 | COD           | ZB00026724  |          1 |               0 |              64.3422  |  36.1019    |            99.0845  | E-COMMER     | FTB.roC   | VO_B_FTO | 11teamsports.ro | 2019-06-01 11:57:00 | Adidas Predator Pro Hybrid             | dy2617           |         85 | adidas           |         300 | Equipment |         280 | Gloves          |         327 | Football gloves         | football    | men         | adults      | Silver      | 7,5         | ro        |\n",
      "| 2019-06-01 00:00:00 | 1900072959 | GOPAY_CARD    | ZB00010320  |          2 |               0 |              19.1826  |  10.0469    |            33.0818  | E-COMMER     | FTB.esC   | FTB.esO  | 11teamsports.es | 2019-06-01 00:09:00 | M NK DRY ACDMY18 TRK JKT K             | 893701-100       |         84 | Nike             |         200 | Apparel   |         215 | Jackets         |           0 | unspecified             | football    | men         | adults      | White       | XL          | es        |\n",
      "| 2019-06-01 00:00:00 | 1900078754 | CARD_CSOB     | ZB00049877  |          1 |               0 |             153.565   | 120.323     |           255.942   | E-COMMER     | FTB.czC   | FTB.czO  | 11teamsports.cz | 2019-06-01 11:57:00 | SUPERFLY 6 ELITE CR7 SG-PRO AC         | aj6932-600       |         84 | Nike             |         100 | Footwear  |         110 | Football shoes  |           0 | unspecified             | football    | men         | adults      | Red         | 42,5        | cz        |\n",
      "| 2019-06-01 00:00:00 | 1900078757 | COD           | ZB00049340  |          5 |               0 |               6.63062 |   2.5031    |             7.78411 | E-COMMER     | FTB.czC   | FTB.czO  | 11teamsports.cz | 2019-06-01 00:04:00 | Team Scrimmage Swoosh Vest             | 361109-100       |         84 | Nike             |         200 | Apparel   |         225 | Jerseys         |         234 | Sleeveless (SL) shirts  | football    | men         | adults      | White       | S/M         | cz        |\n",
      "| 2019-06-02 00:00:00 | 1900081346 | COD           | ZB00016098  |          1 |               0 |               8.61667 |   5.22364   |             8.26866 | E-COMMER     | RUN.czC   | RUN.czO  | top4running.cz  | 2019-06-02 07:30:00 | ESIO KINESIOLOGY TAPE 50mm             | unspecified      |         -1 | no_manufacturer  |         999 | Other     |           0 | unspecified     |           0 | unspecified             | unspecified | unspecified | unspecified | unspecified | unspecified | cz        |\n",
      "| 2019-06-02 00:00:00 | 1900081425 | COD           | ZB00010062  |          1 |               0 |              40.8419  |  27.6581    |            54.4236  | E-COMMER     | STR.czC   | STR.czO  | tint-store.cz   | 2019-06-02 09:16:00 | M NSW TCH FLC SHORT                    | 928513-355       |         84 | Nike             |         200 | Apparel   |         240 | Pants           |         242 | Shorts                  | lifestyle   | men         | adults      | Green       | L           | cz        |\n",
      "| 2019-06-02 00:00:00 | 1900081241 | PAYPAL        | S101        |          1 |               0 |               5.00329 |   0         |             4.96327 | E-COMMER     | RUN.comC  | RUN.comO | top4running.com | 2019-06-02 08:01:00 | Dopravné                               | unspecified      |         -1 | no_manufacturer  |         999 | Other     |           0 | unspecified     |           0 | unspecified             | unspecified | unspecified | unspecified | unspecified | unspecified | com       |\n",
      "| 2019-06-02 00:00:00 | 1900081241 | PAYPAL        | ZB00009222  |          1 |               0 |               8.33549 |   4.55465   |             9.09599 | E-COMMER     | RUN.comC  | RUN.comO | top4running.com | 2019-06-02 08:01:00 | BASIC WALLET                           | nia08693ns-693   |         84 | Nike             |         300 | Equipment |         399 | Other Equipment |           0 | unspecified             | football    | unisex      | adults      | Red         | ks          | com       |\n",
      "| 2019-06-02 00:00:00 | 1900081241 | PAYPAL        | ZB00002778  |          1 |               0 |               8.33549 |   4.44535   |             9.09599 | E-COMMER     | RUN.comC  | RUN.comO | top4running.com | 2019-06-02 08:01:00 | BASIC WALLET                           | nia08068ns       |         84 | Nike             |         300 | Equipment |         399 | Other Equipment |           0 | unspecified             | football    | unisex      | adults      | unspecified | ks          | com       |\n",
      "| 2019-06-02 00:00:00 | 1900081425 | COD           | S114        |         -1 |               0 |               3.2031  |   0         |             3.2031  | E-COMMER     | STR.czC   | STR.czO  | tint-store.cz   | 2019-06-02 09:16:00 | Sleva                                  | unspecified      |         -1 | no_manufacturer  |         999 | Other     |           0 | unspecified     |           0 | unspecified             | unspecified | unspecified | unspecified | unspecified | unspecified | cz        |\n",
      "| 2019-06-02 00:00:00 | 1900081425 | COD           | S101        |          1 |               0 |               1.56977 |   0         |             1.56977 | E-COMMER     | STR.czC   | STR.czO  | tint-store.cz   | 2019-06-02 09:16:00 | Dopravné                               | unspecified      |         -1 | no_manufacturer  |         999 | Other     |           0 | unspecified     |           0 | unspecified             | unspecified | unspecified | unspecified | unspecified | unspecified | cz        |\n",
      "| 2019-06-02 00:00:00 | 1900081425 | COD           | S113        |          1 |               0 |               0.92907 |   0         |             0.92907 | E-COMMER     | STR.czC   | STR.czO  | tint-store.cz   | 2019-06-02 09:16:00 | Platba                                 | unspecified      |         -1 | no_manufacturer  |         999 | Other     |           0 | unspecified     |           0 | unspecified             | unspecified | unspecified | unspecified | unspecified | unspecified | cz        |\n",
      "| 2019-06-02 00:00:00 | 1900081241 | PAYPAL        | ZB00009239  |          1 |               0 |               8.33549 |   4.39147   |             9.09599 | E-COMMER     | RUN.comC  | RUN.comO | top4running.com | 2019-06-02 08:01:00 | BASIC WALLET                           | nia08413ns-413   |         84 | Nike             |         300 | Equipment |         399 | Other Equipment |           0 | unspecified             | football    | unisex      | adults      | Blue        | ks          | com       |\n",
      "| 2019-06-03 00:00:00 | 1900081701 | CARD_CSOB     | S114        |         -1 |               0 |               3.2031  |   0         |             3.2031  | E-COMMER     | FTB.czC   | FTB.czO  | 11teamsports.cz | 2019-06-03 09:17:00 | Sleva                                  | unspecified      |         -1 | no_manufacturer  |         999 | Other     |           0 | unspecified     |           0 | unspecified             | unspecified | unspecified | unspecified | unspecified | unspecified | cz        |\n",
      "| 2019-06-03 00:00:00 | 1900081663 | CARD_CSOB     | ZB00015598  |          1 |               0 |              83.862   |   0.0387597 |           111.795   | E-COMMER     | RUN.czC   | RUN.czO  | top4running.cz  | 2019-06-03 09:17:00 | SONIC RA PRO 2                         | l40611100        |         93 | Salomon          |         100 | Footwear  |         120 | Running shoes   |           0 | unspecified             | running     | men         | adults      | Blue        | 43,3        | cz        |\n",
      "| 2019-06-03 00:00:00 | 1900081701 | CARD_CSOB     | ZB00014167  |          1 |               0 |             103.786   |  86.3609    |           129.733   | E-COMMER     | FTB.czC   | FTB.czO  | 11teamsports.cz | 2019-06-03 09:17:00 | COPA MUNDIAL FG                        | 015110           |         85 | adidas           |         100 | Footwear  |         110 | Football shoes  |           0 | unspecified             | football    | men         | adults      | Black       | 44,7        | cz        |\n",
      "| 2019-06-03 00:00:00 | 1900081500 | COD           | S113        |          1 |               0 |               0.92907 |   0         |             0.92907 | E-COMMER     | FTB.czC   | FTB.czO  | 11teamsports.cz | 2019-06-03 09:16:00 | Platba                                 | unspecified      |         -1 | no_manufacturer  |         999 | Other     |           0 | unspecified     |           0 | unspecified             | unspecified | unspecified | unspecified | unspecified | unspecified | cz        |\n",
      "| 2019-06-03 00:00:00 | 1900081500 | COD           | S101        |          1 |               0 |               1.56977 |   0         |             1.56977 | E-COMMER     | FTB.czC   | FTB.czO  | 11teamsports.cz | 2019-06-03 09:16:00 | Dopravné                               | unspecified      |         -1 | no_manufacturer  |         999 | Other     |           0 | unspecified     |           0 | unspecified             | unspecified | unspecified | unspecified | unspecified | unspecified | cz        |\n",
      "| 2019-06-03 00:00:00 | 1900081500 | COD           | S114        |         -1 |               0 |               3.2031  |   0         |             3.2031  | E-COMMER     | FTB.czC   | FTB.czO  | 11teamsports.cz | 2019-06-03 09:16:00 | Sleva                                  | unspecified      |         -1 | no_manufacturer  |         999 | Other     |           0 | unspecified     |           0 | unspecified             | unspecified | unspecified | unspecified | unspecified | unspecified | cz        |\n",
      "| 2019-06-03 00:00:00 | 1900081551 | COD           | S113        |          1 |               0 |               0.92907 |   0         |             0.92907 | E-COMMER     | FTB.czC   | FTB.czO  | 11teamsports.cz | 2019-06-03 09:17:00 | Platba                                 | unspecified      |         -1 | no_manufacturer  |         999 | Other     |           0 | unspecified     |           0 | unspecified             | unspecified | unspecified | unspecified | unspecified | unspecified | cz        |\n",
      "| 2019-06-03 00:00:00 | 1900081728 | PAYPAL        | S101        |          1 |               0 |               5.00329 |   0         |             4.96327 | E-COMMER     | RUN.comC  | RUN.comO | top4running.com | 2019-06-03 08:01:00 | Dopravné                               | unspecified      |         -1 | no_manufacturer  |         999 | Other     |           0 | unspecified     |           0 | unspecified             | unspecified | unspecified | unspecified | unspecified | unspecified | com       |\n",
      "| 2019-06-03 00:00:00 | 1900081500 | COD           | ZB00022514  |          1 |               0 |              40.8419  |   0.358527  |            54.4236  | E-COMMER     | FTB.czC   | FTB.czO  | 11teamsports.cz | 2019-06-03 09:16:00 | LEGEND 7 ACADEMY IC                    | ah7244-070       |         84 | Nike             |         100 | Footwear  |         110 | Football shoes  |         114 | Indoor/Court (IC)       | football    | men         | adults      | Silver      | 43          | cz        |\n",
      "| 2019-06-03 00:00:00 | 1900081595 | COD           | ZB00009388  |          2 |               0 |              16.0163  |  16         |            32.0008  | E-COMMER     | RUN.czC   | RUN.czO  | top4running.cz  | 2019-06-03 11:00:00 | RUN THERMA SPHERE HOOD 20              | nra62019ns       |         84 | Nike             |         200 | Apparel   |         299 | Other Apparel   |           0 | unspecified             | running     | men         | adults      | Silver      | ks          | cz        |\n",
      "| 2019-06-03 00:00:00 | 1900081838 | COD           | ZB00000899  |          1 |               0 |              22.3333  |  11.3891    |            22.3333  | E-COMMER     | FTB.roC   | FTB.roO  | 11teamsports.ro | 2019-06-03 09:18:00 | NK MERC LITE - ENERGY                  | sp2178-100       |         84 | Nike             |         300 | Equipment |         335 | Guards          |           0 | unspecified             | football    | men         | adults      | White       | S           | ro        |\n",
      "| 2019-06-03 00:00:00 | 1900081551 | COD           | S101        |          1 |               0 |               2.21008 |   0         |             2.21008 | E-COMMER     | FTB.czC   | FTB.czO  | 11teamsports.cz | 2019-06-03 09:17:00 | Dopravné                               | unspecified      |         -1 | no_manufacturer  |         999 | Other     |           0 | unspecified     |           0 | unspecified             | unspecified | unspecified | unspecified | unspecified | unspecified | cz        |\n",
      "| 2019-06-03 00:00:00 | 1900081517 | COD           | ZB00026469  |          1 |               0 |              90.0593  |  55.3349    |           150.099   | E-COMMER     | FTB.skC   | VO_B_FTO | 11teamsports.sk | 2019-06-03 11:58:00 | UltraBOOST 19                          | b37704           |         85 | adidas           |         100 | Footwear  |         120 | Running shoes   |           0 | unspecified             | running     | men         | adults      | Black       | 40          | sk        |\n",
      "| 2019-06-03 00:00:00 | 1900081517 | COD           | ZB00026470  |          1 |               0 |               5.00329 |   4.19419   |             8.33549 | E-COMMER     | FTB.skC   | VO_B_FTO | 11teamsports.sk | 2019-06-03 11:58:00 | PER INVIZ T 3P                         | cf3390           |         85 | adidas           |         200 | Apparel   |         290 | Socks           |           0 | unspecified             | football    | unisex      | adults      | White       | 35-38       | sk        |\n",
      "| 2019-06-03 00:00:00 | 1900081517 | COD           | ZB00026471  |          1 |               0 |               5.00329 |   4.22016   |             8.33549 | E-COMMER     | FTB.skC   | VO_B_FTO | 11teamsports.sk | 2019-06-03 11:58:00 | PER INVIZ T 3P                         | cv7409           |         85 | adidas           |         200 | Apparel   |         290 | Socks           |           0 | unspecified             | football    | unisex      | adults      | Black       | 35-38       | sk        |\n",
      "| 2019-06-03 00:00:00 | 1900081519 | CARD_CSOB     | ZB00022132  |          1 |               0 |             166.378   | 107.864     |           255.942   | E-COMMER     | FTB.czC   | FTB.czO  | 11teamsports.cz | 2019-06-03 22:31:00 | MERCURIAL SUPERFLY 360 ELITE CR7 FG    | aj3547-600       |         84 | Nike             |         100 | Footwear  |         110 | Football shoes  |           0 | unspecified             | football    | men         | adults      | Red         | 45          | cz        |\n",
      "| 2019-06-03 00:00:00 | 1900081453 | CARD_CSOB     | ZB00016429  |          2 |               0 |              26.8116  |  18.3721    |            38.4074  | E-COMMER     | FTB.czC   | FTB.czO  | 11teamsports.cz | 2019-06-03 09:16:00 | CZECH REPUBLIC B2B Shirt               | 75254301         |         86 | Puma             |         200 | Apparel   |         230 | T-Shirts        |           0 | unspecified             | football    | men         | adults      | Red         | XL          | cz        |\n",
      "| 2019-06-03 00:00:00 | 1900081453 | CARD_CSOB     | ZB00016431  |          1 |               0 |              26.8116  |  18.3721    |            38.4074  | E-COMMER     | FTB.czC   | FTB.czO  | 11teamsports.cz | 2019-06-03 09:16:00 | CZECH REPUBLIC B2B Shirt               | 75254301         |         86 | Puma             |         200 | Apparel   |         230 | T-Shirts        |           0 | unspecified             | football    | men         | adults      | Red         | L           | cz        |\n",
      "| 2019-06-03 00:00:00 | 1900081838 | COD           | ZB00005804  |          3 |               0 |               5.67191 |   3.44922   |             7.08937 | E-COMMER     | FTB.roC   | FTB.roO  | 11teamsports.ro | 2019-06-03 09:18:00 | U NK CLASSIC II CUSH OTC -TEAM         | sx5728-648       |         84 | Nike             |         200 | Apparel   |         290 | Socks           |         291 | Football socks          | football    | unisex      | adults      | Red         | M           | ro        |\n",
      "| 2019-06-03 00:00:00 | 1900081838 | COD           | ZB00005764  |          2 |               0 |               5.67191 |   2.77519   |             7.08937 | E-COMMER     | FTB.roC   | FTB.roO  | 11teamsports.ro | 2019-06-03 09:18:00 | U NK CLASSIC II CUSH OTC -TEAM         | sx5728-463       |         84 | Nike             |         200 | Apparel   |         290 | Socks           |         291 | Football socks          | football    | unisex      | adults      | Blue        | M           | ro        |\n",
      "| 2019-06-03 00:00:00 | 1900081739 | CARD_CSOB     | S114        |         -1 |               0 |               3.2031  |   0         |             3.2031  | E-COMMER     | RUN.czC   | RUN.czO  | top4running.cz  | 2019-06-03 09:18:00 | Sleva                                  | unspecified      |         -1 | no_manufacturer  |         999 | Other     |           0 | unspecified     |           0 | unspecified             | unspecified | unspecified | unspecified | unspecified | unspecified | cz        |\n",
      "| 2019-06-03 00:00:00 | 1900081504 | COD           | S114        |         -1 |               0 |               3.2031  |   0         |             3.2031  | E-COMMER     | RUN.czC   | RUN.czO  | top4running.cz  | 2019-06-03 09:17:00 | Sleva                                  | unspecified      |         -1 | no_manufacturer  |         999 | Other     |           0 | unspecified     |           0 | unspecified             | unspecified | unspecified | unspecified | unspecified | unspecified | cz        |\n",
      "| 2019-06-03 00:00:00 | 1900081739 | CARD_CSOB     | ZB00003656  |          1 |               0 |              18.0023  |  12.2453    |            23.9926  | E-COMMER     | RUN.czC   | RUN.czO  | top4running.cz  | 2019-06-03 09:18:00 | WOR SL SS SLD COMP                     | dp6163           |         88 | Reebok           |         200 | Apparel   |         230 | T-Shirts        |         236 | Compression shirts      | fitness     | men         | adults      | Black       | M           | cz        |\n",
      "| 2019-06-03 00:00:00 | 1900081739 | CARD_CSOB     | ZB00022646  |          1 |               0 |              33.6023  |  14.4702    |            44.814   | E-COMMER     | RUN.czC   | RUN.czO  | top4running.cz  | 2019-06-03 09:18:00 | LAUNCH SW LONG SHORT                   | 1309602-008      |        106 | Under Armour     |         200 | Apparel   |         240 | Pants           |         242 | Shorts                  | running     | men         | adults      | Silver      | M           | cz        |\n",
      "| 2019-06-03 00:00:00 | 1900081504 | COD           | S113        |          1 |               0 |               0.92907 |   0         |             0.92907 | E-COMMER     | RUN.czC   | RUN.czO  | top4running.cz  | 2019-06-03 09:17:00 | Platba                                 | unspecified      |         -1 | no_manufacturer  |         999 | Other     |           0 | unspecified     |           0 | unspecified             | unspecified | unspecified | unspecified | unspecified | unspecified | cz        |\n",
      "| 2019-06-03 00:00:00 | 1900081504 | COD           | ZB00015177  |          1 |               0 |              76.6547  |  61.1717    |           102.184   | E-COMMER     | RUN.czC   | RUN.czO  | top4running.cz  | 2019-06-03 09:17:00 | S/LAB EXO HALF TIGHT M                 | lc1044900        |        237 | S/LAB            |         200 | Apparel   |         240 | Pants           |         244 | Compression pants       | running     | men         | adults      | Black       | L           | cz        |\n",
      "| 2019-06-03 00:00:00 | 1900081504 | COD           | ZB00014706  |          1 |               0 |              52.6298  |  44.4225    |            70.1519  | E-COMMER     | RUN.czC   | RUN.czO  | top4running.cz  | 2019-06-03 09:17:00 | S/LAB SENSE TEE M                      | l40216800        |        237 | S/LAB            |         200 | Apparel   |         230 | T-Shirts        |           0 | unspecified             | running     | men         | adults      | White       | L           | cz        |\n",
      "| 2019-06-03 00:00:00 | 1900081551 | COD           | ZB00002433  |          1 |               0 |              34.9159  |  23.8702    |            34.9159  | E-COMMER     | FTB.czC   | FTB.czO  | 11teamsports.cz | 2019-06-03 09:17:00 | ACSP Y NK BRT FTBL TOP SS HM           | 914128-677       |         84 | Nike             |         200 | Apparel   |         225 | Jerseys         |           0 | unspecified             | football    | unisex      | kids        | Dark red    | XL          | cz        |\n",
      "| 2019-06-03 00:00:00 | 1900081739 | CARD_CSOB     | S101        |          1 |               0 |               1.56977 |   0         |             1.56977 | E-COMMER     | RUN.czC   | RUN.czO  | top4running.cz  | 2019-06-03 09:18:00 | Dopravné                               | unspecified      |         -1 | no_manufacturer  |         999 | Other     |           0 | unspecified     |           0 | unspecified             | unspecified | unspecified | unspecified | unspecified | unspecified | cz        |\n",
      "| 2019-06-03 00:00:00 | 1900081869 | COD           | ZB00026567  |          1 |               0 |              26.7676  |   0         |            41.6975  | E-COMMER     | FTB.skC   | FTB.skO  | 11teamsports.sk | 2019-06-03 09:58:00 | Tiro 19                                | dt5174           |         85 | adidas           |         200 | Apparel   |         240 | Pants           |           0 | unspecified             | football    | men         | adults      | Blue        | M           | sk        |\n",
      "| 2019-06-03 00:00:00 | 1900081663 | CARD_CSOB     | S114        |         -1 |               0 |               3.2031  |   0         |             3.2031  | E-COMMER     | RUN.czC   | RUN.czO  | top4running.cz  | 2019-06-03 09:17:00 | Sleva                                  | unspecified      |         -1 | no_manufacturer  |         999 | Other     |           0 | unspecified     |           0 | unspecified             | unspecified | unspecified | unspecified | unspecified | unspecified | cz        |\n",
      "| 2019-06-03 00:00:00 | 1900081481 | COD           | S114        |         -1 |               0 |               3.2031  |   0         |             3.2031  | E-COMMER     | RUN.czC   | RUN.czO  | top4running.cz  | 2019-06-03 09:16:00 | Sleva                                  | unspecified      |         -1 | no_manufacturer  |         999 | Other     |           0 | unspecified     |           0 | unspecified             | unspecified | unspecified | unspecified | unspecified | unspecified | cz        |\n",
      "| 2019-06-03 00:00:00 | 1900081561 | CARD_CSOB     | ZB00001005  |          1 |               0 |              23.0314  |  12.4031    |            25.5942  | E-COMMER     | RUN.czC   | RUN.czO  | top4running.cz  | 2019-06-03 09:17:00 | Fly By Graphic Waistband Short         | 1331828-001      |        106 | Under Armour     |         200 | Apparel   |         240 | Pants           |         242 | Shorts                  | running     | women       | adults      | Black       | M           | cz        |\n",
      "| 2019-06-03 00:00:00 | 1900081481 | COD           | ZB00010516  |          1 |               0 |              63.4248  |  52.6318    |           105.676   | E-COMMER     | RUN.czC   | RUN.czO  | top4running.cz  | 2019-06-03 09:16:00 | W NIKE AIR ZOOM PEGASUS 35 PRM         | ah8392-400       |         84 | Nike             |         100 | Footwear  |         120 | Running shoes   |           0 | unspecified             | running     | women       | adults      | Blue        | 38          | cz        |\n",
      "| 2019-06-03 00:00:00 | 1900081697 | CARD_CSOB     | ZB00006740  |          1 |               0 |              18.0023  |  12.0795    |            23.9926  | E-COMMER     | RUN.czC   | RUN.czO  | top4running.cz  | 2019-06-03 10:44:00 | Under Armour New Play Up Short         | 1292231-002      |        106 | Under Armour     |         200 | Apparel   |         240 | Pants           |         242 | Shorts                  | fitness     | women       | adults      | Black       | S           | cz        |\n",
      "| 2019-06-03 00:00:00 | 1900081697 | CARD_CSOB     | ZB00000273  |          1 |               0 |              28.7977  |  18.6047    |            38.4074  | E-COMMER     | RUN.czC   | RUN.czO  | top4running.cz  | 2019-06-03 10:44:00 | UA VANISH Mid Bra                      | 1311811-003      |        106 | Under Armour     |         200 | Apparel   |         285 | Bras            |           0 | unspecified             | fitness     | women       | adults      | Black       | S/M         | cz        |\n",
      "| 2019-06-03 00:00:00 | 1900081645 | CARD_CSOB     | ZB00012240  |          1 |               0 |             132.584   | 102.65      |           220.994   | E-COMMER     | FTB.czC   | FTB.czO  | 11teamsports.cz | 2019-06-03 11:57:00 | SUPERFLY 6 ELITE FG                    | ah7365-077       |         84 | Nike             |         100 | Footwear  |         110 | Football shoes  |           0 | unspecified             | football    | men         | adults      | Black       | 44          | cz        |\n",
      "| 2019-06-03 00:00:00 | 1900081561 | CARD_CSOB     | ZB00009619  |          1 |               0 |              22.1988  |   9.88605   |            28.7977  | E-COMMER     | RUN.czC   | RUN.czO  | top4running.cz  | 2019-06-03 09:17:00 | M NP TOP LS COMP                       | 838077-010       |         84 | Nike             |         200 | Apparel   |         230 | T-Shirts        |         233 | Longsleeved (LS) shirts | football    | men         | adults      | Black       | S           | cz        |\n",
      "| 2019-06-03 00:00:00 | 1900081697 | CARD_CSOB     | ZB00023763  |          1 |               0 |               8.39264 |   7.44767   |            11.1795  | E-COMMER     | RUN.czC   | RUN.czO  | top4running.cz  | 2019-06-03 10:44:00 | UA Heatgear Tech Low Cut               | 1312430-100      |        106 | Under Armour     |         200 | Apparel   |         290 | Socks           |           0 | unspecified             | fitness     | unisex      | adults      | White       | M           | cz        |\n",
      "| 2019-06-03 00:00:00 | 1900081551 | COD           | S114        |         -1 |               0 |               3.2031  |   0         |             3.2031  | E-COMMER     | FTB.czC   | FTB.czO  | 11teamsports.cz | 2019-06-03 09:17:00 | Sleva                                  | unspecified      |         -1 | no_manufacturer  |         999 | Other     |           0 | unspecified     |           0 | unspecified             | unspecified | unspecified | unspecified | unspecified | unspecified | cz        |\n",
      "| 2019-06-03 00:00:00 | 1900081481 | COD           | S113        |          1 |               0 |               0.92907 |   0         |             0.92907 | E-COMMER     | RUN.czC   | RUN.czO  | top4running.cz  | 2019-06-03 09:16:00 | Platba                                 | unspecified      |         -1 | no_manufacturer  |         999 | Other     |           0 | unspecified     |           0 | unspecified             | unspecified | unspecified | unspecified | unspecified | unspecified | cz        |\n",
      "| 2019-06-03 00:00:00 | 1900081728 | PAYPAL        | ZB00023252  |          1 |               0 |              41.6975  |  42.7178    |            82.6945  | E-COMMER     | RUN.comC  | RUN.comO | top4running.com | 2019-06-03 08:01:00 | NIKE AIR SAFARI                        | 371740-012       |         84 | Nike             |         100 | Footwear  |         199 | Other Footwear  |           0 | unspecified             | lifestyle   | men         | adults      | Silver      | 42,5        | com       |\n",
      "| 2019-06-03 00:00:00 | 1900081697 | CARD_CSOB     | S114        |         -1 |               0 |               3.2031  |   0         |             3.2031  | E-COMMER     | RUN.czC   | RUN.czO  | top4running.cz  | 2019-06-03 10:44:00 | Sleva                                  | unspecified      |         -1 | no_manufacturer  |         999 | Other     |           0 | unspecified     |           0 | unspecified             | unspecified | unspecified | unspecified | unspecified | unspecified | cz        |\n",
      "| 2019-06-03 00:00:00 | 1900081697 | CARD_CSOB     | ZB00011073  |          1 |               0 |              19.1876  |  12.4031    |            25.5942  | E-COMMER     | RUN.czC   | RUN.czO  | top4running.cz  | 2019-06-03 10:44:00 | UA HG Armour SS                        | 1328964-001      |        106 | Under Armour     |         200 | Apparel   |         230 | T-Shirts        |           0 | unspecified             | fitness     | women       | adults      | Black       | S/M         | cz        |\n",
      "| 2019-06-03 00:00:00 | 1900081561 | CARD_CSOB     | S114        |         -1 |               0 |               3.2031  |   0         |             3.2031  | E-COMMER     | RUN.czC   | RUN.czO  | top4running.cz  | 2019-06-03 09:17:00 | Sleva                                  | unspecified      |         -1 | no_manufacturer  |         999 | Other     |           0 | unspecified     |           0 | unspecified             | unspecified | unspecified | unspecified | unspecified | unspecified | cz        |\n",
      "| 2019-06-03 00:00:00 | 1900081561 | CARD_CSOB     | S101        |          1 |               0 |               2.21008 |   0         |             2.21008 | E-COMMER     | RUN.czC   | RUN.czO  | top4running.cz  | 2019-06-03 09:17:00 | Dopravné                               | unspecified      |         -1 | no_manufacturer  |         999 | Other     |           0 | unspecified     |           0 | unspecified             | unspecified | unspecified | unspecified | unspecified | unspecified | cz        |\n",
      "| 2019-06-03 00:00:00 | 1900081697 | CARD_CSOB     | ZB00000699  |          1 |               0 |              26.395   |  19.1814    |            35.2039  | E-COMMER     | RUN.czC   | RUN.czO  | top4running.cz  | 2019-06-03 10:44:00 | Fly By Mini 2-in-1                     | 1328163-001      |        106 | Under Armour     |         200 | Apparel   |         240 | Pants           |         242 | Shorts                  | running     | women       | adults      | Black       | S/M         | cz        |\n",
      "| 2019-06-03 00:00:00 | 1900081697 | CARD_CSOB     | ZB00021901  |          1 |               0 |              26.395   |  17.0543    |            35.2039  | E-COMMER     | RUN.czC   | RUN.czO  | top4running.cz  | 2019-06-03 10:44:00 | Crossback Graphic                      | 1317111-001      |        106 | Under Armour     |         200 | Apparel   |         285 | Bras            |           0 | unspecified             | running     | women       | adults      | Black       | S/M         | cz        |\n",
      "| 2019-06-03 00:00:00 | 1900081856 | COD           | ZB00026563  |          1 |               0 |              54.2057  |  26.7516    |            54.2057  | E-COMMER     | FTB.skC   | FTB.skO  | 11teamsports.sk | 2019-06-03 09:23:00 | LEGEND 7 ACADEMY FG                    | ah7242-118       |         84 | Nike             |         100 | Footwear  |         110 | Football shoes  |           0 | unspecified             | football    | men         | adults      | White       | 39          | sk        |\n",
      "| 2019-06-03 00:00:00 | 1900081481 | COD           | S101        |          1 |               0 |               1.56977 |   0         |             1.56977 | E-COMMER     | RUN.czC   | RUN.czO  | top4running.cz  | 2019-06-03 09:16:00 | Dopravné                               | unspecified      |         -1 | no_manufacturer  |         999 | Other     |           0 | unspecified     |           0 | unspecified             | unspecified | unspecified | unspecified | unspecified | unspecified | cz        |\n",
      "| 2019-06-04 00:00:00 | 1900080515 | CARD_CSOB     | ZB00000385  |          1 |               0 |              11.1795  |   8.12326   |            15.9845  | E-COMMER     | FTB.czC   | FTB.czO  | 11teamsports.cz | 2019-06-04 15:31:00 | NK HERITAGE HIP PACK                   | ba5750-605       |         84 | Nike             |         300 | Equipment |         305 | Bags            |           0 | unspecified             | football    | unisex      | adults      | Pink        | ks          | cz        |\n",
      "| 2019-06-04 00:00:00 | 1900080514 | COD           | ZB00007916  |          1 |               0 |              17.2245  |  12.6612    |            22.9069  | E-COMMER     | FTB.roC   | FTB.roO  | 11teamsports.ro | 2019-06-04 15:31:00 | RC FEF TEE- SPEEDWICK                  | dt2772           |         88 | Reebok           |         200 | Apparel   |         230 | T-Shirts        |           0 | unspecified             | fitness     | men         | adults      | Black       | M           | ro        |\n",
      "| 2019-06-04 00:00:00 | 1900080514 | COD           | S101        |          1 |               0 |               2.66472 |   0         |             2.86822 | E-COMMER     | FTB.roC   | FTB.roO  | 11teamsports.ro | 2019-06-04 15:31:00 | Dopravné                               | unspecified      |         -1 | no_manufacturer  |         999 | Other     |           0 | unspecified     |           0 | unspecified             | unspecified | unspecified | unspecified | unspecified | unspecified | ro        |\n",
      "| 2019-06-04 00:00:00 | 1900080516 | COD           | S101        |          1 |               0 |               2.66472 |   0         |             2.86822 | E-COMMER     | FTB.roC   | FTB.roO  | 11teamsports.ro | 2019-06-04 15:31:00 | Dopravné                               | unspecified      |         -1 | no_manufacturer  |         999 | Other     |           0 | unspecified     |           0 | unspecified             | unspecified | unspecified | unspecified | unspecified | unspecified | ro        |\n",
      "| 2019-06-04 00:00:00 | 1900080516 | COD           | ZB00010633  |          1 |               0 |              15.0944  |  10.8527    |            21.4868  | E-COMMER     | FTB.roC   | FTB.roO  | 11teamsports.ro | 2019-06-04 15:31:00 | UA SPORTSTYLE LC SS                    | 1326799-289      |        106 | Under Armour     |         200 | Apparel   |         230 | T-Shirts        |           0 | unspecified             | football    | men         | adults      | Brown       | M           | ro        |\n",
      "| 2019-06-04 00:00:00 | 1900080518 | COD           | ZB00023141  |          1 |               0 |              37.2868  |  35.0814    |            62.1527  | E-COMMER     | FTB.huC   | FTB.huO  | 11teamsports.hu | 2019-06-04 15:32:00 | WL420                                  | wl420npn         |        123 | New Balance      |         100 | Footwear  |         199 | Other Footwear  |           0 | unspecified             | lifestyle   | women       | adults      | Blue        | 37,5        | hu        |\n",
      "| 2019-06-04 00:00:00 | 1900080518 | COD           | S101        |          1 |               0 |               2.4111  |   0         |             2.86822 | E-COMMER     | FTB.huC   | FTB.huO  | 11teamsports.hu | 2019-06-04 15:32:00 | Dopravné                               | unspecified      |         -1 | no_manufacturer  |         999 | Other     |           0 | unspecified     |           0 | unspecified             | unspecified | unspecified | unspecified | unspecified | unspecified | hu        |\n",
      "| 2019-06-04 00:00:00 | 1900080519 | COD           | ZB00004599  |          1 |               0 |              55.1873  |  37.7519    |            68.972   | E-COMMER     | FTB.huC   | FTB.huO  | 11teamsports.hu | 2019-06-04 15:32:00 | NEMEZIZ 193 LL FG                      | f99997           |         85 | adidas           |         100 | Footwear  |         110 | Football shoes  |           0 | unspecified             | football    | men         | adults      | Red         | 43,3        | hu        |\n",
      "| 2019-06-04 00:00:00 | 1900080515 | CARD_CSOB     | S101        |          1 |               0 |               1.56977 |   0         |             2.86822 | E-COMMER     | FTB.czC   | FTB.czO  | 11teamsports.cz | 2019-06-04 15:31:00 | Dopravné                               | unspecified      |         -1 | no_manufacturer  |         999 | Other     |           0 | unspecified     |           0 | unspecified             | unspecified | unspecified | unspecified | unspecified | unspecified | cz        |\n",
      "| 2019-06-04 00:00:00 | 1900080511 | COD           | ZB00019767  |          1 |               0 |              59.4494  |  55.2353    |            99.0742  | E-COMMER     | RUN.huC   | RUN.huO  | top4running.hu  | 2019-06-04 15:31:00 | W NIKE AIR ZOOM PEGASUS 35 PRM         | ah8392-100       |         84 | Nike             |         100 | Footwear  |         120 | Running shoes   |           0 | unspecified             | running     | women       | adults      | White       | 40,5        | hu        |\n",
      "| 2019-06-04 00:00:00 | 1900081808 | COD           | ZB00014749  |          1 |               0 |             127.678   |  87.2229    |           150.053   | E-COMMER     | FTB.roC   | FTB.roO  | 11teamsports.ro | 2019-06-04 18:34:00 | AIR VAPORMAX 2019                      | ar6631-004       |         84 | Nike             |         100 | Footwear  |         199 | Other Footwear  |           0 | unspecified             | football    | men         | adults      | Black       | 41          | ro        |\n",
      "+---------------------+------------+---------------+-------------+------------+-----------------+-----------------------+-------------+---------------------+--------------+-----------+----------+-----------------+---------------------+----------------------------------------+------------------+------------+------------------+-------------+-----------+-------------+-----------------+-------------+-------------------------+-------------+-------------+-------------+-------------+-------------+-----------+\n"
     ]
    }
   ],
   "source": [
    "dc.print_df_with_dtypes(df_FE, max_rows=200, print_on=True, data_generated_path=DATA_GENERATED_PATH, name_extension='EDA_FE')"
   ]
  },
  {
   "cell_type": "code",
   "execution_count": 14,
   "metadata": {},
   "outputs": [
    {
     "name": "stdout",
     "output_type": "stream",
     "text": [
      "Top 10 countries with the most sales:\n"
     ]
    },
    {
     "data": {
      "text/plain": [
       "country\n",
       "cz       726336\n",
       "sk       367676\n",
       "hu       293089\n",
       "ro       285730\n",
       "de       123385\n",
       "es       120998\n",
       "fr        74731\n",
       "it        43002\n",
       "hr        38192\n",
       "com       37328\n",
       "ie        17892\n",
       "dk        15347\n",
       "nl        11550\n",
       "at        10988\n",
       "se         8472\n",
       "pt         5445\n",
       "pl         4490\n",
       "be         3622\n",
       "fi         1787\n",
       "si          712\n",
       "other        70\n",
       "uk           14\n",
       "bg            6\n",
       "Name: quantity, dtype: int64"
      ]
     },
     "execution_count": 14,
     "metadata": {},
     "output_type": "execute_result"
    }
   ],
   "source": [
    "# Print the top 10 countries with the most sales\n",
    "print('Top 10 countries with the most sales:')\n",
    "\n",
    "# gouping by country, see which countries have the most sales\n",
    "df_FE.groupby('country')['quantity'].sum().sort_values(ascending=False)\n"
   ]
  },
  {
   "cell_type": "code",
   "execution_count": 15,
   "metadata": {},
   "outputs": [
    {
     "data": {
      "text/plain": [
       "49.997344831232304"
      ]
     },
     "execution_count": 15,
     "metadata": {},
     "output_type": "execute_result"
    },
    {
     "data": {
      "text/plain": [
       "63.41647379489409"
      ]
     },
     "execution_count": 15,
     "metadata": {},
     "output_type": "execute_result"
    },
    {
     "data": {
      "text/plain": [
       "76.40001409824124"
      ]
     },
     "execution_count": 15,
     "metadata": {},
     "output_type": "execute_result"
    },
    {
     "data": {
      "text/plain": [
       "82.15599703936934"
      ]
     },
     "execution_count": 15,
     "metadata": {},
     "output_type": "execute_result"
    },
    {
     "data": {
      "text/plain": [
       "87.75050812411152"
      ]
     },
     "execution_count": 15,
     "metadata": {},
     "output_type": "execute_result"
    }
   ],
   "source": [
    "# count the number of records from [cz, sk, hu, ro, de, es] is how many percent of the total number of records\n",
    "df_FE[df_FE['country'].isin(['cz', 'sk'])].shape[0] / df_FE.shape[0] * 100\n",
    "df_FE[df_FE['country'].isin(['cz', 'sk', 'hu'])].shape[0] / df_FE.shape[0] * 100\n",
    "df_FE[df_FE['country'].isin(['cz', 'sk', 'hu', 'ro'])].shape[0] / df_FE.shape[0] * 100\n",
    "df_FE[df_FE['country'].isin(['cz', 'sk', 'hu', 'ro', 'de'])].shape[0] / df_FE.shape[0] * 100\n",
    "df_FE[df_FE['country'].isin(['cz', 'sk', 'hu', 'ro', 'de', 'es'])].shape[0] / df_FE.shape[0] * 100"
   ]
  },
  {
   "cell_type": "code",
   "execution_count": 16,
   "metadata": {},
   "outputs": [
    {
     "name": "stdout",
     "output_type": "stream",
     "text": [
      "+---------------------+------------+---------------+-------------+------------+-----------------+-----------------------+-------------+---------------------+--------------+-----------+----------+-----------------+---------------------+----------------------------------------+------------------+------------+------------------+-------------+-----------+-------------+-----------------+-------------+-------------------------+-------------+-------------+-------------+-------------+-------------+-----------+\n",
      "| date                |   order_id | payment       | item_code   |   quantity |   gift_quantity |   unit_price_vat_excl |   unit_cogs |   unit_rrp_vat_excl | department   | channel   | owner    | site            | CreatedAt           | item_name                              | style            |   brand_id | brand_name       |   group0_id | group0    |   group1_id | group1          |   group2_id | group2                  | category    | gender      | age         | color       | size        | country   |\n",
      "|                     |     string | object        | object      |      int64 |           int64 |               float64 |     float64 |             float64 | object       | object    | object   | object          | datetime64[ns]      | object                                 | object           |     string | object           |      string | object    |      string | object          |      string | object                  | object      | object      | object      | object      | object      | object    |\n",
      "|                     |     NaN: 0 | NaN: 0        | NaN: 0      |     NaN: 0 |          NaN: 0 |                NaN: 0 |      NaN: 0 |              NaN: 0 | NaN: 0       | NaN: 0    | NaN: 0   | NaN: 0          | NaN: 0              | NaN: 0                                 | NaN: 0           |     NaN: 0 | NaN: 0           |      NaN: 0 | NaN: 0    |      NaN: 0 | NaN: 0          |      NaN: 0 | NaN: 0                  | NaN: 0      | NaN: 0      | NaN: 0      | NaN: 0      | NaN: 0      | NaN: 0    |\n",
      "|---------------------+------------+---------------+-------------+------------+-----------------+-----------------------+-------------+---------------------+--------------+-----------+----------+-----------------+---------------------+----------------------------------------+------------------+------------+------------------+-------------+-----------+-------------+-----------------+-------------+-------------------------+-------------+-------------+-------------+-------------+-------------+-----------|\n",
      "| 2019-06-01 00:00:00 | 1900079924 | CARD_CSOB     | ZB00023833  |          1 |               0 |              22.3267  |  15.5039    |            32.0008  | E-COMMER     | Sport.cC  | Sport.cO | top4sport.cz    | 2019-06-01 09:37:00 | MK1 Short 7in                          | 1312292-001      |        106 | Under Armour     |         200 | Apparel   |         240 | Pants           |         242 | Shorts                  | fitness     | men         | adults      | Black       | M           | cz        |\n",
      "| 2019-06-01 00:00:00 | 1900079006 | COD           | ZB00000154  |          1 |               0 |              10.3787  |   8.06938   |            15.9845  | E-COMMER     | RUN.czC   | RUN.czO  | top4running.cz  | 2019-06-01 06:26:00 | W NK RUN TOP SS                        | 890353-100       |         84 | Nike             |         200 | Apparel   |         230 | T-Shirts        |           0 | unspecified             | running     | women       | adults      | White       | XS          | cz        |\n",
      "| 2019-06-01 00:00:00 | 1900079006 | COD           | ZB00007330  |          1 |               0 |              14.9593  |  10.7171    |            25.3058  | E-COMMER     | RUN.czC   | RUN.czO  | top4running.cz  | 2019-06-01 06:26:00 | W NK DRY MILER TOP SS                  | 932499-823       |         84 | Nike             |         200 | Apparel   |         230 | T-Shirts        |           0 | unspecified             | running     | women       | adults      | Pink        | XS          | cz        |\n",
      "| 2019-06-01 00:00:00 | 1900079006 | COD           | ZB00018948  |          1 |               0 |              25.5942  |  13.007     |            25.5942  | E-COMMER     | RUN.czC   | RUN.czO  | top4running.cz  | 2019-06-01 06:26:00 | W NK MILER TANK SURF                   | aq5179-686       |         84 | Nike             |         200 | Apparel   |         230 | T-Shirts        |         235 | Tank                    | running     | women       | adults      | Pink        | XS          | cz        |\n",
      "| 2019-06-01 00:00:00 | 1900079006 | COD           | ZB00022416  |          1 |               0 |              28.7977  |  14.6349    |            28.7977  | E-COMMER     | RUN.czC   | RUN.czO  | top4running.cz  | 2019-06-01 06:26:00 | W NK AIR SHORT                         | aq5634-100       |         84 | Nike             |         200 | Apparel   |         240 | Pants           |         242 | Shorts                  | running     | women       | adults      | White       | XS          | cz        |\n",
      "| 2019-06-01 00:00:00 | 1900079006 | COD           | S113        |          1 |               0 |               0.92907 |   0         |             0.92907 | E-COMMER     | RUN.czC   | RUN.czO  | top4running.cz  | 2019-06-01 06:26:00 | Platba                                 | unspecified      |         -1 | no_manufacturer  |         999 | Other     |           0 | unspecified     |           0 | unspecified             | unspecified | unspecified | unspecified | unspecified | unspecified | cz        |\n",
      "| 2019-06-01 00:00:00 | 1900079010 | COD           | ZB00016698  |          1 |               0 |             132.295   |  72.662     |           188.962   | E-COMMER     | FTB.czC   | FTB.czO  | 11teamsports.cz | 2019-06-01 06:26:00 | X 181 FG                               | bb9347           |         85 | adidas           |         100 | Footwear  |         110 | Football shoes  |           0 | unspecified             | football    | men         | adults      | Red         | 42,7        | cz        |\n",
      "| 2019-06-01 00:00:00 | 1900079010 | COD           | ZB00026001  |          1 |               0 |             132.295   |  83.0682    |           188.962   | E-COMMER     | FTB.czC   | FTB.czO  | 11teamsports.cz | 2019-06-01 06:26:00 | X 181 SG                               | bb9359           |         85 | adidas           |         100 | Footwear  |         110 | Football shoes  |           0 | unspecified             | football    | men         | adults      | Red         | 43,3        | cz        |\n",
      "| 2019-06-01 00:00:00 | 1900079010 | COD           | S113        |          1 |               0 |               0.92907 |   0         |             0.92907 | E-COMMER     | FTB.czC   | FTB.czO  | 11teamsports.cz | 2019-06-01 06:26:00 | Platba                                 | unspecified      |         -1 | no_manufacturer  |         999 | Other     |           0 | unspecified     |           0 | unspecified             | unspecified | unspecified | unspecified | unspecified | unspecified | cz        |\n",
      "| 2019-06-01 00:00:00 | 1900079011 | CARD_CSOB     | ZB00009549  |          1 |               0 |              17.9384  |  16.4775    |            25.5942  | E-COMMER     | FTB.czC   | FTB.czO  | 11teamsports.cz | 2019-06-01 09:31:00 | HG SS                                  | 1257468-001      |        106 | Under Armour     |         200 | Apparel   |         230 | T-Shirts        |         236 | Compression shirts      | fitness     | men         | adults      | Black       | M           | cz        |\n",
      "| 2019-06-01 00:00:00 | 1900079011 | CARD_CSOB     | ZB00026129  |          1 |               0 |               6.37442 |   3.94884   |            10.5388  | E-COMMER     | FTB.czC   | FTB.czO  | 11teamsports.cz | 2019-06-01 09:31:00 | PER CREW T 3PP                         | aa2330           |         85 | adidas           |         200 | Apparel   |         290 | Socks           |           0 | unspecified             | fitness     | unisex      | adults      | Black       | 39-42       | cz        |\n",
      "| 2019-06-01 00:00:00 | 1900079011 | CARD_CSOB     | ZB00000044  |          1 |               0 |              48.0171  |  28.0554    |            80.05    | E-COMMER     | FTB.czC   | FTB.czO  | 11teamsports.cz | 2019-06-01 09:31:00 | TEAM Match Ball                        | cz2235           |         85 | adidas           |         300 | Equipment |         320 | Balls           |           0 | unspecified             | football    | men         | adults      | White       | 5           | cz        |\n",
      "| 2019-06-01 00:00:00 | 1900079011 | CARD_CSOB     | S114        |         -1 |               0 |               3.2031  |   0         |             3.2031  | E-COMMER     | FTB.czC   | FTB.czO  | 11teamsports.cz | 2019-06-01 09:31:00 | Sleva                                  | unspecified      |         -1 | no_manufacturer  |         999 | Other     |           0 | unspecified     |           0 | unspecified             | unspecified | unspecified | unspecified | unspecified | unspecified | cz        |\n",
      "| 2019-06-01 00:00:00 | 1900079027 | GOPAY_CARD    | ZB00026129  |          1 |               0 |               6.55432 |   3.97054   |            10.0866  | E-COMMER     | RUN.deC   | RUN.deO  | top4running.de  | 2019-06-01 06:31:00 | PER CREW T 3PP                         | aa2330           |         85 | adidas           |         200 | Apparel   |         290 | Socks           |           0 | unspecified             | fitness     | unisex      | adults      | Black       | 39-42       | de        |\n",
      "| 2019-06-01 00:00:00 | 1900079030 | COD           | ZB00025621  |          1 |               0 |              37.8628  |  14.4395    |            44.5256  | E-COMMER     | FTB.czC   | FTB.czO  | 11teamsports.cz | 2019-06-01 06:32:00 | M NK Team Club Hoody                   | 658498-463       |         84 | Nike             |         200 | Apparel   |         220 | Sweatshirts     |         221 | With hood               | lifestyle   | men         | adults      | unspecified | L           | cz        |\n",
      "| 2019-06-01 00:00:00 | 1900079030 | COD           | ZB00026033  |          1 |               0 |              26.8116  |  14.0167    |            44.5256  | E-COMMER     | FTB.czC   | FTB.czO  | 11teamsports.cz | 2019-06-01 06:32:00 | Nike Team Club Crew                    | 658681-463       |         84 | Nike             |         200 | Apparel   |         220 | Sweatshirts     |           0 | unspecified             | football    | men         | adults      | Blue        | L           | cz        |\n",
      "| 2019-06-01 00:00:00 | 1900079030 | COD           | ZB00000094  |          1 |               0 |              11.2756  |   5.48101   |            14.3826  | E-COMMER     | FTB.czC   | FTB.czO  | 11teamsports.cz | 2019-06-01 06:32:00 | PARK II KNIT SHORT NB                  | 725887-463       |         84 | Nike             |         200 | Apparel   |         240 | Pants           |         242 | Shorts                  | football    | men         | adults      | Blue        | L           | cz        |\n",
      "| 2019-06-01 00:00:00 | 1900079030 | COD           | ZB00026511  |          1 |               0 |              16.5291  |   8.37752   |            23.9926  | E-COMMER     | FTB.czC   | FTB.czO  | 11teamsports.cz | 2019-06-01 06:32:00 | CORE18 PES PNT                         | cv3585           |         85 | adidas           |         200 | Apparel   |         240 | Pants           |           0 | unspecified             | football    | men         | adults      | Blue        | L           | cz        |\n",
      "| 2019-06-01 00:00:00 | 1900078998 | CARD_CSOB     | S101        |          1 |               0 |               1.56977 |   0         |             1.56977 | E-COMMER     | FTB.czC   | FTB.czO  | 11teamsports.cz | 2019-06-01 06:26:00 | Dopravné                               | unspecified      |         -1 | no_manufacturer  |         999 | Other     |           0 | unspecified     |           0 | unspecified             | unspecified | unspecified | unspecified | unspecified | unspecified | cz        |\n",
      "| 2019-06-01 00:00:00 | 1900078998 | CARD_CSOB     | ZB00025631  |          1 |               0 |              21.8143  |  11.781     |            35.2039  | E-COMMER     | FTB.czC   | FTB.czO  | 11teamsports.cz | 2019-06-01 06:26:00 | CORE18 RN JKT                          | ce9048           |         85 | adidas           |         200 | Apparel   |         215 | Jackets         |           0 | unspecified             | football    | men         | adults      | Black       | M           | cz        |\n",
      "| 2019-06-01 00:00:00 | 1900078996 | COD           | ZB00026793  |          1 |               0 |              45.1998  |  28.0252    |            58.3684  | E-COMMER     | FTB.skC   | FTB.skO  | 11teamsports.sk | 2019-06-01 09:34:00 | M NSW NIKE AIR HOODIE PO FLC           | ar1817-010       |         84 | Nike             |         200 | Apparel   |         220 | Sweatshirts     |         221 | With hood               | football    | men         | adults      | Black       | M           | sk        |\n",
      "| 2019-06-01 00:00:00 | 1900078992 | COD           | ZB00026483  |          1 |               0 |               7.74962 |   6.05271   |            11.0535  | E-COMMER     | FTB.huC   | FTB.huO  | 11teamsports.hu | 2019-06-01 06:25:00 | NK GK MATCH JR-FA18                    | gs0368-095       |         84 | Nike             |         300 | Equipment |         280 | Gloves          |         327 | Football gloves         | football    | unisex      | kids        | Silver      | 8           | hu        |\n",
      "| 2019-06-01 00:00:00 | 1900080152 | CARD_CSOB     | ZB00013828  |          1 |               0 |              25.3058  |  11.2612    |             0       | E-COMMER     | RUN.czC   | RUN.czO  | top4running.cz  | 2019-06-01 09:32:00 | W NP TOP SS ALL OVER MESH Zlatá tretra | 889540-617-zt    |         84 | Nike             |         200 | Apparel   |         230 | T-Shirts        |           0 | unspecified             | running     | women       | adults      | Pink        | S           | cz        |\n",
      "| 2019-06-01 00:00:00 | 1900080152 | CARD_CSOB     | S101        |          1 |               0 |               2.21008 |   0         |             2.21008 | E-COMMER     | RUN.czC   | RUN.czO  | top4running.cz  | 2019-06-01 09:32:00 | Dopravné                               | unspecified      |         -1 | no_manufacturer  |         999 | Other     |           0 | unspecified     |           0 | unspecified             | unspecified | unspecified | unspecified | unspecified | unspecified | cz        |\n",
      "| 2019-06-01 00:00:00 | 1900079354 | COD           | ZB00005571  |          2 |               0 |              53.1755  |   8.1345    |            57.7843  | E-COMMER     | RUN.roC   | RUN.roO  | top4running.ro  | 2019-06-01 08:51:00 | NIKE ZOOM RIVAL S 9                    | 907564-017       |         84 | Nike             |         100 | Footwear  |         120 | Running shoes   |         123 | Spikes                  | running     | unisex      | adults      | Black       | 42          | ro        |\n",
      "| 2019-06-01 00:00:00 | 1900078889 | PAYPAL        | ZB00023011  |          1 |               0 |              85.096   |  46.1446    |            92.5009  | E-COMMER     | RUN.deC   | RUN.deO  | top4running.de  | 2019-06-01 08:48:00 | NIKE ZOOM ROTATIONAL 6                 | 685131-600       |         84 | Nike             |         100 | Footwear  |         120 | Running shoes   |         123 | Spikes                  | running     | unisex      | adults      | Dark red    | 39          | de        |\n",
      "| 2019-06-01 00:00:00 | 1900078912 | CARD_CSOB     | ZB00026115  |          1 |               0 |              15.3756  |   7.22403   |            20.7891  | E-COMMER     | FTB.czC   | FTB.czO  | 11teamsports.cz | 2019-06-01 06:35:00 | B NP SHORT                             | 858226-011       |         84 | Nike             |         200 | Apparel   |         240 | Pants           |         244 | Compression pants       | fitness     | unisex      | kids        | Black       | L           | cz        |\n",
      "| 2019-06-01 00:00:00 | 1900078912 | CARD_CSOB     | S101        |          1 |               0 |               2.21008 |   0         |             2.21008 | E-COMMER     | FTB.czC   | FTB.czO  | 11teamsports.cz | 2019-06-01 06:35:00 | Dopravné                               | unspecified      |         -1 | no_manufacturer  |         999 | Other     |           0 | unspecified     |           0 | unspecified             | unspecified | unspecified | unspecified | unspecified | unspecified | cz        |\n",
      "| 2019-06-01 00:00:00 | 1900078912 | CARD_CSOB     | S114        |         -1 |               0 |               3.2031  |   0         |             3.2031  | E-COMMER     | FTB.czC   | FTB.czO  | 11teamsports.cz | 2019-06-01 06:35:00 | Sleva                                  | unspecified      |         -1 | no_manufacturer  |         999 | Other     |           0 | unspecified     |           0 | unspecified             | unspecified | unspecified | unspecified | unspecified | unspecified | cz        |\n",
      "| 2019-06-01 00:00:00 | 1900078939 | CARD_CSOB     | ZB00025744  |          1 |               0 |              76.8787  |  46.0527    |            96.0663  | E-COMMER     | FTB.czC   | FTB.czO  | 11teamsports.cz | 2019-06-01 09:31:00 | VAPOR 12 PRO FG                        | ah7382-077       |         84 | Nike             |         100 | Footwear  |         110 | Football shoes  |           0 | unspecified             | football    | men         | adults      | Black       | 44          | cz        |\n",
      "| 2019-06-01 00:00:00 | 1900079030 | COD           | S113        |          1 |               0 |               0.92907 |   0         |             0.92907 | E-COMMER     | FTB.czC   | FTB.czO  | 11teamsports.cz | 2019-06-01 06:32:00 | Platba                                 | unspecified      |         -1 | no_manufacturer  |         999 | Other     |           0 | unspecified     |           0 | unspecified             | unspecified | unspecified | unspecified | unspecified | unspecified | cz        |\n",
      "| 2019-06-01 00:00:00 | 1900078940 | CARD_CSOB     | ZB00025745  |          1 |               0 |              45.6469  |  24.0399    |            60.8302  | E-COMMER     | FTB.czC   | FTB.czO  | 11teamsports.cz | 2019-06-01 09:31:00 | VAPOR 12 ACADEMY SG                    | ah7376-070       |         84 | Nike             |         100 | Footwear  |         110 | Football shoes  |           0 | unspecified             | football    | men         | adults      | Silver      | 45          | cz        |\n",
      "| 2019-06-01 00:00:00 | 1900078940 | CARD_CSOB     | S114        |         -1 |               0 |               3.2031  |   0         |             3.2031  | E-COMMER     | FTB.czC   | FTB.czO  | 11teamsports.cz | 2019-06-01 09:31:00 | Sleva                                  | unspecified      |         -1 | no_manufacturer  |         999 | Other     |           0 | unspecified     |           0 | unspecified             | unspecified | unspecified | unspecified | unspecified | unspecified | cz        |\n",
      "| 2019-06-01 00:00:00 | 1900078963 | COD           | ZB00025954  |          1 |               0 |              40.643   |  26.7198    |            65.5681  | E-COMMER     | FTB.huC   | FTB.huO  | 11teamsports.hu | 2019-06-01 06:25:00 | M NK DRY SQD17 TRK SUIT K              | 832325-702       |         84 | Nike             |         200 | Apparel   |         250 | Tracksuits      |           0 | unspecified             | football    | men         | adults      | Green       | M           | hu        |\n",
      "| 2019-06-01 00:00:00 | 1900078989 | COD           | ZB00025779  |          1 |               0 |              20.7891  |   9.73256   |            20.7891  | E-COMMER     | STR.czC   | STR.czO  | tint-store.cz   | 2019-06-01 06:25:00 | Adidas Originals bucket hat hut        | dv0863           |        232 | adidas Originals |         200 | Apparel   |         210 | Caps            |           0 | unspecified             | lifestyle   | unisex      | adults      | Black       | OSFM        | cz        |\n",
      "| 2019-06-01 00:00:00 | 1900078989 | COD           | S101        |          1 |               0 |               1.56977 |   0         |             1.56977 | E-COMMER     | STR.czC   | STR.czO  | tint-store.cz   | 2019-06-01 06:25:00 | Dopravné                               | unspecified      |         -1 | no_manufacturer  |         999 | Other     |           0 | unspecified     |           0 | unspecified             | unspecified | unspecified | unspecified | unspecified | unspecified | cz        |\n",
      "| 2019-06-01 00:00:00 | 1900078989 | COD           | S113        |          1 |               0 |               0.92907 |   0         |             0.92907 | E-COMMER     | STR.czC   | STR.czO  | tint-store.cz   | 2019-06-01 06:25:00 | Platba                                 | unspecified      |         -1 | no_manufacturer  |         999 | Other     |           0 | unspecified     |           0 | unspecified             | unspecified | unspecified | unspecified | unspecified | unspecified | cz        |\n",
      "| 2019-06-01 00:00:00 | 1900078990 | COD           | ZB00025779  |          1 |               0 |              20.7891  |   9.73256   |            20.7891  | E-COMMER     | STR.czC   | STR.czO  | tint-store.cz   | 2019-06-01 08:01:00 | Adidas Originals bucket hat hut        | dv0863           |        232 | adidas Originals |         200 | Apparel   |         210 | Caps            |           0 | unspecified             | lifestyle   | unisex      | adults      | Black       | OSFM        | cz        |\n",
      "| 2019-06-01 00:00:00 | 1900078990 | COD           | S101        |          1 |               0 |               1.56977 |   0         |             1.56977 | E-COMMER     | STR.czC   | STR.czO  | tint-store.cz   | 2019-06-01 08:01:00 | Dopravné                               | unspecified      |         -1 | no_manufacturer  |         999 | Other     |           0 | unspecified     |           0 | unspecified             | unspecified | unspecified | unspecified | unspecified | unspecified | cz        |\n",
      "| 2019-06-01 00:00:00 | 1900078990 | COD           | S113        |          1 |               0 |               0.92907 |   0         |             0.92907 | E-COMMER     | STR.czC   | STR.czO  | tint-store.cz   | 2019-06-01 08:01:00 | Platba                                 | unspecified      |         -1 | no_manufacturer  |         999 | Other     |           0 | unspecified     |           0 | unspecified             | unspecified | unspecified | unspecified | unspecified | unspecified | cz        |\n",
      "| 2019-06-01 00:00:00 | 1900078940 | CARD_CSOB     | S101        |          1 |               0 |               1.56977 |   0         |             1.56977 | E-COMMER     | FTB.czC   | FTB.czO  | 11teamsports.cz | 2019-06-01 09:31:00 | Dopravné                               | unspecified      |         -1 | no_manufacturer  |         999 | Other     |           0 | unspecified     |           0 | unspecified             | unspecified | unspecified | unspecified | unspecified | unspecified | cz        |\n",
      "| 2019-06-01 00:00:00 | 1900080152 | CARD_CSOB     | ZB00000151  |          1 |               0 |              25.3058  |   9.0531    |             0       | E-COMMER     | RUN.czC   | RUN.czO  | top4running.cz  | 2019-06-01 09:32:00 | W NP TOP SS ALL OVER MESH Zlatá tretra | 889540-010-zt    |         84 | Nike             |         200 | Apparel   |         230 | T-Shirts        |           0 | unspecified             | running     | women       | adults      | Black       | S           | cz        |\n",
      "| 2019-06-01 00:00:00 | 1900079037 | CARD_CSOB     | ZB00025619  |          1 |               0 |              24.7934  |  11.0574    |            38.119   | E-COMMER     | FTB.czC   | VO_B_FTO | 11teamsports.cz | 2019-06-01 06:31:00 | ACADEMY14 SDLN WVN JKT - TEAMSPORT     | 588473-739       |         84 | Nike             |         200 | Apparel   |         215 | Jackets         |           0 | unspecified             | football    | unisex      | adults      | Yellow      | M           | cz        |\n",
      "| 2019-06-01 00:00:00 | 1900079037 | CARD_CSOB     | S101        |          1 |               0 |               1.56977 |   0         |             1.56977 | E-COMMER     | FTB.czC   | VO_B_FTO | 11teamsports.cz | 2019-06-01 06:31:00 | Dopravné                               | unspecified      |         -1 | no_manufacturer  |         999 | Other     |           0 | unspecified     |           0 | unspecified             | unspecified | unspecified | unspecified | unspecified | unspecified | cz        |\n",
      "| 2019-06-01 00:00:00 | 1900079122 | COD           | ZB00026709  |          1 |               0 |              38.4631  |  24.8899    |            63.8106  | E-COMMER     | FIT.roC   | FIT.roO  | top4fitness.ro  | 2019-06-01 06:34:00 | W NSW AV15 JKT KNT                     | 837458-100       |         84 | Nike             |         200 | Apparel   |         215 | Jackets         |           0 | unspecified             | football    | women       | adults      | Silver      | S           | ro        |\n",
      "| 2019-06-01 00:00:00 | 1900079924 | CARD_CSOB     | ZB00000394  |          1 |               0 |              23.0314  |  17.0407    |            25.5942  | E-COMMER     | Sport.cC  | Sport.cO | top4sport.cz    | 2019-06-01 09:37:00 | UA SPEED STRIDE SHORTSLEEVE-BLU        | 1326564-437      |        106 | Under Armour     |         200 | Apparel   |         230 | T-Shirts        |           0 | unspecified             | running     | men         | adults      | Blue        | S/M         | cz        |\n",
      "| 2019-06-01 00:00:00 | 1900079924 | CARD_CSOB     | S101        |          1 |               0 |               1.56977 |   0         |             1.56977 | E-COMMER     | Sport.cC  | Sport.cO | top4sport.cz    | 2019-06-01 09:37:00 | Dopravné                               | unspecified      |         -1 | no_manufacturer  |         999 | Other     |           0 | unspecified     |           0 | unspecified             | unspecified | unspecified | unspecified | unspecified | unspecified | cz        |\n",
      "| 2019-06-01 00:00:00 | 1900079924 | CARD_CSOB     | S114        |         -1 |               0 |               3.2031  |   0         |             3.2031  | E-COMMER     | Sport.cC  | Sport.cO | top4sport.cz    | 2019-06-01 09:37:00 | Sleva                                  | unspecified      |         -1 | no_manufacturer  |         999 | Other     |           0 | unspecified     |           0 | unspecified             | unspecified | unspecified | unspecified | unspecified | unspecified | cz        |\n",
      "| 2019-06-01 00:00:00 | 1900079845 | COD           | S114        |         -1 |               0 |               3.2031  |   0         |             3.2031  | E-COMMER     | STR.czC   | STR.czO  | tint-store.cz   | 2019-06-01 09:32:00 | Sleva                                  | unspecified      |         -1 | no_manufacturer  |         999 | Other     |           0 | unspecified     |           0 | unspecified             | unspecified | unspecified | unspecified | unspecified | unspecified | cz        |\n",
      "| 2019-06-01 00:00:00 | 1900079845 | COD           | S113        |          1 |               0 |               0.92907 |   0         |             0.92907 | E-COMMER     | STR.czC   | STR.czO  | tint-store.cz   | 2019-06-01 09:32:00 | Platba                                 | unspecified      |         -1 | no_manufacturer  |         999 | Other     |           0 | unspecified     |           0 | unspecified             | unspecified | unspecified | unspecified | unspecified | unspecified | cz        |\n",
      "| 2019-06-01 00:00:00 | 1900079845 | COD           | S101        |          1 |               0 |               2.85078 |   0         |             2.85078 | E-COMMER     | STR.czC   | STR.czO  | tint-store.cz   | 2019-06-01 09:32:00 | Dopravné                               | unspecified      |         -1 | no_manufacturer  |         999 | Other     |           0 | unspecified     |           0 | unspecified             | unspecified | unspecified | unspecified | unspecified | unspecified | cz        |\n",
      "| 2019-06-01 00:00:00 | 1900079845 | COD           | ZB00025984  |          1 |               0 |              57.6271  |  28.3442    |            57.6271  | E-COMMER     | STR.czC   | STR.czO  | tint-store.cz   | 2019-06-01 09:32:00 | DEERUPT RUNNER J                       | f34295           |        232 | adidas Originals |         100 | Footwear  |         199 | Other Footwear  |           0 | unspecified             | lifestyle   | unisex      | kids        | White       | 39,3        | cz        |\n",
      "| 2019-06-01 00:00:00 | 1900080490 | CARD_CSOB     | ZB00015845  |          1 |               0 |             114.165   |  87.5407    |           190.275   | E-COMMER     | FTB.czC   | FTB.czO  | 11teamsports.cz | 2019-06-01 11:57:00 | NEMEZIZ 191 FG                         | f34408           |         85 | adidas           |         100 | Footwear  |         110 | Football shoes  |           0 | unspecified             | football    | men         | adults      | Red         | 46          | cz        |\n",
      "| 2019-06-01 00:00:00 | 1900080490 | CARD_CSOB     | ZB00015803  |          1 |               0 |             114.165   |  87.5415    |           190.275   | E-COMMER     | FTB.czC   | FTB.czO  | 11teamsports.cz | 2019-06-01 11:57:00 | NEMEZIZ 191 SG                         | f99855           |         85 | adidas           |         100 | Footwear  |         110 | Football shoes  |           0 | unspecified             | football    | men         | adults      | Red         | 46          | cz        |\n",
      "| 2019-06-01 00:00:00 | 1900079295 | PAYPAL        | ZB00012026  |          1 |               0 |               8.24543 |  11.3791    |            22.6886  | E-COMMER     | FIT.deC   | FIT.deO  | top4fitness.de  | 2019-06-01 17:01:00 | NK ELMNTL BKPK                         | ba5381-346       |         84 | Nike             |         300 | Equipment |         310 | Backpacks       |           0 | unspecified             | football    | unisex      | adults      | Green       | ks          | de        |\n",
      "| 2019-06-01 00:00:00 | 1900079825 | GOPAY_CARD    | S101        |          1 |               0 |               5.00329 |   0         |             4.96327 | E-COMMER     | RUN.comC  | RUN.comO | top4running.com | 2019-06-01 08:01:00 | Dopravné                               | unspecified      |         -1 | no_manufacturer  |         999 | Other     |           0 | unspecified     |           0 | unspecified             | unspecified | unspecified | unspecified | unspecified | unspecified | com       |\n",
      "| 2019-06-01 00:00:00 | 1900079825 | GOPAY_CARD    | ZB00009040  |          1 |               0 |              53.4552  |   0.0387597 |            75.6698  | E-COMMER     | RUN.comC  | RUN.comO | top4running.com | 2019-06-01 08:01:00 | SAUCONY JAZZ ORIGINAL VINTAGE          | s60368-40        |        103 | Saucony          |         100 | Footwear  |         199 | Other Footwear  |           0 | unspecified             | lifestyle   | women       | adults      | Yellow      | 38          | com       |\n",
      "| 2019-06-01 00:00:00 | 1900080509 | COD           | ZB00022564  |          2 |               0 |              24.6333  |  17.0543    |            35.2039  | E-COMMER     | RUN.czC   | RUN.czO  | top4running.cz  | 2019-06-01 09:32:00 | Cotton Stretch 6 3 Pack                | 1277279-004      |        106 | Under Armour     |         200 | Apparel   |         260 | Underwear       |           0 | unspecified             | fitness     | men         | adults      | Black       | M           | cz        |\n",
      "| 2019-06-01 00:00:00 | 1900080509 | COD           | S101        |          1 |               0 |               1.56977 |   0         |             1.56977 | E-COMMER     | RUN.czC   | RUN.czO  | top4running.cz  | 2019-06-01 09:32:00 | Dopravné                               | unspecified      |         -1 | no_manufacturer  |         999 | Other     |           0 | unspecified     |           0 | unspecified             | unspecified | unspecified | unspecified | unspecified | unspecified | cz        |\n",
      "| 2019-06-01 00:00:00 | 1900079952 | COD           | ZB00009785  |          1 |               0 |              63.2326  |   1.00078   |           105.388   | E-COMMER     | RUN.czC   | RUN.czO  | top4running.cz  | 2019-06-01 11:02:00 | NIKE AIR ZOOM PEGASUS 35               | 942851-001       |         84 | Nike             |         100 | Footwear  |         120 | Running shoes   |           0 | unspecified             | running     | men         | adults      | Black       | 40,5        | cz        |\n",
      "| 2019-06-01 00:00:00 | 1900080509 | COD           | S113        |          1 |               0 |               0.92907 |   0         |             0.92907 | E-COMMER     | RUN.czC   | RUN.czO  | top4running.cz  | 2019-06-01 09:32:00 | Platba                                 | unspecified      |         -1 | no_manufacturer  |         999 | Other     |           0 | unspecified     |           0 | unspecified             | unspecified | unspecified | unspecified | unspecified | unspecified | cz        |\n",
      "| 2019-06-01 00:00:00 | 1900079122 | COD           | ZB00026708  |          1 |               0 |              18.256   |  11.6008    |            22.6877  | E-COMMER     | FIT.roC   | FIT.roO  | top4fitness.ro  | 2019-06-01 06:34:00 | W NP TOP SS                            | 725745-617       |         84 | Nike             |         200 | Apparel   |         230 | T-Shirts        |           0 | unspecified             | fitness     | women       | adults      | Pink        | S           | ro        |\n",
      "| 2019-06-01 00:00:00 | 1900079118 | COD           | ZB00026682  |          1 |               0 |             157.604   |  95.8186    |           175.115   | E-COMMER     | FTB.skC   | FTB.skO  | 11teamsports.sk | 2019-06-01 06:34:00 | AIR VAPORMAX PLUS                      | 924453-015       |         84 | Nike             |         100 | Footwear  |         199 | Other Footwear  |           0 | unspecified             | football    | men         | adults      | Black       | 44,5        | sk        |\n",
      "| 2019-06-01 00:00:00 | 1900079111 | COD           | ZB00026136  |          1 |               0 |              36.6103  |  26.7671    |            56.3366  | E-COMMER     | FTB.huC   | FTB.huO  | 11teamsports.hu | 2019-06-01 06:34:00 | VAPOR 12 ACADEMY MG                    | ah7375-001       |         84 | Nike             |         100 | Footwear  |         110 | Football shoes  |           0 | unspecified             | football    | men         | adults      | Black       | 41          | hu        |\n",
      "| 2019-06-01 00:00:00 | 1900079111 | COD           | ZB00026707  |          1 |               0 |               8.23548 |   4.62829   |            12.6083  | E-COMMER     | FTB.huC   | FTB.huO  | 11teamsports.hu | 2019-06-01 06:34:00 | M NK DRY PARK18 SS TOP                 | aa2046-010       |         84 | Nike             |         200 | Apparel   |         230 | T-Shirts        |           0 | unspecified             | football    | men         | adults      | Black       | S           | hu        |\n",
      "| 2019-06-01 00:00:00 | 1900079049 | COD           | ZB00026019  |          1 |               0 |             130.086   |  91.3124    |           200.132   | E-COMMER     | FTB.skC   | FTB.skO  | 11teamsports.sk | 2019-06-01 06:32:00 | VAPOR 12 ELITE FG                      | ah7380-070       |         84 | Nike             |         100 | Footwear  |         110 | Football shoes  |           0 | unspecified             | football    | men         | adults      | Silver      | 42,5        | sk        |\n",
      "| 2019-06-01 00:00:00 | 1900079056 | COD           | ZB00026018  |          1 |               0 |               8.50893 |   4.46628   |            11.521   | E-COMMER     | FTB.roC   | FTB.roO  | 11teamsports.ro | 2019-06-01 06:32:00 | Adidas Team Glider                     | cz2230           |         85 | adidas           |         300 | Equipment |         320 | Balls           |           0 | unspecified             | football    | men         | adults      | White       | 5           | ro        |\n",
      "| 2019-06-01 00:00:00 | 1900079057 | COD           | ZB00019137  |          1 |               0 |              40.3295  |  28.8213    |            57.6271  | E-COMMER     | FTB.czC   | FTB.czO  | 11teamsports.cz | 2019-06-01 06:32:00 | JR PHNTOM VSN ACADEMY DF FG/MG         | ao3287-408       |         84 | Nike             |         100 | Footwear  |         110 | Football shoes  |           0 | unspecified             | football    | unisex      | kids        | Silver      | 38          | cz        |\n",
      "| 2019-06-01 00:00:00 | 1900079057 | COD           | S101        |          1 |               0 |               2.21008 |   0         |             2.21008 | E-COMMER     | FTB.czC   | FTB.czO  | 11teamsports.cz | 2019-06-01 06:32:00 | Dopravné                               | unspecified      |         -1 | no_manufacturer  |         999 | Other     |           0 | unspecified     |           0 | unspecified             | unspecified | unspecified | unspecified | unspecified | unspecified | cz        |\n",
      "| 2019-06-01 00:00:00 | 1900079057 | COD           | S113        |          1 |               0 |               0.92907 |   0         |             0.92907 | E-COMMER     | FTB.czC   | FTB.czO  | 11teamsports.cz | 2019-06-01 06:32:00 | Platba                                 | unspecified      |         -1 | no_manufacturer  |         999 | Other     |           0 | unspecified     |           0 | unspecified             | unspecified | unspecified | unspecified | unspecified | unspecified | cz        |\n",
      "| 2019-06-01 00:00:00 | 1900079059 | CARD_GOPAY    | ZB00025762  |          1 |               0 |              17.2614  |  10.9527    |            24.6863  | E-COMMER     | FTB.skC   | FTB.skO  | 11teamsports.sk | 2019-06-01 06:32:00 | HG ARMOUR 20 LONG SHORT                | 1289568-001      |        106 | Under Armour     |         200 | Apparel   |         240 | Pants           |         244 | Compression pants       | football    | men         | adults      | Black       | L           | sk        |\n",
      "| 2019-06-01 00:00:00 | 1900079060 | COD           | ZB00026704  |          1 |               0 |              27.268   |  16.8054    |            37.5247  | E-COMMER     | FTB.skC   | FTB.skO  | 11teamsports.sk | 2019-06-01 06:32:00 | star chevron graphic                   | 10006480-a01-001 |        139 | Converse         |         200 | Apparel   |         240 | Pants           |         242 | Shorts                  | lifestyle   | men         | adults      | Black       | L           | sk        |\n",
      "| 2019-06-01 00:00:00 | 1900079067 | COD           | ZB00021748  |          1 |               0 |              74.8287  |  48.6264    |            96.0663  | E-COMMER     | RUN.czC   | RUN.czO  | top4running.cz  | 2019-06-01 06:32:00 | WMNS NIKE AIR ZOOM PEGASUS 35          | 942855-011       |         84 | Nike             |         100 | Footwear  |         120 | Running shoes   |           0 | unspecified             | running     | women       | adults      | Silver      | 39          | cz        |\n",
      "| 2019-06-01 00:00:00 | 1900079037 | CARD_CSOB     | ZB00025620  |          1 |               0 |              18.707   |   9.44612   |            28.7977  | E-COMMER     | FTB.czC   | VO_B_FTO | 11teamsports.cz | 2019-06-01 06:31:00 | M NK DRY PARK III JSY LS GK            | 894509-398       |         84 | Nike             |         200 | Apparel   |         230 | T-Shirts        |         233 | Longsleeved (LS) shirts | football    | men         | adults      | Green       | S           | cz        |\n",
      "| 2019-06-01 00:00:00 | 1900079067 | COD           | S113        |          1 |               0 |               0.92907 |   0         |             0.92907 | E-COMMER     | RUN.czC   | RUN.czO  | top4running.cz  | 2019-06-01 06:32:00 | Platba                                 | unspecified      |         -1 | no_manufacturer  |         999 | Other     |           0 | unspecified     |           0 | unspecified             | unspecified | unspecified | unspecified | unspecified | unspecified | cz        |\n",
      "| 2019-06-01 00:00:00 | 1900079070 | COD           | S114        |         -1 |               0 |               3.2031  |   0         |             3.2031  | E-COMMER     | FTB.czC   | FTB.czO  | 11teamsports.cz | 2019-06-01 06:32:00 | Sleva                                  | unspecified      |         -1 | no_manufacturer  |         999 | Other     |           0 | unspecified     |           0 | unspecified             | unspecified | unspecified | unspecified | unspecified | unspecified | cz        |\n",
      "| 2019-06-01 00:00:00 | 1900079074 | COD           | ZB00026164  |          1 |               0 |              39.5262  |  29.4992    |            60.7985  | E-COMMER     | FTB.roC   | FTB.roO  | 11teamsports.ro | 2019-06-01 06:32:00 | VAPOR 12 ACADEMY TF                    | ah7384-701       |         84 | Nike             |         100 | Footwear  |         110 | Football shoes  |           0 | unspecified             | football    | men         | adults      | Green       | 43          | ro        |\n",
      "| 2019-06-01 00:00:00 | 1900079087 | COD           | ZB00024304  |          1 |               0 |              73.6434  |  36.4725    |            73.6434  | E-COMMER     | FTB.czC   | FTB.czO  | 11teamsports.cz | 2019-06-01 06:32:00 | SUPERFLY 6 ACADEMY MG                  | ah7362-408       |         84 | Nike             |         100 | Footwear  |         110 | Football shoes  |           0 | unspecified             | football    | men         | adults      | Blue        | 44          | cz        |\n",
      "| 2019-06-01 00:00:00 | 1900079087 | COD           | S113        |          1 |               0 |               0.92907 |   0         |             0.92907 | E-COMMER     | FTB.czC   | FTB.czO  | 11teamsports.cz | 2019-06-01 06:32:00 | Platba                                 | unspecified      |         -1 | no_manufacturer  |         999 | Other     |           0 | unspecified     |           0 | unspecified             | unspecified | unspecified | unspecified | unspecified | unspecified | cz        |\n",
      "| 2019-06-01 00:00:00 | 1900079095 | COD           | ZB00026705  |          1 |               0 |              21.9426  |  11.2035    |            30.2709  | E-COMMER     | FTB.czC   | FTB.czO  | 11teamsports.cz | 2019-06-01 06:32:00 | reflective wordmark legging            | 10004552-a01     |        139 | Converse         |         200 | Apparel   |         240 | Pants           |           0 | unspecified             | lifestyle   | women       | adults      | Black       | S           | cz        |\n",
      "| 2019-06-01 00:00:00 | 1900079095 | COD           | S101        |          1 |               0 |               2.21008 |   0         |             2.21008 | E-COMMER     | FTB.czC   | FTB.czO  | 11teamsports.cz | 2019-06-01 06:32:00 | Dopravné                               | unspecified      |         -1 | no_manufacturer  |         999 | Other     |           0 | unspecified     |           0 | unspecified             | unspecified | unspecified | unspecified | unspecified | unspecified | cz        |\n",
      "| 2019-06-01 00:00:00 | 1900079095 | COD           | S113        |          1 |               0 |               0.92907 |   0         |             0.92907 | E-COMMER     | FTB.czC   | FTB.czO  | 11teamsports.cz | 2019-06-01 06:32:00 | Platba                                 | unspecified      |         -1 | no_manufacturer  |         999 | Other     |           0 | unspecified     |           0 | unspecified             | unspecified | unspecified | unspecified | unspecified | unspecified | cz        |\n",
      "| 2019-06-01 00:00:00 | 1900079098 | COD           | ZB00026706  |          1 |               0 |              18.0919  |   9.98178   |            29.1892  | E-COMMER     | FTB.skC   | FTB.skO  | 11teamsports.sk | 2019-06-01 06:34:00 | M NP TOP LS COMP MOCK                  | 838079-657       |         84 | Nike             |         200 | Apparel   |         230 | T-Shirts        |         236 | Compression shirts      | football    | men         | adults      | Red         | L           | sk        |\n",
      "| 2019-06-01 00:00:00 | 1900079070 | COD           | ZB00025613  |          1 |               0 |              76.238   |  49.4574    |           108.879   | E-COMMER     | FTB.czC   | FTB.czO  | 11teamsports.cz | 2019-06-01 06:32:00 | NEMEZIZ 182 FG                         | bb9431           |         85 | adidas           |         100 | Footwear  |         110 | Football shoes  |           0 | unspecified             | football    | men         | adults      | Yellow      | 43,3        | cz        |\n",
      "| 2019-06-01 00:00:00 | 1900078757 | COD           | S113        |          1 |               0 |               0.92907 |   0         |             0.92907 | E-COMMER     | FTB.czC   | FTB.czO  | 11teamsports.cz | 2019-06-01 00:04:00 | Platba                                 | unspecified      |         -1 | no_manufacturer  |         999 | Other     |           0 | unspecified     |           0 | unspecified             | unspecified | unspecified | unspecified | unspecified | unspecified | cz        |\n",
      "| 2019-06-01 00:00:00 | 1900079070 | COD           | S113        |          1 |               0 |               0.92907 |   0         |             0.92907 | E-COMMER     | FTB.czC   | FTB.czO  | 11teamsports.cz | 2019-06-01 06:32:00 | Platba                                 | unspecified      |         -1 | no_manufacturer  |         999 | Other     |           0 | unspecified     |           0 | unspecified             | unspecified | unspecified | unspecified | unspecified | unspecified | cz        |\n",
      "| 2019-06-01 00:00:00 | 1900078757 | COD           | ZB00007426  |          2 |               0 |               6.63062 |   0.0709302 |             7.78411 | E-COMMER     | FTB.czC   | FTB.czO  | 11teamsports.cz | 2019-06-01 00:04:00 | Team Scrimmage Swoosh Vest             | 361109-371       |         84 | Nike             |         200 | Apparel   |         225 | Jerseys         |         234 | Sleeveless (SL) shirts  | football    | men         | adults      | Green       | S/M         | cz        |\n",
      "| 2019-06-01 00:00:00 | 1900073936 | BANK_TRANSFER | ZB00049783  |          1 |               0 |              69.4657  |  28.7787    |            99.2353  | E-COMMER     | FTB.esC   | FTB.esO  | 11teamsports.es | 2019-06-01 08:00:00 | PRED PRO                               | dn8578           |         85 | adidas           |         300 | Equipment |         280 | Gloves          |         327 | Football gloves         | football    | men         | adults      | Black       | 10,5        | es        |\n",
      "| 2019-06-01 00:00:00 | 1900075432 | COD           | ZB00026064  |          1 |               0 |              45.8904  |  25.4461    |            65.5681  | E-COMMER     | FTB.huC   | FTB.huO  | 11teamsports.hu | 2019-06-01 09:26:00 | M NK DRY SQD17 TRK SUIT K              | 832325-657       |         84 | Nike             |         200 | Apparel   |         250 | Tracksuits      |           0 | unspecified             | football    | men         | adults      | Dark red    | L           | hu        |\n",
      "| 2019-06-01 00:00:00 | 1900075432 | COD           | S101        |          1 |               0 |               2.40506 |   0         |             2.40506 | E-COMMER     | FTB.huC   | FTB.huO  | 11teamsports.hu | 2019-06-01 09:26:00 | Dopravné                               | unspecified      |         -1 | no_manufacturer  |         999 | Other     |           0 | unspecified     |           0 | unspecified             | unspecified | unspecified | unspecified | unspecified | unspecified | hu        |\n",
      "| 2019-06-01 00:00:00 | 1900075773 | COD           | ZB00017976  |          1 |               0 |             113.364   |  69.2446    |           188.962   | E-COMMER     | FTB.czC   | FTB.czO  | 11teamsports.cz | 2019-06-01 07:22:00 | X 181 FG                               | bb9347           |         85 | adidas           |         100 | Footwear  |         110 | Football shoes  |           0 | unspecified             | football    | men         | adults      | Red         | 44,7        | cz        |\n",
      "| 2019-06-01 00:00:00 | 1900076357 | COD           | ZB00023846  |          1 |               0 |              11.521   |   0         |            16.4842  | E-COMMER     | FTB.roC   | FTB.roO  | 11teamsports.ro | 2019-06-01 08:59:00 | NK MENOR X                             | sc3039-673       |         84 | Nike             |         300 | Equipment |         320 | Balls           |           0 | unspecified             | football    | unisex      | adults      | Red         | ks          | ro        |\n",
      "| 2019-06-01 00:00:00 | 1900077168 | COD           | ZB00025652  |          1 |               0 |              37.7035  |  29.7578    |            58.0128  | E-COMMER     | FTB.huC   | FTB.huO  | 11teamsports.hu | 2019-06-01 09:05:00 | X 183 FG                               | bb9366           |         85 | adidas           |         100 | Footwear  |         110 | Football shoes  |           0 | unspecified             | football    | men         | adults      | Black       | 44,7        | hu        |\n",
      "| 2019-06-01 00:00:00 | 1900077168 | COD           | S101        |          1 |               0 |               2.40506 |   0         |             2.40506 | E-COMMER     | FTB.huC   | FTB.huO  | 11teamsports.hu | 2019-06-01 09:05:00 | Dopravné                               | unspecified      |         -1 | no_manufacturer  |         999 | Other     |           0 | unspecified     |           0 | unspecified             | unspecified | unspecified | unspecified | unspecified | unspecified | hu        |\n",
      "| 2019-06-01 00:00:00 | 1900077515 | COD           | ZB00009443  |          2 |               0 |              13.6286  |  10.4283    |            18.1958  | E-COMMER     | RUN.huC   | RUN.huO  | top4running.hu  | 2019-06-01 09:25:00 | M NP SHORT LONG                        | 838063-091       |         84 | Nike             |         200 | Apparel   |         240 | Pants           |         244 | Compression pants       | running     | men         | adults      | Silver      | L           | hu        |\n",
      "| 2019-06-01 00:00:00 | 1900077515 | COD           | S101        |          1 |               0 |               2.40506 |   0         |             2.40506 | E-COMMER     | RUN.huC   | RUN.huO  | top4running.hu  | 2019-06-01 09:25:00 | Dopravné                               | unspecified      |         -1 | no_manufacturer  |         999 | Other     |           0 | unspecified     |           0 | unspecified             | unspecified | unspecified | unspecified | unspecified | unspecified | hu        |\n",
      "| 2019-06-01 00:00:00 | 1900079385 | COD           | ZB00017248  |          3 |               0 |              26.0105  |  10.2616    |            40.0089  | E-COMMER     | FTB.czC   | FTB.czO  | 11teamsports.cz | 2019-06-01 09:07:00 | FINALE M COMP                          | dn8687           |         85 | adidas           |         300 | Equipment |         320 | Balls           |           0 | unspecified             | football    | men         | adults      | Orange      | 5           | cz        |\n",
      "| 2019-06-01 00:00:00 | 1900077890 | COD           | ZB00026211  |          1 |               0 |              11.6777  |   5.84186   |            16.681   | E-COMMER     | FTB.skC   | FTB.skO  | 11teamsports.sk | 2019-06-01 06:24:00 | NK MENOR X                             | sc3039-673       |         84 | Nike             |         300 | Equipment |         320 | Balls           |           0 | unspecified             | football    | unisex      | adults      | Red         | PRO         | sk        |\n",
      "| 2019-06-01 00:00:00 | 1900078281 | COD           | ZB00025682  |          1 |               0 |              85.2074  |   2.29845   |           121.693   | E-COMMER     | RUN.czC   | RUN.czO  | top4running.cz  | 2019-06-01 09:16:00 | NIKE EPIC REACT FLYKNIT 2              | bq8928-003       |         84 | Nike             |         100 | Footwear  |         120 | Running shoes   |           0 | unspecified             | running     | men         | adults      | Black       | 42,5        | cz        |\n",
      "| 2019-06-01 00:00:00 | 1900078281 | COD           | S113        |          1 |               0 |               0.92907 |   0         |             0.92907 | E-COMMER     | RUN.czC   | RUN.czO  | top4running.cz  | 2019-06-01 09:16:00 | Platba                                 | unspecified      |         -1 | no_manufacturer  |         999 | Other     |           0 | unspecified     |           0 | unspecified             | unspecified | unspecified | unspecified | unspecified | unspecified | cz        |\n",
      "| 2019-06-01 00:00:00 | 1900078447 | PAYPAL        | ZB00025689  |          1 |               0 |              21.0238  |  16.8702    |            29.4294  | E-COMMER     | RUN.deC   | RUN.deO  | top4running.de  | 2019-06-01 16:56:00 | ADILETTE                               | 288022           |        232 | adidas Originals |         100 | Footwear  |         150 | Slides          |           0 | unspecified             | lifestyle   | men         | adults      | Blue        | 47,3        | de        |\n",
      "| 2019-06-01 00:00:00 | 1900078447 | PAYPAL        | S101        |          1 |               0 |               2.94194 |   0         |             2.94194 | E-COMMER     | RUN.deC   | RUN.deO  | top4running.de  | 2019-06-01 16:56:00 | Dopravné                               | unspecified      |         -1 | no_manufacturer  |         999 | Other     |           0 | unspecified     |           0 | unspecified             | unspecified | unspecified | unspecified | unspecified | unspecified | de        |\n",
      "| 2019-06-01 00:00:00 | 1900078650 | COD           | ZB00049881  |          1 |               0 |              16.8386  |   8.76008   |            28.0411  | E-COMMER     | FTB.roC   | VO_B_FTO | 11teamsports.ro | 2019-06-01 11:57:00 | ENTRY 15 GK                            | ap0325           |         85 | adidas           |         200 | Apparel   |         230 | T-Shirts        |         233 | Longsleeved (LS) shirts | football    | men         | adults      | Blue        | 164         | ro        |\n",
      "| 2019-06-01 00:00:00 | 1900078650 | COD           | ZB00011209  |          1 |               0 |               6.38064 |   5.59535   |             9.7492  | E-COMMER     | FTB.roC   | VO_B_FTO | 11teamsports.ro | 2019-06-01 11:57:00 | U NK SQUAD OTC                         | sx6830-100       |         84 | Nike             |         200 | Apparel   |         290 | Socks           |         291 | Football socks          | football    | unisex      | adults      | White       | S           | ro        |\n",
      "| 2019-06-01 00:00:00 | 1900073779 | CARD_GOPAY    | ZB00016912  |          1 |               0 |              20.0132  |  12.8748    |            33.352   | E-COMMER     | FTB.skC   | VO_B_FTO | 11teamsports.sk | 2019-06-01 06:34:00 | ASK SPRT LT M                          | cw9427           |         85 | adidas           |         200 | Apparel   |         240 | Pants           |           0 | unspecified             | football    | men         | adults      | Black       | M           | sk        |\n",
      "| 2019-06-01 00:00:00 | 1900078650 | COD           | ZB00014423  |          1 |               0 |              15.4211  |   8.34496   |            23.6094  | E-COMMER     | FTB.roC   | VO_B_FTO | 11teamsports.ro | 2019-06-01 11:57:00 | TIERRO13 GK SHO                        | z11471           |         85 | adidas           |         200 | Apparel   |         240 | Pants           |         242 | Shorts                  | football    | men         | adults      | Black       | 152         | ro        |\n",
      "| 2019-06-01 00:00:00 | 1900073779 | CARD_GOPAY    | ZB00002233  |          1 |               0 |              15.0099  |  12.9764    |            25.0165  | E-COMMER     | FTB.skC   | VO_B_FTO | 11teamsports.sk | 2019-06-01 06:34:00 | M NK FC DRY TEE SSNL BLOCK             | av5313-838       |         84 | Nike             |         200 | Apparel   |         230 | T-Shirts        |           0 | unspecified             | football    | men         | adults      | Orange      | S           | sk        |\n",
      "| 2019-06-01 00:00:00 | 1900073779 | CARD_GOPAY    | ZB00012932  |          1 |               0 |              30.0198  |  24.4023    |            50.0329  | E-COMMER     | FTB.skC   | VO_B_FTO | 11teamsports.sk | 2019-06-01 06:34:00 | M NK FC PANT                           | aq0667-492       |         84 | Nike             |         200 | Apparel   |         240 | Pants           |           0 | unspecified             | football    | men         | adults      | unspecified | S           | sk        |\n",
      "| 2019-06-01 00:00:00 | 1900072437 | COD           | ZB00010124  |          1 |               0 |              34.4031  |  18.9566    |            57.3388  | E-COMMER     | FTB.czC   | FTB.czO  | 11teamsports.cz | 2019-06-01 08:59:00 | LS GARDIEN JSY                         | 725882-702       |         84 | Nike             |         200 | Apparel   |         230 | T-Shirts        |         233 | Longsleeved (LS) shirts | football    | men         | adults      | Green       | XXL         | cz        |\n",
      "| 2019-06-01 00:00:00 | 1900072437 | COD           | ZB00013297  |          1 |               0 |               9.35349 |   6.01822   |            14.3826  | E-COMMER     | FTB.czC   | FTB.czO  | 11teamsports.cz | 2019-06-01 08:59:00 | PARK II KNIT SHORT NB                  | 725887-702       |         84 | Nike             |         200 | Apparel   |         240 | Pants           |         242 | Shorts                  | football    | men         | adults      | Green       | XL          | cz        |\n",
      "| 2019-06-01 00:00:00 | 1900072437 | COD           | ZB00001906  |          1 |               0 |               9.35349 |   5.40659   |            14.3826  | E-COMMER     | FTB.czC   | FTB.czO  | 11teamsports.cz | 2019-06-01 08:59:00 | YTH LEAGUE KNIT SHORT NB               | 725990-011       |         84 | Nike             |         200 | Apparel   |         240 | Pants           |         242 | Shorts                  | football    | unisex      | kids        | Black       | L           | cz        |\n",
      "| 2019-06-01 00:00:00 | 1900072437 | COD           | ZB00011732  |          1 |               0 |              31.2     |  17.1364    |            48.0171  | E-COMMER     | FTB.czC   | FTB.czO  | 11teamsports.cz | 2019-06-01 08:59:00 | YTH NK GARDIEN II GK JSY LS            | 898046-010       |         84 | Nike             |         200 | Apparel   |         230 | T-Shirts        |         233 | Longsleeved (LS) shirts | football    | unisex      | kids        | Black       | L           | cz        |\n",
      "| 2019-06-01 00:00:00 | 1900072437 | COD           | ZB00017248  |          4 |               0 |              26.0105  |  10.2616    |            40.0089  | E-COMMER     | FTB.czC   | FTB.czO  | 11teamsports.cz | 2019-06-01 08:59:00 | FINALE M COMP                          | dn8687           |         85 | adidas           |         300 | Equipment |         320 | Balls           |           0 | unspecified             | football    | men         | adults      | Orange      | 5           | cz        |\n",
      "| 2019-06-01 00:00:00 | 1900072437 | COD           | ZB00005692  |          1 |               0 |               4.99729 |   2.80736   |             7.68798 | E-COMMER     | FTB.czC   | FTB.czO  | 11teamsports.cz | 2019-06-01 08:59:00 | U NK CLASSIC II CUSH OTC -TEAM         | sx5728-013       |         84 | Nike             |         200 | Apparel   |         290 | Socks           |         291 | Football socks          | football    | unisex      | adults      | Black       | L           | cz        |\n",
      "| 2019-06-01 00:00:00 | 1900072437 | COD           | ZB00005846  |          1 |               0 |               5.60581 |   3.64922   |             8.61667 | E-COMMER     | FTB.czC   | FTB.czO  | 11teamsports.cz | 2019-06-01 08:59:00 | U NK CLASSIC II CUSH OTC -TEAM         | sx5728-702       |         84 | Nike             |         200 | Apparel   |         290 | Socks           |         291 | Football socks          | football    | unisex      | adults      | Green       | XL          | cz        |\n",
      "| 2019-06-01 00:00:00 | 1900072437 | COD           | ZB00005157  |          7 |               0 |              10.3787  |   6.13295   |            15.9845  | E-COMMER     | FTB.czC   | FTB.czO  | 11teamsports.cz | 2019-06-01 08:59:00 | NK PTCH TEAM                           | sc3166-701       |         84 | Nike             |         300 | Equipment |         320 | Balls           |           0 | unspecified             | football    | unisex      | adults      | Yellow      | 4           | cz        |\n",
      "| 2019-06-01 00:00:00 | 1900072959 | GOPAY_CARD    | ZB00010308  |          4 |               0 |              19.1826  |  11.6163    |            33.0818  | E-COMMER     | FTB.esC   | FTB.esO  | 11teamsports.es | 2019-06-01 00:09:00 | M NK DRY ACDMY18 TRK JKT K             | 893701-100       |         84 | Nike             |         200 | Apparel   |         215 | Jackets         |           0 | unspecified             | football    | men         | adults      | White       | S           | es        |\n",
      "| 2019-06-01 00:00:00 | 1900072959 | GOPAY_CARD    | ZB00010312  |          6 |               0 |              19.1826  |  11.9047    |            33.0818  | E-COMMER     | FTB.esC   | FTB.esO  | 11teamsports.es | 2019-06-01 00:09:00 | M NK DRY ACDMY18 TRK JKT K             | 893701-100       |         84 | Nike             |         200 | Apparel   |         215 | Jackets         |           0 | unspecified             | football    | men         | adults      | White       | M           | es        |\n",
      "| 2019-06-01 00:00:00 | 1900072959 | GOPAY_CARD    | ZB00010316  |         12 |               0 |              19.1826  |   5.4186    |            33.0818  | E-COMMER     | FTB.esC   | FTB.esO  | 11teamsports.es | 2019-06-01 00:09:00 | M NK DRY ACDMY18 TRK JKT K             | 893701-100       |         84 | Nike             |         200 | Apparel   |         215 | Jackets         |           0 | unspecified             | football    | men         | adults      | White       | L           | es        |\n",
      "| 2019-06-01 00:00:00 | 1900078757 | COD           | S101        |          1 |               0 |               2.21008 |   0         |             2.21008 | E-COMMER     | FTB.czC   | FTB.czO  | 11teamsports.cz | 2019-06-01 00:04:00 | Dopravné                               | unspecified      |         -1 | no_manufacturer  |         999 | Other     |           0 | unspecified     |           0 | unspecified             | unspecified | unspecified | unspecified | unspecified | unspecified | cz        |\n",
      "| 2019-06-01 00:00:00 | 1900073779 | CARD_GOPAY    | ZB00009368  |          1 |               0 |              12.5082  |   7.63488   |            20.8437  | E-COMMER     | FTB.skC   | VO_B_FTO | 11teamsports.sk | 2019-06-01 06:34:00 | M NP SHORT                             | 838061-010       |         84 | Nike             |         200 | Apparel   |         240 | Pants           |         242 | Shorts                  | fitness     | men         | adults      | Black       | M           | sk        |\n",
      "| 2019-06-01 00:00:00 | 1900073779 | CARD_GOPAY    | ZB00009389  |          1 |               0 |              12.5082  |   7.87364   |            20.8437  | E-COMMER     | FTB.skC   | VO_B_FTO | 11teamsports.sk | 2019-06-01 06:34:00 | M NP SHORT                             | 838061-091       |         84 | Nike             |         200 | Apparel   |         240 | Pants           |         242 | Shorts                  | fitness     | men         | adults      | Silver      | M           | sk        |\n",
      "| 2019-06-01 00:00:00 | 1900073779 | CARD_GOPAY    | ZB00001487  |          1 |               0 |              15.0099  |  13.007     |            25.0165  | E-COMMER     | FTB.skC   | VO_B_FTO | 11teamsports.sk | 2019-06-01 06:34:00 | M NSW CE POLO MATCHUP PQ               | 909746-337       |         84 | Nike             |         200 | Apparel   |         230 | T-Shirts        |         231 | Polo                    | lifestyle   | men         | adults      | Blue        | L           | sk        |\n",
      "| 2019-06-01 00:00:00 | 1900073779 | CARD_GOPAY    | ZB00014781  |          1 |               0 |              15.0099  |  11.205     |            25.0165  | E-COMMER     | FTB.skC   | VO_B_FTO | 11teamsports.sk | 2019-06-01 06:34:00 | TF BASE SS                             | aj4967           |         85 | adidas           |         200 | Apparel   |         230 | T-Shirts        |         236 | Compression shirts      | fitness     | men         | adults      | White       | S           | sk        |\n",
      "| 2019-06-01 00:00:00 | 1900073779 | CARD_GOPAY    | ZB00002069  |          1 |               0 |              27.5181  |  22.7744    |            45.8602  | E-COMMER     | FTB.skC   | VO_B_FTO | 11teamsports.sk | 2019-06-01 06:34:00 | M NIKE FC CREW TOP LS                  | ao0358-010       |         84 | Nike             |         200 | Apparel   |         230 | T-Shirts        |         233 | Longsleeved (LS) shirts | football    | men         | adults      | Black       | S           | sk        |\n",
      "| 2019-06-01 00:00:00 | 1900073779 | CARD_GOPAY    | ZB00002185  |          1 |               0 |              15.0099  |  13.007     |            25.0165  | E-COMMER     | FTB.skC   | VO_B_FTO | 11teamsports.sk | 2019-06-01 06:34:00 | M NK FC DRY TEE SSNL BLOCK             | av5313-100       |         84 | Nike             |         200 | Apparel   |         230 | T-Shirts        |           0 | unspecified             | football    | men         | adults      | Black       | S           | sk        |\n",
      "| 2019-06-01 00:00:00 | 1900078655 | COD           | ZB00026724  |          1 |               0 |              64.3422  |  36.1019    |            99.0845  | E-COMMER     | FTB.roC   | VO_B_FTO | 11teamsports.ro | 2019-06-01 11:57:00 | Adidas Predator Pro Hybrid             | dy2617           |         85 | adidas           |         300 | Equipment |         280 | Gloves          |         327 | Football gloves         | football    | men         | adults      | Silver      | 7,5         | ro        |\n",
      "| 2019-06-01 00:00:00 | 1900072959 | GOPAY_CARD    | ZB00010320  |          2 |               0 |              19.1826  |  10.0469    |            33.0818  | E-COMMER     | FTB.esC   | FTB.esO  | 11teamsports.es | 2019-06-01 00:09:00 | M NK DRY ACDMY18 TRK JKT K             | 893701-100       |         84 | Nike             |         200 | Apparel   |         215 | Jackets         |           0 | unspecified             | football    | men         | adults      | White       | XL          | es        |\n",
      "| 2019-06-01 00:00:00 | 1900078754 | CARD_CSOB     | ZB00049877  |          1 |               0 |             153.565   | 120.323     |           255.942   | E-COMMER     | FTB.czC   | FTB.czO  | 11teamsports.cz | 2019-06-01 11:57:00 | SUPERFLY 6 ELITE CR7 SG-PRO AC         | aj6932-600       |         84 | Nike             |         100 | Footwear  |         110 | Football shoes  |           0 | unspecified             | football    | men         | adults      | Red         | 42,5        | cz        |\n",
      "| 2019-06-01 00:00:00 | 1900078757 | COD           | ZB00049340  |          5 |               0 |               6.63062 |   2.5031    |             7.78411 | E-COMMER     | FTB.czC   | FTB.czO  | 11teamsports.cz | 2019-06-01 00:04:00 | Team Scrimmage Swoosh Vest             | 361109-100       |         84 | Nike             |         200 | Apparel   |         225 | Jerseys         |         234 | Sleeveless (SL) shirts  | football    | men         | adults      | White       | S/M         | cz        |\n",
      "| 2019-06-02 00:00:00 | 1900081346 | COD           | ZB00016098  |          1 |               0 |               8.61667 |   5.22364   |             8.26866 | E-COMMER     | RUN.czC   | RUN.czO  | top4running.cz  | 2019-06-02 07:30:00 | ESIO KINESIOLOGY TAPE 50mm             | unspecified      |         -1 | no_manufacturer  |         999 | Other     |           0 | unspecified     |           0 | unspecified             | unspecified | unspecified | unspecified | unspecified | unspecified | cz        |\n",
      "| 2019-06-02 00:00:00 | 1900081425 | COD           | ZB00010062  |          1 |               0 |              40.8419  |  27.6581    |            54.4236  | E-COMMER     | STR.czC   | STR.czO  | tint-store.cz   | 2019-06-02 09:16:00 | M NSW TCH FLC SHORT                    | 928513-355       |         84 | Nike             |         200 | Apparel   |         240 | Pants           |         242 | Shorts                  | lifestyle   | men         | adults      | Green       | L           | cz        |\n",
      "| 2019-06-02 00:00:00 | 1900081241 | PAYPAL        | S101        |          1 |               0 |               5.00329 |   0         |             4.96327 | E-COMMER     | RUN.comC  | RUN.comO | top4running.com | 2019-06-02 08:01:00 | Dopravné                               | unspecified      |         -1 | no_manufacturer  |         999 | Other     |           0 | unspecified     |           0 | unspecified             | unspecified | unspecified | unspecified | unspecified | unspecified | com       |\n",
      "| 2019-06-02 00:00:00 | 1900081241 | PAYPAL        | ZB00009222  |          1 |               0 |               8.33549 |   4.55465   |             9.09599 | E-COMMER     | RUN.comC  | RUN.comO | top4running.com | 2019-06-02 08:01:00 | BASIC WALLET                           | nia08693ns-693   |         84 | Nike             |         300 | Equipment |         399 | Other Equipment |           0 | unspecified             | football    | unisex      | adults      | Red         | ks          | com       |\n",
      "| 2019-06-02 00:00:00 | 1900081241 | PAYPAL        | ZB00002778  |          1 |               0 |               8.33549 |   4.44535   |             9.09599 | E-COMMER     | RUN.comC  | RUN.comO | top4running.com | 2019-06-02 08:01:00 | BASIC WALLET                           | nia08068ns       |         84 | Nike             |         300 | Equipment |         399 | Other Equipment |           0 | unspecified             | football    | unisex      | adults      | unspecified | ks          | com       |\n",
      "| 2019-06-02 00:00:00 | 1900081425 | COD           | S114        |         -1 |               0 |               3.2031  |   0         |             3.2031  | E-COMMER     | STR.czC   | STR.czO  | tint-store.cz   | 2019-06-02 09:16:00 | Sleva                                  | unspecified      |         -1 | no_manufacturer  |         999 | Other     |           0 | unspecified     |           0 | unspecified             | unspecified | unspecified | unspecified | unspecified | unspecified | cz        |\n",
      "| 2019-06-02 00:00:00 | 1900081425 | COD           | S101        |          1 |               0 |               1.56977 |   0         |             1.56977 | E-COMMER     | STR.czC   | STR.czO  | tint-store.cz   | 2019-06-02 09:16:00 | Dopravné                               | unspecified      |         -1 | no_manufacturer  |         999 | Other     |           0 | unspecified     |           0 | unspecified             | unspecified | unspecified | unspecified | unspecified | unspecified | cz        |\n",
      "| 2019-06-02 00:00:00 | 1900081425 | COD           | S113        |          1 |               0 |               0.92907 |   0         |             0.92907 | E-COMMER     | STR.czC   | STR.czO  | tint-store.cz   | 2019-06-02 09:16:00 | Platba                                 | unspecified      |         -1 | no_manufacturer  |         999 | Other     |           0 | unspecified     |           0 | unspecified             | unspecified | unspecified | unspecified | unspecified | unspecified | cz        |\n",
      "| 2019-06-02 00:00:00 | 1900081241 | PAYPAL        | ZB00009239  |          1 |               0 |               8.33549 |   4.39147   |             9.09599 | E-COMMER     | RUN.comC  | RUN.comO | top4running.com | 2019-06-02 08:01:00 | BASIC WALLET                           | nia08413ns-413   |         84 | Nike             |         300 | Equipment |         399 | Other Equipment |           0 | unspecified             | football    | unisex      | adults      | Blue        | ks          | com       |\n",
      "| 2019-06-03 00:00:00 | 1900081701 | CARD_CSOB     | S114        |         -1 |               0 |               3.2031  |   0         |             3.2031  | E-COMMER     | FTB.czC   | FTB.czO  | 11teamsports.cz | 2019-06-03 09:17:00 | Sleva                                  | unspecified      |         -1 | no_manufacturer  |         999 | Other     |           0 | unspecified     |           0 | unspecified             | unspecified | unspecified | unspecified | unspecified | unspecified | cz        |\n",
      "| 2019-06-03 00:00:00 | 1900081663 | CARD_CSOB     | ZB00015598  |          1 |               0 |              83.862   |   0.0387597 |           111.795   | E-COMMER     | RUN.czC   | RUN.czO  | top4running.cz  | 2019-06-03 09:17:00 | SONIC RA PRO 2                         | l40611100        |         93 | Salomon          |         100 | Footwear  |         120 | Running shoes   |           0 | unspecified             | running     | men         | adults      | Blue        | 43,3        | cz        |\n",
      "| 2019-06-03 00:00:00 | 1900081701 | CARD_CSOB     | ZB00014167  |          1 |               0 |             103.786   |  86.3609    |           129.733   | E-COMMER     | FTB.czC   | FTB.czO  | 11teamsports.cz | 2019-06-03 09:17:00 | COPA MUNDIAL FG                        | 015110           |         85 | adidas           |         100 | Footwear  |         110 | Football shoes  |           0 | unspecified             | football    | men         | adults      | Black       | 44,7        | cz        |\n",
      "| 2019-06-03 00:00:00 | 1900081500 | COD           | S113        |          1 |               0 |               0.92907 |   0         |             0.92907 | E-COMMER     | FTB.czC   | FTB.czO  | 11teamsports.cz | 2019-06-03 09:16:00 | Platba                                 | unspecified      |         -1 | no_manufacturer  |         999 | Other     |           0 | unspecified     |           0 | unspecified             | unspecified | unspecified | unspecified | unspecified | unspecified | cz        |\n",
      "| 2019-06-03 00:00:00 | 1900081500 | COD           | S101        |          1 |               0 |               1.56977 |   0         |             1.56977 | E-COMMER     | FTB.czC   | FTB.czO  | 11teamsports.cz | 2019-06-03 09:16:00 | Dopravné                               | unspecified      |         -1 | no_manufacturer  |         999 | Other     |           0 | unspecified     |           0 | unspecified             | unspecified | unspecified | unspecified | unspecified | unspecified | cz        |\n",
      "| 2019-06-03 00:00:00 | 1900081500 | COD           | S114        |         -1 |               0 |               3.2031  |   0         |             3.2031  | E-COMMER     | FTB.czC   | FTB.czO  | 11teamsports.cz | 2019-06-03 09:16:00 | Sleva                                  | unspecified      |         -1 | no_manufacturer  |         999 | Other     |           0 | unspecified     |           0 | unspecified             | unspecified | unspecified | unspecified | unspecified | unspecified | cz        |\n",
      "| 2019-06-03 00:00:00 | 1900081551 | COD           | S113        |          1 |               0 |               0.92907 |   0         |             0.92907 | E-COMMER     | FTB.czC   | FTB.czO  | 11teamsports.cz | 2019-06-03 09:17:00 | Platba                                 | unspecified      |         -1 | no_manufacturer  |         999 | Other     |           0 | unspecified     |           0 | unspecified             | unspecified | unspecified | unspecified | unspecified | unspecified | cz        |\n",
      "| 2019-06-03 00:00:00 | 1900081728 | PAYPAL        | S101        |          1 |               0 |               5.00329 |   0         |             4.96327 | E-COMMER     | RUN.comC  | RUN.comO | top4running.com | 2019-06-03 08:01:00 | Dopravné                               | unspecified      |         -1 | no_manufacturer  |         999 | Other     |           0 | unspecified     |           0 | unspecified             | unspecified | unspecified | unspecified | unspecified | unspecified | com       |\n",
      "| 2019-06-03 00:00:00 | 1900081500 | COD           | ZB00022514  |          1 |               0 |              40.8419  |   0.358527  |            54.4236  | E-COMMER     | FTB.czC   | FTB.czO  | 11teamsports.cz | 2019-06-03 09:16:00 | LEGEND 7 ACADEMY IC                    | ah7244-070       |         84 | Nike             |         100 | Footwear  |         110 | Football shoes  |         114 | Indoor/Court (IC)       | football    | men         | adults      | Silver      | 43          | cz        |\n",
      "| 2019-06-03 00:00:00 | 1900081595 | COD           | ZB00009388  |          2 |               0 |              16.0163  |  16         |            32.0008  | E-COMMER     | RUN.czC   | RUN.czO  | top4running.cz  | 2019-06-03 11:00:00 | RUN THERMA SPHERE HOOD 20              | nra62019ns       |         84 | Nike             |         200 | Apparel   |         299 | Other Apparel   |           0 | unspecified             | running     | men         | adults      | Silver      | ks          | cz        |\n",
      "| 2019-06-03 00:00:00 | 1900081838 | COD           | ZB00000899  |          1 |               0 |              22.3333  |  11.3891    |            22.3333  | E-COMMER     | FTB.roC   | FTB.roO  | 11teamsports.ro | 2019-06-03 09:18:00 | NK MERC LITE - ENERGY                  | sp2178-100       |         84 | Nike             |         300 | Equipment |         335 | Guards          |           0 | unspecified             | football    | men         | adults      | White       | S           | ro        |\n",
      "| 2019-06-03 00:00:00 | 1900081551 | COD           | S101        |          1 |               0 |               2.21008 |   0         |             2.21008 | E-COMMER     | FTB.czC   | FTB.czO  | 11teamsports.cz | 2019-06-03 09:17:00 | Dopravné                               | unspecified      |         -1 | no_manufacturer  |         999 | Other     |           0 | unspecified     |           0 | unspecified             | unspecified | unspecified | unspecified | unspecified | unspecified | cz        |\n",
      "| 2019-06-03 00:00:00 | 1900081517 | COD           | ZB00026469  |          1 |               0 |              90.0593  |  55.3349    |           150.099   | E-COMMER     | FTB.skC   | VO_B_FTO | 11teamsports.sk | 2019-06-03 11:58:00 | UltraBOOST 19                          | b37704           |         85 | adidas           |         100 | Footwear  |         120 | Running shoes   |           0 | unspecified             | running     | men         | adults      | Black       | 40          | sk        |\n",
      "| 2019-06-03 00:00:00 | 1900081517 | COD           | ZB00026470  |          1 |               0 |               5.00329 |   4.19419   |             8.33549 | E-COMMER     | FTB.skC   | VO_B_FTO | 11teamsports.sk | 2019-06-03 11:58:00 | PER INVIZ T 3P                         | cf3390           |         85 | adidas           |         200 | Apparel   |         290 | Socks           |           0 | unspecified             | football    | unisex      | adults      | White       | 35-38       | sk        |\n",
      "| 2019-06-03 00:00:00 | 1900081517 | COD           | ZB00026471  |          1 |               0 |               5.00329 |   4.22016   |             8.33549 | E-COMMER     | FTB.skC   | VO_B_FTO | 11teamsports.sk | 2019-06-03 11:58:00 | PER INVIZ T 3P                         | cv7409           |         85 | adidas           |         200 | Apparel   |         290 | Socks           |           0 | unspecified             | football    | unisex      | adults      | Black       | 35-38       | sk        |\n",
      "| 2019-06-03 00:00:00 | 1900081519 | CARD_CSOB     | ZB00022132  |          1 |               0 |             166.378   | 107.864     |           255.942   | E-COMMER     | FTB.czC   | FTB.czO  | 11teamsports.cz | 2019-06-03 22:31:00 | MERCURIAL SUPERFLY 360 ELITE CR7 FG    | aj3547-600       |         84 | Nike             |         100 | Footwear  |         110 | Football shoes  |           0 | unspecified             | football    | men         | adults      | Red         | 45          | cz        |\n",
      "| 2019-06-03 00:00:00 | 1900081453 | CARD_CSOB     | ZB00016429  |          2 |               0 |              26.8116  |  18.3721    |            38.4074  | E-COMMER     | FTB.czC   | FTB.czO  | 11teamsports.cz | 2019-06-03 09:16:00 | CZECH REPUBLIC B2B Shirt               | 75254301         |         86 | Puma             |         200 | Apparel   |         230 | T-Shirts        |           0 | unspecified             | football    | men         | adults      | Red         | XL          | cz        |\n",
      "| 2019-06-03 00:00:00 | 1900081453 | CARD_CSOB     | ZB00016431  |          1 |               0 |              26.8116  |  18.3721    |            38.4074  | E-COMMER     | FTB.czC   | FTB.czO  | 11teamsports.cz | 2019-06-03 09:16:00 | CZECH REPUBLIC B2B Shirt               | 75254301         |         86 | Puma             |         200 | Apparel   |         230 | T-Shirts        |           0 | unspecified             | football    | men         | adults      | Red         | L           | cz        |\n",
      "| 2019-06-03 00:00:00 | 1900081838 | COD           | ZB00005804  |          3 |               0 |               5.67191 |   3.44922   |             7.08937 | E-COMMER     | FTB.roC   | FTB.roO  | 11teamsports.ro | 2019-06-03 09:18:00 | U NK CLASSIC II CUSH OTC -TEAM         | sx5728-648       |         84 | Nike             |         200 | Apparel   |         290 | Socks           |         291 | Football socks          | football    | unisex      | adults      | Red         | M           | ro        |\n",
      "| 2019-06-03 00:00:00 | 1900081838 | COD           | ZB00005764  |          2 |               0 |               5.67191 |   2.77519   |             7.08937 | E-COMMER     | FTB.roC   | FTB.roO  | 11teamsports.ro | 2019-06-03 09:18:00 | U NK CLASSIC II CUSH OTC -TEAM         | sx5728-463       |         84 | Nike             |         200 | Apparel   |         290 | Socks           |         291 | Football socks          | football    | unisex      | adults      | Blue        | M           | ro        |\n",
      "| 2019-06-03 00:00:00 | 1900081739 | CARD_CSOB     | S114        |         -1 |               0 |               3.2031  |   0         |             3.2031  | E-COMMER     | RUN.czC   | RUN.czO  | top4running.cz  | 2019-06-03 09:18:00 | Sleva                                  | unspecified      |         -1 | no_manufacturer  |         999 | Other     |           0 | unspecified     |           0 | unspecified             | unspecified | unspecified | unspecified | unspecified | unspecified | cz        |\n",
      "| 2019-06-03 00:00:00 | 1900081504 | COD           | S114        |         -1 |               0 |               3.2031  |   0         |             3.2031  | E-COMMER     | RUN.czC   | RUN.czO  | top4running.cz  | 2019-06-03 09:17:00 | Sleva                                  | unspecified      |         -1 | no_manufacturer  |         999 | Other     |           0 | unspecified     |           0 | unspecified             | unspecified | unspecified | unspecified | unspecified | unspecified | cz        |\n",
      "| 2019-06-03 00:00:00 | 1900081739 | CARD_CSOB     | ZB00003656  |          1 |               0 |              18.0023  |  12.2453    |            23.9926  | E-COMMER     | RUN.czC   | RUN.czO  | top4running.cz  | 2019-06-03 09:18:00 | WOR SL SS SLD COMP                     | dp6163           |         88 | Reebok           |         200 | Apparel   |         230 | T-Shirts        |         236 | Compression shirts      | fitness     | men         | adults      | Black       | M           | cz        |\n",
      "| 2019-06-03 00:00:00 | 1900081739 | CARD_CSOB     | ZB00022646  |          1 |               0 |              33.6023  |  14.4702    |            44.814   | E-COMMER     | RUN.czC   | RUN.czO  | top4running.cz  | 2019-06-03 09:18:00 | LAUNCH SW LONG SHORT                   | 1309602-008      |        106 | Under Armour     |         200 | Apparel   |         240 | Pants           |         242 | Shorts                  | running     | men         | adults      | Silver      | M           | cz        |\n",
      "| 2019-06-03 00:00:00 | 1900081504 | COD           | S113        |          1 |               0 |               0.92907 |   0         |             0.92907 | E-COMMER     | RUN.czC   | RUN.czO  | top4running.cz  | 2019-06-03 09:17:00 | Platba                                 | unspecified      |         -1 | no_manufacturer  |         999 | Other     |           0 | unspecified     |           0 | unspecified             | unspecified | unspecified | unspecified | unspecified | unspecified | cz        |\n",
      "| 2019-06-03 00:00:00 | 1900081504 | COD           | ZB00015177  |          1 |               0 |              76.6547  |  61.1717    |           102.184   | E-COMMER     | RUN.czC   | RUN.czO  | top4running.cz  | 2019-06-03 09:17:00 | S/LAB EXO HALF TIGHT M                 | lc1044900        |        237 | S/LAB            |         200 | Apparel   |         240 | Pants           |         244 | Compression pants       | running     | men         | adults      | Black       | L           | cz        |\n",
      "| 2019-06-03 00:00:00 | 1900081504 | COD           | ZB00014706  |          1 |               0 |              52.6298  |  44.4225    |            70.1519  | E-COMMER     | RUN.czC   | RUN.czO  | top4running.cz  | 2019-06-03 09:17:00 | S/LAB SENSE TEE M                      | l40216800        |        237 | S/LAB            |         200 | Apparel   |         230 | T-Shirts        |           0 | unspecified             | running     | men         | adults      | White       | L           | cz        |\n",
      "| 2019-06-03 00:00:00 | 1900081551 | COD           | ZB00002433  |          1 |               0 |              34.9159  |  23.8702    |            34.9159  | E-COMMER     | FTB.czC   | FTB.czO  | 11teamsports.cz | 2019-06-03 09:17:00 | ACSP Y NK BRT FTBL TOP SS HM           | 914128-677       |         84 | Nike             |         200 | Apparel   |         225 | Jerseys         |           0 | unspecified             | football    | unisex      | kids        | Dark red    | XL          | cz        |\n",
      "| 2019-06-03 00:00:00 | 1900081739 | CARD_CSOB     | S101        |          1 |               0 |               1.56977 |   0         |             1.56977 | E-COMMER     | RUN.czC   | RUN.czO  | top4running.cz  | 2019-06-03 09:18:00 | Dopravné                               | unspecified      |         -1 | no_manufacturer  |         999 | Other     |           0 | unspecified     |           0 | unspecified             | unspecified | unspecified | unspecified | unspecified | unspecified | cz        |\n",
      "| 2019-06-03 00:00:00 | 1900081869 | COD           | ZB00026567  |          1 |               0 |              26.7676  |   0         |            41.6975  | E-COMMER     | FTB.skC   | FTB.skO  | 11teamsports.sk | 2019-06-03 09:58:00 | Tiro 19                                | dt5174           |         85 | adidas           |         200 | Apparel   |         240 | Pants           |           0 | unspecified             | football    | men         | adults      | Blue        | M           | sk        |\n",
      "| 2019-06-03 00:00:00 | 1900081663 | CARD_CSOB     | S114        |         -1 |               0 |               3.2031  |   0         |             3.2031  | E-COMMER     | RUN.czC   | RUN.czO  | top4running.cz  | 2019-06-03 09:17:00 | Sleva                                  | unspecified      |         -1 | no_manufacturer  |         999 | Other     |           0 | unspecified     |           0 | unspecified             | unspecified | unspecified | unspecified | unspecified | unspecified | cz        |\n",
      "| 2019-06-03 00:00:00 | 1900081481 | COD           | S114        |         -1 |               0 |               3.2031  |   0         |             3.2031  | E-COMMER     | RUN.czC   | RUN.czO  | top4running.cz  | 2019-06-03 09:16:00 | Sleva                                  | unspecified      |         -1 | no_manufacturer  |         999 | Other     |           0 | unspecified     |           0 | unspecified             | unspecified | unspecified | unspecified | unspecified | unspecified | cz        |\n",
      "| 2019-06-03 00:00:00 | 1900081561 | CARD_CSOB     | ZB00001005  |          1 |               0 |              23.0314  |  12.4031    |            25.5942  | E-COMMER     | RUN.czC   | RUN.czO  | top4running.cz  | 2019-06-03 09:17:00 | Fly By Graphic Waistband Short         | 1331828-001      |        106 | Under Armour     |         200 | Apparel   |         240 | Pants           |         242 | Shorts                  | running     | women       | adults      | Black       | M           | cz        |\n",
      "| 2019-06-03 00:00:00 | 1900081481 | COD           | ZB00010516  |          1 |               0 |              63.4248  |  52.6318    |           105.676   | E-COMMER     | RUN.czC   | RUN.czO  | top4running.cz  | 2019-06-03 09:16:00 | W NIKE AIR ZOOM PEGASUS 35 PRM         | ah8392-400       |         84 | Nike             |         100 | Footwear  |         120 | Running shoes   |           0 | unspecified             | running     | women       | adults      | Blue        | 38          | cz        |\n",
      "| 2019-06-03 00:00:00 | 1900081697 | CARD_CSOB     | ZB00006740  |          1 |               0 |              18.0023  |  12.0795    |            23.9926  | E-COMMER     | RUN.czC   | RUN.czO  | top4running.cz  | 2019-06-03 10:44:00 | Under Armour New Play Up Short         | 1292231-002      |        106 | Under Armour     |         200 | Apparel   |         240 | Pants           |         242 | Shorts                  | fitness     | women       | adults      | Black       | S           | cz        |\n",
      "| 2019-06-03 00:00:00 | 1900081697 | CARD_CSOB     | ZB00000273  |          1 |               0 |              28.7977  |  18.6047    |            38.4074  | E-COMMER     | RUN.czC   | RUN.czO  | top4running.cz  | 2019-06-03 10:44:00 | UA VANISH Mid Bra                      | 1311811-003      |        106 | Under Armour     |         200 | Apparel   |         285 | Bras            |           0 | unspecified             | fitness     | women       | adults      | Black       | S/M         | cz        |\n",
      "| 2019-06-03 00:00:00 | 1900081645 | CARD_CSOB     | ZB00012240  |          1 |               0 |             132.584   | 102.65      |           220.994   | E-COMMER     | FTB.czC   | FTB.czO  | 11teamsports.cz | 2019-06-03 11:57:00 | SUPERFLY 6 ELITE FG                    | ah7365-077       |         84 | Nike             |         100 | Footwear  |         110 | Football shoes  |           0 | unspecified             | football    | men         | adults      | Black       | 44          | cz        |\n",
      "| 2019-06-03 00:00:00 | 1900081561 | CARD_CSOB     | ZB00009619  |          1 |               0 |              22.1988  |   9.88605   |            28.7977  | E-COMMER     | RUN.czC   | RUN.czO  | top4running.cz  | 2019-06-03 09:17:00 | M NP TOP LS COMP                       | 838077-010       |         84 | Nike             |         200 | Apparel   |         230 | T-Shirts        |         233 | Longsleeved (LS) shirts | football    | men         | adults      | Black       | S           | cz        |\n",
      "| 2019-06-03 00:00:00 | 1900081697 | CARD_CSOB     | ZB00023763  |          1 |               0 |               8.39264 |   7.44767   |            11.1795  | E-COMMER     | RUN.czC   | RUN.czO  | top4running.cz  | 2019-06-03 10:44:00 | UA Heatgear Tech Low Cut               | 1312430-100      |        106 | Under Armour     |         200 | Apparel   |         290 | Socks           |           0 | unspecified             | fitness     | unisex      | adults      | White       | M           | cz        |\n",
      "| 2019-06-03 00:00:00 | 1900081551 | COD           | S114        |         -1 |               0 |               3.2031  |   0         |             3.2031  | E-COMMER     | FTB.czC   | FTB.czO  | 11teamsports.cz | 2019-06-03 09:17:00 | Sleva                                  | unspecified      |         -1 | no_manufacturer  |         999 | Other     |           0 | unspecified     |           0 | unspecified             | unspecified | unspecified | unspecified | unspecified | unspecified | cz        |\n",
      "| 2019-06-03 00:00:00 | 1900081481 | COD           | S113        |          1 |               0 |               0.92907 |   0         |             0.92907 | E-COMMER     | RUN.czC   | RUN.czO  | top4running.cz  | 2019-06-03 09:16:00 | Platba                                 | unspecified      |         -1 | no_manufacturer  |         999 | Other     |           0 | unspecified     |           0 | unspecified             | unspecified | unspecified | unspecified | unspecified | unspecified | cz        |\n",
      "| 2019-06-03 00:00:00 | 1900081728 | PAYPAL        | ZB00023252  |          1 |               0 |              41.6975  |  42.7178    |            82.6945  | E-COMMER     | RUN.comC  | RUN.comO | top4running.com | 2019-06-03 08:01:00 | NIKE AIR SAFARI                        | 371740-012       |         84 | Nike             |         100 | Footwear  |         199 | Other Footwear  |           0 | unspecified             | lifestyle   | men         | adults      | Silver      | 42,5        | com       |\n",
      "| 2019-06-03 00:00:00 | 1900081697 | CARD_CSOB     | S114        |         -1 |               0 |               3.2031  |   0         |             3.2031  | E-COMMER     | RUN.czC   | RUN.czO  | top4running.cz  | 2019-06-03 10:44:00 | Sleva                                  | unspecified      |         -1 | no_manufacturer  |         999 | Other     |           0 | unspecified     |           0 | unspecified             | unspecified | unspecified | unspecified | unspecified | unspecified | cz        |\n",
      "| 2019-06-03 00:00:00 | 1900081697 | CARD_CSOB     | ZB00011073  |          1 |               0 |              19.1876  |  12.4031    |            25.5942  | E-COMMER     | RUN.czC   | RUN.czO  | top4running.cz  | 2019-06-03 10:44:00 | UA HG Armour SS                        | 1328964-001      |        106 | Under Armour     |         200 | Apparel   |         230 | T-Shirts        |           0 | unspecified             | fitness     | women       | adults      | Black       | S/M         | cz        |\n",
      "| 2019-06-03 00:00:00 | 1900081561 | CARD_CSOB     | S114        |         -1 |               0 |               3.2031  |   0         |             3.2031  | E-COMMER     | RUN.czC   | RUN.czO  | top4running.cz  | 2019-06-03 09:17:00 | Sleva                                  | unspecified      |         -1 | no_manufacturer  |         999 | Other     |           0 | unspecified     |           0 | unspecified             | unspecified | unspecified | unspecified | unspecified | unspecified | cz        |\n",
      "| 2019-06-03 00:00:00 | 1900081561 | CARD_CSOB     | S101        |          1 |               0 |               2.21008 |   0         |             2.21008 | E-COMMER     | RUN.czC   | RUN.czO  | top4running.cz  | 2019-06-03 09:17:00 | Dopravné                               | unspecified      |         -1 | no_manufacturer  |         999 | Other     |           0 | unspecified     |           0 | unspecified             | unspecified | unspecified | unspecified | unspecified | unspecified | cz        |\n",
      "| 2019-06-03 00:00:00 | 1900081697 | CARD_CSOB     | ZB00000699  |          1 |               0 |              26.395   |  19.1814    |            35.2039  | E-COMMER     | RUN.czC   | RUN.czO  | top4running.cz  | 2019-06-03 10:44:00 | Fly By Mini 2-in-1                     | 1328163-001      |        106 | Under Armour     |         200 | Apparel   |         240 | Pants           |         242 | Shorts                  | running     | women       | adults      | Black       | S/M         | cz        |\n",
      "| 2019-06-03 00:00:00 | 1900081697 | CARD_CSOB     | ZB00021901  |          1 |               0 |              26.395   |  17.0543    |            35.2039  | E-COMMER     | RUN.czC   | RUN.czO  | top4running.cz  | 2019-06-03 10:44:00 | Crossback Graphic                      | 1317111-001      |        106 | Under Armour     |         200 | Apparel   |         285 | Bras            |           0 | unspecified             | running     | women       | adults      | Black       | S/M         | cz        |\n",
      "| 2019-06-03 00:00:00 | 1900081856 | COD           | ZB00026563  |          1 |               0 |              54.2057  |  26.7516    |            54.2057  | E-COMMER     | FTB.skC   | FTB.skO  | 11teamsports.sk | 2019-06-03 09:23:00 | LEGEND 7 ACADEMY FG                    | ah7242-118       |         84 | Nike             |         100 | Footwear  |         110 | Football shoes  |           0 | unspecified             | football    | men         | adults      | White       | 39          | sk        |\n",
      "| 2019-06-03 00:00:00 | 1900081481 | COD           | S101        |          1 |               0 |               1.56977 |   0         |             1.56977 | E-COMMER     | RUN.czC   | RUN.czO  | top4running.cz  | 2019-06-03 09:16:00 | Dopravné                               | unspecified      |         -1 | no_manufacturer  |         999 | Other     |           0 | unspecified     |           0 | unspecified             | unspecified | unspecified | unspecified | unspecified | unspecified | cz        |\n",
      "| 2019-06-04 00:00:00 | 1900080515 | CARD_CSOB     | ZB00000385  |          1 |               0 |              11.1795  |   8.12326   |            15.9845  | E-COMMER     | FTB.czC   | FTB.czO  | 11teamsports.cz | 2019-06-04 15:31:00 | NK HERITAGE HIP PACK                   | ba5750-605       |         84 | Nike             |         300 | Equipment |         305 | Bags            |           0 | unspecified             | football    | unisex      | adults      | Pink        | ks          | cz        |\n",
      "| 2019-06-04 00:00:00 | 1900080514 | COD           | ZB00007916  |          1 |               0 |              17.2245  |  12.6612    |            22.9069  | E-COMMER     | FTB.roC   | FTB.roO  | 11teamsports.ro | 2019-06-04 15:31:00 | RC FEF TEE- SPEEDWICK                  | dt2772           |         88 | Reebok           |         200 | Apparel   |         230 | T-Shirts        |           0 | unspecified             | fitness     | men         | adults      | Black       | M           | ro        |\n",
      "| 2019-06-04 00:00:00 | 1900080514 | COD           | S101        |          1 |               0 |               2.66472 |   0         |             2.86822 | E-COMMER     | FTB.roC   | FTB.roO  | 11teamsports.ro | 2019-06-04 15:31:00 | Dopravné                               | unspecified      |         -1 | no_manufacturer  |         999 | Other     |           0 | unspecified     |           0 | unspecified             | unspecified | unspecified | unspecified | unspecified | unspecified | ro        |\n",
      "| 2019-06-04 00:00:00 | 1900080516 | COD           | S101        |          1 |               0 |               2.66472 |   0         |             2.86822 | E-COMMER     | FTB.roC   | FTB.roO  | 11teamsports.ro | 2019-06-04 15:31:00 | Dopravné                               | unspecified      |         -1 | no_manufacturer  |         999 | Other     |           0 | unspecified     |           0 | unspecified             | unspecified | unspecified | unspecified | unspecified | unspecified | ro        |\n",
      "| 2019-06-04 00:00:00 | 1900080516 | COD           | ZB00010633  |          1 |               0 |              15.0944  |  10.8527    |            21.4868  | E-COMMER     | FTB.roC   | FTB.roO  | 11teamsports.ro | 2019-06-04 15:31:00 | UA SPORTSTYLE LC SS                    | 1326799-289      |        106 | Under Armour     |         200 | Apparel   |         230 | T-Shirts        |           0 | unspecified             | football    | men         | adults      | Brown       | M           | ro        |\n",
      "| 2019-06-04 00:00:00 | 1900080518 | COD           | ZB00023141  |          1 |               0 |              37.2868  |  35.0814    |            62.1527  | E-COMMER     | FTB.huC   | FTB.huO  | 11teamsports.hu | 2019-06-04 15:32:00 | WL420                                  | wl420npn         |        123 | New Balance      |         100 | Footwear  |         199 | Other Footwear  |           0 | unspecified             | lifestyle   | women       | adults      | Blue        | 37,5        | hu        |\n",
      "| 2019-06-04 00:00:00 | 1900080518 | COD           | S101        |          1 |               0 |               2.4111  |   0         |             2.86822 | E-COMMER     | FTB.huC   | FTB.huO  | 11teamsports.hu | 2019-06-04 15:32:00 | Dopravné                               | unspecified      |         -1 | no_manufacturer  |         999 | Other     |           0 | unspecified     |           0 | unspecified             | unspecified | unspecified | unspecified | unspecified | unspecified | hu        |\n",
      "| 2019-06-04 00:00:00 | 1900080519 | COD           | ZB00004599  |          1 |               0 |              55.1873  |  37.7519    |            68.972   | E-COMMER     | FTB.huC   | FTB.huO  | 11teamsports.hu | 2019-06-04 15:32:00 | NEMEZIZ 193 LL FG                      | f99997           |         85 | adidas           |         100 | Footwear  |         110 | Football shoes  |           0 | unspecified             | football    | men         | adults      | Red         | 43,3        | hu        |\n",
      "| 2019-06-04 00:00:00 | 1900080515 | CARD_CSOB     | S101        |          1 |               0 |               1.56977 |   0         |             2.86822 | E-COMMER     | FTB.czC   | FTB.czO  | 11teamsports.cz | 2019-06-04 15:31:00 | Dopravné                               | unspecified      |         -1 | no_manufacturer  |         999 | Other     |           0 | unspecified     |           0 | unspecified             | unspecified | unspecified | unspecified | unspecified | unspecified | cz        |\n",
      "| 2019-06-04 00:00:00 | 1900080511 | COD           | ZB00019767  |          1 |               0 |              59.4494  |  55.2353    |            99.0742  | E-COMMER     | RUN.huC   | RUN.huO  | top4running.hu  | 2019-06-04 15:31:00 | W NIKE AIR ZOOM PEGASUS 35 PRM         | ah8392-100       |         84 | Nike             |         100 | Footwear  |         120 | Running shoes   |           0 | unspecified             | running     | women       | adults      | White       | 40,5        | hu        |\n",
      "| 2019-06-04 00:00:00 | 1900081808 | COD           | ZB00014749  |          1 |               0 |             127.678   |  87.2229    |           150.053   | E-COMMER     | FTB.roC   | FTB.roO  | 11teamsports.ro | 2019-06-04 18:34:00 | AIR VAPORMAX 2019                      | ar6631-004       |         84 | Nike             |         100 | Footwear  |         199 | Other Footwear  |           0 | unspecified             | football    | men         | adults      | Black       | 41          | ro        |\n",
      "+---------------------+------------+---------------+-------------+------------+-----------------+-----------------------+-------------+---------------------+--------------+-----------+----------+-----------------+---------------------+----------------------------------------+------------------+------------+------------------+-------------+-----------+-------------+-----------------+-------------+-------------------------+-------------+-------------+-------------+-------------+-------------+-----------+\n"
     ]
    }
   ],
   "source": [
    "dc.print_df_with_dtypes(df_FE, max_rows=200, print_on=True, data_generated_path=DATA_GENERATED_PATH, name_extension='EDA_FE')"
   ]
  },
  {
   "cell_type": "code",
   "execution_count": 17,
   "metadata": {},
   "outputs": [],
   "source": [
    "# # save to csv, continue EDA in Tableau\n",
    "# df_FE.to_csv(DATA_GENERATED_PATH + 'df_FE.csv')"
   ]
  },
  {
   "cell_type": "markdown",
   "metadata": {},
   "source": [
    "## Moon Phases\n",
    "\n",
    "\n",
    "\n"
   ]
  },
  {
   "cell_type": "code",
   "execution_count": 19,
   "metadata": {},
   "outputs": [
    {
     "name": "stdout",
     "output_type": "stream",
     "text": [
      "+---------------------+-------------+\n",
      "| date                |   moonphase |\n",
      "|                     |     float64 |\n",
      "|                     |      NaN: 0 |\n",
      "|---------------------+-------------|\n",
      "| 2021-12-16 00:00:00 |        0.41 |\n",
      "| 2021-12-17 00:00:00 |        0.44 |\n",
      "| 2021-12-18 00:00:00 |        0.48 |\n",
      "| 2021-12-19 00:00:00 |        0.5  |\n",
      "| 2021-12-20 00:00:00 |        0.54 |\n",
      "| 2021-12-21 00:00:00 |        0.58 |\n",
      "| 2021-12-22 00:00:00 |        0.61 |\n",
      "| 2021-12-23 00:00:00 |        0.65 |\n",
      "| 2021-12-24 00:00:00 |        0.68 |\n",
      "| 2021-12-25 00:00:00 |        0.71 |\n",
      "| 2021-12-26 00:00:00 |        0.75 |\n",
      "| 2021-12-27 00:00:00 |        0.75 |\n",
      "| 2021-12-28 00:00:00 |        0.82 |\n",
      "| 2021-12-29 00:00:00 |        0.85 |\n",
      "| 2021-12-30 00:00:00 |        0.89 |\n",
      "| 2021-12-31 00:00:00 |        0.92 |\n",
      "| 2022-01-01 00:00:00 |        0.95 |\n",
      "| 2022-01-02 00:00:00 |        0    |\n",
      "| 2022-01-03 00:00:00 |        0.02 |\n",
      "| 2022-01-04 00:00:00 |        0.06 |\n",
      "+---------------------+-------------+\n"
     ]
    }
   ],
   "source": [
    "# read from the csv file data/Prague 2019-06-01 to 2022-01-14.csv\n",
    "\n",
    "weather_Prague = pd.read_csv(DATA_ORIGINAL_PATH + 'Prague 2019-06-01 to 2022-01-14.csv')\n",
    "\n",
    "# weather_Prague.datetime from object to datetime, the object format is 2019-06-01 \n",
    "weather_Prague['datetime'] = pd.to_datetime(weather_Prague['datetime'])\n",
    "\n",
    "# rename the column datetime to date, and set the index to date\n",
    "weather_Prague.rename(columns={'datetime': 'date'}, inplace=True)\n",
    "weather_Prague = weather_Prague.set_index('date')\n",
    "\n",
    "# print weather_Prague\n",
    "dc.print_df_with_dtypes(weather_Prague[['moonphase']].tail(30), max_rows=20, print_on=True, data_generated_path=DATA_GENERATED_PATH, name_extension='EDA_weather_Prague')\n"
   ]
  },
  {
   "cell_type": "code",
   "execution_count": 20,
   "metadata": {},
   "outputs": [
    {
     "name": "stdout",
     "output_type": "stream",
     "text": [
      "+---------------------+-------------+\n",
      "| date                |   moonphase |\n",
      "|                     |     float64 |\n",
      "|                     |      NaN: 0 |\n",
      "|---------------------+-------------|\n",
      "| 2024-12-02 00:00:00 |        0.04 |\n",
      "| 2024-12-03 00:00:00 |        0.08 |\n",
      "| 2024-12-04 00:00:00 |        0.11 |\n",
      "| 2024-12-05 00:00:00 |        0.15 |\n",
      "| 2024-12-06 00:00:00 |        0.18 |\n",
      "| 2024-12-07 00:00:00 |        0.22 |\n",
      "| 2024-12-08 00:00:00 |        0.25 |\n",
      "| 2024-12-09 00:00:00 |        0.29 |\n",
      "| 2024-12-10 00:00:00 |        0.33 |\n",
      "| 2024-12-11 00:00:00 |        0.36 |\n",
      "| 2024-12-12 00:00:00 |        0.4  |\n",
      "| 2024-12-13 00:00:00 |        0.43 |\n",
      "| 2024-12-14 00:00:00 |        0.47 |\n",
      "| 2024-12-15 00:00:00 |        0.5  |\n",
      "| 2024-12-16 00:00:00 |        0.53 |\n",
      "| 2024-12-17 00:00:00 |        0.57 |\n",
      "| 2024-12-18 00:00:00 |        0.6  |\n",
      "| 2024-12-19 00:00:00 |        0.63 |\n",
      "| 2024-12-20 00:00:00 |        0.66 |\n",
      "| 2024-12-21 00:00:00 |        0.7  |\n",
      "+---------------------+-------------+\n"
     ]
    }
   ],
   "source": [
    "\n",
    "\n",
    "# read moonphase_future from data/prague 2022-01-01 to 2024-12-31.csv\n",
    "moonphase_future = pd.read_csv(DATA_ORIGINAL_PATH + 'prague 2022-01-01 to 2024-12-31.csv')\n",
    "\n",
    "# conver the moonphase_future.datetime from timestemp to datetime\n",
    "# rename the column datetimeEpoch to datetime\n",
    "moonphase_future = moonphase_future.rename(columns={'datetimeEpoch': 'datetime'})\n",
    "moonphase_future['datetime'] = pd.to_datetime(moonphase_future['datetime'], unit='s')\n",
    "moonphase_future['datetime'] = moonphase_future['datetime'] + pd.Timedelta(hours=1)\n",
    "\n",
    "# rename the column datetime to date, and set the index to date\n",
    "moonphase_future.rename(columns={'datetime': 'date'}, inplace=True)\n",
    "moonphase_future = moonphase_future.set_index('date')\n",
    "\n",
    "# print weather_Prague\n",
    "dc.print_df_with_dtypes(moonphase_future[['moonphase']].tail(30), max_rows=20, print_on=True, data_generated_path=DATA_GENERATED_PATH, name_extension='EDA_moonphase_future')\n",
    "\n"
   ]
  },
  {
   "attachments": {},
   "cell_type": "markdown",
   "metadata": {},
   "source": [
    "The t-statistic of -3.342 indicates that the 'quantity' variable's mean for one moon phase group is lower than the other. The p-value of 0.00083 suggests that there is a significant difference between the means, allowing us to reject the null hypothesis."
   ]
  },
  {
   "attachments": {},
   "cell_type": "markdown",
   "metadata": {},
   "source": [
    "### Hypotheses\n",
    "\n",
    "1. **Group Differences:** Test if the `group_other` is different from each of the other groups (group_a, group_b, group_c, group_d, and group_e).\n",
    "\n",
    "2. **Paired Group Differences:** Test if the difference between the following pairs of groups is not important:\n",
    "    - group_a and group_b\n",
    "    - group_b and group_c\n",
    "    - group_c and group_d\n",
    "    - group_e and group_a\n",
    "\n",
    "3. **Mean Comparison:** Test if the mean of group_a, group_b, group_c, group_d, and group_e is much larger than the mean of `group_other`.\n",
    "\n",
    "4. **Sum Comparison:** Test if the sum of the quantities from group_a, group_b, group_c, group_d, and group_e is much larger than the sum of the quantities from `group_other`.\n"
   ]
  },
  {
   "attachments": {},
   "cell_type": "markdown",
   "metadata": {},
   "source": [
    "In the given context, we aim to investigate the potential impact of moon phases on the daily sales quantity of a product. By carrying out these tests, we can gain insights into whether there is a statistically significant relationship between different moon phases and sales performance. This information can be valuable for understanding customer behavior and could potentially help with decision-making in areas such as marketing campaigns, pricing, and inventory management.\n",
    "\n",
    "Specifically, we want to examine:\n",
    "\n",
    "- If the sales quantity during specific moon phases (0, 0.25, 0.5, 0.75, and 1.0) is significantly different from the sales quantity during other moon phases.\n",
    "- If there is a significant difference in sales quantity between specific moon phase pairs (e.g., full moon vs. new moon, first quarter vs. last quarter, etc.).\n",
    "- If the mean sales quantity during the specific moon phases (0, 0.25, 0.5, 0.75, and 1.0) is much larger than the mean sales quantity during other moon phases.\n",
    "- If the sum of sales quantity during the specific moon phases (0, 0.25, 0.5, 0.75, and 1.0) is much larger than the sum of sales quantity during other moon phases.\n",
    "\n",
    "By conducting these hypothesis tests, we can determine if there is any evidence to support the idea that moon phases influence the daily sales quantity. If significant differences are found, this could provide a basis for further investigation and potentially inform business strategies that take into account the effects of moon phases on sales.\n"
   ]
  },
  {
   "attachments": {},
   "cell_type": "markdown",
   "metadata": {},
   "source": [
    "| Group   | Moon Phase   | Description                                                                                               |\n",
    "|---------|--------------|-----------------------------------------------------------------------------------------------------------|\n",
    "| Group_0 | Other values | Contains all observations with moon phase values not equal to 0, 0.25, 0.5, 0.75, or 1.                    |\n",
    "| Group_1 | 0            | Contains all observations with moon phase values close to 0 (New Moon).                                   |\n",
    "| Group_2 | 0.25         | Contains all observations with moon phase values close to 0.25 (First Quarter / Waxing Half Moon).        |\n",
    "| Group_3 | 0.5          | Contains all observations with moon phase values close to 0.5 (Full Moon).                                |\n",
    "| Group_4 | 0.75         | Contains all observations with moon phase values close to 0.75 (Last Quarter / Waning Half Moon).         |\n",
    "| Group_5 | 1            | Contains all observations with moon phase values close to 1 (New Moon, same as Group_1 but a different set). |\n"
   ]
  },
  {
   "cell_type": "code",
   "execution_count": 21,
   "metadata": {},
   "outputs": [
    {
     "name": "stdout",
     "output_type": "stream",
     "text": [
      "+-----------+-----------+---------------+-------------+\n",
      "| Group A   | Group B   |   t-statistic |     p-value |\n",
      "+===========+===========+===============+=============+\n",
      "| Group_1   | Group_2   |      2.76067  | 0.00576904  |\n",
      "+-----------+-----------+---------------+-------------+\n",
      "| Group_1   | Group_3   |     10.7539   | 5.79286e-27 |\n",
      "+-----------+-----------+---------------+-------------+\n",
      "| Group_1   | Group_4   |      2.17868  | 0.0293571   |\n",
      "+-----------+-----------+---------------+-------------+\n",
      "| Group_1   | Group_5   |     -2.79066  | 0.00526435  |\n",
      "+-----------+-----------+---------------+-------------+\n",
      "| Group_2   | Group_3   |     10.4534   | 1.43283e-25 |\n",
      "+-----------+-----------+---------------+-------------+\n",
      "| Group_2   | Group_4   |     -0.714977 | 0.474624    |\n",
      "+-----------+-----------+---------------+-------------+\n",
      "| Group_2   | Group_5   |     -4.44735  | 8.74534e-06 |\n",
      "+-----------+-----------+---------------+-------------+\n",
      "| Group_3   | Group_4   |    -10.8633   | 1.75241e-27 |\n",
      "+-----------+-----------+---------------+-------------+\n",
      "| Group_3   | Group_5   |     -8.96272  | 3.44409e-19 |\n",
      "+-----------+-----------+---------------+-------------+\n",
      "| Group_4   | Group_5   |     -4.13428  | 3.57635e-05 |\n",
      "+-----------+-----------+---------------+-------------+\n",
      "| Group_0   | Group_1   |     -2.42114  | 0.0154739   |\n",
      "+-----------+-----------+---------------+-------------+\n",
      "| Group_0   | Group_2   |      1.20363  | 0.228734    |\n",
      "+-----------+-----------+---------------+-------------+\n",
      "| Group_0   | Group_3   |     14.0198   | 1.27578e-44 |\n",
      "+-----------+-----------+---------------+-------------+\n",
      "| Group_0   | Group_4   |      0.201055 | 0.840656    |\n",
      "+-----------+-----------+---------------+-------------+\n",
      "| Group_0   | Group_5   |     -4.24674  | 2.18153e-05 |\n",
      "+-----------+-----------+---------------+-------------+\n"
     ]
    }
   ],
   "source": [
    "# import ttest_ind\n",
    "from scipy.stats import ttest_ind\n",
    "import numpy as np\n",
    "\n",
    "from tabulate import tabulate\n",
    "\n",
    "def moonphase_ttest_v2(df_FE, weather_Prague, moonphase_values=[0, 0.25, 0.5, 0.75, 1.0], tolerance=2.5e-2):\n",
    "    # Set the datetime column as the index in weather_Prague\n",
    "    # weather_Prague = weather_Prague.set_index('date')\n",
    "    \n",
    "    # Merge moonphase data to df_FE\n",
    "    df_FE = df_FE.merge(weather_Prague[['moonphase']], left_index=True, right_index=True, how='left')\n",
    "\n",
    "    # Create a mask for specific moon phase values\n",
    "    specific_moonphase_mask = np.zeros(df_FE.shape[0], dtype=bool)\n",
    "    for value in moonphase_values:\n",
    "        specific_moonphase_mask |= np.isclose(df_FE['moonphase'], value, atol=tolerance)\n",
    "\n",
    "    # Create groups based on moon phase values\n",
    "    groups = {i: df_FE[np.isclose(df_FE['moonphase'], value, atol=tolerance)] for i, value in enumerate(moonphase_values, 1)}\n",
    "    groups[0] = df_FE[~specific_moonphase_mask]\n",
    "    \n",
    "    # Compare the means of all pairs of groups and display the results in a table\n",
    "    comparisons = []\n",
    "    for i, group_i in groups.items():\n",
    "        for j, group_j in groups.items():\n",
    "            if i < j:\n",
    "                t_statistic, p_value = ttest_ind(\n",
    "                    group_i['quantity'],\n",
    "                    group_j['quantity'],\n",
    "                    equal_var=False,\n",
    "                    nan_policy='omit'\n",
    "                )\n",
    "                comparisons.append([f\"Group_{i}\", f\"Group_{j}\", t_statistic, p_value])\n",
    "    \n",
    "    print(tabulate(comparisons, headers=[\"Group A\", \"Group B\", \"t-statistic\", \"p-value\"], tablefmt=\"grid\"))\n",
    "\n",
    "    # write the result to a txt file, in tabulate format\n",
    "    with open(DATA_GENERATED_PATH + 'moonphase_test_v2.txt', 'w') as f:\n",
    "        f.write(tabulate(comparisons, headers=[\"Group A\", \"Group B\", \"t-statistic\", \"p-value\"], tablefmt=\"grid\"))\n",
    "        \n",
    "\n",
    "# Example usage\n",
    "moonphase_ttest_v2(df_FE, weather_Prague)\n"
   ]
  },
  {
   "attachments": {},
   "cell_type": "markdown",
   "metadata": {},
   "source": [
    "## Using Week Numbers as Proxy Variables\n",
    "\n",
    "When working with weather data, one approach to simplifying the analysis is to use the week of the month as proxy variables. This means aggregating the data by week, allowing us to analyze the differences in weather patterns and identify any significant changes over time. However, it's important to carefully consider the implications of this approach, as it may not fully capture the nuances of the actual weather conditions.\n",
    "\n",
    "### Hypothesis Testing\n",
    "\n",
    "To test the validity of using the week of the month as proxy variables, we can perform a Kruskal-Wallis test for numerical features and a Chi-square test for categorical features. These tests help us determine whether the means (or distributions, in the case of categorical variables) are significantly different across different weeks of the month.\n",
    "\n",
    "We can set up the null hypothesis (H0) as follows:\n",
    "\n",
    "- H0: There is no significant difference in means (or distributions) of the weather features across different weeks of the month.\n",
    "\n",
    "If the p-value obtained from the test is greater than the significance level (alpha), typically set to 0.05, we fail to reject the null hypothesis, suggesting that there is no significant difference in the means (or distributions) of the weather features across different weeks of the month.\n",
    "\n",
    "### Results and Interpretation\n",
    "\n",
    "After performing the hypothesis tests, we can calculate the proportion of weeks with no significant difference in means (or distributions) for each weather feature. Features with a proportion greater than the significance level (e.g., 0.05) can be considered as suitable proxy variables for weather data. However, it's important to note that this is a simplification and may not perfectly represent the actual weather conditions.\n",
    "\n",
    "Based on the test results, we can decide which features to keep in our analysis and which ones to drop due to their low proportion values (less than or equal to 0.05). This process can help us create a simplified dataset that maintains relevant information while reducing complexity.\n",
    "\n"
   ]
  },
  {
   "cell_type": "code",
   "execution_count": 22,
   "metadata": {},
   "outputs": [
    {
     "name": "stdout",
     "output_type": "stream",
     "text": [
      "+---------------------+----------+-----------+--------------------------------------------+------------+-------------+-----------+-----------+-----------+----------------+----------------+-------------+-----------+------------+-----------+--------------+---------------+--------------+-----------+-------------+------------+-------------+-----------+--------------------+--------------+--------------+------------------+---------------+-----------+--------------+---------------------+---------------------+-------------+------------------+--------------------------------------+-------------------+----------+\n",
      "| date                | name     | address   | resolvedAddress                            |   latitude |   longitude |   tempmax |   tempmin |      temp |   feelslikemax |   feelslikemin |   feelslike |       dew |   humidity |    precip |   precipprob |   precipcover |   preciptype |      snow |   snowdepth |   windgust |   windspeed |   winddir |   sealevelpressure |   cloudcover |   visibility |   solarradiation |   solarenergy |   uvindex |   severerisk | sunrise             | sunset              |   moonphase | conditions       | description                          | icon              | source   |\n",
      "|                     | object   | object    | object                                     |    float64 |     float64 |   float64 |   float64 |   float64 |        float64 |        float64 |     float64 |   float64 |    float64 |   float64 |        int64 |       float64 |       object |   float64 |     float64 |    float64 |     float64 |   float64 |            float64 |      float64 |      float64 |          float64 |       float64 |     int64 |      float64 | object              | object              |     float64 | object           | object                               | object            | object   |\n",
      "|                     | NaN: 0   | NaN: 0    | NaN: 0                                     |     NaN: 0 |      NaN: 0 |    NaN: 0 |    NaN: 0 |    NaN: 0 |         NaN: 0 |         NaN: 0 |      NaN: 0 |    NaN: 0 |     NaN: 0 |    NaN: 0 |       NaN: 0 |        NaN: 0 |       NaN: 5 |    NaN: 0 |      NaN: 0 |     NaN: 5 |      NaN: 0 |    NaN: 0 |             NaN: 0 |       NaN: 0 |       NaN: 0 |           NaN: 0 |        NaN: 0 |    NaN: 0 |       NaN: 5 | NaN: 0              | NaN: 0              |      NaN: 0 | NaN: 0           | NaN: 0                               | NaN: 0            | NaN: 0   |\n",
      "|---------------------+----------+-----------+--------------------------------------------+------------+-------------+-----------+-----------+-----------+----------------+----------------+-------------+-----------+------------+-----------+--------------+---------------+--------------+-----------+-------------+------------+-------------+-----------+--------------------+--------------+--------------+------------------+---------------+-----------+--------------+---------------------+---------------------+-------------+------------------+--------------------------------------+-------------------+----------|\n",
      "| 2019-06-01 00:00:00 | Prague   | Prague    | Praha, Hlavní město Praha, Česká Republika |     50.079 |      14.433 |      26.6 |      13.8 |      20.9 |           26.6 |           13.8 |        20.9 |      11.8 |       59.6 |         0 |            0 |             0 |          nan |         0 |           0 |        nan |        10.6 |     280.6 |             1022   |         52   |         40.9 |            311.2 |          26.8 |         9 |          nan | 2019-06-01T04:58:09 | 2019-06-01T21:02:36 |        0.94 | Partially cloudy | Partly cloudy throughout the day.    | partly-cloudy-day | obs      |\n",
      "| 2019-06-02 00:00:00 | Prague   | Prague    | Praha, Hlavní město Praha, Česká Republika |     50.079 |      14.433 |      28.5 |      14.2 |      22.3 |           27.8 |           14.2 |        22.1 |      12.4 |       56.6 |         0 |            0 |             0 |          nan |         0 |           0 |        nan |        11.4 |      96.4 |             1019   |         21.2 |         37.7 |            311.4 |          27   |         9 |          nan | 2019-06-02T04:57:25 | 2019-06-02T21:03:36 |        0.97 | Partially cloudy | Partly cloudy throughout the day.    | partly-cloudy-day | obs      |\n",
      "| 2019-06-03 00:00:00 | Prague   | Prague    | Praha, Hlavní město Praha, Česká Republika |     50.079 |      14.433 |      29.5 |      14.5 |      23.6 |           28.2 |           14.5 |        23.3 |      12   |       51.2 |         0 |            0 |             0 |          nan |         0 |           0 |        nan |        12.6 |     126.5 |             1015.8 |         11.6 |         41   |            313.4 |          27.1 |         9 |          nan | 2019-06-03T04:56:44 | 2019-06-03T21:04:35 |        0    | Clear            | Clear conditions throughout the day. | clear-day         | obs      |\n",
      "| 2019-06-04 00:00:00 | Prague   | Prague    | Praha, Hlavní město Praha, Česká Republika |     50.079 |      14.433 |      29.7 |      15.5 |      23.4 |           28.8 |           15.5 |        23.2 |      13.2 |       55.3 |         0 |            0 |             0 |          nan |         0 |           0 |        nan |        10.8 |       3.7 |             1012.8 |         21.8 |         32.5 |            304   |          26.4 |         9 |          nan | 2019-06-04T04:56:06 | 2019-06-04T21:05:31 |        0.04 | Partially cloudy | Partly cloudy throughout the day.    | partly-cloudy-day | obs      |\n",
      "| 2019-06-05 00:00:00 | Prague   | Prague    | Praha, Hlavní město Praha, Česká Republika |     50.079 |      14.433 |      30.8 |      15.7 |      24.2 |           29.6 |           15.7 |        23.9 |      13.8 |       55.6 |         0 |            0 |             0 |          nan |         0 |           0 |        nan |        21   |      78.9 |             1009.1 |         21.2 |         32.7 |            309.7 |          26.8 |         9 |          nan | 2019-06-05T04:55:31 | 2019-06-05T21:06:26 |        0.07 | Partially cloudy | Partly cloudy throughout the day.    | partly-cloudy-day | obs      |\n",
      "+---------------------+----------+-----------+--------------------------------------------+------------+-------------+-----------+-----------+-----------+----------------+----------------+-------------+-----------+------------+-----------+--------------+---------------+--------------+-----------+-------------+------------+-------------+-----------+--------------------+--------------+--------------+------------------+---------------+-----------+--------------+---------------------+---------------------+-------------+------------------+--------------------------------------+-------------------+----------+\n"
     ]
    }
   ],
   "source": [
    "dc.print_df_with_dtypes(weather_Prague.head(), max_rows=20, print_on=True, data_generated_path=DATA_GENERATED_PATH, name_extension='EDA_weather_Prague')"
   ]
  },
  {
   "cell_type": "code",
   "execution_count": 23,
   "metadata": {},
   "outputs": [],
   "source": [
    "weather_col = ['tempmax', 'tempmin', 'temp', 'feelslikemax', 'feelslikemin',\n",
    "       'feelslike', 'dew', 'humidity', 'precip', 'precipprob', 'precipcover',\n",
    "       'preciptype', 'snow', 'snowdepth', 'windgust', 'windspeed', 'winddir',\n",
    "       'sealevelpressure', 'cloudcover', 'visibility', 'solarradiation',\n",
    "       'solarenergy', 'uvindex', 'severerisk', 'sunrise', 'sunset',\n",
    "       'moonphase', 'conditions']"
   ]
  },
  {
   "cell_type": "code",
   "execution_count": 24,
   "metadata": {},
   "outputs": [
    {
     "name": "stdout",
     "output_type": "stream",
     "text": [
      "Proportion of weeks with no significant difference in means for each feature:\n",
      "Feature\n",
      "cloudcover          0.679245\n",
      "conditions          0.754717\n",
      "dew                 0.641509\n",
      "feelslike           0.490566\n",
      "feelslikemax        0.528302\n",
      "feelslikemin        0.584906\n",
      "humidity            0.641509\n",
      "moonphase           0.301887\n",
      "precip              0.773585\n",
      "precipcover         0.773585\n",
      "precipprob          0.735849\n",
      "preciptype          0.924528\n",
      "sealevelpressure    0.471698\n",
      "severerisk          0.000000\n",
      "snow                0.818182\n",
      "snowdepth           0.700000\n",
      "solarenergy         0.849057\n",
      "solarradiation      0.830189\n",
      "sunrise             0.000000\n",
      "sunset              0.000000\n",
      "temp                0.452830\n",
      "tempmax             0.528302\n",
      "tempmin             0.603774\n",
      "uvindex             0.867925\n",
      "visibility          0.622642\n",
      "winddir             0.811321\n",
      "windgust            0.000000\n",
      "windspeed           0.641509\n",
      "Name: no_significant_difference, dtype: float64\n"
     ]
    }
   ],
   "source": [
    "import pandas as pd\n",
    "from scipy.stats import kruskal, chi2_contingency\n",
    "\n",
    "# List the categorical features\n",
    "categorical_features = ['preciptype', 'conditions']\n",
    "\n",
    "# Define the function to perform the Kruskal-Wallis and Chi-square tests\n",
    "def kruskal_wallis_chi_square_test(weather_data, weeks_range=(1, 53), features=weather_col):\n",
    "    weather_data.index = pd.to_datetime(weather_data.index)\n",
    "    weather_data['week_of_year'] = weather_data.index.isocalendar().week\n",
    "    weather_data['year'] = weather_data.index.year\n",
    "\n",
    "    results = []\n",
    "\n",
    "    for week in range(weeks_range[0], weeks_range[1] + 1):\n",
    "        for feature in features:\n",
    "            data_by_week = weather_data[weather_data['week_of_year'] == week]\n",
    "            groups = data_by_week.groupby('year')[feature].apply(list)\n",
    "            \n",
    "            if len(groups) < 2:  # At least two groups are needed for the test\n",
    "                continue\n",
    "\n",
    "            if feature not in categorical_features:\n",
    "                # Skip the test if all values in the groups are identical\n",
    "                if all(len(set(group)) == 1 and group[0] == groups.iloc[0][0] for group in groups):\n",
    "                    continue\n",
    "                \n",
    "                # Perform Kruskal-Wallis test for numerical features\n",
    "                test_statistic, p_value = kruskal(*groups)\n",
    "            else:\n",
    "                # Create a contingency table for categorical features\n",
    "                contingency_table = pd.crosstab(data_by_week['year'], data_by_week[feature])\n",
    "\n",
    "                # Perform Chi-square test for categorical features\n",
    "                test_statistic, p_value, _, _ = chi2_contingency(contingency_table)\n",
    "\n",
    "            results.append((week, feature, test_statistic, p_value))\n",
    "\n",
    "    results_df = pd.DataFrame(results, columns=['Week', 'Feature', 'Test_statistic', 'p_value'])\n",
    "    return results_df\n",
    "\n",
    "# Run the Kruskal-Wallis and Chi-square tests\n",
    "results_df = kruskal_wallis_chi_square_test(weather_Prague)\n",
    "\n",
    "# Set a significance level (alpha)\n",
    "alpha = 0.05\n",
    "\n",
    "# Calculate the proportion of weeks with no significant difference for each feature\n",
    "results_df['no_significant_difference'] = results_df['p_value'] > alpha\n",
    "proportion_no_difference = results_df.groupby('Feature')['no_significant_difference'].mean()\n",
    "\n",
    "print(\"Proportion of weeks with no significant difference in means for each feature:\")\n",
    "print(proportion_no_difference)\n"
   ]
  },
  {
   "cell_type": "code",
   "execution_count": 25,
   "metadata": {},
   "outputs": [],
   "source": [
    "def save_results_to_file(proportion_no_difference, filename=DATA_GENERATED_PATH + 'kruskal_wallis_test_all.txt'):\n",
    "    with open(filename, 'w') as file:\n",
    "        file.write(\"Proportion of weeks with no significant difference in means for each feature:\\n\")\n",
    "        for feature, proportion in proportion_no_difference.items():\n",
    "            file.write(f\"{feature:<20}{proportion:.6f}\\n\")\n",
    "\n",
    "\n",
    "# Save the results to a file\n",
    "save_results_to_file(proportion_no_difference)"
   ]
  },
  {
   "attachments": {},
   "cell_type": "markdown",
   "metadata": {},
   "source": [
    "drop not useful columns from the weather_Prague, based on the hypothesis test results"
   ]
  },
  {
   "cell_type": "code",
   "execution_count": 26,
   "metadata": {},
   "outputs": [
    {
     "name": "stdout",
     "output_type": "stream",
     "text": [
      "Remaining columns in weather_Prague_simplified:\n",
      "Index(['name', 'address', 'resolvedAddress', 'latitude', 'longitude',\n",
      "       'tempmax', 'tempmin', 'temp', 'feelslikemax', 'feelslikemin',\n",
      "       'feelslike', 'dew', 'humidity', 'precip', 'precipprob', 'precipcover',\n",
      "       'preciptype', 'snow', 'snowdepth', 'windspeed', 'winddir',\n",
      "       'sealevelpressure', 'cloudcover', 'visibility', 'solarradiation',\n",
      "       'solarenergy', 'uvindex', 'moonphase', 'conditions', 'description',\n",
      "       'icon', 'source', 'week_of_year', 'year'],\n",
      "      dtype='object')\n"
     ]
    }
   ],
   "source": [
    "# Find the columns with proportion less than or equal to 0.05\n",
    "columns_to_drop = proportion_no_difference[proportion_no_difference <= 0.05].index.tolist()\n",
    "\n",
    "# Drop those columns from the weather_Prague DataFrame\n",
    "weather_Prague_simplified = weather_Prague.drop(columns_to_drop, axis=1)\n",
    "\n",
    "# Print the remaining columns\n",
    "print(\"Remaining columns in weather_Prague_simplified:\")\n",
    "print(weather_Prague_simplified.columns)\n"
   ]
  },
  {
   "cell_type": "code",
   "execution_count": 27,
   "metadata": {},
   "outputs": [],
   "source": [
    "# Feature Engineering"
   ]
  },
  {
   "cell_type": "code",
   "execution_count": 28,
   "metadata": {},
   "outputs": [
    {
     "name": "stdout",
     "output_type": "stream",
     "text": [
      "+---------------------+------------+------------+-------------+------------+-----------------+-----------------------+-------------+---------------------+--------------+-----------+----------+-----------------+---------------------+-----------------------+-------------+------------+-----------------+-------------+-----------+-------------+----------------+-------------+--------------------+-------------+-------------+-------------+-------------+-------------+-----------+\n",
      "| date                |   order_id | payment    | item_code   |   quantity |   gift_quantity |   unit_price_vat_excl |   unit_cogs |   unit_rrp_vat_excl | department   | channel   | owner    | site            | CreatedAt           | item_name             | style       |   brand_id | brand_name      |   group0_id | group0    |   group1_id | group1         |   group2_id | group2             | category    | gender      | age         | color       | size        | country   |\n",
      "|                     |     string | object     | object      |      int64 |           int64 |               float64 |     float64 |             float64 | object       | object    | object   | object          | datetime64[ns]      | object                | object      |     string | object          |      string | object    |      string | object         |      string | object             | object      | object      | object      | object      | object      | object    |\n",
      "|                     |     NaN: 0 | NaN: 0     | NaN: 0      |     NaN: 0 |          NaN: 0 |                NaN: 0 |      NaN: 0 |              NaN: 0 | NaN: 0       | NaN: 0    | NaN: 0   | NaN: 0          | NaN: 0              | NaN: 0                | NaN: 0      |     NaN: 0 | NaN: 0          |      NaN: 0 | NaN: 0    |      NaN: 0 | NaN: 0         |      NaN: 0 | NaN: 0             | NaN: 0      | NaN: 0      | NaN: 0      | NaN: 0      | NaN: 0      | NaN: 0    |\n",
      "|---------------------+------------+------------+-------------+------------+-----------------+-----------------------+-------------+---------------------+--------------+-----------+----------+-----------------+---------------------+-----------------------+-------------+------------+-----------------+-------------+-----------+-------------+----------------+-------------+--------------------+-------------+-------------+-------------+-------------+-------------+-----------|\n",
      "| 2019-06-01 00:00:00 | 1900079924 | CARD_CSOB  | ZB00023833  |          1 |               0 |              22.3267  |    15.5039  |            32.0008  | E-COMMER     | Sport.cC  | Sport.cO | top4sport.cz    | 2019-06-01 09:37:00 | MK1 Short 7in         | 1312292-001 |        106 | Under Armour    |         200 | Apparel   |         240 | Pants          |         242 | Shorts             | fitness     | men         | adults      | Black       | M           | cz        |\n",
      "| 2019-06-01 00:00:00 | 1900079006 | COD        | ZB00000154  |          1 |               0 |              10.3787  |     8.06938 |            15.9845  | E-COMMER     | RUN.czC   | RUN.czO  | top4running.cz  | 2019-06-01 06:26:00 | W NK RUN TOP SS       | 890353-100  |         84 | Nike            |         200 | Apparel   |         230 | T-Shirts       |           0 | unspecified        | running     | women       | adults      | White       | XS          | cz        |\n",
      "| 2019-06-01 00:00:00 | 1900079006 | COD        | ZB00007330  |          1 |               0 |              14.9593  |    10.7171  |            25.3058  | E-COMMER     | RUN.czC   | RUN.czO  | top4running.cz  | 2019-06-01 06:26:00 | W NK DRY MILER TOP SS | 932499-823  |         84 | Nike            |         200 | Apparel   |         230 | T-Shirts       |           0 | unspecified        | running     | women       | adults      | Pink        | XS          | cz        |\n",
      "| 2019-06-01 00:00:00 | 1900079006 | COD        | ZB00018948  |          1 |               0 |              25.5942  |    13.007   |            25.5942  | E-COMMER     | RUN.czC   | RUN.czO  | top4running.cz  | 2019-06-01 06:26:00 | W NK MILER TANK SURF  | aq5179-686  |         84 | Nike            |         200 | Apparel   |         230 | T-Shirts       |         235 | Tank               | running     | women       | adults      | Pink        | XS          | cz        |\n",
      "| 2019-06-01 00:00:00 | 1900079006 | COD        | ZB00022416  |          1 |               0 |              28.7977  |    14.6349  |            28.7977  | E-COMMER     | RUN.czC   | RUN.czO  | top4running.cz  | 2019-06-01 06:26:00 | W NK AIR SHORT        | aq5634-100  |         84 | Nike            |         200 | Apparel   |         240 | Pants          |         242 | Shorts             | running     | women       | adults      | White       | XS          | cz        |\n",
      "| 2019-06-01 00:00:00 | 1900079006 | COD        | S113        |          1 |               0 |               0.92907 |     0       |             0.92907 | E-COMMER     | RUN.czC   | RUN.czO  | top4running.cz  | 2019-06-01 06:26:00 | Platba                | unspecified |         -1 | no_manufacturer |         999 | Other     |           0 | unspecified    |           0 | unspecified        | unspecified | unspecified | unspecified | unspecified | unspecified | cz        |\n",
      "| 2019-06-01 00:00:00 | 1900079010 | COD        | ZB00016698  |          1 |               0 |             132.295   |    72.662   |           188.962   | E-COMMER     | FTB.czC   | FTB.czO  | 11teamsports.cz | 2019-06-01 06:26:00 | X 181 FG              | bb9347      |         85 | adidas          |         100 | Footwear  |         110 | Football shoes |           0 | unspecified        | football    | men         | adults      | Red         | 42,7        | cz        |\n",
      "| 2019-06-01 00:00:00 | 1900079010 | COD        | ZB00026001  |          1 |               0 |             132.295   |    83.0682  |           188.962   | E-COMMER     | FTB.czC   | FTB.czO  | 11teamsports.cz | 2019-06-01 06:26:00 | X 181 SG              | bb9359      |         85 | adidas          |         100 | Footwear  |         110 | Football shoes |           0 | unspecified        | football    | men         | adults      | Red         | 43,3        | cz        |\n",
      "| 2019-06-01 00:00:00 | 1900079010 | COD        | S113        |          1 |               0 |               0.92907 |     0       |             0.92907 | E-COMMER     | FTB.czC   | FTB.czO  | 11teamsports.cz | 2019-06-01 06:26:00 | Platba                | unspecified |         -1 | no_manufacturer |         999 | Other     |           0 | unspecified    |           0 | unspecified        | unspecified | unspecified | unspecified | unspecified | unspecified | cz        |\n",
      "| 2019-06-01 00:00:00 | 1900079011 | CARD_CSOB  | ZB00009549  |          1 |               0 |              17.9384  |    16.4775  |            25.5942  | E-COMMER     | FTB.czC   | FTB.czO  | 11teamsports.cz | 2019-06-01 09:31:00 | HG SS                 | 1257468-001 |        106 | Under Armour    |         200 | Apparel   |         230 | T-Shirts       |         236 | Compression shirts | fitness     | men         | adults      | Black       | M           | cz        |\n",
      "| 2019-06-01 00:00:00 | 1900079011 | CARD_CSOB  | ZB00026129  |          1 |               0 |               6.37442 |     3.94884 |            10.5388  | E-COMMER     | FTB.czC   | FTB.czO  | 11teamsports.cz | 2019-06-01 09:31:00 | PER CREW T 3PP        | aa2330      |         85 | adidas          |         200 | Apparel   |         290 | Socks          |           0 | unspecified        | fitness     | unisex      | adults      | Black       | 39-42       | cz        |\n",
      "| 2019-06-01 00:00:00 | 1900079011 | CARD_CSOB  | ZB00000044  |          1 |               0 |              48.0171  |    28.0554  |            80.05    | E-COMMER     | FTB.czC   | FTB.czO  | 11teamsports.cz | 2019-06-01 09:31:00 | TEAM Match Ball       | cz2235      |         85 | adidas          |         300 | Equipment |         320 | Balls          |           0 | unspecified        | football    | men         | adults      | White       | 5           | cz        |\n",
      "| 2019-06-01 00:00:00 | 1900079011 | CARD_CSOB  | S114        |         -1 |               0 |               3.2031  |     0       |             3.2031  | E-COMMER     | FTB.czC   | FTB.czO  | 11teamsports.cz | 2019-06-01 09:31:00 | Sleva                 | unspecified |         -1 | no_manufacturer |         999 | Other     |           0 | unspecified    |           0 | unspecified        | unspecified | unspecified | unspecified | unspecified | unspecified | cz        |\n",
      "| 2019-06-01 00:00:00 | 1900079027 | GOPAY_CARD | ZB00026129  |          1 |               0 |               6.55432 |     3.97054 |            10.0866  | E-COMMER     | RUN.deC   | RUN.deO  | top4running.de  | 2019-06-01 06:31:00 | PER CREW T 3PP        | aa2330      |         85 | adidas          |         200 | Apparel   |         290 | Socks          |           0 | unspecified        | fitness     | unisex      | adults      | Black       | 39-42       | de        |\n",
      "| 2019-06-01 00:00:00 | 1900079030 | COD        | ZB00025621  |          1 |               0 |              37.8628  |    14.4395  |            44.5256  | E-COMMER     | FTB.czC   | FTB.czO  | 11teamsports.cz | 2019-06-01 06:32:00 | M NK Team Club Hoody  | 658498-463  |         84 | Nike            |         200 | Apparel   |         220 | Sweatshirts    |         221 | With hood          | lifestyle   | men         | adults      | unspecified | L           | cz        |\n",
      "| 2019-06-01 00:00:00 | 1900079030 | COD        | ZB00026033  |          1 |               0 |              26.8116  |    14.0167  |            44.5256  | E-COMMER     | FTB.czC   | FTB.czO  | 11teamsports.cz | 2019-06-01 06:32:00 | Nike Team Club Crew   | 658681-463  |         84 | Nike            |         200 | Apparel   |         220 | Sweatshirts    |           0 | unspecified        | football    | men         | adults      | Blue        | L           | cz        |\n",
      "| 2019-06-01 00:00:00 | 1900079030 | COD        | ZB00000094  |          1 |               0 |              11.2756  |     5.48101 |            14.3826  | E-COMMER     | FTB.czC   | FTB.czO  | 11teamsports.cz | 2019-06-01 06:32:00 | PARK II KNIT SHORT NB | 725887-463  |         84 | Nike            |         200 | Apparel   |         240 | Pants          |         242 | Shorts             | football    | men         | adults      | Blue        | L           | cz        |\n",
      "| 2019-06-01 00:00:00 | 1900079030 | COD        | ZB00026511  |          1 |               0 |              16.5291  |     8.37752 |            23.9926  | E-COMMER     | FTB.czC   | FTB.czO  | 11teamsports.cz | 2019-06-01 06:32:00 | CORE18 PES PNT        | cv3585      |         85 | adidas          |         200 | Apparel   |         240 | Pants          |           0 | unspecified        | football    | men         | adults      | Blue        | L           | cz        |\n",
      "| 2019-06-01 00:00:00 | 1900078998 | CARD_CSOB  | S101        |          1 |               0 |               1.56977 |     0       |             1.56977 | E-COMMER     | FTB.czC   | FTB.czO  | 11teamsports.cz | 2019-06-01 06:26:00 | Dopravné              | unspecified |         -1 | no_manufacturer |         999 | Other     |           0 | unspecified    |           0 | unspecified        | unspecified | unspecified | unspecified | unspecified | unspecified | cz        |\n",
      "| 2019-06-01 00:00:00 | 1900078998 | CARD_CSOB  | ZB00025631  |          1 |               0 |              21.8143  |    11.781   |            35.2039  | E-COMMER     | FTB.czC   | FTB.czO  | 11teamsports.cz | 2019-06-01 06:26:00 | CORE18 RN JKT         | ce9048      |         85 | adidas          |         200 | Apparel   |         215 | Jackets        |           0 | unspecified        | football    | men         | adults      | Black       | M           | cz        |\n",
      "+---------------------+------------+------------+-------------+------------+-----------------+-----------------------+-------------+---------------------+--------------+-----------+----------+-----------------+---------------------+-----------------------+-------------+------------+-----------------+-------------+-----------+-------------+----------------+-------------+--------------------+-------------+-------------+-------------+-------------+-------------+-----------+\n"
     ]
    }
   ],
   "source": [
    "dc.print_df_with_dtypes(df_FE, max_rows=20, print_on=True, data_generated_path=DATA_GENERATED_PATH, name_extension='EDA_df_FE')"
   ]
  },
  {
   "cell_type": "markdown",
   "metadata": {},
   "source": [
    "# Feature Engineering:"
   ]
  },
  {
   "cell_type": "code",
   "execution_count": 29,
   "metadata": {},
   "outputs": [
    {
     "data": {
      "text/plain": [
       "20"
      ]
     },
     "execution_count": 29,
     "metadata": {},
     "output_type": "execute_result"
    },
    {
     "name": "stdout",
     "output_type": "stream",
     "text": [
      "+---------------------+------------+----------+----------+----------------+----------------+---------------+----------+\n",
      "|                     |   quantity |     year |    month |   week_of_year |   day_of_month |   day_of_week | mp       |\n",
      "|                     |      int64 |   object |   object |         object |         object |        object | object   |\n",
      "|                     |     NaN: 0 |   NaN: 0 |   NaN: 0 |         NaN: 0 |         NaN: 0 |        NaN: 0 | NaN: 0   |\n",
      "|---------------------+------------+----------+----------+----------------+----------------+---------------+----------|\n",
      "| 2019-06-01 00:00:00 |        157 |     2019 |        6 |             22 |              1 |             5 | n        |\n",
      "| 2019-06-02 00:00:00 |          7 |     2019 |        6 |             22 |              2 |             6 | n        |\n",
      "| 2019-06-03 00:00:00 |         37 |     2019 |        6 |             23 |              3 |             0 | 0        |\n",
      "| 2019-06-04 00:00:00 |       2583 |     2019 |        6 |             23 |              4 |             1 | n        |\n",
      "| 2019-06-05 00:00:00 |       2586 |     2019 |        6 |             23 |              5 |             2 | n        |\n",
      "| 2019-06-06 00:00:00 |        798 |     2019 |        6 |             23 |              6 |             3 | n        |\n",
      "| 2019-06-07 00:00:00 |        463 |     2019 |        6 |             23 |              7 |             4 | n        |\n",
      "| 2019-06-08 00:00:00 |          5 |     2019 |        6 |             23 |              8 |             5 | n        |\n",
      "| 2019-06-09 00:00:00 |          5 |     2019 |        6 |             23 |              9 |             6 | n        |\n",
      "| 2019-06-10 00:00:00 |       1357 |     2019 |        6 |             24 |             10 |             0 | 1        |\n",
      "| 2019-06-11 00:00:00 |       1777 |     2019 |        6 |             24 |             11 |             1 | n        |\n",
      "| 2019-06-12 00:00:00 |        248 |     2019 |        6 |             24 |             12 |             2 | n        |\n",
      "| 2019-06-13 00:00:00 |       1230 |     2019 |        6 |             24 |             13 |             3 | n        |\n",
      "| 2019-06-14 00:00:00 |        461 |     2019 |        6 |             24 |             14 |             4 | n        |\n",
      "| 2019-06-15 00:00:00 |         10 |     2019 |        6 |             24 |             15 |             5 | n        |\n",
      "| 2019-06-16 00:00:00 |          5 |     2019 |        6 |             24 |             16 |             6 | n        |\n",
      "| 2019-06-17 00:00:00 |       3160 |     2019 |        6 |             25 |             17 |             0 | 2        |\n",
      "| 2019-06-18 00:00:00 |        780 |     2019 |        6 |             25 |             18 |             1 | n        |\n",
      "| 2019-06-19 00:00:00 |        827 |     2019 |        6 |             25 |             19 |             2 | n        |\n",
      "| 2019-06-20 00:00:00 |       1136 |     2019 |        6 |             25 |             20 |             3 | n        |\n",
      "| 2019-06-21 00:00:00 |        539 |     2019 |        6 |             25 |             21 |             4 | n        |\n",
      "| 2019-06-22 00:00:00 |        594 |     2019 |        6 |             25 |             22 |             5 | n        |\n",
      "| 2019-06-23 00:00:00 |        853 |     2019 |        6 |             25 |             23 |             6 | n        |\n",
      "| 2019-06-24 00:00:00 |        918 |     2019 |        6 |             26 |             24 |             0 | 3        |\n",
      "| 2019-06-25 00:00:00 |        857 |     2019 |        6 |             26 |             25 |             1 | 3        |\n",
      "| 2019-06-26 00:00:00 |        885 |     2019 |        6 |             26 |             26 |             2 | n        |\n",
      "| 2019-06-27 00:00:00 |        776 |     2019 |        6 |             26 |             27 |             3 | n        |\n",
      "| 2019-06-28 00:00:00 |        647 |     2019 |        6 |             26 |             28 |             4 | n        |\n",
      "| 2019-06-29 00:00:00 |        542 |     2019 |        6 |             26 |             29 |             5 | n        |\n",
      "| 2019-06-30 00:00:00 |        817 |     2019 |        6 |             26 |             30 |             6 | n        |\n",
      "| 2019-07-01 00:00:00 |       1291 |     2019 |        7 |             27 |              1 |             0 | n        |\n",
      "| 2019-07-02 00:00:00 |       1262 |     2019 |        7 |             27 |              2 |             1 | 0        |\n",
      "| 2019-07-03 00:00:00 |       1364 |     2019 |        7 |             27 |              3 |             2 | 0        |\n",
      "| 2019-07-04 00:00:00 |       1301 |     2019 |        7 |             27 |              4 |             3 | n        |\n",
      "| 2019-07-05 00:00:00 |       1159 |     2019 |        7 |             27 |              5 |             4 | n        |\n",
      "| 2019-07-06 00:00:00 |        891 |     2019 |        7 |             27 |              6 |             5 | n        |\n",
      "| 2019-07-07 00:00:00 |       1383 |     2019 |        7 |             27 |              7 |             6 | n        |\n",
      "| 2019-07-08 00:00:00 |       2073 |     2019 |        7 |             28 |              8 |             0 | n        |\n",
      "| 2019-07-09 00:00:00 |       1364 |     2019 |        7 |             28 |              9 |             1 | 1        |\n",
      "| 2019-07-10 00:00:00 |       1461 |     2019 |        7 |             28 |             10 |             2 | 1        |\n",
      "| 2019-07-11 00:00:00 |       1410 |     2019 |        7 |             28 |             11 |             3 | n        |\n",
      "| 2019-07-12 00:00:00 |       1259 |     2019 |        7 |             28 |             12 |             4 | n        |\n",
      "| 2019-07-13 00:00:00 |       1077 |     2019 |        7 |             28 |             13 |             5 | n        |\n",
      "| 2019-07-14 00:00:00 |       1231 |     2019 |        7 |             28 |             14 |             6 | n        |\n",
      "| 2019-07-15 00:00:00 |       1604 |     2019 |        7 |             29 |             15 |             0 | n        |\n",
      "| 2019-07-16 00:00:00 |       1511 |     2019 |        7 |             29 |             16 |             1 | 2        |\n",
      "| 2019-07-17 00:00:00 |       1343 |     2019 |        7 |             29 |             17 |             2 | 2        |\n",
      "| 2019-07-18 00:00:00 |       1278 |     2019 |        7 |             29 |             18 |             3 | n        |\n",
      "| 2019-07-19 00:00:00 |       1081 |     2019 |        7 |             29 |             19 |             4 | n        |\n",
      "| 2019-07-20 00:00:00 |        709 |     2019 |        7 |             29 |             20 |             5 | n        |\n",
      "| 2019-07-21 00:00:00 |       1191 |     2019 |        7 |             29 |             21 |             6 | n        |\n",
      "| 2019-07-22 00:00:00 |       1385 |     2019 |        7 |             30 |             22 |             0 | n        |\n",
      "| 2019-07-23 00:00:00 |       1433 |     2019 |        7 |             30 |             23 |             1 | n        |\n",
      "| 2019-07-24 00:00:00 |       1256 |     2019 |        7 |             30 |             24 |             2 | 3        |\n",
      "| 2019-07-25 00:00:00 |       1073 |     2019 |        7 |             30 |             25 |             3 | 3        |\n",
      "| 2019-07-26 00:00:00 |        974 |     2019 |        7 |             30 |             26 |             4 | n        |\n",
      "| 2019-07-27 00:00:00 |        846 |     2019 |        7 |             30 |             27 |             5 | n        |\n",
      "| 2019-07-28 00:00:00 |       1201 |     2019 |        7 |             30 |             28 |             6 | n        |\n",
      "| 2019-07-29 00:00:00 |       1718 |     2019 |        7 |             31 |             29 |             0 | n        |\n",
      "| 2019-07-30 00:00:00 |       1689 |     2019 |        7 |             31 |             30 |             1 | n        |\n",
      "| 2019-07-31 00:00:00 |       1653 |     2019 |        7 |             31 |             31 |             2 | 0        |\n",
      "| 2019-08-01 00:00:00 |       1372 |     2019 |        8 |             31 |              1 |             3 | 0        |\n",
      "| 2019-08-02 00:00:00 |       1318 |     2019 |        8 |             31 |              2 |             4 | n        |\n",
      "| 2019-08-03 00:00:00 |       1105 |     2019 |        8 |             31 |              3 |             5 | n        |\n",
      "| 2019-08-04 00:00:00 |       1507 |     2019 |        8 |             31 |              4 |             6 | n        |\n",
      "| 2019-08-05 00:00:00 |       1934 |     2019 |        8 |             32 |              5 |             0 | n        |\n",
      "| 2019-08-06 00:00:00 |       1735 |     2019 |        8 |             32 |              6 |             1 | n        |\n",
      "| 2019-08-07 00:00:00 |       1889 |     2019 |        8 |             32 |              7 |             2 | 1        |\n",
      "| 2019-08-08 00:00:00 |       1649 |     2019 |        8 |             32 |              8 |             3 | 1        |\n",
      "| 2019-08-09 00:00:00 |       1653 |     2019 |        8 |             32 |              9 |             4 | n        |\n",
      "| 2019-08-10 00:00:00 |       1437 |     2019 |        8 |             32 |             10 |             5 | n        |\n",
      "| 2019-08-11 00:00:00 |       1617 |     2019 |        8 |             32 |             11 |             6 | n        |\n",
      "| 2019-08-12 00:00:00 |       2307 |     2019 |        8 |             33 |             12 |             0 | n        |\n",
      "| 2019-08-13 00:00:00 |       2124 |     2019 |        8 |             33 |             13 |             1 | n        |\n",
      "| 2019-08-14 00:00:00 |       1979 |     2019 |        8 |             33 |             14 |             2 | n        |\n",
      "| 2019-08-15 00:00:00 |       1652 |     2019 |        8 |             33 |             15 |             3 | 2        |\n",
      "| 2019-08-16 00:00:00 |       1453 |     2019 |        8 |             33 |             16 |             4 | n        |\n",
      "| 2019-08-17 00:00:00 |       1191 |     2019 |        8 |             33 |             17 |             5 | n        |\n",
      "| 2019-08-18 00:00:00 |       1361 |     2019 |        8 |             33 |             18 |             6 | n        |\n",
      "| 2019-08-19 00:00:00 |       1900 |     2019 |        8 |             34 |             19 |             0 | n        |\n",
      "| 2019-08-20 00:00:00 |       1618 |     2019 |        8 |             34 |             20 |             1 | n        |\n",
      "| 2019-08-21 00:00:00 |       1670 |     2019 |        8 |             34 |             21 |             2 | n        |\n",
      "| 2019-08-22 00:00:00 |       1620 |     2019 |        8 |             34 |             22 |             3 | 3        |\n",
      "| 2019-08-23 00:00:00 |       1285 |     2019 |        8 |             34 |             23 |             4 | 3        |\n",
      "| 2019-08-24 00:00:00 |        981 |     2019 |        8 |             34 |             24 |             5 | n        |\n",
      "| 2019-08-25 00:00:00 |       1521 |     2019 |        8 |             34 |             25 |             6 | n        |\n",
      "| 2019-08-26 00:00:00 |       1649 |     2019 |        8 |             35 |             26 |             0 | n        |\n",
      "| 2019-08-27 00:00:00 |       1637 |     2019 |        8 |             35 |             27 |             1 | n        |\n",
      "| 2019-08-28 00:00:00 |       1587 |     2019 |        8 |             35 |             28 |             2 | n        |\n",
      "| 2019-08-29 00:00:00 |       1785 |     2019 |        8 |             35 |             29 |             3 | n        |\n",
      "| 2019-08-30 00:00:00 |       1536 |     2019 |        8 |             35 |             30 |             4 | 0        |\n",
      "| 2019-08-31 00:00:00 |       1411 |     2019 |        8 |             35 |             31 |             5 | n        |\n",
      "| 2019-09-01 00:00:00 |       2145 |     2019 |        9 |             35 |              1 |             6 | n        |\n",
      "| 2019-09-02 00:00:00 |       2563 |     2019 |        9 |             36 |              2 |             0 | n        |\n",
      "| 2019-09-03 00:00:00 |       2033 |     2019 |        9 |             36 |              3 |             1 | n        |\n",
      "| 2019-09-04 00:00:00 |       1709 |     2019 |        9 |             36 |              4 |             2 | n        |\n",
      "| 2019-09-05 00:00:00 |       1442 |     2019 |        9 |             36 |              5 |             3 | n        |\n",
      "| 2019-09-06 00:00:00 |       1351 |     2019 |        9 |             36 |              6 |             4 | 1        |\n",
      "| 2019-09-07 00:00:00 |       1163 |     2019 |        9 |             36 |              7 |             5 | 1        |\n",
      "| 2019-09-08 00:00:00 |       1866 |     2019 |        9 |             36 |              8 |             6 | n        |\n",
      "| 2019-09-09 00:00:00 |       1880 |     2019 |        9 |             37 |              9 |             0 | n        |\n",
      "| 2019-09-10 00:00:00 |       1783 |     2019 |        9 |             37 |             10 |             1 | n        |\n",
      "| 2019-09-11 00:00:00 |       1518 |     2019 |        9 |             37 |             11 |             2 | n        |\n",
      "| 2019-09-12 00:00:00 |       1399 |     2019 |        9 |             37 |             12 |             3 | n        |\n",
      "| 2019-09-13 00:00:00 |       1138 |     2019 |        9 |             37 |             13 |             4 | n        |\n",
      "| 2019-09-14 00:00:00 |       1014 |     2019 |        9 |             37 |             14 |             5 | 2        |\n",
      "| 2019-09-15 00:00:00 |       1398 |     2019 |        9 |             37 |             15 |             6 | n        |\n",
      "| 2019-09-16 00:00:00 |       1622 |     2019 |        9 |             38 |             16 |             0 | n        |\n",
      "| 2019-09-17 00:00:00 |       1416 |     2019 |        9 |             38 |             17 |             1 | n        |\n",
      "| 2019-09-18 00:00:00 |       1364 |     2019 |        9 |             38 |             18 |             2 | n        |\n",
      "| 2019-09-19 00:00:00 |       1267 |     2019 |        9 |             38 |             19 |             3 | n        |\n",
      "| 2019-09-20 00:00:00 |        996 |     2019 |        9 |             38 |             20 |             4 | n        |\n",
      "| 2019-09-21 00:00:00 |        904 |     2019 |        9 |             38 |             21 |             5 | 3        |\n",
      "| 2019-09-22 00:00:00 |       1219 |     2019 |        9 |             38 |             22 |             6 | 3        |\n",
      "| 2019-09-23 00:00:00 |       1439 |     2019 |        9 |             39 |             23 |             0 | n        |\n",
      "| 2019-09-24 00:00:00 |       1239 |     2019 |        9 |             39 |             24 |             1 | n        |\n",
      "| 2019-09-25 00:00:00 |       1306 |     2019 |        9 |             39 |             25 |             2 | n        |\n",
      "| 2019-09-26 00:00:00 |       1068 |     2019 |        9 |             39 |             26 |             3 | n        |\n",
      "| 2019-09-27 00:00:00 |        762 |     2019 |        9 |             39 |             27 |             4 | n        |\n",
      "| 2019-09-28 00:00:00 |        713 |     2019 |        9 |             39 |             28 |             5 | 0        |\n",
      "| 2019-09-29 00:00:00 |       1015 |     2019 |        9 |             39 |             29 |             6 | 0        |\n",
      "| 2019-09-30 00:00:00 |       1173 |     2019 |        9 |             40 |             30 |             0 | n        |\n",
      "| 2019-10-01 00:00:00 |       1137 |     2019 |       10 |             40 |              1 |             1 | n        |\n",
      "| 2019-10-02 00:00:00 |       1119 |     2019 |       10 |             40 |              2 |             2 | n        |\n",
      "| 2019-10-03 00:00:00 |       1104 |     2019 |       10 |             40 |              3 |             3 | n        |\n",
      "| 2019-10-04 00:00:00 |       1186 |     2019 |       10 |             40 |              4 |             4 | n        |\n",
      "| 2019-10-05 00:00:00 |       1316 |     2019 |       10 |             40 |              5 |             5 | 1        |\n",
      "| 2019-10-06 00:00:00 |       1541 |     2019 |       10 |             40 |              6 |             6 | 1        |\n",
      "| 2019-10-07 00:00:00 |       1769 |     2019 |       10 |             41 |              7 |             0 | n        |\n",
      "| 2019-10-08 00:00:00 |       1633 |     2019 |       10 |             41 |              8 |             1 | n        |\n",
      "| 2019-10-09 00:00:00 |       1511 |     2019 |       10 |             41 |              9 |             2 | n        |\n",
      "| 2019-10-10 00:00:00 |       1309 |     2019 |       10 |             41 |             10 |             3 | n        |\n",
      "| 2019-10-11 00:00:00 |       1146 |     2019 |       10 |             41 |             11 |             4 | n        |\n",
      "| 2019-10-12 00:00:00 |       1073 |     2019 |       10 |             41 |             12 |             5 | n        |\n",
      "| 2019-10-13 00:00:00 |       1611 |     2019 |       10 |             41 |             13 |             6 | 2        |\n",
      "| 2019-10-14 00:00:00 |       1995 |     2019 |       10 |             42 |             14 |             0 | 2        |\n",
      "| 2019-10-15 00:00:00 |       1168 |     2019 |       10 |             42 |             15 |             1 | n        |\n",
      "| 2019-10-16 00:00:00 |       1173 |     2019 |       10 |             42 |             16 |             2 | n        |\n",
      "| 2019-10-17 00:00:00 |        931 |     2019 |       10 |             42 |             17 |             3 | n        |\n",
      "| 2019-10-18 00:00:00 |        764 |     2019 |       10 |             42 |             18 |             4 | n        |\n",
      "| 2019-10-19 00:00:00 |        726 |     2019 |       10 |             42 |             19 |             5 | n        |\n",
      "| 2019-10-20 00:00:00 |       1043 |     2019 |       10 |             42 |             20 |             6 | 3        |\n",
      "| 2019-10-21 00:00:00 |       1122 |     2019 |       10 |             43 |             21 |             0 | 3        |\n",
      "| 2019-10-22 00:00:00 |       1059 |     2019 |       10 |             43 |             22 |             1 | n        |\n",
      "| 2019-10-23 00:00:00 |       1096 |     2019 |       10 |             43 |             23 |             2 | n        |\n",
      "| 2019-10-24 00:00:00 |        854 |     2019 |       10 |             43 |             24 |             3 | n        |\n",
      "| 2019-10-25 00:00:00 |        822 |     2019 |       10 |             43 |             25 |             4 | n        |\n",
      "| 2019-10-26 00:00:00 |        638 |     2019 |       10 |             43 |             26 |             5 | n        |\n",
      "| 2019-10-27 00:00:00 |        720 |     2019 |       10 |             43 |             27 |             6 | n        |\n",
      "| 2019-10-28 00:00:00 |        688 |     2019 |       10 |             44 |             28 |             0 | 0        |\n",
      "| 2019-10-29 00:00:00 |       1031 |     2019 |       10 |             44 |             29 |             1 | n        |\n",
      "| 2019-10-30 00:00:00 |       1194 |     2019 |       10 |             44 |             30 |             2 | n        |\n",
      "| 2019-10-31 00:00:00 |       1014 |     2019 |       10 |             44 |             31 |             3 | n        |\n",
      "| 2019-11-01 00:00:00 |        897 |     2019 |       11 |             44 |              1 |             4 | n        |\n",
      "| 2019-11-02 00:00:00 |        881 |     2019 |       11 |             44 |              2 |             5 | n        |\n",
      "| 2019-11-03 00:00:00 |       1201 |     2019 |       11 |             44 |              3 |             6 | n        |\n",
      "| 2019-11-04 00:00:00 |       1245 |     2019 |       11 |             45 |              4 |             0 | 1        |\n",
      "| 2019-11-05 00:00:00 |       1190 |     2019 |       11 |             45 |              5 |             1 | 1        |\n",
      "| 2019-11-06 00:00:00 |       1010 |     2019 |       11 |             45 |              6 |             2 | n        |\n",
      "| 2019-11-07 00:00:00 |        788 |     2019 |       11 |             45 |              7 |             3 | n        |\n",
      "| 2019-11-08 00:00:00 |        987 |     2019 |       11 |             45 |              8 |             4 | n        |\n",
      "| 2019-11-09 00:00:00 |       1114 |     2019 |       11 |             45 |              9 |             5 | n        |\n",
      "| 2019-11-10 00:00:00 |       1734 |     2019 |       11 |             45 |             10 |             6 | n        |\n",
      "| 2019-11-11 00:00:00 |       2232 |     2019 |       11 |             46 |             11 |             0 | n        |\n",
      "| 2019-11-12 00:00:00 |       1406 |     2019 |       11 |             46 |             12 |             1 | 2        |\n",
      "| 2019-11-13 00:00:00 |       1392 |     2019 |       11 |             46 |             13 |             2 | n        |\n",
      "| 2019-11-14 00:00:00 |       1301 |     2019 |       11 |             46 |             14 |             3 | n        |\n",
      "| 2019-11-15 00:00:00 |       1592 |     2019 |       11 |             46 |             15 |             4 | n        |\n",
      "| 2019-11-16 00:00:00 |       1484 |     2019 |       11 |             46 |             16 |             5 | n        |\n",
      "| 2019-11-17 00:00:00 |       2230 |     2019 |       11 |             46 |             17 |             6 | n        |\n",
      "| 2019-11-18 00:00:00 |       2682 |     2019 |       11 |             47 |             18 |             0 | n        |\n",
      "| 2019-11-19 00:00:00 |       2363 |     2019 |       11 |             47 |             19 |             1 | 3        |\n",
      "| 2019-11-20 00:00:00 |       2389 |     2019 |       11 |             47 |             20 |             2 | n        |\n",
      "| 2019-11-21 00:00:00 |       2838 |     2019 |       11 |             47 |             21 |             3 | n        |\n",
      "| 2019-11-22 00:00:00 |       2772 |     2019 |       11 |             47 |             22 |             4 | n        |\n",
      "| 2019-11-23 00:00:00 |       2345 |     2019 |       11 |             47 |             23 |             5 | n        |\n",
      "| 2019-11-24 00:00:00 |       3749 |     2019 |       11 |             47 |             24 |             6 | n        |\n",
      "| 2019-11-25 00:00:00 |       3458 |     2019 |       11 |             48 |             25 |             0 | n        |\n",
      "| 2019-11-26 00:00:00 |       3604 |     2019 |       11 |             48 |             26 |             1 | 0        |\n",
      "| 2019-11-27 00:00:00 |       3485 |     2019 |       11 |             48 |             27 |             2 | n        |\n",
      "| 2019-11-28 00:00:00 |       3959 |     2019 |       11 |             48 |             28 |             3 | n        |\n",
      "| 2019-11-29 00:00:00 |       7344 |     2019 |       11 |             48 |             29 |             4 | n        |\n",
      "| 2019-11-30 00:00:00 |       3188 |     2019 |       11 |             48 |             30 |             5 | n        |\n",
      "| 2019-12-01 00:00:00 |       4952 |     2019 |       12 |             48 |              1 |             6 | n        |\n",
      "| 2019-12-02 00:00:00 |       5221 |     2019 |       12 |             49 |              2 |             0 | n        |\n",
      "| 2019-12-03 00:00:00 |       3582 |     2019 |       12 |             49 |              3 |             1 | n        |\n",
      "| 2019-12-04 00:00:00 |       3223 |     2019 |       12 |             49 |              4 |             2 | 1        |\n",
      "| 2019-12-05 00:00:00 |       3119 |     2019 |       12 |             49 |              5 |             3 | n        |\n",
      "| 2019-12-06 00:00:00 |       2631 |     2019 |       12 |             49 |              6 |             4 | n        |\n",
      "| 2019-12-07 00:00:00 |       2531 |     2019 |       12 |             49 |              7 |             5 | n        |\n",
      "| 2019-12-08 00:00:00 |       3203 |     2019 |       12 |             49 |              8 |             6 | n        |\n",
      "| 2019-12-09 00:00:00 |       3781 |     2019 |       12 |             50 |              9 |             0 | n        |\n",
      "| 2019-12-10 00:00:00 |       3301 |     2019 |       12 |             50 |             10 |             1 | n        |\n",
      "| 2019-12-11 00:00:00 |       3356 |     2019 |       12 |             50 |             11 |             2 | 2        |\n",
      "| 2019-12-12 00:00:00 |       3332 |     2019 |       12 |             50 |             12 |             3 | 2        |\n",
      "| 2019-12-13 00:00:00 |       3081 |     2019 |       12 |             50 |             13 |             4 | n        |\n",
      "| 2019-12-14 00:00:00 |       2471 |     2019 |       12 |             50 |             14 |             5 | n        |\n",
      "| 2019-12-15 00:00:00 |       3208 |     2019 |       12 |             50 |             15 |             6 | n        |\n",
      "| 2019-12-16 00:00:00 |       2812 |     2019 |       12 |             51 |             16 |             0 | n        |\n",
      "| 2019-12-17 00:00:00 |       2120 |     2019 |       12 |             51 |             17 |             1 | n        |\n",
      "+---------------------+------------+----------+----------+----------------+----------------+---------------+----------+\n"
     ]
    }
   ],
   "source": [
    "# Create a copy of df_FE\n",
    "df_FE_1 = df_FE.copy()\n",
    "\n",
    "# Aggregate by index (date), summing the quantity\n",
    "df_FE_1a_daily = df_FE_1[['quantity']].groupby(df_FE_1.index).sum()\n",
    "\n",
    "# Ensure the DataFrame is sorted by date\n",
    "df_FE_1a_daily_fill = df_FE_1a_daily.sort_index()\n",
    "\n",
    "# Find the complete date range\n",
    "complete_date_range = pd.date_range(df_FE_1a_daily_fill.index.min(), df_FE_1a_daily_fill.index.max())\n",
    "\n",
    "# Find the missing dates by comparing the complete date range with the DataFrame index\n",
    "missing_dates = complete_date_range.difference(df_FE_1a_daily_fill.index)\n",
    "\n",
    "# Save the missing dates to a file\n",
    "with open(OUTPUT_FOLDER + \"df_FE_1a_daily_missing_dates.txt\", \"w\") as file:\n",
    "    for date in missing_dates:\n",
    "        file.write(f\"{date}\\n\")\n",
    "\n",
    "# Reindex the DataFrame with the complete date range, filling missing values with the date before it\n",
    "df_FE_1a_daily_fill = df_FE_1a_daily_fill.reindex(complete_date_range, method='ffill')\n",
    "\n",
    "df_FE_1a_daily_natural = df_FE_1a_daily_fill.copy()\n",
    "\n",
    "# Add columns: month, week_of_year, day_of_month, day_of_week\n",
    "df_FE_1a_daily_natural['year'] = df_FE_1a_daily_natural.index.year\n",
    "df_FE_1a_daily_natural['month'] = df_FE_1a_daily_natural.index.month\n",
    "df_FE_1a_daily_natural['week_of_year'] = df_FE_1a_daily_natural.index.isocalendar().week\n",
    "df_FE_1a_daily_natural['day_of_month'] = df_FE_1a_daily_natural.index.day\n",
    "df_FE_1a_daily_natural['day_of_week'] = df_FE_1a_daily_natural.index.dayofweek\n",
    "\n",
    "## categorize the moon phases\n",
    "\n",
    "import numpy as np\n",
    "\n",
    "moonphase_values = np.array([0, 0.25, 0.5, 0.75, 1.0])\n",
    "tolerance = 2.5e-2\n",
    "\n",
    "# Get the closest moonphase_value for each value in the 'moonphase' column\n",
    "closest_values = moonphase_values[np.abs(weather_Prague['moonphase'].values[:, None] - moonphase_values).argmin(axis=1)]\n",
    "\n",
    "# Create a mask for values within the tolerance range of the closest moonphase_value\n",
    "within_tolerance_mask = np.abs(weather_Prague['moonphase'].values - closest_values) <= tolerance\n",
    "\n",
    "# Assign labels for the values within the tolerance range\n",
    "moonphase_categories = pd.Series(['n'] * len(weather_Prague['moonphase']), index=weather_Prague['moonphase'].index)\n",
    "moonphase_categories[within_tolerance_mask] = np.select(\n",
    "    condlist=[closest_values[within_tolerance_mask] == val for val in moonphase_values],\n",
    "    choicelist=['0', '1', '2', '3', '0']\n",
    ")\n",
    "\n",
    "\n",
    "\n",
    "# Add moonphase_group column to weather_Prague\n",
    "weather_Prague['moonphase_group'] = moonphase_categories\n",
    "\n",
    "# Merge moonphase_group column to df_FE_1a based on the index (date)\n",
    "df_FE_1a_daily_natural = df_FE_1a_daily_natural.merge(weather_Prague[['moonphase_group']], left_index=True, right_index=True)\n",
    "\n",
    "# rename the moonphase_group column to mp\n",
    "df_FE_1a_daily_natural.rename(columns={'moonphase_group': 'mp'}, inplace=True)\n",
    "\n",
    "# set all coumns [1: ] 's type to string\n",
    "df_FE_1a_daily_natural[df_FE_1a_daily_natural.columns[1:]] = df_FE_1a_daily_natural[df_FE_1a_daily_natural.columns[1:]].astype(str)\n",
    "\n",
    "\n",
    "dc.print_df_with_dtypes(df_FE_1a_daily_natural, max_rows=200, print_on=True, data_generated_path=DATA_GENERATED_PATH, name_extension='EDA_quantity_sum_df')"
   ]
  },
  {
   "cell_type": "code",
   "execution_count": 30,
   "metadata": {},
   "outputs": [
    {
     "name": "stdout",
     "output_type": "stream",
     "text": [
      "<class 'pandas.core.frame.DataFrame'>\n",
      "DatetimeIndex: 959 entries, 2019-06-01 to 2022-01-14\n",
      "Freq: D\n",
      "Data columns (total 7 columns):\n",
      " #   Column        Non-Null Count  Dtype \n",
      "---  ------        --------------  ----- \n",
      " 0   quantity      959 non-null    int64 \n",
      " 1   year          959 non-null    object\n",
      " 2   month         959 non-null    object\n",
      " 3   week_of_year  959 non-null    object\n",
      " 4   day_of_month  959 non-null    object\n",
      " 5   day_of_week   959 non-null    object\n",
      " 6   mp            959 non-null    object\n",
      "dtypes: int64(1), object(6)\n",
      "memory usage: 92.2+ KB\n"
     ]
    }
   ],
   "source": [
    "df_FE_1a_daily_natural.info()"
   ]
  },
  {
   "cell_type": "code",
   "execution_count": 31,
   "metadata": {},
   "outputs": [],
   "source": [
    "# save it to a file csv df_FE_1a_daily_natural.csv\n",
    "df_FE_1a_daily_natural.to_csv(DATA_GENERATED_PATH + 'df_FE_1a_daily_natural.csv')"
   ]
  },
  {
   "attachments": {},
   "cell_type": "markdown",
   "metadata": {},
   "source": [
    "## Feature Engineering - Auto Seasonality"
   ]
  },
  {
   "cell_type": "code",
   "execution_count": 56,
   "metadata": {},
   "outputs": [
    {
     "name": "stdout",
     "output_type": "stream",
     "text": [
      "Unable to fit the exponential function.\n",
      "Polynomial (n=1) parameters: [7.30618528e+02 2.11640926e+00 2.73690399e+03]\n",
      "Polynomial (n=2) parameters: [ 3.65251052e+02 -3.85739629e-05  2.11781719e+00  1.96552868e+03]\n"
     ]
    },
    {
     "name": "stderr",
     "output_type": "stream",
     "text": [
      "/var/folders/8z/sc6fjw1d6w1fhzfwfqd4rnwh0000gn/T/ipykernel_63922/4086267744.py:18: RuntimeWarning:\n",
      "\n",
      "overflow encountered in exp\n",
      "\n"
     ]
    },
    {
     "data": {
      "image/png": "[encoded data removed]",
      "text/plain": [
       "<Figure size 1200x600 with 1 Axes>"
      ]
     },
     "metadata": {},
     "output_type": "display_data"
    },
    {
     "name": "stdout",
     "output_type": "stream",
     "text": [
      "Best function: Polynomial (n=1)\n",
      "MAE: 285.07754779810017, MRE: 0.1518303431093959\n",
      "\n",
      "\n",
      "\n",
      "df_FE_diff['quantity'] is like this:\n",
      "\n",
      "\n",
      "+---------------------+-------------+\n",
      "|                     |    quantity |\n",
      "|                     |     float64 |\n",
      "|                     |      NaN: 0 |\n",
      "|---------------------+-------------|\n",
      "| 2019-06-01 00:00:00 | -1033.62    |\n",
      "| 2019-06-02 00:00:00 | -1185.73    |\n",
      "| 2019-06-03 00:00:00 | -1157.85    |\n",
      "| 2019-06-04 00:00:00 |  1386.03    |\n",
      "| 2019-06-05 00:00:00 |  1386.92    |\n",
      "| 2019-06-06 00:00:00 |  -403.198   |\n",
      "| 2019-06-07 00:00:00 |  -740.315   |\n",
      "| 2019-06-08 00:00:00 | -1200.43    |\n",
      "| 2019-06-09 00:00:00 | -1202.55    |\n",
      "| 2019-06-10 00:00:00 |   147.336   |\n",
      "| 2019-06-11 00:00:00 |   565.22    |\n",
      "| 2019-06-12 00:00:00 |  -965.897   |\n",
      "| 2019-06-13 00:00:00 |    13.9869  |\n",
      "| 2019-06-14 00:00:00 |  -757.129   |\n",
      "| 2019-06-15 00:00:00 | -1210.25    |\n",
      "| 2019-06-16 00:00:00 | -1217.36    |\n",
      "| 2019-06-17 00:00:00 |  1935.52    |\n",
      "| 2019-06-18 00:00:00 |  -446.595   |\n",
      "| 2019-06-19 00:00:00 |  -401.712   |\n",
      "| 2019-06-20 00:00:00 |   -94.8279  |\n",
      "| 2019-06-21 00:00:00 |  -693.944   |\n",
      "| 2019-06-22 00:00:00 |  -641.061   |\n",
      "| 2019-06-23 00:00:00 |  -384.177   |\n",
      "| 2019-06-24 00:00:00 |  -321.294   |\n",
      "| 2019-06-25 00:00:00 |  -384.41    |\n",
      "| 2019-06-26 00:00:00 |  -358.526   |\n",
      "| 2019-06-27 00:00:00 |  -469.643   |\n",
      "| 2019-06-28 00:00:00 |  -600.759   |\n",
      "| 2019-06-29 00:00:00 |  -707.876   |\n",
      "| 2019-06-30 00:00:00 |  -434.992   |\n",
      "| 2019-07-01 00:00:00 |    36.8916  |\n",
      "| 2019-07-02 00:00:00 |     5.77514 |\n",
      "| 2019-07-03 00:00:00 |   105.659   |\n",
      "| 2019-07-04 00:00:00 |    40.5423  |\n",
      "| 2019-07-05 00:00:00 |  -103.574   |\n",
      "| 2019-07-06 00:00:00 |  -373.69    |\n",
      "| 2019-07-07 00:00:00 |   116.193   |\n",
      "| 2019-07-08 00:00:00 |   804.077   |\n",
      "| 2019-07-09 00:00:00 |    92.9603  |\n",
      "| 2019-07-10 00:00:00 |   187.844   |\n",
      "| 2019-07-11 00:00:00 |   134.727   |\n",
      "| 2019-07-12 00:00:00 |   -18.389   |\n",
      "| 2019-07-13 00:00:00 |  -202.505   |\n",
      "| 2019-07-14 00:00:00 |   -50.6218  |\n",
      "| 2019-07-15 00:00:00 |   320.262   |\n",
      "| 2019-07-16 00:00:00 |   225.145   |\n",
      "| 2019-07-17 00:00:00 |    55.029   |\n",
      "| 2019-07-18 00:00:00 |   -12.0874  |\n",
      "| 2019-07-19 00:00:00 |  -211.204   |\n",
      "| 2019-07-20 00:00:00 |  -585.32    |\n",
      "| 2019-07-21 00:00:00 |  -105.437   |\n",
      "| 2019-07-22 00:00:00 |    86.447   |\n",
      "| 2019-07-23 00:00:00 |   132.331   |\n",
      "| 2019-07-24 00:00:00 |   -46.7859  |\n",
      "| 2019-07-25 00:00:00 |  -231.902   |\n",
      "| 2019-07-26 00:00:00 |  -333.019   |\n",
      "| 2019-07-27 00:00:00 |  -463.135   |\n",
      "| 2019-07-28 00:00:00 |  -110.251   |\n",
      "| 2019-07-29 00:00:00 |   404.632   |\n",
      "| 2019-07-30 00:00:00 |   373.516   |\n",
      "| 2019-07-31 00:00:00 |   335.399   |\n",
      "| 2019-08-01 00:00:00 |    52.2829  |\n",
      "| 2019-08-02 00:00:00 |    -3.83355 |\n",
      "| 2019-08-03 00:00:00 |  -218.95    |\n",
      "| 2019-08-04 00:00:00 |   180.934   |\n",
      "| 2019-08-05 00:00:00 |   605.817   |\n",
      "| 2019-08-06 00:00:00 |   404.701   |\n",
      "| 2019-08-07 00:00:00 |   556.584   |\n",
      "| 2019-08-08 00:00:00 |   314.468   |\n",
      "| 2019-08-09 00:00:00 |   316.352   |\n",
      "| 2019-08-10 00:00:00 |    98.2352  |\n",
      "| 2019-08-11 00:00:00 |   276.119   |\n",
      "| 2019-08-12 00:00:00 |   964.002   |\n",
      "| 2019-08-13 00:00:00 |   778.886   |\n",
      "| 2019-08-14 00:00:00 |   631.77    |\n",
      "| 2019-08-15 00:00:00 |   302.653   |\n",
      "| 2019-08-16 00:00:00 |   101.537   |\n",
      "| 2019-08-17 00:00:00 |  -162.58    |\n",
      "| 2019-08-18 00:00:00 |     5.30391 |\n",
      "| 2019-08-19 00:00:00 |   542.187   |\n",
      "| 2019-08-20 00:00:00 |   258.071   |\n",
      "| 2019-08-21 00:00:00 |   307.955   |\n",
      "| 2019-08-22 00:00:00 |   255.838   |\n",
      "| 2019-08-23 00:00:00 |   -81.2781  |\n",
      "| 2019-08-24 00:00:00 |  -387.395   |\n",
      "| 2019-08-25 00:00:00 |   150.489   |\n",
      "| 2019-08-26 00:00:00 |   276.373   |\n",
      "| 2019-08-27 00:00:00 |   262.256   |\n",
      "| 2019-08-28 00:00:00 |   210.14    |\n",
      "| 2019-08-29 00:00:00 |   406.023   |\n",
      "| 2019-08-30 00:00:00 |   154.907   |\n",
      "| 2019-08-31 00:00:00 |    27.7906  |\n",
      "| 2019-09-01 00:00:00 |   759.674   |\n",
      "| 2019-09-02 00:00:00 |  1175.56    |\n",
      "| 2019-09-03 00:00:00 |   643.441   |\n",
      "| 2019-09-04 00:00:00 |   317.325   |\n",
      "| 2019-09-05 00:00:00 |    48.2085  |\n",
      "| 2019-09-06 00:00:00 |   -44.9079  |\n",
      "| 2019-09-07 00:00:00 |  -235.024   |\n",
      "| 2019-09-08 00:00:00 |   465.859   |\n",
      "| 2019-09-09 00:00:00 |   477.743   |\n",
      "| 2019-09-10 00:00:00 |   378.626   |\n",
      "| 2019-09-11 00:00:00 |   111.51    |\n",
      "| 2019-09-12 00:00:00 |    -9.60633 |\n",
      "| 2019-09-13 00:00:00 |  -272.723   |\n",
      "| 2019-09-14 00:00:00 |  -398.839   |\n",
      "| 2019-09-15 00:00:00 |   -16.9556  |\n",
      "| 2019-09-16 00:00:00 |   204.928   |\n",
      "| 2019-09-17 00:00:00 |    -3.18837 |\n",
      "| 2019-09-18 00:00:00 |   -57.3048  |\n",
      "| 2019-09-19 00:00:00 |  -156.421   |\n",
      "| 2019-09-20 00:00:00 |  -429.538   |\n",
      "| 2019-09-21 00:00:00 |  -523.654   |\n",
      "| 2019-09-22 00:00:00 |  -210.77    |\n",
      "| 2019-09-23 00:00:00 |     7.11317 |\n",
      "| 2019-09-24 00:00:00 |  -195.003   |\n",
      "| 2019-09-25 00:00:00 |  -130.12    |\n",
      "| 2019-09-26 00:00:00 |  -370.236   |\n",
      "| 2019-09-27 00:00:00 |  -678.352   |\n",
      "| 2019-09-28 00:00:00 |  -729.469   |\n",
      "| 2019-09-29 00:00:00 |  -429.585   |\n",
      "| 2019-09-30 00:00:00 |  -273.702   |\n",
      "| 2019-10-01 00:00:00 |  -311.818   |\n",
      "| 2019-10-02 00:00:00 |  -331.935   |\n",
      "| 2019-10-03 00:00:00 |  -349.051   |\n",
      "| 2019-10-04 00:00:00 |  -269.167   |\n",
      "| 2019-10-05 00:00:00 |  -141.284   |\n",
      "| 2019-10-06 00:00:00 |    81.5999  |\n",
      "| 2019-10-07 00:00:00 |   307.483   |\n",
      "| 2019-10-08 00:00:00 |   169.367   |\n",
      "| 2019-10-09 00:00:00 |    45.2506  |\n",
      "| 2019-10-10 00:00:00 |  -158.866   |\n",
      "| 2019-10-11 00:00:00 |  -323.982   |\n",
      "| 2019-10-12 00:00:00 |  -399.099   |\n",
      "| 2019-10-13 00:00:00 |   136.785   |\n",
      "| 2019-10-14 00:00:00 |   518.669   |\n",
      "| 2019-10-15 00:00:00 |  -310.448   |\n",
      "| 2019-10-16 00:00:00 |  -307.564   |\n",
      "| 2019-10-17 00:00:00 |  -551.681   |\n",
      "| 2019-10-18 00:00:00 |  -720.797   |\n",
      "| 2019-10-19 00:00:00 |  -760.913   |\n",
      "| 2019-10-20 00:00:00 |  -446.03    |\n",
      "| 2019-10-21 00:00:00 |  -369.146   |\n",
      "| 2019-10-22 00:00:00 |  -434.263   |\n",
      "| 2019-10-23 00:00:00 |  -399.379   |\n",
      "| 2019-10-24 00:00:00 |  -643.496   |\n",
      "| 2019-10-25 00:00:00 |  -677.612   |\n",
      "| 2019-10-26 00:00:00 |  -863.728   |\n",
      "| 2019-10-27 00:00:00 |  -783.845   |\n",
      "| 2019-10-28 00:00:00 |  -817.961   |\n",
      "| 2019-10-29 00:00:00 |  -477.078   |\n",
      "| 2019-10-30 00:00:00 |  -316.194   |\n",
      "| 2019-10-31 00:00:00 |  -498.31    |\n",
      "| 2019-11-01 00:00:00 |  -617.427   |\n",
      "| 2019-11-02 00:00:00 |  -635.543   |\n",
      "| 2019-11-03 00:00:00 |  -317.66    |\n",
      "| 2019-11-04 00:00:00 |  -275.776   |\n",
      "| 2019-11-05 00:00:00 |  -332.892   |\n",
      "| 2019-11-06 00:00:00 |  -515.009   |\n",
      "| 2019-11-07 00:00:00 |  -739.125   |\n",
      "| 2019-11-08 00:00:00 |  -542.242   |\n",
      "| 2019-11-09 00:00:00 |  -417.358   |\n",
      "| 2019-11-10 00:00:00 |   200.526   |\n",
      "| 2019-11-11 00:00:00 |   696.409   |\n",
      "| 2019-11-12 00:00:00 |  -131.707   |\n",
      "| 2019-11-13 00:00:00 |  -147.824   |\n",
      "| 2019-11-14 00:00:00 |  -240.94    |\n",
      "| 2019-11-15 00:00:00 |    47.9435  |\n",
      "| 2019-11-16 00:00:00 |   -62.1729  |\n",
      "| 2019-11-17 00:00:00 |   681.711   |\n",
      "| 2019-11-18 00:00:00 |  1131.59    |\n",
      "| 2019-11-19 00:00:00 |   810.478   |\n",
      "| 2019-11-20 00:00:00 |   834.361   |\n",
      "| 2019-11-21 00:00:00 |  1281.25    |\n",
      "| 2019-11-22 00:00:00 |  1213.13    |\n",
      "| 2019-11-23 00:00:00 |   784.012   |\n",
      "| 2019-11-24 00:00:00 |  2185.9     |\n",
      "| 2019-11-25 00:00:00 |  1892.78    |\n",
      "| 2019-11-26 00:00:00 |  2036.66    |\n",
      "| 2019-11-27 00:00:00 |  1915.55    |\n",
      "| 2019-11-28 00:00:00 |  2387.43    |\n",
      "| 2019-11-29 00:00:00 |  5770.31    |\n",
      "| 2019-11-30 00:00:00 |  1612.2     |\n",
      "| 2019-12-01 00:00:00 |  3374.08    |\n",
      "| 2019-12-02 00:00:00 |  3640.96    |\n",
      "| 2019-12-03 00:00:00 |  1999.85    |\n",
      "| 2019-12-04 00:00:00 |  1638.73    |\n",
      "| 2019-12-05 00:00:00 |  1532.62    |\n",
      "| 2019-12-06 00:00:00 |  1042.5     |\n",
      "| 2019-12-07 00:00:00 |   940.382   |\n",
      "| 2019-12-08 00:00:00 |  1610.27    |\n",
      "| 2019-12-09 00:00:00 |  2186.15    |\n",
      "| 2019-12-10 00:00:00 |  1704.03    |\n",
      "| 2019-12-11 00:00:00 |  1756.92    |\n",
      "| 2019-12-12 00:00:00 |  1730.8     |\n",
      "| 2019-12-13 00:00:00 |  1477.68    |\n",
      "| 2019-12-14 00:00:00 |   865.568   |\n",
      "| 2019-12-15 00:00:00 |  1600.45    |\n",
      "| 2019-12-16 00:00:00 |  1202.33    |\n",
      "| 2019-12-17 00:00:00 |   508.218   |\n",
      "+---------------------+-------------+\n",
      "Periods with most energy concentration: [384.0, 153.60000000000002, 69.81818181818183, 6.981818181818182, 59.07692307692308, 96.0, 51.2, 45.1764705882353, 30.720000000000006, 3.490909090909091]\n"
     ]
    },
    {
     "name": "stderr",
     "output_type": "stream",
     "text": [
      "/Users/ds/miniconda3/envs/tensorflow/lib/python3.10/site-packages/numpy/core/fromnumeric.py:3432: RuntimeWarning:\n",
      "\n",
      "Mean of empty slice.\n",
      "\n",
      "/Users/ds/miniconda3/envs/tensorflow/lib/python3.10/site-packages/numpy/core/_methods.py:190: RuntimeWarning:\n",
      "\n",
      "invalid value encountered in double_scalars\n",
      "\n",
      "/var/folders/8z/sc6fjw1d6w1fhzfwfqd4rnwh0000gn/T/ipykernel_63922/4086267744.py:207: RuntimeWarning:\n",
      "\n",
      "divide by zero encountered in divide\n",
      "\n",
      "/var/folders/8z/sc6fjw1d6w1fhzfwfqd4rnwh0000gn/T/ipykernel_63922/4086267744.py:218: UserWarning:\n",
      "\n",
      "Attempt to set non-positive xlim on a log-scaled axis will be ignored.\n",
      "\n"
     ]
    },
    {
     "data": {
      "image/png": "[encoded data removed]",
      "text/plain": [
       "<Figure size 1200x800 with 1 Axes>"
      ]
     },
     "metadata": {},
     "output_type": "display_data"
    },
    {
     "name": "stdout",
     "output_type": "stream",
     "text": [
      "+---------------------+-------------+-----------------+-----------------+----------------+---------------+----------------+----------------+----------------+----------------+----------------+---------------+\n",
      "|                     |    quantity |   period_384.00 |   period_153.60 |   period_69.82 |   period_6.98 |   period_59.08 |   period_96.00 |   period_51.20 |   period_45.18 |   period_30.72 |   period_3.49 |\n",
      "|                     |     float64 |           int64 |           int64 |          int64 |         int64 |          int64 |          int64 |          int64 |          int64 |          int64 |         int64 |\n",
      "|                     |      NaN: 0 |          NaN: 0 |          NaN: 0 |         NaN: 0 |        NaN: 0 |         NaN: 0 |         NaN: 0 |         NaN: 0 |         NaN: 0 |         NaN: 0 |        NaN: 0 |\n",
      "|---------------------+-------------+-----------------+-----------------+----------------+---------------+----------------+----------------+----------------+----------------+----------------+---------------|\n",
      "| 2019-06-01 00:00:00 | -1033.62    |               1 |               1 |              1 |             1 |              1 |              1 |              1 |              1 |              1 |             1 |\n",
      "| 2019-06-02 00:00:00 | -1185.73    |               2 |               2 |              2 |             2 |              2 |              2 |              2 |              2 |              2 |             2 |\n",
      "| 2019-06-03 00:00:00 | -1157.85    |               3 |               3 |              3 |             3 |              3 |              3 |              3 |              3 |              3 |             3 |\n",
      "| 2019-06-04 00:00:00 |  1386.03    |               4 |               4 |              4 |             4 |              4 |              4 |              4 |              4 |              4 |             4 |\n",
      "| 2019-06-05 00:00:00 |  1386.92    |               5 |               5 |              5 |             5 |              5 |              5 |              5 |              5 |              5 |             2 |\n",
      "| 2019-06-06 00:00:00 |  -403.198   |               6 |               6 |              6 |             6 |              6 |              6 |              6 |              6 |              6 |             3 |\n",
      "| 2019-06-07 00:00:00 |  -740.315   |               7 |               7 |              7 |             7 |              7 |              7 |              7 |              7 |              7 |             4 |\n",
      "| 2019-06-08 00:00:00 | -1200.43    |               8 |               8 |              8 |             1 |              8 |              8 |              8 |              8 |              8 |             1 |\n",
      "| 2019-06-09 00:00:00 | -1202.55    |               9 |               9 |              9 |             2 |              9 |              9 |              9 |              9 |              9 |             2 |\n",
      "| 2019-06-10 00:00:00 |   147.336   |              10 |              10 |             10 |             3 |             10 |             10 |             10 |             10 |             10 |             3 |\n",
      "| 2019-06-11 00:00:00 |   565.22    |              11 |              11 |             11 |             4 |             11 |             11 |             11 |             11 |             11 |             4 |\n",
      "| 2019-06-12 00:00:00 |  -965.897   |              12 |              12 |             12 |             5 |             12 |             12 |             12 |             12 |             12 |             2 |\n",
      "| 2019-06-13 00:00:00 |    13.9869  |              13 |              13 |             13 |             6 |             13 |             13 |             13 |             13 |             13 |             3 |\n",
      "| 2019-06-14 00:00:00 |  -757.129   |              14 |              14 |             14 |             7 |             14 |             14 |             14 |             14 |             14 |             4 |\n",
      "| 2019-06-15 00:00:00 | -1210.25    |              15 |              15 |             15 |             1 |             15 |             15 |             15 |             15 |             15 |             1 |\n",
      "| 2019-06-16 00:00:00 | -1217.36    |              16 |              16 |             16 |             2 |             16 |             16 |             16 |             16 |             16 |             2 |\n",
      "| 2019-06-17 00:00:00 |  1935.52    |              17 |              17 |             17 |             3 |             17 |             17 |             17 |             17 |             17 |             3 |\n",
      "| 2019-06-18 00:00:00 |  -446.595   |              18 |              18 |             18 |             4 |             18 |             18 |             18 |             18 |             18 |             4 |\n",
      "| 2019-06-19 00:00:00 |  -401.712   |              19 |              19 |             19 |             5 |             19 |             19 |             19 |             19 |             19 |             2 |\n",
      "| 2019-06-20 00:00:00 |   -94.8279  |              20 |              20 |             20 |             6 |             20 |             20 |             20 |             20 |             20 |             3 |\n",
      "| 2019-06-21 00:00:00 |  -693.944   |              21 |              21 |             21 |             7 |             21 |             21 |             21 |             21 |             21 |             4 |\n",
      "| 2019-06-22 00:00:00 |  -641.061   |              22 |              22 |             22 |             1 |             22 |             22 |             22 |             22 |             22 |             1 |\n",
      "| 2019-06-23 00:00:00 |  -384.177   |              23 |              23 |             23 |             2 |             23 |             23 |             23 |             23 |             23 |             2 |\n",
      "| 2019-06-24 00:00:00 |  -321.294   |              24 |              24 |             24 |             3 |             24 |             24 |             24 |             24 |             24 |             3 |\n",
      "| 2019-06-25 00:00:00 |  -384.41    |              25 |              25 |             25 |             4 |             25 |             25 |             25 |             25 |             25 |             4 |\n",
      "| 2019-06-26 00:00:00 |  -358.526   |              26 |              26 |             26 |             5 |             26 |             26 |             26 |             26 |             26 |             2 |\n",
      "| 2019-06-27 00:00:00 |  -469.643   |              27 |              27 |             27 |             6 |             27 |             27 |             27 |             27 |             27 |             3 |\n",
      "| 2019-06-28 00:00:00 |  -600.759   |              28 |              28 |             28 |             7 |             28 |             28 |             28 |             28 |             28 |             4 |\n",
      "| 2019-06-29 00:00:00 |  -707.876   |              29 |              29 |             29 |             1 |             29 |             29 |             29 |             29 |             29 |             1 |\n",
      "| 2019-06-30 00:00:00 |  -434.992   |              30 |              30 |             30 |             2 |             30 |             30 |             30 |             30 |             30 |             2 |\n",
      "| 2019-07-01 00:00:00 |    36.8916  |              31 |              31 |             31 |             3 |             31 |             31 |             31 |             31 |             31 |             3 |\n",
      "| 2019-07-02 00:00:00 |     5.77514 |              32 |              32 |             32 |             4 |             32 |             32 |             32 |             32 |              1 |             4 |\n",
      "| 2019-07-03 00:00:00 |   105.659   |              33 |              33 |             33 |             5 |             33 |             33 |             33 |             33 |              2 |             2 |\n",
      "| 2019-07-04 00:00:00 |    40.5423  |              34 |              34 |             34 |             6 |             34 |             34 |             34 |             34 |              3 |             3 |\n",
      "| 2019-07-05 00:00:00 |  -103.574   |              35 |              35 |             35 |             7 |             35 |             35 |             35 |             35 |              4 |             4 |\n",
      "| 2019-07-06 00:00:00 |  -373.69    |              36 |              36 |             36 |             1 |             36 |             36 |             36 |             36 |              5 |             1 |\n",
      "| 2019-07-07 00:00:00 |   116.193   |              37 |              37 |             37 |             2 |             37 |             37 |             37 |             37 |              6 |             2 |\n",
      "| 2019-07-08 00:00:00 |   804.077   |              38 |              38 |             38 |             3 |             38 |             38 |             38 |             38 |              7 |             3 |\n",
      "| 2019-07-09 00:00:00 |    92.9603  |              39 |              39 |             39 |             4 |             39 |             39 |             39 |             39 |              8 |             4 |\n",
      "| 2019-07-10 00:00:00 |   187.844   |              40 |              40 |             40 |             5 |             40 |             40 |             40 |             40 |              9 |             2 |\n",
      "| 2019-07-11 00:00:00 |   134.727   |              41 |              41 |             41 |             6 |             41 |             41 |             41 |             41 |             10 |             3 |\n",
      "| 2019-07-12 00:00:00 |   -18.389   |              42 |              42 |             42 |             7 |             42 |             42 |             42 |             42 |             11 |             4 |\n",
      "| 2019-07-13 00:00:00 |  -202.505   |              43 |              43 |             43 |             1 |             43 |             43 |             43 |             43 |             12 |             1 |\n",
      "| 2019-07-14 00:00:00 |   -50.6218  |              44 |              44 |             44 |             2 |             44 |             44 |             44 |             44 |             13 |             2 |\n",
      "| 2019-07-15 00:00:00 |   320.262   |              45 |              45 |             45 |             3 |             45 |             45 |             45 |             45 |             14 |             3 |\n",
      "| 2019-07-16 00:00:00 |   225.145   |              46 |              46 |             46 |             4 |             46 |             46 |             46 |             46 |             15 |             4 |\n",
      "| 2019-07-17 00:00:00 |    55.029   |              47 |              47 |             47 |             5 |             47 |             47 |             47 |              2 |             16 |             2 |\n",
      "| 2019-07-18 00:00:00 |   -12.0874  |              48 |              48 |             48 |             6 |             48 |             48 |             48 |              3 |             17 |             3 |\n",
      "| 2019-07-19 00:00:00 |  -211.204   |              49 |              49 |             49 |             7 |             49 |             49 |             49 |              4 |             18 |             4 |\n",
      "| 2019-07-20 00:00:00 |  -585.32    |              50 |              50 |             50 |             1 |             50 |             50 |             50 |              5 |             19 |             1 |\n",
      "| 2019-07-21 00:00:00 |  -105.437   |              51 |              51 |             51 |             2 |             51 |             51 |             51 |              6 |             20 |             2 |\n",
      "| 2019-07-22 00:00:00 |    86.447   |              52 |              52 |             52 |             3 |             52 |             52 |             52 |              7 |             21 |             3 |\n",
      "| 2019-07-23 00:00:00 |   132.331   |              53 |              53 |             53 |             4 |             53 |             53 |              2 |              8 |             22 |             4 |\n",
      "| 2019-07-24 00:00:00 |   -46.7859  |              54 |              54 |             54 |             5 |             54 |             54 |              3 |              9 |             23 |             2 |\n",
      "| 2019-07-25 00:00:00 |  -231.902   |              55 |              55 |             55 |             6 |             55 |             55 |              4 |             10 |             24 |             3 |\n",
      "| 2019-07-26 00:00:00 |  -333.019   |              56 |              56 |             56 |             7 |             56 |             56 |              5 |             11 |             25 |             4 |\n",
      "| 2019-07-27 00:00:00 |  -463.135   |              57 |              57 |             57 |             1 |             57 |             57 |              6 |             12 |             26 |             1 |\n",
      "| 2019-07-28 00:00:00 |  -110.251   |              58 |              58 |             58 |             2 |             58 |             58 |              7 |             13 |             27 |             2 |\n",
      "| 2019-07-29 00:00:00 |   404.632   |              59 |              59 |             59 |             3 |             59 |             59 |              8 |             14 |             28 |             3 |\n",
      "| 2019-07-30 00:00:00 |   373.516   |              60 |              60 |             60 |             4 |             60 |             60 |              9 |             15 |             29 |             4 |\n",
      "| 2019-07-31 00:00:00 |   335.399   |              61 |              61 |             61 |             5 |              2 |             61 |             10 |             16 |             30 |             2 |\n",
      "| 2019-08-01 00:00:00 |    52.2829  |              62 |              62 |             62 |             6 |              3 |             62 |             11 |             17 |             31 |             3 |\n",
      "| 2019-08-02 00:00:00 |    -3.83355 |              63 |              63 |             63 |             7 |              4 |             63 |             12 |             18 |              2 |             4 |\n",
      "| 2019-08-03 00:00:00 |  -218.95    |              64 |              64 |             64 |             1 |              5 |             64 |             13 |             19 |              3 |             1 |\n",
      "| 2019-08-04 00:00:00 |   180.934   |              65 |              65 |             65 |             2 |              6 |             65 |             14 |             20 |              4 |             2 |\n",
      "| 2019-08-05 00:00:00 |   605.817   |              66 |              66 |             66 |             3 |              7 |             66 |             15 |             21 |              5 |             3 |\n",
      "| 2019-08-06 00:00:00 |   404.701   |              67 |              67 |             67 |             4 |              8 |             67 |             16 |             22 |              6 |             4 |\n",
      "| 2019-08-07 00:00:00 |   556.584   |              68 |              68 |             68 |             5 |              9 |             68 |             17 |             23 |              7 |             2 |\n",
      "| 2019-08-08 00:00:00 |   314.468   |              69 |              69 |             69 |             6 |             10 |             69 |             18 |             24 |              8 |             3 |\n",
      "| 2019-08-09 00:00:00 |   316.352   |              70 |              70 |             70 |             7 |             11 |             70 |             19 |             25 |              9 |             4 |\n",
      "| 2019-08-10 00:00:00 |    98.2352  |              71 |              71 |              1 |             1 |             12 |             71 |             20 |             26 |             10 |             1 |\n",
      "| 2019-08-11 00:00:00 |   276.119   |              72 |              72 |              2 |             2 |             13 |             72 |             21 |             27 |             11 |             2 |\n",
      "| 2019-08-12 00:00:00 |   964.002   |              73 |              73 |              3 |             3 |             14 |             73 |             22 |             28 |             12 |             3 |\n",
      "| 2019-08-13 00:00:00 |   778.886   |              74 |              74 |              4 |             4 |             15 |             74 |             23 |             29 |             13 |             4 |\n",
      "| 2019-08-14 00:00:00 |   631.77    |              75 |              75 |              5 |             5 |             16 |             75 |             24 |             30 |             14 |             2 |\n",
      "| 2019-08-15 00:00:00 |   302.653   |              76 |              76 |              6 |             6 |             17 |             76 |             25 |             31 |             15 |             3 |\n",
      "| 2019-08-16 00:00:00 |   101.537   |              77 |              77 |              7 |             7 |             18 |             77 |             26 |             32 |             16 |             4 |\n",
      "| 2019-08-17 00:00:00 |  -162.58    |              78 |              78 |              8 |             1 |             19 |             78 |             27 |             33 |             17 |             1 |\n",
      "| 2019-08-18 00:00:00 |     5.30391 |              79 |              79 |              9 |             2 |             20 |             79 |             28 |             34 |             18 |             2 |\n",
      "| 2019-08-19 00:00:00 |   542.187   |              80 |              80 |             10 |             3 |             21 |             80 |             29 |             35 |             19 |             3 |\n",
      "| 2019-08-20 00:00:00 |   258.071   |              81 |              81 |             11 |             4 |             22 |             81 |             30 |             36 |             20 |             4 |\n",
      "| 2019-08-21 00:00:00 |   307.955   |              82 |              82 |             12 |             5 |             23 |             82 |             31 |             37 |             21 |             2 |\n",
      "| 2019-08-22 00:00:00 |   255.838   |              83 |              83 |             13 |             6 |             24 |             83 |             32 |             38 |             22 |             3 |\n",
      "| 2019-08-23 00:00:00 |   -81.2781  |              84 |              84 |             14 |             7 |             25 |             84 |             33 |             39 |             23 |             4 |\n",
      "| 2019-08-24 00:00:00 |  -387.395   |              85 |              85 |             15 |             1 |             26 |             85 |             34 |             40 |             24 |             1 |\n",
      "| 2019-08-25 00:00:00 |   150.489   |              86 |              86 |             16 |             2 |             27 |             86 |             35 |             41 |             25 |             2 |\n",
      "| 2019-08-26 00:00:00 |   276.373   |              87 |              87 |             17 |             3 |             28 |             87 |             36 |             42 |             26 |             3 |\n",
      "| 2019-08-27 00:00:00 |   262.256   |              88 |              88 |             18 |             4 |             29 |             88 |             37 |             43 |             27 |             4 |\n",
      "| 2019-08-28 00:00:00 |   210.14    |              89 |              89 |             19 |             5 |             30 |             89 |             38 |             44 |             28 |             2 |\n",
      "| 2019-08-29 00:00:00 |   406.023   |              90 |              90 |             20 |             6 |             31 |             90 |             39 |             45 |             29 |             3 |\n",
      "| 2019-08-30 00:00:00 |   154.907   |              91 |              91 |             21 |             7 |             32 |             91 |             40 |             46 |             30 |             4 |\n",
      "| 2019-08-31 00:00:00 |    27.7906  |              92 |              92 |             22 |             1 |             33 |             92 |             41 |              2 |             31 |             1 |\n",
      "| 2019-09-01 00:00:00 |   759.674   |              93 |              93 |             23 |             2 |             34 |             93 |             42 |              3 |             32 |             2 |\n",
      "| 2019-09-02 00:00:00 |  1175.56    |              94 |              94 |             24 |             3 |             35 |             94 |             43 |              4 |              2 |             3 |\n",
      "| 2019-09-03 00:00:00 |   643.441   |              95 |              95 |             25 |             4 |             36 |             95 |             44 |              5 |              3 |             4 |\n",
      "| 2019-09-04 00:00:00 |   317.325   |              96 |              96 |             26 |             5 |             37 |             96 |             45 |              6 |              4 |             2 |\n",
      "| 2019-09-05 00:00:00 |    48.2085  |              97 |              97 |             27 |             6 |             38 |              1 |             46 |              7 |              5 |             3 |\n",
      "| 2019-09-06 00:00:00 |   -44.9079  |              98 |              98 |             28 |             7 |             39 |              2 |             47 |              8 |              6 |             4 |\n",
      "| 2019-09-07 00:00:00 |  -235.024   |              99 |              99 |             29 |             1 |             40 |              3 |             48 |              9 |              7 |             1 |\n",
      "| 2019-09-08 00:00:00 |   465.859   |             100 |             100 |             30 |             2 |             41 |              4 |             49 |             10 |              8 |             2 |\n",
      "| 2019-09-09 00:00:00 |   477.743   |             101 |             101 |             31 |             3 |             42 |              5 |             50 |             11 |              9 |             3 |\n",
      "| 2019-09-10 00:00:00 |   378.626   |             102 |             102 |             32 |             4 |             43 |              6 |             51 |             12 |             10 |             4 |\n",
      "| 2019-09-11 00:00:00 |   111.51    |             103 |             103 |             33 |             5 |             44 |              7 |             52 |             13 |             11 |             2 |\n",
      "| 2019-09-12 00:00:00 |    -9.60633 |             104 |             104 |             34 |             6 |             45 |              8 |              2 |             14 |             12 |             3 |\n",
      "| 2019-09-13 00:00:00 |  -272.723   |             105 |             105 |             35 |             7 |             46 |              9 |              3 |             15 |             13 |             4 |\n",
      "| 2019-09-14 00:00:00 |  -398.839   |             106 |             106 |             36 |             1 |             47 |             10 |              4 |             16 |             14 |             1 |\n",
      "| 2019-09-15 00:00:00 |   -16.9556  |             107 |             107 |             37 |             2 |             48 |             11 |              5 |             17 |             15 |             2 |\n",
      "| 2019-09-16 00:00:00 |   204.928   |             108 |             108 |             38 |             3 |             49 |             12 |              6 |             18 |             16 |             3 |\n",
      "| 2019-09-17 00:00:00 |    -3.18837 |             109 |             109 |             39 |             4 |             50 |             13 |              7 |             19 |             17 |             4 |\n",
      "| 2019-09-18 00:00:00 |   -57.3048  |             110 |             110 |             40 |             5 |             51 |             14 |              8 |             20 |             18 |             2 |\n",
      "| 2019-09-19 00:00:00 |  -156.421   |             111 |             111 |             41 |             6 |             52 |             15 |              9 |             21 |             19 |             3 |\n",
      "| 2019-09-20 00:00:00 |  -429.538   |             112 |             112 |             42 |             7 |             53 |             16 |             10 |             22 |             20 |             4 |\n",
      "| 2019-09-21 00:00:00 |  -523.654   |             113 |             113 |             43 |             1 |             54 |             17 |             11 |             23 |             21 |             1 |\n",
      "| 2019-09-22 00:00:00 |  -210.77    |             114 |             114 |             44 |             2 |             55 |             18 |             12 |             24 |             22 |             2 |\n",
      "| 2019-09-23 00:00:00 |     7.11317 |             115 |             115 |             45 |             3 |             56 |             19 |             13 |             25 |             23 |             3 |\n",
      "| 2019-09-24 00:00:00 |  -195.003   |             116 |             116 |             46 |             4 |             57 |             20 |             14 |             26 |             24 |             4 |\n",
      "| 2019-09-25 00:00:00 |  -130.12    |             117 |             117 |             47 |             5 |             58 |             21 |             15 |             27 |             25 |             2 |\n",
      "| 2019-09-26 00:00:00 |  -370.236   |             118 |             118 |             48 |             6 |             59 |             22 |             16 |             28 |             26 |             3 |\n",
      "| 2019-09-27 00:00:00 |  -678.352   |             119 |             119 |             49 |             7 |             60 |             23 |             17 |             29 |             27 |             4 |\n",
      "| 2019-09-28 00:00:00 |  -729.469   |             120 |             120 |             50 |             1 |              2 |             24 |             18 |             30 |             28 |             1 |\n",
      "| 2019-09-29 00:00:00 |  -429.585   |             121 |             121 |             51 |             2 |              3 |             25 |             19 |             31 |             29 |             2 |\n",
      "| 2019-09-30 00:00:00 |  -273.702   |             122 |             122 |             52 |             3 |              4 |             26 |             20 |             32 |             30 |             3 |\n",
      "| 2019-10-01 00:00:00 |  -311.818   |             123 |             123 |             53 |             4 |              5 |             27 |             21 |             33 |             31 |             4 |\n",
      "| 2019-10-02 00:00:00 |  -331.935   |             124 |             124 |             54 |             5 |              6 |             28 |             22 |             34 |              1 |             2 |\n",
      "| 2019-10-03 00:00:00 |  -349.051   |             125 |             125 |             55 |             6 |              7 |             29 |             23 |             35 |              2 |             3 |\n",
      "| 2019-10-04 00:00:00 |  -269.167   |             126 |             126 |             56 |             7 |              8 |             30 |             24 |             36 |              3 |             4 |\n",
      "| 2019-10-05 00:00:00 |  -141.284   |             127 |             127 |             57 |             1 |              9 |             31 |             25 |             37 |              4 |             1 |\n",
      "| 2019-10-06 00:00:00 |    81.5999  |             128 |             128 |             58 |             2 |             10 |             32 |             26 |             38 |              5 |             2 |\n",
      "| 2019-10-07 00:00:00 |   307.483   |             129 |             129 |             59 |             3 |             11 |             33 |             27 |             39 |              6 |             3 |\n",
      "| 2019-10-08 00:00:00 |   169.367   |             130 |             130 |             60 |             4 |             12 |             34 |             28 |             40 |              7 |             4 |\n",
      "| 2019-10-09 00:00:00 |    45.2506  |             131 |             131 |             61 |             5 |             13 |             35 |             29 |             41 |              8 |             2 |\n",
      "| 2019-10-10 00:00:00 |  -158.866   |             132 |             132 |             62 |             6 |             14 |             36 |             30 |             42 |              9 |             3 |\n",
      "| 2019-10-11 00:00:00 |  -323.982   |             133 |             133 |             63 |             7 |             15 |             37 |             31 |             43 |             10 |             4 |\n",
      "| 2019-10-12 00:00:00 |  -399.099   |             134 |             134 |             64 |             1 |             16 |             38 |             32 |             44 |             11 |             1 |\n",
      "| 2019-10-13 00:00:00 |   136.785   |             135 |             135 |             65 |             2 |             17 |             39 |             33 |             45 |             12 |             2 |\n",
      "| 2019-10-14 00:00:00 |   518.669   |             136 |             136 |             66 |             3 |             18 |             40 |             34 |             46 |             13 |             3 |\n",
      "| 2019-10-15 00:00:00 |  -310.448   |             137 |             137 |             67 |             4 |             19 |             41 |             35 |              1 |             14 |             4 |\n",
      "| 2019-10-16 00:00:00 |  -307.564   |             138 |             138 |             68 |             5 |             20 |             42 |             36 |              2 |             15 |             2 |\n",
      "| 2019-10-17 00:00:00 |  -551.681   |             139 |             139 |             69 |             6 |             21 |             43 |             37 |              3 |             16 |             3 |\n",
      "| 2019-10-18 00:00:00 |  -720.797   |             140 |             140 |             70 |             7 |             22 |             44 |             38 |              4 |             17 |             4 |\n",
      "| 2019-10-19 00:00:00 |  -760.913   |             141 |             141 |              1 |             1 |             23 |             45 |             39 |              5 |             18 |             1 |\n",
      "| 2019-10-20 00:00:00 |  -446.03    |             142 |             142 |              2 |             2 |             24 |             46 |             40 |              6 |             19 |             2 |\n",
      "| 2019-10-21 00:00:00 |  -369.146   |             143 |             143 |              3 |             3 |             25 |             47 |             41 |              7 |             20 |             3 |\n",
      "| 2019-10-22 00:00:00 |  -434.263   |             144 |             144 |              4 |             4 |             26 |             48 |             42 |              8 |             21 |             4 |\n",
      "| 2019-10-23 00:00:00 |  -399.379   |             145 |             145 |              5 |             5 |             27 |             49 |             43 |              9 |             22 |             2 |\n",
      "| 2019-10-24 00:00:00 |  -643.496   |             146 |             146 |              6 |             6 |             28 |             50 |             44 |             10 |             23 |             3 |\n",
      "| 2019-10-25 00:00:00 |  -677.612   |             147 |             147 |              7 |             7 |             29 |             51 |             45 |             11 |             24 |             4 |\n",
      "| 2019-10-26 00:00:00 |  -863.728   |             148 |             148 |              8 |             1 |             30 |             52 |             46 |             12 |             25 |             1 |\n",
      "| 2019-10-27 00:00:00 |  -783.845   |             149 |             149 |              9 |             2 |             31 |             53 |             47 |             13 |             26 |             2 |\n",
      "| 2019-10-28 00:00:00 |  -817.961   |             150 |             150 |             10 |             3 |             32 |             54 |             48 |             14 |             27 |             3 |\n",
      "| 2019-10-29 00:00:00 |  -477.078   |             151 |             151 |             11 |             4 |             33 |             55 |             49 |             15 |             28 |             4 |\n",
      "| 2019-10-30 00:00:00 |  -316.194   |             152 |             152 |             12 |             5 |             34 |             56 |             50 |             16 |             29 |             2 |\n",
      "| 2019-10-31 00:00:00 |  -498.31    |             153 |             153 |             13 |             6 |             35 |             57 |             51 |             17 |             30 |             3 |\n",
      "| 2019-11-01 00:00:00 |  -617.427   |             154 |             154 |             14 |             7 |             36 |             58 |             52 |             18 |             31 |             4 |\n",
      "| 2019-11-02 00:00:00 |  -635.543   |             155 |               1 |             15 |             1 |             37 |             59 |              1 |             19 |              1 |             1 |\n",
      "| 2019-11-03 00:00:00 |  -317.66    |             156 |               2 |             16 |             2 |             38 |             60 |              2 |             20 |              2 |             2 |\n",
      "| 2019-11-04 00:00:00 |  -275.776   |             157 |               3 |             17 |             3 |             39 |             61 |              3 |             21 |              3 |             3 |\n",
      "| 2019-11-05 00:00:00 |  -332.892   |             158 |               4 |             18 |             4 |             40 |             62 |              4 |             22 |              4 |             4 |\n",
      "| 2019-11-06 00:00:00 |  -515.009   |             159 |               5 |             19 |             5 |             41 |             63 |              5 |             23 |              5 |             2 |\n",
      "| 2019-11-07 00:00:00 |  -739.125   |             160 |               6 |             20 |             6 |             42 |             64 |              6 |             24 |              6 |             3 |\n",
      "| 2019-11-08 00:00:00 |  -542.242   |             161 |               7 |             21 |             7 |             43 |             65 |              7 |             25 |              7 |             4 |\n",
      "| 2019-11-09 00:00:00 |  -417.358   |             162 |               8 |             22 |             1 |             44 |             66 |              8 |             26 |              8 |             1 |\n",
      "| 2019-11-10 00:00:00 |   200.526   |             163 |               9 |             23 |             2 |             45 |             67 |              9 |             27 |              9 |             2 |\n",
      "| 2019-11-11 00:00:00 |   696.409   |             164 |              10 |             24 |             3 |             46 |             68 |             10 |             28 |             10 |             3 |\n",
      "| 2019-11-12 00:00:00 |  -131.707   |             165 |              11 |             25 |             4 |             47 |             69 |             11 |             29 |             11 |             4 |\n",
      "| 2019-11-13 00:00:00 |  -147.824   |             166 |              12 |             26 |             5 |             48 |             70 |             12 |             30 |             12 |             2 |\n",
      "| 2019-11-14 00:00:00 |  -240.94    |             167 |              13 |             27 |             6 |             49 |             71 |             13 |             31 |             13 |             3 |\n",
      "| 2019-11-15 00:00:00 |    47.9435  |             168 |              14 |             28 |             7 |             50 |             72 |             14 |             32 |             14 |             4 |\n",
      "| 2019-11-16 00:00:00 |   -62.1729  |             169 |              15 |             29 |             1 |             51 |             73 |             15 |             33 |             15 |             1 |\n",
      "| 2019-11-17 00:00:00 |   681.711   |             170 |              16 |             30 |             2 |             52 |             74 |             16 |             34 |             16 |             2 |\n",
      "| 2019-11-18 00:00:00 |  1131.59    |             171 |              17 |             31 |             3 |             53 |             75 |             17 |             35 |             17 |             3 |\n",
      "| 2019-11-19 00:00:00 |   810.478   |             172 |              18 |             32 |             4 |             54 |             76 |             18 |             36 |             18 |             4 |\n",
      "| 2019-11-20 00:00:00 |   834.361   |             173 |              19 |             33 |             5 |             55 |             77 |             19 |             37 |             19 |             2 |\n",
      "| 2019-11-21 00:00:00 |  1281.25    |             174 |              20 |             34 |             6 |             56 |             78 |             20 |             38 |             20 |             3 |\n",
      "| 2019-11-22 00:00:00 |  1213.13    |             175 |              21 |             35 |             7 |             57 |             79 |             21 |             39 |             21 |             4 |\n",
      "| 2019-11-23 00:00:00 |   784.012   |             176 |              22 |             36 |             1 |             58 |             80 |             22 |             40 |             22 |             1 |\n",
      "| 2019-11-24 00:00:00 |  2185.9     |             177 |              23 |             37 |             2 |             59 |             81 |             23 |             41 |             23 |             2 |\n",
      "| 2019-11-25 00:00:00 |  1892.78    |             178 |              24 |             38 |             3 |             60 |             82 |             24 |             42 |             24 |             3 |\n",
      "| 2019-11-26 00:00:00 |  2036.66    |             179 |              25 |             39 |             4 |              2 |             83 |             25 |             43 |             25 |             4 |\n",
      "| 2019-11-27 00:00:00 |  1915.55    |             180 |              26 |             40 |             5 |              3 |             84 |             26 |             44 |             26 |             2 |\n",
      "| 2019-11-28 00:00:00 |  2387.43    |             181 |              27 |             41 |             6 |              4 |             85 |             27 |             45 |             27 |             3 |\n",
      "| 2019-11-29 00:00:00 |  5770.31    |             182 |              28 |             42 |             7 |              5 |             86 |             28 |              1 |             28 |             4 |\n",
      "| 2019-11-30 00:00:00 |  1612.2     |             183 |              29 |             43 |             1 |              6 |             87 |             29 |              2 |             29 |             1 |\n",
      "| 2019-12-01 00:00:00 |  3374.08    |             184 |              30 |             44 |             2 |              7 |             88 |             30 |              3 |             30 |             2 |\n",
      "| 2019-12-02 00:00:00 |  3640.96    |             185 |              31 |             45 |             3 |              8 |             89 |             31 |              4 |             31 |             3 |\n",
      "| 2019-12-03 00:00:00 |  1999.85    |             186 |              32 |             46 |             4 |              9 |             90 |             32 |              5 |              2 |             4 |\n",
      "| 2019-12-04 00:00:00 |  1638.73    |             187 |              33 |             47 |             5 |             10 |             91 |             33 |              6 |              3 |             2 |\n",
      "| 2019-12-05 00:00:00 |  1532.62    |             188 |              34 |             48 |             6 |             11 |             92 |             34 |              7 |              4 |             3 |\n",
      "| 2019-12-06 00:00:00 |  1042.5     |             189 |              35 |             49 |             7 |             12 |             93 |             35 |              8 |              5 |             4 |\n",
      "| 2019-12-07 00:00:00 |   940.382   |             190 |              36 |             50 |             1 |             13 |             94 |             36 |              9 |              6 |             1 |\n",
      "| 2019-12-08 00:00:00 |  1610.27    |             191 |              37 |             51 |             2 |             14 |             95 |             37 |             10 |              7 |             2 |\n",
      "| 2019-12-09 00:00:00 |  2186.15    |             192 |              38 |             52 |             3 |             15 |             96 |             38 |             11 |              8 |             3 |\n",
      "| 2019-12-10 00:00:00 |  1704.03    |             193 |              39 |             53 |             4 |             16 |              1 |             39 |             12 |              9 |             4 |\n",
      "| 2019-12-11 00:00:00 |  1756.92    |             194 |              40 |             54 |             5 |             17 |              2 |             40 |             13 |             10 |             2 |\n",
      "| 2019-12-12 00:00:00 |  1730.8     |             195 |              41 |             55 |             6 |             18 |              3 |             41 |             14 |             11 |             3 |\n",
      "| 2019-12-13 00:00:00 |  1477.68    |             196 |              42 |             56 |             7 |             19 |              4 |             42 |             15 |             12 |             4 |\n",
      "| 2019-12-14 00:00:00 |   865.568   |             197 |              43 |             57 |             2 |             20 |              5 |             43 |             16 |             13 |             2 |\n",
      "| 2019-12-15 00:00:00 |  1600.45    |             198 |              44 |             58 |             3 |             21 |              6 |             44 |             17 |             14 |             3 |\n",
      "| 2019-12-16 00:00:00 |  1202.33    |             199 |              45 |             59 |             4 |             22 |              7 |             45 |             18 |             15 |             4 |\n",
      "| 2019-12-17 00:00:00 |   508.218   |             200 |              46 |             60 |             5 |             23 |              8 |             46 |             19 |             16 |             1 |\n",
      "+---------------------+-------------+-----------------+-----------------+----------------+---------------+----------------+----------------+----------------+----------------+----------------+---------------+\n"
     ]
    },
    {
     "data": {
      "text/plain": [
       "(768, 11)"
      ]
     },
     "execution_count": 56,
     "metadata": {},
     "output_type": "execute_result"
    },
    {
     "data": {
      "text/html": [
       "<div>\n",
       "<style scoped>\n",
       "    .dataframe tbody tr th:only-of-type {\n",
       "        vertical-align: middle;\n",
       "    }\n",
       "\n",
       "    .dataframe tbody tr th {\n",
       "        vertical-align: top;\n",
       "    }\n",
       "\n",
       "    .dataframe thead th {\n",
       "        text-align: right;\n",
       "    }\n",
       "</style>\n",
       "<table border=\"1\" class=\"dataframe\">\n",
       "  <thead>\n",
       "    <tr style=\"text-align: right;\">\n",
       "      <th></th>\n",
       "      <th>quantity</th>\n",
       "      <th>period_384.00</th>\n",
       "      <th>period_153.60</th>\n",
       "      <th>period_69.82</th>\n",
       "      <th>period_6.98</th>\n",
       "      <th>period_59.08</th>\n",
       "      <th>period_96.00</th>\n",
       "      <th>period_51.20</th>\n",
       "      <th>period_45.18</th>\n",
       "      <th>period_30.72</th>\n",
       "      <th>period_3.49</th>\n",
       "    </tr>\n",
       "  </thead>\n",
       "  <tbody>\n",
       "    <tr>\n",
       "      <th>2019-06-01</th>\n",
       "      <td>-1033.616172</td>\n",
       "      <td>1</td>\n",
       "      <td>1</td>\n",
       "      <td>1</td>\n",
       "      <td>1</td>\n",
       "      <td>1</td>\n",
       "      <td>1</td>\n",
       "      <td>1</td>\n",
       "      <td>1</td>\n",
       "      <td>1</td>\n",
       "      <td>1</td>\n",
       "    </tr>\n",
       "    <tr>\n",
       "      <th>2019-06-02</th>\n",
       "      <td>-1185.732581</td>\n",
       "      <td>2</td>\n",
       "      <td>2</td>\n",
       "      <td>2</td>\n",
       "      <td>2</td>\n",
       "      <td>2</td>\n",
       "      <td>2</td>\n",
       "      <td>2</td>\n",
       "      <td>2</td>\n",
       "      <td>2</td>\n",
       "      <td>2</td>\n",
       "    </tr>\n",
       "    <tr>\n",
       "      <th>2019-06-03</th>\n",
       "      <td>-1157.848991</td>\n",
       "      <td>3</td>\n",
       "      <td>3</td>\n",
       "      <td>3</td>\n",
       "      <td>3</td>\n",
       "      <td>3</td>\n",
       "      <td>3</td>\n",
       "      <td>3</td>\n",
       "      <td>3</td>\n",
       "      <td>3</td>\n",
       "      <td>3</td>\n",
       "    </tr>\n",
       "    <tr>\n",
       "      <th>2019-06-04</th>\n",
       "      <td>1386.034600</td>\n",
       "      <td>4</td>\n",
       "      <td>4</td>\n",
       "      <td>4</td>\n",
       "      <td>4</td>\n",
       "      <td>4</td>\n",
       "      <td>4</td>\n",
       "      <td>4</td>\n",
       "      <td>4</td>\n",
       "      <td>4</td>\n",
       "      <td>4</td>\n",
       "    </tr>\n",
       "    <tr>\n",
       "      <th>2019-06-05</th>\n",
       "      <td>1386.918191</td>\n",
       "      <td>5</td>\n",
       "      <td>5</td>\n",
       "      <td>5</td>\n",
       "      <td>5</td>\n",
       "      <td>5</td>\n",
       "      <td>5</td>\n",
       "      <td>5</td>\n",
       "      <td>5</td>\n",
       "      <td>5</td>\n",
       "      <td>2</td>\n",
       "    </tr>\n",
       "  </tbody>\n",
       "</table>\n",
       "</div>"
      ],
      "text/plain": [
       "               quantity  period_384.00  period_153.60  period_69.82   \n",
       "2019-06-01 -1033.616172              1              1             1  \\\n",
       "2019-06-02 -1185.732581              2              2             2   \n",
       "2019-06-03 -1157.848991              3              3             3   \n",
       "2019-06-04  1386.034600              4              4             4   \n",
       "2019-06-05  1386.918191              5              5             5   \n",
       "\n",
       "            period_6.98  period_59.08  period_96.00  period_51.20   \n",
       "2019-06-01            1             1             1             1  \\\n",
       "2019-06-02            2             2             2             2   \n",
       "2019-06-03            3             3             3             3   \n",
       "2019-06-04            4             4             4             4   \n",
       "2019-06-05            5             5             5             5   \n",
       "\n",
       "            period_45.18  period_30.72  period_3.49  \n",
       "2019-06-01             1             1            1  \n",
       "2019-06-02             2             2            2  \n",
       "2019-06-03             3             3            3  \n",
       "2019-06-04             4             4            4  \n",
       "2019-06-05             5             5            2  "
      ]
     },
     "execution_count": 56,
     "metadata": {},
     "output_type": "execute_result"
    },
    {
     "data": {
      "text/html": [
       "<div>\n",
       "<style scoped>\n",
       "    .dataframe tbody tr th:only-of-type {\n",
       "        vertical-align: middle;\n",
       "    }\n",
       "\n",
       "    .dataframe tbody tr th {\n",
       "        vertical-align: top;\n",
       "    }\n",
       "\n",
       "    .dataframe thead th {\n",
       "        text-align: right;\n",
       "    }\n",
       "</style>\n",
       "<table border=\"1\" class=\"dataframe\">\n",
       "  <thead>\n",
       "    <tr style=\"text-align: right;\">\n",
       "      <th></th>\n",
       "      <th>quantity</th>\n",
       "      <th>period_384.00</th>\n",
       "      <th>period_153.60</th>\n",
       "      <th>period_69.82</th>\n",
       "      <th>period_6.98</th>\n",
       "      <th>period_59.08</th>\n",
       "      <th>period_96.00</th>\n",
       "      <th>period_51.20</th>\n",
       "      <th>period_45.18</th>\n",
       "      <th>period_30.72</th>\n",
       "      <th>period_3.49</th>\n",
       "    </tr>\n",
       "  </thead>\n",
       "  <tbody>\n",
       "    <tr>\n",
       "      <th>2021-07-03</th>\n",
       "      <td>-1465.436434</td>\n",
       "      <td>380</td>\n",
       "      <td>150</td>\n",
       "      <td>66</td>\n",
       "      <td>3</td>\n",
       "      <td>55</td>\n",
       "      <td>92</td>\n",
       "      <td>47</td>\n",
       "      <td>41</td>\n",
       "      <td>27</td>\n",
       "      <td>3</td>\n",
       "    </tr>\n",
       "    <tr>\n",
       "      <th>2021-07-04</th>\n",
       "      <td>-1040.552843</td>\n",
       "      <td>381</td>\n",
       "      <td>151</td>\n",
       "      <td>67</td>\n",
       "      <td>4</td>\n",
       "      <td>56</td>\n",
       "      <td>93</td>\n",
       "      <td>48</td>\n",
       "      <td>42</td>\n",
       "      <td>28</td>\n",
       "      <td>4</td>\n",
       "    </tr>\n",
       "    <tr>\n",
       "      <th>2021-07-05</th>\n",
       "      <td>-858.669253</td>\n",
       "      <td>382</td>\n",
       "      <td>152</td>\n",
       "      <td>68</td>\n",
       "      <td>5</td>\n",
       "      <td>57</td>\n",
       "      <td>94</td>\n",
       "      <td>49</td>\n",
       "      <td>43</td>\n",
       "      <td>29</td>\n",
       "      <td>1</td>\n",
       "    </tr>\n",
       "    <tr>\n",
       "      <th>2021-07-06</th>\n",
       "      <td>-827.785662</td>\n",
       "      <td>383</td>\n",
       "      <td>153</td>\n",
       "      <td>69</td>\n",
       "      <td>6</td>\n",
       "      <td>58</td>\n",
       "      <td>95</td>\n",
       "      <td>50</td>\n",
       "      <td>44</td>\n",
       "      <td>30</td>\n",
       "      <td>2</td>\n",
       "    </tr>\n",
       "    <tr>\n",
       "      <th>2021-07-07</th>\n",
       "      <td>-793.902071</td>\n",
       "      <td>384</td>\n",
       "      <td>154</td>\n",
       "      <td>70</td>\n",
       "      <td>7</td>\n",
       "      <td>59</td>\n",
       "      <td>96</td>\n",
       "      <td>51</td>\n",
       "      <td>45</td>\n",
       "      <td>31</td>\n",
       "      <td>3</td>\n",
       "    </tr>\n",
       "  </tbody>\n",
       "</table>\n",
       "</div>"
      ],
      "text/plain": [
       "               quantity  period_384.00  period_153.60  period_69.82   \n",
       "2021-07-03 -1465.436434            380            150            66  \\\n",
       "2021-07-04 -1040.552843            381            151            67   \n",
       "2021-07-05  -858.669253            382            152            68   \n",
       "2021-07-06  -827.785662            383            153            69   \n",
       "2021-07-07  -793.902071            384            154            70   \n",
       "\n",
       "            period_6.98  period_59.08  period_96.00  period_51.20   \n",
       "2021-07-03            3            55            92            47  \\\n",
       "2021-07-04            4            56            93            48   \n",
       "2021-07-05            5            57            94            49   \n",
       "2021-07-06            6            58            95            50   \n",
       "2021-07-07            7            59            96            51   \n",
       "\n",
       "            period_45.18  period_30.72  period_3.49  \n",
       "2021-07-03            41            27            3  \n",
       "2021-07-04            42            28            4  \n",
       "2021-07-05            43            29            1  \n",
       "2021-07-06            44            30            2  \n",
       "2021-07-07            45            31            3  "
      ]
     },
     "execution_count": 56,
     "metadata": {},
     "output_type": "execute_result"
    },
    {
     "data": {
      "text/plain": [
       "(959, 1)"
      ]
     },
     "execution_count": 56,
     "metadata": {},
     "output_type": "execute_result"
    },
    {
     "data": {
      "text/html": [
       "<div>\n",
       "<style scoped>\n",
       "    .dataframe tbody tr th:only-of-type {\n",
       "        vertical-align: middle;\n",
       "    }\n",
       "\n",
       "    .dataframe tbody tr th {\n",
       "        vertical-align: top;\n",
       "    }\n",
       "\n",
       "    .dataframe thead th {\n",
       "        text-align: right;\n",
       "    }\n",
       "</style>\n",
       "<table border=\"1\" class=\"dataframe\">\n",
       "  <thead>\n",
       "    <tr style=\"text-align: right;\">\n",
       "      <th></th>\n",
       "      <th>quantity</th>\n",
       "    </tr>\n",
       "  </thead>\n",
       "  <tbody>\n",
       "    <tr>\n",
       "      <th>2019-06-01</th>\n",
       "      <td>1190.616172</td>\n",
       "    </tr>\n",
       "    <tr>\n",
       "      <th>2019-06-02</th>\n",
       "      <td>1192.732581</td>\n",
       "    </tr>\n",
       "    <tr>\n",
       "      <th>2019-06-03</th>\n",
       "      <td>1194.848991</td>\n",
       "    </tr>\n",
       "    <tr>\n",
       "      <th>2019-06-04</th>\n",
       "      <td>1196.965400</td>\n",
       "    </tr>\n",
       "    <tr>\n",
       "      <th>2019-06-05</th>\n",
       "      <td>1199.081809</td>\n",
       "    </tr>\n",
       "  </tbody>\n",
       "</table>\n",
       "</div>"
      ],
      "text/plain": [
       "               quantity\n",
       "2019-06-01  1190.616172\n",
       "2019-06-02  1192.732581\n",
       "2019-06-03  1194.848991\n",
       "2019-06-04  1196.965400\n",
       "2019-06-05  1199.081809"
      ]
     },
     "execution_count": 56,
     "metadata": {},
     "output_type": "execute_result"
    },
    {
     "data": {
      "text/html": [
       "<div>\n",
       "<style scoped>\n",
       "    .dataframe tbody tr th:only-of-type {\n",
       "        vertical-align: middle;\n",
       "    }\n",
       "\n",
       "    .dataframe tbody tr th {\n",
       "        vertical-align: top;\n",
       "    }\n",
       "\n",
       "    .dataframe thead th {\n",
       "        text-align: right;\n",
       "    }\n",
       "</style>\n",
       "<table border=\"1\" class=\"dataframe\">\n",
       "  <thead>\n",
       "    <tr style=\"text-align: right;\">\n",
       "      <th></th>\n",
       "      <th>quantity</th>\n",
       "    </tr>\n",
       "  </thead>\n",
       "  <tbody>\n",
       "    <tr>\n",
       "      <th>2022-01-10</th>\n",
       "      <td>3209.670602</td>\n",
       "    </tr>\n",
       "    <tr>\n",
       "      <th>2022-01-11</th>\n",
       "      <td>3211.787011</td>\n",
       "    </tr>\n",
       "    <tr>\n",
       "      <th>2022-01-12</th>\n",
       "      <td>3213.903421</td>\n",
       "    </tr>\n",
       "    <tr>\n",
       "      <th>2022-01-13</th>\n",
       "      <td>3216.019830</td>\n",
       "    </tr>\n",
       "    <tr>\n",
       "      <th>2022-01-14</th>\n",
       "      <td>3218.136239</td>\n",
       "    </tr>\n",
       "  </tbody>\n",
       "</table>\n",
       "</div>"
      ],
      "text/plain": [
       "               quantity\n",
       "2022-01-10  3209.670602\n",
       "2022-01-11  3211.787011\n",
       "2022-01-12  3213.903421\n",
       "2022-01-13  3216.019830\n",
       "2022-01-14  3218.136239"
      ]
     },
     "execution_count": 56,
     "metadata": {},
     "output_type": "execute_result"
    }
   ],
   "source": [
    "def auto_seasonality(df,truncate_date = '2021-07-07', predict_end_date='2022-01-14', trend_cycle_days=183, N=20):\n",
    "    \n",
    "    import numpy as np\n",
    "    import pandas as pd\n",
    "    import matplotlib.pyplot as plt\n",
    "    from scipy.optimize import curve_fit\n",
    "\n",
    "    # Define a function to fit a polynomial\n",
    "    def polynomial_func1(x, x0, a, b):\n",
    "        return a * (x - x0) ** 1 + b\n",
    "\n",
    "    # Define a function to fit a polynomial\n",
    "    def polynomial_func2(x, x0, a, b, c):\n",
    "        return a * (x - x0) ** 2 + b * (x - x0) + c\n",
    "\n",
    "    # Define the exponential function y = a*e^(b*(x-x0))+c\n",
    "    def exponential_func(x, x0, a, b, c):\n",
    "        return a * np.exp(b * (x - x0)) + c\n",
    "\n",
    "    # Define a function to calculate MAE and MRE\n",
    "    def calculate_errors(true_values, predicted_values):\n",
    "        abs_errors = np.abs(true_values - predicted_values)\n",
    "        mae = np.mean(abs_errors)\n",
    "        mre = np.mean(abs_errors / true_values)\n",
    "        return mae, mre\n",
    "\n",
    "    # truncate_date = '2021-07-07'\n",
    "\n",
    "    df_fft = df[df.index < truncate_date]\n",
    "\n",
    "\n",
    "    # Apply FFT to the signal\n",
    "    fft_coefficients = np.fft.fft(df_fft.quantity.values)\n",
    "\n",
    "    # Define the frequency cutoff for the low-pass filter (keep frequencies below the cutoff)\n",
    "    cutoff = 1 / trend_cycle_days\n",
    "\n",
    "    # Create a mask for frequencies below the cutoff\n",
    "    frequencies = np.fft.fftfreq(len(df_fft))\n",
    "    mask = np.abs(frequencies) <= cutoff\n",
    "\n",
    "    # Filter out the high frequencies (only keep the low frequencies)\n",
    "    filtered_fft_coefficients = fft_coefficients * mask\n",
    "\n",
    "    # Apply the inverse FFT to obtain the trend line\n",
    "    trend_line = np.fft.ifft(filtered_fft_coefficients).real\n",
    "\n",
    "    # Fit the polynomial functions (n=1, 2) and the exponential function\n",
    "    x_values = np.arange(len(trend_line))\n",
    "\n",
    "    polynomial_params1, _ = curve_fit(polynomial_func1, x_values, trend_line)\n",
    "    polynomial_fit1 = polynomial_func1(x_values, *polynomial_params1)\n",
    "\n",
    "    try:\n",
    "        polynomial_params2, _ = curve_fit(polynomial_func2, x_values, trend_line, maxfev=2000)\n",
    "        polynomial_fit2 = polynomial_func2(x_values, *polynomial_params2)\n",
    "    except RuntimeError:\n",
    "        print(\"Unable to fit the 2nd-degree polynomial function.\")\n",
    "        polynomial_fit2 = None\n",
    "\n",
    "    try:\n",
    "        exponential_params, _ = curve_fit(exponential_func, x_values, trend_line, p0=[x_values[0], 1, 0.001, 0], maxfev=2000)\n",
    "        exponential_fit = exponential_func(x_values, *exponential_params)\n",
    "    except RuntimeError:\n",
    "        print(\"Unable to fit the exponential function.\")\n",
    "        exponential_fit = None\n",
    "\n",
    "    # Calculate errors for each fitted function\n",
    "    errors = {}\n",
    "    if polynomial_fit1 is not None:\n",
    "        print(\"Polynomial (n=1) parameters:\", polynomial_params1)\n",
    "        errors['Polynomial (n=1)'] = calculate_errors(trend_line, polynomial_fit1)\n",
    "    if polynomial_fit2 is not None:\n",
    "        print(\"Polynomial (n=2) parameters:\", polynomial_params2)\n",
    "        errors['Polynomial (n=2)'] = calculate_errors(trend_line, polynomial_fit2)\n",
    "    if exponential_fit is not None:\n",
    "        print(\"Exponential parameters:\", exponential_params)\n",
    "        errors['Exponential'] = calculate_errors(trend_line, exponential_fit)\n",
    "\n",
    "    # Find the function with the lowest MAE\n",
    "    best_function = min(errors, key=lambda k: errors[k][0])\n",
    "\n",
    "    # Plot the best function\n",
    "    _ = plt.figure(figsize=(12, 6))\n",
    "    _ = plt.plot(df_fft.index, df_fft.quantity, color='grey', alpha=0.5, label='Original Data')\n",
    "    _ = plt.plot(df_fft.index, trend_line, label='Trend Line (FFT)', color='green', alpha=0.5)\n",
    "\n",
    "    if best_function == 'Polynomial (n=1)':\n",
    "        _ = plt.plot(df_fft.index, polynomial_fit1, label='Best Fit: Polynomial (n=1)', color='red', alpha=0.8, linestyle='--')\n",
    "    elif best_function == 'Polynomial (n=2)':\n",
    "        _ = plt.plot(df_fft.index, polynomial_fit2, label='Best Fit: Polynomial (n=2)', color='red', alpha=0.8, linestyle='--')\n",
    "    else:\n",
    "        _ = plt.plot(df_fft.index, exponential_fit, label='Best Fit: Exponential', color='red', alpha=0.8, linestyle='--')\n",
    "\n",
    "    _ = plt.xlabel('Date')\n",
    "    _ = plt.ylabel('Quantity')\n",
    "    _ = plt.title('Original Data, Extracted Trend Line, and Best Fitted Function')\n",
    "    _ = plt.legend()\n",
    "    _ = plt.show()\n",
    "\n",
    "    print(f\"Best function: {best_function}\")\n",
    "    print(f\"MAE: {errors[best_function][0]}, MRE: {errors[best_function][1]}\")\n",
    "\n",
    "\n",
    "\n",
    "\n",
    "    df_FE_diff = df_fft.copy()\n",
    "    # # please make new feature, which is the difference between the original date and the best fitted trend line\n",
    "\n",
    "    # # Get the best fitted trend line\n",
    "    # if best_function == 'Polynomial (n=1)':\n",
    "    #     best_fit = polynomial_fit1\n",
    "    # elif best_function == 'Polynomial (n=2)':\n",
    "    #     best_fit = polynomial_fit2\n",
    "    # else:\n",
    "    #     best_fit = exponential_fit\n",
    "\n",
    "    # # Calculate the difference between the original data and the best fitted trend line\n",
    "    # difference = df_FE_diff.quantity.values - best_fit\n",
    "\n",
    "    # # Add the difference as a new column in the DataFrame\n",
    "    # df_FE_diff['quantity'] = difference\n",
    "\n",
    "    # Create df_trend DataFrame with the same index as df but only until predict_end_date\n",
    "    df_trend = pd.DataFrame(index=pd.date_range(df_fft.index[0], predict_end_date), columns=['quantity'])\n",
    "    # print(df_trend.shape)\n",
    "    # # Add the best fitted trend line as a new column in the DataFrame\n",
    "    # df_trend['quantity']= best_fit\n",
    "\n",
    "\n",
    "\n",
    "    # Get the extended x_values for the best_fit_extended\n",
    "    extended_x_values = np.arange(len(df_trend.index))\n",
    "\n",
    "    # Calculate the best_fit_extended using the best_function parameters\n",
    "    if best_function == 'Polynomial (n=1)':\n",
    "        best_fit_extended = polynomial_func1(extended_x_values, *polynomial_params1)\n",
    "    elif best_function == 'Polynomial (n=2)':\n",
    "        best_fit_extended = polynomial_func2(extended_x_values, *polynomial_params2)\n",
    "    else:\n",
    "        best_fit_extended = exponential_func(extended_x_values, *exponential_params)\n",
    "\n",
    "    # Add the best_fit_extended as a new column in the df_trend DataFrame\n",
    "    df_trend['quantity'] = best_fit_extended\n",
    "\n",
    "    # Calculate the difference between the original data and the best_fit (up to the length of df_fft.index)\n",
    "    difference = df_FE_diff.quantity.values - best_fit_extended[:len(df_fft.index)]\n",
    "\n",
    "    # Add the difference as a new column in the df_FE_diff DataFrame\n",
    "    df_FE_diff['quantity'] = difference\n",
    "\n",
    "\n",
    "    # Display the updated DataFrame\n",
    "    print(\"\\n\\n\\ndf_FE_diff['quantity'] is like this:\\n\\n\")\n",
    "    dc.print_df_with_dtypes(df_FE_diff, max_rows=200, print_on=True, data_generated_path=DATA_GENERATED_PATH, name_extension='EDA_quantity_sum_df')\n",
    "    # convert quantity column to from time domain to frequency domain using FFT, and plot it. frequency range should be corresponding to 1 to 365.\n",
    "\n",
    "    import numpy as np\n",
    "    import matplotlib.pyplot as plt\n",
    "\n",
    "    # Apply the Fast Fourier Transform (FFT) to the quantity column\n",
    "    quantity_fft = np.fft.fft(df_FE_diff['quantity'])\n",
    "\n",
    "    # Get the frequency corresponding to each FFT coefficient\n",
    "    sample_frequency = np.fft.fftfreq(df_FE_diff.shape[0])\n",
    "\n",
    "    # Calculate the magnitude of the FFT coefficients\n",
    "    fft_magnitude = np.abs(quantity_fft)\n",
    "\n",
    "\n",
    "    from scipy.signal import find_peaks\n",
    "\n",
    "    # Find the peaks in the magnitude array\n",
    "    peaks, _ = find_peaks(fft_magnitude)\n",
    "\n",
    "    # Sort the peaks by magnitude in descending order and take the top N peaks\n",
    "    # N = 20\n",
    "    top_peaks = sorted(peaks, key=lambda i: fft_magnitude[i], reverse=True)[:N]\n",
    "\n",
    "    # Get the central frequencies corresponding to the top peaks\n",
    "    central_frequencies = sample_frequency[top_peaks]\n",
    "\n",
    "    # Filter out the negative frequencies and calculate the corresponding periods\n",
    "    positive_frequencies = central_frequencies[central_frequencies > 0]\n",
    "    corresponding_periods = 1 / positive_frequencies\n",
    "\n",
    "    # Sort periods by energy concentration in descending order\n",
    "    sorted_periods = sorted(corresponding_periods, key=lambda p: np.mean(fft_magnitude[sample_frequency == 1 / p]), reverse=True)\n",
    "\n",
    "    # Print the periods with the most energy concentration\n",
    "    print(\"Periods with most energy concentration:\", sorted_periods)\n",
    "\n",
    "    # Plot the FFT magnitudes with x-axis labeled as periods\n",
    "    _ = plt.figure(figsize=(12, 8))\n",
    "    _ = plt.plot(1 / sample_frequency[:len(sample_frequency) // 2], fft_magnitude[:len(fft_magnitude) // 2])\n",
    "    _ = plt.xlabel(\"Period (days)\")\n",
    "    _ = plt.ylabel(\"Magnitude\")\n",
    "    _ = plt.title(\"Frequency domain representation of the signal (periods)\")\n",
    "    _ = plt.xscale(\"log\")\n",
    "\n",
    "    # Highlight the periods with the most energy concentration and add vertical annotations\n",
    "    for period in sorted_periods:\n",
    "        _ = plt.axvline(x=period, color='r', alpha=0.3, linestyle='--')\n",
    "        _ = plt.annotate(f\"{period:.2f}\", xy=(period, max(fft_magnitude[:len(fft_magnitude) // 2]) * 0.5), xytext=(period, max(fft_magnitude[:len(fft_magnitude) // 2])), rotation='vertical', fontsize=10, va='top', textcoords='data')\n",
    "\n",
    "    _ = plt.xlim(1 / sample_frequency[len(sample_frequency) // 2], 1 / sample_frequency[1])  # Set the x-axis limits to exclude 0 frequency\n",
    "    _ = plt.show()\n",
    "\n",
    "    sorted_periods\n",
    "    # Calculate day_number for each row in the DataFrame\n",
    "    df_FE_diff['day_number'] = (df_FE_diff.index - df_FE_diff.index[0]).days\n",
    "\n",
    "    # Create new features based on the sorted_periods\n",
    "    for i, period in enumerate(sorted_periods):\n",
    "        feature_name = f\"period_{period:.2f}\"\n",
    "        df_FE_diff[feature_name] = df_FE_diff['day_number'].apply(lambda x: int(round(x % period +1)))\n",
    "\n",
    "    # dc.print_df_with_dtypes(df_FE_diff, max_rows=200, print_on=True, data_generated_path=DATA_GENERATED_PATH, name_extension='EDA_quantity_sum_df')\n",
    "    \n",
    "    # drop the day_number column from df_FE_diff\n",
    "    df_FE_diff.drop(columns=['day_number'], inplace=True)\n",
    "    \n",
    "    return df_FE_diff, df_trend\n",
    "\n",
    "df_FE_diff, df_trend = auto_seasonality(df_FE_1a_daily_fill, truncate_date = '2021-07-08', predict_end_date='2022-01-14', trend_cycle_days=183, N=20)\n",
    "\n",
    "dc.print_df_with_dtypes(df_FE_diff, max_rows=200, print_on=True, data_generated_path=DATA_GENERATED_PATH, name_extension='EDA_quantity_sum_df')\n",
    "\n",
    "df_FE_diff.shape\n",
    "df_FE_diff.head()\n",
    "df_FE_diff.tail()\n",
    "\n",
    "df_trend.shape\n",
    "\n",
    "df_trend.head()\n",
    "df_trend.tail()\n"
   ]
  },
  {
   "cell_type": "code",
   "execution_count": 57,
   "metadata": {},
   "outputs": [],
   "source": [
    "# save df_FE_1a_daily_fill, df_FE_diff and df_trend to csv files\n",
    "\n",
    "df_FE_diff.to_csv(DATA_GENERATED_PATH + 'df_FE_diff.csv', index=True)\n",
    "df_trend.to_csv(DATA_GENERATED_PATH + 'df_trend.csv', index=True)\n",
    "df_FE_1a_daily_fill.to_csv(DATA_GENERATED_PATH + 'df_FE_1a_daily_fill.csv', index=True)"
   ]
  },
  {
   "cell_type": "code",
   "execution_count": null,
   "metadata": {},
   "outputs": [],
   "source": []
  },
  {
   "attachments": {},
   "cell_type": "markdown",
   "metadata": {},
   "source": [
    "----\n"
   ]
  }
 ],
 "metadata": {
  "kernelspec": {
   "display_name": "tensorflow",
   "language": "python",
   "name": "python3"
  },
  "language_info": {
   "codemirror_mode": {
    "name": "ipython",
    "version": 3
   },
   "file_extension": ".py",
   "mimetype": "text/x-python",
   "name": "python",
   "nbconvert_exporter": "python",
   "pygments_lexer": "ipython3",
   "version": "3.10.10"
  },
  "orig_nbformat": 4
 },
 "nbformat": 4,
 "nbformat_minor": 2
}
